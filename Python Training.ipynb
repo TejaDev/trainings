{
 "cells": [
  {
   "cell_type": "markdown",
   "metadata": {},
   "source": [
    "# Python Training - Basic Level"
   ]
  },
  {
   "cell_type": "markdown",
   "metadata": {},
   "source": [
    "### Overview\n",
    "\n",
    "##### What is Python:\n",
    "\n",
    "- an interpreted, interactive, object-oriented programming language\n",
    "- dynamic typing, very high level dynamic data types and classes\n",
    "- very clear syntax - Python Style Guide: https://www.python.org/dev/peps/pep-0008/ \n",
    "- portable: it runs on many Unix variants, on the Mac, and on PCs under MS-DOS, Windows, Windows NT, and OS/2\n",
    "- easily extensible with C/C++/Java code, and easily embeddable in applications\n",
    "- free to use, even for commercial products, because of open source license\n",
    "\n",
    "> Guido van Rossum\n",
    "The joy of coding Python should be in seeing short, concise, readable classes that express a lot of action in a small amount of clear code -- not in reams of trivial code that bores the reader to death.\n",
    "\n",
    "\n",
    "\n",
    "Sources:\n",
    "- https://docs.python.org/2/faq/general.html\n",
    "- https://www.python.org/download/releases/2.7/license/\n",
    "- http://www.tiobe.com/index.php/content/paperinfo/tpci/index.html - programming lanugages trends\n",
    "- https://github.com/blog/2047-language-trends-on-github - gitub trends\n",
    "- https://www.python.org/doc/essays/comparisons/ - comparing python to other languages"
   ]
  },
  {
   "cell_type": "markdown",
   "metadata": {},
   "source": [
    "### What is Python good for\n",
    "\n",
    "- text processing & web scraping (reqgular expressions, LXML, Beautiful Soup, ...)\n",
    "- integration with operating systems (system calls, filesystems, TCP/IP sockets)\n",
    "- supprort for all known internet protocols (HTTP, FTP, SMTP, XML-RPC, POP, SOAP, ...)\n",
    "- data science (NumPy, SciPy, and matplotlib)\n",
    "- writing Web Applications (Django, Flask, Pyramid, ...)\n",
    "- glue together large software components\n",
    "- GUI programming (Tk, Qt, GNOME, KDE, Kivy ...)\n",
    "\n",
    "Sources:\n",
    "- https://wiki.python.org/moin/WebFrameworks\n",
    "- https://www.python.org/doc/essays/omg-darpa-mcc-position/ - Glue It All Together With Python\n",
    "- http://scikit-learn.org/stable/\n",
    "- https://wiki.python.org/moin/GuiProgramming"
   ]
  },
  {
   "cell_type": "markdown",
   "metadata": {},
   "source": [
    "### Python strenghts - comparing to other languages\n",
    "\n",
    "- Easy to learn\n",
    "- Application prototyping \n",
    "    - Program development using Python is 5-10 times faster than using C/C++ and 3-5 times faster than using Java\n",
    "    - In many cases, a prototype of an application can be written in Python without writing any C/C++/Java code\n",
    "- Supports multiple programming paradigms\n",
    "    - procedural (statement based)\n",
    "    - object-oriented (polymorphism, operator overloading and multiple inheritance)\n",
    "    - functional (generators, comprehensions, closures, maps, decorators, lambdas, first-class function objects)\n",
    "- Portability\n",
    "- Automatic memory management\n",
    "    - objects are automatically allocated and reclaimed (“garbage collects”) \n",
    "- Third-party utilities\n",
    "    - more than 70k packages\n",
    "    - https://pypi.python.org/pypi\n",
    "    \n",
    "    \n",
    "Sources:\n",
    "- https://www.python.org/doc/essays/omg-darpa-mcc-position/"
   ]
  },
  {
   "cell_type": "markdown",
   "metadata": {},
   "source": [
    "#### Software that makes use of Python\n",
    "\n",
    "- Applications: Dropbox, Youtube, Instagram, Reddit, Spotify, Blender 3D, ...\n",
    "- Games: Civilization IV, Eve Online\n",
    "- Tools: Ansible, Mercurial \n",
    "\n",
    "Sources:\n",
    "- https://www.python.org/about/success/\n",
    "- https://wiki.python.org/moin/OrganizationsUsingPython\n",
    "- https://wiki.python.org/moin/Applications"
   ]
  },
  {
   "cell_type": "markdown",
   "metadata": {},
   "source": [
    "### History of Python\n",
    "\n",
    "\n",
    "- Python was created in the early 1990s by Guido van Rossum at the National Research Institute for Mathematics and Computer Science in the Netherlands\n",
    "\n",
    "- Python is derived from many other languages, including ABC, Modula-3, C, C++, Algol-68, SmallTalk, and Unix shell and other scripting languages.\n",
    "\n",
    "- The language was named after the BBC show “Monty Python’s Flying Circus”\n",
    "\n",
    "- Python 2.7.y from 2010 - most common used Python version but legacy\n",
    "- Python 3.x.y from 2008 - recommended version\n",
    "\n",
    "\n",
    "Sources:\n",
    "- http://python-history.blogspot.com/\n",
    "- https://docs.python.org/2.7/faq/design.html \n",
    "- https://www.python.org/download/releases/2.7/license/\n",
    "- https://www.python.org/downloads/ - here you can find all Python version and release dates\n",
    "- https://www.python.org/~guido/interviews.html - interviews with python creator"
   ]
  },
  {
   "cell_type": "markdown",
   "metadata": {},
   "source": [
    "### Python 2.x or Python 3.x\n",
    "\n",
    "- Official statement: **Python 2.x is legacy, Python 3.x is the present and future of the language**\n",
    "- But in practice:\n",
    "    -  Python 2.7.x has been standard for a long time\n",
    "    -  Python 2.7.x will receive necessary security updates until 2020\n",
    "\n",
    "Major differences:\n",
    "- print is a function not statement\n",
    "- Better Unicode support\n",
    "- Memory-efficient iterable returns by default\n",
    "- Integers can handle any size, no longer limited to the machine's word size\n",
    "[TODO]\n",
    "\n",
    "\n",
    "Sources:\n",
    "- https://wiki.python.org/moin/Python2orPython3\n",
    "- http://docs.python-guide.org/en/latest/starting/which-python/#the-state-of-python-2-vs-3\n",
    "- https://docs.python.org/3/whatsnew/3.0.html - What is new in Python 3.x\n",
    "- http://python-notes.curiousefficiency.org/en/latest/python3/questions_and_answers.html - Python 3 Q&A\n",
    "- http://getpython3.com/ - How to port from 2.x to 3.x\n",
    "- https://python3wos.appspot.com/ - List of packages supported in Python 3.x, Most useful and not yet supported (January 2016): Fabric, Ansible, suds, protobuf, M2Crypto"
   ]
  },
  {
   "cell_type": "markdown",
   "metadata": {},
   "source": [
    "### Python implementations\n",
    "\n",
    "- Python is actually a specification for a language that can be implemented in many different waysY\n",
    "- You can find Python Grammar specification here: https://docs.python.org/2/reference/grammar.html\n",
    "\n",
    "Python implementations:\n",
    "\n",
    "- CPython\n",
    "    - reference implementation of Python, written in C\n",
    "    - it compiles Python code to intermediate bytecode which is then interpreted by a virtual machine\n",
    "    \n",
    "- PyPy\n",
    "    - interpreter implemented in a restricted statically-typed subset of the Python language\n",
    "    - Python performance was improved - it is 5 times faster than CPython\n",
    "    \n",
    "- Jython\n",
    "    - implementation that compiles Python code to Java bytecode which is then executed by the JVM\n",
    "    - it is possible to import and use any Java class like a Python module\n",
    "    \n",
    "- IronPython\n",
    "    - implementation of Python for the .NET framework\n",
    "    - it is possible to import and use any .NET framework libraries"
   ]
  },
  {
   "cell_type": "markdown",
   "metadata": {},
   "source": [
    "### Interpreter\n",
    "\n",
    "- A kind of program that executes other programs\n",
    "- Reads your program and carries out the instructions it contains\n",
    "\n",
    "\n",
    "http://aosabook.org/en/500L/a-python-interpreter-written-in-python.html"
   ]
  },
  {
   "cell_type": "markdown",
   "metadata": {},
   "source": [
    "### Code compilation and interpreting\n",
    "\n",
    "#### Byte code\n",
    "\n",
    "- When you execute a script, Python compiles your source code into a format known as byte code\n",
    "    - it creates binary file with .pyc extension\n",
    "        - in python 3.x, .pyc files are stored in ```__pycache__``` directory\n",
    "        - byte code can be also generated in memory in case have no write permission in filesystem\n",
    "    - compilation is simply a translation step\n",
    "- Byte code is a lower-level, platform-independent representation of your source code\n",
    "- Byte code translation is performed to speed execution\n",
    "\n",
    "> Byte code is an implementation detail of the CPython interpreter\n",
    "\n",
    "- Byte code example:\n",
    "\n",
    "```python\n",
    "0 LOAD_GLOBAL              0 (len)\n",
    "3 LOAD_FAST                0 (alist)\n",
    "6 CALL_FUNCTION            1\n",
    "9 RETURN_VALUE\n",
    "```\n",
    "\n",
    "#### Byte code interpretation\n",
    "\n",
    "- Byte code instructions are interpreted by python interpreter\n",
    "    - interpreter reads the binary file (.pyc) and executes the instructions one at a time\n",
    "\n",
    "\n",
    "#### Compilation and interpretation steps\n",
    "\n",
    "For example:\n",
    "\n",
    "```python\n",
    "python your_program.py\n",
    "```\n",
    "\n",
    "1. Lexical analysis (break text to find tokens - keywords, operators, literals)\n",
    "2. Parsing - based on the rules from grammar, produces Abstract Syntax Tree (AST)\n",
    "3. Code generation produces PyCodeObject (bytecode)\n",
    "4. Code execution by bytecode interpreter (stack-based virtual machine)\n",
    "\n",
    "Sources:\n",
    "- http://security.coverity.com/blog/2014/Nov/understanding-python-bytecode.html\n",
    "- http://tomlee.co/wp-content/uploads/2012/11/108_python-language-internals.pdf"
   ]
  },
  {
   "cell_type": "markdown",
   "metadata": {},
   "source": [
    "### How to install Python\n",
    "\n",
    "For Windows, Mac OS X, Sources:\n",
    "\n",
    "    - download Python interpreter from https://www.python.org/downloads/\n",
    "    - detailed instruction for Windows: http://www.howtogeek.com/197947/how-to-install-python-on-windows/\n",
    "    \n",
    "For Linux:\n",
    "    - just use your package manager like apt, yum\n",
    "        - for RedHat like systems: yum install python\n",
    "        - for Debian like systems: apt-get install python"
   ]
  },
  {
   "cell_type": "markdown",
   "metadata": {},
   "source": [
    "### Interactive mode\n",
    "\n",
    "What is interactive mode and why it should be used:\n",
    "- command line shell for Python\n",
    "- immediate feedback for each statement you type\n",
    "- it is faster to check Python documentation than using Web Browser, just type\n",
    "```python\n",
    "help(antyhing)\n",
    "```\n",
    "\n",
    "How to run interactive mode:\n",
    "\n",
    "- Just invoke the interpreter without passing a script file as a parameter \n",
    "\n",
    "- To enter the interactive mode type **python** command in your Shell (windows/linux)\n",
    "- You should be able to see prompt **>>>**\n",
    "\n",
    "For example:\n",
    "\n",
    "```python\n",
    "Python 3.5.0 (v3.5.0:374f501f4567, Sep 13 2015, 02:16:59) [MSC v.1900 32 bit (Intel)] on win32\n",
    "Type \"help\", \"copyright\", \"credits\" or \"license\" for more information.\n",
    ">>>\n",
    "```\n",
    "\n",
    "Sources:\n",
    "- http://stackoverflow.com/questions/2664785/why-use-python-interactive-mode"
   ]
  },
  {
   "cell_type": "markdown",
   "metadata": {},
   "source": [
    "### Script mode\n",
    "\n",
    "- Python program/script is just a text file containing Python statements\n",
    "\n",
    "- Invoking the interpreter with a script parameter begins execution of the script and continues until the script is finished\n",
    "- Python files have extension .py, for example: hello_world.py\n",
    "- How to run? (you should have python interpreter set in PATH environment variable)\n",
    "\n",
    "```bash\n",
    "python your_script.py\n",
    "```\n",
    "\n",
    "- You can also run your python script as follows:\n",
    "\n",
    "```bash\n",
    "./your_script.py\n",
    "```\n",
    "\n",
    "- but you need to add path to your python interpreter directly inside your script\n",
    "\n",
    "```python\n",
    "#!/usr/bin/python\n",
    "print \"Hello world\"\n",
    "```"
   ]
  },
  {
   "cell_type": "markdown",
   "metadata": {},
   "source": [
    "### Variables are labels, not boxes\n",
    "\n",
    "- variables are like reference variables in Java\n",
    "- so it’s better to think of them as labels attached to objects\n",
    "\n",
    "- always read the right-hand side first: that’s where the object is created or retrieved\n",
    "- after that, the variable on the left is bound to the object, like a label stuck to it\n",
    "\n",
    "- a variable is simply a value bound to a name\n",
    "- the value has a type -- like \"integer\" or \"string\" or \"list\" -- but the variable itself doesn't"
   ]
  },
  {
   "cell_type": "markdown",
   "metadata": {},
   "source": [
    "### Dynamic typing\n",
    "\n",
    "- it doesn’t require complicated type and size declarations in your code\n",
    "- type checks are performed mostly at run time\n",
    "- all build-in types listed in documentation: https://docs.python.org/3/library/stdtypes.html\n",
    "- you may create your own types (class)\n",
    "\n",
    "- interpreter tracks of the kinds of objects your program uses when it runs"
   ]
  },
  {
   "cell_type": "code",
   "execution_count": 23,
   "metadata": {
    "collapsed": false
   },
   "outputs": [
    {
     "name": "stdout",
     "output_type": "stream",
     "text": [
      "<class 'int'> 3\n",
      "<class 'float'> 2.7\n",
      "<class 'str'> A\n",
      "<class 'list'> [1, 2.1, [1, 2], 'python']\n",
      "<class 'str'> python\n",
      "<class 'tuple'> (1, 2)\n",
      "<class 'dict'> {'key2': 'two', 'key1': 1}\n",
      "<class 'bool'> True\n",
      "<class 'NoneType'> None\n",
      "<class '__main__.YourNewType'> <__main__.YourNewType object at 0x00773910>\n",
      "<class 'function'> <function do_something at 0x03A9B588>\n",
      "<class 'int'> 2\n"
     ]
    }
   ],
   "source": [
    "a = 3\n",
    "b = 2.7\n",
    "c = 'A'\n",
    "d = [1, 2.1, [1,2], 'python']\n",
    "e = 'python'\n",
    "f = (1,2,)\n",
    "g = {'key1': 1, 'key2': 'two'}\n",
    "true_or_false = True\n",
    "no_value_here = None\n",
    "\n",
    "# define new type\n",
    "class YourNewType(object):\n",
    "    def __init__(self, a, b):\n",
    "        self.a = a\n",
    "        self.b = b     \n",
    "your_type_instance = YourNewType(1, 'string')\n",
    "\n",
    "# define new function\n",
    "def do_something(param1, param2):\n",
    "    return param1 * param2\n",
    "    \n",
    "function_obj = do_something\n",
    "value_returned_from_function = do_something(1, 2)\n",
    "value_returned_from_function = function_obj(1, 2)\n",
    "\n",
    "\n",
    "# print types and value\n",
    "print(type(a), a)\n",
    "print(type(b), b)\n",
    "print(type(c), c)\n",
    "print(type(d), d)\n",
    "print(type(e), e)\n",
    "print(type(f), f)\n",
    "print(type(g), g)\n",
    "print(type(true_or_false), true_or_false)\n",
    "print(type(no_value_here), no_value_here)\n",
    "print(type(your_type_instance), your_type_instance)\n",
    "print(type(function_obj), function_obj)\n",
    "print(type(value_returned_from_function), value_returned_from_function)"
   ]
  },
  {
   "cell_type": "markdown",
   "metadata": {},
   "source": [
    "Use http://www.pythontutor.com/ to visualize how Python works. It executes step-by-step all instructions.\n",
    "\n",
    "Our example with \"Dynamic Types\": http://goo.gl/5RTtnU "
   ]
  },
  {
   "cell_type": "markdown",
   "metadata": {},
   "source": [
    "![example1](example1.png)"
   ]
  },
  {
   "cell_type": "markdown",
   "metadata": {},
   "source": [
    "### Strong Typing\n",
    "\n",
    "- the interpreter keeps track of all variables types\n",
    "- you can't perform operations inappropriate to the type of the object \n",
    "    - attempting to add numbers to strings will fail\n"
   ]
  },
  {
   "cell_type": "code",
   "execution_count": 24,
   "metadata": {
    "collapsed": false
   },
   "outputs": [
    {
     "data": {
      "text/plain": [
       "[1, 2, 3, 1, 2, 3, 1, 2, 3]"
      ]
     },
     "execution_count": 24,
     "metadata": {},
     "output_type": "execute_result"
    }
   ],
   "source": [
    "# Example: 1\n",
    "a = 3\n",
    "b = 5\n",
    "c = a + b\n",
    "\n",
    "# Example: 2\n",
    "a = 'A'\n",
    "b = 'B'\n",
    "c = a + b\n",
    "\n",
    "# Example: 3 \n",
    "[1, 2, 3] + [4, 5]\n",
    "[1,2, 3] * 3"
   ]
  },
  {
   "cell_type": "code",
   "execution_count": 25,
   "metadata": {
    "collapsed": false
   },
   "outputs": [
    {
     "ename": "TypeError",
     "evalue": "unsupported operand type(s) for +: 'int' and 'str'",
     "output_type": "error",
     "traceback": [
      "\u001b[1;31m---------------------------------------------------------------------------\u001b[0m",
      "\u001b[1;31mTypeError\u001b[0m                                 Traceback (most recent call last)",
      "\u001b[1;32m<ipython-input-25-014f90cccacc>\u001b[0m in \u001b[0;36m<module>\u001b[1;34m()\u001b[0m\n\u001b[0;32m      3\u001b[0m \u001b[0ma\u001b[0m \u001b[1;33m=\u001b[0m \u001b[1;36m3\u001b[0m\u001b[1;33m\u001b[0m\u001b[0m\n\u001b[0;32m      4\u001b[0m \u001b[0mb\u001b[0m \u001b[1;33m=\u001b[0m \u001b[1;34m'A'\u001b[0m\u001b[1;33m\u001b[0m\u001b[0m\n\u001b[1;32m----> 5\u001b[1;33m \u001b[0mc\u001b[0m \u001b[1;33m=\u001b[0m \u001b[0ma\u001b[0m \u001b[1;33m+\u001b[0m \u001b[0mb\u001b[0m\u001b[1;33m\u001b[0m\u001b[0m\n\u001b[0m",
      "\u001b[1;31mTypeError\u001b[0m: unsupported operand type(s) for +: 'int' and 'str'"
     ]
    }
   ],
   "source": [
    "# trying to change type\n",
    "\n",
    "a = 3\n",
    "b = 'A'\n",
    "c = a + b"
   ]
  },
  {
   "cell_type": "markdown",
   "metadata": {},
   "source": [
    "#### How to \"fix\" this example?\n",
    "\n",
    "Just use one of the available conversion method"
   ]
  },
  {
   "cell_type": "code",
   "execution_count": 26,
   "metadata": {
    "collapsed": false
   },
   "outputs": [
    {
     "data": {
      "text/plain": [
       "2.0"
      ]
     },
     "execution_count": 26,
     "metadata": {},
     "output_type": "execute_result"
    }
   ],
   "source": [
    "float(2)     # from integer to float "
   ]
  },
  {
   "cell_type": "code",
   "execution_count": 27,
   "metadata": {
    "collapsed": false
   },
   "outputs": [
    {
     "data": {
      "text/plain": [
       "3"
      ]
     },
     "execution_count": 27,
     "metadata": {},
     "output_type": "execute_result"
    }
   ],
   "source": [
    "int(3.4)     # from float to integer"
   ]
  },
  {
   "cell_type": "code",
   "execution_count": 28,
   "metadata": {
    "collapsed": false
   },
   "outputs": [
    {
     "data": {
      "text/plain": [
       "'3'"
      ]
     },
     "execution_count": 28,
     "metadata": {},
     "output_type": "execute_result"
    }
   ],
   "source": [
    "str(3)       # from integer to string"
   ]
  },
  {
   "cell_type": "code",
   "execution_count": 29,
   "metadata": {
    "collapsed": false
   },
   "outputs": [
    {
     "data": {
      "text/plain": [
       "'4.2'"
      ]
     },
     "execution_count": 29,
     "metadata": {},
     "output_type": "execute_result"
    }
   ],
   "source": [
    "str(4.2)     # from float to integer"
   ]
  },
  {
   "cell_type": "code",
   "execution_count": 30,
   "metadata": {
    "collapsed": false
   },
   "outputs": [
    {
     "data": {
      "text/plain": [
       "[1, 2]"
      ]
     },
     "execution_count": 30,
     "metadata": {},
     "output_type": "execute_result"
    }
   ],
   "source": [
    "list((1,2,)) # from tuple to list"
   ]
  },
  {
   "cell_type": "code",
   "execution_count": 31,
   "metadata": {
    "collapsed": false
   },
   "outputs": [
    {
     "name": "stdout",
     "output_type": "stream",
     "text": [
      "10 funny cats\n"
     ]
    }
   ],
   "source": [
    "# just use one of the conversion method, to convert between types\n",
    "a = 10\n",
    "b = \"cats\"\n",
    "str(a) + b\n",
    "\n",
    "# if you want to only print, just print without any conversion\n",
    "print(a, 'funny', b)"
   ]
  },
  {
   "cell_type": "markdown",
   "metadata": {},
   "source": [
    "**Remember**:\n",
    "> Don’t check whether it is-a duck: check whether it quacks-like-a duck, walks-like-a duck, etc, etc,\n",
    "depending on exactly what subset of duck-like behavior you need to play your language-games with. - (comp.lang.python, Jul. 26, 2000) — Alex Martelli"
   ]
  },
  {
   "cell_type": "code",
   "execution_count": 32,
   "metadata": {
    "collapsed": false
   },
   "outputs": [
    {
     "name": "stdout",
     "output_type": "stream",
     "text": [
      "Help on built-in function dir in module builtins:\n",
      "\n",
      "dir(...)\n",
      "    dir([object]) -> list of strings\n",
      "    \n",
      "    If called without an argument, return the names in the current scope.\n",
      "    Else, return an alphabetized list of names comprising (some of) the attributes\n",
      "    of the given object, and of attributes reachable from it.\n",
      "    If the object supplies a method named __dir__, it will be used; otherwise\n",
      "    the default dir() logic is used and returns:\n",
      "      for a module object: the module's attributes.\n",
      "      for a class object:  its attributes, and recursively the attributes\n",
      "        of its bases.\n",
      "      for any other object: its attributes, its class's attributes, and\n",
      "        recursively the attributes of its class's base classes.\n",
      "\n"
     ]
    }
   ],
   "source": [
    "help(dir)"
   ]
  },
  {
   "cell_type": "code",
   "execution_count": 33,
   "metadata": {
    "collapsed": false
   },
   "outputs": [
    {
     "data": {
      "text/plain": [
       "['__abs__',\n",
       " '__add__',\n",
       " '__and__',\n",
       " '__bool__',\n",
       " '__ceil__',\n",
       " '__class__',\n",
       " '__delattr__',\n",
       " '__dir__',\n",
       " '__divmod__',\n",
       " '__doc__',\n",
       " '__eq__',\n",
       " '__float__',\n",
       " '__floor__',\n",
       " '__floordiv__',\n",
       " '__format__',\n",
       " '__ge__',\n",
       " '__getattribute__',\n",
       " '__getnewargs__',\n",
       " '__gt__',\n",
       " '__hash__',\n",
       " '__index__',\n",
       " '__init__',\n",
       " '__int__',\n",
       " '__invert__',\n",
       " '__le__',\n",
       " '__lshift__',\n",
       " '__lt__',\n",
       " '__mod__',\n",
       " '__mul__',\n",
       " '__ne__',\n",
       " '__neg__',\n",
       " '__new__',\n",
       " '__or__',\n",
       " '__pos__',\n",
       " '__pow__',\n",
       " '__radd__',\n",
       " '__rand__',\n",
       " '__rdivmod__',\n",
       " '__reduce__',\n",
       " '__reduce_ex__',\n",
       " '__repr__',\n",
       " '__rfloordiv__',\n",
       " '__rlshift__',\n",
       " '__rmod__',\n",
       " '__rmul__',\n",
       " '__ror__',\n",
       " '__round__',\n",
       " '__rpow__',\n",
       " '__rrshift__',\n",
       " '__rshift__',\n",
       " '__rsub__',\n",
       " '__rtruediv__',\n",
       " '__rxor__',\n",
       " '__setattr__',\n",
       " '__sizeof__',\n",
       " '__str__',\n",
       " '__sub__',\n",
       " '__subclasshook__',\n",
       " '__truediv__',\n",
       " '__trunc__',\n",
       " '__xor__',\n",
       " 'bit_length',\n",
       " 'conjugate',\n",
       " 'denominator',\n",
       " 'from_bytes',\n",
       " 'imag',\n",
       " 'numerator',\n",
       " 'real',\n",
       " 'to_bytes']"
      ]
     },
     "execution_count": 33,
     "metadata": {},
     "output_type": "execute_result"
    }
   ],
   "source": [
    "dir(1)"
   ]
  },
  {
   "cell_type": "code",
   "execution_count": 34,
   "metadata": {
    "collapsed": false
   },
   "outputs": [
    {
     "data": {
      "text/plain": [
       "b'\\x00\\x01'"
      ]
     },
     "execution_count": 34,
     "metadata": {},
     "output_type": "execute_result"
    }
   ],
   "source": [
    "(1).to_bytes(2, 'big')"
   ]
  },
  {
   "cell_type": "markdown",
   "metadata": {},
   "source": [
    "### Everything in python is an object\n",
    "\n",
    "- every object has an identity, a type and a value\n",
    "\n",
    "- an object’s identity never changes once it has been created\n",
    "- you may think of it as the object’s address in memory\n",
    "\n",
    "- the 'is' operator compares the identity of two objects\n",
    "\n",
    "- the id() function returns an integer representing its identity\n",
    "- in CPython, id() returns the memory address of the object\n",
    "\n",
    "https://docs.python.org/3/reference/datamodel.html#objects-values-and-types "
   ]
  },
  {
   "cell_type": "code",
   "execution_count": 35,
   "metadata": {
    "collapsed": false
   },
   "outputs": [
    {
     "name": "stdout",
     "output_type": "stream",
     "text": [
      "7772960\n",
      "7773800\n",
      "id(obj_1) == id(obj_2):  False\n",
      "obj_1 == obj_2:  True\n"
     ]
    }
   ],
   "source": [
    "obj_1 = [1, 2]\n",
    "obj_2 = [1, 2]\n",
    "\n",
    "print(id(obj_1))\n",
    "print(id(obj_2))\n",
    "\n",
    "print(\"id(obj_1) == id(obj_2): \", id(obj_1) == id(obj_2))\n",
    "\n",
    "print(\"obj_1 == obj_2: \", obj_1 == obj_2)"
   ]
  },
  {
   "cell_type": "markdown",
   "metadata": {},
   "source": [
    "**Remember**:\n",
    "> The == operator compares the values of objects (the data they hold), while 'is' compares their identities"
   ]
  },
  {
   "cell_type": "markdown",
   "metadata": {},
   "source": [
    "### Python objects - mutables vs immutable\n",
    "\n",
    "#### mutable:\n",
    "    - mutable objects can change their value but keep their id().\n",
    "\n",
    "#### immutable:\n",
    "    - an object with a fixed value\n",
    "    - immutable objects include numbers, strings and tuples\n",
    "    - such an object cannot be altered\n",
    "    - a new object has to be created if a different value has to be stored\n",
    "    - they play an important role in places where a constant hash value is needed, for example as a key in a dictionary\n",
    "    - important advantage - performance\n",
    "\n",
    ">knowing that a object is immutable means we can allocate space for it at creation time, \n",
    "and the storage requirements are fixed and unchanging.\n",
    "\n",
    "Example: http://goo.gl/N6Rw4P"
   ]
  },
  {
   "cell_type": "code",
   "execution_count": 36,
   "metadata": {
    "collapsed": false
   },
   "outputs": [
    {
     "name": "stdout",
     "output_type": "stream",
     "text": [
      "[1, 2, 3, 4]\n",
      "[1, 2, 3, 4]\n"
     ]
    }
   ],
   "source": [
    "# mutable example\n",
    "\n",
    "l1 = [1, 2, 3]\n",
    "l2 = l1\n",
    "l2.append(4)\n",
    "\n",
    "print(l1)\n",
    "print(l2)"
   ]
  },
  {
   "cell_type": "code",
   "execution_count": 37,
   "metadata": {
    "collapsed": false
   },
   "outputs": [
    {
     "name": "stdout",
     "output_type": "stream",
     "text": [
      "6\n",
      "5\n"
     ]
    }
   ],
   "source": [
    "# immutable example\n",
    "\n",
    "x = 5\n",
    "y = x\n",
    "x = x + 1\n",
    "\n",
    "print(x)\n",
    "print(y)"
   ]
  },
  {
   "cell_type": "markdown",
   "metadata": {},
   "source": [
    "![mutable-immutable](mutable-immutable.png)"
   ]
  },
  {
   "cell_type": "markdown",
   "metadata": {},
   "source": [
    "### Special methods\n",
    "\n",
    "- special methods are meant to be called by the Python interpreter, and not by you\n",
    "- don't write obj.\\__len\\__(), but len(obj) - Python will call \\__len\\__() method behind the scenes\n",
    "\n",
    "Some examples:\n",
    "\n",
    "* \\__init\\__()\n",
    "* \\__new\\__()\n",
    "* \\__repr\\__()\n",
    "* \\__len\\__()\n",
    "* \\__str\\__()\n",
    "* \\__eq\\__()\n",
    "* \\__hash\\__()\n",
    "* \\__getitem\\__()\n",
    "* \\__add\\__()\n",
    "\n",
    "and many many more. Visit http://www.rafekettler.com/magicmethods.html to get more information."
   ]
  },
  {
   "cell_type": "code",
   "execution_count": 4,
   "metadata": {
    "collapsed": false
   },
   "outputs": [
    {
     "name": "stdout",
     "output_type": "stream",
     "text": [
      "['Beautiful', 'Explicit', 'Simple', 'Complex', 'Flat', 'Sparse', 'Readability', 'Special']\n",
      "number of list elements:  8\n",
      "word in list:  True\n",
      "slicing:  ['Simple', 'Complex']\n",
      "Beautiful\n",
      "Explicit\n",
      "Simple\n",
      "Complex\n",
      "Flat\n",
      "Sparse\n",
      "Readability\n",
      "Special\n"
     ]
    }
   ],
   "source": [
    "text = \"\"\"\n",
    "Beautiful is better than ugly.\n",
    "Explicit is better than implicit.\n",
    "Simple is better than complex.\n",
    "Complex is better than complicated.\n",
    "Flat is better than nested.\n",
    "Sparse is better than dense.\n",
    "Readability counts.\n",
    "Special cases aren't special enough to break the rules.\n",
    "\"\"\"\n",
    "\n",
    "import re # find more information here: https://docs.python.org/2/library/re.html \n",
    "\n",
    "regex = re.compile('^\\w+', re.MULTILINE) # regular expression\n",
    "\n",
    "class TextFilter(object):\n",
    "    def __init__(self, text): \n",
    "        self.words = regex.findall(text)\n",
    "    def __getitem__(self, index):\n",
    "        return self.words[index]\n",
    "    def __repr__(self):\n",
    "        return str(self.words)\n",
    "    def __len__(self):\n",
    "        return len(self.words)\n",
    "\n",
    "filtered_text = TextFilter(text)\n",
    "\n",
    "print(filtered_text)\n",
    "print(\"number of list elements: \", len(filtered_text))\n",
    "print(\"word in list: \", 'Simple' in filtered_text)\n",
    "print(\"slicing: \", filtered_text[2:4])\n",
    "\n",
    "for word in filtered_text:\n",
    "    print(word)"
   ]
  },
  {
   "cell_type": "code",
   "execution_count": 5,
   "metadata": {
    "collapsed": false
   },
   "outputs": [
    {
     "name": "stdout",
     "output_type": "stream",
     "text": [
      "['Beautiful', 'Explicit', 'Simple', 'Complex', 'Flat', 'Sparse', 'Readability', 'Special']\n"
     ]
    }
   ],
   "source": [
    "# We can do it even much simpler ...\n",
    "\n",
    "filtered_text = regex.findall(text)\n",
    "print(filtered_text)"
   ]
  },
  {
   "cell_type": "markdown",
   "metadata": {},
   "source": [
    "### Privacy\n",
    "\n",
    "- in Python, there is no way to create private variables like there is with the private modifier in Java\n",
    "- what we have in Python is a simple mechanism to prevent accidental overwriting of a “private” attribute"
   ]
  },
  {
   "cell_type": "code",
   "execution_count": 6,
   "metadata": {
    "collapsed": false,
    "scrolled": false
   },
   "outputs": [
    {
     "name": "stdout",
     "output_type": "stream",
     "text": [
      "job grade : 10\n"
     ]
    },
    {
     "ename": "AttributeError",
     "evalue": "'Employer' object has no attribute '__salary'",
     "output_type": "error",
     "traceback": [
      "\u001b[1;31m---------------------------------------------------------------------------\u001b[0m",
      "\u001b[1;31mAttributeError\u001b[0m                            Traceback (most recent call last)",
      "\u001b[1;32m<ipython-input-6-376071cb7b68>\u001b[0m in \u001b[0;36m<module>\u001b[1;34m()\u001b[0m\n\u001b[0;32m      6\u001b[0m \u001b[0memployer_1\u001b[0m \u001b[1;33m=\u001b[0m \u001b[0mEmployer\u001b[0m\u001b[1;33m(\u001b[0m\u001b[0mbonus\u001b[0m\u001b[1;33m=\u001b[0m\u001b[1;36m1500\u001b[0m\u001b[1;33m)\u001b[0m\u001b[1;33m\u001b[0m\u001b[0m\n\u001b[0;32m      7\u001b[0m \u001b[0mprint\u001b[0m\u001b[1;33m(\u001b[0m\u001b[1;34m\"job grade :\"\u001b[0m\u001b[1;33m,\u001b[0m \u001b[0memployer_1\u001b[0m\u001b[1;33m.\u001b[0m\u001b[0mjob_grade\u001b[0m\u001b[1;33m)\u001b[0m\u001b[1;33m\u001b[0m\u001b[0m\n\u001b[1;32m----> 8\u001b[1;33m \u001b[0mprint\u001b[0m\u001b[1;33m(\u001b[0m\u001b[1;34m\"salary    :\"\u001b[0m\u001b[1;33m,\u001b[0m \u001b[0memployer_1\u001b[0m\u001b[1;33m.\u001b[0m\u001b[0m__salary\u001b[0m\u001b[1;33m)\u001b[0m\u001b[1;33m\u001b[0m\u001b[0m\n\u001b[0m",
      "\u001b[1;31mAttributeError\u001b[0m: 'Employer' object has no attribute '__salary'"
     ]
    }
   ],
   "source": [
    "class Employer(object):\n",
    "    def __init__(self, bonus):\n",
    "        self.job_grade = 10\n",
    "        self.__salary = 1500 + (bonus * self.job_grade)\n",
    "\n",
    "employer_1 = Employer(bonus=1500)\n",
    "print(\"job grade :\", employer_1.job_grade)\n",
    "print(\"salary    :\", employer_1.__salary)"
   ]
  },
  {
   "cell_type": "code",
   "execution_count": 7,
   "metadata": {
    "collapsed": false
   },
   "outputs": [
    {
     "data": {
      "text/plain": [
       "['_Employer__salary',\n",
       " '__class__',\n",
       " '__delattr__',\n",
       " '__dict__',\n",
       " '__dir__',\n",
       " '__doc__',\n",
       " '__eq__',\n",
       " '__format__',\n",
       " '__ge__',\n",
       " '__getattribute__',\n",
       " '__gt__',\n",
       " '__hash__',\n",
       " '__init__',\n",
       " '__le__',\n",
       " '__lt__',\n",
       " '__module__',\n",
       " '__ne__',\n",
       " '__new__',\n",
       " '__reduce__',\n",
       " '__reduce_ex__',\n",
       " '__repr__',\n",
       " '__setattr__',\n",
       " '__sizeof__',\n",
       " '__str__',\n",
       " '__subclasshook__',\n",
       " '__weakref__',\n",
       " 'job_grade']"
      ]
     },
     "execution_count": 7,
     "metadata": {},
     "output_type": "execute_result"
    }
   ],
   "source": [
    "dir(employer_1)"
   ]
  },
  {
   "cell_type": "code",
   "execution_count": 8,
   "metadata": {
    "collapsed": false
   },
   "outputs": [
    {
     "name": "stdout",
     "output_type": "stream",
     "text": [
      "16500\n"
     ]
    }
   ],
   "source": [
    "salary = employer_1._Employer__salary\n",
    "print(salary)"
   ]
  },
  {
   "cell_type": "markdown",
   "metadata": {},
   "source": [
    "### Data Structures\n",
    "\n",
    "Basic data structures (most common used):\n",
    "\n",
    "#### lists \n",
    "\n",
    "> [1, 2, 'python', obj1, obj2]\n",
    " \n",
    "- lists are mutable\n",
    "- can change their value but keep their ID (address in memory) - holds references to objects\n",
    "- the list type is a container \n",
    "- holds a number of other objects, in a given order\n",
    "- you can put into list all kind of  objects\n",
    "\n",
    "#### tuples \n",
    "\n",
    "> (1, 2, 'python', obj1, obj2)\n",
    " \n",
    "- are immutable\n",
    "- are used for grouping data\n",
    "- cant add/remove elements\n",
    "- are faster than list\n",
    "- can be used as keys in dictionary\n",
    "\n",
    "    \n",
    "#### dictionaries\n",
    "\n",
    "> {'key1': value1, 'key2': value2}\n",
    "   \n",
    "- are mutable\n",
    "- unordered collection of key-values pairs\n",
    "- no duplicate keys\n",
    "- implemented using hash table (hash value calculated from the key value)\n",
    "- keys shoud be immutable\n",
    "    \n",
    "#### sets \n",
    "\n",
    "> {1, 2, 'python', obj1, obj2}\n",
    "\n",
    "- are mutable\n",
    "- unordered collection\n",
    "- no duplicate elements\n",
    "- implemented using hash table (hash value calculated from the set's item)\n",
    "- support mathematical operations: union, intersection, difference, and symmetric difference\n",
    "- fast membership testing\n",
    "- slower than lists when it comes to iterating over their contents\n",
    "\n",
    "- time complexity: https://wiki.python.org/moin/TimeComplexity"
   ]
  },
  {
   "cell_type": "code",
   "execution_count": 9,
   "metadata": {
    "collapsed": false
   },
   "outputs": [
    {
     "name": "stdout",
     "output_type": "stream",
     "text": [
      "[2, 3, 4, 5, 6]\n",
      "[4, 5]\n",
      "[1, 2, 3, 4, 5]\n",
      "6\n",
      "True\n",
      "False\n",
      "[1, 2, 3, 4, 6, 7]\n"
     ]
    }
   ],
   "source": [
    "# lists playground\n",
    "\n",
    "# Example 1: slicing\n",
    "\n",
    "L = [1, 2, 3, 4, 5, 6]\n",
    "print(L[1:])\n",
    "print(L[3:5])\n",
    "print(L[:-1])\n",
    "print(L[-1])\n",
    "\n",
    "# Example 2: memebership checking\n",
    "\n",
    "print(4 in L)\n",
    "print(43 in L)\n",
    "\n",
    "# Example 3: add and remove elements\n",
    "L.append(7)\n",
    "L.remove(5)\n",
    "print(L)\n",
    "\n",
    "# Example 4: sorting\n",
    "L.sort()        # sort a list in place, without making a copy, returns None\n",
    "L2 = sorted(L)  # creates new sorted list and returns it, L list is not sorted"
   ]
  },
  {
   "cell_type": "code",
   "execution_count": 10,
   "metadata": {
    "collapsed": true
   },
   "outputs": [],
   "source": [
    "# Dictionaries plaground\n",
    "d = {'name': 'James', 'surname': 'Bond', 'code': 7}\n",
    "name = d['name']\n",
    "surname = d.get('surname', 'no_name')"
   ]
  },
  {
   "cell_type": "code",
   "execution_count": 38,
   "metadata": {
    "collapsed": false
   },
   "outputs": [
    {
     "name": "stdout",
     "output_type": "stream",
     "text": [
      "{1, 2, 3, 4, 5}\n",
      "{'d', 'a', 'c', 'b', 'e'}\n",
      "union:  {1, 2, 3, 4, 5}\n",
      "intersection:  {3}\n",
      "difference:  {1, 2}\n",
      "symetric difference:  {1, 2, 4, 5}\n"
     ]
    }
   ],
   "source": [
    "# Sets playground\n",
    "\n",
    "# Example 1\n",
    "s1 = {4,3,3,2,1,4,5,1}\n",
    "print(s1)\n",
    "\n",
    "# Example 2\n",
    "s2 = set(\"abbbbbaaaaacccccddddeeee\")\n",
    "print(s2)\n",
    "\n",
    "# Example 3\n",
    "set_1 = {1, 2, 3}\n",
    "set_2 = {3, 4, 5}\n",
    "print(\"union: \", set_1 | set_2)\n",
    "print(\"intersection: \", set_1 & set_2)\n",
    "print(\"difference: \", set_1 - set_2)\n",
    "print(\"symetric difference: \", set_1 ^ set_2)"
   ]
  },
  {
   "cell_type": "markdown",
   "metadata": {},
   "source": [
    "### Functions in Python are first-class objects\n",
    "\n",
    "- created at runtime\n",
    "- assigned to a variable or element in a data structure\n",
    "- passed as an argument to a function\n",
    "- returned as the result of a function\n",
    "\n",
    "- integers, strings, and dictionaries are other examples of first-class objects in Python"
   ]
  },
  {
   "cell_type": "code",
   "execution_count": 12,
   "metadata": {
    "collapsed": false
   },
   "outputs": [
    {
     "name": "stdout",
     "output_type": "stream",
     "text": [
      "function name:  do_something\n",
      "1\n",
      "python\n",
      "<function do_something at 0x007144F8>\n",
      "<function do_something at 0x007144F8>\n"
     ]
    }
   ],
   "source": [
    "def do_something(param1):\n",
    "    return param1\n",
    "\n",
    "# remember: functions are object\n",
    "print(\"function name: \", do_something.__name__)\n",
    "\n",
    "value_returned_by_function = do_something(param1=1) # call function\n",
    "\n",
    "function_object = do_something # Notice: there is no braces '()', just function name\n",
    "dir(function_object)\n",
    "\n",
    "objects_storage = [1, 'python', do_something, function_object]\n",
    "\n",
    "for obj in objects_storage:\n",
    "    print(obj)"
   ]
  },
  {
   "cell_type": "code",
   "execution_count": 13,
   "metadata": {
    "collapsed": false
   },
   "outputs": [
    {
     "data": {
      "text/plain": [
       "['__annotations__',\n",
       " '__call__',\n",
       " '__class__',\n",
       " '__closure__',\n",
       " '__code__',\n",
       " '__defaults__',\n",
       " '__delattr__',\n",
       " '__dict__',\n",
       " '__dir__',\n",
       " '__doc__',\n",
       " '__eq__',\n",
       " '__format__',\n",
       " '__ge__',\n",
       " '__get__',\n",
       " '__getattribute__',\n",
       " '__globals__',\n",
       " '__gt__',\n",
       " '__hash__',\n",
       " '__init__',\n",
       " '__kwdefaults__',\n",
       " '__le__',\n",
       " '__lt__',\n",
       " '__module__',\n",
       " '__name__',\n",
       " '__ne__',\n",
       " '__new__',\n",
       " '__qualname__',\n",
       " '__reduce__',\n",
       " '__reduce_ex__',\n",
       " '__repr__',\n",
       " '__setattr__',\n",
       " '__sizeof__',\n",
       " '__str__',\n",
       " '__subclasshook__']"
      ]
     },
     "execution_count": 13,
     "metadata": {},
     "output_type": "execute_result"
    }
   ],
   "source": [
    "dir(do_something)"
   ]
  },
  {
   "cell_type": "code",
   "execution_count": 14,
   "metadata": {
    "collapsed": false
   },
   "outputs": [
    {
     "name": "stdout",
     "output_type": "stream",
     "text": [
      "a\n",
      "b\n",
      "c\n"
     ]
    }
   ],
   "source": [
    "def print_a(): print('a')\n",
    "def print_b(): print('b')\n",
    "def print_c(): print('c')\n",
    "    \n",
    "function_storage = [print_a, print_b, print_c]\n",
    "\n",
    "for fn in function_storage:\n",
    "    fn()  # run each function from 'function_storage' list"
   ]
  },
  {
   "cell_type": "code",
   "execution_count": 15,
   "metadata": {
    "collapsed": false
   },
   "outputs": [
    {
     "name": "stdout",
     "output_type": "stream",
     "text": [
      "do something\n"
     ]
    }
   ],
   "source": [
    "def run_function(function):\n",
    "    return function()\n",
    "    \n",
    "def function_to_run(): print(\"do something\")\n",
    "    \n",
    "run_function(function_to_run)"
   ]
  },
  {
   "cell_type": "code",
   "execution_count": 16,
   "metadata": {
    "collapsed": false
   },
   "outputs": [
    {
     "name": "stdout",
     "output_type": "stream",
     "text": [
      "a\n"
     ]
    }
   ],
   "source": [
    "# swtich\n",
    "\n",
    "user_actions = {\n",
    "    'click_button_a': print_a,\n",
    "    'click_button_b': print_b,\n",
    "    'click_button_c': print_c}\n",
    "\n",
    "user_choose = 'click_button_a'\n",
    "\n",
    "user_actions[user_choose]()"
   ]
  },
  {
   "cell_type": "markdown",
   "metadata": {},
   "source": [
    "### Function parameters: call by value or by reference?\n",
    "\n",
    "- it is called “object reference” or \"by sharing\"\n",
    "\n",
    "- call by sharing means that each formal parameter of the function gets a copy of each reference in the arguments\n",
    "- the parameters inside the function become aliases of the actual arguments\n",
    "\n",
    "- the result of this scheme is that a function may change any mutable object passed as a parameter\n",
    "- but it cannot change the identity of those objects (i.e., it cannot altogether replace an object with another).\n",
    "\n",
    "- best example: http://goo.gl/uWjZuT\n",
    "\n",
    "- good explanation: http://robertheaton.com/2014/02/09/pythons-pass-by-object-reference-as-explained-by-philip-k-dick/ "
   ]
  },
  {
   "cell_type": "code",
   "execution_count": 17,
   "metadata": {
    "collapsed": false
   },
   "outputs": [
    {
     "name": "stdout",
     "output_type": "stream",
     "text": [
      "result:  [1, 2, 3, 4]\n",
      "[1, 2, 3, 4]\n",
      "[3, 4]\n"
     ]
    }
   ],
   "source": [
    "def f(a, b):\n",
    "    a += b\n",
    "    return a    \n",
    "\n",
    "x = [1,2]\n",
    "y = [3,4]\n",
    "result = f(x, y)\n",
    "print(\"result: \", result)\n",
    "\n",
    "# what happend with x value?\n",
    "print(x)\n",
    "print(y)"
   ]
  },
  {
   "cell_type": "markdown",
   "metadata": {},
   "source": [
    "![example3](example2.png)"
   ]
  },
  {
   "cell_type": "markdown",
   "metadata": {},
   "source": [
    "How to \"fix\" this? What you should do to keep this x list without modification?"
   ]
  },
  {
   "cell_type": "code",
   "execution_count": 18,
   "metadata": {
    "collapsed": false
   },
   "outputs": [
    {
     "name": "stdout",
     "output_type": "stream",
     "text": [
      "result:  [1, 2, 3, 4]\n",
      "[1, 2]\n",
      "[3, 4]\n"
     ]
    }
   ],
   "source": [
    "def f(a, b):\n",
    "    new_obj_a = a\n",
    "    new_obj_b = b\n",
    "    \n",
    "    new_obj_a = new_obj_a + new_obj_b\n",
    "    return new_obj_a\n",
    "\n",
    "x = [1,2]\n",
    "y = [3,4]\n",
    "result = f(x, y)\n",
    "print(\"result: \", result)\n",
    "\n",
    "# what happend with x value?\n",
    "print(x)\n",
    "print(y)"
   ]
  },
  {
   "cell_type": "markdown",
   "metadata": {},
   "source": [
    "![example3](example3.png)"
   ]
  },
  {
   "cell_type": "code",
   "execution_count": 19,
   "metadata": {
    "collapsed": true
   },
   "outputs": [],
   "source": [
    "def f(a, b):\n",
    "    new_obj_a = a[:]\n",
    "    new_obj_b = b[:]\n",
    "    a.append(2)\n",
    "    new_obj_a = new_obj_a + new_obj_b\n",
    "    return new_obj_a\n",
    "\n",
    "x = [1,2]\n",
    "y = [3,4]\n",
    "result = f(x, y)\n",
    "\n",
    "# http://goo.gl/VO153U "
   ]
  },
  {
   "cell_type": "markdown",
   "metadata": {},
   "source": [
    "![example4](example4.png)"
   ]
  },
  {
   "cell_type": "markdown",
   "metadata": {},
   "source": [
    "### Copying objects in Python\n",
    "\n",
    "- copies are shallow by default!\n",
    "\n",
    "- using the constructor or [:] produces a shallow copy \n",
    "- the copy is filled with references to the same items held by the original container\n",
    "- this saves memory and causes no problems if all the items are immutable\n",
    "- if there are mutable items, this may lead to unpleasant surprises\n",
    "\n",
    "\n",
    "* Example 1: http://goo.gl/P3wj4O\n",
    "* Example 2: http://goo.gl/nIOz1U"
   ]
  },
  {
   "cell_type": "code",
   "execution_count": 20,
   "metadata": {
    "collapsed": false
   },
   "outputs": [
    {
     "name": "stdout",
     "output_type": "stream",
     "text": [
      "l1: [3, [66, 44], (7, 8, 9), 100]\n",
      "l2: [3, [66, 44], (7, 8, 9)]\n",
      "********************************************\n",
      "l1: [3, [66, 44, 33, 22], (7, 8, 9), 100]\n",
      "l2: [3, [66, 44, 33, 22], (7, 8, 9, 10, 11)]\n"
     ]
    }
   ],
   "source": [
    "l1 = [3, [66, 55, 44], (7, 8, 9)]\n",
    "l2 = list(l1)\n",
    "l1.append(100) \n",
    "l1[1].remove(55)\n",
    "print('l1:', l1)\n",
    "print('l2:', l2)\n",
    "\n",
    "l2[1] += [33, 22]\n",
    "l2[2] += (10, 11)\n",
    "\n",
    "print('*' * 44)\n",
    "print('l1:', l1)\n",
    "print('l2:', l2)"
   ]
  },
  {
   "cell_type": "markdown",
   "metadata": {},
   "source": [
    "![example5](example5.png)"
   ]
  },
  {
   "cell_type": "markdown",
   "metadata": {},
   "source": [
    "### Reading and writing files\n",
    "\n",
    "- List of commands do remember:\n",
    "    - open - returns a file object\n",
    "        - open modes: r (read), w (write), r+ (read and write), a (append)\n",
    "    - read\n",
    "    - write"
   ]
  },
  {
   "cell_type": "code",
   "execution_count": 6,
   "metadata": {
    "collapsed": false
   },
   "outputs": [
    {
     "name": "stdout",
     "output_type": "stream",
     "text": [
      "<_io.TextIOWrapper name='test_file' mode='w' encoding='cp1250'>\n"
     ]
    }
   ],
   "source": [
    "# Example: writing to file\n",
    "\n",
    "# need to open file -> open(file_name, mode)\n",
    "f = open('test_file', 'w')\n",
    "\n",
    "f.write('write first line to file\\n')\n",
    "f.write('write second line to file\\n')\n",
    "\n",
    "# writelines expects a list of strings, while write expects a single string\n",
    "\n",
    "save_to_file = [\n",
    "    'third line\\n',\n",
    "    'fourth line \\n'\n",
    "]\n",
    "\n",
    "f.writelines(save_to_file)\n",
    "\n",
    "# remember to close file\n",
    "f.close()"
   ]
  },
  {
   "cell_type": "code",
   "execution_count": 8,
   "metadata": {
    "collapsed": false
   },
   "outputs": [
    {
     "name": "stdout",
     "output_type": "stream",
     "text": [
      "write first line to file\n",
      "write second line to file\n",
      "third line\n",
      "fourth line \n",
      "\n"
     ]
    }
   ],
   "source": [
    "# Example: reading from file\n",
    "\n",
    "f = open('test_file', 'r')\n",
    "\n",
    "print(f.read())\n",
    "\n",
    "f.close()"
   ]
  },
  {
   "cell_type": "code",
   "execution_count": 9,
   "metadata": {
    "collapsed": false
   },
   "outputs": [
    {
     "name": "stdout",
     "output_type": "stream",
     "text": [
      "one\n",
      "two\n",
      "\n"
     ]
    }
   ],
   "source": [
    "# Ezample: context managers for handling file I/O operations\n",
    "\n",
    "with open('test_file', 'w') as f:\n",
    "    f.write('one\\n')\n",
    "    f.write('two\\n')\n",
    "    \n",
    "with open('test_file', 'r') as f:\n",
    "    print(f.read())"
   ]
  },
  {
   "cell_type": "markdown",
   "metadata": {},
   "source": [
    "### Modules\n",
    "\n",
    "- Every file of Python source code whose name ends in a .py extension is a module\n",
    "- Other files can access the items a module defines by importing that module\n",
    "- Import operation essentially loads another file (module)\n",
    "    - imports must find files, compile them to byte code, and run the code\n",
    "    \n",
    "    \n",
    "Examples:\n",
    "\n",
    "- my_lib.py\n",
    "\n",
    "```python\n",
    "\n",
    "ATTRIBUTE_ONE = \"attribute_one\"\n",
    "LIST_OF_NUMBERS = [1, 2, 3, 4]\n",
    "\n",
    "def do_something(*args):\n",
    "    return *args\n",
    "    \n",
    "def do_something_complicated(*args):\n",
    "    return 2 + 2\n",
    "    \n",
    "if __name__ == \"__main__\":\n",
    "    do_something(1, 2, 3)\n",
    "\n",
    "```\n",
    "\n",
    "- my_script.py\n",
    "\n",
    "```python\n",
    "\n",
    "from my_lib import do_something\n",
    "\n",
    "do_something(5, 6, 7)\n",
    "\n",
    "print my_lib.ATTRIBUTE_ONE\n",
    "```\n",
    "\n",
    "\n",
    " "
   ]
  },
  {
   "cell_type": "code",
   "execution_count": 10,
   "metadata": {
    "collapsed": true
   },
   "outputs": [],
   "source": [
    "import collections\n",
    "\n",
    "from collections import OrderedDict\n",
    "\n",
    "from collections import OrderedDict as ordered_dict"
   ]
  },
  {
   "cell_type": "code",
   "execution_count": 11,
   "metadata": {
    "collapsed": false
   },
   "outputs": [
    {
     "data": {
      "text/plain": [
       "<module 'math' (built-in)>"
      ]
     },
     "execution_count": 11,
     "metadata": {},
     "output_type": "execute_result"
    }
   ],
   "source": [
    "import math\n",
    "\n",
    "from imp import reload\n",
    "reload(math)"
   ]
  },
  {
   "cell_type": "markdown",
   "metadata": {},
   "source": [
    "### Better to know ...\n",
    "\n",
    "- Python cannot run programms in parallel - there is a global mutex (Global Interperer Lock)\n",
    "- GIL ensures that only one thread runs in the interperter at once\n",
    "- sources:\n",
    "    - https://wiki.python.org/moin/GlobalInterpreterLock\n",
    "    - http://www.dabeaz.com/python/UnderstandingGIL.pdf\n",
    "- we have GIL only in CPython implementaion\n",
    "    - you can use others python implemention: Jython, IronPython, PyPy\n",
    "    "
   ]
  },
  {
   "cell_type": "markdown",
   "metadata": {},
   "source": [
    "### How to learn Python?\n",
    "\n",
    "\n",
    "- first, master the fundamentals\n",
    "\n",
    "- python official documentation: https://docs.python.org/3/\n",
    "- well writen python tutorial: https://docs.python.org/3/tutorial/index.html \n",
    "- coding standard, style guide - pep8: https://www.python.org/dev/peps/pep-0008/ \n",
    "- visualize execution of code: http://www.pythontutor.com/"
   ]
  },
  {
   "cell_type": "code",
   "execution_count": 21,
   "metadata": {
    "collapsed": false
   },
   "outputs": [
    {
     "name": "stdout",
     "output_type": "stream",
     "text": [
      "The Zen of Python, by Tim Peters\n",
      "\n",
      "Beautiful is better than ugly.\n",
      "Explicit is better than implicit.\n",
      "Simple is better than complex.\n",
      "Complex is better than complicated.\n",
      "Flat is better than nested.\n",
      "Sparse is better than dense.\n",
      "Readability counts.\n",
      "Special cases aren't special enough to break the rules.\n",
      "Although practicality beats purity.\n",
      "Errors should never pass silently.\n",
      "Unless explicitly silenced.\n",
      "In the face of ambiguity, refuse the temptation to guess.\n",
      "There should be one-- and preferably only one --obvious way to do it.\n",
      "Although that way may not be obvious at first unless you're Dutch.\n",
      "Now is better than never.\n",
      "Although never is often better than *right* now.\n",
      "If the implementation is hard to explain, it's a bad idea.\n",
      "If the implementation is easy to explain, it may be a good idea.\n",
      "Namespaces are one honking great idea -- let's do more of those!\n"
     ]
    }
   ],
   "source": [
    "import this"
   ]
  },
  {
   "cell_type": "markdown",
   "metadata": {},
   "source": [
    "#### For advanced users\n",
    "\n",
    "- python enhancement proposals: https://www.python.org/dev/peps/ \n",
    "- let's look into Full Python Grammar specification: https://docs.python.org/3.1/reference/grammar.html\n",
    "- python official repository: https://hg.python.org/\n"
   ]
  }
 ],
 "metadata": {
  "kernelspec": {
   "display_name": "Python 3",
   "language": "python",
   "name": "python3"
  },
  "language_info": {
   "codemirror_mode": {
    "name": "ipython",
    "version": 3
   },
   "file_extension": ".py",
   "mimetype": "text/x-python",
   "name": "python",
   "nbconvert_exporter": "python",
   "pygments_lexer": "ipython3",
   "version": "3.5.0"
  }
 },
 "nbformat": 4,
 "nbformat_minor": 0
}
