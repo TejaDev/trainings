{
 "cells": [
  {
   "cell_type": "markdown",
   "metadata": {},
   "source": [
    "# Python Training - Basic Level"
   ]
  },
  {
   "cell_type": "markdown",
   "metadata": {},
   "source": [
    "### Overview\n",
    "\n",
    "##### What is Python:\n",
    "\n",
    "- an interpreted, interactive, object-oriented programming language\n",
    "- dynamic typing, very high level dynamic data types and classes\n",
    "- very clear syntax - Python Style Guide: https://www.python.org/dev/peps/pep-0008/ \n",
    "- portable: it runs on many Unix variants, on the Mac, and on PCs under MS-DOS, Windows, Windows NT, and OS/2\n",
    "- easily extensible with C/C++/Java code, and easily embeddable in applications\n",
    "- free to use, even for commercial products, because of open source license\n",
    "\n",
    "> Guido van Rossum\n",
    "The joy of coding Python should be in seeing short, concise, readable classes that express a lot of action in a small amount of clear code -- not in reams of trivial code that bores the reader to death.\n",
    "\n",
    "\n",
    "\n",
    "Sources:\n",
    "- https://docs.python.org/2/faq/general.html\n",
    "- https://www.python.org/download/releases/2.7/license/\n",
    "- http://www.tiobe.com/index.php/content/paperinfo/tpci/index.html - programming lanugages trends\n",
    "- https://github.com/blog/2047-language-trends-on-github - gitub trends\n",
    "- https://www.python.org/doc/essays/comparisons/ - comparing python to other languages"
   ]
  },
  {
   "cell_type": "markdown",
   "metadata": {},
   "source": [
    "### What is Python good for\n",
    "\n",
    "- text processing & web scraping (reqgular expressions, LXML, Beautiful Soup, ...)\n",
    "- integration with operating systems (system calls, filesystems, TCP/IP sockets)\n",
    "- supprort for all known internet protocols (HTTP, FTP, SMTP, XML-RPC, POP, SOAP, ...)\n",
    "- data science (NumPy, SciPy, and matplotlib)\n",
    "- writing Web Applications (Django, Flask, Pyramid, ...)\n",
    "- glue together large software components\n",
    "- GUI programming (Tk, Qt, GNOME, KDE, Kivy ...)\n",
    "\n",
    "Sources:\n",
    "- https://wiki.python.org/moin/WebFrameworks\n",
    "- https://www.python.org/doc/essays/omg-darpa-mcc-position/ - Glue It All Together With Python\n",
    "- http://scikit-learn.org/stable/\n",
    "- https://wiki.python.org/moin/GuiProgramming"
   ]
  },
  {
   "cell_type": "markdown",
   "metadata": {},
   "source": [
    "### Python strenghts - comparing to other languages\n",
    "\n",
    "- Easy to learn\n",
    "- Application prototyping \n",
    "    - Program development using Python is 5-10 times faster than using C/C++ and 3-5 times faster than using Java\n",
    "    - In many cases, a prototype of an application can be written in Python without writing any C/C++/Java code\n",
    "- Supports multiple programming paradigms\n",
    "    - procedural (statement based)\n",
    "    - object-oriented (polymorphism, operator overloading and multiple inheritance)\n",
    "    - functional (generators, comprehensions, closures, maps, decorators, lambdas, first-class function objects)\n",
    "- Portability\n",
    "- Automatic memory management\n",
    "    - objects are automatically allocated and reclaimed (“garbage collects”) \n",
    "- Third-party utilities\n",
    "    - more than 70k packages\n",
    "    - https://pypi.python.org/pypi\n",
    "    \n",
    "    \n",
    "Sources:\n",
    "- https://www.python.org/doc/essays/omg-darpa-mcc-position/"
   ]
  },
  {
   "cell_type": "markdown",
   "metadata": {},
   "source": [
    "#### Software that makes use of Python\n",
    "\n",
    "- Applications: Dropbox, Youtube, Instagram, Reddit, Spotify, Blender 3D, ...\n",
    "- Games: Civilization IV, Eve Online\n",
    "- Tools: Ansible, Mercurial \n",
    "\n",
    "Sources:\n",
    "- https://www.python.org/about/success/\n",
    "- https://wiki.python.org/moin/OrganizationsUsingPython\n",
    "- https://wiki.python.org/moin/Applications"
   ]
  },
  {
   "cell_type": "markdown",
   "metadata": {},
   "source": [
    "### History of Python\n",
    "\n",
    "\n",
    "- Python was created in the early 1990s by Guido van Rossum at the National Research Institute for Mathematics and Computer Science in the Netherlands\n",
    "\n",
    "- Python is derived from many other languages, including ABC, Modula-3, C, C++, Algol-68, SmallTalk, and Unix shell and other scripting languages.\n",
    "\n",
    "- The language was named after the BBC show “Monty Python’s Flying Circus”\n",
    "\n",
    "- Python 2.7.y from 2010 - most common used Python version but legacy\n",
    "- Python 3.x.y from 2008 - recommended version\n",
    "\n",
    "\n",
    "Sources:\n",
    "- http://python-history.blogspot.com/\n",
    "- https://docs.python.org/2.7/faq/design.html \n",
    "- https://www.python.org/download/releases/2.7/license/\n",
    "- https://www.python.org/downloads/ - here you can find all Python version and release dates\n",
    "- https://www.python.org/~guido/interviews.html - interviews with python creator"
   ]
  },
  {
   "cell_type": "markdown",
   "metadata": {},
   "source": [
    "### Python 2.x or Python 3.x\n",
    "\n",
    "- Official statement: **Python 2.x is legacy, Python 3.x is the present and future of the language**\n",
    "- But in practice:\n",
    "    -  Python 2.7.x has been standard for a long time\n",
    "    -  Python 2.7.x will receive necessary security updates until 2020\n",
    "\n",
    "Major differences:\n",
    "- print is a function not statement\n",
    "- Better Unicode support\n",
    "- Memory-efficient iterable returns by default\n",
    "- Integers can handle any size, no longer limited to the machine's word size\n",
    "[TODO]\n",
    "\n",
    "\n",
    "Sources:\n",
    "- https://wiki.python.org/moin/Python2orPython3\n",
    "- http://docs.python-guide.org/en/latest/starting/which-python/#the-state-of-python-2-vs-3\n",
    "- https://docs.python.org/3/whatsnew/3.0.html - What is new in Python 3.x\n",
    "- http://python-notes.curiousefficiency.org/en/latest/python3/questions_and_answers.html - Python 3 Q&A\n",
    "- http://getpython3.com/ - How to port from 2.x to 3.x\n",
    "- https://python3wos.appspot.com/ - List of packages supported in Python 3.x, Most useful and not yet supported (January 2016): Fabric, Ansible, suds, protobuf, M2Crypto"
   ]
  },
  {
   "cell_type": "markdown",
   "metadata": {},
   "source": [
    "### Python implementations\n",
    "\n",
    "- Python is actually a specification for a language that can be implemented in many different waysY\n",
    "- You can find Python Grammar specification here: https://docs.python.org/2/reference/grammar.html\n",
    "\n",
    "Python implementations:\n",
    "\n",
    "- CPython\n",
    "    - reference implementation of Python, written in C\n",
    "    - it compiles Python code to intermediate bytecode which is then interpreted by a virtual machine\n",
    "    \n",
    "- PyPy\n",
    "    - interpreter implemented in a restricted statically-typed subset of the Python language\n",
    "    - Python performance was improved - it is 5 times faster than CPython\n",
    "    \n",
    "- Jython\n",
    "    - implementation that compiles Python code to Java bytecode which is then executed by the JVM\n",
    "    - it is possible to import and use any Java class like a Python module\n",
    "    \n",
    "- IronPython\n",
    "    - implementation of Python for the .NET framework\n",
    "    - it is possible to import and use any .NET framework libraries"
   ]
  },
  {
   "cell_type": "markdown",
   "metadata": {},
   "source": [
    "### Interpreter\n",
    "\n",
    "- A kind of program that executes other programs\n",
    "- Reads your program and carries out the instructions it contains\n",
    "\n",
    "\n",
    "http://aosabook.org/en/500L/a-python-interpreter-written-in-python.html"
   ]
  },
  {
   "cell_type": "markdown",
   "metadata": {},
   "source": [
    "### Code compilation and interpreting\n",
    "\n",
    "#### Byte code\n",
    "\n",
    "- When you execute a script, Python compiles your source code into a format known as byte code\n",
    "    - it creates binary file with .pyc extension\n",
    "        - in python 3.x, .pyc files are stored in ```__pycache__``` directory\n",
    "        - byte code can be also generated in memory in case have no write permission in filesystem\n",
    "    - compilation is simply a translation step\n",
    "- Byte code is a lower-level, platform-independent representation of your source code\n",
    "- Byte code translation is performed to speed execution\n",
    "\n",
    "> Byte code is an implementation detail of the CPython interpreter\n",
    "\n",
    "- Byte code example:\n",
    "\n",
    "```python\n",
    "0 LOAD_GLOBAL              0 (len)\n",
    "3 LOAD_FAST                0 (alist)\n",
    "6 CALL_FUNCTION            1\n",
    "9 RETURN_VALUE\n",
    "```\n",
    "\n",
    "#### Byte code interpretation\n",
    "\n",
    "- Byte code instructions are interpreted by python interpreter\n",
    "    - interpreter reads the binary file (.pyc) and executes the instructions one at a time\n",
    "\n",
    "\n",
    "#### Compilation and interpretation steps\n",
    "\n",
    "For example:\n",
    "\n",
    "```python\n",
    "python your_program.py\n",
    "```\n",
    "\n",
    "1. Lexical analysis (break text to find tokens - keywords, operators, literals)\n",
    "2. Parsing - based on the rules from grammar, produces Abstract Syntax Tree (AST)\n",
    "3. Code generation produces PyCodeObject (bytecode)\n",
    "4. Code execution by bytecode interpreter (stack-based virtual machine)\n",
    "\n",
    "Sources:\n",
    "- http://security.coverity.com/blog/2014/Nov/understanding-python-bytecode.html\n",
    "- http://tomlee.co/wp-content/uploads/2012/11/108_python-language-internals.pdf"
   ]
  },
  {
   "cell_type": "markdown",
   "metadata": {},
   "source": [
    "### How to install Python\n",
    "\n",
    "For Windows, Mac OS X, Sources:\n",
    "\n",
    "    - download Python interpreter from https://www.python.org/downloads/\n",
    "    - detailed instruction for Windows: http://www.howtogeek.com/197947/how-to-install-python-on-windows/\n",
    "    \n",
    "For Linux:\n",
    "    - just use your package manager like apt, yum\n",
    "        - for RedHat like systems: yum install python\n",
    "        - for Debian like systems: apt-get install python"
   ]
  },
  {
   "cell_type": "markdown",
   "metadata": {},
   "source": [
    "### Interactive mode\n",
    "\n",
    "What is interactive mode and why it should be used:\n",
    "- command line shell for Python\n",
    "- immediate feedback for each statement you type\n",
    "- it is faster to check Python documentation than using Web Browser, just type\n",
    "```python\n",
    "help(antyhing)\n",
    "```\n",
    "\n",
    "How to run interactive mode:\n",
    "\n",
    "- Just invoke the interpreter without passing a script file as a parameter \n",
    "\n",
    "- To enter the interactive mode type **python** command in your Shell (windows/linux)\n",
    "- You should be able to see prompt **>>>**\n",
    "\n",
    "For example:\n",
    "\n",
    "```python\n",
    "Python 3.5.0 (v3.5.0:374f501f4567, Sep 13 2015, 02:16:59) [MSC v.1900 32 bit (Intel)] on win32\n",
    "Type \"help\", \"copyright\", \"credits\" or \"license\" for more information.\n",
    ">>>\n",
    "```\n",
    "\n",
    "Sources:\n",
    "- http://stackoverflow.com/questions/2664785/why-use-python-interactive-mode"
   ]
  },
  {
   "cell_type": "markdown",
   "metadata": {},
   "source": [
    "### Script mode\n",
    "\n",
    "- Python program/script is just a text file containing Python statements\n",
    "\n",
    "- Invoking the interpreter with a script parameter begins execution of the script and continues until the script is finished\n",
    "- Python files have extension .py, for example: hello_world.py\n",
    "- How to run? (you should have python interpreter set in PATH environment variable)\n",
    "\n",
    "```bash\n",
    "python your_script.py\n",
    "```\n",
    "\n",
    "- You can also run your python script as follows:\n",
    "\n",
    "```bash\n",
    "./your_script.py\n",
    "```\n",
    "\n",
    "- but you need to add path to your python interpreter directly inside your script\n",
    "\n",
    "```python\n",
    "#!/usr/bin/python\n",
    "print \"Hello world\"\n",
    "```"
   ]
  },
  {
   "cell_type": "markdown",
   "metadata": {},
   "source": [
    "### Syntax\n",
    "\n",
    "#### Code structure\n",
    "\n",
    "- Remember: A Python program is read by a parser\n",
    "- A Python program is divided into a number of logical lines\n",
    "- The end of a logical line is represented by the token NEWLINE\n",
    "- A logical line is constructed from one or more physical lines\n",
    "- A physical line is a sequence of characters terminated by an end-of-line sequence\n",
    "- Two or more physical lines may be joined into logical lines using backslash characters (\\)\n",
    "\n",
    "#### Indentation\n",
    "\n",
    "- Indentation = white spaces (tabs or spaces - never mixed!)\n",
    "- Indentation level of your statements is significant\n",
    "- Everywhere else, whitespace is not significant and can be used as you like, just like in any other language\n",
    "- The exact amount of indentation doesn't matter at all, but only the relative indentation of nested blocks (relative to each other)\n",
    "\n",
    "- Python uses indentation to indicate blocks of code\n",
    "- https://www.python.org/dev/peps/pep-0008/\n",
    "\n",
    "```python\n",
    "def function(args):\n",
    "    do_something()               # Indentation\n",
    "    do_something_else()          # Indentation\n",
    "    return                       # Indentation\n",
    "\n",
    "def function2(condition):\n",
    "    if condition == 0:           # Indentation\n",
    "        do_something()           # Indentation\n",
    "        if condition == 1:       # Indentation\n",
    "            do_something_else()  # Indentation\n",
    "        else:                    # Indentation\n",
    "            print('do nothing')  # Indentation\n",
    "    else:                        # Indentation\n",
    "        do_something()           # Indentation\n",
    "        \n",
    "                                 # two empty lines - does not matter \n",
    "     return                      # Indentation\n",
    "    \n",
    "function()\n",
    "function2()\n",
    "\n",
    "```\n",
    "\n",
    "\n",
    "#### Keywords (reserved words)\n",
    "\n",
    "- Important: all the Python keywords contain lowercase letters only\n",
    "- These names below cannot be used as ordinary identifiers:\n",
    "\n",
    "```\n",
    "and       del       from      not       while\n",
    "as        elif      global    or        with\n",
    "assert    else      if        pass      yield\n",
    "break     except    import    print\n",
    "class     exec      in        raise\n",
    "continue  finally   is        return\n",
    "def       for       lambda    try\n",
    "```\n",
    "\n",
    "\n",
    "#### Operators\n",
    "\n",
    "- The following tokens are operators:\n",
    "\n",
    "```\n",
    "+       -       *       **      /       //      %      @\n",
    "<<      >>      &       |       ^       ~\n",
    "<       >       <=      >=      ==      !=\n",
    "```\n",
    "\n",
    "#### Comments\n",
    "\n",
    "- Represented by a hash sign(#) that is not inside a string literal\n",
    "- Represented by quotation - you can use single ('), double (\") and triple (''' or \"\"\") quotes\n",
    "\n",
    "\n",
    "Sources:\n",
    "- https://docs.python.org/2/reference/lexical_analysis.html\n",
    "- https://docs.python.org/3/reference/lexical_analysis.html"
   ]
  },
  {
   "cell_type": "code",
   "execution_count": null,
   "metadata": {
    "collapsed": false
   },
   "outputs": [],
   "source": [
    "# comment\n",
    "# comment\n",
    "\n",
    "a = 3 # comment\n",
    "\n",
    "'''\n",
    "comment\n",
    "comment\n",
    "comment\n",
    "'''"
   ]
  },
  {
   "cell_type": "markdown",
   "metadata": {},
   "source": [
    "### Variables are labels, not boxes\n",
    "\n",
    "- Variables are like reference variables in Java\n",
    "- So it’s better to think of them as labels (names) attached to objects\n",
    "\n",
    "- Always read the right-hand side first: that’s where the object is created or retrieved\n",
    "- After that, the variable on the left is bound to the object, like a label stuck to it\n",
    "\n",
    "- A variable is simply a value bound to a name\n",
    "- The value has a type -- like \"integer\" or \"string\" or \"list\" -- but the variable itself doesn't\n",
    "\n",
    "\n",
    "- Created when they are first assigned values\n",
    "- Replaced with their values when used in expressions\n",
    "- Must be assigned before they can be used in expressions\n",
    "- Refer to objects and are never declared ahead of time\n",
    "\n",
    "#### Labeling object - example\n",
    "\n",
    "```python\n",
    ">>> A = 1                # Assign a name to an object\n",
    "```\n",
    "\n",
    "1. Create an object to represent the value 1\n",
    "2. Create the variable A, if it does not yet exist\n",
    "3. Link the variable A to the new object 1\n"
   ]
  },
  {
   "cell_type": "markdown",
   "metadata": {},
   "source": [
    "### Dynamic typing aka  polimorphizm\n",
    "\n",
    "> Once you create an object, you bind its operation set for all time\n",
    "— you can perform only string operations on a string and list operations on a list\n",
    "\n",
    "- Tt doesn’t require complicated type and size declarations in your code\n",
    "- Type checks are performed mostly at run time\n",
    "- Interpreter tracks of the kinds of objects your program uses when it runs\n",
    "- Dynamic typing means there is less code for you to write\n",
    "\n",
    "- Sort of type-dependent behavior is known as polymorphism \n",
    "- Dvery operation is a polymorphic operation in Python: \n",
    "\n",
    "> Polymorphic behavior has in recent years come to also be known as duck typing—the essential idea being that your code is not supposed to care if an object is a duck, only that it quacks. Anything that quacks will do, duck or not, and the implementation of quacks is up to the object,"
   ]
  },
  {
   "cell_type": "markdown",
   "metadata": {},
   "source": [
    "### Built-in types\n",
    "\n",
    "- All build-in types listed in documentation: https://docs.python.org/3/library/stdtypes.html\n",
    "- Of course you may create your own types (class)\n",
    "\n",
    "\n",
    "#### Boolean \n",
    "- True, False\n",
    "\n",
    "#### Numeric\n",
    "- int(signed integers), float (floating point real values), complex (complex numbers)\n",
    "- Number data types store numeric values\n",
    "- Of course it is possible to convert between types: int(), float()\n",
    "\n",
    "#### Strings\n",
    "- Python’s strings also come with full Unicode support required for processing text in internationalized character sets\n",
    "- You can find common string operations in 'string' module: https://docs.python.org/2/library/string.html\n",
    "\n",
    "> The string module contains a number of useful constants, methods and classes\n",
    "\n",
    "Useful contastants in string module:\n",
    "- string.ascii_letters -> 'abcdefghijklmnopqrstuvwxyzABCDEFGHIJKLMNOPQRSTUVWXYZ'\n",
    "- string.digits        -> '0123456789'\n",
    "- string.punctuation   -> ```'!\"#$%&\\'()*+,-./:;<=>?@[\\\\]^_`{|}~'``\n",
    "\n",
    "\n",
    "Useful string methods:\n",
    "- str.capitalize() -> only first character capitalized and the rest lowercased in string\n",
    "- str.encode(encoding=\"utf-8\") -> return an encoded version of the string as a bytes object\n",
    "- str.decode()\n",
    "- str.format() -> perform a string formatting operation\n",
    "\n",
    "#### Data structures \n",
    "- list, tuples, dictionaries\n",
    "- You can find high-performance container datatypes in collections module: https://docs.python.org/2/library/collections.html\n"
   ]
  },
  {
   "cell_type": "markdown",
   "metadata": {},
   "source": [
    "#### String formatting operation\n",
    "\n",
    "str.format()\n",
    "- Perform a string formatting operation\n",
    "- The string on which this method is called can contain literal text or replacement fields delimited by braces {}\n",
    "- Each replacement field contains either the numeric index of a positional argument, or the name of a keyword argument\n",
    "- Returns a copy of the string where each replacement field is replaced with the string value of the corresponding argument\n",
    "\n",
    "\n",
    "Sources:\n",
    "- http://www.diveintopython.net/native_data_types/formatting_strings.html\n",
    "- https://pyformat.info/\n",
    "- https://mkaz.github.io/2012/10/10/python-string-format/"
   ]
  },
  {
   "cell_type": "code",
   "execution_count": 5,
   "metadata": {
    "collapsed": false
   },
   "outputs": [
    {
     "data": {
      "text/plain": [
       "'one two'"
      ]
     },
     "execution_count": 5,
     "metadata": {},
     "output_type": "execute_result"
    }
   ],
   "source": [
    "'{} {}'.format('one', 'two')"
   ]
  },
  {
   "cell_type": "code",
   "execution_count": 6,
   "metadata": {
    "collapsed": false
   },
   "outputs": [
    {
     "data": {
      "text/plain": [
       "'two one'"
      ]
     },
     "execution_count": 6,
     "metadata": {},
     "output_type": "execute_result"
    }
   ],
   "source": [
    "'{1} {0}'.format('one', 'two')"
   ]
  },
  {
   "cell_type": "code",
   "execution_count": 12,
   "metadata": {
    "collapsed": false
   },
   "outputs": [
    {
     "name": "stdout",
     "output_type": "stream",
     "text": [
      "                   align right\n",
      "align left                    \n",
      "            center            \n"
     ]
    }
   ],
   "source": [
    "print('{:>30}'.format('align right')) \n",
    "print('{:30}'.format('align left'))\n",
    "print('{:^30}'.format('center'))"
   ]
  },
  {
   "cell_type": "code",
   "execution_count": 2,
   "metadata": {
    "collapsed": false
   },
   "outputs": [
    {
     "name": "stdout",
     "output_type": "stream",
     "text": [
      "3.142\n"
     ]
    }
   ],
   "source": [
    "print('{:.3f}'.format(3.141592653589793))  # 3 decimal places"
   ]
  },
  {
   "cell_type": "code",
   "execution_count": 8,
   "metadata": {
    "collapsed": false
   },
   "outputs": [
    {
     "name": "stdout",
     "output_type": "stream",
     "text": [
      "Guido van Rossum\n"
     ]
    },
    {
     "ename": "TypeError",
     "evalue": "list indices must be integers or slices, not str",
     "output_type": "error",
     "traceback": [
      "\u001b[1;31m---------------------------------------------------------------------------\u001b[0m",
      "\u001b[1;31mTypeError\u001b[0m                                 Traceback (most recent call last)",
      "\u001b[1;32m<ipython-input-8-5656bacf6e43>\u001b[0m in \u001b[0;36m<module>\u001b[1;34m()\u001b[0m\n\u001b[0;32m      3\u001b[0m \u001b[1;33m\u001b[0m\u001b[0m\n\u001b[0;32m      4\u001b[0m \u001b[0mdata\u001b[0m \u001b[1;33m=\u001b[0m \u001b[1;33m[\u001b[0m\u001b[1;36m4\u001b[0m\u001b[1;33m,\u001b[0m \u001b[1;36m8\u001b[0m\u001b[1;33m,\u001b[0m \u001b[1;36m15\u001b[0m\u001b[1;33m,\u001b[0m \u001b[1;36m16\u001b[0m\u001b[1;33m,\u001b[0m \u001b[1;36m23\u001b[0m\u001b[1;33m,\u001b[0m \u001b[1;36m42\u001b[0m\u001b[1;33m]\u001b[0m\u001b[1;33m\u001b[0m\u001b[0m\n\u001b[1;32m----> 5\u001b[1;33m \u001b[0mprint\u001b[0m\u001b[1;33m(\u001b[0m\u001b[1;34m'{d[0]} {d[-2]}'\u001b[0m\u001b[1;33m.\u001b[0m\u001b[0mformat\u001b[0m\u001b[1;33m(\u001b[0m\u001b[0md\u001b[0m\u001b[1;33m=\u001b[0m\u001b[0mdata\u001b[0m\u001b[1;33m)\u001b[0m\u001b[1;33m)\u001b[0m\u001b[1;33m\u001b[0m\u001b[0m\n\u001b[0m",
      "\u001b[1;31mTypeError\u001b[0m: list indices must be integers or slices, not str"
     ]
    }
   ],
   "source": [
    "person = {'name': 'Guido', 'surname': 'van Rossum'}\n",
    "print('{p[name]} {p[surname]}'.format(p=person))\n",
    "\n",
    "data = [4, 8, 15, 16, 23, 42]\n",
    "print('{d[0]} {d[2]}'.format(d=data))"
   ]
  },
  {
   "cell_type": "code",
   "execution_count": 4,
   "metadata": {
    "collapsed": false
   },
   "outputs": [
    {
     "name": "stdout",
     "output_type": "stream",
     "text": [
      "The sum of 1 + 2 is 3\n",
      "The sum of 1 + 2 is 3\n"
     ]
    }
   ],
   "source": [
    "print(\"The sum of {} + {} is {}\".format(1, 2, 3))\n",
    "\n",
    "a = 1\n",
    "b = 2\n",
    "c = a + b\n",
    "\n",
    "print(\"The sum of {a} + {b} is {c}\".format(a=a, b=b, c=c))"
   ]
  },
  {
   "cell_type": "markdown",
   "metadata": {},
   "source": [
    "#### Unicodes\n",
    "Python 3:\n",
    "- In Python 3.X, the normal str string handles Unicode text (including ASCII, which is just a simple kind of Unicode)\n",
    "- a distinct bytes string type represents raw byte values (including media and encoded text)\n",
    "- 2.X Unicode literals are supported in 3.3 and later for 2.X compatibility (they are treated the same as normal 3.X str strings)\n",
    "\n",
    "```python\n",
    ">>> 'sp\\xc4m'                     # 3.X: normal str strings are Unicode text\n",
    "'spÄm'\n",
    ">>> b'a\\x01c'                     # bytes strings are byte-based data\n",
    "b'a\\x01c'\n",
    "```\n",
    "\n",
    "Python 2:\n",
    "- In Python 2.X, the normal str string handles both 8-bit character strings (including ASCII text) and raw byte values\n",
    "- a distinctunicode string type represents Unicode text; and 3.X bytes literals are supported in 2.6 and later for 3.X compatibility (they are treated the same as normal 2.X str strings)\n",
    "\n",
    "```python\n",
    ">>> print u'sp\\xc4m'              # 2.X: Unicode strings are a distinct type\n",
    "spÄm\n",
    ">>> 'a\\x01c'                      # Normal str strings contain byte-based text/data\n",
    "'a\\x01c'\n",
    ">>> b'a\\x01c'                     # The 3.X bytes literal works in 2.6+: just str\n",
    "'a\\x01c'\n",
    "\n",
    ">>> string = 'SPAM'\n",
    ">>> a, b, c, d = string           # Same number on both sides\n",
    ">>> a, d\n",
    "('S', 'M')\n",
    "```\n",
    "\n",
    "\n",
    "Sources:\n",
    "- https://docs.python.org/3/library/stdtypes.html"
   ]
  },
  {
   "cell_type": "markdown",
   "metadata": {},
   "source": [
    "### Boolean operations (AND, OR, NOT)\n",
    "\n",
    "OR\n",
    "- ```x or y``` if x is false, then y, else x\n",
    "- For or tests, Python evaluates the operand objects from left to right and returns the first one that is true\n",
    "- Moreover, Python stops at the first true operand it finds. This is usually called short-circuit evaluation, as determining a result short-circuits (terminates) the rest of the expression as soon as the result is known\n",
    "\n",
    "```python\n",
    ">>> 2 or 3, 3 or 2      # Return left operand if true\n",
    "(2, 3)                  # Else, return right operand (true or false)\n",
    ">>> [] or 3\n",
    "3\n",
    ">>>[] or {}\n",
    "{}\n",
    "```\n",
    "\n",
    "AND\n",
    "- ```x and y``` if x is false, then x, else y\t\n",
    "- Python and operations also stop as soon as the result is known; however, in this case Python evaluates the operands from left to right and stops if the left operand is a false object because it determines the result—falseand anything is always false\n",
    "\n",
    "Example 1:\n",
    "```python\n",
    ">>> 2 and 3, 3 and 2    # Return left operand if false\n",
    "(3, 2)                  # Else, return right operand (true or false)\n",
    ">>> [] and {}\n",
    "[]\n",
    ">>> 3 and []\n",
    "[]\n",
    "```\n",
    "\n",
    "Example2:\n",
    "```python\n",
    "X = A or B or C or None  # assigns X to the first nonempty (that is, true) object\n",
    "```\n",
    "\n",
    "NOT \n",
    "- ```not x ``` if x is false, then True, else False\n",
    "\n",
    "Example:\n",
    "```\n",
    "not True # False\n",
    "```"
   ]
  },
  {
   "cell_type": "code",
   "execution_count": null,
   "metadata": {
    "collapsed": false
   },
   "outputs": [],
   "source": [
    "a = 3\n",
    "b = 2.7\n",
    "c = 'A'\n",
    "d = [1, 2.1, [1,2], 'python']\n",
    "e = 'python'\n",
    "f = (1,2,)\n",
    "g = {'key1': 1, 'key2': 'two'}\n",
    "true_or_false = True\n",
    "no_value_here = None\n",
    "\n",
    "# define new type\n",
    "class YourNewType(object):\n",
    "    def __init__(self, a, b):\n",
    "        self.a = a\n",
    "        self.b = b     \n",
    "your_type_instance = YourNewType(1, 'string')\n",
    "\n",
    "# define new function\n",
    "def do_something(param1, param2):\n",
    "    return param1 * param2\n",
    "    \n",
    "function_obj = do_something\n",
    "value_returned_from_function = do_something(1, 2)\n",
    "value_returned_from_function = function_obj(1, 2)\n",
    "\n",
    "\n",
    "# print types and value\n",
    "print(type(a), a)\n",
    "print(type(b), b)\n",
    "print(type(c), c)\n",
    "print(type(d), d)\n",
    "print(type(e), e)\n",
    "print(type(f), f)\n",
    "print(type(g), g)\n",
    "print(type(true_or_false), true_or_false)\n",
    "print(type(no_value_here), no_value_here)\n",
    "print(type(your_type_instance), your_type_instance)\n",
    "print(type(function_obj), function_obj)\n",
    "print(type(value_returned_from_function), value_returned_from_function)"
   ]
  },
  {
   "cell_type": "markdown",
   "metadata": {},
   "source": [
    "Use http://www.pythontutor.com/ to visualize how Python works. It executes step-by-step all instructions.\n",
    "\n",
    "Our example with \"Dynamic Types\": http://goo.gl/5RTtnU "
   ]
  },
  {
   "cell_type": "markdown",
   "metadata": {},
   "source": [
    "![example1](example1.png)"
   ]
  },
  {
   "cell_type": "markdown",
   "metadata": {},
   "source": [
    "### Strong Typing\n",
    "\n",
    "- the interpreter keeps track of all variables types\n",
    "- you can't perform operations inappropriate to the type of the object \n",
    "    - attempting to add numbers to strings will fail\n"
   ]
  },
  {
   "cell_type": "code",
   "execution_count": null,
   "metadata": {
    "collapsed": false
   },
   "outputs": [],
   "source": [
    "# Example: 1\n",
    "a = 3\n",
    "b = 5\n",
    "c = a + b\n",
    "\n",
    "# Example: 2\n",
    "a = 'A'\n",
    "b = 'B'\n",
    "c = a + b\n",
    "\n",
    "# Example: 3 \n",
    "[1, 2, 3] + [4, 5]\n",
    "[1,2, 3] * 3"
   ]
  },
  {
   "cell_type": "code",
   "execution_count": null,
   "metadata": {
    "collapsed": false
   },
   "outputs": [],
   "source": [
    "# trying to change type\n",
    "\n",
    "a = 3\n",
    "b = 'A'\n",
    "c = a + b"
   ]
  },
  {
   "cell_type": "markdown",
   "metadata": {},
   "source": [
    "#### How to \"fix\" this example?\n",
    "\n",
    "Just use one of the available conversion method"
   ]
  },
  {
   "cell_type": "code",
   "execution_count": null,
   "metadata": {
    "collapsed": false
   },
   "outputs": [],
   "source": [
    "float(2)     # from integer to float "
   ]
  },
  {
   "cell_type": "code",
   "execution_count": null,
   "metadata": {
    "collapsed": false
   },
   "outputs": [],
   "source": [
    "int(3.4)     # from float to integer"
   ]
  },
  {
   "cell_type": "code",
   "execution_count": null,
   "metadata": {
    "collapsed": false
   },
   "outputs": [],
   "source": [
    "str(3)       # from integer to string"
   ]
  },
  {
   "cell_type": "code",
   "execution_count": null,
   "metadata": {
    "collapsed": false
   },
   "outputs": [],
   "source": [
    "str(4.2)     # from float to integer"
   ]
  },
  {
   "cell_type": "code",
   "execution_count": null,
   "metadata": {
    "collapsed": false
   },
   "outputs": [],
   "source": [
    "list((1,2,)) # from tuple to list"
   ]
  },
  {
   "cell_type": "code",
   "execution_count": null,
   "metadata": {
    "collapsed": false
   },
   "outputs": [],
   "source": [
    "# just use one of the conversion method, to convert between types\n",
    "a = 10\n",
    "b = \"cats\"\n",
    "str(a) + b\n",
    "\n",
    "# if you want to only print, just print without any conversion\n",
    "print(a, 'funny', b)"
   ]
  },
  {
   "cell_type": "markdown",
   "metadata": {},
   "source": [
    "**Remember**:\n",
    "> Don’t check whether it is-a duck: check whether it quacks-like-a duck, walks-like-a duck, etc, etc,\n",
    "depending on exactly what subset of duck-like behavior you need to play your language-games with. - (comp.lang.python, Jul. 26, 2000) — Alex Martelli"
   ]
  },
  {
   "cell_type": "code",
   "execution_count": null,
   "metadata": {
    "collapsed": false
   },
   "outputs": [],
   "source": [
    "help(dir)"
   ]
  },
  {
   "cell_type": "code",
   "execution_count": null,
   "metadata": {
    "collapsed": false
   },
   "outputs": [],
   "source": [
    "dir(1)"
   ]
  },
  {
   "cell_type": "markdown",
   "metadata": {},
   "source": [
    "### Built-in functions\n",
    "\n",
    "- The Python interpreter has a number of functions and types built into it that are always available\n",
    "- List of all built-int functions: https://docs.python.org/3/library/functions.html"
   ]
  },
  {
   "cell_type": "code",
   "execution_count": 2,
   "metadata": {
    "collapsed": false
   },
   "outputs": [
    {
     "data": {
      "text/plain": [
       "['ArithmeticError',\n",
       " 'AssertionError',\n",
       " 'AttributeError',\n",
       " 'BaseException',\n",
       " 'BlockingIOError',\n",
       " 'BrokenPipeError',\n",
       " 'BufferError',\n",
       " 'BytesWarning',\n",
       " 'ChildProcessError',\n",
       " 'ConnectionAbortedError',\n",
       " 'ConnectionError',\n",
       " 'ConnectionRefusedError',\n",
       " 'ConnectionResetError',\n",
       " 'DeprecationWarning',\n",
       " 'EOFError',\n",
       " 'Ellipsis',\n",
       " 'EnvironmentError',\n",
       " 'Exception',\n",
       " 'False',\n",
       " 'FileExistsError',\n",
       " 'FileNotFoundError',\n",
       " 'FloatingPointError',\n",
       " 'FutureWarning',\n",
       " 'GeneratorExit',\n",
       " 'IOError',\n",
       " 'ImportError',\n",
       " 'ImportWarning',\n",
       " 'IndentationError',\n",
       " 'IndexError',\n",
       " 'InterruptedError',\n",
       " 'IsADirectoryError',\n",
       " 'KeyError',\n",
       " 'KeyboardInterrupt',\n",
       " 'LookupError',\n",
       " 'MemoryError',\n",
       " 'NameError',\n",
       " 'None',\n",
       " 'NotADirectoryError',\n",
       " 'NotImplemented',\n",
       " 'NotImplementedError',\n",
       " 'OSError',\n",
       " 'OverflowError',\n",
       " 'PendingDeprecationWarning',\n",
       " 'PermissionError',\n",
       " 'ProcessLookupError',\n",
       " 'RecursionError',\n",
       " 'ReferenceError',\n",
       " 'ResourceWarning',\n",
       " 'RuntimeError',\n",
       " 'RuntimeWarning',\n",
       " 'StopAsyncIteration',\n",
       " 'StopIteration',\n",
       " 'SyntaxError',\n",
       " 'SyntaxWarning',\n",
       " 'SystemError',\n",
       " 'SystemExit',\n",
       " 'TabError',\n",
       " 'TimeoutError',\n",
       " 'True',\n",
       " 'TypeError',\n",
       " 'UnboundLocalError',\n",
       " 'UnicodeDecodeError',\n",
       " 'UnicodeEncodeError',\n",
       " 'UnicodeError',\n",
       " 'UnicodeTranslateError',\n",
       " 'UnicodeWarning',\n",
       " 'UserWarning',\n",
       " 'ValueError',\n",
       " 'Warning',\n",
       " 'WindowsError',\n",
       " 'ZeroDivisionError',\n",
       " '__IPYTHON__',\n",
       " '__IPYTHON__active',\n",
       " '__build_class__',\n",
       " '__debug__',\n",
       " '__doc__',\n",
       " '__import__',\n",
       " '__loader__',\n",
       " '__name__',\n",
       " '__package__',\n",
       " '__spec__',\n",
       " 'abs',\n",
       " 'all',\n",
       " 'any',\n",
       " 'ascii',\n",
       " 'bin',\n",
       " 'bool',\n",
       " 'bytearray',\n",
       " 'bytes',\n",
       " 'callable',\n",
       " 'chr',\n",
       " 'classmethod',\n",
       " 'compile',\n",
       " 'complex',\n",
       " 'copyright',\n",
       " 'credits',\n",
       " 'delattr',\n",
       " 'dict',\n",
       " 'dir',\n",
       " 'divmod',\n",
       " 'dreload',\n",
       " 'enumerate',\n",
       " 'eval',\n",
       " 'exec',\n",
       " 'filter',\n",
       " 'float',\n",
       " 'format',\n",
       " 'frozenset',\n",
       " 'get_ipython',\n",
       " 'getattr',\n",
       " 'globals',\n",
       " 'hasattr',\n",
       " 'hash',\n",
       " 'help',\n",
       " 'hex',\n",
       " 'id',\n",
       " 'input',\n",
       " 'int',\n",
       " 'isinstance',\n",
       " 'issubclass',\n",
       " 'iter',\n",
       " 'len',\n",
       " 'license',\n",
       " 'list',\n",
       " 'locals',\n",
       " 'map',\n",
       " 'max',\n",
       " 'memoryview',\n",
       " 'min',\n",
       " 'next',\n",
       " 'object',\n",
       " 'oct',\n",
       " 'open',\n",
       " 'ord',\n",
       " 'pow',\n",
       " 'print',\n",
       " 'property',\n",
       " 'range',\n",
       " 'repr',\n",
       " 'reversed',\n",
       " 'round',\n",
       " 'set',\n",
       " 'setattr',\n",
       " 'slice',\n",
       " 'sorted',\n",
       " 'staticmethod',\n",
       " 'str',\n",
       " 'sum',\n",
       " 'super',\n",
       " 'tuple',\n",
       " 'type',\n",
       " 'vars',\n",
       " 'zip']"
      ]
     },
     "execution_count": 2,
     "metadata": {},
     "output_type": "execute_result"
    }
   ],
   "source": [
    "import builtins\n",
    "dir(builtins)"
   ]
  },
  {
   "cell_type": "code",
   "execution_count": null,
   "metadata": {
    "collapsed": false
   },
   "outputs": [],
   "source": [
    "(1).to_bytes(2, 'big')"
   ]
  },
  {
   "cell_type": "markdown",
   "metadata": {},
   "source": [
    "### The Python Conceptual Hierarchy\n",
    "\n",
    "1. Programs are composed of modules.\n",
    "2. Modules contain statements.\n",
    "3. Statements contain expressions.\n",
    "4. Expressions create and process objects.\n"
   ]
  },
  {
   "cell_type": "markdown",
   "metadata": {},
   "source": [
    "### Everything in python is an object\n",
    "\n",
    "- What is object in general?\n",
    "> objects are essentially just pieces of memory, with values and sets of associated operations\n",
    "\n",
    "- every object has an identity, a type and a value\n",
    "\n",
    "- an object’s identity never changes once it has been created\n",
    "- you may think of it as the object’s address in memory\n",
    "\n",
    "- the 'is' operator compares the identity of two objects\n",
    "\n",
    "- the id() function returns an integer representing its identity\n",
    "- in CPython, id() returns the memory address of the object\n",
    "\n",
    "https://docs.python.org/3/reference/datamodel.html#objects-values-and-types "
   ]
  },
  {
   "cell_type": "code",
   "execution_count": null,
   "metadata": {
    "collapsed": false
   },
   "outputs": [],
   "source": [
    "obj_1 = [1, 2]\n",
    "obj_2 = [1, 2]\n",
    "\n",
    "print(id(obj_1))\n",
    "print(id(obj_2))\n",
    "\n",
    "print(\"id(obj_1) == id(obj_2): \", id(obj_1) == id(obj_2))\n",
    "\n",
    "print(\"obj_1 == obj_2: \", obj_1 == obj_2)"
   ]
  },
  {
   "cell_type": "markdown",
   "metadata": {},
   "source": [
    "**Remember**:\n",
    "> The == operator compares the values of objects (the data they hold), while 'is' compares their identities"
   ]
  },
  {
   "cell_type": "markdown",
   "metadata": {},
   "source": [
    "### Python objects - mutables vs immutable\n",
    "\n",
    "#### mutable:\n",
    "    - mutable objects can change their value but keep their id().\n",
    "\n",
    "#### immutable:\n",
    "    - an object with a fixed value\n",
    "    - immutable objects include numbers, strings and tuples\n",
    "    - such an object cannot be altered\n",
    "    - a new object has to be created if a different value has to be stored\n",
    "    - they play an important role in places where a constant hash value is needed, for example as a key in a dictionary\n",
    "    - important advantage - performance\n",
    "\n",
    ">knowing that a object is immutable means we can allocate space for it at creation time, \n",
    "and the storage requirements are fixed and unchanging.\n",
    "\n",
    "Example: http://goo.gl/N6Rw4P"
   ]
  },
  {
   "cell_type": "code",
   "execution_count": null,
   "metadata": {
    "collapsed": false
   },
   "outputs": [],
   "source": [
    "# mutable example\n",
    "\n",
    "l1 = [1, 2, 3]\n",
    "l2 = l1\n",
    "l2.append(4)\n",
    "\n",
    "print(l1)\n",
    "print(l2)"
   ]
  },
  {
   "cell_type": "code",
   "execution_count": null,
   "metadata": {
    "collapsed": false
   },
   "outputs": [],
   "source": [
    "# immutable example\n",
    "\n",
    "x = 5\n",
    "y = x\n",
    "x = x + 1\n",
    "\n",
    "print(x)\n",
    "print(y)"
   ]
  },
  {
   "cell_type": "markdown",
   "metadata": {},
   "source": [
    "![mutable-immutable](mutable-immutable.png)"
   ]
  },
  {
   "cell_type": "code",
   "execution_count": null,
   "metadata": {
    "collapsed": false
   },
   "outputs": [],
   "source": [
    "dir(employer_1)"
   ]
  },
  {
   "cell_type": "markdown",
   "metadata": {},
   "source": [
    "### Data Structures\n",
    "\n",
    "Basic data structures (most common used):\n",
    "\n",
    "#### lists \n",
    "\n",
    "> [1, 2, 'python', obj1, obj2]\n",
    " \n",
    "- sequence type - you can iterate\n",
    "- lists are mutable - can be modified in place by assignment to offsets as well as a variety of list method calls\n",
    "- can change their value but keep their ID (address in memory) - holds references to objects\n",
    "- the list type is a container\n",
    "- holds a number of other objects, in a given order\n",
    "- no fixed size - they can grow and shrink on demand, in response to list-specific operations like append. remove, ...\n",
    "- you can put into list all kind of  objects - list object is the most general sequence\n",
    "- \n",
    "\n",
    "#### tuples \n",
    "\n",
    "> (1, 2, 'python', obj1, obj2)\n",
    " \n",
    "- like a list that cannot be changed \n",
    "- are immutable\n",
    "- are used for grouping data\n",
    "- cant add/remove elements\n",
    "- are faster than list\n",
    "- can be used as keys in dictionary\n",
    "- functionally, they’re used to represent fixed collections of items\n",
    "\n",
    "    \n",
    "#### dictionaries\n",
    "\n",
    "> {'key1': value1, 'key2': value2}\n",
    "   \n",
    "- are mutable\n",
    "- unordered collection of key-values pairs\n",
    "- no duplicate keys\n",
    "- implemented using hash table (hash value calculated from the key value)\n",
    "- keys shoud be immutable\n",
    "    \n",
    "#### sets \n",
    "\n",
    "> {1, 2, 'python', obj1, obj2}\n",
    "\n",
    "- are mutable\n",
    "- unordered collection\n",
    "- no duplicate elements\n",
    "- implemented using hash table (hash value calculated from the set's item)\n",
    "- support mathematical operations: union, intersection, difference, and symmetric difference\n",
    "- fast membership testing\n",
    "- slower than lists when it comes to iterating over their contents\n",
    "\n",
    "- time complexity: https://wiki.python.org/moin/TimeComplexity"
   ]
  },
  {
   "cell_type": "code",
   "execution_count": null,
   "metadata": {
    "collapsed": false
   },
   "outputs": [],
   "source": [
    "# lists playground\n",
    "\n",
    "# Example 1: slicing\n",
    "\n",
    "L = [1, 2, 3, 4, 5, 6]\n",
    "print(L[1:])\n",
    "print(L[3:5])\n",
    "print(L[:-1])\n",
    "print(L[-1])\n",
    "\n",
    "# Example 2: memebership checking\n",
    "\n",
    "print(4 in L)\n",
    "print(43 in L)\n",
    "\n",
    "# Example 3: add and remove elements\n",
    "L.append(7)\n",
    "L.remove(5)\n",
    "print(L)\n",
    "\n",
    "# Example 4: sorting\n",
    "L.sort()        # sort a list in place, without making a copy, returns None\n",
    "L2 = sorted(L)  # creates new sorted list and returns it, L list is not sorted"
   ]
  },
  {
   "cell_type": "code",
   "execution_count": null,
   "metadata": {
    "collapsed": true
   },
   "outputs": [],
   "source": [
    "# Dictionaries plaground\n",
    "d = {'name': 'James', 'surname': 'Bond', 'code': 7}\n",
    "name = d['name']\n",
    "surname = d.get('surname', 'no_name')"
   ]
  },
  {
   "cell_type": "code",
   "execution_count": null,
   "metadata": {
    "collapsed": false
   },
   "outputs": [],
   "source": [
    "# Sets playground\n",
    "\n",
    "# Example 1\n",
    "s1 = {4,3,3,2,1,4,5,1}\n",
    "print(s1)\n",
    "\n",
    "# Example 2\n",
    "s2 = set(\"abbbbbaaaaacccccddddeeee\")\n",
    "print(s2)\n",
    "\n",
    "# Example 3\n",
    "set_1 = {1, 2, 3}\n",
    "set_2 = {3, 4, 5}\n",
    "print(\"union: \", set_1 | set_2)\n",
    "print(\"intersection: \", set_1 & set_2)\n",
    "print(\"difference: \", set_1 - set_2)\n",
    "print(\"symetric difference: \", set_1 ^ set_2)"
   ]
  },
  {
   "cell_type": "markdown",
   "metadata": {},
   "source": [
    "### Functions\n",
    "\n",
    "In simple terms, a function is a device that groups a set of statements so they can be run more than once in a program—a packaged procedure invoked by name. Functions also can compute a result value and let us specify parameters that serve as function inputs and may differ each time the code is run.\n",
    "\n",
    "```python\n",
    "\n",
    "def function(arguments):\n",
    "    # do something\n",
    "    return \n",
    "```"
   ]
  },
  {
   "cell_type": "code",
   "execution_count": null,
   "metadata": {
    "collapsed": false
   },
   "outputs": [],
   "source": [
    "def add_numbers(num1, num2):\n",
    "    return num1 + num2\n",
    "\n",
    "add_numbers(1, 2)"
   ]
  },
  {
   "cell_type": "code",
   "execution_count": null,
   "metadata": {
    "collapsed": false
   },
   "outputs": [],
   "source": [
    "def add_numbers(*numbers):\n",
    "    return sum([num for num in numbers])\n",
    "\n",
    "print(\"1 + 2 = \", add_numbers(1, 2))\n",
    "print(\"1 + 2 + 3 = \", add_numbers(1, 2, 3))\n",
    "print(\"1 + 2 + 3 + 4 = \", add_numbers(1, 2, 3, 4))"
   ]
  },
  {
   "cell_type": "code",
   "execution_count": null,
   "metadata": {
    "collapsed": false
   },
   "outputs": [],
   "source": [
    "def multiple_params_test(param1=None, param2=0, *args, **kwargs):\n",
    "    if kwargs.get('param', None):\n",
    "        pass\n",
    "    print(param1, param2, args, kwargs)\n",
    "    \n",
    "multiple_params_test(1, 2, 3, 4, 5, param3=3, param4=4)"
   ]
  },
  {
   "cell_type": "code",
   "execution_count": null,
   "metadata": {
    "collapsed": true
   },
   "outputs": [],
   "source": [
    "def add_numbers(a=0, b=0, c=None):  # default values for attributes\n",
    "    \"\"\"\n",
    "    Function add numbers\n",
    "    \"\"\"\n",
    "    if c:\n",
    "        pass\n",
    "    return a + b\n",
    "\n",
    "print(add_numbers())\n",
    "print(add_numbers(2, 2))"
   ]
  },
  {
   "cell_type": "markdown",
   "metadata": {},
   "source": [
    "### Functions in Python are first-class objects\n",
    "\n",
    "- created at runtime\n",
    "- assigned to a variable or element in a data structure\n",
    "- passed as an argument to a function\n",
    "- returned as the result of a function\n",
    "\n",
    "- integers, strings, and dictionaries are other examples of first-class objects in Python"
   ]
  },
  {
   "cell_type": "code",
   "execution_count": null,
   "metadata": {
    "collapsed": false
   },
   "outputs": [],
   "source": [
    "def do_something(param1):\n",
    "    return param1\n",
    "\n",
    "# remember: functions are object\n",
    "print(\"function name: \", do_something.__name__)\n",
    "\n",
    "value_returned_by_function = do_something(param1=1) # call function\n",
    "\n",
    "function_object = do_something # Notice: there is no braces '()', just function name\n",
    "dir(function_object)\n",
    "\n",
    "objects_storage = [1, 'python', do_something, function_object]\n",
    "\n",
    "for obj in objects_storage:\n",
    "    print(obj)"
   ]
  },
  {
   "cell_type": "code",
   "execution_count": null,
   "metadata": {
    "collapsed": false
   },
   "outputs": [],
   "source": [
    "dir(do_something)"
   ]
  },
  {
   "cell_type": "code",
   "execution_count": null,
   "metadata": {
    "collapsed": false
   },
   "outputs": [],
   "source": [
    "def print_a(): print('a')\n",
    "def print_b(): print('b')\n",
    "def print_c(): print('c')\n",
    "    \n",
    "function_storage = [print_a, print_b, print_c]\n",
    "\n",
    "for fn in function_storage:\n",
    "    fn()  # run each function from 'function_storage' list"
   ]
  },
  {
   "cell_type": "code",
   "execution_count": null,
   "metadata": {
    "collapsed": false
   },
   "outputs": [],
   "source": [
    "def run_function(function):\n",
    "    return function()\n",
    "    \n",
    "def function_to_run(): print(\"do something\")\n",
    "    \n",
    "run_function(function_to_run)"
   ]
  },
  {
   "cell_type": "code",
   "execution_count": null,
   "metadata": {
    "collapsed": false
   },
   "outputs": [],
   "source": [
    "# swtich\n",
    "\n",
    "user_actions = {\n",
    "    'click_button_a': print_a,\n",
    "    'click_button_b': print_b,\n",
    "    'click_button_c': print_c}\n",
    "\n",
    "user_choose = 'click_button_a'\n",
    "\n",
    "user_actions[user_choose]()"
   ]
  },
  {
   "cell_type": "markdown",
   "metadata": {},
   "source": [
    "### Function parameters: call by value or by reference?\n",
    "\n",
    "- it is called “object reference” or \"by sharing\"\n",
    "\n",
    "- call by sharing means that each formal parameter of the function gets a copy of each reference in the arguments\n",
    "- the parameters inside the function become aliases of the actual arguments\n",
    "\n",
    "- the result of this scheme is that a function may change any mutable object passed as a parameter\n",
    "- but it cannot change the identity of those objects (i.e., it cannot altogether replace an object with another).\n",
    "\n",
    "- best example: http://goo.gl/uWjZuT\n",
    "\n",
    "- good explanation: http://robertheaton.com/2014/02/09/pythons-pass-by-object-reference-as-explained-by-philip-k-dick/ "
   ]
  },
  {
   "cell_type": "code",
   "execution_count": null,
   "metadata": {
    "collapsed": false
   },
   "outputs": [],
   "source": [
    "def f(a, b):\n",
    "    a += b\n",
    "    return a    \n",
    "\n",
    "x = [1,2]\n",
    "y = [3,4]\n",
    "result = f(x, y)\n",
    "print(\"result: \", result)\n",
    "\n",
    "# what happend with x value?\n",
    "print(x)\n",
    "print(y)"
   ]
  },
  {
   "cell_type": "markdown",
   "metadata": {},
   "source": [
    "![example3](example2.png)"
   ]
  },
  {
   "cell_type": "markdown",
   "metadata": {},
   "source": [
    "How to \"fix\" this? What you should do to keep this x list without modification?"
   ]
  },
  {
   "cell_type": "code",
   "execution_count": null,
   "metadata": {
    "collapsed": false
   },
   "outputs": [],
   "source": [
    "def f(a, b):\n",
    "    new_obj_a = a\n",
    "    new_obj_b = b\n",
    "    \n",
    "    new_obj_a = new_obj_a + new_obj_b\n",
    "    return new_obj_a\n",
    "\n",
    "x = [1,2]\n",
    "y = [3,4]\n",
    "result = f(x, y)\n",
    "print(\"result: \", result)\n",
    "\n",
    "# what happend with x value?\n",
    "print(x)\n",
    "print(y)"
   ]
  },
  {
   "cell_type": "markdown",
   "metadata": {},
   "source": [
    "![example3](example3.png)"
   ]
  },
  {
   "cell_type": "code",
   "execution_count": null,
   "metadata": {
    "collapsed": true
   },
   "outputs": [],
   "source": [
    "def f(a, b):\n",
    "    new_obj_a = a[:]\n",
    "    new_obj_b = b[:]\n",
    "    a.append(2)\n",
    "    new_obj_a = new_obj_a + new_obj_b\n",
    "    return new_obj_a\n",
    "\n",
    "x = [1,2]\n",
    "y = [3,4]\n",
    "result = f(x, y)\n",
    "\n",
    "# http://goo.gl/VO153U "
   ]
  },
  {
   "cell_type": "markdown",
   "metadata": {},
   "source": [
    "![example4](example4.png)"
   ]
  },
  {
   "cell_type": "markdown",
   "metadata": {},
   "source": [
    "### Copying objects in Python\n",
    "\n",
    "- copies are shallow by default!\n",
    "\n",
    "- using the constructor or [:] produces a shallow copy \n",
    "- the copy is filled with references to the same items held by the original container\n",
    "- this saves memory and causes no problems if all the items are immutable\n",
    "- if there are mutable items, this may lead to unpleasant surprises\n",
    "\n",
    "\n",
    "* Example 1: http://goo.gl/P3wj4O\n",
    "* Example 2: http://goo.gl/nIOz1U"
   ]
  },
  {
   "cell_type": "code",
   "execution_count": null,
   "metadata": {
    "collapsed": false
   },
   "outputs": [],
   "source": [
    "l1 = [3, [66, 55, 44], (7, 8, 9)]\n",
    "l2 = list(l1)\n",
    "l1.append(100) \n",
    "l1[1].remove(55)\n",
    "print('l1:', l1)\n",
    "print('l2:', l2)\n",
    "\n",
    "l2[1] += [33, 22]\n",
    "l2[2] += (10, 11)\n",
    "\n",
    "print('*' * 44)\n",
    "print('l1:', l1)\n",
    "print('l2:', l2)"
   ]
  },
  {
   "cell_type": "markdown",
   "metadata": {},
   "source": [
    "![example5](example5.png)"
   ]
  },
  {
   "cell_type": "markdown",
   "metadata": {},
   "source": [
    "### Reading and writing files\n",
    "\n",
    "We have four basic operations:\n",
    "\n",
    "- Open\n",
    "    - returns a file object\n",
    "    - open modes: r (read), w (write), r+ (read and write), a (append)\n",
    "    \n",
    "```python\n",
    "f = open('filename', 'r+')\n",
    "```\n",
    "\n",
    "- Read\n",
    "    - read strings from file\n",
    "    - open returns file object (interator) so we can use file object like sequence\n",
    "\n",
    "Example 1:\n",
    "```python\n",
    "f = open('filename', 'r')\n",
    "f.read()\n",
    "f.close()\n",
    "```\n",
    "\n",
    "Example 2:\n",
    "```python\n",
    "f = open('filename', 'r')\n",
    "for line in f:\n",
    "    print line\n",
    "```\n",
    "\n",
    "- Write\n",
    "\n",
    "```python\n",
    "f = open('filename', 'w')\n",
    "f.write('first line\\n')\n",
    "f.close()\n",
    "```\n",
    "\n",
    "- Close\n",
    "    - close and free up any system resources taken up by the open file\n",
    "    - file object cannot be used after closing operation"
   ]
  },
  {
   "cell_type": "code",
   "execution_count": null,
   "metadata": {
    "collapsed": false
   },
   "outputs": [],
   "source": [
    "f = open('file_to_write', 'w')\n",
    "\n",
    "print('f.mode   ->', f.mode)      # access mode\n",
    "print('f.closed ->', f.closed)    # is file closed\n",
    "print('f.name   ->', f.name)      # file name\n",
    "\n",
    "f.close()\n",
    "print('-> closing file')\n",
    "print('f.close  ->', f.closed)    # is file closed"
   ]
  },
  {
   "cell_type": "code",
   "execution_count": null,
   "metadata": {
    "collapsed": false
   },
   "outputs": [],
   "source": [
    "# Example: writing to file\n",
    "\n",
    "# need to open file -> open(file_name, mode)\n",
    "f = open('test_file', 'w')\n",
    "\n",
    "f.write('write first line to file\\n')\n",
    "f.write('write second line to file\\n')\n",
    "\n",
    "# writelines expects a list of strings, while write expects a single string\n",
    "\n",
    "save_to_file = [\n",
    "    'third line\\n',\n",
    "    'fourth line \\n'\n",
    "]\n",
    "\n",
    "f.writelines(save_to_file)\n",
    "\n",
    "# remember to close file\n",
    "f.close()"
   ]
  },
  {
   "cell_type": "code",
   "execution_count": null,
   "metadata": {
    "collapsed": false
   },
   "outputs": [],
   "source": [
    "# Example: reading from file\n",
    "\n",
    "f = open('test_file', 'r')\n",
    "\n",
    "print(f.read())\n",
    "\n",
    "f.close()"
   ]
  },
  {
   "cell_type": "code",
   "execution_count": null,
   "metadata": {
    "collapsed": false
   },
   "outputs": [],
   "source": [
    "# Example: reading from file using for loop\n",
    "\n",
    "f = open('test_file', 'r')\n",
    "for line in f:\n",
    "    print(line)"
   ]
  },
  {
   "cell_type": "code",
   "execution_count": null,
   "metadata": {
    "collapsed": false
   },
   "outputs": [],
   "source": [
    "# Ezample: context managers for handling file I/O operations\n",
    "\n",
    "with open('test_file', 'w') as f:\n",
    "    f.write('one\\n')\n",
    "    f.write('two\\n')\n",
    "    \n",
    "with open('test_file', 'r') as f:\n",
    "    print(f.read())"
   ]
  },
  {
   "cell_type": "markdown",
   "metadata": {},
   "source": [
    "### Exceptions\n",
    "\n",
    "> Easier to ask for forgiveness than permission\n",
    "\n",
    "#### What is exception?\n",
    "- events that can modify the flow of control through a program\n",
    "- are triggered automatically on errors\n",
    "- what is error?\n",
    "    - syntax error -> parsing error, syntactically incorrect\n",
    "    - exception - statement or expression syntactically correct, errors detecting during execution\n",
    "\n",
    "\n",
    "#### How to handle with exceptions?\n",
    "\n",
    "- Use try/except block to catch and recover from exceptions \n",
    "```python\n",
    "try:\n",
    "    # code that will break (will throw exception)\n",
    "    x = 1/0\n",
    "except EXCEPTION as E:\n",
    "    #do something with exception\n",
    "    print E\n",
    "```\n",
    "\n",
    "- Use try/finally block to perform cleanup actions, whether exception occurs or not\n",
    "```python\n",
    "try:\n",
    "    f = open('file', 'r')\n",
    "    # do something with file\n",
    "finally:\n",
    "    f.close()  # always invoke close\n",
    "```\n",
    "\n",
    "- Use raise statement to raise exception manually\n",
    "```python\n",
    "raise RuntimeError()\n",
    "```\n",
    "\n",
    "#### Built-in Exceptions (most common)\n",
    "\n",
    "- ImportError -> raised when an import statement fails to find the module definition\n",
    "- IndexError  -> raised when a sequence subscript is out of range, e.g: index[1000]\n",
    "- StopIteration -> signal that there are no further items produced by the iterator e.g: for loop\n",
    "- SyntaxError -> raised when the parser encounters a syntax error\n",
    "- IOError -> raised when input or output fails, for example if a disk fills up or an input file does not exist\n",
    "- KeyError -> raised when a value is not found as a key of a dictionary\n",
    "\n",
    "#### Assertions\n",
    "\n",
    "- used to verify program conditions during development\n",
    "- assert statements may be removed from a compiled program’s byte code - need to execute python program with -O flag\n",
    "\n",
    "```python\n",
    "def f(x):\n",
    "    assert x < 0, 'x must be negative' # if not it will raise AssertionError\n",
    "    return x ** 2\n",
    "```\n",
    "\n",
    "\n",
    "Source:\n",
    "- https://docs.python.org/3/tutorial/errors.html\n",
    "- https://docs.python.org/3/library/exceptions.html\n",
    "- https://pymotw.com/2/exceptions/"
   ]
  },
  {
   "cell_type": "code",
   "execution_count": null,
   "metadata": {
    "collapsed": false
   },
   "outputs": [],
   "source": [
    "import module_does_not_exist"
   ]
  },
  {
   "cell_type": "code",
   "execution_count": null,
   "metadata": {
    "collapsed": false
   },
   "outputs": [],
   "source": [
    "numbers = [0, 1, 2, 3, 4, 5, 6, 7, 8, 9] # We have 10 elements in this list\n",
    "\n",
    "print(numbers[11]) # ask for 11th element"
   ]
  },
  {
   "cell_type": "code",
   "execution_count": null,
   "metadata": {
    "collapsed": false
   },
   "outputs": [],
   "source": [
    "my_dictionary = {\n",
    "    'key_one': 1,\n",
    "    'key_two': 2,\n",
    "}\n",
    "\n",
    "my_dictionary['key_one'] # prints 1\n",
    "my_dictionary['key_two'] # prints 2\n",
    "my_dictionary['key_not_exist'] # error"
   ]
  },
  {
   "cell_type": "code",
   "execution_count": null,
   "metadata": {
    "collapsed": false
   },
   "outputs": [],
   "source": [
    "try:\n",
    "    x = 1/0\n",
    "except ZeroDivisionError as err:\n",
    "    print(err)"
   ]
  },
  {
   "cell_type": "code",
   "execution_count": null,
   "metadata": {
    "collapsed": false
   },
   "outputs": [],
   "source": [
    "raise ZeroDivisionError('division by zero, oh no!')"
   ]
  },
  {
   "cell_type": "code",
   "execution_count": null,
   "metadata": {
    "collapsed": false
   },
   "outputs": [],
   "source": [
    "try:\n",
    "    raise ZeroDivisionError('division by zero, oh no!')\n",
    "except ZeroDivisionError as err:\n",
    "    print(err)"
   ]
  },
  {
   "cell_type": "code",
   "execution_count": null,
   "metadata": {
    "collapsed": false
   },
   "outputs": [],
   "source": [
    "f = open(\"not_exist\", 'r')"
   ]
  },
  {
   "cell_type": "code",
   "execution_count": null,
   "metadata": {
    "collapsed": false
   },
   "outputs": [],
   "source": [
    "try:\n",
    "    f = open(\"not_exist\", 'r')\n",
    "except FileNotFoundError as err:\n",
    "    print(\"File not found:\", err)\n",
    "except IOError as err:\n",
    "    print(\"IOError:\", err)\n",
    "finally:\n",
    "    print(\"Finally executed\")\n",
    "    f.close()"
   ]
  },
  {
   "cell_type": "code",
   "execution_count": null,
   "metadata": {
    "collapsed": false
   },
   "outputs": [],
   "source": [
    "def fn():\n",
    "    try:\n",
    "        return\n",
    "        print(1)\n",
    "    except:\n",
    "        pass\n",
    "    finally:\n",
    "        print(\"finally\")\n",
    "        \n",
    "fn()"
   ]
  },
  {
   "cell_type": "markdown",
   "metadata": {},
   "source": [
    "### Modules\n",
    "\n",
    "- Every file of Python source code whose name ends in a .py extension is a module\n",
    "- Other files can access the items a module defines by importing that module\n",
    "- Import operation essentially loads another file (module)\n",
    "    - imports must find files, compile them to byte code, and run the code\n",
    "\n",
    "- More specifically, modules have at least three roles:\n",
    "1. Code reuse\n",
    "2. System namespace partitioning\n",
    "3. Implementing shared services or data (e.g: global object)\n",
    "\n",
    "> modules provide an easy way to organize components into a system by serving as self-contained packages of variables known as namespaces\n",
    "\n",
    "\n",
    "#### Import operation\n",
    "\n",
    "- Import operations essentially load another file and grant access to that file’s contents\n",
    "- Python searches for imported modules in every directory listed in sys.path\n",
    "\n",
    "> imports are not just textual insertions of one file into another. They are really runtime operations that perform three distinct steps the first time a program imports a given file:\n",
    "Python does this by storing loaded modules in a table named sys.modules and checking there at the start of an import operation. If the module is not present, a three-step process begins:\n",
    "1. Find the module’s file.\n",
    "2. Compile it to byte code (if needed).\n",
    "3. Run the module’s code to build the objects it defines.\n",
    "\n",
    "\n",
    "##### Import search path\n",
    "\n",
    "The Module Search Path:\n",
    "1. The home directory of the program (automatic)\n",
    "2. PYTHONPATH directories (if set)\n",
    "3. Standard library directories\n",
    "4. The contents of any .pth files (if present)\n",
    "5. The site-packages home of third-party extensions\n",
    "\n",
    "    \n",
    "##### Python modules - examples:\n",
    "\n",
    "- my_lib.py\n",
    "\n",
    "```python\n",
    "\n",
    "ATTRIBUTE_ONE = \"attribute_one\"\n",
    "LIST_OF_NUMBERS = [1, 2, 3, 4]\n",
    "\n",
    "def do_something(*args):\n",
    "    return *args\n",
    "    \n",
    "def do_something_complicated(*args):\n",
    "    return 2 + 2\n",
    "    \n",
    "if __name__ == \"__main__\":\n",
    "    do_something(1, 2, 3)\n",
    "\n",
    "```\n",
    "\n",
    "- my_script.py\n",
    "\n",
    "```python\n",
    "\n",
    "from my_lib import do_something\n",
    "\n",
    "do_something(5, 6, 7)\n",
    "\n",
    "print my_lib.ATTRIBUTE_ONE\n",
    "```"
   ]
  },
  {
   "cell_type": "code",
   "execution_count": null,
   "metadata": {
    "collapsed": true
   },
   "outputs": [],
   "source": [
    "import collections\n",
    "\n",
    "from collections import OrderedDict\n",
    "\n",
    "from collections import OrderedDict as ordered_dict"
   ]
  },
  {
   "cell_type": "code",
   "execution_count": null,
   "metadata": {
    "collapsed": false
   },
   "outputs": [],
   "source": [
    "import math\n",
    "\n",
    "from imp import reload\n",
    "reload(math)"
   ]
  },
  {
   "cell_type": "code",
   "execution_count": null,
   "metadata": {
    "collapsed": true
   },
   "outputs": [],
   "source": [
    "from A import func\n",
    "from B import func             # This overwrites function we fetched from A\n",
    "func()                         # It calls A.func() only\n",
    "\n",
    "# How to fix this?\n",
    "\n",
    "from A import func as afunc    # Rename uniquely with \"as\"\n",
    "from B import func as bfunc\n",
    "afunc()\n",
    "bfunc()               "
   ]
  },
  {
   "cell_type": "markdown",
   "metadata": {},
   "source": [
    "### Garbage collector\n",
    "\n",
    "Python has a feature known as garbage collection that cleans up unused memory as your program runs and frees you from having to manage such details in your code.\n",
    "\n",
    "\n",
    "- When we lose the last reference to the object by assigning its variable to something else, all of the memory space occupied by that object’s structure is automatically cleaned up for us\n",
    "\n",
    "- Technically speaking, Python’s garbage collection is based mainly upon reference counters\n",
    "\n",
    "\n",
    "##### How to check pointers to object (number of references)?\n",
    "\n",
    "```python\n",
    ">>> import sys\n",
    ">>> sys.getrefcount(1)    # 647 pointers to this shared piece of memory\n",
    "```\n"
   ]
  },
  {
   "cell_type": "markdown",
   "metadata": {},
   "source": [
    "### Better to know ...\n",
    "\n",
    "- Python cannot run programms in parallel - there is a global mutex (Global Interperer Lock)\n",
    "- GIL ensures that only one thread runs in the interperter at once\n",
    "- sources:\n",
    "    - https://wiki.python.org/moin/GlobalInterpreterLock\n",
    "    - http://www.dabeaz.com/python/UnderstandingGIL.pdf\n",
    "- we have GIL only in CPython implementaion\n",
    "    - you can use others python implemention: Jython, IronPython, PyPy\n",
    "    "
   ]
  },
  {
   "cell_type": "markdown",
   "metadata": {},
   "source": [
    "### How to learn Python?\n",
    "\n",
    "\n",
    "- first, master the fundamentals\n",
    "\n",
    "- python official documentation: https://docs.python.org/3/\n",
    "- well writen python tutorial: https://docs.python.org/3/tutorial/index.html \n",
    "- coding standard, style guide - pep8: https://www.python.org/dev/peps/pep-0008/ \n",
    "- visualize execution of code: http://www.pythontutor.com/"
   ]
  },
  {
   "cell_type": "code",
   "execution_count": null,
   "metadata": {
    "collapsed": false
   },
   "outputs": [],
   "source": [
    "import this"
   ]
  },
  {
   "cell_type": "markdown",
   "metadata": {},
   "source": [
    "### Fetching data from web\n",
    "\n",
    "> The Requests package is recommended for a higher-level http client interface\n",
    "\n",
    "> Requests allow you to send HTTP/1.1 requests. You can add headers, form data, multipart files, and parameters with simple Python dictionaries, and access the response data in the same way. It’s powered by httplib and urllib3\n",
    "\n",
    "- Remember to install requests package, because it is 3rd party library\n",
    "\n",
    "```bash\n",
    "pip install requests\n",
    "```\n",
    "\n",
    "Sources:\n",
    "- https://docs.python.org/2/library/urllib.html\n",
    "- http://docs.python-requests.org/en/master/"
   ]
  },
  {
   "cell_type": "code",
   "execution_count": null,
   "metadata": {
    "collapsed": false
   },
   "outputs": [],
   "source": [
    "import requests\n",
    "r = requests.get('https://api.github.com/events')\n",
    "r.content"
   ]
  },
  {
   "cell_type": "markdown",
   "metadata": {},
   "source": [
    "#### For advanced users\n",
    "\n",
    "- python enhancement proposals: https://www.python.org/dev/peps/ \n",
    "- let's look into Full Python Grammar specification: https://docs.python.org/3.1/reference/grammar.html\n",
    "- python official repository: https://hg.python.org/\n"
   ]
  },
  {
   "cell_type": "markdown",
   "metadata": {},
   "source": [
    "### How to install 3rd party libraries\n",
    "\n",
    "- PyPI - the Python Package Index (repository of python non-standard libraries), currently ~ 75 k libraries\n",
    "- to install additional libraries you need to use additional program:\n",
    "    - easy_install - very basic lib installer\n",
    "    - pip - is the preferred installer program\n",
    "    \n",
    "Examples:\n",
    "```bash\n",
    "$ pip install SomePackage\n",
    "```\n",
    "\n",
    "```bash\n",
    "python -m pip install SomePackage\n",
    "```\n",
    "\n",
    "```bash\n",
    "pip install SomePackage==1.0.4    # specific version\n",
    "```\n",
    "\n",
    "```bash\n",
    "$ pip show --files SomePackage\n",
    "  Name: SomePackage\n",
    "  Version: 1.0\n",
    "  Location: /my/env/lib/pythonx.x/site-packages\n",
    "  Files:\n",
    "   ../somepackage/__init__.py\n",
    "   [...]\n",
    "```\n",
    "\n",
    "Sources:\n",
    "- https://pypi.python.org/pypi/pip\n",
    "- https://docs.python.org/dev/installing/\n",
    "- https://pypi.python.org/pypi\n",
    "- https://pip.pypa.io/en/stable/installing/\n",
    "- http://python-packaging-user-guide.readthedocs.org/en/latest/pip_easy_install/"
   ]
  },
  {
   "cell_type": "markdown",
   "metadata": {},
   "source": [
    "### Virtual environments\n",
    "\n",
    "> a virtual environment is a semi-isolated Python environment that allows packages to be installed for use by a particular application, rather than being installed system wide\n",
    "\n",
    "\n",
    "Steps to create virtual environment:\n",
    "- Install virtual environment\n",
    "```\n",
    "$ pip install virtualenv\n",
    "```\n",
    "\n",
    "- Create a virtual environment for a project\n",
    "\n",
    "```\n",
    "$ mkdir lab_env\n",
    "$ cd lab_env\n",
    "$ virtualenv lab_env \n",
    "```\n",
    "\n",
    "- You can use your virtual python interpreter\n",
    "\n",
    "```\n",
    "$ source venv/bin/activate\n",
    "(lab_env) $ pip install requests\n",
    "```\n",
    "\n",
    "\n",
    "Sources:\n",
    "- http://docs.python-guide.org/en/latest/dev/virtualenvs/"
   ]
  },
  {
   "cell_type": "markdown",
   "metadata": {},
   "source": [
    "### Flow control\n",
    "\n",
    "#### if, elif, else\n",
    "\n",
    "```python\n",
    "\n",
    "if CONDITION:\n",
    "    do something\n",
    "elif CONDITION:\n",
    "    do something different\n",
    "elif CONDITION:\n",
    "    do something different\n",
    "else:\n",
    "     do yet something else\n",
    "```\n",
    "\n",
    "#### Loops\n",
    "\n",
    "#### for loops\n",
    "\n",
    "```python\n",
    "for value in iterable:\n",
    "    # do things\n",
    "```\n",
    "\n",
    "Example:\n",
    "```python\n",
    "items_list = [1, 'A', 'B', 3, [], [1,2,3]]\n",
    "for item in items_list:\n",
    "    print(item)\n",
    "```\n",
    "\n",
    "#### while loops\n",
    "\n",
    "```python\n",
    "x = 3\n",
    "while x > 0:\n",
    "    print(x)  #all the print statement must be in parenthesis for version 3.4.0\n",
    "    x = x - 1  #the algebra need not be done within the parenthesis\n",
    "```\n"
   ]
  },
  {
   "cell_type": "code",
   "execution_count": null,
   "metadata": {
    "collapsed": false
   },
   "outputs": [],
   "source": [
    "user_input = None\n",
    "if user_input:\n",
    "    print(user_input)\n",
    "elif user_input == 'END':\n",
    "    print(\"END\")\n",
    "else:\n",
    "    print(\"NO USER INPUT\")"
   ]
  },
  {
   "cell_type": "code",
   "execution_count": null,
   "metadata": {
    "collapsed": false
   },
   "outputs": [],
   "source": [
    "numbers = [1, 2, 3, 4, 5]\n",
    "\n",
    "number_to_find = 2\n",
    "\n",
    "if number_to_find in numbers:\n",
    "    print(\"Number {} found in {}\".format(number_to_find, numbers))\n",
    "else:\n",
    "    print(\"Cannot find number {} in {}\".format(number_to_find, numbers))"
   ]
  },
  {
   "cell_type": "markdown",
   "metadata": {},
   "source": [
    "### Scopes - local vs global\n",
    "\n",
    "```python\n",
    "X = 1 # Global scope\n",
    "\n",
    "def fn1():  # Local scope inside function fn1\n",
    "    X = 2\n",
    "    fn1 = 1\n",
    "    \n",
    "def fn2():  # Local scope inside function fn2\n",
    "    X = 3\n",
    "    fn2 = 3\n",
    "\n",
    "# Global scope\n",
    "\n",
    "Y = 3 \n",
    "fn1 = fn1()\n",
    "fn2 = fn2()\n",
    "\n",
    "```\n",
    "\n",
    "#### Scope\n",
    "- The places where variables are defined and looked up\n",
    "- Help prevent name clashes across your program’s code\n",
    "\n",
    "- Names assigned inside a def can only be seen by the code within that def\n",
    "- Names assigned inside a def do not clash with variables outside the def, even if the same names are used elsewhere\n",
    "\n",
    "- If a variable is assigned inside a def, it is local to that function.\n",
    "- If a variable is assigned outside all defs, it is global to the entire file\n",
    "\n",
    "#### Scopes in Python\n",
    "\n",
    "local namespace \n",
    "    - specific to the current function or class method. If the function defines a local variable x, or has an argument x, Python will use this and stop searching.\n",
    "\n",
    "global namespace \n",
    "    - specific to the current module. If the module has defined a variable, function, or class called x, Python will use that and stop searching.\n",
    "\n",
    "built-in namespace \n",
    "    - global to all modules. As a last resort, Python will assume that x is the name of built-in function or variable.\n",
    "\n",
    "#### Global\n",
    "\n",
    "- By default, all names assigned in a function are local to that function\n",
    "- Global declares module-level variables that are to be assigned\n",
    "- Global names are variables assigned at the top level of the enclosing module file\n",
    "\n",
    "- \"global\" statement tells that a function plans to change one or more global names"
   ]
  },
  {
   "cell_type": "code",
   "execution_count": null,
   "metadata": {
    "collapsed": false
   },
   "outputs": [],
   "source": [
    "X = 1 # Global scope\n",
    "\n",
    "def fn1():  # Local scope inside function fn1\n",
    "    X = 2\n",
    "    fn1 = 1\n",
    "    \n",
    "def fn2():  # Local scope inside function fn2\n",
    "    X = 3\n",
    "    fn2 = 3\n",
    "\n",
    "# Global scope\n",
    "\n",
    "Y = 3 \n",
    "fn1 = fn1()"
   ]
  },
  {
   "cell_type": "code",
   "execution_count": null,
   "metadata": {
    "collapsed": false
   },
   "outputs": [],
   "source": [
    "# locals() functions returns all names from local scope\n",
    "\n",
    "def print_locals():\n",
    "    a = 1\n",
    "    b = 2\n",
    "    print(locals())\n",
    "    \n",
    "print_locals()"
   ]
  },
  {
   "cell_type": "code",
   "execution_count": null,
   "metadata": {
    "collapsed": false
   },
   "outputs": [],
   "source": [
    "# __builtins__ in Python 2.x\n",
    "\n",
    "import builtins # in Python 3.x\n",
    "dir(builtins)"
   ]
  },
  {
   "cell_type": "code",
   "execution_count": null,
   "metadata": {
    "collapsed": false
   },
   "outputs": [],
   "source": [
    "# Trap !\n",
    "\n",
    "def trap():\n",
    "    print = \"Print something\"   # Redefine built-in name \"print\"\n",
    "    print(\"function local scope\")\n",
    "\n",
    "print(\"module global scope\")\n",
    "trap()\n",
    "\n"
   ]
  },
  {
   "cell_type": "code",
   "execution_count": null,
   "metadata": {
    "collapsed": false
   },
   "outputs": [],
   "source": [
    "# in Python 2.X you could say __builtin__.True = False, to reset True to False for the entire Python process\n",
    "True = False"
   ]
  },
  {
   "cell_type": "code",
   "execution_count": null,
   "metadata": {
    "collapsed": false
   },
   "outputs": [],
   "source": [
    "X = 1       # Global scope\n",
    "\n",
    "def increment():\n",
    "    X = 3  # Local scope - inside function\n",
    "    X = X + 1\n",
    "    print('X inside function: ', X)\n",
    "\n",
    "increment()\n",
    "print('X outside function:', X)"
   ]
  },
  {
   "cell_type": "code",
   "execution_count": null,
   "metadata": {
    "collapsed": false
   },
   "outputs": [],
   "source": [
    "X = 1       # Global scope\n",
    "def increment():\n",
    "    X = X + 1      # UnboundLocalError: local variable 'X' referenced before assignment\n",
    "    print('X inside function: ', X)\n",
    "\n",
    "increment()\n",
    "print('X outside function:', X)"
   ]
  },
  {
   "cell_type": "code",
   "execution_count": null,
   "metadata": {
    "collapsed": false
   },
   "outputs": [],
   "source": [
    "X = 1\n",
    "def increment():\n",
    "    global X      #  we are using X from global scope\n",
    "    X = X + 1\n",
    "    print('X inside function: ', X)\n",
    "\n",
    "increment()\n",
    "print('X outside function:', X)"
   ]
  },
  {
   "cell_type": "code",
   "execution_count": null,
   "metadata": {
    "collapsed": false
   },
   "outputs": [],
   "source": [
    "# Global scope\n",
    "X = 99                # X and func assigned in module: global\n",
    "\n",
    "def func(Y):          # Y and Z assigned in function: locals\n",
    "    # Local scope\n",
    "    Z = X + Y         # X is a global\n",
    "    return Z\n",
    "\n",
    "func(1)               # func in module: result=100"
   ]
  },
  {
   "cell_type": "code",
   "execution_count": null,
   "metadata": {
    "collapsed": false
   },
   "outputs": [],
   "source": [
    "X = 99                   # Global scope name: not used\n",
    "\n",
    "def f1():\n",
    "    X = 88               # Enclosing def local\n",
    "    def f2():\n",
    "        print(X)         # Reference made in nested def\n",
    "    f2()\n",
    "\n",
    "f1()               "
   ]
  },
  {
   "cell_type": "markdown",
   "metadata": {},
   "source": [
    "### Creating own types - classes\n",
    "\n",
    "lklkl\n"
   ]
  },
  {
   "cell_type": "markdown",
   "metadata": {},
   "source": [
    "### Privacy\n",
    "\n",
    "- in Python, there is no way to create private variables like there is with the private modifier in Java\n",
    "- what we have in Python is a simple mechanism to prevent accidental overwriting of a “private” attribute"
   ]
  },
  {
   "cell_type": "code",
   "execution_count": null,
   "metadata": {
    "collapsed": false
   },
   "outputs": [],
   "source": [
    "class Employer(object):\n",
    "    def __init__(self, bonus):\n",
    "        self.job_grade = 10\n",
    "        self.__salary = 1500 + (bonus * self.job_grade)\n",
    "\n",
    "employer_1 = Employer(bonus=1500)\n",
    "print(\"job grade :\", employer_1.job_grade)\n",
    "print(\"salary    :\", employer_1.__salary)"
   ]
  },
  {
   "cell_type": "code",
   "execution_count": null,
   "metadata": {
    "collapsed": false
   },
   "outputs": [],
   "source": [
    "salary = employer_1._Employer__salary\n",
    "print(salary)"
   ]
  },
  {
   "cell_type": "markdown",
   "metadata": {},
   "source": [
    "### Special methods\n",
    "\n",
    "- special methods are meant to be called by the Python interpreter, and not by you\n",
    "- don't write obj.\\__len\\__(), but len(obj) - Python will call \\__len\\__() method behind the scenes\n",
    "\n",
    "Some examples:\n",
    "\n",
    "* \\__init\\__()\n",
    "* \\__new\\__()\n",
    "* \\__repr\\__()\n",
    "* \\__len\\__()\n",
    "* \\__str\\__()\n",
    "* \\__eq\\__()\n",
    "* \\__hash\\__()\n",
    "* \\__getitem\\__()\n",
    "* \\__add\\__()\n",
    "\n",
    "and many many more. Visit http://www.rafekettler.com/magicmethods.html to get more information."
   ]
  },
  {
   "cell_type": "code",
   "execution_count": null,
   "metadata": {
    "collapsed": false
   },
   "outputs": [],
   "source": [
    "class NewStyle(object): pass\n",
    "class OldStyle: pass"
   ]
  },
  {
   "cell_type": "code",
   "execution_count": null,
   "metadata": {
    "collapsed": false
   },
   "outputs": [],
   "source": [
    "class Employee(object):\n",
    "    static_counter = 0\n",
    "    \n",
    "    def __init__(self, name, surname):\n",
    "        self.name = name\n",
    "        self.surname = surname\n",
    "        self.salary = 1500\n",
    "        self.__job_grade = 1\n",
    "        Employee.static_counter += 1\n",
    "    \n",
    "    def get_name(self):\n",
    "        return self.name\n",
    "    \n",
    "    def get_salary(self):\n",
    "        return self.salary\n",
    "    \n",
    "    def __str__(self):\n",
    "        return \"{name}{surname} get {salary} PLN\".format(\n",
    "            name=self.name, surname=self.surname, salary=self.salary)\n",
    "    \n",
    "    @classmethod\n",
    "    def get_counter(cls):\n",
    "        return cls.static_counter\n",
    "    \n",
    "  \n",
    "employee = Employee('Lucky', 'Boy')\n",
    "\n",
    "employee.name = \"a\"\n",
    "employee.surname = \"b\"\n",
    "employee.new_attribute = \"new attribute\"\n",
    "\n",
    "print(employee.new_attribute)\n",
    "\n",
    "print(employee.get_name())\n",
    "\n",
    "print(employee.get_salary())\n",
    "\n",
    "print(employee)\n",
    "\n",
    "print(employee.get_counter())\n",
    "\n",
    "print(Employee.get_counter())"
   ]
  },
  {
   "cell_type": "code",
   "execution_count": null,
   "metadata": {
    "collapsed": false
   },
   "outputs": [],
   "source": [
    "class B(object): pass\n",
    "\n",
    "class A(object):\n",
    "    def __init__(self): # first init\n",
    "        print(\"A\")\n",
    "    def __init__(self): # second init\n",
    "        print(\"B\")\n",
    "\n",
    "a = A()  # second init was used"
   ]
  },
  {
   "cell_type": "code",
   "execution_count": null,
   "metadata": {
    "collapsed": false
   },
   "outputs": [],
   "source": [
    "class Figure(object):\n",
    "    __slots__ = ['width', 'height']\n",
    "\n",
    "f = Figure()\n",
    "f.width = 10\n",
    "print(f.width)\n",
    "\n",
    "f.size = 10  # AttributeError: 'Figure' object has no attribute 'size'"
   ]
  },
  {
   "cell_type": "code",
   "execution_count": null,
   "metadata": {
    "collapsed": false
   },
   "outputs": [],
   "source": [
    "# Class inheritance\n",
    "\n",
    "class Pet(object):\n",
    "    def __init__(self, name, species):\n",
    "        self.name = name\n",
    "        self.species = species \n",
    "    def get_name(self):\n",
    "        return self.name\n",
    "    def get_species(self):\n",
    "        return self.species\n",
    "    \n",
    "class Dog(Pet):\n",
    "    def __init__(self, name, hates_cat=True):\n",
    "        Pet.__init__(self, name, 'Dog')\n",
    "        #super(Dog, self).__init__(name, 'Dog')\n",
    "        self.hates_cat = hates_cat\n",
    "    def hates_cat(self):\n",
    "        return self.hates_cat\n",
    "    def get_species(self):\n",
    "        return 'Doggggg'\n",
    "    \n",
    "pet = Pet('Mister', 'Cat')\n",
    "print(pet.get_species())\n",
    "\n",
    "dog = Dog('Mister', hates_cat=True)\n",
    "print(dog.get_species())"
   ]
  },
  {
   "cell_type": "code",
   "execution_count": null,
   "metadata": {
    "collapsed": true
   },
   "outputs": [],
   "source": []
  },
  {
   "cell_type": "code",
   "execution_count": null,
   "metadata": {
    "collapsed": false
   },
   "outputs": [],
   "source": [
    "text = \"\"\"\n",
    "Beautiful is better than ugly.\n",
    "Explicit is better than implicit.\n",
    "Simple is better than complex.\n",
    "Complex is better than complicated.\n",
    "Flat is better than nested.\n",
    "Sparse is better than dense.\n",
    "Readability counts.\n",
    "Special cases aren't special enough to break the rules.\n",
    "\"\"\"\n",
    "\n",
    "import re # find more information here: https://docs.python.org/2/library/re.html \n",
    "\n",
    "regex = re.compile('^\\w+', re.MULTILINE) # regular expression\n",
    "\n",
    "class TextFilter(object):\n",
    "    def __init__(self, text): \n",
    "        self.words = regex.findall(text)\n",
    "    def __getitem__(self, index):\n",
    "        return self.words[index]\n",
    "    def __repr__(self):\n",
    "        return str(self.words)\n",
    "    def __len__(self):\n",
    "        return len(self.words)\n",
    "\n",
    "filtered_text = TextFilter(text)\n",
    "\n",
    "print(filtered_text)\n",
    "print(\"number of list elements: \", len(filtered_text))\n",
    "print(\"word in list: \", 'Simple' in filtered_text)\n",
    "print(\"slicing: \", filtered_text[2:4])\n",
    "\n",
    "for word in filtered_text:\n",
    "    print(word)"
   ]
  },
  {
   "cell_type": "code",
   "execution_count": null,
   "metadata": {
    "collapsed": false
   },
   "outputs": [],
   "source": [
    "# We can do it even much simpler ...\n",
    "\n",
    "filtered_text = regex.findall(text)\n",
    "print(filtered_text)"
   ]
  },
  {
   "cell_type": "code",
   "execution_count": null,
   "metadata": {
    "collapsed": true
   },
   "outputs": [],
   "source": []
  }
 ],
 "metadata": {
  "kernelspec": {
   "display_name": "Python 3",
   "language": "python",
   "name": "python3"
  },
  "language_info": {
   "codemirror_mode": {
    "name": "ipython",
    "version": 3
   },
   "file_extension": ".py",
   "mimetype": "text/x-python",
   "name": "python",
   "nbconvert_exporter": "python",
   "pygments_lexer": "ipython3",
   "version": "3.5.0"
  }
 },
 "nbformat": 4,
 "nbformat_minor": 0
}
