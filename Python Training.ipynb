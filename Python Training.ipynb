{
 "cells": [
  {
   "cell_type": "markdown",
   "metadata": {},
   "source": [
    "# Python Training - Basic Level"
   ]
  },
  {
   "cell_type": "markdown",
   "metadata": {},
   "source": [
    "### Overview\n",
    "\n",
    "##### What is Python:\n",
    "\n",
    "- an interpreted, interactive, object-oriented programming language\n",
    "- dynamic typing, very high level dynamic data types and classes\n",
    "- very clear syntax - Python Style Guide: https://www.python.org/dev/peps/pep-0008/ \n",
    "- portable: it runs on many Unix variants, on the Mac, and on PCs under MS-DOS, Windows, Windows NT, and OS/2\n",
    "- easily extensible with C/C++/Java code, and easily embeddable in applications\n",
    "- free to use, even for commercial products, because of open source license\n",
    "\n",
    "> Guido van Rossum\n",
    "The joy of coding Python should be in seeing short, concise, readable classes that express a lot of action in a small amount of clear code -- not in reams of trivial code that bores the reader to death.\n",
    "\n",
    "\n",
    "\n",
    "Sources:\n",
    "- https://docs.python.org/2/faq/general.html\n",
    "- https://www.python.org/download/releases/2.7/license/\n",
    "- http://www.tiobe.com/index.php/content/paperinfo/tpci/index.html - programming lanugages trends\n",
    "- https://github.com/blog/2047-language-trends-on-github - gitub trends\n",
    "- https://www.python.org/doc/essays/comparisons/ - comparing python to other languages"
   ]
  },
  {
   "cell_type": "markdown",
   "metadata": {},
   "source": [
    "### What is Python good for\n",
    "\n",
    "- text processing & web scraping (reqgular expressions, LXML, Beautiful Soup, ...)\n",
    "- integration with operating systems (system calls, filesystems, TCP/IP sockets)\n",
    "- supprort for all known internet protocols (HTTP, FTP, SMTP, XML-RPC, POP, SOAP, ...)\n",
    "- data science (NumPy, SciPy, and matplotlib)\n",
    "- writing Web Applications (Django, Flask, Pyramid, ...)\n",
    "- glue together large software components\n",
    "- GUI programming (Tk, Qt, GNOME, KDE, Kivy ...)\n",
    "\n",
    "Sources:\n",
    "- https://wiki.python.org/moin/WebFrameworks\n",
    "- https://www.python.org/doc/essays/omg-darpa-mcc-position/ - Glue It All Together With Python\n",
    "- http://scikit-learn.org/stable/\n",
    "- https://wiki.python.org/moin/GuiProgramming"
   ]
  },
  {
   "cell_type": "markdown",
   "metadata": {},
   "source": [
    "### Python strenghts - comparing to other languages\n",
    "\n",
    "- Easy to learn\n",
    "- Application prototyping \n",
    "    - Program development using Python is 5-10 times faster than using C/C++ and 3-5 times faster than using Java\n",
    "    - In many cases, a prototype of an application can be written in Python without writing any C/C++/Java code\n",
    "- Supports multiple programming paradigms\n",
    "    - procedural (statement based)\n",
    "    - object-oriented (polymorphism, operator overloading and multiple inheritance)\n",
    "    - functional (generators, comprehensions, closures, maps, decorators, lambdas, first-class function objects)\n",
    "- Portability\n",
    "- Automatic memory management\n",
    "    - objects are automatically allocated and reclaimed (“garbage collects”) \n",
    "- Third-party utilities\n",
    "    - more than 70k packages\n",
    "    - https://pypi.python.org/pypi\n",
    "    \n",
    "    \n",
    "Sources:\n",
    "- https://www.python.org/doc/essays/omg-darpa-mcc-position/"
   ]
  },
  {
   "cell_type": "markdown",
   "metadata": {},
   "source": [
    "#### Software that makes use of Python\n",
    "\n",
    "- Applications: Dropbox, Youtube, Instagram, Reddit, Spotify, Blender 3D, ...\n",
    "- Games: Civilization IV, Eve Online\n",
    "- Tools: Ansible, Mercurial \n",
    "\n",
    "Sources:\n",
    "- https://www.python.org/about/success/\n",
    "- https://wiki.python.org/moin/OrganizationsUsingPython\n",
    "- https://wiki.python.org/moin/Applications"
   ]
  },
  {
   "cell_type": "markdown",
   "metadata": {},
   "source": [
    "### History of Python\n",
    "\n",
    "\n",
    "- Python was created in the early 1990s by Guido van Rossum at the National Research Institute for Mathematics and Computer Science in the Netherlands\n",
    "\n",
    "- Python is derived from many other languages, including ABC, Modula-3, C, C++, Algol-68, SmallTalk, and Unix shell and other scripting languages.\n",
    "\n",
    "- The language was named after the BBC show “Monty Python’s Flying Circus”\n",
    "\n",
    "- Python 2.7.y from 2010 - most common used Python version but legacy\n",
    "- Python 3.x.y from 2008 - recommended version\n",
    "\n",
    "\n",
    "Sources:\n",
    "- http://python-history.blogspot.com/\n",
    "- https://docs.python.org/2.7/faq/design.html \n",
    "- https://www.python.org/download/releases/2.7/license/\n",
    "- https://www.python.org/downloads/ - here you can find all Python version and release dates\n",
    "- https://www.python.org/~guido/interviews.html - interviews with python creator"
   ]
  },
  {
   "cell_type": "markdown",
   "metadata": {},
   "source": [
    "### Python 2.x or Python 3.x\n",
    "\n",
    "- Official statement: **Python 2.x is legacy, Python 3.x is the present and future of the language**\n",
    "- But in practice:\n",
    "    -  Python 2.7.x has been standard for a long time\n",
    "    -  Python 2.7.x will receive necessary security updates until 2020\n",
    "\n",
    "Major differences:\n",
    "- print is a function not statement\n",
    "- Better Unicode support\n",
    "- Memory-efficient iterable returns by default\n",
    "- Integers can handle any size, no longer limited to the machine's word size\n",
    "[TODO]\n",
    "\n",
    "\n",
    "Sources:\n",
    "- https://wiki.python.org/moin/Python2orPython3\n",
    "- http://docs.python-guide.org/en/latest/starting/which-python/#the-state-of-python-2-vs-3\n",
    "- https://docs.python.org/3/whatsnew/3.0.html - What is new in Python 3.x\n",
    "- http://python-notes.curiousefficiency.org/en/latest/python3/questions_and_answers.html - Python 3 Q&A\n",
    "- http://getpython3.com/ - How to port from 2.x to 3.x\n",
    "- https://python3wos.appspot.com/ - List of packages supported in Python 3.x, Most useful and not yet supported (January 2016): Fabric, Ansible, suds, protobuf, M2Crypto"
   ]
  },
  {
   "cell_type": "markdown",
   "metadata": {},
   "source": [
    "### Python implementations\n",
    "\n",
    "- Python is actually a specification for a language that can be implemented in many different waysY\n",
    "- You can find Python Grammar specification here: https://docs.python.org/2/reference/grammar.html\n",
    "\n",
    "Python implementations:\n",
    "\n",
    "- CPython\n",
    "    - reference implementation of Python, written in C\n",
    "    - it compiles Python code to intermediate bytecode which is then interpreted by a virtual machine\n",
    "    \n",
    "- PyPy\n",
    "    - interpreter implemented in a restricted statically-typed subset of the Python language\n",
    "    - Python performance was improved - it is 5 times faster than CPython\n",
    "    \n",
    "- Jython\n",
    "    - implementation that compiles Python code to Java bytecode which is then executed by the JVM\n",
    "    - it is possible to import and use any Java class like a Python module\n",
    "    \n",
    "- IronPython\n",
    "    - implementation of Python for the .NET framework\n",
    "    - it is possible to import and use any .NET framework libraries"
   ]
  },
  {
   "cell_type": "markdown",
   "metadata": {},
   "source": [
    "### Interpreter\n",
    "\n",
    "- A kind of program that executes other programs\n",
    "- Reads your program and carries out the instructions it contains\n",
    "\n",
    "\n",
    "http://aosabook.org/en/500L/a-python-interpreter-written-in-python.html"
   ]
  },
  {
   "cell_type": "markdown",
   "metadata": {},
   "source": [
    "### Code compilation and interpreting\n",
    "\n",
    "#### Byte code\n",
    "\n",
    "- When you execute a script, Python compiles your source code into a format known as byte code\n",
    "    - it creates binary file with .pyc extension\n",
    "        - in python 3.x, .pyc files are stored in ```__pycache__``` directory\n",
    "        - byte code can be also generated in memory in case have no write permission in filesystem\n",
    "    - compilation is simply a translation step\n",
    "- Byte code is a lower-level, platform-independent representation of your source code\n",
    "- Byte code translation is performed to speed execution\n",
    "\n",
    "> Byte code is an implementation detail of the CPython interpreter\n",
    "\n",
    "- Byte code example:\n",
    "\n",
    "```python\n",
    "0 LOAD_GLOBAL              0 (len)\n",
    "3 LOAD_FAST                0 (alist)\n",
    "6 CALL_FUNCTION            1\n",
    "9 RETURN_VALUE\n",
    "```\n",
    "\n",
    "#### Byte code interpretation\n",
    "\n",
    "- Byte code instructions are interpreted by python interpreter\n",
    "    - interpreter reads the binary file (.pyc) and executes the instructions one at a time\n",
    "\n",
    "\n",
    "#### Compilation and interpretation steps\n",
    "\n",
    "For example:\n",
    "\n",
    "```python\n",
    "python your_program.py\n",
    "```\n",
    "\n",
    "1. Lexical analysis (break text to find tokens - keywords, operators, literals)\n",
    "2. Parsing - based on the rules from grammar, produces Abstract Syntax Tree (AST)\n",
    "3. Code generation produces PyCodeObject (bytecode)\n",
    "4. Code execution by bytecode interpreter (stack-based virtual machine)\n",
    "\n",
    "Sources:\n",
    "- http://security.coverity.com/blog/2014/Nov/understanding-python-bytecode.html\n",
    "- http://tomlee.co/wp-content/uploads/2012/11/108_python-language-internals.pdf"
   ]
  },
  {
   "cell_type": "markdown",
   "metadata": {},
   "source": [
    "### How to install Python\n",
    "\n",
    "For Windows, Mac OS X, Sources:\n",
    "\n",
    "    - download Python interpreter from https://www.python.org/downloads/\n",
    "    - detailed instruction for Windows: http://www.howtogeek.com/197947/how-to-install-python-on-windows/\n",
    "    \n",
    "For Linux:\n",
    "    - just use your package manager like apt, yum\n",
    "        - for RedHat like systems: yum install python\n",
    "        - for Debian like systems: apt-get install python"
   ]
  },
  {
   "cell_type": "markdown",
   "metadata": {},
   "source": [
    "### Interactive mode\n",
    "\n",
    "What is interactive mode and why it should be used:\n",
    "- command line shell for Python\n",
    "- immediate feedback for each statement you type\n",
    "- it is faster to check Python documentation than using Web Browser, just type\n",
    "```python\n",
    "help(antyhing)\n",
    "```\n",
    "\n",
    "How to run interactive mode:\n",
    "\n",
    "- Just invoke the interpreter without passing a script file as a parameter \n",
    "\n",
    "- To enter the interactive mode type **python** command in your Shell (windows/linux)\n",
    "- You should be able to see prompt **>>>**\n",
    "\n",
    "For example:\n",
    "\n",
    "```python\n",
    "Python 3.5.0 (v3.5.0:374f501f4567, Sep 13 2015, 02:16:59) [MSC v.1900 32 bit (Intel)] on win32\n",
    "Type \"help\", \"copyright\", \"credits\" or \"license\" for more information.\n",
    ">>>\n",
    "```\n",
    "\n",
    "Sources:\n",
    "- http://stackoverflow.com/questions/2664785/why-use-python-interactive-mode"
   ]
  },
  {
   "cell_type": "markdown",
   "metadata": {},
   "source": [
    "### Script mode\n",
    "\n",
    "- Python program/script is just a text file containing Python statements\n",
    "\n",
    "- Invoking the interpreter with a script parameter begins execution of the script and continues until the script is finished\n",
    "- Python files have extension .py, for example: hello_world.py\n",
    "- How to run? (you should have python interpreter set in PATH environment variable)\n",
    "\n",
    "```bash\n",
    "python your_script.py\n",
    "```\n",
    "\n",
    "- You can also run your python script as follows:\n",
    "\n",
    "```bash\n",
    "./your_script.py\n",
    "```\n",
    "\n",
    "- but you need to add path to your python interpreter directly inside your script\n",
    "\n",
    "```python\n",
    "#!/usr/bin/python\n",
    "print \"Hello world\"\n",
    "```"
   ]
  },
  {
   "cell_type": "markdown",
   "metadata": {},
   "source": [
    "### Variables are labels, not boxes\n",
    "\n",
    "- variables are like reference variables in Java\n",
    "- so it’s better to think of them as labels (names) attached to objects\n",
    "\n",
    "- always read the right-hand side first: that’s where the object is created or retrieved\n",
    "- after that, the variable on the left is bound to the object, like a label stuck to it\n",
    "\n",
    "- a variable is simply a value bound to a name\n",
    "- the value has a type -- like \"integer\" or \"string\" or \"list\" -- but the variable itself doesn't\n",
    "\n",
    "\n",
    "- Created when they are first assigned values\n",
    "- Replaced with their values when used in expressions\n",
    "- Must be assigned before they can be used in expressions\n",
    "- Refer to objects and are never declared ahead of time\n",
    "\n",
    "#### Labeling object - example\n",
    "\n",
    "```python\n",
    ">>> A = 1                # Assign a name to an object\n",
    "```\n",
    "\n",
    "1. Create an object to represent the value 1\n",
    "2. Create the variable A, if it does not yet exist\n",
    "3. Link the variable A to the new object 1\n",
    "\n"
   ]
  },
  {
   "cell_type": "markdown",
   "metadata": {},
   "source": [
    "### Dynamic typing\n",
    "\n",
    "> once you create an object, you bind its operation set for all time—you can perform only string operations on a string and list operations on a list\n",
    "\n",
    "- it doesn’t require complicated type and size declarations in your code\n",
    "- type checks are performed mostly at run time\n",
    "- all build-in types listed in documentation: https://docs.python.org/3/library/stdtypes.html\n",
    "- you may create your own types (class)\n",
    "- interpreter tracks of the kinds of objects your program uses when it runs\n",
    "\n",
    "- dynamic typing means there is less code for you to write"
   ]
  },
  {
   "cell_type": "code",
   "execution_count": 23,
   "metadata": {
    "collapsed": false
   },
   "outputs": [
    {
     "name": "stdout",
     "output_type": "stream",
     "text": [
      "<class 'int'> 3\n",
      "<class 'float'> 2.7\n",
      "<class 'str'> A\n",
      "<class 'list'> [1, 2.1, [1, 2], 'python']\n",
      "<class 'str'> python\n",
      "<class 'tuple'> (1, 2)\n",
      "<class 'dict'> {'key2': 'two', 'key1': 1}\n",
      "<class 'bool'> True\n",
      "<class 'NoneType'> None\n",
      "<class '__main__.YourNewType'> <__main__.YourNewType object at 0x00773910>\n",
      "<class 'function'> <function do_something at 0x03A9B588>\n",
      "<class 'int'> 2\n"
     ]
    }
   ],
   "source": [
    "a = 3\n",
    "b = 2.7\n",
    "c = 'A'\n",
    "d = [1, 2.1, [1,2], 'python']\n",
    "e = 'python'\n",
    "f = (1,2,)\n",
    "g = {'key1': 1, 'key2': 'two'}\n",
    "true_or_false = True\n",
    "no_value_here = None\n",
    "\n",
    "# define new type\n",
    "class YourNewType(object):\n",
    "    def __init__(self, a, b):\n",
    "        self.a = a\n",
    "        self.b = b     \n",
    "your_type_instance = YourNewType(1, 'string')\n",
    "\n",
    "# define new function\n",
    "def do_something(param1, param2):\n",
    "    return param1 * param2\n",
    "    \n",
    "function_obj = do_something\n",
    "value_returned_from_function = do_something(1, 2)\n",
    "value_returned_from_function = function_obj(1, 2)\n",
    "\n",
    "\n",
    "# print types and value\n",
    "print(type(a), a)\n",
    "print(type(b), b)\n",
    "print(type(c), c)\n",
    "print(type(d), d)\n",
    "print(type(e), e)\n",
    "print(type(f), f)\n",
    "print(type(g), g)\n",
    "print(type(true_or_false), true_or_false)\n",
    "print(type(no_value_here), no_value_here)\n",
    "print(type(your_type_instance), your_type_instance)\n",
    "print(type(function_obj), function_obj)\n",
    "print(type(value_returned_from_function), value_returned_from_function)"
   ]
  },
  {
   "cell_type": "markdown",
   "metadata": {},
   "source": [
    "Use http://www.pythontutor.com/ to visualize how Python works. It executes step-by-step all instructions.\n",
    "\n",
    "Our example with \"Dynamic Types\": http://goo.gl/5RTtnU "
   ]
  },
  {
   "cell_type": "markdown",
   "metadata": {},
   "source": [
    "![example1](example1.png)"
   ]
  },
  {
   "cell_type": "markdown",
   "metadata": {},
   "source": [
    "### Strong Typing\n",
    "\n",
    "- the interpreter keeps track of all variables types\n",
    "- you can't perform operations inappropriate to the type of the object \n",
    "    - attempting to add numbers to strings will fail\n"
   ]
  },
  {
   "cell_type": "code",
   "execution_count": 24,
   "metadata": {
    "collapsed": false
   },
   "outputs": [
    {
     "data": {
      "text/plain": [
       "[1, 2, 3, 1, 2, 3, 1, 2, 3]"
      ]
     },
     "execution_count": 24,
     "metadata": {},
     "output_type": "execute_result"
    }
   ],
   "source": [
    "# Example: 1\n",
    "a = 3\n",
    "b = 5\n",
    "c = a + b\n",
    "\n",
    "# Example: 2\n",
    "a = 'A'\n",
    "b = 'B'\n",
    "c = a + b\n",
    "\n",
    "# Example: 3 \n",
    "[1, 2, 3] + [4, 5]\n",
    "[1,2, 3] * 3"
   ]
  },
  {
   "cell_type": "code",
   "execution_count": 25,
   "metadata": {
    "collapsed": false
   },
   "outputs": [
    {
     "ename": "TypeError",
     "evalue": "unsupported operand type(s) for +: 'int' and 'str'",
     "output_type": "error",
     "traceback": [
      "\u001b[1;31m---------------------------------------------------------------------------\u001b[0m",
      "\u001b[1;31mTypeError\u001b[0m                                 Traceback (most recent call last)",
      "\u001b[1;32m<ipython-input-25-014f90cccacc>\u001b[0m in \u001b[0;36m<module>\u001b[1;34m()\u001b[0m\n\u001b[0;32m      3\u001b[0m \u001b[0ma\u001b[0m \u001b[1;33m=\u001b[0m \u001b[1;36m3\u001b[0m\u001b[1;33m\u001b[0m\u001b[0m\n\u001b[0;32m      4\u001b[0m \u001b[0mb\u001b[0m \u001b[1;33m=\u001b[0m \u001b[1;34m'A'\u001b[0m\u001b[1;33m\u001b[0m\u001b[0m\n\u001b[1;32m----> 5\u001b[1;33m \u001b[0mc\u001b[0m \u001b[1;33m=\u001b[0m \u001b[0ma\u001b[0m \u001b[1;33m+\u001b[0m \u001b[0mb\u001b[0m\u001b[1;33m\u001b[0m\u001b[0m\n\u001b[0m",
      "\u001b[1;31mTypeError\u001b[0m: unsupported operand type(s) for +: 'int' and 'str'"
     ]
    }
   ],
   "source": [
    "# trying to change type\n",
    "\n",
    "a = 3\n",
    "b = 'A'\n",
    "c = a + b"
   ]
  },
  {
   "cell_type": "markdown",
   "metadata": {},
   "source": [
    "#### How to \"fix\" this example?\n",
    "\n",
    "Just use one of the available conversion method"
   ]
  },
  {
   "cell_type": "code",
   "execution_count": 26,
   "metadata": {
    "collapsed": false
   },
   "outputs": [
    {
     "data": {
      "text/plain": [
       "2.0"
      ]
     },
     "execution_count": 26,
     "metadata": {},
     "output_type": "execute_result"
    }
   ],
   "source": [
    "float(2)     # from integer to float "
   ]
  },
  {
   "cell_type": "code",
   "execution_count": 27,
   "metadata": {
    "collapsed": false
   },
   "outputs": [
    {
     "data": {
      "text/plain": [
       "3"
      ]
     },
     "execution_count": 27,
     "metadata": {},
     "output_type": "execute_result"
    }
   ],
   "source": [
    "int(3.4)     # from float to integer"
   ]
  },
  {
   "cell_type": "code",
   "execution_count": 28,
   "metadata": {
    "collapsed": false
   },
   "outputs": [
    {
     "data": {
      "text/plain": [
       "'3'"
      ]
     },
     "execution_count": 28,
     "metadata": {},
     "output_type": "execute_result"
    }
   ],
   "source": [
    "str(3)       # from integer to string"
   ]
  },
  {
   "cell_type": "code",
   "execution_count": 29,
   "metadata": {
    "collapsed": false
   },
   "outputs": [
    {
     "data": {
      "text/plain": [
       "'4.2'"
      ]
     },
     "execution_count": 29,
     "metadata": {},
     "output_type": "execute_result"
    }
   ],
   "source": [
    "str(4.2)     # from float to integer"
   ]
  },
  {
   "cell_type": "code",
   "execution_count": 30,
   "metadata": {
    "collapsed": false
   },
   "outputs": [
    {
     "data": {
      "text/plain": [
       "[1, 2]"
      ]
     },
     "execution_count": 30,
     "metadata": {},
     "output_type": "execute_result"
    }
   ],
   "source": [
    "list((1,2,)) # from tuple to list"
   ]
  },
  {
   "cell_type": "code",
   "execution_count": 31,
   "metadata": {
    "collapsed": false
   },
   "outputs": [
    {
     "name": "stdout",
     "output_type": "stream",
     "text": [
      "10 funny cats\n"
     ]
    }
   ],
   "source": [
    "# just use one of the conversion method, to convert between types\n",
    "a = 10\n",
    "b = \"cats\"\n",
    "str(a) + b\n",
    "\n",
    "# if you want to only print, just print without any conversion\n",
    "print(a, 'funny', b)"
   ]
  },
  {
   "cell_type": "markdown",
   "metadata": {},
   "source": [
    "**Remember**:\n",
    "> Don’t check whether it is-a duck: check whether it quacks-like-a duck, walks-like-a duck, etc, etc,\n",
    "depending on exactly what subset of duck-like behavior you need to play your language-games with. - (comp.lang.python, Jul. 26, 2000) — Alex Martelli"
   ]
  },
  {
   "cell_type": "code",
   "execution_count": 32,
   "metadata": {
    "collapsed": false
   },
   "outputs": [
    {
     "name": "stdout",
     "output_type": "stream",
     "text": [
      "Help on built-in function dir in module builtins:\n",
      "\n",
      "dir(...)\n",
      "    dir([object]) -> list of strings\n",
      "    \n",
      "    If called without an argument, return the names in the current scope.\n",
      "    Else, return an alphabetized list of names comprising (some of) the attributes\n",
      "    of the given object, and of attributes reachable from it.\n",
      "    If the object supplies a method named __dir__, it will be used; otherwise\n",
      "    the default dir() logic is used and returns:\n",
      "      for a module object: the module's attributes.\n",
      "      for a class object:  its attributes, and recursively the attributes\n",
      "        of its bases.\n",
      "      for any other object: its attributes, its class's attributes, and\n",
      "        recursively the attributes of its class's base classes.\n",
      "\n"
     ]
    }
   ],
   "source": [
    "help(dir)"
   ]
  },
  {
   "cell_type": "code",
   "execution_count": 33,
   "metadata": {
    "collapsed": false
   },
   "outputs": [
    {
     "data": {
      "text/plain": [
       "['__abs__',\n",
       " '__add__',\n",
       " '__and__',\n",
       " '__bool__',\n",
       " '__ceil__',\n",
       " '__class__',\n",
       " '__delattr__',\n",
       " '__dir__',\n",
       " '__divmod__',\n",
       " '__doc__',\n",
       " '__eq__',\n",
       " '__float__',\n",
       " '__floor__',\n",
       " '__floordiv__',\n",
       " '__format__',\n",
       " '__ge__',\n",
       " '__getattribute__',\n",
       " '__getnewargs__',\n",
       " '__gt__',\n",
       " '__hash__',\n",
       " '__index__',\n",
       " '__init__',\n",
       " '__int__',\n",
       " '__invert__',\n",
       " '__le__',\n",
       " '__lshift__',\n",
       " '__lt__',\n",
       " '__mod__',\n",
       " '__mul__',\n",
       " '__ne__',\n",
       " '__neg__',\n",
       " '__new__',\n",
       " '__or__',\n",
       " '__pos__',\n",
       " '__pow__',\n",
       " '__radd__',\n",
       " '__rand__',\n",
       " '__rdivmod__',\n",
       " '__reduce__',\n",
       " '__reduce_ex__',\n",
       " '__repr__',\n",
       " '__rfloordiv__',\n",
       " '__rlshift__',\n",
       " '__rmod__',\n",
       " '__rmul__',\n",
       " '__ror__',\n",
       " '__round__',\n",
       " '__rpow__',\n",
       " '__rrshift__',\n",
       " '__rshift__',\n",
       " '__rsub__',\n",
       " '__rtruediv__',\n",
       " '__rxor__',\n",
       " '__setattr__',\n",
       " '__sizeof__',\n",
       " '__str__',\n",
       " '__sub__',\n",
       " '__subclasshook__',\n",
       " '__truediv__',\n",
       " '__trunc__',\n",
       " '__xor__',\n",
       " 'bit_length',\n",
       " 'conjugate',\n",
       " 'denominator',\n",
       " 'from_bytes',\n",
       " 'imag',\n",
       " 'numerator',\n",
       " 'real',\n",
       " 'to_bytes']"
      ]
     },
     "execution_count": 33,
     "metadata": {},
     "output_type": "execute_result"
    }
   ],
   "source": [
    "dir(1)"
   ]
  },
  {
   "cell_type": "code",
   "execution_count": 34,
   "metadata": {
    "collapsed": false
   },
   "outputs": [
    {
     "data": {
      "text/plain": [
       "b'\\x00\\x01'"
      ]
     },
     "execution_count": 34,
     "metadata": {},
     "output_type": "execute_result"
    }
   ],
   "source": [
    "(1).to_bytes(2, 'big')"
   ]
  },
  {
   "cell_type": "markdown",
   "metadata": {},
   "source": [
    "### The Python Conceptual Hierarchy\n",
    "\n",
    "1. Programs are composed of modules.\n",
    "2. Modules contain statements.\n",
    "3. Statements contain expressions.\n",
    "4. Expressions create and process objects.\n"
   ]
  },
  {
   "cell_type": "markdown",
   "metadata": {},
   "source": [
    "### Everything in python is an object\n",
    "\n",
    "- What is object in general?\n",
    "> objects are essentially just pieces of memory, with values and sets of associated operations\n",
    "\n",
    "- every object has an identity, a type and a value\n",
    "\n",
    "- an object’s identity never changes once it has been created\n",
    "- you may think of it as the object’s address in memory\n",
    "\n",
    "- the 'is' operator compares the identity of two objects\n",
    "\n",
    "- the id() function returns an integer representing its identity\n",
    "- in CPython, id() returns the memory address of the object\n",
    "\n",
    "https://docs.python.org/3/reference/datamodel.html#objects-values-and-types "
   ]
  },
  {
   "cell_type": "code",
   "execution_count": 35,
   "metadata": {
    "collapsed": false
   },
   "outputs": [
    {
     "name": "stdout",
     "output_type": "stream",
     "text": [
      "7772960\n",
      "7773800\n",
      "id(obj_1) == id(obj_2):  False\n",
      "obj_1 == obj_2:  True\n"
     ]
    }
   ],
   "source": [
    "obj_1 = [1, 2]\n",
    "obj_2 = [1, 2]\n",
    "\n",
    "print(id(obj_1))\n",
    "print(id(obj_2))\n",
    "\n",
    "print(\"id(obj_1) == id(obj_2): \", id(obj_1) == id(obj_2))\n",
    "\n",
    "print(\"obj_1 == obj_2: \", obj_1 == obj_2)"
   ]
  },
  {
   "cell_type": "markdown",
   "metadata": {},
   "source": [
    "**Remember**:\n",
    "> The == operator compares the values of objects (the data they hold), while 'is' compares their identities"
   ]
  },
  {
   "cell_type": "markdown",
   "metadata": {},
   "source": [
    "### Python objects - mutables vs immutable\n",
    "\n",
    "#### mutable:\n",
    "    - mutable objects can change their value but keep their id().\n",
    "\n",
    "#### immutable:\n",
    "    - an object with a fixed value\n",
    "    - immutable objects include numbers, strings and tuples\n",
    "    - such an object cannot be altered\n",
    "    - a new object has to be created if a different value has to be stored\n",
    "    - they play an important role in places where a constant hash value is needed, for example as a key in a dictionary\n",
    "    - important advantage - performance\n",
    "\n",
    ">knowing that a object is immutable means we can allocate space for it at creation time, \n",
    "and the storage requirements are fixed and unchanging.\n",
    "\n",
    "Example: http://goo.gl/N6Rw4P"
   ]
  },
  {
   "cell_type": "code",
   "execution_count": 36,
   "metadata": {
    "collapsed": false
   },
   "outputs": [
    {
     "name": "stdout",
     "output_type": "stream",
     "text": [
      "[1, 2, 3, 4]\n",
      "[1, 2, 3, 4]\n"
     ]
    }
   ],
   "source": [
    "# mutable example\n",
    "\n",
    "l1 = [1, 2, 3]\n",
    "l2 = l1\n",
    "l2.append(4)\n",
    "\n",
    "print(l1)\n",
    "print(l2)"
   ]
  },
  {
   "cell_type": "code",
   "execution_count": 37,
   "metadata": {
    "collapsed": false
   },
   "outputs": [
    {
     "name": "stdout",
     "output_type": "stream",
     "text": [
      "6\n",
      "5\n"
     ]
    }
   ],
   "source": [
    "# immutable example\n",
    "\n",
    "x = 5\n",
    "y = x\n",
    "x = x + 1\n",
    "\n",
    "print(x)\n",
    "print(y)"
   ]
  },
  {
   "cell_type": "markdown",
   "metadata": {},
   "source": [
    "![mutable-immutable](mutable-immutable.png)"
   ]
  },
  {
   "cell_type": "code",
   "execution_count": 7,
   "metadata": {
    "collapsed": false
   },
   "outputs": [
    {
     "data": {
      "text/plain": [
       "['_Employer__salary',\n",
       " '__class__',\n",
       " '__delattr__',\n",
       " '__dict__',\n",
       " '__dir__',\n",
       " '__doc__',\n",
       " '__eq__',\n",
       " '__format__',\n",
       " '__ge__',\n",
       " '__getattribute__',\n",
       " '__gt__',\n",
       " '__hash__',\n",
       " '__init__',\n",
       " '__le__',\n",
       " '__lt__',\n",
       " '__module__',\n",
       " '__ne__',\n",
       " '__new__',\n",
       " '__reduce__',\n",
       " '__reduce_ex__',\n",
       " '__repr__',\n",
       " '__setattr__',\n",
       " '__sizeof__',\n",
       " '__str__',\n",
       " '__subclasshook__',\n",
       " '__weakref__',\n",
       " 'job_grade']"
      ]
     },
     "execution_count": 7,
     "metadata": {},
     "output_type": "execute_result"
    }
   ],
   "source": [
    "dir(employer_1)"
   ]
  },
  {
   "cell_type": "markdown",
   "metadata": {},
   "source": [
    "### Data Structures\n",
    "\n",
    "Basic data structures (most common used):\n",
    "\n",
    "#### lists \n",
    "\n",
    "> [1, 2, 'python', obj1, obj2]\n",
    " \n",
    "- sequence type - you can iterate\n",
    "- lists are mutable - can be modified in place by assignment to offsets as well as a variety of list method calls\n",
    "- can change their value but keep their ID (address in memory) - holds references to objects\n",
    "- the list type is a container\n",
    "- holds a number of other objects, in a given order\n",
    "- no fixed size - they can grow and shrink on demand, in response to list-specific operations like append. remove, ...\n",
    "- you can put into list all kind of  objects - list object is the most general sequence\n",
    "- \n",
    "\n",
    "#### tuples \n",
    "\n",
    "> (1, 2, 'python', obj1, obj2)\n",
    " \n",
    "- like a list that cannot be changed \n",
    "- are immutable\n",
    "- are used for grouping data\n",
    "- cant add/remove elements\n",
    "- are faster than list\n",
    "- can be used as keys in dictionary\n",
    "- functionally, they’re used to represent fixed collections of items\n",
    "\n",
    "    \n",
    "#### dictionaries\n",
    "\n",
    "> {'key1': value1, 'key2': value2}\n",
    "   \n",
    "- are mutable\n",
    "- unordered collection of key-values pairs\n",
    "- no duplicate keys\n",
    "- implemented using hash table (hash value calculated from the key value)\n",
    "- keys shoud be immutable\n",
    "    \n",
    "#### sets \n",
    "\n",
    "> {1, 2, 'python', obj1, obj2}\n",
    "\n",
    "- are mutable\n",
    "- unordered collection\n",
    "- no duplicate elements\n",
    "- implemented using hash table (hash value calculated from the set's item)\n",
    "- support mathematical operations: union, intersection, difference, and symmetric difference\n",
    "- fast membership testing\n",
    "- slower than lists when it comes to iterating over their contents\n",
    "\n",
    "- time complexity: https://wiki.python.org/moin/TimeComplexity"
   ]
  },
  {
   "cell_type": "code",
   "execution_count": 9,
   "metadata": {
    "collapsed": false
   },
   "outputs": [
    {
     "name": "stdout",
     "output_type": "stream",
     "text": [
      "[2, 3, 4, 5, 6]\n",
      "[4, 5]\n",
      "[1, 2, 3, 4, 5]\n",
      "6\n",
      "True\n",
      "False\n",
      "[1, 2, 3, 4, 6, 7]\n"
     ]
    }
   ],
   "source": [
    "# lists playground\n",
    "\n",
    "# Example 1: slicing\n",
    "\n",
    "L = [1, 2, 3, 4, 5, 6]\n",
    "print(L[1:])\n",
    "print(L[3:5])\n",
    "print(L[:-1])\n",
    "print(L[-1])\n",
    "\n",
    "# Example 2: memebership checking\n",
    "\n",
    "print(4 in L)\n",
    "print(43 in L)\n",
    "\n",
    "# Example 3: add and remove elements\n",
    "L.append(7)\n",
    "L.remove(5)\n",
    "print(L)\n",
    "\n",
    "# Example 4: sorting\n",
    "L.sort()        # sort a list in place, without making a copy, returns None\n",
    "L2 = sorted(L)  # creates new sorted list and returns it, L list is not sorted"
   ]
  },
  {
   "cell_type": "code",
   "execution_count": 10,
   "metadata": {
    "collapsed": true
   },
   "outputs": [],
   "source": [
    "# Dictionaries plaground\n",
    "d = {'name': 'James', 'surname': 'Bond', 'code': 7}\n",
    "name = d['name']\n",
    "surname = d.get('surname', 'no_name')"
   ]
  },
  {
   "cell_type": "code",
   "execution_count": 38,
   "metadata": {
    "collapsed": false
   },
   "outputs": [
    {
     "name": "stdout",
     "output_type": "stream",
     "text": [
      "{1, 2, 3, 4, 5}\n",
      "{'d', 'a', 'c', 'b', 'e'}\n",
      "union:  {1, 2, 3, 4, 5}\n",
      "intersection:  {3}\n",
      "difference:  {1, 2}\n",
      "symetric difference:  {1, 2, 4, 5}\n"
     ]
    }
   ],
   "source": [
    "# Sets playground\n",
    "\n",
    "# Example 1\n",
    "s1 = {4,3,3,2,1,4,5,1}\n",
    "print(s1)\n",
    "\n",
    "# Example 2\n",
    "s2 = set(\"abbbbbaaaaacccccddddeeee\")\n",
    "print(s2)\n",
    "\n",
    "# Example 3\n",
    "set_1 = {1, 2, 3}\n",
    "set_2 = {3, 4, 5}\n",
    "print(\"union: \", set_1 | set_2)\n",
    "print(\"intersection: \", set_1 & set_2)\n",
    "print(\"difference: \", set_1 - set_2)\n",
    "print(\"symetric difference: \", set_1 ^ set_2)"
   ]
  },
  {
   "cell_type": "markdown",
   "metadata": {},
   "source": [
    "### Functions\n",
    "\n",
    "In simple terms, a function is a device that groups a set of statements so they can be run more than once in a program—a packaged procedure invoked by name. Functions also can compute a result value and let us specify parameters that serve as function inputs and may differ each time the code is run.\n",
    "\n",
    "```python\n",
    "\n",
    "def function(arguments):\n",
    "    # do something\n",
    "    return \n",
    "```"
   ]
  },
  {
   "cell_type": "code",
   "execution_count": 47,
   "metadata": {
    "collapsed": false
   },
   "outputs": [
    {
     "data": {
      "text/plain": [
       "3"
      ]
     },
     "execution_count": 47,
     "metadata": {},
     "output_type": "execute_result"
    }
   ],
   "source": [
    "def add_numbers(num1, num2):\n",
    "    return num1 + num2\n",
    "\n",
    "add_numbers(1, 2)"
   ]
  },
  {
   "cell_type": "code",
   "execution_count": 50,
   "metadata": {
    "collapsed": false
   },
   "outputs": [
    {
     "name": "stdout",
     "output_type": "stream",
     "text": [
      "1 + 2 =  3\n",
      "1 + 2 + 3 =  6\n",
      "1 + 2 + 3 + 4 =  10\n"
     ]
    }
   ],
   "source": [
    "def add_numbers(*numbers):\n",
    "    return sum([num for num in numbers])\n",
    "\n",
    "print(\"1 + 2 = \", add_numbers(1, 2))\n",
    "print(\"1 + 2 + 3 = \", add_numbers(1, 2, 3))\n",
    "print(\"1 + 2 + 3 + 4 = \", add_numbers(1, 2, 3, 4))"
   ]
  },
  {
   "cell_type": "code",
   "execution_count": 51,
   "metadata": {
    "collapsed": false
   },
   "outputs": [
    {
     "name": "stdout",
     "output_type": "stream",
     "text": [
      "1 2 (3, 4, 5) {'param4': 4, 'param3': 3}\n"
     ]
    }
   ],
   "source": [
    "def multiple_params_test(param1=None, param2=0, *args, **kwargs):\n",
    "    if kwargs.get('param', None):\n",
    "        pass\n",
    "    print(param1, param2, args, kwargs)\n",
    "    \n",
    "multiple_params_test(1, 2, 3, 4, 5, param3=3, param4=4)"
   ]
  },
  {
   "cell_type": "code",
   "execution_count": null,
   "metadata": {
    "collapsed": true
   },
   "outputs": [],
   "source": [
    "def add_numbers(a=0, b=0, c=None):  # default values for attributes\n",
    "    \"\"\"\n",
    "    Function add numbers\n",
    "    \"\"\"\n",
    "    if c:\n",
    "        pass\n",
    "    return a + b\n",
    "\n",
    "print(add_numbers())\n",
    "print(add_numbers(2, 2))"
   ]
  },
  {
   "cell_type": "markdown",
   "metadata": {},
   "source": [
    "### Functions in Python are first-class objects\n",
    "\n",
    "- created at runtime\n",
    "- assigned to a variable or element in a data structure\n",
    "- passed as an argument to a function\n",
    "- returned as the result of a function\n",
    "\n",
    "- integers, strings, and dictionaries are other examples of first-class objects in Python"
   ]
  },
  {
   "cell_type": "code",
   "execution_count": 12,
   "metadata": {
    "collapsed": false
   },
   "outputs": [
    {
     "name": "stdout",
     "output_type": "stream",
     "text": [
      "function name:  do_something\n",
      "1\n",
      "python\n",
      "<function do_something at 0x007144F8>\n",
      "<function do_something at 0x007144F8>\n"
     ]
    }
   ],
   "source": [
    "def do_something(param1):\n",
    "    return param1\n",
    "\n",
    "# remember: functions are object\n",
    "print(\"function name: \", do_something.__name__)\n",
    "\n",
    "value_returned_by_function = do_something(param1=1) # call function\n",
    "\n",
    "function_object = do_something # Notice: there is no braces '()', just function name\n",
    "dir(function_object)\n",
    "\n",
    "objects_storage = [1, 'python', do_something, function_object]\n",
    "\n",
    "for obj in objects_storage:\n",
    "    print(obj)"
   ]
  },
  {
   "cell_type": "code",
   "execution_count": 13,
   "metadata": {
    "collapsed": false
   },
   "outputs": [
    {
     "data": {
      "text/plain": [
       "['__annotations__',\n",
       " '__call__',\n",
       " '__class__',\n",
       " '__closure__',\n",
       " '__code__',\n",
       " '__defaults__',\n",
       " '__delattr__',\n",
       " '__dict__',\n",
       " '__dir__',\n",
       " '__doc__',\n",
       " '__eq__',\n",
       " '__format__',\n",
       " '__ge__',\n",
       " '__get__',\n",
       " '__getattribute__',\n",
       " '__globals__',\n",
       " '__gt__',\n",
       " '__hash__',\n",
       " '__init__',\n",
       " '__kwdefaults__',\n",
       " '__le__',\n",
       " '__lt__',\n",
       " '__module__',\n",
       " '__name__',\n",
       " '__ne__',\n",
       " '__new__',\n",
       " '__qualname__',\n",
       " '__reduce__',\n",
       " '__reduce_ex__',\n",
       " '__repr__',\n",
       " '__setattr__',\n",
       " '__sizeof__',\n",
       " '__str__',\n",
       " '__subclasshook__']"
      ]
     },
     "execution_count": 13,
     "metadata": {},
     "output_type": "execute_result"
    }
   ],
   "source": [
    "dir(do_something)"
   ]
  },
  {
   "cell_type": "code",
   "execution_count": 14,
   "metadata": {
    "collapsed": false
   },
   "outputs": [
    {
     "name": "stdout",
     "output_type": "stream",
     "text": [
      "a\n",
      "b\n",
      "c\n"
     ]
    }
   ],
   "source": [
    "def print_a(): print('a')\n",
    "def print_b(): print('b')\n",
    "def print_c(): print('c')\n",
    "    \n",
    "function_storage = [print_a, print_b, print_c]\n",
    "\n",
    "for fn in function_storage:\n",
    "    fn()  # run each function from 'function_storage' list"
   ]
  },
  {
   "cell_type": "code",
   "execution_count": 15,
   "metadata": {
    "collapsed": false
   },
   "outputs": [
    {
     "name": "stdout",
     "output_type": "stream",
     "text": [
      "do something\n"
     ]
    }
   ],
   "source": [
    "def run_function(function):\n",
    "    return function()\n",
    "    \n",
    "def function_to_run(): print(\"do something\")\n",
    "    \n",
    "run_function(function_to_run)"
   ]
  },
  {
   "cell_type": "code",
   "execution_count": 16,
   "metadata": {
    "collapsed": false
   },
   "outputs": [
    {
     "name": "stdout",
     "output_type": "stream",
     "text": [
      "a\n"
     ]
    }
   ],
   "source": [
    "# swtich\n",
    "\n",
    "user_actions = {\n",
    "    'click_button_a': print_a,\n",
    "    'click_button_b': print_b,\n",
    "    'click_button_c': print_c}\n",
    "\n",
    "user_choose = 'click_button_a'\n",
    "\n",
    "user_actions[user_choose]()"
   ]
  },
  {
   "cell_type": "markdown",
   "metadata": {},
   "source": [
    "### Function parameters: call by value or by reference?\n",
    "\n",
    "- it is called “object reference” or \"by sharing\"\n",
    "\n",
    "- call by sharing means that each formal parameter of the function gets a copy of each reference in the arguments\n",
    "- the parameters inside the function become aliases of the actual arguments\n",
    "\n",
    "- the result of this scheme is that a function may change any mutable object passed as a parameter\n",
    "- but it cannot change the identity of those objects (i.e., it cannot altogether replace an object with another).\n",
    "\n",
    "- best example: http://goo.gl/uWjZuT\n",
    "\n",
    "- good explanation: http://robertheaton.com/2014/02/09/pythons-pass-by-object-reference-as-explained-by-philip-k-dick/ "
   ]
  },
  {
   "cell_type": "code",
   "execution_count": 17,
   "metadata": {
    "collapsed": false
   },
   "outputs": [
    {
     "name": "stdout",
     "output_type": "stream",
     "text": [
      "result:  [1, 2, 3, 4]\n",
      "[1, 2, 3, 4]\n",
      "[3, 4]\n"
     ]
    }
   ],
   "source": [
    "def f(a, b):\n",
    "    a += b\n",
    "    return a    \n",
    "\n",
    "x = [1,2]\n",
    "y = [3,4]\n",
    "result = f(x, y)\n",
    "print(\"result: \", result)\n",
    "\n",
    "# what happend with x value?\n",
    "print(x)\n",
    "print(y)"
   ]
  },
  {
   "cell_type": "markdown",
   "metadata": {},
   "source": [
    "![example3](example2.png)"
   ]
  },
  {
   "cell_type": "markdown",
   "metadata": {},
   "source": [
    "How to \"fix\" this? What you should do to keep this x list without modification?"
   ]
  },
  {
   "cell_type": "code",
   "execution_count": 18,
   "metadata": {
    "collapsed": false
   },
   "outputs": [
    {
     "name": "stdout",
     "output_type": "stream",
     "text": [
      "result:  [1, 2, 3, 4]\n",
      "[1, 2]\n",
      "[3, 4]\n"
     ]
    }
   ],
   "source": [
    "def f(a, b):\n",
    "    new_obj_a = a\n",
    "    new_obj_b = b\n",
    "    \n",
    "    new_obj_a = new_obj_a + new_obj_b\n",
    "    return new_obj_a\n",
    "\n",
    "x = [1,2]\n",
    "y = [3,4]\n",
    "result = f(x, y)\n",
    "print(\"result: \", result)\n",
    "\n",
    "# what happend with x value?\n",
    "print(x)\n",
    "print(y)"
   ]
  },
  {
   "cell_type": "markdown",
   "metadata": {},
   "source": [
    "![example3](example3.png)"
   ]
  },
  {
   "cell_type": "code",
   "execution_count": 19,
   "metadata": {
    "collapsed": true
   },
   "outputs": [],
   "source": [
    "def f(a, b):\n",
    "    new_obj_a = a[:]\n",
    "    new_obj_b = b[:]\n",
    "    a.append(2)\n",
    "    new_obj_a = new_obj_a + new_obj_b\n",
    "    return new_obj_a\n",
    "\n",
    "x = [1,2]\n",
    "y = [3,4]\n",
    "result = f(x, y)\n",
    "\n",
    "# http://goo.gl/VO153U "
   ]
  },
  {
   "cell_type": "markdown",
   "metadata": {},
   "source": [
    "![example4](example4.png)"
   ]
  },
  {
   "cell_type": "markdown",
   "metadata": {},
   "source": [
    "### Copying objects in Python\n",
    "\n",
    "- copies are shallow by default!\n",
    "\n",
    "- using the constructor or [:] produces a shallow copy \n",
    "- the copy is filled with references to the same items held by the original container\n",
    "- this saves memory and causes no problems if all the items are immutable\n",
    "- if there are mutable items, this may lead to unpleasant surprises\n",
    "\n",
    "\n",
    "* Example 1: http://goo.gl/P3wj4O\n",
    "* Example 2: http://goo.gl/nIOz1U"
   ]
  },
  {
   "cell_type": "code",
   "execution_count": 20,
   "metadata": {
    "collapsed": false
   },
   "outputs": [
    {
     "name": "stdout",
     "output_type": "stream",
     "text": [
      "l1: [3, [66, 44], (7, 8, 9), 100]\n",
      "l2: [3, [66, 44], (7, 8, 9)]\n",
      "********************************************\n",
      "l1: [3, [66, 44, 33, 22], (7, 8, 9), 100]\n",
      "l2: [3, [66, 44, 33, 22], (7, 8, 9, 10, 11)]\n"
     ]
    }
   ],
   "source": [
    "l1 = [3, [66, 55, 44], (7, 8, 9)]\n",
    "l2 = list(l1)\n",
    "l1.append(100) \n",
    "l1[1].remove(55)\n",
    "print('l1:', l1)\n",
    "print('l2:', l2)\n",
    "\n",
    "l2[1] += [33, 22]\n",
    "l2[2] += (10, 11)\n",
    "\n",
    "print('*' * 44)\n",
    "print('l1:', l1)\n",
    "print('l2:', l2)"
   ]
  },
  {
   "cell_type": "markdown",
   "metadata": {},
   "source": [
    "![example5](example5.png)"
   ]
  },
  {
   "cell_type": "markdown",
   "metadata": {},
   "source": [
    "### Reading and writing files\n",
    "\n",
    "We have four basic operations:\n",
    "\n",
    "- Open\n",
    "    - returns a file object\n",
    "    - open modes: r (read), w (write), r+ (read and write), a (append)\n",
    "    \n",
    "```python\n",
    "f = open('filename', 'r+')\n",
    "```\n",
    "\n",
    "- Read\n",
    "    - read strings from file\n",
    "    - open returns file object (interator) so we can use file object like sequence\n",
    "\n",
    "Example 1:\n",
    "```python\n",
    "f = open('filename', 'r')\n",
    "f.read()\n",
    "f.close()\n",
    "```\n",
    "\n",
    "Example 2:\n",
    "```python\n",
    "f = open('filename', 'r')\n",
    "for line in f:\n",
    "    print line\n",
    "```\n",
    "\n",
    "- Write\n",
    "\n",
    "```python\n",
    "f = open('filename', 'w')\n",
    "f.write('first line\\n')\n",
    "f.close()\n",
    "```\n",
    "\n",
    "- Close\n",
    "    - close and free up any system resources taken up by the open file\n",
    "    - file object cannot be used after closing operation"
   ]
  },
  {
   "cell_type": "code",
   "execution_count": 18,
   "metadata": {
    "collapsed": false
   },
   "outputs": [
    {
     "name": "stdout",
     "output_type": "stream",
     "text": [
      "f.mode   -> w\n",
      "f.closed -> False\n",
      "f.name   -> file_to_write\n",
      "-> closing file\n",
      "f.close  -> True\n"
     ]
    }
   ],
   "source": [
    "f = open('file_to_write', 'w')\n",
    "\n",
    "print('f.mode   ->', f.mode)      # access mode\n",
    "print('f.closed ->', f.closed)    # is file closed\n",
    "print('f.name   ->', f.name)      # file name\n",
    "\n",
    "f.close()\n",
    "print('-> closing file')\n",
    "print('f.close  ->', f.closed)    # is file closed"
   ]
  },
  {
   "cell_type": "code",
   "execution_count": 14,
   "metadata": {
    "collapsed": false
   },
   "outputs": [],
   "source": [
    "# Example: writing to file\n",
    "\n",
    "# need to open file -> open(file_name, mode)\n",
    "f = open('test_file', 'w')\n",
    "\n",
    "f.write('write first line to file\\n')\n",
    "f.write('write second line to file\\n')\n",
    "\n",
    "# writelines expects a list of strings, while write expects a single string\n",
    "\n",
    "save_to_file = [\n",
    "    'third line\\n',\n",
    "    'fourth line \\n'\n",
    "]\n",
    "\n",
    "f.writelines(save_to_file)\n",
    "\n",
    "# remember to close file\n",
    "f.close()"
   ]
  },
  {
   "cell_type": "code",
   "execution_count": 8,
   "metadata": {
    "collapsed": false
   },
   "outputs": [
    {
     "name": "stdout",
     "output_type": "stream",
     "text": [
      "write first line to file\n",
      "write second line to file\n",
      "third line\n",
      "fourth line \n",
      "\n"
     ]
    }
   ],
   "source": [
    "# Example: reading from file\n",
    "\n",
    "f = open('test_file', 'r')\n",
    "\n",
    "print(f.read())\n",
    "\n",
    "f.close()"
   ]
  },
  {
   "cell_type": "code",
   "execution_count": 2,
   "metadata": {
    "collapsed": false
   },
   "outputs": [
    {
     "name": "stdout",
     "output_type": "stream",
     "text": [
      "write first line to file\n",
      "\n",
      "write second line to file\n",
      "\n",
      "third line\n",
      "\n",
      "fourth line \n",
      "\n"
     ]
    }
   ],
   "source": [
    "# Example: reading from file using for loop\n",
    "\n",
    "f = open('test_file', 'r')\n",
    "for line in f:\n",
    "    print(line)"
   ]
  },
  {
   "cell_type": "code",
   "execution_count": 9,
   "metadata": {
    "collapsed": false
   },
   "outputs": [
    {
     "name": "stdout",
     "output_type": "stream",
     "text": [
      "one\n",
      "two\n",
      "\n"
     ]
    }
   ],
   "source": [
    "# Ezample: context managers for handling file I/O operations\n",
    "\n",
    "with open('test_file', 'w') as f:\n",
    "    f.write('one\\n')\n",
    "    f.write('two\\n')\n",
    "    \n",
    "with open('test_file', 'r') as f:\n",
    "    print(f.read())"
   ]
  },
  {
   "cell_type": "markdown",
   "metadata": {},
   "source": [
    "### Exceptions\n",
    "\n",
    "> Easier to ask for forgiveness than permission\n",
    "\n",
    "#### What is exception?\n",
    "- events that can modify the flow of control through a program\n",
    "- are triggered automatically on errors\n",
    "- what is error?\n",
    "    - syntax error -> parsing error, syntactically incorrect\n",
    "    - exception - statement or expression syntactically correct, errors detecting during execution\n",
    "\n",
    "\n",
    "#### How to handle with exceptions?\n",
    "\n",
    "- Use try/except block to catch and recover from exceptions \n",
    "```python\n",
    "try:\n",
    "    # code that will break (will throw exception)\n",
    "    x = 1/0\n",
    "except EXCEPTION as E:\n",
    "    #do something with exception\n",
    "    print E\n",
    "```\n",
    "\n",
    "- Use try/finally block to perform cleanup actions, whether exception occurs or not\n",
    "```python\n",
    "try:\n",
    "    f = open('file', 'r')\n",
    "    # do something with file\n",
    "finally:\n",
    "    f.close()  # always invoke close\n",
    "```\n",
    "\n",
    "- Use raise statement to raise exception manually\n",
    "```python\n",
    "raise RuntimeError()\n",
    "```\n",
    "\n",
    "#### Built-in Exceptions (most common)\n",
    "\n",
    "- ImportError -> raised when an import statement fails to find the module definition\n",
    "- IndexError  -> raised when a sequence subscript is out of range, e.g: index[1000]\n",
    "- StopIteration -> signal that there are no further items produced by the iterator e.g: for loop\n",
    "- SyntaxError -> raised when the parser encounters a syntax error\n",
    "- IOError -> raised when input or output fails, for example if a disk fills up or an input file does not exist\n",
    "- KeyError -> raised when a value is not found as a key of a dictionary\n",
    "\n",
    "#### Assertions\n",
    "\n",
    "- used to verify program conditions during development\n",
    "- assert statements may be removed from a compiled program’s byte code - need to execute python program with -O flag\n",
    "\n",
    "```python\n",
    "def f(x):\n",
    "    assert x < 0, 'x must be negative' # if not it will raise AssertionError\n",
    "    return x ** 2\n",
    "```\n",
    "\n",
    "\n",
    "Source:\n",
    "- https://docs.python.org/3/tutorial/errors.html\n",
    "- https://docs.python.org/3/library/exceptions.html\n",
    "- https://pymotw.com/2/exceptions/"
   ]
  },
  {
   "cell_type": "code",
   "execution_count": 3,
   "metadata": {
    "collapsed": false
   },
   "outputs": [
    {
     "ename": "ImportError",
     "evalue": "No module named 'module_does_not_exist'",
     "output_type": "error",
     "traceback": [
      "\u001b[1;31m---------------------------------------------------------------------------\u001b[0m",
      "\u001b[1;31mImportError\u001b[0m                               Traceback (most recent call last)",
      "\u001b[1;32m<ipython-input-3-fedc1cc722fb>\u001b[0m in \u001b[0;36m<module>\u001b[1;34m()\u001b[0m\n\u001b[1;32m----> 1\u001b[1;33m \u001b[1;32mimport\u001b[0m \u001b[0mmodule_does_not_exist\u001b[0m\u001b[1;33m\u001b[0m\u001b[0m\n\u001b[0m",
      "\u001b[1;31mImportError\u001b[0m: No module named 'module_does_not_exist'"
     ]
    }
   ],
   "source": [
    "import module_does_not_exist"
   ]
  },
  {
   "cell_type": "code",
   "execution_count": 4,
   "metadata": {
    "collapsed": false
   },
   "outputs": [
    {
     "ename": "IndexError",
     "evalue": "list index out of range",
     "output_type": "error",
     "traceback": [
      "\u001b[1;31m---------------------------------------------------------------------------\u001b[0m",
      "\u001b[1;31mIndexError\u001b[0m                                Traceback (most recent call last)",
      "\u001b[1;32m<ipython-input-4-cab57b434f9b>\u001b[0m in \u001b[0;36m<module>\u001b[1;34m()\u001b[0m\n\u001b[0;32m      1\u001b[0m \u001b[0mnumbers\u001b[0m \u001b[1;33m=\u001b[0m \u001b[1;33m[\u001b[0m\u001b[1;36m0\u001b[0m\u001b[1;33m,\u001b[0m \u001b[1;36m1\u001b[0m\u001b[1;33m,\u001b[0m \u001b[1;36m2\u001b[0m\u001b[1;33m,\u001b[0m \u001b[1;36m3\u001b[0m\u001b[1;33m,\u001b[0m \u001b[1;36m4\u001b[0m\u001b[1;33m,\u001b[0m \u001b[1;36m5\u001b[0m\u001b[1;33m,\u001b[0m \u001b[1;36m6\u001b[0m\u001b[1;33m,\u001b[0m \u001b[1;36m7\u001b[0m\u001b[1;33m,\u001b[0m \u001b[1;36m8\u001b[0m\u001b[1;33m,\u001b[0m \u001b[1;36m9\u001b[0m\u001b[1;33m]\u001b[0m \u001b[1;31m# We have 10 elements in this list\u001b[0m\u001b[1;33m\u001b[0m\u001b[0m\n\u001b[0;32m      2\u001b[0m \u001b[1;33m\u001b[0m\u001b[0m\n\u001b[1;32m----> 3\u001b[1;33m \u001b[0mprint\u001b[0m\u001b[1;33m(\u001b[0m\u001b[0mnumbers\u001b[0m\u001b[1;33m[\u001b[0m\u001b[1;36m11\u001b[0m\u001b[1;33m]\u001b[0m\u001b[1;33m)\u001b[0m \u001b[1;31m# ask for 11th element\u001b[0m\u001b[1;33m\u001b[0m\u001b[0m\n\u001b[0m",
      "\u001b[1;31mIndexError\u001b[0m: list index out of range"
     ]
    }
   ],
   "source": [
    "numbers = [0, 1, 2, 3, 4, 5, 6, 7, 8, 9] # We have 10 elements in this list\n",
    "\n",
    "print(numbers[11]) # ask for 11th element"
   ]
  },
  {
   "cell_type": "code",
   "execution_count": 6,
   "metadata": {
    "collapsed": false
   },
   "outputs": [
    {
     "ename": "KeyError",
     "evalue": "'key_not_exist'",
     "output_type": "error",
     "traceback": [
      "\u001b[1;31m---------------------------------------------------------------------------\u001b[0m",
      "\u001b[1;31mKeyError\u001b[0m                                  Traceback (most recent call last)",
      "\u001b[1;32m<ipython-input-6-eeb7c35bb8db>\u001b[0m in \u001b[0;36m<module>\u001b[1;34m()\u001b[0m\n\u001b[0;32m      6\u001b[0m \u001b[0mmy_dictionary\u001b[0m\u001b[1;33m[\u001b[0m\u001b[1;34m'key_one'\u001b[0m\u001b[1;33m]\u001b[0m \u001b[1;31m# prints 1\u001b[0m\u001b[1;33m\u001b[0m\u001b[0m\n\u001b[0;32m      7\u001b[0m \u001b[0mmy_dictionary\u001b[0m\u001b[1;33m[\u001b[0m\u001b[1;34m'key_two'\u001b[0m\u001b[1;33m]\u001b[0m \u001b[1;31m# prints 2\u001b[0m\u001b[1;33m\u001b[0m\u001b[0m\n\u001b[1;32m----> 8\u001b[1;33m \u001b[0mmy_dictionary\u001b[0m\u001b[1;33m[\u001b[0m\u001b[1;34m'key_not_exist'\u001b[0m\u001b[1;33m]\u001b[0m \u001b[1;31m# error\u001b[0m\u001b[1;33m\u001b[0m\u001b[0m\n\u001b[0m",
      "\u001b[1;31mKeyError\u001b[0m: 'key_not_exist'"
     ]
    }
   ],
   "source": [
    "my_dictionary = {\n",
    "    'key_one': 1,\n",
    "    'key_two': 2,\n",
    "}\n",
    "\n",
    "my_dictionary['key_one'] # prints 1\n",
    "my_dictionary['key_two'] # prints 2\n",
    "my_dictionary['key_not_exist'] # error"
   ]
  },
  {
   "cell_type": "code",
   "execution_count": 10,
   "metadata": {
    "collapsed": false
   },
   "outputs": [
    {
     "name": "stdout",
     "output_type": "stream",
     "text": [
      "division by zero\n"
     ]
    }
   ],
   "source": [
    "try:\n",
    "    x = 1/0\n",
    "except ZeroDivisionError as err:\n",
    "    print(err)"
   ]
  },
  {
   "cell_type": "code",
   "execution_count": 18,
   "metadata": {
    "collapsed": false
   },
   "outputs": [
    {
     "ename": "ZeroDivisionError",
     "evalue": "division by zero, oh no!",
     "output_type": "error",
     "traceback": [
      "\u001b[1;31m---------------------------------------------------------------------------\u001b[0m",
      "\u001b[1;31mZeroDivisionError\u001b[0m                         Traceback (most recent call last)",
      "\u001b[1;32m<ipython-input-18-e2a553eb50ad>\u001b[0m in \u001b[0;36m<module>\u001b[1;34m()\u001b[0m\n\u001b[1;32m----> 1\u001b[1;33m \u001b[1;32mraise\u001b[0m \u001b[0mZeroDivisionError\u001b[0m\u001b[1;33m(\u001b[0m\u001b[1;34m'division by zero, oh no!'\u001b[0m\u001b[1;33m)\u001b[0m\u001b[1;33m\u001b[0m\u001b[0m\n\u001b[0m",
      "\u001b[1;31mZeroDivisionError\u001b[0m: division by zero, oh no!"
     ]
    }
   ],
   "source": [
    "raise ZeroDivisionError('division by zero, oh no!')"
   ]
  },
  {
   "cell_type": "code",
   "execution_count": 17,
   "metadata": {
    "collapsed": false
   },
   "outputs": [
    {
     "name": "stdout",
     "output_type": "stream",
     "text": [
      "division by zero, oh no!\n"
     ]
    }
   ],
   "source": [
    "try:\n",
    "    raise ZeroDivisionError('division by zero, oh no!')\n",
    "except ZeroDivisionError as err:\n",
    "    print(err)"
   ]
  },
  {
   "cell_type": "code",
   "execution_count": 12,
   "metadata": {
    "collapsed": false
   },
   "outputs": [
    {
     "ename": "FileNotFoundError",
     "evalue": "[Errno 2] No such file or directory: 'not_exist'",
     "output_type": "error",
     "traceback": [
      "\u001b[1;31m---------------------------------------------------------------------------\u001b[0m",
      "\u001b[1;31mFileNotFoundError\u001b[0m                         Traceback (most recent call last)",
      "\u001b[1;32m<ipython-input-12-0f991b6cf804>\u001b[0m in \u001b[0;36m<module>\u001b[1;34m()\u001b[0m\n\u001b[1;32m----> 1\u001b[1;33m \u001b[0mf\u001b[0m \u001b[1;33m=\u001b[0m \u001b[0mopen\u001b[0m\u001b[1;33m(\u001b[0m\u001b[1;34m\"not_exist\"\u001b[0m\u001b[1;33m,\u001b[0m \u001b[1;34m'r'\u001b[0m\u001b[1;33m)\u001b[0m\u001b[1;33m\u001b[0m\u001b[0m\n\u001b[0m",
      "\u001b[1;31mFileNotFoundError\u001b[0m: [Errno 2] No such file or directory: 'not_exist'"
     ]
    }
   ],
   "source": [
    "f = open(\"not_exist\", 'r')"
   ]
  },
  {
   "cell_type": "code",
   "execution_count": 19,
   "metadata": {
    "collapsed": false
   },
   "outputs": [
    {
     "name": "stdout",
     "output_type": "stream",
     "text": [
      "File not found: [Errno 2] No such file or directory: 'not_exist'\n",
      "Finally executed\n"
     ]
    }
   ],
   "source": [
    "try:\n",
    "    f = open(\"not_exist\", 'r')\n",
    "except FileNotFoundError as err:\n",
    "    print(\"File not found:\", err)\n",
    "except IOError as err:\n",
    "    print(\"IOError:\", err)\n",
    "finally:\n",
    "    print(\"Finally executed\")\n",
    "    f.close()"
   ]
  },
  {
   "cell_type": "code",
   "execution_count": 43,
   "metadata": {
    "collapsed": false
   },
   "outputs": [
    {
     "name": "stdout",
     "output_type": "stream",
     "text": [
      "finally\n"
     ]
    }
   ],
   "source": [
    "def fn():\n",
    "    try:\n",
    "        return\n",
    "        print(1)\n",
    "    except:\n",
    "        pass\n",
    "    finally:\n",
    "        print(\"finally\")\n",
    "        \n",
    "fn()"
   ]
  },
  {
   "cell_type": "markdown",
   "metadata": {},
   "source": [
    "### Modules\n",
    "\n",
    "- Every file of Python source code whose name ends in a .py extension is a module\n",
    "- Other files can access the items a module defines by importing that module\n",
    "- Import operation essentially loads another file (module)\n",
    "    - imports must find files, compile them to byte code, and run the code\n",
    "\n",
    "- More specifically, modules have at least three roles:\n",
    "1. Code reuse\n",
    "2. System namespace partitioning\n",
    "3. Implementing shared services or data (e.g: global object)\n",
    "\n",
    "> modules provide an easy way to organize components into a system by serving as self-contained packages of variables known as namespaces\n",
    "\n",
    "\n",
    "#### Import operation\n",
    "\n",
    "- Import operations essentially load another file and grant access to that file’s contents\n",
    "- Python searches for imported modules in every directory listed in sys.path\n",
    "\n",
    "> imports are not just textual insertions of one file into another. They are really runtime operations that perform three distinct steps the first time a program imports a given file:\n",
    "Python does this by storing loaded modules in a table named sys.modules and checking there at the start of an import operation. If the module is not present, a three-step process begins:\n",
    "1. Find the module’s file.\n",
    "2. Compile it to byte code (if needed).\n",
    "3. Run the module’s code to build the objects it defines.\n",
    "\n",
    "\n",
    "##### Import search path\n",
    "\n",
    "The Module Search Path:\n",
    "1. The home directory of the program (automatic)\n",
    "2. PYTHONPATH directories (if set)\n",
    "3. Standard library directories\n",
    "4. The contents of any .pth files (if present)\n",
    "5. The site-packages home of third-party extensions\n",
    "\n",
    "    \n",
    "##### Python modules - examples:\n",
    "\n",
    "- my_lib.py\n",
    "\n",
    "```python\n",
    "\n",
    "ATTRIBUTE_ONE = \"attribute_one\"\n",
    "LIST_OF_NUMBERS = [1, 2, 3, 4]\n",
    "\n",
    "def do_something(*args):\n",
    "    return *args\n",
    "    \n",
    "def do_something_complicated(*args):\n",
    "    return 2 + 2\n",
    "    \n",
    "if __name__ == \"__main__\":\n",
    "    do_something(1, 2, 3)\n",
    "\n",
    "```\n",
    "\n",
    "- my_script.py\n",
    "\n",
    "```python\n",
    "\n",
    "from my_lib import do_something\n",
    "\n",
    "do_something(5, 6, 7)\n",
    "\n",
    "print my_lib.ATTRIBUTE_ONE\n",
    "```"
   ]
  },
  {
   "cell_type": "code",
   "execution_count": 10,
   "metadata": {
    "collapsed": true
   },
   "outputs": [],
   "source": [
    "import collections\n",
    "\n",
    "from collections import OrderedDict\n",
    "\n",
    "from collections import OrderedDict as ordered_dict"
   ]
  },
  {
   "cell_type": "code",
   "execution_count": 11,
   "metadata": {
    "collapsed": false
   },
   "outputs": [
    {
     "data": {
      "text/plain": [
       "<module 'math' (built-in)>"
      ]
     },
     "execution_count": 11,
     "metadata": {},
     "output_type": "execute_result"
    }
   ],
   "source": [
    "import math\n",
    "\n",
    "from imp import reload\n",
    "reload(math)"
   ]
  },
  {
   "cell_type": "code",
   "execution_count": null,
   "metadata": {
    "collapsed": true
   },
   "outputs": [],
   "source": [
    "from A import func\n",
    "from B import func             # This overwrites function we fetched from A\n",
    "func()                         # It calls A.func() only\n",
    "\n",
    "# How to fix this?\n",
    "\n",
    "from A import func as afunc    # Rename uniquely with \"as\"\n",
    "from B import func as bfunc\n",
    "afunc()\n",
    "bfunc()               "
   ]
  },
  {
   "cell_type": "markdown",
   "metadata": {},
   "source": [
    "### Garbage collector\n",
    "\n",
    "Python has a feature known as garbage collection that cleans up unused memory as your program runs and frees you from having to manage such details in your code.\n",
    "\n",
    "\n",
    "- When we lose the last reference to the object by assigning its variable to something else, all of the memory space occupied by that object’s structure is automatically cleaned up for us\n",
    "\n",
    "- Technically speaking, Python’s garbage collection is based mainly upon reference counters\n",
    "\n",
    "\n",
    "##### How to check pointers to object (number of references)?\n",
    "\n",
    "```python\n",
    ">>> import sys\n",
    ">>> sys.getrefcount(1)    # 647 pointers to this shared piece of memory\n",
    "```\n"
   ]
  },
  {
   "cell_type": "markdown",
   "metadata": {},
   "source": [
    "### Duck Typing & Polimorphizm\n",
    "\n",
    "- Sort of type-dependent behavior is known as polymorphism \n",
    "- Dvery operation is a polymorphic operation in Python: \n",
    "\n",
    "> polymorphic behavior has in recent years come to also be known as duck typing—the essential idea being that your code is not supposed to care if an object is a duck, only that it quacks. Anything that quacks will do, duck or not, and the implementation of quacks is up to the object,"
   ]
  },
  {
   "cell_type": "markdown",
   "metadata": {},
   "source": [
    "### Better to know ...\n",
    "\n",
    "- Python cannot run programms in parallel - there is a global mutex (Global Interperer Lock)\n",
    "- GIL ensures that only one thread runs in the interperter at once\n",
    "- sources:\n",
    "    - https://wiki.python.org/moin/GlobalInterpreterLock\n",
    "    - http://www.dabeaz.com/python/UnderstandingGIL.pdf\n",
    "- we have GIL only in CPython implementaion\n",
    "    - you can use others python implemention: Jython, IronPython, PyPy\n",
    "    "
   ]
  },
  {
   "cell_type": "markdown",
   "metadata": {},
   "source": [
    "### How to learn Python?\n",
    "\n",
    "\n",
    "- first, master the fundamentals\n",
    "\n",
    "- python official documentation: https://docs.python.org/3/\n",
    "- well writen python tutorial: https://docs.python.org/3/tutorial/index.html \n",
    "- coding standard, style guide - pep8: https://www.python.org/dev/peps/pep-0008/ \n",
    "- visualize execution of code: http://www.pythontutor.com/"
   ]
  },
  {
   "cell_type": "code",
   "execution_count": 21,
   "metadata": {
    "collapsed": false
   },
   "outputs": [
    {
     "name": "stdout",
     "output_type": "stream",
     "text": [
      "The Zen of Python, by Tim Peters\n",
      "\n",
      "Beautiful is better than ugly.\n",
      "Explicit is better than implicit.\n",
      "Simple is better than complex.\n",
      "Complex is better than complicated.\n",
      "Flat is better than nested.\n",
      "Sparse is better than dense.\n",
      "Readability counts.\n",
      "Special cases aren't special enough to break the rules.\n",
      "Although practicality beats purity.\n",
      "Errors should never pass silently.\n",
      "Unless explicitly silenced.\n",
      "In the face of ambiguity, refuse the temptation to guess.\n",
      "There should be one-- and preferably only one --obvious way to do it.\n",
      "Although that way may not be obvious at first unless you're Dutch.\n",
      "Now is better than never.\n",
      "Although never is often better than *right* now.\n",
      "If the implementation is hard to explain, it's a bad idea.\n",
      "If the implementation is easy to explain, it may be a good idea.\n",
      "Namespaces are one honking great idea -- let's do more of those!\n"
     ]
    }
   ],
   "source": [
    "import this"
   ]
  },
  {
   "cell_type": "markdown",
   "metadata": {},
   "source": [
    "### Fetching data from web\n",
    "\n",
    "> The Requests package is recommended for a higher-level http client interface\n",
    "\n",
    "> Requests allow you to send HTTP/1.1 requests. You can add headers, form data, multipart files, and parameters with simple Python dictionaries, and access the response data in the same way. It’s powered by httplib and urllib3\n",
    "\n",
    "- Remember to install requests package, because it is 3rd party library\n",
    "\n",
    "```bash\n",
    "pip install requests\n",
    "```\n",
    "\n",
    "Sources:\n",
    "- https://docs.python.org/2/library/urllib.html\n",
    "- http://docs.python-requests.org/en/master/"
   ]
  },
  {
   "cell_type": "code",
   "execution_count": 22,
   "metadata": {
    "collapsed": false
   },
   "outputs": [
    {
     "data": {
      "text/plain": [
       "b'[{\"id\":\"3639882264\",\"type\":\"IssuesEvent\",\"actor\":{\"id\":129603,\"login\":\"whimboo\",\"gravatar_id\":\"\",\"url\":\"https://api.github.com/users/whimboo\",\"avatar_url\":\"https://avatars.githubusercontent.com/u/129603?\"},\"repo\":{\"id\":4421513,\"name\":\"mozilla/mozdownload\",\"url\":\"https://api.github.com/repos/mozilla/mozdownload\"},\"payload\":{\"action\":\"closed\",\"issue\":{\"url\":\"https://api.github.com/repos/mozilla/mozdownload/issues/388\",\"repository_url\":\"https://api.github.com/repos/mozilla/mozdownload\",\"labels_url\":\"https://api.github.com/repos/mozilla/mozdownload/issues/388/labels{/name}\",\"comments_url\":\"https://api.github.com/repos/mozilla/mozdownload/issues/388/comments\",\"events_url\":\"https://api.github.com/repos/mozilla/mozdownload/issues/388/events\",\"html_url\":\"https://github.com/mozilla/mozdownload/issues/388\",\"id\":133111240,\"number\":388,\"title\":\"Querying Treeherder by revision fails due to invalid usage of platform value\",\"user\":{\"login\":\"whimboo\",\"id\":129603,\"avatar_url\":\"https://avatars.githubusercontent.com/u/129603?v=3\",\"gravatar_id\":\"\",\"url\":\"https://api.github.com/users/whimboo\",\"html_url\":\"https://github.com/whimboo\",\"followers_url\":\"https://api.github.com/users/whimboo/followers\",\"following_url\":\"https://api.github.com/users/whimboo/following{/other_user}\",\"gists_url\":\"https://api.github.com/users/whimboo/gists{/gist_id}\",\"starred_url\":\"https://api.github.com/users/whimboo/starred{/owner}{/repo}\",\"subscriptions_url\":\"https://api.github.com/users/whimboo/subscriptions\",\"organizations_url\":\"https://api.github.com/users/whimboo/orgs\",\"repos_url\":\"https://api.github.com/users/whimboo/repos\",\"events_url\":\"https://api.github.com/users/whimboo/events{/privacy}\",\"received_events_url\":\"https://api.github.com/users/whimboo/received_events\",\"type\":\"User\",\"site_admin\":false},\"labels\":[],\"state\":\"closed\",\"locked\":false,\"assignee\":{\"login\":\"whimboo\",\"id\":129603,\"avatar_url\":\"https://avatars.githubusercontent.com/u/129603?v=3\",\"gravatar_id\":\"\",\"url\":\"https://api.github.com/users/whimboo\",\"html_url\":\"https://github.com/whimboo\",\"followers_url\":\"https://api.github.com/users/whimboo/followers\",\"following_url\":\"https://api.github.com/users/whimboo/following{/other_user}\",\"gists_url\":\"https://api.github.com/users/whimboo/gists{/gist_id}\",\"starred_url\":\"https://api.github.com/users/whimboo/starred{/owner}{/repo}\",\"subscriptions_url\":\"https://api.github.com/users/whimboo/subscriptions\",\"organizations_url\":\"https://api.github.com/users/whimboo/orgs\",\"repos_url\":\"https://api.github.com/users/whimboo/repos\",\"events_url\":\"https://api.github.com/users/whimboo/events{/privacy}\",\"received_events_url\":\"https://api.github.com/users/whimboo/received_events\",\"type\":\"User\",\"site_admin\":false},\"milestone\":{\"url\":\"https://api.github.com/repos/mozilla/mozdownload/milestones/26\",\"html_url\":\"https://github.com/mozilla/mozdownload/milestones/1.20.2\",\"labels_url\":\"https://api.github.com/repos/mozilla/mozdownload/milestones/26/labels\",\"id\":1579937,\"number\":26,\"title\":\"1.20.2\",\"description\":\"\",\"creator\":{\"login\":\"whimboo\",\"id\":129603,\"avatar_url\":\"https://avatars.githubusercontent.com/u/129603?v=3\",\"gravatar_id\":\"\",\"url\":\"https://api.github.com/users/whimboo\",\"html_url\":\"https://github.com/whimboo\",\"followers_url\":\"https://api.github.com/users/whimboo/followers\",\"following_url\":\"https://api.github.com/users/whimboo/following{/other_user}\",\"gists_url\":\"https://api.github.com/users/whimboo/gists{/gist_id}\",\"starred_url\":\"https://api.github.com/users/whimboo/starred{/owner}{/repo}\",\"subscriptions_url\":\"https://api.github.com/users/whimboo/subscriptions\",\"organizations_url\":\"https://api.github.com/users/whimboo/orgs\",\"repos_url\":\"https://api.github.com/users/whimboo/repos\",\"events_url\":\"https://api.github.com/users/whimboo/events{/privacy}\",\"received_events_url\":\"https://api.github.com/users/whimboo/received_events\",\"type\":\"User\",\"site_admin\":false},\"open_issues\":1,\"closed_issues\":1,\"state\":\"open\",\"created_at\":\"2016-02-12T15:32:29Z\",\"updated_at\":\"2016-02-12T21:21:08Z\",\"due_on\":null,\"closed_at\":null},\"comments\":1,\"created_at\":\"2016-02-11T23:04:46Z\",\"updated_at\":\"2016-02-12T21:21:08Z\",\"closed_at\":\"2016-02-12T21:21:08Z\",\"body\":\"The unittests haven\\'t caught this problem but a late refactoring on PR #370 broke the filter for the API request of jobs:\\\\r\\\\n\\\\r\\\\n\\\\\"GET /api/project/mozilla-beta/jobs/?platform=build_platform&result_set_id=2441562&job_type_name=Build&option_collection_hash=102210fe594ee9b33d82058545b1ed14f4c8206e&exclusion_profile=False HTTP/1.1\\\\\" 200 None\\\\r\\\\n\\\\r\\\\nNotice the invalid value of `build_platform` as actual platform value. \"}},\"public\":true,\"created_at\":\"2016-02-12T21:21:08Z\",\"org\":{\"id\":131524,\"login\":\"mozilla\",\"gravatar_id\":\"\",\"url\":\"https://api.github.com/orgs/mozilla\",\"avatar_url\":\"https://avatars.githubusercontent.com/u/131524?\"}},{\"id\":\"3639882263\",\"type\":\"IssueCommentEvent\",\"actor\":{\"id\":129603,\"login\":\"whimboo\",\"gravatar_id\":\"\",\"url\":\"https://api.github.com/users/whimboo\",\"avatar_url\":\"https://avatars.githubusercontent.com/u/129603?\"},\"repo\":{\"id\":4421513,\"name\":\"mozilla/mozdownload\",\"url\":\"https://api.github.com/repos/mozilla/mozdownload\"},\"payload\":{\"action\":\"created\",\"issue\":{\"url\":\"https://api.github.com/repos/mozilla/mozdownload/issues/388\",\"repository_url\":\"https://api.github.com/repos/mozilla/mozdownload\",\"labels_url\":\"https://api.github.com/repos/mozilla/mozdownload/issues/388/labels{/name}\",\"comments_url\":\"https://api.github.com/repos/mozilla/mozdownload/issues/388/comments\",\"events_url\":\"https://api.github.com/repos/mozilla/mozdownload/issues/388/events\",\"html_url\":\"https://github.com/mozilla/mozdownload/issues/388\",\"id\":133111240,\"number\":388,\"title\":\"Querying Treeherder by revision fails due to invalid usage of platform value\",\"user\":{\"login\":\"whimboo\",\"id\":129603,\"avatar_url\":\"https://avatars.githubusercontent.com/u/129603?v=3\",\"gravatar_id\":\"\",\"url\":\"https://api.github.com/users/whimboo\",\"html_url\":\"https://github.com/whimboo\",\"followers_url\":\"https://api.github.com/users/whimboo/followers\",\"following_url\":\"https://api.github.com/users/whimboo/following{/other_user}\",\"gists_url\":\"https://api.github.com/users/whimboo/gists{/gist_id}\",\"starred_url\":\"https://api.github.com/users/whimboo/starred{/owner}{/repo}\",\"subscriptions_url\":\"https://api.github.com/users/whimboo/subscriptions\",\"organizations_url\":\"https://api.github.com/users/whimboo/orgs\",\"repos_url\":\"https://api.github.com/users/whimboo/repos\",\"events_url\":\"https://api.github.com/users/whimboo/events{/privacy}\",\"received_events_url\":\"https://api.github.com/users/whimboo/received_events\",\"type\":\"User\",\"site_admin\":false},\"labels\":[],\"state\":\"closed\",\"locked\":false,\"assignee\":{\"login\":\"whimboo\",\"id\":129603,\"avatar_url\":\"https://avatars.githubusercontent.com/u/129603?v=3\",\"gravatar_id\":\"\",\"url\":\"https://api.github.com/users/whimboo\",\"html_url\":\"https://github.com/whimboo\",\"followers_url\":\"https://api.github.com/users/whimboo/followers\",\"following_url\":\"https://api.github.com/users/whimboo/following{/other_user}\",\"gists_url\":\"https://api.github.com/users/whimboo/gists{/gist_id}\",\"starred_url\":\"https://api.github.com/users/whimboo/starred{/owner}{/repo}\",\"subscriptions_url\":\"https://api.github.com/users/whimboo/subscriptions\",\"organizations_url\":\"https://api.github.com/users/whimboo/orgs\",\"repos_url\":\"https://api.github.com/users/whimboo/repos\",\"events_url\":\"https://api.github.com/users/whimboo/events{/privacy}\",\"received_events_url\":\"https://api.github.com/users/whimboo/received_events\",\"type\":\"User\",\"site_admin\":false},\"milestone\":{\"url\":\"https://api.github.com/repos/mozilla/mozdownload/milestones/26\",\"html_url\":\"https://github.com/mozilla/mozdownload/milestones/1.20.2\",\"labels_url\":\"https://api.github.com/repos/mozilla/mozdownload/milestones/26/labels\",\"id\":1579937,\"number\":26,\"title\":\"1.20.2\",\"description\":\"\",\"creator\":{\"login\":\"whimboo\",\"id\":129603,\"avatar_url\":\"https://avatars.githubusercontent.com/u/129603?v=3\",\"gravatar_id\":\"\",\"url\":\"https://api.github.com/users/whimboo\",\"html_url\":\"https://github.com/whimboo\",\"followers_url\":\"https://api.github.com/users/whimboo/followers\",\"following_url\":\"https://api.github.com/users/whimboo/following{/other_user}\",\"gists_url\":\"https://api.github.com/users/whimboo/gists{/gist_id}\",\"starred_url\":\"https://api.github.com/users/whimboo/starred{/owner}{/repo}\",\"subscriptions_url\":\"https://api.github.com/users/whimboo/subscriptions\",\"organizations_url\":\"https://api.github.com/users/whimboo/orgs\",\"repos_url\":\"https://api.github.com/users/whimboo/repos\",\"events_url\":\"https://api.github.com/users/whimboo/events{/privacy}\",\"received_events_url\":\"https://api.github.com/users/whimboo/received_events\",\"type\":\"User\",\"site_admin\":false},\"open_issues\":1,\"closed_issues\":1,\"state\":\"open\",\"created_at\":\"2016-02-12T15:32:29Z\",\"updated_at\":\"2016-02-12T21:21:08Z\",\"due_on\":null,\"closed_at\":null},\"comments\":1,\"created_at\":\"2016-02-11T23:04:46Z\",\"updated_at\":\"2016-02-12T21:21:08Z\",\"closed_at\":\"2016-02-12T21:21:08Z\",\"body\":\"The unittests haven\\'t caught this problem but a late refactoring on PR #370 broke the filter for the API request of jobs:\\\\r\\\\n\\\\r\\\\n\\\\\"GET /api/project/mozilla-beta/jobs/?platform=build_platform&result_set_id=2441562&job_type_name=Build&option_collection_hash=102210fe594ee9b33d82058545b1ed14f4c8206e&exclusion_profile=False HTTP/1.1\\\\\" 200 None\\\\r\\\\n\\\\r\\\\nNotice the invalid value of `build_platform` as actual platform value. \"},\"comment\":{\"url\":\"https://api.github.com/repos/mozilla/mozdownload/issues/comments/183491898\",\"html_url\":\"https://github.com/mozilla/mozdownload/issues/388#issuecomment-183491898\",\"issue_url\":\"https://api.github.com/repos/mozilla/mozdownload/issues/388\",\"id\":183491898,\"user\":{\"login\":\"whimboo\",\"id\":129603,\"avatar_url\":\"https://avatars.githubusercontent.com/u/129603?v=3\",\"gravatar_id\":\"\",\"url\":\"https://api.github.com/users/whimboo\",\"html_url\":\"https://github.com/whimboo\",\"followers_url\":\"https://api.github.com/users/whimboo/followers\",\"following_url\":\"https://api.github.com/users/whimboo/following{/other_user}\",\"gists_url\":\"https://api.github.com/users/whimboo/gists{/gist_id}\",\"starred_url\":\"https://api.github.com/users/whimboo/starred{/owner}{/repo}\",\"subscriptions_url\":\"https://api.github.com/users/whimboo/subscriptions\",\"organizations_url\":\"https://api.github.com/users/whimboo/orgs\",\"repos_url\":\"https://api.github.com/users/whimboo/repos\",\"events_url\":\"https://api.github.com/users/whimboo/events{/privacy}\",\"received_events_url\":\"https://api.github.com/users/whimboo/received_events\",\"type\":\"User\",\"site_admin\":false},\"created_at\":\"2016-02-12T21:21:08Z\",\"updated_at\":\"2016-02-12T21:21:08Z\",\"body\":\"PR #389 has been merged.\"}},\"public\":true,\"created_at\":\"2016-02-12T21:21:08Z\",\"org\":{\"id\":131524,\"login\":\"mozilla\",\"gravatar_id\":\"\",\"url\":\"https://api.github.com/orgs/mozilla\",\"avatar_url\":\"https://avatars.githubusercontent.com/u/131524?\"}},{\"id\":\"3639882250\",\"type\":\"PushEvent\",\"actor\":{\"id\":2618490,\"login\":\"ammula88\",\"gravatar_id\":\"\",\"url\":\"https://api.github.com/users/ammula88\",\"avatar_url\":\"https://avatars.githubusercontent.com/u/2618490?\"},\"repo\":{\"id\":51616800,\"name\":\"ammula88/oh-my-zsh\",\"url\":\"https://api.github.com/repos/ammula88/oh-my-zsh\"},\"payload\":{\"push_id\":975640646,\"size\":1,\"distinct_size\":1,\"ref\":\"refs/heads/bsl\",\"head\":\"a6b16494c8bb54a19a53071f87362c9063782cf7\",\"before\":\"80309f76cfd431965c3ea73964baf6f7e46271b7\",\"commits\":[{\"sha\":\"a6b16494c8bb54a19a53071f87362c9063782cf7\",\"author\":{\"email\":\"aa654@njit.edu\",\"name\":\"Anil Ammula\"},\"message\":\"Branch: Master\\\\nHEAD:b7b2dd5802cc9ff28447151c430f47aba1f4739b\",\"distinct\":true,\"url\":\"https://api.github.com/repos/ammula88/oh-my-zsh/commits/a6b16494c8bb54a19a53071f87362c9063782cf7\"}]},\"public\":true,\"created_at\":\"2016-02-12T21:21:08Z\"},{\"id\":\"3639882237\",\"type\":\"IssueCommentEvent\",\"actor\":{\"id\":2146312,\"login\":\"dan-f\",\"gravatar_id\":\"\",\"url\":\"https://api.github.com/users/dan-f\",\"avatar_url\":\"https://avatars.githubusercontent.com/u/2146312?\"},\"repo\":{\"id\":40644985,\"name\":\"edx/edx-ui-toolkit\",\"url\":\"https://api.github.com/repos/edx/edx-ui-toolkit\"},\"payload\":{\"action\":\"created\",\"issue\":{\"url\":\"https://api.github.com/repos/edx/edx-ui-toolkit/issues/19\",\"repository_url\":\"https://api.github.com/repos/edx/edx-ui-toolkit\",\"labels_url\":\"https://api.github.com/repos/edx/edx-ui-toolkit/issues/19/labels{/name}\",\"comments_url\":\"https://api.github.com/repos/edx/edx-ui-toolkit/issues/19/comments\",\"events_url\":\"https://api.github.com/repos/edx/edx-ui-toolkit/issues/19/events\",\"html_url\":\"https://github.com/edx/edx-ui-toolkit/pull/19\",\"id\":133333833,\"number\":19,\"title\":\"Refactor dependencies from bower to npm\",\"user\":{\"login\":\"dan-f\",\"id\":2146312,\"avatar_url\":\"https://avatars.githubusercontent.com/u/2146312?v=3\",\"gravatar_id\":\"\",\"url\":\"https://api.github.com/users/dan-f\",\"html_url\":\"https://github.com/dan-f\",\"followers_url\":\"https://api.github.com/users/dan-f/followers\",\"following_url\":\"https://api.github.com/users/dan-f/following{/other_user}\",\"gists_url\":\"https://api.github.com/users/dan-f/gists{/gist_id}\",\"starred_url\":\"https://api.github.com/users/dan-f/starred{/owner}{/repo}\",\"subscriptions_url\":\"https://api.github.com/users/dan-f/subscriptions\",\"organizations_url\":\"https://api.github.com/users/dan-f/orgs\",\"repos_url\":\"https://api.github.com/users/dan-f/repos\",\"events_url\":\"https://api.github.com/users/dan-f/events{/privacy}\",\"received_events_url\":\"https://api.github.com/users/dan-f/received_events\",\"type\":\"User\",\"site_admin\":false},\"labels\":[],\"state\":\"open\",\"locked\":false,\"assignee\":null,\"milestone\":null,\"comments\":2,\"created_at\":\"2016-02-12T20:18:34Z\",\"updated_at\":\"2016-02-12T21:21:08Z\",\"closed_at\":null,\"pull_request\":{\"url\":\"https://api.github.com/repos/edx/edx-ui-toolkit/pulls/19\",\"html_url\":\"https://github.com/edx/edx-ui-toolkit/pull/19\",\"diff_url\":\"https://github.com/edx/edx-ui-toolkit/pull/19.diff\",\"patch_url\":\"https://github.com/edx/edx-ui-toolkit/pull/19.patch\"},\"body\":\"Allows us to use npm for all project dependencies.\\\\r\\\\n\\\\r\\\\n[UITK-64](https://openedx.atlassian.net/browse/UITK-64)\\\\r\\\\n\\\\r\\\\n@andy-armstrong @cahrens \"},\"comment\":{\"url\":\"https://api.github.com/repos/edx/edx-ui-toolkit/issues/comments/183491893\",\"html_url\":\"https://github.com/edx/edx-ui-toolkit/pull/19#issuecomment-183491893\",\"issue_url\":\"https://api.github.com/repos/edx/edx-ui-toolkit/issues/19\",\"id\":183491893,\"user\":{\"login\":\"dan-f\",\"id\":2146312,\"avatar_url\":\"https://avatars.githubusercontent.com/u/2146312?v=3\",\"gravatar_id\":\"\",\"url\":\"https://api.github.com/users/dan-f\",\"html_url\":\"https://github.com/dan-f\",\"followers_url\":\"https://api.github.com/users/dan-f/followers\",\"following_url\":\"https://api.github.com/users/dan-f/following{/other_user}\",\"gists_url\":\"https://api.github.com/users/dan-f/gists{/gist_id}\",\"starred_url\":\"https://api.github.com/users/dan-f/starred{/owner}{/repo}\",\"subscriptions_url\":\"https://api.github.com/users/dan-f/subscriptions\",\"organizations_url\":\"https://api.github.com/users/dan-f/orgs\",\"repos_url\":\"https://api.github.com/users/dan-f/repos\",\"events_url\":\"https://api.github.com/users/dan-f/events{/privacy}\",\"received_events_url\":\"https://api.github.com/users/dan-f/received_events\",\"type\":\"User\",\"site_admin\":false},\"created_at\":\"2016-02-12T21:21:08Z\",\"updated_at\":\"2016-02-12T21:21:08Z\",\"body\":\"@andy-armstrong - I\\'m not too familiar with Bower package distribution, but I\\'ll look into it!\\\\r\\\\n\\\\r\\\\nAlso - I upgraded all the libraries, including jQuery which is now at 2.2.0! :D\"}},\"public\":true,\"created_at\":\"2016-02-12T21:21:08Z\",\"org\":{\"id\":3179841,\"login\":\"edx\",\"gravatar_id\":\"\",\"url\":\"https://api.github.com/orgs/edx\",\"avatar_url\":\"https://avatars.githubusercontent.com/u/3179841?\"}},{\"id\":\"3639882226\",\"type\":\"CreateEvent\",\"actor\":{\"id\":5783817,\"login\":\"haroldhues\",\"gravatar_id\":\"\",\"url\":\"https://api.github.com/users/haroldhues\",\"avatar_url\":\"https://avatars.githubusercontent.com/u/5783817?\"},\"repo\":{\"id\":44284889,\"name\":\"semdiffdotnet/semdiff\",\"url\":\"https://api.github.com/repos/semdiffdotnet/semdiff\"},\"payload\":{\"ref\":\"alpha-merge-release\",\"ref_type\":\"branch\",\"master_branch\":\"master\",\"description\":\"A tool which can diff code semantically\",\"pusher_type\":\"user\"},\"public\":true,\"created_at\":\"2016-02-12T21:21:08Z\",\"org\":{\"id\":15133594,\"login\":\"semdiffdotnet\",\"gravatar_id\":\"\",\"url\":\"https://api.github.com/orgs/semdiffdotnet\",\"avatar_url\":\"https://avatars.githubusercontent.com/u/15133594?\"}},{\"id\":\"3639882218\",\"type\":\"PushEvent\",\"actor\":{\"id\":8899069,\"login\":\"andersonmcook\",\"gravatar_id\":\"\",\"url\":\"https://api.github.com/users/andersonmcook\",\"avatar_url\":\"https://avatars.githubusercontent.com/u/8899069?\"},\"repo\":{\"id\":50852329,\"name\":\"andersonmcook/node-webserver\",\"url\":\"https://api.github.com/repos/andersonmcook/node-webserver\"},\"payload\":{\"push_id\":975640641,\"size\":1,\"distinct_size\":1,\"ref\":\"refs/heads/master\",\"head\":\"a40ba0bb521493a81cd91f0f6ee91cefa4e4d210\",\"before\":\"147e144a6fc880f1b93adc0ae0a17a56972e4251\",\"commits\":[{\"sha\":\"a40ba0bb521493a81cd91f0f6ee91cefa4e4d210\",\"author\":{\"email\":\"andersonmcook@gmail.com\",\"name\":\"andersonmcook\"},\"message\":\"changed app to router\",\"distinct\":true,\"url\":\"https://api.github.com/repos/andersonmcook/node-webserver/commits/a40ba0bb521493a81cd91f0f6ee91cefa4e4d210\"}]},\"public\":true,\"created_at\":\"2016-02-12T21:21:08Z\"},{\"id\":\"3639882206\",\"type\":\"PushEvent\",\"actor\":{\"id\":17202684,\"login\":\"deanolufson\",\"gravatar_id\":\"\",\"url\":\"https://api.github.com/users/deanolufson\",\"avatar_url\":\"https://avatars.githubusercontent.com/u/17202684?\"},\"repo\":{\"id\":51544323,\"name\":\"eservigon/indiciawp\",\"url\":\"https://api.github.com/repos/eservigon/indiciawp\"},\"payload\":{\"push_id\":975640639,\"size\":2,\"distinct_size\":2,\"ref\":\"refs/heads/master\",\"head\":\"b72927e3b5a2a9131f31efcc86eb7ca54ae27b7f\",\"before\":\"04db39ab8f99e62b4e54778d618929748552dcdf\",\"commits\":[{\"sha\":\"2f17a5367fe16524bbcabccd0a7b46e534faf48f\",\"author\":{\"email\":\"deanolufson@Deans-Macbook.local\",\"name\":\"deanolufson\"},\"message\":\"testing\\\\n\\\\nadded note\",\"distinct\":true,\"url\":\"https://api.github.com/repos/eservigon/indiciawp/commits/2f17a5367fe16524bbcabccd0a7b46e534faf48f\"},{\"sha\":\"b72927e3b5a2a9131f31efcc86eb7ca54ae27b7f\",\"author\":{\"email\":\"deanolufson@Deans-Macbook.local\",\"name\":\"deanolufson\"},\"message\":\"small note\",\"distinct\":true,\"url\":\"https://api.github.com/repos/eservigon/indiciawp/commits/b72927e3b5a2a9131f31efcc86eb7ca54ae27b7f\"}]},\"public\":true,\"created_at\":\"2016-02-12T21:21:07Z\"},{\"id\":\"3639882200\",\"type\":\"CreateEvent\",\"actor\":{\"id\":17077648,\"login\":\"TJonathan\",\"gravatar_id\":\"\",\"url\":\"https://api.github.com/users/TJonathan\",\"avatar_url\":\"https://avatars.githubusercontent.com/u/17077648?\"},\"repo\":{\"id\":51617232,\"name\":\"TJonathan/Sample\",\"url\":\"https://api.github.com/repos/TJonathan/Sample\"},\"payload\":{\"ref\":null,\"ref_type\":\"repository\",\"master_branch\":\"master\",\"description\":\"\",\"pusher_type\":\"user\"},\"public\":true,\"created_at\":\"2016-02-12T21:21:07Z\"},{\"id\":\"3639882193\",\"type\":\"IssueCommentEvent\",\"actor\":{\"id\":923865,\"login\":\"SBoudrias\",\"gravatar_id\":\"\",\"url\":\"https://api.github.com/users/SBoudrias\",\"avatar_url\":\"https://avatars.githubusercontent.com/u/923865?\"},\"repo\":{\"id\":5151909,\"name\":\"yeoman/generator\",\"url\":\"https://api.github.com/repos/yeoman/generator\"},\"payload\":{\"action\":\"created\",\"issue\":{\"url\":\"https://api.github.com/repos/yeoman/generator/issues/596\",\"repository_url\":\"https://api.github.com/repos/yeoman/generator\",\"labels_url\":\"https://api.github.com/repos/yeoman/generator/issues/596/labels{/name}\",\"comments_url\":\"https://api.github.com/repos/yeoman/generator/issues/596/comments\",\"events_url\":\"https://api.github.com/repos/yeoman/generator/issues/596/events\",\"html_url\":\"https://github.com/yeoman/generator/issues/596\",\"id\":37513443,\"number\":596,\"title\":\"Callback passed to conflicter.once never fires while copying a directory\",\"user\":{\"login\":\"ollie101\",\"id\":978451,\"avatar_url\":\"https://avatars.githubusercontent.com/u/978451?v=3\",\"gravatar_id\":\"\",\"url\":\"https://api.github.com/users/ollie101\",\"html_url\":\"https://github.com/ollie101\",\"followers_url\":\"https://api.github.com/users/ollie101/followers\",\"following_url\":\"https://api.github.com/users/ollie101/following{/other_user}\",\"gists_url\":\"https://api.github.com/users/ollie101/gists{/gist_id}\",\"starred_url\":\"https://api.github.com/users/ollie101/starred{/owner}{/repo}\",\"subscriptions_url\":\"https://api.github.com/users/ollie101/subscriptions\",\"organizations_url\":\"https://api.github.com/users/ollie101/orgs\",\"repos_url\":\"https://api.github.com/users/ollie101/repos\",\"events_url\":\"https://api.github.com/users/ollie101/events{/privacy}\",\"received_events_url\":\"https://api.github.com/users/ollie101/received_events\",\"type\":\"User\",\"site_admin\":false},\"labels\":[{\"url\":\"https://api.github.com/repos/yeoman/generator/labels/bug\",\"name\":\"bug\",\"color\":\"fc2929\"},{\"url\":\"https://api.github.com/repos/yeoman/generator/labels/to-confirm\",\"name\":\"to-confirm\",\"color\":\"fbca04\"}],\"state\":\"closed\",\"locked\":false,\"assignee\":null,\"milestone\":null,\"comments\":9,\"created_at\":\"2014-07-09T22:02:25Z\",\"updated_at\":\"2016-02-12T21:21:07Z\",\"closed_at\":\"2014-10-22T01:41:04Z\",\"body\":\"I\\'m trying to copy the contents of a repo into the root of the project when a generator is run but am getting an `illegal operation on a directory` error. To try and combat it I tried generating a fresh generator and pasting the example given in the documentation into the `projectfiles` function (giving it this repo to download) like this:\\\\r\\\\n\\\\r\\\\n    this.remote(\\'yeoman\\', \\'generator\\', function(err, remote) {\\\\r\\\\n        remote.copy(\\'.\\', \\'vendors/user-repo\\');\\\\r\\\\n    });\\\\r\\\\n\\\\r\\\\nbut still get the error\\\\r\\\\n\\\\r\\\\n    /usr/local/lib/node_modules/yo/node_modules/insight/node_modules/configstore/node_modules/graceful-fs/polyfills.js:224\\\\r\\\\n      throw er\\\\r\\\\n            ^\\\\r\\\\n    Error: EISDIR, illegal operation on a directory\\\\r\\\\n    at Object.fs.readSync (fs.js:476:19)\\\\r\\\\n    at Object.fs.readSync (/usr/local/lib/node_modules/yo/node_modules/insight/node_modules/configstore/node_modules/graceful-fs/polyfills.js:218:23)\\\\r\\\\n    at module.exports (/Users/ollie/Documents/git/generator-adapt/node_modules/yeoman-generator/node_modules/isbinaryfile/index.js:14:17)\\\\r\\\\n    at _prepCopy (/Users/ollie/Documents/git/generator-adapt/node_modules/yeoman-generator/lib/actions/actions.js:50:16)\\\\r\\\\n    at copy (/Users/ollie/Documents/git/generator-adapt/node_modules/yeoman-generator/lib/actions/actions.js:83:19)\\\\r\\\\n    at Object.copy (/Users/ollie/Documents/git/generator-adapt/node_modules/yeoman-generator/lib/actions/actions.js:436:12)\\\\r\\\\n    at /Users/ollie/Documents/git/generator-adapt/app/index.js:53:14\\\\r\\\\n    at done (/Users/ollie/Documents/git/generator-adapt/node_modules/yeoman-generator/lib/actions/actions.js:492:5)\\\\r\\\\n    at /Users/ollie/Documents/git/generator-adapt/node_modules/yeoman-generator/lib/actions/actions.js:407:16\\\\r\\\\n    at Object.oncomplete (fs.js:107:15)\\\\r\\\\n\\\\r\\\\nRunning OSX 10.9.2 - output of the set of commands in the issue submission instructions:\\\\r\\\\n\\\\r\\\\n    1.2.0\\\\r\\\\n    ~/bin:/usr/bin:/bin:/usr/sbin:/sbin:/usr/local/bin:/Users/ollie/android-sdk/platform-tools:/Users/ollie/android-sdk/tools\\\\r\\\\n    darwin { http_parser: \\'1.0\\',\\\\r\\\\n      node: \\'0.10.26\\',\\\\r\\\\n      v8: \\'3.14.5.9\\',\\\\r\\\\n      ares: \\'1.9.0-DEV\\',\\\\r\\\\n      uv: \\'0.10.25\\',\\\\r\\\\n      zlib: \\'1.2.3\\',\\\\r\\\\n      modules: \\'11\\',\\\\r\\\\n      openssl: \\'1.0.1e\\' }\\\\r\\\\n    cat: Gruntfile.js: No such file or directory\"},\"comment\":{\"url\":\"https://api.github.com/repos/yeoman/generator/issues/comments/183491888\",\"html_url\":\"https://github.com/yeoman/generator/issues/596#issuecomment-183491888\",\"issue_url\":\"https://api.github.com/repos/yeoman/generator/issues/596\",\"id\":183491888,\"user\":{\"login\":\"SBoudrias\",\"id\":923865,\"avatar_url\":\"https://avatars.githubusercontent.com/u/923865?v=3\",\"gravatar_id\":\"\",\"url\":\"https://api.github.com/users/SBoudrias\",\"html_url\":\"https://github.com/SBoudrias\",\"followers_url\":\"https://api.github.com/users/SBoudrias/followers\",\"following_url\":\"https://api.github.com/users/SBoudrias/following{/other_user}\",\"gists_url\":\"https://api.github.com/users/SBoudrias/gists{/gist_id}\",\"starred_url\":\"https://api.github.com/users/SBoudrias/starred{/owner}{/repo}\",\"subscriptions_url\":\"https://api.github.com/users/SBoudrias/subscriptions\",\"organizations_url\":\"https://api.github.com/users/SBoudrias/orgs\",\"repos_url\":\"https://api.github.com/users/SBoudrias/repos\",\"events_url\":\"https://api.github.com/users/SBoudrias/events{/privacy}\",\"received_events_url\":\"https://api.github.com/users/SBoudrias/received_events\",\"type\":\"User\",\"site_admin\":false},\"created_at\":\"2016-02-12T21:21:07Z\",\"updated_at\":\"2016-02-12T21:21:07Z\",\"body\":\"@sthzg remote is an async action, you\\'ll need to use `this.async()`\"}},\"public\":true,\"created_at\":\"2016-02-12T21:21:07Z\",\"org\":{\"id\":1714870,\"login\":\"yeoman\",\"gravatar_id\":\"\",\"url\":\"https://api.github.com/orgs/yeoman\",\"avatar_url\":\"https://avatars.githubusercontent.com/u/1714870?\"}},{\"id\":\"3639882161\",\"type\":\"CreateEvent\",\"actor\":{\"id\":17205524,\"login\":\"hannaisback\",\"gravatar_id\":\"\",\"url\":\"https://api.github.com/users/hannaisback\",\"avatar_url\":\"https://avatars.githubusercontent.com/u/17205524?\"},\"repo\":{\"id\":51617231,\"name\":\"hannaisback/coursera-exercises\",\"url\":\"https://api.github.com/repos/hannaisback/coursera-exercises\"},\"payload\":{\"ref\":\"master\",\"ref_type\":\"branch\",\"master_branch\":\"master\",\"description\":\"data science test\",\"pusher_type\":\"user\"},\"public\":true,\"created_at\":\"2016-02-12T21:21:07Z\"},{\"id\":\"3639882159\",\"type\":\"PushEvent\",\"actor\":{\"id\":5340818,\"login\":\"intentor\",\"gravatar_id\":\"\",\"url\":\"https://api.github.com/users/intentor\",\"avatar_url\":\"https://avatars.githubusercontent.com/u/5340818?\"},\"repo\":{\"id\":30991339,\"name\":\"intentor/adic\",\"url\":\"https://api.github.com/repos/intentor/adic\"},\"payload\":{\"push_id\":975640625,\"size\":2,\"distinct_size\":2,\"ref\":\"refs/heads/develop\",\"head\":\"4435c36869374f18f98a7e0e3933d34b1c1fba3b\",\"before\":\"90448d3c8526231545f3b593c215990c99bc331b\",\"commits\":[{\"sha\":\"1cdb823a5aff5ed03bb537183b317373c1ee4ac7\",\"author\":{\"email\":\"andre@intentor.com.br\",\"name\":\"Andr\\xc3\\xa9 Intentor Martins\"},\"message\":\"Update changelog with details about 2.17 version\",\"distinct\":true,\"url\":\"https://api.github.com/repos/intentor/adic/commits/1cdb823a5aff5ed03bb537183b317373c1ee4ac7\"},{\"sha\":\"4435c36869374f18f98a7e0e3933d34b1c1fba3b\",\"author\":{\"email\":\"andre@intentor.com.br\",\"name\":\"Andr\\xc3\\xa9 Intentor Martins\"},\"message\":\"Merge branch \\'develop\\' of https://github.com/intentor/adic into develop\",\"distinct\":true,\"url\":\"https://api.github.com/repos/intentor/adic/commits/4435c36869374f18f98a7e0e3933d34b1c1fba3b\"}]},\"public\":true,\"created_at\":\"2016-02-12T21:21:07Z\"},{\"id\":\"3639882158\",\"type\":\"CreateEvent\",\"actor\":{\"id\":5394972,\"login\":\"learningit\",\"gravatar_id\":\"\",\"url\":\"https://api.github.com/users/learningit\",\"avatar_url\":\"https://avatars.githubusercontent.com/u/5394972?\"},\"repo\":{\"id\":48432091,\"name\":\"learningit/repo-plugins\",\"url\":\"https://api.github.com/repos/learningit/repo-plugins\"},\"payload\":{\"ref\":\"isengard-plugin.video.syfy-2.0.4\",\"ref_type\":\"branch\",\"master_branch\":\"master\",\"description\":\"Official source repository for Kodi plugin add-ons\",\"pusher_type\":\"user\"},\"public\":true,\"created_at\":\"2016-02-12T21:21:07Z\"},{\"id\":\"3639882157\",\"type\":\"PushEvent\",\"actor\":{\"id\":2618490,\"login\":\"ammula88\",\"gravatar_id\":\"\",\"url\":\"https://api.github.com/users/ammula88\",\"avatar_url\":\"https://avatars.githubusercontent.com/u/2618490?\"},\"repo\":{\"id\":51616800,\"name\":\"ammula88/oh-my-zsh\",\"url\":\"https://api.github.com/repos/ammula88/oh-my-zsh\"},\"payload\":{\"push_id\":975640624,\"size\":1,\"distinct_size\":1,\"ref\":\"refs/heads/bsl\",\"head\":\"80309f76cfd431965c3ea73964baf6f7e46271b7\",\"before\":\"09d592d2675a88998ffebee803e73426ad6dada9\",\"commits\":[{\"sha\":\"80309f76cfd431965c3ea73964baf6f7e46271b7\",\"author\":{\"email\":\"aa654@njit.edu\",\"name\":\"Anil Ammula\"},\"message\":\"Branch: Master\\\\nHEAD:a11c8142d3721f5921a304d8f67a89f26622a719\",\"distinct\":true,\"url\":\"https://api.github.com/repos/ammula88/oh-my-zsh/commits/80309f76cfd431965c3ea73964baf6f7e46271b7\"}]},\"public\":true,\"created_at\":\"2016-02-12T21:21:07Z\"},{\"id\":\"3639882144\",\"type\":\"PullRequestEvent\",\"actor\":{\"id\":1191385,\"login\":\"mean-cj\",\"gravatar_id\":\"\",\"url\":\"https://api.github.com/users/mean-cj\",\"avatar_url\":\"https://avatars.githubusercontent.com/u/1191385?\"},\"repo\":{\"id\":51512783,\"name\":\"jooorooo/laravel-casset\",\"url\":\"https://api.github.com/repos/jooorooo/laravel-casset\"},\"payload\":{\"action\":\"opened\",\"number\":2,\"pull_request\":{\"url\":\"https://api.github.com/repos/jooorooo/laravel-casset/pulls/2\",\"id\":59232626,\"html_url\":\"https://github.com/jooorooo/laravel-casset/pull/2\",\"diff_url\":\"https://github.com/jooorooo/laravel-casset/pull/2.diff\",\"patch_url\":\"https://github.com/jooorooo/laravel-casset/pull/2.patch\",\"issue_url\":\"https://api.github.com/repos/jooorooo/laravel-casset/issues/2\",\"number\":2,\"state\":\"open\",\"locked\":false,\"title\":\"move css, js minify to mrclay/minify, add option \\\\\"show_refer\\\\\" \",\"user\":{\"login\":\"mean-cj\",\"id\":1191385,\"avatar_url\":\"https://avatars.githubusercontent.com/u/1191385?v=3\",\"gravatar_id\":\"\",\"url\":\"https://api.github.com/users/mean-cj\",\"html_url\":\"https://github.com/mean-cj\",\"followers_url\":\"https://api.github.com/users/mean-cj/followers\",\"following_url\":\"https://api.github.com/users/mean-cj/following{/other_user}\",\"gists_url\":\"https://api.github.com/users/mean-cj/gists{/gist_id}\",\"starred_url\":\"https://api.github.com/users/mean-cj/starred{/owner}{/repo}\",\"subscriptions_url\":\"https://api.github.com/users/mean-cj/subscriptions\",\"organizations_url\":\"https://api.github.com/users/mean-cj/orgs\",\"repos_url\":\"https://api.github.com/users/mean-cj/repos\",\"events_url\":\"https://api.github.com/users/mean-cj/events{/privacy}\",\"received_events_url\":\"https://api.github.com/users/mean-cj/received_events\",\"type\":\"User\",\"site_admin\":false},\"body\":\"- move css, js minify to use mrclay/minify package.\\\\r\\\\n- add option \\\\\"show_refer\\\\\" for Show/Hide reference filename on combination file.\\\\r\\\\n\",\"created_at\":\"2016-02-12T21:21:06Z\",\"updated_at\":\"2016-02-12T21:21:06Z\",\"closed_at\":null,\"merged_at\":null,\"merge_commit_sha\":null,\"assignee\":null,\"milestone\":null,\"commits_url\":\"https://api.github.com/repos/jooorooo/laravel-casset/pulls/2/commits\",\"review_comments_url\":\"https://api.github.com/repos/jooorooo/laravel-casset/pulls/2/comments\",\"review_comment_url\":\"https://api.github.com/repos/jooorooo/laravel-casset/pulls/comments{/number}\",\"comments_url\":\"https://api.github.com/repos/jooorooo/laravel-casset/issues/2/comments\",\"statuses_url\":\"https://api.github.com/repos/jooorooo/laravel-casset/statuses/fe9a265ae48bc8f93006a56441e24101b17f3153\",\"head\":{\"label\":\"mean-cj:master\",\"ref\":\"master\",\"sha\":\"fe9a265ae48bc8f93006a56441e24101b17f3153\",\"user\":{\"login\":\"mean-cj\",\"id\":1191385,\"avatar_url\":\"https://avatars.githubusercontent.com/u/1191385?v=3\",\"gravatar_id\":\"\",\"url\":\"https://api.github.com/users/mean-cj\",\"html_url\":\"https://github.com/mean-cj\",\"followers_url\":\"https://api.github.com/users/mean-cj/followers\",\"following_url\":\"https://api.github.com/users/mean-cj/following{/other_user}\",\"gists_url\":\"https://api.github.com/users/mean-cj/gists{/gist_id}\",\"starred_url\":\"https://api.github.com/users/mean-cj/starred{/owner}{/repo}\",\"subscriptions_url\":\"https://api.github.com/users/mean-cj/subscriptions\",\"organizations_url\":\"https://api.github.com/users/mean-cj/orgs\",\"repos_url\":\"https://api.github.com/users/mean-cj/repos\",\"events_url\":\"https://api.github.com/users/mean-cj/events{/privacy}\",\"received_events_url\":\"https://api.github.com/users/mean-cj/received_events\",\"type\":\"User\",\"site_admin\":false},\"repo\":{\"id\":51603001,\"name\":\"laravel-casset\",\"full_name\":\"mean-cj/laravel-casset\",\"owner\":{\"login\":\"mean-cj\",\"id\":1191385,\"avatar_url\":\"https://avatars.githubusercontent.com/u/1191385?v=3\",\"gravatar_id\":\"\",\"url\":\"https://api.github.com/users/mean-cj\",\"html_url\":\"https://github.com/mean-cj\",\"followers_url\":\"https://api.github.com/users/mean-cj/followers\",\"following_url\":\"https://api.github.com/users/mean-cj/following{/other_user}\",\"gists_url\":\"https://api.github.com/users/mean-cj/gists{/gist_id}\",\"starred_url\":\"https://api.github.com/users/mean-cj/starred{/owner}{/repo}\",\"subscriptions_url\":\"https://api.github.com/users/mean-cj/subscriptions\",\"organizations_url\":\"https://api.github.com/users/mean-cj/orgs\",\"repos_url\":\"https://api.github.com/users/mean-cj/repos\",\"events_url\":\"https://api.github.com/users/mean-cj/events{/privacy}\",\"received_events_url\":\"https://api.github.com/users/mean-cj/received_events\",\"type\":\"User\",\"site_admin\":false},\"private\":false,\"html_url\":\"https://github.com/mean-cj/laravel-casset\",\"description\":\"Casset is an asset manager for Laravel 5 applications\",\"fork\":true,\"url\":\"https://api.github.com/repos/mean-cj/laravel-casset\",\"forks_url\":\"https://api.github.com/repos/mean-cj/laravel-casset/forks\",\"keys_url\":\"https://api.github.com/repos/mean-cj/laravel-casset/keys{/key_id}\",\"collaborators_url\":\"https://api.github.com/repos/mean-cj/laravel-casset/collaborators{/collaborator}\",\"teams_url\":\"https://api.github.com/repos/mean-cj/laravel-casset/teams\",\"hooks_url\":\"https://api.github.com/repos/mean-cj/laravel-casset/hooks\",\"issue_events_url\":\"https://api.github.com/repos/mean-cj/laravel-casset/issues/events{/number}\",\"events_url\":\"https://api.github.com/repos/mean-cj/laravel-casset/events\",\"assignees_url\":\"https://api.github.com/repos/mean-cj/laravel-casset/assignees{/user}\",\"branches_url\":\"https://api.github.com/repos/mean-cj/laravel-casset/branches{/branch}\",\"tags_url\":\"https://api.github.com/repos/mean-cj/laravel-casset/tags\",\"blobs_url\":\"https://api.github.com/repos/mean-cj/laravel-casset/git/blobs{/sha}\",\"git_tags_url\":\"https://api.github.com/repos/mean-cj/laravel-casset/git/tags{/sha}\",\"git_refs_url\":\"https://api.github.com/repos/mean-cj/laravel-casset/git/refs{/sha}\",\"trees_url\":\"https://api.github.com/repos/mean-cj/laravel-casset/git/trees{/sha}\",\"statuses_url\":\"https://api.github.com/repos/mean-cj/laravel-casset/statuses/{sha}\",\"languages_url\":\"https://api.github.com/repos/mean-cj/laravel-casset/languages\",\"stargazers_url\":\"https://api.github.com/repos/mean-cj/laravel-casset/stargazers\",\"contributors_url\":\"https://api.github.com/repos/mean-cj/laravel-casset/contributors\",\"subscribers_url\":\"https://api.github.com/repos/mean-cj/laravel-casset/subscribers\",\"subscription_url\":\"https://api.github.com/repos/mean-cj/laravel-casset/subscription\",\"commits_url\":\"https://api.github.com/repos/mean-cj/laravel-casset/commits{/sha}\",\"git_commits_url\":\"https://api.github.com/repos/mean-cj/laravel-casset/git/commits{/sha}\",\"comments_url\":\"https://api.github.com/repos/mean-cj/laravel-casset/comments{/number}\",\"issue_comment_url\":\"https://api.github.com/repos/mean-cj/laravel-casset/issues/comments{/number}\",\"contents_url\":\"https://api.github.com/repos/mean-cj/laravel-casset/contents/{+path}\",\"compare_url\":\"https://api.github.com/repos/mean-cj/laravel-casset/compare/{base}...{head}\",\"merges_url\":\"https://api.github.com/repos/mean-cj/laravel-casset/merges\",\"archive_url\":\"https://api.github.com/repos/mean-cj/laravel-casset/{archive_format}{/ref}\",\"downloads_url\":\"https://api.github.com/repos/mean-cj/laravel-casset/downloads\",\"issues_url\":\"https://api.github.com/repos/mean-cj/laravel-casset/issues{/number}\",\"pulls_url\":\"https://api.github.com/repos/mean-cj/laravel-casset/pulls{/number}\",\"milestones_url\":\"https://api.github.com/repos/mean-cj/laravel-casset/milestones{/number}\",\"notifications_url\":\"https://api.github.com/repos/mean-cj/laravel-casset/notifications{?since,all,participating}\",\"labels_url\":\"https://api.github.com/repos/mean-cj/laravel-casset/labels{/name}\",\"releases_url\":\"https://api.github.com/repos/mean-cj/laravel-casset/releases{/id}\",\"deployments_url\":\"https://api.github.com/repos/mean-cj/laravel-casset/deployments\",\"created_at\":\"2016-02-12T17:03:50Z\",\"updated_at\":\"2016-02-12T17:40:12Z\",\"pushed_at\":\"2016-02-12T21:19:04Z\",\"git_url\":\"git://github.com/mean-cj/laravel-casset.git\",\"ssh_url\":\"git@github.com:mean-cj/laravel-casset.git\",\"clone_url\":\"https://github.com/mean-cj/laravel-casset.git\",\"svn_url\":\"https://github.com/mean-cj/laravel-casset\",\"homepage\":null,\"size\":36,\"stargazers_count\":1,\"watchers_count\":1,\"language\":\"PHP\",\"has_issues\":false,\"has_downloads\":true,\"has_wiki\":true,\"has_pages\":false,\"forks_count\":0,\"mirror_url\":null,\"open_issues_count\":0,\"forks\":0,\"open_issues\":0,\"watchers\":1,\"default_branch\":\"master\"}},\"base\":{\"label\":\"jooorooo:master\",\"ref\":\"master\",\"sha\":\"3ee29af468f5fd0764a34a27ff8f046a0ed582ee\",\"user\":{\"login\":\"jooorooo\",\"id\":5603141,\"avatar_url\":\"https://avatars.githubusercontent.com/u/5603141?v=3\",\"gravatar_id\":\"\",\"url\":\"https://api.github.com/users/jooorooo\",\"html_url\":\"https://github.com/jooorooo\",\"followers_url\":\"https://api.github.com/users/jooorooo/followers\",\"following_url\":\"https://api.github.com/users/jooorooo/following{/other_user}\",\"gists_url\":\"https://api.github.com/users/jooorooo/gists{/gist_id}\",\"starred_url\":\"https://api.github.com/users/jooorooo/starred{/owner}{/repo}\",\"subscriptions_url\":\"https://api.github.com/users/jooorooo/subscriptions\",\"organizations_url\":\"https://api.github.com/users/jooorooo/orgs\",\"repos_url\":\"https://api.github.com/users/jooorooo/repos\",\"events_url\":\"https://api.github.com/users/jooorooo/events{/privacy}\",\"received_events_url\":\"https://api.github.com/users/jooorooo/received_events\",\"type\":\"User\",\"site_admin\":false},\"repo\":{\"id\":51512783,\"name\":\"laravel-casset\",\"full_name\":\"jooorooo/laravel-casset\",\"owner\":{\"login\":\"jooorooo\",\"id\":5603141,\"avatar_url\":\"https://avatars.githubusercontent.com/u/5603141?v=3\",\"gravatar_id\":\"\",\"url\":\"https://api.github.com/users/jooorooo\",\"html_url\":\"https://github.com/jooorooo\",\"followers_url\":\"https://api.github.com/users/jooorooo/followers\",\"following_url\":\"https://api.github.com/users/jooorooo/following{/other_user}\",\"gists_url\":\"https://api.github.com/users/jooorooo/gists{/gist_id}\",\"starred_url\":\"https://api.github.com/users/jooorooo/starred{/owner}{/repo}\",\"subscriptions_url\":\"https://api.github.com/users/jooorooo/subscriptions\",\"organizations_url\":\"https://api.github.com/users/jooorooo/orgs\",\"repos_url\":\"https://api.github.com/users/jooorooo/repos\",\"events_url\":\"https://api.github.com/users/jooorooo/events{/privacy}\",\"received_events_url\":\"https://api.github.com/users/jooorooo/received_events\",\"type\":\"User\",\"site_admin\":false},\"private\":false,\"html_url\":\"https://github.com/jooorooo/laravel-casset\",\"description\":\"Casset is an asset manager for Laravel 5 applications\",\"fork\":false,\"url\":\"https://api.github.com/repos/jooorooo/laravel-casset\",\"forks_url\":\"https://api.github.com/repos/jooorooo/laravel-casset/forks\",\"keys_url\":\"https://api.github.com/repos/jooorooo/laravel-casset/keys{/key_id}\",\"collaborators_url\":\"https://api.github.com/repos/jooorooo/laravel-casset/collaborators{/collaborator}\",\"teams_url\":\"https://api.github.com/repos/jooorooo/laravel-casset/teams\",\"hooks_url\":\"https://api.github.com/repos/jooorooo/laravel-casset/hooks\",\"issue_events_url\":\"https://api.github.com/repos/jooorooo/laravel-casset/issues/events{/number}\",\"events_url\":\"https://api.github.com/repos/jooorooo/laravel-casset/events\",\"assignees_url\":\"https://api.github.com/repos/jooorooo/laravel-casset/assignees{/user}\",\"branches_url\":\"https://api.github.com/repos/jooorooo/laravel-casset/branches{/branch}\",\"tags_url\":\"https://api.github.com/repos/jooorooo/laravel-casset/tags\",\"blobs_url\":\"https://api.github.com/repos/jooorooo/laravel-casset/git/blobs{/sha}\",\"git_tags_url\":\"https://api.github.com/repos/jooorooo/laravel-casset/git/tags{/sha}\",\"git_refs_url\":\"https://api.github.com/repos/jooorooo/laravel-casset/git/refs{/sha}\",\"trees_url\":\"https://api.github.com/repos/jooorooo/laravel-casset/git/trees{/sha}\",\"statuses_url\":\"https://api.github.com/repos/jooorooo/laravel-casset/statuses/{sha}\",\"languages_url\":\"https://api.github.com/repos/jooorooo/laravel-casset/languages\",\"stargazers_url\":\"https://api.github.com/repos/jooorooo/laravel-casset/stargazers\",\"contributors_url\":\"https://api.github.com/repos/jooorooo/laravel-casset/contributors\",\"subscribers_url\":\"https://api.github.com/repos/jooorooo/laravel-casset/subscribers\",\"subscription_url\":\"https://api.github.com/repos/jooorooo/laravel-casset/subscription\",\"commits_url\":\"https://api.github.com/repos/jooorooo/laravel-casset/commits{/sha}\",\"git_commits_url\":\"https://api.github.com/repos/jooorooo/laravel-casset/git/commits{/sha}\",\"comments_url\":\"https://api.github.com/repos/jooorooo/laravel-casset/comments{/number}\",\"issue_comment_url\":\"https://api.github.com/repos/jooorooo/laravel-casset/issues/comments{/number}\",\"contents_url\":\"https://api.github.com/repos/jooorooo/laravel-casset/contents/{+path}\",\"compare_url\":\"https://api.github.com/repos/jooorooo/laravel-casset/compare/{base}...{head}\",\"merges_url\":\"https://api.github.com/repos/jooorooo/laravel-casset/merges\",\"archive_url\":\"https://api.github.com/repos/jooorooo/laravel-casset/{archive_format}{/ref}\",\"downloads_url\":\"https://api.github.com/repos/jooorooo/laravel-casset/downloads\",\"issues_url\":\"https://api.github.com/repos/jooorooo/laravel-casset/issues{/number}\",\"pulls_url\":\"https://api.github.com/repos/jooorooo/laravel-casset/pulls{/number}\",\"milestones_url\":\"https://api.github.com/repos/jooorooo/laravel-casset/milestones{/number}\",\"notifications_url\":\"https://api.github.com/repos/jooorooo/laravel-casset/notifications{?since,all,participating}\",\"labels_url\":\"https://api.github.com/repos/jooorooo/laravel-casset/labels{/name}\",\"releases_url\":\"https://api.github.com/repos/jooorooo/laravel-casset/releases{/id}\",\"deployments_url\":\"https://api.github.com/repos/jooorooo/laravel-casset/deployments\",\"created_at\":\"2016-02-11T12:20:39Z\",\"updated_at\":\"2016-02-12T16:33:41Z\",\"pushed_at\":\"2016-02-12T20:40:05Z\",\"git_url\":\"git://github.com/jooorooo/laravel-casset.git\",\"ssh_url\":\"git@github.com:jooorooo/laravel-casset.git\",\"clone_url\":\"https://github.com/jooorooo/laravel-casset.git\",\"svn_url\":\"https://github.com/jooorooo/laravel-casset\",\"homepage\":null,\"size\":29,\"stargazers_count\":1,\"watchers_count\":1,\"language\":\"PHP\",\"has_issues\":true,\"has_downloads\":true,\"has_wiki\":true,\"has_pages\":false,\"forks_count\":1,\"mirror_url\":null,\"open_issues_count\":1,\"forks\":1,\"open_issues\":1,\"watchers\":1,\"default_branch\":\"master\"}},\"_links\":{\"self\":{\"href\":\"https://api.github.com/repos/jooorooo/laravel-casset/pulls/2\"},\"html\":{\"href\":\"https://github.com/jooorooo/laravel-casset/pull/2\"},\"issue\":{\"href\":\"https://api.github.com/repos/jooorooo/laravel-casset/issues/2\"},\"comments\":{\"href\":\"https://api.github.com/repos/jooorooo/laravel-casset/issues/2/comments\"},\"review_comments\":{\"href\":\"https://api.github.com/repos/jooorooo/laravel-casset/pulls/2/comments\"},\"review_comment\":{\"href\":\"https://api.github.com/repos/jooorooo/laravel-casset/pulls/comments{/number}\"},\"commits\":{\"href\":\"https://api.github.com/repos/jooorooo/laravel-casset/pulls/2/commits\"},\"statuses\":{\"href\":\"https://api.github.com/repos/jooorooo/laravel-casset/statuses/fe9a265ae48bc8f93006a56441e24101b17f3153\"}},\"merged\":false,\"mergeable\":null,\"mergeable_state\":\"unknown\",\"merged_by\":null,\"comments\":0,\"review_comments\":0,\"commits\":3,\"additions\":35,\"deletions\":11,\"changed_files\":3}},\"public\":true,\"created_at\":\"2016-02-12T21:21:07Z\"},{\"id\":\"3639882137\",\"type\":\"PushEvent\",\"actor\":{\"id\":8824183,\"login\":\"ramossf\",\"gravatar_id\":\"\",\"url\":\"https://api.github.com/users/ramossf\",\"avatar_url\":\"https://avatars.githubusercontent.com/u/8824183?\"},\"repo\":{\"id\":49734480,\"name\":\"ramossf/startbootstrap-agency\",\"url\":\"https://api.github.com/repos/ramossf/startbootstrap-agency\"},\"payload\":{\"push_id\":975640617,\"size\":1,\"distinct_size\":1,\"ref\":\"refs/heads/gh-pages\",\"head\":\"137d26f27d98b9400c4a507f10f72f6d8321feb6\",\"before\":\"821f7aff05face4cd065a862e91bb6f1adc4630b\",\"commits\":[{\"sha\":\"137d26f27d98b9400c4a507f10f72f6d8321feb6\",\"author\":{\"email\":\"ramossf@vcu.edu\",\"name\":\"ramossf\"},\"message\":\"Update index.html\",\"distinct\":true,\"url\":\"https://api.github.com/repos/ramossf/startbootstrap-agency/commits/137d26f27d98b9400c4a507f10f72f6d8321feb6\"}]},\"public\":true,\"created_at\":\"2016-02-12T21:21:07Z\"},{\"id\":\"3639882128\",\"type\":\"CreateEvent\",\"actor\":{\"id\":17205524,\"login\":\"hannaisback\",\"gravatar_id\":\"\",\"url\":\"https://api.github.com/users/hannaisback\",\"avatar_url\":\"https://avatars.githubusercontent.com/u/17205524?\"},\"repo\":{\"id\":51617231,\"name\":\"hannaisback/coursera-exercises\",\"url\":\"https://api.github.com/repos/hannaisback/coursera-exercises\"},\"payload\":{\"ref\":null,\"ref_type\":\"repository\",\"master_branch\":\"master\",\"description\":\"data science test\",\"pusher_type\":\"user\"},\"public\":true,\"created_at\":\"2016-02-12T21:21:06Z\"},{\"id\":\"3639882115\",\"type\":\"PushEvent\",\"actor\":{\"id\":10467661,\"login\":\"kaybow\",\"gravatar_id\":\"\",\"url\":\"https://api.github.com/users/kaybow\",\"avatar_url\":\"https://avatars.githubusercontent.com/u/10467661?\"},\"repo\":{\"id\":51177639,\"name\":\"kaybow/responsive-infographic\",\"url\":\"https://api.github.com/repos/kaybow/responsive-infographic\"},\"payload\":{\"push_id\":975640606,\"size\":1,\"distinct_size\":1,\"ref\":\"refs/heads/gh-pages\",\"head\":\"b5492e60d360c2a6f439424fffd4fb9edb27d560\",\"before\":\"1d32310077d3f27898d286e99a503ce52be34c69\",\"commits\":[{\"sha\":\"b5492e60d360c2a6f439424fffd4fb9edb27d560\",\"author\":{\"email\":\"k.bowmaster@hotmail.com\",\"name\":\"kaybow\"},\"message\":\"Fixing naming convention errors\",\"distinct\":true,\"url\":\"https://api.github.com/repos/kaybow/responsive-infographic/commits/b5492e60d360c2a6f439424fffd4fb9edb27d560\"}]},\"public\":true,\"created_at\":\"2016-02-12T21:21:06Z\"},{\"id\":\"3639882114\",\"type\":\"ForkEvent\",\"actor\":{\"id\":6132919,\"login\":\"alenny\",\"gravatar_id\":\"\",\"url\":\"https://api.github.com/users/alenny\",\"avatar_url\":\"https://avatars.githubusercontent.com/u/6132919?\"},\"repo\":{\"id\":45662537,\"name\":\"Azure-Samples/service-fabric-dotnet-data-streaming-websockets\",\"url\":\"https://api.github.com/repos/Azure-Samples/service-fabric-dotnet-data-streaming-websockets\"},\"payload\":{\"forkee\":{\"id\":51617230,\"name\":\"service-fabric-dotnet-data-streaming-websockets\",\"full_name\":\"alenny/service-fabric-dotnet-data-streaming-websockets\",\"owner\":{\"login\":\"alenny\",\"id\":6132919,\"avatar_url\":\"https://avatars.githubusercontent.com/u/6132919?v=3\",\"gravatar_id\":\"\",\"url\":\"https://api.github.com/users/alenny\",\"html_url\":\"https://github.com/alenny\",\"followers_url\":\"https://api.github.com/users/alenny/followers\",\"following_url\":\"https://api.github.com/users/alenny/following{/other_user}\",\"gists_url\":\"https://api.github.com/users/alenny/gists{/gist_id}\",\"starred_url\":\"https://api.github.com/users/alenny/starred{/owner}{/repo}\",\"subscriptions_url\":\"https://api.github.com/users/alenny/subscriptions\",\"organizations_url\":\"https://api.github.com/users/alenny/orgs\",\"repos_url\":\"https://api.github.com/users/alenny/repos\",\"events_url\":\"https://api.github.com/users/alenny/events{/privacy}\",\"received_events_url\":\"https://api.github.com/users/alenny/received_events\",\"type\":\"User\",\"site_admin\":false},\"private\":false,\"html_url\":\"https://github.com/alenny/service-fabric-dotnet-data-streaming-websockets\",\"description\":\"A Service Fabric back-end real-time data streaming and analysis system using WebSockets and Azure ML. \",\"fork\":true,\"url\":\"https://api.github.com/repos/alenny/service-fabric-dotnet-data-streaming-websockets\",\"forks_url\":\"https://api.github.com/repos/alenny/service-fabric-dotnet-data-streaming-websockets/forks\",\"keys_url\":\"https://api.github.com/repos/alenny/service-fabric-dotnet-data-streaming-websockets/keys{/key_id}\",\"collaborators_url\":\"https://api.github.com/repos/alenny/service-fabric-dotnet-data-streaming-websockets/collaborators{/collaborator}\",\"teams_url\":\"https://api.github.com/repos/alenny/service-fabric-dotnet-data-streaming-websockets/teams\",\"hooks_url\":\"https://api.github.com/repos/alenny/service-fabric-dotnet-data-streaming-websockets/hooks\",\"issue_events_url\":\"https://api.github.com/repos/alenny/service-fabric-dotnet-data-streaming-websockets/issues/events{/number}\",\"events_url\":\"https://api.github.com/repos/alenny/service-fabric-dotnet-data-streaming-websockets/events\",\"assignees_url\":\"https://api.github.com/repos/alenny/service-fabric-dotnet-data-streaming-websockets/assignees{/user}\",\"branches_url\":\"https://api.github.com/repos/alenny/service-fabric-dotnet-data-streaming-websockets/branches{/branch}\",\"tags_url\":\"https://api.github.com/repos/alenny/service-fabric-dotnet-data-streaming-websockets/tags\",\"blobs_url\":\"https://api.github.com/repos/alenny/service-fabric-dotnet-data-streaming-websockets/git/blobs{/sha}\",\"git_tags_url\":\"https://api.github.com/repos/alenny/service-fabric-dotnet-data-streaming-websockets/git/tags{/sha}\",\"git_refs_url\":\"https://api.github.com/repos/alenny/service-fabric-dotnet-data-streaming-websockets/git/refs{/sha}\",\"trees_url\":\"https://api.github.com/repos/alenny/service-fabric-dotnet-data-streaming-websockets/git/trees{/sha}\",\"statuses_url\":\"https://api.github.com/repos/alenny/service-fabric-dotnet-data-streaming-websockets/statuses/{sha}\",\"languages_url\":\"https://api.github.com/repos/alenny/service-fabric-dotnet-data-streaming-websockets/languages\",\"stargazers_url\":\"https://api.github.com/repos/alenny/service-fabric-dotnet-data-streaming-websockets/stargazers\",\"contributors_url\":\"https://api.github.com/repos/alenny/service-fabric-dotnet-data-streaming-websockets/contributors\",\"subscribers_url\":\"https://api.github.com/repos/alenny/service-fabric-dotnet-data-streaming-websockets/subscribers\",\"subscription_url\":\"https://api.github.com/repos/alenny/service-fabric-dotnet-data-streaming-websockets/subscription\",\"commits_url\":\"https://api.github.com/repos/alenny/service-fabric-dotnet-data-streaming-websockets/commits{/sha}\",\"git_commits_url\":\"https://api.github.com/repos/alenny/service-fabric-dotnet-data-streaming-websockets/git/commits{/sha}\",\"comments_url\":\"https://api.github.com/repos/alenny/service-fabric-dotnet-data-streaming-websockets/comments{/number}\",\"issue_comment_url\":\"https://api.github.com/repos/alenny/service-fabric-dotnet-data-streaming-websockets/issues/comments{/number}\",\"contents_url\":\"https://api.github.com/repos/alenny/service-fabric-dotnet-data-streaming-websockets/contents/{+path}\",\"compare_url\":\"https://api.github.com/repos/alenny/service-fabric-dotnet-data-streaming-websockets/compare/{base}...{head}\",\"merges_url\":\"https://api.github.com/repos/alenny/service-fabric-dotnet-data-streaming-websockets/merges\",\"archive_url\":\"https://api.github.com/repos/alenny/service-fabric-dotnet-data-streaming-websockets/{archive_format}{/ref}\",\"downloads_url\":\"https://api.github.com/repos/alenny/service-fabric-dotnet-data-streaming-websockets/downloads\",\"issues_url\":\"https://api.github.com/repos/alenny/service-fabric-dotnet-data-streaming-websockets/issues{/number}\",\"pulls_url\":\"https://api.github.com/repos/alenny/service-fabric-dotnet-data-streaming-websockets/pulls{/number}\",\"milestones_url\":\"https://api.github.com/repos/alenny/service-fabric-dotnet-data-streaming-websockets/milestones{/number}\",\"notifications_url\":\"https://api.github.com/repos/alenny/service-fabric-dotnet-data-streaming-websockets/notifications{?since,all,participating}\",\"labels_url\":\"https://api.github.com/repos/alenny/service-fabric-dotnet-data-streaming-websockets/labels{/name}\",\"releases_url\":\"https://api.github.com/repos/alenny/service-fabric-dotnet-data-streaming-websockets/releases{/id}\",\"deployments_url\":\"https://api.github.com/repos/alenny/service-fabric-dotnet-data-streaming-websockets/deployments\",\"created_at\":\"2016-02-12T21:21:06Z\",\"updated_at\":\"2016-01-31T21:26:23Z\",\"pushed_at\":\"2016-02-10T13:33:04Z\",\"git_url\":\"git://github.com/alenny/service-fabric-dotnet-data-streaming-websockets.git\",\"ssh_url\":\"git@github.com:alenny/service-fabric-dotnet-data-streaming-websockets.git\",\"clone_url\":\"https://github.com/alenny/service-fabric-dotnet-data-streaming-websockets.git\",\"svn_url\":\"https://github.com/alenny/service-fabric-dotnet-data-streaming-websockets\",\"homepage\":null,\"size\":370,\"stargazers_count\":0,\"watchers_count\":0,\"language\":null,\"has_issues\":false,\"has_downloads\":true,\"has_wiki\":true,\"has_pages\":false,\"forks_count\":0,\"mirror_url\":null,\"open_issues_count\":0,\"forks\":0,\"open_issues\":0,\"watchers\":0,\"default_branch\":\"master\",\"public\":true}},\"public\":true,\"created_at\":\"2016-02-12T21:21:06Z\",\"org\":{\"id\":1844662,\"login\":\"Azure-Samples\",\"gravatar_id\":\"\",\"url\":\"https://api.github.com/orgs/Azure-Samples\",\"avatar_url\":\"https://avatars.githubusercontent.com/u/1844662?\"}},{\"id\":\"3639882109\",\"type\":\"PushEvent\",\"actor\":{\"id\":5043095,\"login\":\"nwags\",\"gravatar_id\":\"\",\"url\":\"https://api.github.com/users/nwags\",\"avatar_url\":\"https://avatars.githubusercontent.com/u/5043095?\"},\"repo\":{\"id\":49727469,\"name\":\"OpenTrons/sandbox-driver\",\"url\":\"https://api.github.com/repos/OpenTrons/sandbox-driver\"},\"payload\":{\"push_id\":975640604,\"size\":1,\"distinct_size\":1,\"ref\":\"refs/heads/master\",\"head\":\"d0241835380c31a7eb690ff482493ca0faab4759\",\"before\":\"5a1ed163765bf3db97907f385b6cd0d74a9181a0\",\"commits\":[{\"sha\":\"d0241835380c31a7eb690ff482493ca0faab4759\",\"author\":{\"email\":\"nickwisc@gmail.com\",\"name\":\"nwags\"},\"message\":\"testing simple Simulator server - progress!\",\"distinct\":true,\"url\":\"https://api.github.com/repos/OpenTrons/sandbox-driver/commits/d0241835380c31a7eb690ff482493ca0faab4759\"}]},\"public\":true,\"created_at\":\"2016-02-12T21:21:06Z\",\"org\":{\"id\":6139147,\"login\":\"OpenTrons\",\"gravatar_id\":\"\",\"url\":\"https://api.github.com/orgs/OpenTrons\",\"avatar_url\":\"https://avatars.githubusercontent.com/u/6139147?\"}},{\"id\":\"3639882097\",\"type\":\"PushEvent\",\"actor\":{\"id\":10165469,\"login\":\"Adddrian\",\"gravatar_id\":\"\",\"url\":\"https://api.github.com/users/Adddrian\",\"avatar_url\":\"https://avatars.githubusercontent.com/u/10165469?\"},\"repo\":{\"id\":51616776,\"name\":\"Adddrian/steve-shell\",\"url\":\"https://api.github.com/repos/Adddrian/steve-shell\"},\"payload\":{\"push_id\":975640603,\"size\":1,\"distinct_size\":1,\"ref\":\"refs/heads/master\",\"head\":\"843a509698f6896c5a0ff620df7a6a590113d89a\",\"before\":\"4a08016d22de57fe662c4566ad2fd50c85b698e3\",\"commits\":[{\"sha\":\"843a509698f6896c5a0ff620df7a6a590113d89a\",\"author\":{\"email\":\"Adddrian@users.noreply.github.com\",\"name\":\"Adrian Gortzak\"},\"message\":\"Update README.md\",\"distinct\":true,\"url\":\"https://api.github.com/repos/Adddrian/steve-shell/commits/843a509698f6896c5a0ff620df7a6a590113d89a\"}]},\"public\":true,\"created_at\":\"2016-02-12T21:21:06Z\"},{\"id\":\"3639882092\",\"type\":\"PushEvent\",\"actor\":{\"id\":8949851,\"login\":\"sydneyjd\",\"gravatar_id\":\"\",\"url\":\"https://api.github.com/users/sydneyjd\",\"avatar_url\":\"https://avatars.githubusercontent.com/u/8949851?\"},\"repo\":{\"id\":44071069,\"name\":\"sydneyjd/sydneyjd.github.io\",\"url\":\"https://api.github.com/repos/sydneyjd/sydneyjd.github.io\"},\"payload\":{\"push_id\":975640601,\"size\":1,\"distinct_size\":1,\"ref\":\"refs/heads/master\",\"head\":\"d0d93a559ffbf476fb3181e148a11c214baa6403\",\"before\":\"99fb9381639adaca5b094ba118dcfb2d2abea6a2\",\"commits\":[{\"sha\":\"d0d93a559ffbf476fb3181e148a11c214baa6403\",\"author\":{\"email\":\"irssi@localhost.localdomain\",\"name\":\"irssi\"},\"message\":\"Add today\\'s log\",\"distinct\":true,\"url\":\"https://api.github.com/repos/sydneyjd/sydneyjd.github.io/commits/d0d93a559ffbf476fb3181e148a11c214baa6403\"}]},\"public\":true,\"created_at\":\"2016-02-12T21:21:06Z\"},{\"id\":\"3639882087\",\"type\":\"PushEvent\",\"actor\":{\"id\":1099967,\"login\":\"RyanThompson\",\"gravatar_id\":\"\",\"url\":\"https://api.github.com/users/RyanThompson\",\"avatar_url\":\"https://avatars.githubusercontent.com/u/1099967?\"},\"repo\":{\"id\":23240469,\"name\":\"anomalylabs/relationship-field_type\",\"url\":\"https://api.github.com/repos/anomalylabs/relationship-field_type\"},\"payload\":{\"push_id\":975640599,\"size\":1,\"distinct_size\":1,\"ref\":\"refs/heads/master\",\"head\":\"ecd6f611b650e8b51cd22b9d7e3bf1149fac57ad\",\"before\":\"9b759f991d0f8585ebfd7fa5378a96695ac4a28d\",\"commits\":[{\"sha\":\"ecd6f611b650e8b51cd22b9d7e3bf1149fac57ad\",\"author\":{\"email\":\"ryan@pyrocms.com\",\"name\":\"Ryan Thompson\"},\"message\":\"Users handler\",\"distinct\":true,\"url\":\"https://api.github.com/repos/anomalylabs/relationship-field_type/commits/ecd6f611b650e8b51cd22b9d7e3bf1149fac57ad\"}]},\"public\":true,\"created_at\":\"2016-02-12T21:21:06Z\",\"org\":{\"id\":7509630,\"login\":\"anomalylabs\",\"gravatar_id\":\"\",\"url\":\"https://api.github.com/orgs/anomalylabs\",\"avatar_url\":\"https://avatars.githubusercontent.com/u/7509630?\"}},{\"id\":\"3639882080\",\"type\":\"PushEvent\",\"actor\":{\"id\":15308899,\"login\":\"mattayre\",\"gravatar_id\":\"\",\"url\":\"https://api.github.com/users/mattayre\",\"avatar_url\":\"https://avatars.githubusercontent.com/u/15308899?\"},\"repo\":{\"id\":48262837,\"name\":\"mattayre/ndtmagazine\",\"url\":\"https://api.github.com/repos/mattayre/ndtmagazine\"},\"payload\":{\"push_id\":975640595,\"size\":1,\"distinct_size\":1,\"ref\":\"refs/heads/gh-pages\",\"head\":\"b70edd984e80933aa4c3d3734d00095ff5f5d2a4\",\"before\":\"68997017214205c8c22b2d692ac4a4fa836bcd79\",\"commits\":[{\"sha\":\"b70edd984e80933aa4c3d3734d00095ff5f5d2a4\",\"author\":{\"email\":\"mattayre@Matts-MacBook-Pro.local\",\"name\":\"Matt Ayre\"},\"message\":\"12\",\"distinct\":true,\"url\":\"https://api.github.com/repos/mattayre/ndtmagazine/commits/b70edd984e80933aa4c3d3734d00095ff5f5d2a4\"}]},\"public\":true,\"created_at\":\"2016-02-12T21:21:06Z\"},{\"id\":\"3639882078\",\"type\":\"PushEvent\",\"actor\":{\"id\":3358783,\"login\":\"ssbattousai\",\"gravatar_id\":\"\",\"url\":\"https://api.github.com/users/ssbattousai\",\"avatar_url\":\"https://avatars.githubusercontent.com/u/3358783?\"},\"repo\":{\"id\":50949706,\"name\":\"ssbattousai/CNN3\",\"url\":\"https://api.github.com/repos/ssbattousai/CNN3\"},\"payload\":{\"push_id\":975640594,\"size\":1,\"distinct_size\":1,\"ref\":\"refs/heads/master\",\"head\":\"6ab86e2ea677ac9c3c2bc84331f017851b04e57c\",\"before\":\"ae4abe02ad3c9e23f93e9b31cb5c5ae2af242284\",\"commits\":[{\"sha\":\"6ab86e2ea677ac9c3c2bc84331f017851b04e57c\",\"author\":{\"email\":\"christopher.c.chan@ryerson.ca\",\"name\":\"Christopher\"},\"message\":\"Fri 02/12/2016 16:20:57.82\",\"distinct\":true,\"url\":\"https://api.github.com/repos/ssbattousai/CNN3/commits/6ab86e2ea677ac9c3c2bc84331f017851b04e57c\"}]},\"public\":true,\"created_at\":\"2016-02-12T21:21:06Z\"},{\"id\":\"3639882049\",\"type\":\"CreateEvent\",\"actor\":{\"id\":1531285,\"login\":\"tjhei\",\"gravatar_id\":\"\",\"url\":\"https://api.github.com/users/tjhei\",\"avatar_url\":\"https://avatars.githubusercontent.com/u/1531285?\"},\"repo\":{\"id\":19503755,\"name\":\"tjhei/aspect\",\"url\":\"https://api.github.com/repos/tjhei/aspect\"},\"payload\":{\"ref\":\"material_outputs_and_assembly\",\"ref_type\":\"branch\",\"master_branch\":\"master\",\"description\":\"Finite element parallel code to simulate problems in thermal convection in both 2D and 3D models.\",\"pusher_type\":\"user\"},\"public\":true,\"created_at\":\"2016-02-12T21:21:06Z\"},{\"id\":\"3639882043\",\"type\":\"PushEvent\",\"actor\":{\"id\":16170806,\"login\":\"cloudinterstellar\",\"gravatar_id\":\"\",\"url\":\"https://api.github.com/users/cloudinterstellar\",\"avatar_url\":\"https://avatars.githubusercontent.com/u/16170806?\"},\"repo\":{\"id\":49902133,\"name\":\"cloudinterstellar/cloudinterstellar.github.io\",\"url\":\"https://api.github.com/repos/cloudinterstellar/cloudinterstellar.github.io\"},\"payload\":{\"push_id\":975640585,\"size\":1,\"distinct_size\":1,\"ref\":\"refs/heads/master\",\"head\":\"fc889933534fd0cc2dfcb2d8f0c389e25fed69d5\",\"before\":\"0e372a4e871902253c5e53c62c10b65e6e87e018\",\"commits\":[{\"sha\":\"fc889933534fd0cc2dfcb2d8f0c389e25fed69d5\",\"author\":{\"email\":\"cloudinterstellar@gmail.com\",\"name\":\"cloudinterstellar\"},\"message\":\"GAS Commit - 02-12-2016 16:21:03\",\"distinct\":true,\"url\":\"https://api.github.com/repos/cloudinterstellar/cloudinterstellar.github.io/commits/fc889933534fd0cc2dfcb2d8f0c389e25fed69d5\"}]},\"public\":true,\"created_at\":\"2016-02-12T21:21:06Z\"},{\"id\":\"3639882038\",\"type\":\"CreateEvent\",\"actor\":{\"id\":4963926,\"login\":\"skaterkamp\",\"gravatar_id\":\"\",\"url\":\"https://api.github.com/users/skaterkamp\",\"avatar_url\":\"https://avatars.githubusercontent.com/u/4963926?\"},\"repo\":{\"id\":51617229,\"name\":\"skaterkamp/local-filesystem-handler\",\"url\":\"https://api.github.com/repos/skaterkamp/local-filesystem-handler\"},\"payload\":{\"ref\":null,\"ref_type\":\"repository\",\"master_branch\":\"master\",\"description\":\"Servlet and JSF Resource Handler which adds local file system to a webapp. Install as Maven dependeny in webapp.\",\"pusher_type\":\"user\"},\"public\":true,\"created_at\":\"2016-02-12T21:21:05Z\"},{\"id\":\"3639882032\",\"type\":\"PushEvent\",\"actor\":{\"id\":8763970,\"login\":\"BoyanP\",\"gravatar_id\":\"\",\"url\":\"https://api.github.com/users/BoyanP\",\"avatar_url\":\"https://avatars.githubusercontent.com/u/8763970?\"},\"repo\":{\"id\":51119318,\"name\":\"BoyanP/CMPUT404-assignment-css-hell\",\"url\":\"https://api.github.com/repos/BoyanP/CMPUT404-assignment-css-hell\"},\"payload\":{\"push_id\":975640582,\"size\":1,\"distinct_size\":1,\"ref\":\"refs/heads/master\",\"head\":\"6ab090bbaa7b0d40bfce77255402da53f3946edb\",\"before\":\"5eea444e9e47a2ae7f28d3b209e16dfbfa039239\",\"commits\":[{\"sha\":\"6ab090bbaa7b0d40bfce77255402da53f3946edb\",\"author\":{\"email\":\"bgpeychoff@gmail.com\",\"name\":\"BoyanP\"},\"message\":\"fixed a header\",\"distinct\":true,\"url\":\"https://api.github.com/repos/BoyanP/CMPUT404-assignment-css-hell/commits/6ab090bbaa7b0d40bfce77255402da53f3946edb\"}]},\"public\":true,\"created_at\":\"2016-02-12T21:21:05Z\"},{\"id\":\"3639882030\",\"type\":\"CreateEvent\",\"actor\":{\"id\":27609,\"login\":\"bdetweiler\",\"gravatar_id\":\"\",\"url\":\"https://api.github.com/users/bdetweiler\",\"avatar_url\":\"https://avatars.githubusercontent.com/u/27609?\"},\"repo\":{\"id\":51616343,\"name\":\"bdetweiler/Spark\",\"url\":\"https://api.github.com/repos/bdetweiler/Spark\"},\"payload\":{\"ref\":\"spark-sm-plugin\",\"ref_type\":\"branch\",\"master_branch\":\"master\",\"description\":\"Cross-platform real-time collaboration client optimized for business and organizations.\",\"pusher_type\":\"user\"},\"public\":true,\"created_at\":\"2016-02-12T21:21:05Z\"},{\"id\":\"3639882017\",\"type\":\"IssuesEvent\",\"actor\":{\"id\":10904270,\"login\":\"miott7\",\"gravatar_id\":\"\",\"url\":\"https://api.github.com/users/miott7\",\"avatar_url\":\"https://avatars.githubusercontent.com/u/10904270?\"},\"repo\":{\"id\":42690240,\"name\":\"CiscoDevNet/yang-explorer\",\"url\":\"https://api.github.com/repos/CiscoDevNet/yang-explorer\"},\"payload\":{\"action\":\"opened\",\"issue\":{\"url\":\"https://api.github.com/repos/CiscoDevNet/yang-explorer/issues/20\",\"repository_url\":\"https://api.github.com/repos/CiscoDevNet/yang-explorer\",\"labels_url\":\"https://api.github.com/repos/CiscoDevNet/yang-explorer/issues/20/labels{/name}\",\"comments_url\":\"https://api.github.com/repos/CiscoDevNet/yang-explorer/issues/20/comments\",\"events_url\":\"https://api.github.com/repos/CiscoDevNet/yang-explorer/issues/20/events\",\"html_url\":\"https://github.com/CiscoDevNet/yang-explorer/issues/20\",\"id\":133345927,\"number\":20,\"title\":\"RESTCONF empty leaf JSON not created correctly\",\"user\":{\"login\":\"miott7\",\"id\":10904270,\"avatar_url\":\"https://avatars.githubusercontent.com/u/10904270?v=3\",\"gravatar_id\":\"\",\"url\":\"https://api.github.com/users/miott7\",\"html_url\":\"https://github.com/miott7\",\"followers_url\":\"https://api.github.com/users/miott7/followers\",\"following_url\":\"https://api.github.com/users/miott7/following{/other_user}\",\"gists_url\":\"https://api.github.com/users/miott7/gists{/gist_id}\",\"starred_url\":\"https://api.github.com/users/miott7/starred{/owner}{/repo}\",\"subscriptions_url\":\"https://api.github.com/users/miott7/subscriptions\",\"organizations_url\":\"https://api.github.com/users/miott7/orgs\",\"repos_url\":\"https://api.github.com/users/miott7/repos\",\"events_url\":\"https://api.github.com/users/miott7/events{/privacy}\",\"received_events_url\":\"https://api.github.com/users/miott7/received_events\",\"type\":\"User\",\"site_admin\":false},\"labels\":[],\"state\":\"open\",\"locked\":false,\"assignee\":null,\"milestone\":null,\"comments\":0,\"created_at\":\"2016-02-12T21:21:04Z\",\"updated_at\":\"2016-02-12T21:21:04Z\",\"closed_at\":null,\"body\":\"Empty leaf value is coming up represented in JSON as \\\\\"param\\\\\": \\\\\"null\\\\\".  It should be represented with brackets surrounding the null.  For example: \\\\\"param\\\\\": \\\\\"[null]\\\\\"\"}},\"public\":true,\"created_at\":\"2016-02-12T21:21:05Z\",\"org\":{\"id\":8827988,\"login\":\"CiscoDevNet\",\"gravatar_id\":\"\",\"url\":\"https://api.github.com/orgs/CiscoDevNet\",\"avatar_url\":\"https://avatars.githubusercontent.com/u/8827988?\"}}]'"
      ]
     },
     "execution_count": 22,
     "metadata": {},
     "output_type": "execute_result"
    }
   ],
   "source": [
    "import requests\n",
    "r = requests.get('https://api.github.com/events')\n",
    "r.content"
   ]
  },
  {
   "cell_type": "markdown",
   "metadata": {},
   "source": [
    "#### For advanced users\n",
    "\n",
    "- python enhancement proposals: https://www.python.org/dev/peps/ \n",
    "- let's look into Full Python Grammar specification: https://docs.python.org/3.1/reference/grammar.html\n",
    "- python official repository: https://hg.python.org/\n"
   ]
  },
  {
   "cell_type": "markdown",
   "metadata": {},
   "source": [
    "### How to install 3rd party libraries\n",
    "\n",
    "- PyPI - the Python Package Index (repository of python non-standard libraries), currently ~ 75 k libraries\n",
    "- to install additional libraries you need to use additional program:\n",
    "    - easy_install - very basic lib installer\n",
    "    - pip - is the preferred installer program\n",
    "    \n",
    "Examples:\n",
    "```bash\n",
    "$ pip install SomePackage\n",
    "```\n",
    "\n",
    "```bash\n",
    "python -m pip install SomePackage\n",
    "```\n",
    "\n",
    "```bash\n",
    "pip install SomePackage==1.0.4    # specific version\n",
    "```\n",
    "\n",
    "```bash\n",
    "$ pip show --files SomePackage\n",
    "  Name: SomePackage\n",
    "  Version: 1.0\n",
    "  Location: /my/env/lib/pythonx.x/site-packages\n",
    "  Files:\n",
    "   ../somepackage/__init__.py\n",
    "   [...]\n",
    "```\n",
    "\n",
    "Sources:\n",
    "- https://pypi.python.org/pypi/pip\n",
    "- https://docs.python.org/dev/installing/\n",
    "- https://pypi.python.org/pypi\n",
    "- https://pip.pypa.io/en/stable/installing/\n",
    "- http://python-packaging-user-guide.readthedocs.org/en/latest/pip_easy_install/"
   ]
  },
  {
   "cell_type": "markdown",
   "metadata": {},
   "source": [
    "### Virtual environments\n",
    "\n",
    "> a virtual environment is a semi-isolated Python environment that allows packages to be installed for use by a particular application, rather than being installed system wide\n",
    "\n",
    "\n",
    "Steps to create virtual environment:\n",
    "- Install virtual environment\n",
    "```\n",
    "$ pip install virtualenv\n",
    "```\n",
    "\n",
    "- Create a virtual environment for a project\n",
    "\n",
    "```\n",
    "$ mkdir lab_env\n",
    "$ cd lab_env\n",
    "$ virtualenv lab_env \n",
    "```\n",
    "\n",
    "- You can use your virtual python interpreter\n",
    "\n",
    "```\n",
    "$ source venv/bin/activate\n",
    "(lab_env) $ pip install requests\n",
    "```\n",
    "\n",
    "\n",
    "Sources:\n",
    "- http://docs.python-guide.org/en/latest/dev/virtualenvs/"
   ]
  },
  {
   "cell_type": "markdown",
   "metadata": {},
   "source": [
    "### For loops\n",
    "\n",
    "```python\n",
    "\n",
    "items_list = [1, 'A', 'B', 3, [], [1,2,3]]\n",
    "for item in items_list:\n",
    "    print(item)\n",
    "```"
   ]
  },
  {
   "cell_type": "markdown",
   "metadata": {},
   "source": [
    "### If - else\n",
    "\n"
   ]
  },
  {
   "cell_type": "markdown",
   "metadata": {},
   "source": [
    "### Scopes - local vs global\n",
    "\n",
    "```python\n",
    "X = 1 # Global scope\n",
    "\n",
    "def fn1():  # Local scope inside function fn1\n",
    "    X = 2\n",
    "    fn1 = 1\n",
    "    \n",
    "def fn2():  # Local scope inside function fn2\n",
    "    X = 3\n",
    "    fn2 = 3\n",
    "\n",
    "# Global scope\n",
    "\n",
    "Y = 3 \n",
    "fn1 = fn1()\n",
    "fn2 = fn2()\n",
    "\n",
    "```\n",
    "\n",
    "#### Scope\n",
    "- The places where variables are defined and looked up\n",
    "- Help prevent name clashes across your program’s code\n",
    "\n",
    "- Names assigned inside a def can only be seen by the code within that def\n",
    "- Names assigned inside a def do not clash with variables outside the def, even if the same names are used elsewhere\n",
    "\n",
    "- If a variable is assigned inside a def, it is local to that function.\n",
    "- If a variable is assigned outside all defs, it is global to the entire file\n",
    "\n",
    "#### Scopes in Python\n",
    "\n",
    "local namespace \n",
    "    - specific to the current function or class method. If the function defines a local variable x, or has an argument x, Python will use this and stop searching.\n",
    "\n",
    "global namespace \n",
    "    - specific to the current module. If the module has defined a variable, function, or class called x, Python will use that and stop searching.\n",
    "\n",
    "built-in namespace \n",
    "    - global to all modules. As a last resort, Python will assume that x is the name of built-in function or variable.\n",
    "\n",
    "#### Global\n",
    "\n",
    "- By default, all names assigned in a function are local to that function\n",
    "- Global declares module-level variables that are to be assigned\n",
    "- Global names are variables assigned at the top level of the enclosing module file\n",
    "\n",
    "- \"global\" statement tells that a function plans to change one or more global names"
   ]
  },
  {
   "cell_type": "code",
   "execution_count": 34,
   "metadata": {
    "collapsed": false
   },
   "outputs": [],
   "source": [
    "X = 1 # Global scope\n",
    "\n",
    "def fn1():  # Local scope inside function fn1\n",
    "    X = 2\n",
    "    fn1 = 1\n",
    "    \n",
    "def fn2():  # Local scope inside function fn2\n",
    "    X = 3\n",
    "    fn2 = 3\n",
    "\n",
    "# Global scope\n",
    "\n",
    "Y = 3 \n",
    "fn1 = fn1()"
   ]
  },
  {
   "cell_type": "code",
   "execution_count": 40,
   "metadata": {
    "collapsed": false
   },
   "outputs": [
    {
     "name": "stdout",
     "output_type": "stream",
     "text": [
      "{'b': 2, 'a': 1}\n"
     ]
    }
   ],
   "source": [
    "# locals() functions returns all names from local scope\n",
    "\n",
    "def print_locals():\n",
    "    a = 1\n",
    "    b = 2\n",
    "    print(locals())\n",
    "    \n",
    "print_locals()"
   ]
  },
  {
   "cell_type": "code",
   "execution_count": 14,
   "metadata": {
    "collapsed": false
   },
   "outputs": [
    {
     "data": {
      "text/plain": [
       "['ArithmeticError',\n",
       " 'AssertionError',\n",
       " 'AttributeError',\n",
       " 'BaseException',\n",
       " 'BlockingIOError',\n",
       " 'BrokenPipeError',\n",
       " 'BufferError',\n",
       " 'BytesWarning',\n",
       " 'ChildProcessError',\n",
       " 'ConnectionAbortedError',\n",
       " 'ConnectionError',\n",
       " 'ConnectionRefusedError',\n",
       " 'ConnectionResetError',\n",
       " 'DeprecationWarning',\n",
       " 'EOFError',\n",
       " 'Ellipsis',\n",
       " 'EnvironmentError',\n",
       " 'Exception',\n",
       " 'False',\n",
       " 'FileExistsError',\n",
       " 'FileNotFoundError',\n",
       " 'FloatingPointError',\n",
       " 'FutureWarning',\n",
       " 'GeneratorExit',\n",
       " 'IOError',\n",
       " 'ImportError',\n",
       " 'ImportWarning',\n",
       " 'IndentationError',\n",
       " 'IndexError',\n",
       " 'InterruptedError',\n",
       " 'IsADirectoryError',\n",
       " 'KeyError',\n",
       " 'KeyboardInterrupt',\n",
       " 'LookupError',\n",
       " 'MemoryError',\n",
       " 'NameError',\n",
       " 'None',\n",
       " 'NotADirectoryError',\n",
       " 'NotImplemented',\n",
       " 'NotImplementedError',\n",
       " 'OSError',\n",
       " 'OverflowError',\n",
       " 'PendingDeprecationWarning',\n",
       " 'PermissionError',\n",
       " 'ProcessLookupError',\n",
       " 'RecursionError',\n",
       " 'ReferenceError',\n",
       " 'ResourceWarning',\n",
       " 'RuntimeError',\n",
       " 'RuntimeWarning',\n",
       " 'StopAsyncIteration',\n",
       " 'StopIteration',\n",
       " 'SyntaxError',\n",
       " 'SyntaxWarning',\n",
       " 'SystemError',\n",
       " 'SystemExit',\n",
       " 'TabError',\n",
       " 'TimeoutError',\n",
       " 'True',\n",
       " 'TypeError',\n",
       " 'UnboundLocalError',\n",
       " 'UnicodeDecodeError',\n",
       " 'UnicodeEncodeError',\n",
       " 'UnicodeError',\n",
       " 'UnicodeTranslateError',\n",
       " 'UnicodeWarning',\n",
       " 'UserWarning',\n",
       " 'ValueError',\n",
       " 'Warning',\n",
       " 'WindowsError',\n",
       " 'ZeroDivisionError',\n",
       " '__IPYTHON__',\n",
       " '__IPYTHON__active',\n",
       " '__build_class__',\n",
       " '__debug__',\n",
       " '__doc__',\n",
       " '__import__',\n",
       " '__loader__',\n",
       " '__name__',\n",
       " '__package__',\n",
       " '__spec__',\n",
       " 'abs',\n",
       " 'all',\n",
       " 'any',\n",
       " 'ascii',\n",
       " 'bin',\n",
       " 'bool',\n",
       " 'bytearray',\n",
       " 'bytes',\n",
       " 'callable',\n",
       " 'chr',\n",
       " 'classmethod',\n",
       " 'compile',\n",
       " 'complex',\n",
       " 'copyright',\n",
       " 'credits',\n",
       " 'delattr',\n",
       " 'dict',\n",
       " 'dir',\n",
       " 'divmod',\n",
       " 'dreload',\n",
       " 'enumerate',\n",
       " 'eval',\n",
       " 'exec',\n",
       " 'filter',\n",
       " 'float',\n",
       " 'format',\n",
       " 'frozenset',\n",
       " 'get_ipython',\n",
       " 'getattr',\n",
       " 'globals',\n",
       " 'hasattr',\n",
       " 'hash',\n",
       " 'help',\n",
       " 'hex',\n",
       " 'id',\n",
       " 'input',\n",
       " 'int',\n",
       " 'isinstance',\n",
       " 'issubclass',\n",
       " 'iter',\n",
       " 'len',\n",
       " 'license',\n",
       " 'list',\n",
       " 'locals',\n",
       " 'map',\n",
       " 'max',\n",
       " 'memoryview',\n",
       " 'min',\n",
       " 'next',\n",
       " 'object',\n",
       " 'oct',\n",
       " 'open',\n",
       " 'ord',\n",
       " 'pow',\n",
       " 'print',\n",
       " 'property',\n",
       " 'range',\n",
       " 'repr',\n",
       " 'reversed',\n",
       " 'round',\n",
       " 'set',\n",
       " 'setattr',\n",
       " 'slice',\n",
       " 'sorted',\n",
       " 'staticmethod',\n",
       " 'str',\n",
       " 'sum',\n",
       " 'super',\n",
       " 'tuple',\n",
       " 'type',\n",
       " 'vars',\n",
       " 'zip']"
      ]
     },
     "execution_count": 14,
     "metadata": {},
     "output_type": "execute_result"
    }
   ],
   "source": [
    "# __builtins__ in Python 2.x\n",
    "\n",
    "import builtins # in Python 3.x\n",
    "dir(builtins)"
   ]
  },
  {
   "cell_type": "code",
   "execution_count": 18,
   "metadata": {
    "collapsed": false
   },
   "outputs": [
    {
     "ename": "SyntaxError",
     "evalue": "can't assign to keyword (<ipython-input-18-0e86d6e8adb6>, line 3)",
     "output_type": "error",
     "traceback": [
      "\u001b[1;36m  File \u001b[1;32m\"<ipython-input-18-0e86d6e8adb6>\"\u001b[1;36m, line \u001b[1;32m3\u001b[0m\n\u001b[1;33m    True = False\u001b[0m\n\u001b[1;37m                ^\u001b[0m\n\u001b[1;31mSyntaxError\u001b[0m\u001b[1;31m:\u001b[0m can't assign to keyword\n"
     ]
    }
   ],
   "source": [
    "# Trap !\n",
    "\n",
    "def trap():\n",
    "    print = \"Print something\"   # Redefine built-in name \"print\"\n",
    "    print(\"function local scope\")\n",
    "\n",
    "print(\"module global scope\")\n",
    "trap()\n",
    "\n"
   ]
  },
  {
   "cell_type": "code",
   "execution_count": 19,
   "metadata": {
    "collapsed": false
   },
   "outputs": [
    {
     "ename": "SyntaxError",
     "evalue": "can't assign to keyword (<ipython-input-19-447d0ffca51c>, line 2)",
     "output_type": "error",
     "traceback": [
      "\u001b[1;36m  File \u001b[1;32m\"<ipython-input-19-447d0ffca51c>\"\u001b[1;36m, line \u001b[1;32m2\u001b[0m\n\u001b[1;33m    True = False\u001b[0m\n\u001b[1;37m                ^\u001b[0m\n\u001b[1;31mSyntaxError\u001b[0m\u001b[1;31m:\u001b[0m can't assign to keyword\n"
     ]
    }
   ],
   "source": [
    "# in Python 2.X you could say __builtin__.True = False, to reset True to False for the entire Python process\n",
    "True = False"
   ]
  },
  {
   "cell_type": "code",
   "execution_count": 7,
   "metadata": {
    "collapsed": false
   },
   "outputs": [
    {
     "name": "stdout",
     "output_type": "stream",
     "text": [
      "X inside function:  4\n",
      "X outside function: 1\n"
     ]
    }
   ],
   "source": [
    "X = 1       # Global scope\n",
    "\n",
    "def increment():\n",
    "    X = 3  # Local scope - inside function\n",
    "    X = X + 1\n",
    "    print('X inside function: ', X)\n",
    "\n",
    "increment()\n",
    "print('X outside function:', X)"
   ]
  },
  {
   "cell_type": "code",
   "execution_count": 13,
   "metadata": {
    "collapsed": false
   },
   "outputs": [
    {
     "ename": "UnboundLocalError",
     "evalue": "local variable 'X' referenced before assignment",
     "output_type": "error",
     "traceback": [
      "\u001b[1;31m---------------------------------------------------------------------------\u001b[0m",
      "\u001b[1;31mUnboundLocalError\u001b[0m                         Traceback (most recent call last)",
      "\u001b[1;32m<ipython-input-13-0934e6d70d63>\u001b[0m in \u001b[0;36m<module>\u001b[1;34m()\u001b[0m\n\u001b[0;32m      4\u001b[0m     \u001b[0mprint\u001b[0m\u001b[1;33m(\u001b[0m\u001b[1;34m'X inside function: '\u001b[0m\u001b[1;33m,\u001b[0m \u001b[0mX\u001b[0m\u001b[1;33m)\u001b[0m\u001b[1;33m\u001b[0m\u001b[0m\n\u001b[0;32m      5\u001b[0m \u001b[1;33m\u001b[0m\u001b[0m\n\u001b[1;32m----> 6\u001b[1;33m \u001b[0mincrement\u001b[0m\u001b[1;33m(\u001b[0m\u001b[1;33m)\u001b[0m\u001b[1;33m\u001b[0m\u001b[0m\n\u001b[0m\u001b[0;32m      7\u001b[0m \u001b[0mprint\u001b[0m\u001b[1;33m(\u001b[0m\u001b[1;34m'X outside function:'\u001b[0m\u001b[1;33m,\u001b[0m \u001b[0mX\u001b[0m\u001b[1;33m)\u001b[0m\u001b[1;33m\u001b[0m\u001b[0m\n",
      "\u001b[1;32m<ipython-input-13-0934e6d70d63>\u001b[0m in \u001b[0;36mincrement\u001b[1;34m()\u001b[0m\n\u001b[0;32m      1\u001b[0m \u001b[0mX\u001b[0m \u001b[1;33m=\u001b[0m \u001b[1;36m1\u001b[0m       \u001b[1;31m# Global scope\u001b[0m\u001b[1;33m\u001b[0m\u001b[0m\n\u001b[0;32m      2\u001b[0m \u001b[1;32mdef\u001b[0m \u001b[0mincrement\u001b[0m\u001b[1;33m(\u001b[0m\u001b[1;33m)\u001b[0m\u001b[1;33m:\u001b[0m\u001b[1;33m\u001b[0m\u001b[0m\n\u001b[1;32m----> 3\u001b[1;33m     \u001b[0mX\u001b[0m \u001b[1;33m=\u001b[0m \u001b[0mX\u001b[0m \u001b[1;33m+\u001b[0m \u001b[1;36m1\u001b[0m\u001b[1;33m\u001b[0m\u001b[0m\n\u001b[0m\u001b[0;32m      4\u001b[0m     \u001b[0mprint\u001b[0m\u001b[1;33m(\u001b[0m\u001b[1;34m'X inside function: '\u001b[0m\u001b[1;33m,\u001b[0m \u001b[0mX\u001b[0m\u001b[1;33m)\u001b[0m\u001b[1;33m\u001b[0m\u001b[0m\n\u001b[0;32m      5\u001b[0m \u001b[1;33m\u001b[0m\u001b[0m\n",
      "\u001b[1;31mUnboundLocalError\u001b[0m: local variable 'X' referenced before assignment"
     ]
    }
   ],
   "source": [
    "X = 1       # Global scope\n",
    "def increment():\n",
    "    X = X + 1      # UnboundLocalError: local variable 'X' referenced before assignment\n",
    "    print('X inside function: ', X)\n",
    "\n",
    "increment()\n",
    "print('X outside function:', X)"
   ]
  },
  {
   "cell_type": "code",
   "execution_count": 11,
   "metadata": {
    "collapsed": false
   },
   "outputs": [
    {
     "name": "stdout",
     "output_type": "stream",
     "text": [
      "X inside function:  2\n",
      "X outside function: 2\n"
     ]
    }
   ],
   "source": [
    "X = 1\n",
    "def increment():\n",
    "    global X      #  we are using X from global scope\n",
    "    X = X + 1\n",
    "    print('X inside function: ', X)\n",
    "\n",
    "increment()\n",
    "print('X outside function:', X)"
   ]
  },
  {
   "cell_type": "code",
   "execution_count": 12,
   "metadata": {
    "collapsed": false
   },
   "outputs": [
    {
     "data": {
      "text/plain": [
       "100"
      ]
     },
     "execution_count": 12,
     "metadata": {},
     "output_type": "execute_result"
    }
   ],
   "source": [
    "# Global scope\n",
    "X = 99                # X and func assigned in module: global\n",
    "\n",
    "def func(Y):          # Y and Z assigned in function: locals\n",
    "    # Local scope\n",
    "    Z = X + Y         # X is a global\n",
    "    return Z\n",
    "\n",
    "func(1)               # func in module: result=100"
   ]
  },
  {
   "cell_type": "code",
   "execution_count": 41,
   "metadata": {
    "collapsed": false
   },
   "outputs": [
    {
     "name": "stdout",
     "output_type": "stream",
     "text": [
      "88\n"
     ]
    }
   ],
   "source": [
    "X = 99                   # Global scope name: not used\n",
    "\n",
    "def f1():\n",
    "    X = 88               # Enclosing def local\n",
    "    def f2():\n",
    "        print(X)         # Reference made in nested def\n",
    "    f2()\n",
    "\n",
    "f1()               "
   ]
  },
  {
   "cell_type": "markdown",
   "metadata": {},
   "source": [
    "### Creating own types - classes\n",
    "\n",
    "lklkl\n"
   ]
  },
  {
   "cell_type": "markdown",
   "metadata": {},
   "source": [
    "### Privacy\n",
    "\n",
    "- in Python, there is no way to create private variables like there is with the private modifier in Java\n",
    "- what we have in Python is a simple mechanism to prevent accidental overwriting of a “private” attribute"
   ]
  },
  {
   "cell_type": "code",
   "execution_count": 59,
   "metadata": {
    "collapsed": false
   },
   "outputs": [
    {
     "name": "stdout",
     "output_type": "stream",
     "text": [
      "job grade : 10\n"
     ]
    },
    {
     "ename": "AttributeError",
     "evalue": "'Employer' object has no attribute '__salary'",
     "output_type": "error",
     "traceback": [
      "\u001b[1;31m---------------------------------------------------------------------------\u001b[0m",
      "\u001b[1;31mAttributeError\u001b[0m                            Traceback (most recent call last)",
      "\u001b[1;32m<ipython-input-59-376071cb7b68>\u001b[0m in \u001b[0;36m<module>\u001b[1;34m()\u001b[0m\n\u001b[0;32m      6\u001b[0m \u001b[0memployer_1\u001b[0m \u001b[1;33m=\u001b[0m \u001b[0mEmployer\u001b[0m\u001b[1;33m(\u001b[0m\u001b[0mbonus\u001b[0m\u001b[1;33m=\u001b[0m\u001b[1;36m1500\u001b[0m\u001b[1;33m)\u001b[0m\u001b[1;33m\u001b[0m\u001b[0m\n\u001b[0;32m      7\u001b[0m \u001b[0mprint\u001b[0m\u001b[1;33m(\u001b[0m\u001b[1;34m\"job grade :\"\u001b[0m\u001b[1;33m,\u001b[0m \u001b[0memployer_1\u001b[0m\u001b[1;33m.\u001b[0m\u001b[0mjob_grade\u001b[0m\u001b[1;33m)\u001b[0m\u001b[1;33m\u001b[0m\u001b[0m\n\u001b[1;32m----> 8\u001b[1;33m \u001b[0mprint\u001b[0m\u001b[1;33m(\u001b[0m\u001b[1;34m\"salary    :\"\u001b[0m\u001b[1;33m,\u001b[0m \u001b[0memployer_1\u001b[0m\u001b[1;33m.\u001b[0m\u001b[0m__salary\u001b[0m\u001b[1;33m)\u001b[0m\u001b[1;33m\u001b[0m\u001b[0m\n\u001b[0m",
      "\u001b[1;31mAttributeError\u001b[0m: 'Employer' object has no attribute '__salary'"
     ]
    }
   ],
   "source": [
    "class Employer(object):\n",
    "    def __init__(self, bonus):\n",
    "        self.job_grade = 10\n",
    "        self.__salary = 1500 + (bonus * self.job_grade)\n",
    "\n",
    "employer_1 = Employer(bonus=1500)\n",
    "print(\"job grade :\", employer_1.job_grade)\n",
    "print(\"salary    :\", employer_1.__salary)"
   ]
  },
  {
   "cell_type": "code",
   "execution_count": 60,
   "metadata": {
    "collapsed": false
   },
   "outputs": [
    {
     "name": "stdout",
     "output_type": "stream",
     "text": [
      "16500\n"
     ]
    }
   ],
   "source": [
    "salary = employer_1._Employer__salary\n",
    "print(salary)"
   ]
  },
  {
   "cell_type": "markdown",
   "metadata": {},
   "source": [
    "### Special methods\n",
    "\n",
    "- special methods are meant to be called by the Python interpreter, and not by you\n",
    "- don't write obj.\\__len\\__(), but len(obj) - Python will call \\__len\\__() method behind the scenes\n",
    "\n",
    "Some examples:\n",
    "\n",
    "* \\__init\\__()\n",
    "* \\__new\\__()\n",
    "* \\__repr\\__()\n",
    "* \\__len\\__()\n",
    "* \\__str\\__()\n",
    "* \\__eq\\__()\n",
    "* \\__hash\\__()\n",
    "* \\__getitem\\__()\n",
    "* \\__add\\__()\n",
    "\n",
    "and many many more. Visit http://www.rafekettler.com/magicmethods.html to get more information."
   ]
  },
  {
   "cell_type": "code",
   "execution_count": 46,
   "metadata": {
    "collapsed": false
   },
   "outputs": [],
   "source": [
    "class NewStyle(object): pass\n",
    "class OldStyle: pass"
   ]
  },
  {
   "cell_type": "code",
   "execution_count": 54,
   "metadata": {
    "collapsed": false
   },
   "outputs": [
    {
     "name": "stdout",
     "output_type": "stream",
     "text": [
      "new attribute\n",
      "a\n",
      "1500\n",
      "ab get 1500 PLN\n",
      "1\n",
      "1\n"
     ]
    }
   ],
   "source": [
    "class Employee(object):\n",
    "    static_counter = 0\n",
    "    \n",
    "    def __init__(self, name, surname):\n",
    "        self.name = name\n",
    "        self.surname = surname\n",
    "        self.salary = 1500\n",
    "        self.__job_grade = 1\n",
    "        Employee.static_counter += 1\n",
    "    \n",
    "    def get_name(self):\n",
    "        return self.name\n",
    "    \n",
    "    def get_salary(self):\n",
    "        return self.salary\n",
    "    \n",
    "    def __str__(self):\n",
    "        return \"{name}{surname} get {salary} PLN\".format(\n",
    "            name=self.name, surname=self.surname, salary=self.salary)\n",
    "    \n",
    "    @classmethod\n",
    "    def get_counter(cls):\n",
    "        return cls.static_counter\n",
    "    \n",
    "  \n",
    "employee = Employee('Lucky', 'Boy')\n",
    "\n",
    "employee.name = \"a\"\n",
    "employee.surname = \"b\"\n",
    "employee.new_attribute = \"new attribute\"\n",
    "\n",
    "print(employee.new_attribute)\n",
    "\n",
    "print(employee.get_name())\n",
    "\n",
    "print(employee.get_salary())\n",
    "\n",
    "print(employee)\n",
    "\n",
    "print(employee.get_counter())\n",
    "\n",
    "print(Employee.get_counter())"
   ]
  },
  {
   "cell_type": "code",
   "execution_count": 52,
   "metadata": {
    "collapsed": false
   },
   "outputs": [
    {
     "name": "stdout",
     "output_type": "stream",
     "text": [
      "B\n"
     ]
    }
   ],
   "source": [
    "class B(object): pass\n",
    "\n",
    "class A(object):\n",
    "    def __init__(self): # first init\n",
    "        print(\"A\")\n",
    "    def __init__(self): # second init\n",
    "        print(\"B\")\n",
    "\n",
    "a = A()  # second init was used"
   ]
  },
  {
   "cell_type": "code",
   "execution_count": 53,
   "metadata": {
    "collapsed": false
   },
   "outputs": [
    {
     "name": "stdout",
     "output_type": "stream",
     "text": [
      "10\n"
     ]
    },
    {
     "ename": "AttributeError",
     "evalue": "'Figure' object has no attribute 'size'",
     "output_type": "error",
     "traceback": [
      "\u001b[1;31m---------------------------------------------------------------------------\u001b[0m",
      "\u001b[1;31mAttributeError\u001b[0m                            Traceback (most recent call last)",
      "\u001b[1;32m<ipython-input-53-ecf56a4d95a4>\u001b[0m in \u001b[0;36m<module>\u001b[1;34m()\u001b[0m\n\u001b[0;32m      5\u001b[0m \u001b[0mf\u001b[0m\u001b[1;33m.\u001b[0m\u001b[0mwidth\u001b[0m \u001b[1;33m=\u001b[0m \u001b[1;36m10\u001b[0m\u001b[1;33m\u001b[0m\u001b[0m\n\u001b[0;32m      6\u001b[0m \u001b[0mprint\u001b[0m\u001b[1;33m(\u001b[0m\u001b[0mf\u001b[0m\u001b[1;33m.\u001b[0m\u001b[0mwidth\u001b[0m\u001b[1;33m)\u001b[0m\u001b[1;33m\u001b[0m\u001b[0m\n\u001b[1;32m----> 7\u001b[1;33m \u001b[0mf\u001b[0m\u001b[1;33m.\u001b[0m\u001b[0msize\u001b[0m \u001b[1;33m=\u001b[0m \u001b[1;36m10\u001b[0m\u001b[1;33m\u001b[0m\u001b[0m\n\u001b[0m",
      "\u001b[1;31mAttributeError\u001b[0m: 'Figure' object has no attribute 'size'"
     ]
    }
   ],
   "source": [
    "class Figure(object):\n",
    "    __slots__ = ['width', 'height']\n",
    "\n",
    "f = Figure()\n",
    "f.width = 10\n",
    "print(f.width)\n",
    "\n",
    "f.size = 10  # AttributeError: 'Figure' object has no attribute 'size'"
   ]
  },
  {
   "cell_type": "code",
   "execution_count": 55,
   "metadata": {
    "collapsed": false
   },
   "outputs": [
    {
     "name": "stdout",
     "output_type": "stream",
     "text": [
      "Cat\n",
      "Doggggg\n"
     ]
    }
   ],
   "source": [
    "# Class inheritance\n",
    "\n",
    "class Pet(object):\n",
    "    def __init__(self, name, species):\n",
    "        self.name = name\n",
    "        self.species = species \n",
    "    def get_name(self):\n",
    "        return self.name\n",
    "    def get_species(self):\n",
    "        return self.species\n",
    "    \n",
    "class Dog(Pet):\n",
    "    def __init__(self, name, hates_cat=True):\n",
    "        Pet.__init__(self, name, 'Dog')\n",
    "        #super(Dog, self).__init__(name, 'Dog')\n",
    "        self.hates_cat = hates_cat\n",
    "    def hates_cat(self):\n",
    "        return self.hates_cat\n",
    "    def get_species(self):\n",
    "        return 'Doggggg'\n",
    "    \n",
    "pet = Pet('Mister', 'Cat')\n",
    "print(pet.get_species())\n",
    "\n",
    "dog = Dog('Mister', hates_cat=True)\n",
    "print(dog.get_species())"
   ]
  },
  {
   "cell_type": "code",
   "execution_count": null,
   "metadata": {
    "collapsed": true
   },
   "outputs": [],
   "source": []
  },
  {
   "cell_type": "code",
   "execution_count": 57,
   "metadata": {
    "collapsed": false
   },
   "outputs": [
    {
     "name": "stdout",
     "output_type": "stream",
     "text": [
      "['Beautiful', 'Explicit', 'Simple', 'Complex', 'Flat', 'Sparse', 'Readability', 'Special']\n",
      "number of list elements:  8\n",
      "word in list:  True\n",
      "slicing:  ['Simple', 'Complex']\n",
      "Beautiful\n",
      "Explicit\n",
      "Simple\n",
      "Complex\n",
      "Flat\n",
      "Sparse\n",
      "Readability\n",
      "Special\n"
     ]
    }
   ],
   "source": [
    "text = \"\"\"\n",
    "Beautiful is better than ugly.\n",
    "Explicit is better than implicit.\n",
    "Simple is better than complex.\n",
    "Complex is better than complicated.\n",
    "Flat is better than nested.\n",
    "Sparse is better than dense.\n",
    "Readability counts.\n",
    "Special cases aren't special enough to break the rules.\n",
    "\"\"\"\n",
    "\n",
    "import re # find more information here: https://docs.python.org/2/library/re.html \n",
    "\n",
    "regex = re.compile('^\\w+', re.MULTILINE) # regular expression\n",
    "\n",
    "class TextFilter(object):\n",
    "    def __init__(self, text): \n",
    "        self.words = regex.findall(text)\n",
    "    def __getitem__(self, index):\n",
    "        return self.words[index]\n",
    "    def __repr__(self):\n",
    "        return str(self.words)\n",
    "    def __len__(self):\n",
    "        return len(self.words)\n",
    "\n",
    "filtered_text = TextFilter(text)\n",
    "\n",
    "print(filtered_text)\n",
    "print(\"number of list elements: \", len(filtered_text))\n",
    "print(\"word in list: \", 'Simple' in filtered_text)\n",
    "print(\"slicing: \", filtered_text[2:4])\n",
    "\n",
    "for word in filtered_text:\n",
    "    print(word)"
   ]
  },
  {
   "cell_type": "code",
   "execution_count": 58,
   "metadata": {
    "collapsed": false
   },
   "outputs": [
    {
     "name": "stdout",
     "output_type": "stream",
     "text": [
      "['Beautiful', 'Explicit', 'Simple', 'Complex', 'Flat', 'Sparse', 'Readability', 'Special']\n"
     ]
    }
   ],
   "source": [
    "# We can do it even much simpler ...\n",
    "\n",
    "filtered_text = regex.findall(text)\n",
    "print(filtered_text)"
   ]
  },
  {
   "cell_type": "code",
   "execution_count": null,
   "metadata": {
    "collapsed": true
   },
   "outputs": [],
   "source": []
  }
 ],
 "metadata": {
  "kernelspec": {
   "display_name": "Python 3",
   "language": "python",
   "name": "python3"
  },
  "language_info": {
   "codemirror_mode": {
    "name": "ipython",
    "version": 3
   },
   "file_extension": ".py",
   "mimetype": "text/x-python",
   "name": "python",
   "nbconvert_exporter": "python",
   "pygments_lexer": "ipython3",
   "version": "3.5.0"
  }
 },
 "nbformat": 4,
 "nbformat_minor": 0
}
