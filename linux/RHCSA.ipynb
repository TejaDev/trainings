{
 "cells": [
  {
   "cell_type": "markdown",
   "metadata": {},
   "source": [
    "#### Hard link\n",
    "\n",
    "- is a new directory entry with a reference to existing file on the file system\n",
    "- every file in a file system has one hard link by default\n",
    "- to save space, instead of copying, a new hard link can be created to reference the same file\n",
    "- all hard links poiting to the same file have the same permissions, link count, user/group owerships, timestamps and file content\n",
    "- cannot point do directory\n",
    "- need to be on the same file system\n",
    "- after new hard link is created, there is no way to tell which is the original one\n",
    "- `ln` command creates hard link to existing files\n",
    "- `ln existing_file new_hard_link`\n"
   ]
  },
  {
   "cell_type": "code",
   "execution_count": 4,
   "metadata": {
    "collapsed": false
   },
   "outputs": [
    {
     "name": "stdout",
     "output_type": "stream",
     "text": [
      "-rw-rw-r--. 1 vmaster vmaster 12 May 18 17:32 /tmp/newfile.txt\n",
      "-rw-rw-r--. 2 vmaster vmaster 12 May 18 17:32 /tmp/newfile-hardlink.txt\n",
      "-rw-rw-r--. 2 vmaster vmaster 12 May 18 17:32 /tmp/newfile.txt\n"
     ]
    }
   ],
   "source": [
    "!echo \"hello world\" > /tmp/newfile.txt\n",
    "!ls -l /tmp/newfile.txt \n",
    "\n",
    "!ln /tmp/newfile.txt /tmp/newfile-hardlink.txt\n",
    "!ls -l /tmp/newfile.txt /tmp/newfile-hardlink.txt"
   ]
  },
  {
   "cell_type": "code",
   "execution_count": 10,
   "metadata": {
    "collapsed": false
   },
   "outputs": [
    {
     "name": "stdout",
     "output_type": "stream",
     "text": [
      "178410 /tmp/newfile-hardlink.txt  178410 /tmp/newfile.txt\r\n"
     ]
    }
   ],
   "source": [
    "# use ls -i to check inode number\n",
    "!ls -i /tmp/newfile.txt /tmp/newfile-hardlink.txt"
   ]
  },
  {
   "cell_type": "code",
   "execution_count": 12,
   "metadata": {
    "collapsed": false
   },
   "outputs": [
    {
     "name": "stdout",
     "output_type": "stream",
     "text": [
      "/tmp/newfile-hardlink.txt\r\n",
      "/tmp/newfile.txt\r\n"
     ]
    }
   ],
   "source": [
    "# this command will show filenames for inode NUM in given dir\n",
    "!find /tmp -inum 178410 2> /dev/null"
   ]
  },
  {
   "cell_type": "code",
   "execution_count": 1,
   "metadata": {
    "collapsed": false
   },
   "outputs": [
    {
     "name": "stdout",
     "output_type": "stream",
     "text": [
      "ln: ‘/tmp/a’: hard link not allowed for directory\r\n"
     ]
    }
   ],
   "source": [
    "# cannot point to directory\n",
    "! mkdir /tmp/a\n",
    "! ln /tmp/a /tmp/b"
   ]
  },
  {
   "cell_type": "markdown",
   "metadata": {
    "collapsed": true
   },
   "source": [
    "#### Soft link\n",
    "\n",
    "- symbolic links\n",
    "- is not a regular file\n",
    "- points to an existing file or directory\n",
    "- can be on different file systems"
   ]
  },
  {
   "cell_type": "code",
   "execution_count": 3,
   "metadata": {
    "collapsed": false
   },
   "outputs": [
    {
     "name": "stdout",
     "output_type": "stream",
     "text": [
      "lrwxrwxrwx. 1 vmaster vmaster  6 May 24 20:20 /tmp/b -> /tmp/a\r\n",
      "\r\n",
      "/tmp/a:\r\n",
      "total 0\r\n",
      "drwxrwxr-x.  2 vmaster vmaster  60 May 24 20:20 .\r\n",
      "drwxrwxrwt. 13 root    root    280 May 24 20:20 ..\r\n",
      "lrwxrwxrwx.  1 vmaster vmaster   6 May 24 20:20 a -> /tmp/a\r\n"
     ]
    }
   ],
   "source": [
    "# can point to directory\n",
    "! ln -s /tmp/a /tmp/b\n",
    "\n",
    "! ls -la /tmp/a /tmp/b"
   ]
  },
  {
   "cell_type": "markdown",
   "metadata": {
    "collapsed": true
   },
   "source": [
    "Running Network Script\n",
    "\n",
    "- systemctl start|stop|restart|status network\n",
    "\n",
    "- to list all network interfaces: **```ip link show```**\n",
    "- to show all connections: **```nmcli connection show```**\n",
    "- to show all ACTIVE connections: **```nmcli connection show --active```**\n",
    "- reads all connection profiles: **```nmcli connection reload```**\n",
    "- to reload only one changed file, ifcfg-ifname: **```nmcli con load /etc/sysconfig/network-scripts/ifcfg-ifname```**\n",
    "\n",
    "- To show devices recognized by NetworkManager and their state: **```nmcli device status```**\n",
    "\n",
    "- **```nmcli dev disconnect interface-name```**\n",
    "- **```nmcli con up interface-name```**\n",
    "- **```nmcli connection modify id 'MyCafe' 802-11-wireless.mtu 1350 ```**"
   ]
  },
  {
   "cell_type": "code",
   "execution_count": 2,
   "metadata": {
    "collapsed": false
   },
   "outputs": [
    {
     "name": "stdout",
     "output_type": "stream",
     "text": [
      "1: lo: <LOOPBACK,UP,LOWER_UP> mtu 65536 qdisc noqueue state UNKNOWN mode DEFAULT group default \r\n",
      "    link/loopback 00:00:00:00:00:00 brd 00:00:00:00:00:00\r\n",
      "2: enp7s0: <NO-CARRIER,BROADCAST,MULTICAST,UP> mtu 1500 qdisc fq_codel state DOWN mode DEFAULT group default qlen 1000\r\n",
      "    link/ether 34:e6:d7:50:ce:34 brd ff:ff:ff:ff:ff:ff\r\n",
      "3: wlp6s0: <BROADCAST,MULTICAST,UP,LOWER_UP> mtu 1500 qdisc mq state UP mode DORMANT group default qlen 1000\r\n",
      "    link/ether f4:06:69:57:e0:f9 brd ff:ff:ff:ff:ff:ff\r\n",
      "4: virbr0: <NO-CARRIER,BROADCAST,MULTICAST,UP> mtu 1500 qdisc noqueue state DOWN mode DEFAULT group default qlen 1000\r\n",
      "    link/ether 52:54:00:f6:7c:4e brd ff:ff:ff:ff:ff:ff\r\n",
      "5: virbr0-nic: <BROADCAST,MULTICAST> mtu 1500 qdisc noqueue master virbr0 state DOWN mode DEFAULT group default qlen 500\r\n",
      "    link/ether 52:54:00:f6:7c:4e brd ff:ff:ff:ff:ff:ff\r\n",
      "6: vboxnet0: <BROADCAST,MULTICAST> mtu 1500 qdisc noop state DOWN mode DEFAULT group default qlen 1000\r\n",
      "    link/ether 0a:00:27:00:00:00 brd ff:ff:ff:ff:ff:ff\r\n",
      "7: vboxnet1: <BROADCAST,MULTICAST> mtu 1500 qdisc noop state DOWN mode DEFAULT group default qlen 1000\r\n",
      "    link/ether 0a:00:27:00:00:01 brd ff:ff:ff:ff:ff:ff\r\n"
     ]
    }
   ],
   "source": [
    "# to list all network interfaces\n",
    "!ip link show"
   ]
  },
  {
   "cell_type": "code",
   "execution_count": 3,
   "metadata": {
    "collapsed": false
   },
   "outputs": [
    {
     "name": "stdout",
     "output_type": "stream",
     "text": [
      "NAME                UUID                                  TYPE             DEVICE     \r\n",
      "virbr0-nic          02ef975b-c244-433d-a981-d3392930d949  generic          virbr0-nic \r\n",
      "virbr0              d90e96ed-f84b-486f-b5e0-5101b8b77c4b  bridge           virbr0     \r\n",
      "Wired connection 1  6d0c3fd6-5799-4fd7-807d-1e5e3c55fb78  802-3-ethernet   --         \r\n",
      "AndroidAP           4ed71957-a51d-4c54-be4f-37d7ba344990  802-11-wireless  --         \r\n",
      "lux-guest           cffe504c-6a18-4644-a5b8-2cd301a1e4e1  802-11-wireless  --         \r\n",
      "FunBox-9B42         403fcd1a-5019-47b7-beca-5d4ccd1f3894  802-11-wireless  --         \r\n",
      "Kokoski             f3d11eb3-85b9-42fd-9cad-fa9be9d6b03f  802-11-wireless  wlp6s0     \r\n",
      "enp7s0              6b5fd39f-c9c6-4835-aa8c-c2764d6ba54b  802-3-ethernet   --         \r\n"
     ]
    }
   ],
   "source": [
    "#to show all connections\n",
    "! nmcli connection show"
   ]
  },
  {
   "cell_type": "code",
   "execution_count": 1,
   "metadata": {
    "collapsed": false
   },
   "outputs": [
    {
     "name": "stdout",
     "output_type": "stream",
     "text": [
      "DEVICE      TYPE      STATE        CONNECTION \r\n",
      "virbr0      bridge    connected    virbr0     \r\n",
      "virbr0-nic  tap       connected    virbr0-nic \r\n",
      "wlp6s0      wifi      connected    Kokoski    \r\n",
      "enp7s0      ethernet  unavailable  --         \r\n",
      "vboxnet0    ethernet  unmanaged    --         \r\n",
      "vboxnet1    ethernet  unmanaged    --         \r\n",
      "lo          loopback  unmanaged    --         \r\n"
     ]
    }
   ],
   "source": [
    "# To show devices recognized by NetworkManager and their state\n",
    "! nmcli device status"
   ]
  },
  {
   "cell_type": "code",
   "execution_count": 5,
   "metadata": {
    "collapsed": false
   },
   "outputs": [
    {
     "name": "stdout",
     "output_type": "stream",
     "text": [
      "===============================================================================\r\n",
      "                      Connection profile details (enp7s0)\r\n",
      "===============================================================================\r\n",
      "connection.id:                          enp7s0\r\n",
      "connection.uuid:                        6b5fd39f-c9c6-4835-aa8c-c2764d6ba54b\r\n",
      "connection.interface-name:              --\r\n",
      "connection.type:                        802-3-ethernet\r\n",
      "connection.autoconnect:                 yes\r\n",
      "connection.autoconnect-priority:        0\r\n",
      "connection.timestamp:                   0\r\n",
      "connection.read-only:                   no\r\n",
      "connection.permissions:                 \r\n",
      "connection.zone:                        --\r\n",
      "connection.master:                      --\r\n",
      "connection.slave-type:                  --\r\n",
      "connection.autoconnect-slaves:          -1 (default)\r\n",
      "connection.secondaries:                 \r\n",
      "connection.gateway-ping-timeout:        0\r\n",
      "connection.metered:                     unknown\r\n",
      "-------------------------------------------------------------------------------\r\n",
      "802-3-ethernet.port:                    --\r\n",
      "802-3-ethernet.speed:                   0\r\n",
      "802-3-ethernet.duplex:                  --\r\n",
      "802-3-ethernet.auto-negotiate:          yes\r\n",
      "802-3-ethernet.mac-address:             34:E6:D7:50:CE:34\r\n",
      "802-3-ethernet.cloned-mac-address:      --\r\n",
      "802-3-ethernet.mac-address-blacklist:   \r\n",
      "802-3-ethernet.mtu:                     auto\r\n",
      "802-3-ethernet.s390-subchannels:        \r\n",
      "802-3-ethernet.s390-nettype:            --\r\n",
      "802-3-ethernet.s390-options:            \r\n",
      "802-3-ethernet.wake-on-lan:             1 (default)\r\n",
      "802-3-ethernet.wake-on-lan-password:    --\r\n",
      "-------------------------------------------------------------------------------\r\n",
      "ipv4.method:                            auto\r\n",
      "ipv4.dns:                               \r\n",
      "ipv4.dns-search:                        \r\n",
      "ipv4.addresses:                         \r\n",
      "ipv4.gateway:                           --\r\n",
      "ipv4.routes:                            \r\n",
      "ipv4.route-metric:                      -1\r\n",
      "ipv4.ignore-auto-routes:                no\r\n",
      "ipv4.ignore-auto-dns:                   no\r\n",
      "ipv4.dhcp-client-id:                    --\r\n",
      "ipv4.dhcp-send-hostname:                yes\r\n",
      "ipv4.dhcp-hostname:                     --\r\n",
      "ipv4.never-default:                     no\r\n",
      "ipv4.may-fail:                          yes\r\n",
      "-------------------------------------------------------------------------------\r\n",
      "ipv6.method:                            auto\r\n",
      "ipv6.dns:                               \r\n",
      "ipv6.dns-search:                        \r\n",
      "ipv6.addresses:                         \r\n",
      "ipv6.gateway:                           --\r\n",
      "ipv6.routes:                            \r\n",
      "ipv6.route-metric:                      -1\r\n",
      "ipv6.ignore-auto-routes:                no\r\n",
      "ipv6.ignore-auto-dns:                   no\r\n",
      "ipv6.never-default:                     no\r\n",
      "ipv6.may-fail:                          yes\r\n",
      "ipv6.ip6-privacy:                       -1 (unknown)\r\n",
      "ipv6.dhcp-send-hostname:                yes\r\n",
      "ipv6.dhcp-hostname:                     --\r\n",
      "-------------------------------------------------------------------------------\r\n"
     ]
    }
   ],
   "source": [
    "# To view detailed information about the newly configured connection, issue a command as follows\n",
    "# -p, --pretty \n",
    "! nmcli -p con show enp7s0"
   ]
  },
  {
   "cell_type": "markdown",
   "metadata": {},
   "source": [
    "⁠Starting and Stopping an Interface Using nmcli\n",
    "\n",
    "```\n",
    "nmcli con up id bond0\n",
    "nmcli con up id port0\n",
    "nmcli dev disconnect bond0\n",
    "nmcli dev disconnect ens3\n",
    "```"
   ]
  },
  {
   "cell_type": "code",
   "execution_count": 6,
   "metadata": {
    "collapsed": false
   },
   "outputs": [
    {
     "name": "stdout",
     "output_type": "stream",
     "text": [
      "*  SSID                            MODE   CHAN  RATE       SIGNAL  BARS  SECURITY  \r\n",
      "   Korbank_internet-0560-2.4G      Infra  1     54 Mbit/s  40      ▂▄__  WPA1 WPA2 \r\n",
      "   Piotrow                         Infra  6     54 Mbit/s  62      ▂▄▆_  WPA1 WPA2 \r\n",
      "*  Kokoski                         Infra  11    54 Mbit/s  81      ▂▄▆█  WPA2      \r\n",
      "   MF28d-0298EF                    Infra  5     54 Mbit/s  52      ▂▄__  WPA1 WPA2 \r\n",
      "   Piotrow                         Infra  40    54 Mbit/s  20      ▂___  WPA1 WPA2 \r\n",
      "   Korbank_internet_2159A55001660  Infra  11    54 Mbit/s  25      ▂___  WPA1 WPA2 \r\n",
      "   Kierowniki                      Infra  1     54 Mbit/s  14      ▂___  WPA1 WPA2 \r\n",
      "   DLINK                           Infra  6     54 Mbit/s  44      ▂▄__  WPA1 WPA2 \r\n",
      "   TP-LINK_CD97E2                  Infra  1     54 Mbit/s  17      ▂___  WPA1 WPA2 \r\n",
      "   Twoja zona jest u mnie          Infra  11    54 Mbit/s  19      ▂___  WPA1 WPA2 \r\n"
     ]
    }
   ],
   "source": [
    "# to list wifi access points\n",
    "! nmcli dev wifi list"
   ]
  },
  {
   "cell_type": "code",
   "execution_count": 8,
   "metadata": {
    "collapsed": false
   },
   "outputs": [
    {
     "name": "stdout",
     "output_type": "stream",
     "text": [
      "Waiting for process with pid 5224 to finish.\n",
      "Last metadata expiration check: 0:00:02 ago on Tue Sep  6 21:01:45 2016.\n",
      "authconfig-6.2.10-10.fc23.x86_64 : Command line tool for setting up\n",
      "                                 : authentication from network services\n",
      "Repo        : @System\n",
      "\n",
      "selinux-policy-targeted-3.13.1-158.7.fc23.noarch : SELinux targeted base policy\n",
      "Repo        : @System\n",
      "\n",
      "selinux-policy-minimum-3.13.1-158.21.fc23.noarch : SELinux minimum base policy\n",
      "Repo        : updates\n",
      "\n",
      "selinux-policy-targeted-3.13.1-158.21.fc23.noarch : SELinux targeted base policy\n",
      "Repo        : updates\n",
      "\n",
      "authconfig-6.2.10-10.fc23.x86_64 : Command line tool for setting up\n",
      "                                 : authentication from network services\n",
      "Repo        : fedora\n",
      "\n",
      "authconfig-gtk-6.2.10-10.fc23.x86_64 : Graphical tool for setting up\n",
      "                                     : authentication from network services\n",
      "Repo        : fedora\n",
      "\n",
      "selinux-policy-minimum-3.13.1-152.fc23.noarch : SELinux minimum base policy\n",
      "Repo        : fedora\n",
      "\n",
      "selinux-policy-targeted-3.13.1-152.fc23.noarch : SELinux targeted base policy\n",
      "Repo        : fedora\n",
      "\n"
     ]
    }
   ],
   "source": [
    "! dnf whatprovides */authconfig"
   ]
  },
  {
   "cell_type": "code",
   "execution_count": null,
   "metadata": {
    "collapsed": true
   },
   "outputs": [],
   "source": []
  }
 ],
 "metadata": {
  "kernelspec": {
   "display_name": "Python 2",
   "language": "python",
   "name": "python2"
  },
  "language_info": {
   "codemirror_mode": {
    "name": "ipython",
    "version": 2
   },
   "file_extension": ".py",
   "mimetype": "text/x-python",
   "name": "python",
   "nbconvert_exporter": "python",
   "pygments_lexer": "ipython2",
   "version": "2.7.11"
  }
 },
 "nbformat": 4,
 "nbformat_minor": 0
}
