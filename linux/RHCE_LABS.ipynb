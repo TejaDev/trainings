{
 "cells": [
  {
   "cell_type": "markdown",
   "metadata": {},
   "source": [
    "### Setting Up External Authentication\n",
    "In this exercise, you set up server1 for external authentication on the labipa.example.com server. This exercise assumes you are using the labipa server that is described in Appendix D, “Setting Up Identity Management,” or that you are using the lab virtual machines (VMs) available for download at http://www.rhatcert.com. All steps in this exercise are performed on server1.\n",
    "1. Verify that you can reach the labipa.example.com server by name, by using ping labipa.example.com. If this does not work, fix before proceeding by either including an entry in DNS that resolves labipa.example.com to its hostname or by using the DNS server that is available through the labipa server.\n",
    "2. Type ```yum groups install “Directory Client” -y``` (you can use `yum group list`, or `yum group info '*' | less +/sssd`)\n",
    "3. Type mkdir /etc/openldap/cacerts.\n",
    "4. Copy the certificate from the IPA server to your local server by using scp labipa.example.com:/etc/ipa/ca.crt /etc/openldap/cacerts.\n",
    "5. Type vim /etc/sysconfig/authconfig. Make sure that this file contains the following configuration options:\n",
    "```\n",
    "USESSSDAUTH=yes\n",
    "USESSSD=yes\n",
    "FORCELEGACY=no\n",
    "```\n",
    "6. As root, start authconfig-tui. In User Information, select Cache Information, Use LDAP, and under Authentication, select Use LDAP Authentication.\n",
    "7. In the LDAP Settings screen, select Use TLS and specify the following:\n",
    "```\n",
    "Server:   labipa.example.com\n",
    "Base DN: dc=example,dc=com\n",
    "```\n",
    "8. Complete the setup procedure in authconfig-tui. Once the configuration is written to your system, use `cat /etc/sssd/sssd.conf` to verify the configuration has been committed to your server.\n",
    "9. Type `systemctl restart sssd` to restart the sssd service.\n",
    "10. From a shell, type `su - ldapuser1`. You should now see the message “cannot change to /home/lisa: No such file or directory,” which is fine because we have not configured any home directory automounting.\n",
    "11. Type `id`. This will show that you are currently logged in as user ldapuser1."
   ]
  },
  {
   "cell_type": "markdown",
   "metadata": {},
   "source": [
    "### Configuring Kerberos Authorization\n",
    "\n",
    "1. On server1, open a root shell and start `authconfig-tui`.\n",
    "2. Type `yum install -y pam_krb5 krb5-workstation` to install the RPM packages that add Kerberos support to all\n",
    "applications that support it.\n",
    "    IMPORTANT: use `yum groups install “Directory Client\"` to install krb5, you can also check what is missing using: `authconfig --test`\n",
    "\n",
    "\n",
    "3. On the authentication Configuration screen, under Authentication, select Use Kerberos to enable Kerberos authorization.\n",
    "4. On the LDAP Settings screen, do not change anything; you configured this in the previous exercise.\n",
    "5. In the Kerberos Settings screen, enter the following parameters:\n",
    "\n",
    "```\n",
    "Realm:    EXAMPLE.COM\n",
    "KDC: labipa.example.com\n",
    "Admin Server: labipa.example.com\n",
    "```\n",
    "\n",
    "6. When you are back on the shell prompt, type `kinit admin` as root. When prompted, provide the password of the admin user on the labipa server. (Typically set to password or password123). This verifies that the host can authenticate and shows that Kerberos authentication configuration is correct.\n",
    "7. Now that you know that the host can authenticate, type kinit ldapuser1. Enter the password for user ldapuser1. This proves that Kerberos authentication works correctly."
   ]
  },
  {
   "cell_type": "markdown",
   "metadata": {},
   "source": [
    "### Making an iSCSI Connection\n",
    "1. On server 2, open a root shell and type `yum -y install iscsi-initiator-utils lsscsi` to install the software that you need to perform this exercise.\n",
    "2. Type `iscsiadm --mode discovery --type sendtargets --portal 192.168.4.210 --discover`. This should return the name of the iSCSI target as you have configured it in the previous exercise.\n",
    "3. Next, type `iscsiadm --mode node --targetname iqn.2014-04.com.example:target --portal 192.168.4.210 --login`.\n",
    "4. The iSCSI devices should now be available. Type `lsscsi` to show them. You should see three LIO devices. Use `iscsiadm -m session -P3`, which also shows all disks.\n",
    "5. On the first iSCSI device (I’ll assume that it is /dev/sdb in this exercise, but it can be a different device on your server depending on the configuration that is used), type `mkfs.xfs /dev/sdb`.\n",
    "6. Use `blkid /dev/sdb` to get the UUID that is set for the XFS file system that you have just created on /dev/sdb.\n",
    "7. Create a mount point for the iSCSI disk, using `mkdir /mnt/iscsi`.\n",
    "8. Type `vim /etc/fstab` to open the /etc/fstab file in an editor and add a line that looks like the following. (Make sure to replace the UUID with the UUID you have found in step 6 of this exercise.)\n",
    "`UUID=XXXXXXXX-XXXX-XXXX-XXXXXX /mnt/iscsi       xfs _netdev   0 2`\n",
    "\n",
    "9. Type `mount -a`. This should mount the iSCSI disk. Type mount without any arguments to verify."
   ]
  },
  {
   "cell_type": "markdown",
   "metadata": {},
   "source": [
    "### Setting Up Remote Logging\n",
    "In this exercise, you configure server2 to receive messages from remote rsyslogd processes. You define the rsyslogd configuration on server1 to forward messages to server2 and open a firewall port on server2 that allows for log file message reception.\n",
    "- Open a root shell on server2. Then, open the configuration file /etc/rsyslog.conf.\n",
    "- In rsyslog.conf enable the following two lines to enable log reception on TCP port 514:\n",
    "\n",
    "```\n",
    "$ModLoad imtcp\n",
    "$InputTCPServerRun 514\n",
    "```\n",
    "\n",
    "\n",
    "- Close the configuration file and type systemctl restart rsyslog.service to restart the rsyslogd service. This allows the rsyslogd process on the log server to receive messages from others.\n",
    "\n",
    "`systemctl list-unit-files --all | grep enable | grep rsyslog`\n",
    "\n",
    "- Still on server2, open the firewall to accept messages on TCP port 514, using the following two lines:\n",
    "\n",
    "```\n",
    "firewall-cmd --add-port=514/tcp\n",
    "firewall-cmd --add-port=514/tcp --permanent\n",
    "```\n",
    "\n",
    "- Open a root shell on server1, and scroll down to the end of the configuration file. Here, you find the following example configuration line:\n",
    "\n",
    "```\n",
    "#*.* @@remote-host:514\n",
    "```\n",
    "\n",
    "This line shows how to configure your server to forward messages to a remote server. Change this line to read like the following to forward messages to rsyslogd on server2:\n",
    "Click here to view code image\n",
    "\n",
    "```\n",
    "*.*       @@server2.example.com:514\n",
    "```\n",
    "\n",
    "- Use `systemctl restart rsyslog` to restart the rsyslogd process and start logging to the remote server.\n",
    "- On server1 use logger command to test remote logging:\n",
    "\n",
    "`logger test`\n",
    "\n",
    "- On server2 do: `tail -f /var/log/messages` and you shoud see log entry like:\n",
    "`Dec 9 18:21:05 server1 user: test`"
   ]
  },
  {
   "cell_type": "markdown",
   "metadata": {},
   "source": [
    "### Configuring Port Forwarding\n",
    "\n",
    "To complete this exercise, you need two servers. Port forwarding is configured on server1, and server2 is used for testing purposes. Do not make permanent configurations; they might interfere with tasks you need to accomplish in exercises in upcoming chapters.\n",
    "\n",
    "1. On server1, type `firewall-cmd --add-forward-port=port=4404:proto=tcp:toport=22`.\n",
    "2. From server2, use `ssh -p 4044 server1` to verify that the ssh service can now be reached on port 4044 also. Note that because this is a same-host configuration, no additional masquerading rules are needed.\n"
   ]
  },
  {
   "cell_type": "code",
   "execution_count": null,
   "metadata": {
    "collapsed": true
   },
   "outputs": [],
   "source": []
  }
 ],
 "metadata": {
  "kernelspec": {
   "display_name": "Python 2",
   "language": "python",
   "name": "python2"
  },
  "language_info": {
   "codemirror_mode": {
    "name": "ipython",
    "version": 2
   },
   "file_extension": ".py",
   "mimetype": "text/x-python",
   "name": "python",
   "nbconvert_exporter": "python",
   "pygments_lexer": "ipython2",
   "version": "2.7.12"
  }
 },
 "nbformat": 4,
 "nbformat_minor": 0
}
