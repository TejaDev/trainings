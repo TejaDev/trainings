{
 "cells": [
  {
   "cell_type": "markdown",
   "metadata": {},
   "source": [
    "## Authentication"
   ]
  },
  {
   "cell_type": "markdown",
   "metadata": {},
   "source": [
    "- Redhat identity management\n",
    "- FreeIPA (Identity, Policy, Audit)\n",
    "- NTP, DNS, LDAP, Kerberos, certs\n",
    "- ipa-server-install\n",
    "- need to have valid kerberos ticket for ipa\n",
    "\n",
    "- https://www.freeipa.org/page/Quick_Start_Guide\n",
    "- https://www.certdepot.net/rhel7-configure-freeipa-server/\n",
    "\n",
    "- to create user accounts:\n",
    "```\n",
    "kinit admin\n",
    "ipa user-add lisa\n",
    "ipa passwd lisa\n",
    "ipa user-find lisa\n",
    "```\n",
    "\n",
    "- authcofig tool to configure authentication\n",
    "\n",
    "- Steps:\n",
    "\n",
    "```\n",
    "yum -y install ipa-server bind-dyndb-ldap\n",
    "ipa-server-install\n",
    "systemctl restart sshd # to obtain Kerberos credentials\n",
    "kinit admin  # verify kerberos authentication\n",
    "ipa user-find admin # verify ipa access\n",
    "```\n",
    "\n",
    "#### IMPORTANT\n",
    "To get an overview of the current configuration and to learn which services are used, use the command:\n",
    "**```authconfig --test```**\n",
    "\n",
    "To install **sssd** and related packages, use **``yum group install “Directory Client”``** before configuring any network authentication client.\n",
    "\n",
    "Make sure that the file /etc/sysconfig/authconfig contains the following parameters before you run any of the authconfig utilities. These parameters enforce SSSD to be used for authentication. The FORCELEGACY parameter refers to nslcd. By setting it to no, you switch off nslcd use:\n",
    "**USESSSD=yes\n",
    "FORCELEGACY=no\n",
    "USESSSDAUTH=yes**"
   ]
  },
  {
   "cell_type": "markdown",
   "metadata": {},
   "source": [
    "#### Kerberos tickets\n",
    "\n",
    "to be able to manage IdM Server, you need to log in to IdM Domain to get a Kerberos ticket for the admin\n",
    "\n",
    "- IMPORTANT, before doing anything, generate ticket: **```kinit admin```**\n",
    "- show ticket validity: **```klist```**"
   ]
  },
  {
   "cell_type": "markdown",
   "metadata": {},
   "source": [
    "Authconfig\n",
    "\n",
    "- configuration files\n",
    "```\n",
    "/etc/sysconfig/authconfig\n",
    "/etc/sssd/sssd.conf\n",
    "/etc/krb5.cfg\n",
    "/etc/nsswitch.conf\n",
    "/etc/nslcd.conf  # old LDAP configuration file, now use /etc/sssd/sssd.conf instead\n",
    "```"
   ]
  },
  {
   "cell_type": "markdown",
   "metadata": {},
   "source": [
    "Exercise authconfig\n",
    "\n",
    "- set up server2 as an IdM server\n",
    "\n",
    "```\n",
    "ssh server2\n",
    "\n",
    "systemctl stop firewall # rembmer to start after\n",
    "cat > /etc/hosts <<EOF\n",
    "192.168.4.101 server1.example.com server1\n",
    "192.168.4.102 server2.example.com server2 \n",
    "EOF\n",
    "\n",
    "yum -y install ipa-server bind nds-ldap bind-dyndb-ldap\n",
    "\n",
    "ipa-server-install\n",
    "    > yes to configure BIND\n",
    "    > server2.example.com as host name\n",
    "    > DNS forwarder yes\n",
    "    > DNS forwarder: 8.8.8.8\n",
    "\n",
    "systemclt restart sshd\n",
    "knit admin\n",
    "ip user-find admin\n",
    "```\n",
    "\n",
    "- create two users: lisa and lori, with the password: password\n",
    "\n",
    "```\n",
    "ipa user-add lisa\n",
    "ipa passwd lisa\n",
    "ipa user-find lisa\n",
    "```\n",
    "\n",
    "- configure your server as a Kerberos client to itself\n",
    "\n",
    "```\n",
    "ssh server1\n",
    "cat > /etc/hosts <<EOF\n",
    "192.168.4.101 server1.example.com server1\n",
    "192.168.4.102 server2.example.com server2 \n",
    "EOF\n",
    "\n",
    "authconfig-tui\n",
    "    > Use LDAP\n",
    "    > Use Kerberos Authentication\n",
    "    > ldap://server2.example.com\n",
    "    > Kerberos settings: Realm: EXAMPLE.COM\n",
    "    > use KDC to locate realm \n",
    "\n",
    "```\n",
    "\n",
    "- test logging in as one of the use"
   ]
  },
  {
   "cell_type": "markdown",
   "metadata": {},
   "source": [
    "## iSCSI"
   ]
  },
  {
   "cell_type": "markdown",
   "metadata": {},
   "source": [
    "https://www.certdepot.net/rhel7-configure-iscsi-target-initiator-persistently/\n",
    "\n",
    "iSCSI Configuration (Internet SCSI, Internet Small Computer Systems Interface)\n",
    "\n",
    "- it provides block-level access to storage devices over a TCP/IP network\n",
    "- iSCSI can be used to transmit data over local area networks (LANs), wide area networks (WANs), or the Internet and can enable location-independent data storage and retrieval\n",
    "- much cheaper than fibre chanel, it uses ethernet cable\n",
    "- it is a storage area network (SAN) protocol"
   ]
  },
  {
   "cell_type": "markdown",
   "metadata": {},
   "source": [
    "#### Terminology\n",
    "\n",
    "- **IQN**: iSCSI Qualified Name, to identify targets and initiators, it can be used in security\n",
    "- Initiator: iSCSI client, identified by an IQN\n",
    "- Target: the service on an iSCSI server that gives access to the backend services (SAN)\n",
    "- ACL: Access Control List\n",
    "- discovery: process where initiator find the targets configured on portal\n",
    "- Portal: ip address and port use by target\n",
    "- **LUN**: logical unit, the block devices shared through the target\n",
    "- **TPG**: target portal group, collection of IP addresses and tcp ports to which iscsi target will listen"
   ]
  },
  {
   "cell_type": "code",
   "execution_count": 5,
   "metadata": {
    "collapsed": false
   },
   "outputs": [
    {
     "name": "stdout",
     "output_type": "stream",
     "text": [
      "major minor  #blocks  name\r\n",
      "\r\n",
      "   8        0  234431064 sda\r\n",
      "   8        1     204800 sda1\r\n",
      "   8        2     256000 sda2\r\n",
      "   8        3   61747200 sda3\r\n",
      "   8        4  172222023 sda4\r\n",
      "  11        0    1048575 sr0\r\n",
      " 253        0   61745152 dm-0\r\n",
      " 253        1   26214400 dm-1\r\n",
      " 253        2    4063232 dm-2\r\n",
      " 253        3   67108864 dm-3\r\n",
      " 253        4   73400320 dm-4\r\n",
      " 253        5   31457280 dm-5\r\n"
     ]
    }
   ],
   "source": [
    "! cat /proc/partitions"
   ]
  },
  {
   "cell_type": "code",
   "execution_count": 6,
   "metadata": {
    "collapsed": false
   },
   "outputs": [
    {
     "name": "stdout",
     "output_type": "stream",
     "text": [
      "[0:0:0:0]    disk    ATA      ADATA SP550      3B5a  /dev/sda \r\n",
      "[1:0:0:0]    cd/dvd  HL-DT-ST DVD+-RW GU90N    A1B0  /dev/sr0 \r\n"
     ]
    }
   ],
   "source": [
    "# yum -y install lsscsi\n",
    "!lsscsi"
   ]
  },
  {
   "cell_type": "markdown",
   "metadata": {},
   "source": [
    "#### configurations\n",
    "\n",
    "- to install iscsi tools: ```yum install -y targetcli```\n",
    "\n",
    "- commands to create new block, iscsi SAN (on server2)\n",
    "\n",
    "```\n",
    "targetcli\n",
    "    > ls\n",
    "    > cd backstores\n",
    "    > block/ create block1 /dev/vgsan/lvsan1 # it creates block storage object block1 using /dev/vgsan/lvsan1\n",
    "    > ls\n",
    "\n",
    "    > cd iscsi\n",
    "    > create iqn.2016-09.com.example.com:target1  # create target\n",
    "\n",
    "    # to create acls\n",
    "    > cd iqn.2016-09.com.example.com:target1\n",
    "    > cd tpg1\n",
    "    > acls create iqn.2016-09.com.example.com:server2\n",
    "\n",
    "    # to create luns\n",
    "    > luns/ create /backstores/block/block1\n",
    "\n",
    "    # to create portal\n",
    "    > portals/ create IPADDRESS\n",
    "\n",
    "# it saves configuration to file /etc/target/saveconfig.json\n",
    "\n",
    "# open firewall 3260 tcp\n",
    "\n",
    "firewall-cmd --add-port=3260/tcp --permanent\n",
    "fiewall-cmd --reload\n",
    "systemctl enable target\n",
    "systemctl start target\n",
    "```\n",
    "\n",
    "- commands to create iscsi Initiator (client, on server1)\n",
    "\n",
    "```\n",
    "yum install -y iscsi-initiator-utils\n",
    "\n",
    "# set initiator name\n",
    "vim /etc/iscsi/initiatorname.iscsi\n",
    "\n",
    "# RESTART iscsid\n",
    "systemctl restart iscsid\n",
    "\n",
    "# to find examples\n",
    "man iscsiadm\n",
    "\n",
    "iscsiadm --mode discoverydb --type sendtargets --portal TARGET_IPADDR --discover\n",
    "\n",
    "iscsiadm --mode node --targetname TARGET_IQN --portal TARGET_IPADDR --login\n",
    "\n",
    "yum -y install lsscsi\n",
    "lsscsi  - will show new devices\n",
    "\n",
    "# should show portal information file\n",
    "ls /var/lib/iscsi/nodes\n",
    "\n",
    "# important to logout\n",
    "iscsiadm --mode node --targetname TARGET_IQN --portal TARGET_IPADDR --logout\n",
    "```\n",
    "\n",
    "- verifying the iscsi connection\n",
    "\n",
    "```\n",
    "# on client\n",
    "iscsiadm -m session -P 3\n",
    "iscsiadm -m node -P 3\n",
    "iscsiadm -m discovery -P 3\n",
    "\n",
    "# on target\n",
    "targetcli\n",
    "```\n",
    "\n",
    "- Examples in doc: ```man targetcli```\n",
    "\n",
    "- **IMPORTANT: to mount network device use ```_netdev``` option in fstab**\n",
    "- before mounting you need to create format device first, e.g: mkfs.xft /dev/sdc and then mount using UUID\n",
    "- If you want to make it easy to create an iSCSI configuration, study man 8 iscsiadm. "
   ]
  },
  {
   "cell_type": "markdown",
   "metadata": {
    "collapsed": true
   },
   "source": [
    "## System performance monitoring"
   ]
  },
  {
   "cell_type": "markdown",
   "metadata": {},
   "source": [
    "SAR (System Activity Reporter)\n",
    "\n",
    "- to have SAR you need to install **sysstat** package: `yum install -y sysstat`\n",
    "- config file: `/etc/sysconfig/sysstat`\n",
    "- run by cron:  `/etc/cron.d/sysstat`\n",
    "- data is written to `/var/log/sa`"
   ]
  },
  {
   "cell_type": "code",
   "execution_count": 11,
   "metadata": {
    "collapsed": false
   },
   "outputs": [
    {
     "name": "stdout",
     "output_type": "stream",
     "text": [
      "10:30:07    virbr0-nic      0.00      0.00      0.00      0.00      0.00      0.00      0.00      0.00\r\n",
      "10:30:07       wlp6s0    223.90    103.49    167.71     10.11      0.00      0.00      0.00      0.00\r\n",
      "10:30:07       virbr0      0.00      0.00      0.00      0.00      0.00      0.00      0.00      0.00\r\n",
      "10:30:07       enp7s0      0.00      0.00      0.00      0.00      0.00      0.00      0.00      0.00\r\n",
      "10:30:07           lo      0.24      0.24      0.11      0.11      0.00      0.00      0.00      0.00\r\n",
      "Average:    virbr0-nic      0.00      0.00      0.00      0.00      0.00      0.00      0.00      0.00\r\n",
      "Average:       wlp6s0     54.39     25.57     40.21      2.60      0.00      0.00      0.00      0.00\r\n",
      "Average:       virbr0      0.00      0.00      0.00      0.00      0.00      0.00      0.00      0.00\r\n",
      "Average:       enp7s0      0.00      0.00      0.00      0.00      0.00      0.00      0.00      0.00\r\n",
      "Average:           lo      0.11      0.11      0.40      0.40      0.00      0.00      0.00      0.00\r\n"
     ]
    }
   ],
   "source": [
    "# network info\n",
    "! LANG=C sar -n DEV | tail -n 10"
   ]
  },
  {
   "cell_type": "code",
   "execution_count": null,
   "metadata": {
    "collapsed": true
   },
   "outputs": [],
   "source": [
    "# set up sar to collect data every 5 minutes, display CPU usage and network usage\n",
    "\n",
    "sar -P 0\n",
    "sar -n DEV"
   ]
  },
  {
   "cell_type": "code",
   "execution_count": null,
   "metadata": {
    "collapsed": true
   },
   "outputs": [],
   "source": [
    "# use sar to generate an overview of the queue length and load averages at any given moment\n",
    "\n",
    "sar -q"
   ]
  },
  {
   "cell_type": "code",
   "execution_count": 1,
   "metadata": {
    "collapsed": false
   },
   "outputs": [
    {
     "name": "stdout",
     "output_type": "stream",
     "text": [
      "CmaTotal:              0 kB\r\n",
      "CmaFree:               0 kB\r\n",
      "HugePages_Total:       0\r\n",
      "HugePages_Free:        0\r\n",
      "HugePages_Rsvd:        0\r\n",
      "HugePages_Surp:        0\r\n",
      "Hugepagesize:       2048 kB\r\n",
      "DirectMap4k:      191564 kB\r\n",
      "DirectMap2M:     3911680 kB\r\n",
      "DirectMap1G:           0 kB\r\n"
     ]
    }
   ],
   "source": [
    "! cat /proc/meminfo |  tail -n 10"
   ]
  },
  {
   "cell_type": "code",
   "execution_count": 2,
   "metadata": {
    "collapsed": false
   },
   "outputs": [
    {
     "name": "stdout",
     "output_type": "stream",
     "text": [
      "procs -----------memory---------- ---swap-- -----io---- -system-- ------cpu-----\r\n",
      " r  b   swpd   free   buff  cache   si   so    bi    bo   in   cs us sy id wa st\r\n",
      " 2  0  23000  38012  13952 1559876    0    1    56    40  335  608  1  2 97  0  0\r\n"
     ]
    }
   ],
   "source": [
    "! vmstat"
   ]
  },
  {
   "cell_type": "markdown",
   "metadata": {},
   "source": [
    "## System Optimization Basics"
   ]
  },
  {
   "cell_type": "code",
   "execution_count": 12,
   "metadata": {
    "collapsed": false
   },
   "outputs": [
    {
     "name": "stdout",
     "output_type": "stream",
     "text": [
      "abi  crypto  debug  dev  fs  kernel  net  sunrpc  vm\r\n"
     ]
    }
   ],
   "source": [
    "! ls /proc/sys"
   ]
  },
  {
   "cell_type": "markdown",
   "metadata": {},
   "source": [
    "sysctl settings are defined through files in\n",
    "- /usr/lib/sysctl.d/\n",
    "- /run/sysctl.d/\n",
    "- /etc/sysctl.d/"
   ]
  },
  {
   "cell_type": "code",
   "execution_count": 11,
   "metadata": {
    "collapsed": false
   },
   "outputs": [
    {
     "name": "stdout",
     "output_type": "stream",
     "text": [
      "vm.overcommit_ratio = 50\r\n",
      "vm.page-cluster = 3\r\n",
      "vm.panic_on_oom = 0\r\n",
      "vm.percpu_pagelist_fraction = 0\r\n",
      "vm.stat_interval = 1\r\n",
      "vm.swappiness = 60\r\n",
      "vm.user_reserve_kbytes = 122375\r\n",
      "vm.vfs_cache_pressure = 100\r\n",
      "vm.watermark_scale_factor = 10\r\n",
      "vm.zone_reclaim_mode = 0\r\n"
     ]
    }
   ],
   "source": [
    "! sysctl -a 2> /dev/null | tail -n10"
   ]
  },
  {
   "cell_type": "code",
   "execution_count": 14,
   "metadata": {
    "collapsed": false,
    "scrolled": true
   },
   "outputs": [],
   "source": [
    "# turn off ICMP\n",
    "\n",
    "!# echo 1 > /proc/sys/net/ipv4/icmp_echo_ignore_all = 0\n",
    "\n",
    "# cat > /etc/sysctl.conf <<EOF\n",
    "#net.ipv4.icmp_echo_ignore_all = 0\n",
    "#EOF"
   ]
  },
  {
   "cell_type": "markdown",
   "metadata": {},
   "source": [
    "## Logging"
   ]
  },
  {
   "cell_type": "markdown",
   "metadata": {},
   "source": [
    "#### Connecting Journald to Rsyslog\n",
    "\n",
    "In /etc/rsyslog.conf\n",
    "\n",
    "`\n",
    "$ModLoad imuxsock\n",
    "$OmitLocalLogging off\n",
    "$ModLoad omjournal     # sending to journal \n",
    "*.* :omjournal:        # om - output module, im - input module\n",
    "`\n",
    "\n",
    "In /etc/rsyslog.d/listend.conf\n",
    "\n",
    "`\n",
    "$SystemLogSocketName /run/systemd/journal/syslog\n",
    "`"
   ]
  },
  {
   "cell_type": "markdown",
   "metadata": {},
   "source": [
    "- configure server1 as a log server\n",
    "\n",
    "```\n",
    "vim /etc/rsyslog.conf\n",
    "    > $ModLoad imuxsock   # provides support for local system logging (e.g. via logger command)\n",
    "    > $OmitLocalLogging off\n",
    "    > $ModLoad imjournal  # provides access to the systemd journal\n",
    "   \n",
    "vim /etc/rsyslog.d/listend.conf\n",
    "    > $SystemLogSocketName /run/systemd/journal/syslog\n",
    "```\n",
    "\n",
    "- from server2 send all logs to server1\n",
    "- https://devops.profitbricks.com/tutorials/configure-remote-logging-with-rsyslog/\n",
    "\n",
    "\n",
    "```\n",
    "vim /etc/rsyslog.conf\n",
    "    > $ModLoad imtcp           # Provides TCP syslog reception\n",
    "    > $InputTCPServerRun 514   # @@ for TCP, @ for UDP\n",
    "    > *.* @@server1:514        # or local6.info @10.11.12.13:514 to send particular logs\n",
    "\n",
    "```\n",
    "\n",
    "- http://linux.byexamples.com/archives/412/syslog-sending-log-from-remote-servers-to-syslog-daemon/\n",
    "\n",
    "- Facility defines the source of the log entries, what kind of services that send this logs\n",
    "- Severity is the log levels that defines how critical of the log entries, from 0 – 7, 0 indicates the most critical and 7 is for debugging purpose\n",
    "\n",
    "- `facility.severity         log_files`\n",
    "- `user.notice              /var/log/user.notice`"
   ]
  },
  {
   "cell_type": "markdown",
   "metadata": {},
   "source": [
    "## Networking\n",
    "\n",
    "`man nmcli-examples`\n",
    "\n",
    "\n",
    "#### Network Bridges\n",
    "\n",
    "`yum install bridge-utils`"
   ]
  },
  {
   "cell_type": "code",
   "execution_count": 15,
   "metadata": {
    "collapsed": false
   },
   "outputs": [
    {
     "name": "stdout",
     "output_type": "stream",
     "text": [
      "Kernel IP routing table\r\n",
      "Destination     Gateway         Genmask         Flags   MSS Window  irtt Iface\r\n",
      "0.0.0.0         192.168.1.1     0.0.0.0         UG        0 0          0 wlp6s0\r\n",
      "10.0.0.0        0.0.0.0         255.255.255.0   U         0 0          0 vboxnet1\r\n",
      "172.28.128.0    0.0.0.0         255.255.255.0   U         0 0          0 vboxnet0\r\n",
      "192.168.1.0     0.0.0.0         255.255.255.0   U         0 0          0 wlp6s0\r\n",
      "192.168.124.0   0.0.0.0         255.255.255.0   U         0 0          0 virbr0\r\n"
     ]
    }
   ],
   "source": [
    "! netstat -rn"
   ]
  },
  {
   "cell_type": "code",
   "execution_count": 18,
   "metadata": {
    "collapsed": false
   },
   "outputs": [
    {
     "name": "stdout",
     "output_type": "stream",
     "text": [
      "bridge name\tbridge id\t\tSTP enabled\tinterfaces\r\n",
      "virbr0\t\t8000.525400f67c4e\tyes\t\tvirbr0-nic\r\n"
     ]
    }
   ],
   "source": [
    "# ethernet bridge administration\n",
    "! brctl show"
   ]
  },
  {
   "cell_type": "code",
   "execution_count": 22,
   "metadata": {
    "collapsed": false
   },
   "outputs": [
    {
     "name": "stdout",
     "output_type": "stream",
     "text": [
      "1: lo: <LOOPBACK,UP,LOWER_UP> mtu 65536 qdisc noqueue state UNKNOWN mode DEFAULT group default \r\n",
      "    link/loopback 00:00:00:00:00:00 brd 00:00:00:00:00:00\r\n",
      "2: enp7s0: <NO-CARRIER,BROADCAST,MULTICAST,UP> mtu 1500 qdisc fq_codel state DOWN mode DEFAULT group default qlen 1000\r\n",
      "    link/ether 34:e6:d7:50:ce:34 brd ff:ff:ff:ff:ff:ff\r\n",
      "3: wlp6s0: <BROADCAST,MULTICAST,UP,LOWER_UP> mtu 1500 qdisc mq state UP mode DORMANT group default qlen 1000\r\n",
      "    link/ether f4:06:69:57:e0:f9 brd ff:ff:ff:ff:ff:ff\r\n",
      "4: virbr0: <NO-CARRIER,BROADCAST,MULTICAST,UP> mtu 1500 qdisc noqueue state DOWN mode DEFAULT group default qlen 1000\r\n",
      "    link/ether 52:54:00:f6:7c:4e brd ff:ff:ff:ff:ff:ff\r\n",
      "5: virbr0-nic: <BROADCAST,MULTICAST> mtu 1500 qdisc noqueue master virbr0 state DOWN mode DEFAULT group default qlen 500\r\n",
      "    link/ether 52:54:00:f6:7c:4e brd ff:ff:ff:ff:ff:ff\r\n",
      "6: vboxnet0: <BROADCAST,MULTICAST> mtu 1500 qdisc noop state DOWN mode DEFAULT group default qlen 1000\r\n",
      "    link/ether 0a:00:27:00:00:00 brd ff:ff:ff:ff:ff:ff\r\n",
      "7: vboxnet1: <BROADCAST,MULTICAST> mtu 1500 qdisc noop state DOWN mode DEFAULT group default qlen 1000\r\n",
      "    link/ether 0a:00:27:00:00:01 brd ff:ff:ff:ff:ff:ff\r\n"
     ]
    }
   ],
   "source": [
    "! ip link show"
   ]
  },
  {
   "cell_type": "markdown",
   "metadata": {
    "collapsed": true
   },
   "source": [
    "## Firewall"
   ]
  },
  {
   "cell_type": "markdown",
   "metadata": {},
   "source": [
    "#### Configuring Masquerading\n",
    "\n",
    "- This command masquerades packets coming from all hosts in that specific zone\n",
    "`firewall-cmd --permanent --zone=dmz --add-masquerade`\n",
    "\n",
    "- Specify a limited number of IP addresses of private hosts for which packets need to be masqueraded,\n",
    "`firewall-cmd --permanent --zone=<ZONE> --add-rich-rule='rule family=ipv4 source address=10.0.0.0/24 masquerade'`\n",
    "\n",
    "#### Configuring Port Forwarding\n",
    "- If you want to forward all packets coming in at port 2022 on the NAT router to an SSH process on internal host 10.0.0.10\n",
    "`firewall-cmd --permanent --zone=public --add-forward-port=port=2022:proto=tcp:toport=22:toaddr=10.0.0.10`\n",
    "\n",
    "\n",
    "#### Rich language\n",
    "\n",
    "- All packets that are addressed to the SSH services should be logged with a maximum of two packets per minute. The messages should be logged with the “debug” log level, and the prefix \"SSH: \".\n",
    "`firewall-cmd --add-rich-rule='rule service name=\"ssh\" log prefix=\"SSH\" level=\"debug\" limit value=\"2/m\" accept' --zone=dmz`\n",
    "\n",
    "- If packets are coming from the host with IP address 10.0.1.1 and are addressed to port 80 they should be accepted.\n",
    "`firewall-cmd --add-rich-rule='rule family=ipv4 source address=10.0.0.1 port port=80 protocol=tcp accept' --zone=dmz`"
   ]
  },
  {
   "cell_type": "markdown",
   "metadata": {},
   "source": [
    "- configure service with the name myservice, accessing port: 2022\n",
    "\n",
    "```\n",
    "cp /usr/lib/firewalld/services/ssh.xml /etc/firewalld/services/myservice.xml\n",
    "    > update port from 22 to 2022\n",
    "    \n",
    "vim /etc/ssh/sshd_config \n",
    "    > change listening port to 2022\n",
    "    \n",
    "semanage port -l | grep ssh\n",
    "semanage port -a -t ssh_port_t -p tcp 2022\n",
    "\n",
    "systemctl restart sshd\n",
    "\n",
    "firewall-cmd --get-services\n",
    "firewall-cmd --add-service=myservice --permanent\n",
    "firewall-cmd --reload\n",
    "```\n",
    "\n",
    "- on server1 configure port forwarding to make sure the SSHD process is available on port 2222\n",
    "\n",
    "`\n",
    "firewall-cmd --permanent --zone=public --add-forward-port=port=2222:proto=tcp:toport=2022\n",
    "`"
   ]
  },
  {
   "cell_type": "markdown",
   "metadata": {},
   "source": [
    "## Apache\n",
    "\n"
   ]
  },
  {
   "cell_type": "markdown",
   "metadata": {},
   "source": [
    "- main configuration: `/etc/httpd/conf/httpd.conf`\n",
    "- to check configuration syntax use: `httpd -t`\n",
    "- modules: `/etc/httpd/conf.modules.d`\n",
    "\n",
    "###### **IMPORTANT**:to have access to http manuall\n",
    "\n",
    "`yum install -y httpd-manual` and to run `firefox http://localhost/manual`\n",
    "\n",
    "`yum install -y elinks` \n",
    "\n",
    "`firewall-cmd --permanent --add-service=http --add-service=https`\n",
    "\n",
    "- to check SELinux: ` ls -Zd /var/www/html`\n",
    "- to set SELinux on dir: `semanage fcontext -a -t httpd_sys_content_t '/web(/.*)?' && restorecon -R -v /web`\n",
    "\n",
    "##### to set access for web developers to web dir\n",
    "\n",
    "```\n",
    "groupadd webdev\n",
    "setfacl -R -m g:webdev:rwX /web\n",
    "setfacl -R -m d:g:webdev:rwX /web\n",
    "getfacl /web\n",
    "```\n",
    "\n",
    "##### to quickly check http logs\n",
    "\n",
    "`systemctl status -l httpd` or `journalctl UNIT=httpd.service`"
   ]
  },
  {
   "cell_type": "markdown",
   "metadata": {},
   "source": [
    "#### Configuring Apache Virtual Hosts\n",
    "\n",
    "Example to copy is here: /usr/share/doc/httpd-2.4.6/httpd-vhosts.conf\n",
    "\n",
    "- `apachectl configtest`\n",
    "- `httpd -D DUMP_VHOSTS`"
   ]
  },
  {
   "cell_type": "markdown",
   "metadata": {
    "collapsed": true
   },
   "source": [
    "#### Http authentication\n",
    "\n",
    "`htpasswd -c /usr/local/apache/passwd/passwords username`\n"
   ]
  },
  {
   "cell_type": "markdown",
   "metadata": {},
   "source": [
    "#### TLS Protected Web Sites\n",
    "\n",
    "```\n",
    "yum install -y crypto-utils mod_ssl\n",
    "genkey server1.example.com   # it creates 2 keys to encrypt SSL trafic, keys are in /etc/pki/tls\n",
    "\n",
    "vim /etc/httpd/conf.d/ssl.conf\n",
    "    > SSLCertificateFile    /etc/pki/tls/certs/server1.example.com.crt\n",
    "    > SSLCertificateKeyFile /etc/pki/tls/private/server1.example.com.key\n",
    "    > To configure a virtual host, start by changing the VirtualHost _default_:443 line to VirtualHost *:443. Then, change the ServerName to the name used in the certificate, with a syntax like sales.example.com:443.\n",
    "    \n",
    "systemctl restart httpd\n",
    "```\n",
    "\n",
    "- VirtualHost example\n",
    "\n",
    "```\n",
    "<VirtualHost *:80>\n",
    "    ServerAdmin\n",
    "    webmaster@sales.example.com\n",
    "    DocumentRoot /www/docs/sales.example.com\n",
    "    ServerName sales.example.com\n",
    "    ErrorLog logs/sales.example.com-error_log\n",
    "    CustomLog logs/sales.example.com-access_log common\n",
    "    Redirect permanent / https://sales.example.com/\n",
    "</VirtualHost>\n",
    "```"
   ]
  },
  {
   "cell_type": "markdown",
   "metadata": {},
   "source": [
    "#### Configuring Private Directories\n",
    "\n",
    "https://www.certdepot.net/rhel7-configure-apache-private-directories/\n",
    "\n",
    "```\n",
    "htpasswd -c /etc/httpd/htpasswd username\n",
    "<Directory /var/www/html/secret>\n",
    "          AuthType Basic\n",
    "          AuthName \"secret files\"\n",
    "          AuthUserFile /etc/httpd/htpasswd\n",
    "          Require valid-user\n",
    "</Directory>\n",
    "```"
   ]
  },
  {
   "cell_type": "markdown",
   "metadata": {
    "collapsed": true
   },
   "source": [
    "## DNS\n",
    "\n",
    "### Unbound\n",
    "\n",
    "- for cache only DNS, use unbound instead of BIND: `yum install -y unbound`\n",
    "- configuration in /etc/unbound/unbound.conf\n",
    "\n",
    "- http://www.tecmint.com/setup-dns-cache-server-in-centos-7/\n",
    "- https://hwarf.com/blog/dns-caching-forwarding-unbound \n",
    "\n",
    "##### how to set up cache only dns\n",
    "\n",
    "```\n",
    "vim /etc/unbound/unbound.conf\n",
    "    > interface: 0.0.0.0\n",
    "    > access-control: 0.0.0.0/0 allow\n",
    "    > forward-zone:\n",
    "        name: \".\"\n",
    "        forward-addr: 8.8.8.8\n",
    "       \n",
    "unbound-checkconf   # check for syntax error\n",
    "systemctl restart unbound\n",
    "\n",
    "firewall-cmd --permanent --add-service=dns\n",
    "firewall-cmd --reload\n",
    "```\n",
    "\n",
    "###### how to work with dns cache dumps\n",
    "\n",
    "```\n",
    "unbound-control dump_cache > cachefile\n",
    "```\n",
    "\n",
    "##### how to clean dns db\n",
    "\n",
    "```\n",
    "unbound-control flush google.com\n",
    "```\n",
    "\n",
    "##### load from cache\n",
    "\n",
    "```\n",
    "unbound-control load_cache cachefile\n",
    "```\n",
    "\n",
    "```\n",
    "unbound-control status\n",
    "```\n",
    "\n",
    "```\n",
    "unbound-control lookup google.com\n",
    "```\n",
    "\n",
    "#### How to test unbound\n",
    "```\n",
    "drill india.com @192.168.4.210\n",
    "unbound-control lookup india.com\n",
    "\n",
    "ping wp.pl\n",
    "unbound-control lookup wp.pl\n",
    "```"
   ]
  },
  {
   "cell_type": "markdown",
   "metadata": {},
   "source": [
    "### Bind\n",
    "\n",
    "##### how to set up cache only dns\n",
    "\n",
    "```\n",
    "yum install -y bind bind-utils\n",
    "\n",
    "vim /etc/named.conf\n",
    "    > listen-on port 53 { any; }; \n",
    "    > allow-query: { any; };\n",
    "    > dnssec-validation: no;\n",
    "    \n",
    "named-checkconf\n",
    "\n",
    "firewall-cmd --permanent --add-service=dns && firewall-cmd --reload\n",
    "\n",
    "systemctl enable named\n",
    "systemctl start named\n",
    "```\n",
    "\n",
    "##### to test local dns server\n",
    "\n",
    "```\n",
    "nslookup google.com 127.0.0.1\n",
    "digg @127.0.0.1 google.com\n",
    "```"
   ]
  },
  {
   "cell_type": "code",
   "execution_count": 1,
   "metadata": {
    "collapsed": false
   },
   "outputs": [
    {
     "name": "stdout",
     "output_type": "stream",
     "text": [
      "\r\n",
      "; <<>> DiG 9.10.3-P3-RedHat-9.10.3-10.P3.fc23 <<>> -x 172.217.16.206\r\n",
      ";; global options: +cmd\r\n",
      ";; Got answer:\r\n",
      ";; ->>HEADER<<- opcode: QUERY, status: NOERROR, id: 7898\r\n",
      ";; flags: qr rd ra; QUERY: 1, ANSWER: 2, AUTHORITY: 0, ADDITIONAL: 0\r\n",
      "\r\n",
      ";; QUESTION SECTION:\r\n",
      ";206.16.217.172.in-addr.arpa.\tIN\tPTR\r\n",
      "\r\n",
      ";; ANSWER SECTION:\r\n",
      "206.16.217.172.in-addr.arpa. 8575 IN\tPTR\tfra16s08-in-f206.1e100.net.\r\n",
      "206.16.217.172.in-addr.arpa. 8575 IN\tPTR\tfra16s08-in-f14.1e100.net.\r\n",
      "\r\n",
      ";; Query time: 7 msec\r\n",
      ";; SERVER: 188.121.31.151#53(188.121.31.151)\r\n",
      ";; WHEN: Fri Sep 09 20:38:44 CEST 2016\r\n",
      ";; MSG SIZE  rcvd: 115\r\n",
      "\r\n"
     ]
    }
   ],
   "source": [
    "! dig -x 172.217.16.206"
   ]
  },
  {
   "cell_type": "markdown",
   "metadata": {},
   "source": [
    "## MariaDB\n",
    "\n",
    "##### Configuration\n",
    "\n",
    "```\n",
    "yum install -y mariadb mariadb-libs mariadb-test\n",
    "mysql_secure_installation\n",
    "\n",
    "vim /etc/my.cnf\n",
    "\n",
    "mysql -u root -h localhost -p\n",
    "```\n",
    "\n",
    "#### Backups\n",
    "\n",
    "######  logical backup - SQL dump\n",
    "\n",
    "```\n",
    "mysqldump -u root -p --all-databases > dump.sql  # backup\n",
    "mysqldump -u root -p < dump.sql  # restoring backup\n",
    "\n",
    "```\n",
    "\n",
    "###### physical backup (creating DB snapshot in LVM)\n",
    "\n",
    "```\n",
    "# find data directory to backup\n",
    "# let's assume that current DB is on /dev/vgdata/lvmysql disk\n",
    "\n",
    "mysqladmin -u root -p variables | grep datadir  #\n",
    "\n",
    "# check disk space in LVM\n",
    "vgs \n",
    "\n",
    "# Freeze database to be sure there are no modifications\n",
    "mysql -u root -p\n",
    "    > FLUSH TABLES WITH READ LOCK;\n",
    "    > UNLOCK TABLES;                 # IMPORTANT: unlock AFTER creating snapshot, see below!!!!\n",
    "    \n",
    "# from another terminal create an LVM snapshot\n",
    "# you can take 10% of disk size to create snapshot, so 2GB of snapshot if we have 20GB database\n",
    "\n",
    "lvcreate -L 2G --snapshot -n lvmysql-snapshot /dev/vgdata/lvmysql\n",
    "\n",
    "mkdir /mnt/snapshot\n",
    "mount /dev/vgdata/lvmysql-snapshot /mnt/snapshot\n",
    "tar -czvf /root/mysql-backup.tar.gz /mnt/snapshot\n",
    "umount /mnt/snapshot\n",
    "lvremove /dev/vgdata/lvmysql-snapshot\n",
    "```\n",
    "\n",
    "- to restore physical backup\n",
    "\n",
    "```\n",
    "systemctl stop mariadb\n",
    "rm /var/lib/mysql/* -rf\n",
    "tar xzvf /root/mysql-backup.tar.gz -C /\n",
    "```"
   ]
  },
  {
   "cell_type": "markdown",
   "metadata": {},
   "source": [
    "## Time services\n",
    "\n",
    "##### Chronyc\n",
    "- use timedatectl to set time on server1 one hour ahead\n",
    "\n",
    "`timedatectl time-set 16:00`\n",
    "\n",
    "- configure NTP synchronization on server1 and server2 to use NTP peers only; both should use on another as peers\n",
    "\n",
    "`timedatectl set-ntp on`\n",
    "\n",
    "- monitor time synchronization progress\n",
    "\n",
    "`\n",
    "chronyc sources -v\n",
    "chronyc tracking\n",
    "`\n",
    "\n",
    "##### NTP\n",
    "\n",
    "```\n",
    "systemctl start ntpd\n",
    "ntpq -p\n",
    "ntpstat\n",
    "\n",
    "vim /etc/ntp.conf\n",
    "    > comment out all servers\n",
    "    > server 127.127.1.0  # add local server\n",
    "    \n",
    "firewall-cmd --permanent --add-service=ntp\n",
    "\n",
    "```"
   ]
  },
  {
   "cell_type": "markdown",
   "metadata": {
    "collapsed": true
   },
   "source": [
    "## NFSv4\n",
    "\n",
    "- listens on 2049 port\n",
    "- for nfs 2 and 3, remember to install rpcbind (https://access.redhat.com/documentation/en-US/Red_Hat_Enterprise_Linux/7/html/Storage_Administration_Guide/s2-nfs-methodology-portmap.html)\n",
    "\n",
    "- in /etc/fstab mount NFS with `_netdev` option\n",
    "- check /var/lib/nfs/etab\n",
    "- man exportfs\n",
    "\n",
    "- important options in /etc/exports file\n",
    "\n",
    "```\n",
    "root_squash    -> map root UID/GID to anonymous UID/GID (nobody/nogroup); this is the default\n",
    "all_squash     -> map all UIDs/GIDs to anonymous UID/GID (nobody/nogroup)\n",
    "no_root_squash -> do not map root (nor any other) UID/GID to anonymous UID/GID (nobody/nogroup)\n",
    "\n",
    "```\n",
    "\n",
    "##### How to set up basic NFS share\n",
    "\n",
    "```\n",
    "vim /etc/exports\n",
    "    > /share *(rw,all_squash)\n",
    "    \n",
    "mkdir /share\n",
    "chown nfsnobody /share\n",
    "systemctl start nfs-server\n",
    "\n",
    "exportfs -r  # updates all shares, no nfs restart is needed\n",
    "\n",
    "showmount -e localhost\n",
    "```\n",
    "\n",
    "##### Accessing NFS share - client\n",
    "\n",
    "```\n",
    "yum install nfs-utils\n",
    "showmount -e server2\n",
    "mkdir /nfs\n",
    "mount server2:/share /nfs\n",
    "mount | grep nfs\n",
    "```\n",
    "\n",
    "##### set up shared directory for group\n",
    "\n",
    "- change directory owner to **nfsnobody**\n",
    "-  By default, NFS shares change the root user to user nfsnobody, an unprivileged user account. This way all root-created files are owned by user nfsnobody, which prevents uploading of programs with the setuid bit set.\n",
    "If no_root_squash is used, remote root users will be able to change any file on the shared file system and leave trojaned applications for other users to inadvertently execute.\n",
    "\n",
    "- do the same on client and server\n",
    "\n",
    "```\n",
    "groupadd -g 7654 nfsdatagrp\n",
    "usermod -G nfsdatagrp user1\n",
    "usermod -G nfsdatagrp user2\n",
    "\n",
    "mkdir /nfsdata\n",
    "chown nfsnobody:nfsdatagrp /nfsdata\n",
    "chmod 2770 /nfsdata\n",
    "```\n",
    "\n",
    "#### Using Kerberos to Control Access to NFS Network\n",
    "\n",
    "- SELinux boolean is required: **nfsd_anon_write**\n",
    "- SELinux context for directories: nfs_t \n",
    "- nfs-server and nfs-secure-server must be installed!!!\n",
    "- /etc/krb5.keytab is needed - it includes host principal, nfs principal\n",
    "- Kerberos principals are: accounts and keys for system\n",
    "- `klist -k` to view the contents of a keytab\n",
    "- remember to synchronize time using chrony and open 123 port\n",
    "\n",
    "\n",
    "#### setting up kerberized NFS server\n",
    "\n",
    "```\n",
    "- setting up kerberized NFS\n",
    "\n",
    "yum install nfs-secure-server nfs-server nfs-utils\n",
    "\n",
    "- copy krb5.keytab to /etc/krb5.keytab\n",
    "\n",
    "vim /etc/sysconfig/nfs\n",
    "    > RCNFSDARGS=\"-V 4.2\"\n",
    "\n",
    "systemctl start nfs-server\n",
    "systemctl start nfs-secure-server\n",
    "\n",
    "systemctl enable nfs-server\n",
    "systemctl enable nfs-secure-server\n",
    "\n",
    "mkdir /secureshare\n",
    "\n",
    "- set up SELinux context for directory\n",
    "getsebool -a | grep nfs_export   # to check if options are on or off, or semanage boolean -l\n",
    "\n",
    "setsebool -P nfs_export_all_ro=1\n",
    "setsebool -P nfs_export_all_rw=1\n",
    "\n",
    "semanage fcontext -a -t public_content_rw_t \"/secureshare(/.*)?\"\n",
    "restorecon -Rv /secureshare\n",
    "\n",
    "\n",
    "vim /etc/exports\n",
    "    > /secureshare *(sec=krb5p,rw)\n",
    "    \n",
    "exportfs -r\n",
    "\n",
    "firewall-cmd --permanent --add-service=nfs --add-service=rpc-bind --add-service=mountd\n",
    "fireall-cmd --reload\n",
    "\n",
    "- kerberos configuration, it is not required during RHCE exam, they will provide krb5.keytab\n",
    "\n",
    "kadmin\n",
    "    > addprinc -randkey host/server2.example.com   # add nfs server, configuration for client\n",
    "    > addprinc -randkey nfs/server2.example.com   # add nfs server, configuration for nfs\n",
    "    > ktadd host/server2.example.com               # create configuration for keytab file\n",
    "    > ktadd nfs/server2.example.com\n",
    "\n",
    "vim /etc/ssh/ssh_config\n",
    "    > GSSAPIAuthentication yes\n",
    "    > GSSAPIDelegateCredentials yes\n",
    "    \n",
    "systemctl reload sshd\n",
    "authconfig --enablekrb5 --update\n",
    "\n",
    "```\n",
    "\n",
    "#### setting up kerberized NFS client\n",
    "\n",
    "```\n",
    "yum install nfs-utils\n",
    "systemctl enable nfs-secure\n",
    "systemctl start nfs-secure\n",
    "\n",
    "mount -o sec=krb5p server2:/secureshare /mnt\n",
    "\n",
    "\n",
    "- optional: to regenerate krb5.keytab on client server\n",
    "\n",
    "kadmin\n",
    "    > addprinc -randkey nfs/server1.example.com\n",
    "    > ktadd nfs/server1.example.com\n",
    "    \n",
    "    \n",
    "systemctl enable nfs-client.target\n",
    "systemctl start nfs-client.target\n",
    "```\n",
    "\n",
    "### Different approach on RHEL 7.0 and 7.1\n",
    "\n",
    "#### RHEL 7.0\n",
    "\n",
    "on th server\n",
    "- install keytab\n",
    "- start and enable nfs-secure-server!!!\n",
    "- create the export with sec=krb5p\n",
    "\n",
    "on the client\n",
    "- install client keytab which contain host credentials\n",
    "- install nfs-utils!!!!!!!\n",
    "- start and enable nfs-secure\n",
    "- mount -o sec=krb5p server:/share\n",
    "- in fstab use `_netdev` option\n",
    "- kinit to get Kerberos client credentials, normally it is provided by PAM so there is no need to kinit\n",
    "\n",
    "#### RHEL 7.1\n",
    "\n",
    "- no need for nfs-secure-server!!\n",
    "- do not enable and start nfs-secure-server\n",
    "- no need to enable nfs-secure on the client!\n",
    "\n",
    "\n"
   ]
  },
  {
   "cell_type": "markdown",
   "metadata": {},
   "source": [
    "## Samba\n",
    "\n",
    "- sec=ntlmssp\n",
    "- SELinux: samba_share_t\n",
    "- samba_enable_home_dirs \n",
    "\n",
    "```\n",
    "smbclient -L //localhost\n",
    "\n",
    "yum whatprovides */cifs\n",
    "yum install -y cifs-utils\n",
    "\n",
    "```\n",
    "\n",
    "##### setting up smb share\n",
    "\n",
    "- /etc/samba/smb.conf\n",
    "- systemctl start smb nmb\n",
    "\n",
    "```\n",
    "mkdir /sambashare\n",
    "chmod 777 /sambashare\n",
    "\n",
    "useradd user1\n",
    "\n",
    "yum install samba samba-client cifs-utils\n",
    "\n",
    "vim /etc/samba/smb.conf\n",
    "    > workgroup = sambagroup\n",
    "    > hosts allow = 127. 192.168.12.  # you can also use firewalld instead hosts allow\n",
    "    > [sambashare]\n",
    "       comment = my share\n",
    "       path = /sambashare\n",
    "       valid users = +users\n",
    "       writable = yes\n",
    "       write list = +users\n",
    "       \n",
    "testparam  # to test smb configuration\n",
    "systemctl start samba\n",
    "systemctl enable samba\n",
    "\n",
    "smbclient -L //localhost\n",
    "\n",
    "smbpasswd -a user1\n",
    "\n",
    "mount -o username=user1 //localhost/sambashare /mnt\n",
    "\n",
    "- alternatively\n",
    "mount -o multiuser,sec=ntlmssp,username=user1,password=pass //localhost/sambashare /mnt\n",
    "\n",
    "- setting up the right file context\n",
    "man samba_selinux\n",
    "\n",
    "ls -Zd /sambashare\n",
    "semanage fcontext -a -t samba_share_t \"/sambashare(/.*)?\"\n",
    "restorecon -R -v /sambashare\n",
    "\n",
    "getsebool -a | grep samba\n",
    "setsebool -P samba_enable_home_dirs on\n",
    "\n",
    "firewall-cmd --permanent --add-service=samba\n",
    "firewall-cmd --reload\n",
    "\n",
    "cifscreds add -u user1 server1\n",
    "\n",
    "```\n",
    "\n",
    "##### setting up smb share with kerberos\n",
    "\n",
    "on the server\n",
    "```\n",
    "- install krb5.keytab\n",
    "\n",
    "vim /etc/samba/smb.conf\n",
    "    > security = ADS  # active directory services\n",
    "    > realm = KERBEROS_REALM # name of kerberos real\n",
    "    > encrypted password = yes\n",
    "    > kerberos method = secrets and keytab\n",
    "    > password server = ipa.example.com\n",
    "    \n",
    "```\n",
    "\n",
    "on the client\n",
    "\n",
    "```\n",
    "kinit username  # to obtain kerberos credentials\n",
    "smbclient -k -L //sambaserver\n",
    "```"
   ]
  },
  {
   "cell_type": "markdown",
   "metadata": {},
   "source": [
    "## SMTP\n",
    "\n",
    "```\n",
    "yum install -y postfix\n",
    "\n",
    "systemctl start postfix\n",
    "systemctl enable postfix\n",
    "\n",
    "vim /etc/postfix/main.cf\n",
    "    > inet_interfaces = all\n",
    "    > myorigin = example.com\n",
    "    > mydestination = example.com\n",
    "    > inet_protocols = ipv4\n",
    "    \n",
    "systemctl restart postfix\n",
    "\n",
    "postconf  # shows all used postfix parameters\n",
    "\n",
    "postconf -e \"inter_interfaces = all\"  # to set parameters in main.cf\n",
    "\n",
    "man 5 postconf\n",
    "\n",
    "postqueue -p  # show mails\n",
    "postqueue -f  # flus mails queue\n",
    "\n",
    "tail -f /var/log/maillog\n",
    "```\n",
    "\n",
    "##### Setting up null client\n",
    "\n",
    "```\n",
    "postconf -e \"relayhost=[server1.example.com]\"\n",
    "postconf -e \"inet_interfaces=loopback-only\"\n",
    "postconf -e \"inet_protocols=ipv4\"\n",
    "postconf -e \"mynetworks=127.0.0.0/8 [::1]/128\"\n",
    "postconf -e \"mydestination=\"\n",
    "\n",
    "mail -s \"test mail\" user1@server1.example.com < .\n",
    "\n",
    "ssh user1@server1.example.com\n",
    "postqueue -p\n",
    "\n",
    "```"
   ]
  },
  {
   "cell_type": "markdown",
   "metadata": {},
   "source": [
    "## SELinux\n",
    "\n",
    "##### Generating SELinux man pages for all services\n",
    "```\n",
    "man -k _selinux  # it shows only man for PAM, we need to install man pages for SELinux\n",
    "yum whatprovides */sepolicy\n",
    "yum install -y policycoreutils-devel\n",
    "\n",
    "man sepolicy-manpage\n",
    "sepolicy manpage -a -p /usr/share/man/man8\n",
    "\n",
    "mandb -c  # to update man database\n",
    "man -k _selinux\n",
    "```"
   ]
  },
  {
   "cell_type": "markdown",
   "metadata": {},
   "source": [
    "## Hints\n",
    "\n",
    "- to check open ports use nmap\n",
    "\n",
    "```\n",
    "nmap server1\n",
    "```\n",
    "\n",
    "- /etc/resolv.conf for DNS nameserver"
   ]
  },
  {
   "cell_type": "code",
   "execution_count": null,
   "metadata": {
    "collapsed": true
   },
   "outputs": [],
   "source": []
  }
 ],
 "metadata": {
  "kernelspec": {
   "display_name": "Python 2",
   "language": "python",
   "name": "python2"
  },
  "language_info": {
   "codemirror_mode": {
    "name": "ipython",
    "version": 2
   },
   "file_extension": ".py",
   "mimetype": "text/x-python",
   "name": "python",
   "nbconvert_exporter": "python",
   "pygments_lexer": "ipython2",
   "version": "2.7.12"
  }
 },
 "nbformat": 4,
 "nbformat_minor": 0
}
