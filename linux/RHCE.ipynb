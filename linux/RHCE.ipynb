{
 "cells": [
  {
   "cell_type": "markdown",
   "metadata": {},
   "source": [
    "- Redhat identity management\n",
    "- FreeIPA (Identity, Policy, Audit)\n",
    "- NTP, DNS, LDAP, Kerberos, certs\n",
    "- ipa-server-install\n",
    "- need to have valid kerberos ticket for ipa\n",
    "\n",
    "- https://www.freeipa.org/page/Quick_Start_Guide\n",
    "- https://www.certdepot.net/rhel7-configure-freeipa-server/\n",
    "\n",
    "- to create user accounts:\n",
    "```\n",
    "kinit admin\n",
    "ipa user-add lisa\n",
    "ipa passwd lisa\n",
    "ipa user-find lisa\n",
    "```\n",
    "\n",
    "- authcofig tool to configure authentication\n",
    "\n",
    "- Steps:\n",
    "\n",
    "```\n",
    "yum -y install ipa-server bind-dyndb-ldap\n",
    "ipa-server-install\n",
    "systemctl restart sshd # to obtain Kerberos credentials\n",
    "kinit admin  # verify kerberos authentication\n",
    "ipa user-find admin # verify ipa access\n",
    "```"
   ]
  },
  {
   "cell_type": "markdown",
   "metadata": {},
   "source": [
    "#### Kerberos tickets\n",
    "\n",
    "to be able to manage IdM Server, you need to log in to IdM Domain to get a Kerberos ticket for the admin\n",
    "\n",
    "- IMPORTANT, before doing anything, generate ticket: **```kinit admin```**\n",
    "- show ticket validity: **```klist```**"
   ]
  },
  {
   "cell_type": "markdown",
   "metadata": {},
   "source": [
    "Authconfig\n",
    "\n",
    "- configuration files\n",
    "```\n",
    "/etc/sysconfig/authconfig\n",
    "/etc/sssd/sssd.conf\n",
    "/etc/krb5.cfg\n",
    "/etc/nsswitch.conf\n",
    "/etc/nslcd.conf  # old LDAP configuration file, now use /etc/sssd/sssd.conf instead\n",
    "```"
   ]
  },
  {
   "cell_type": "markdown",
   "metadata": {},
   "source": [
    "Exercise authconfig\n",
    "\n",
    "- set up server2 as an IdM server\n",
    "\n",
    "```\n",
    "ssh server2\n",
    "\n",
    "systemctl stop firewall # rembmer to start after\n",
    "cat > /etc/hosts <<EOF\n",
    "192.168.4.101 server1.example.com server1\n",
    "192.168.4.102 server2.example.com server2 \n",
    "EOF\n",
    "\n",
    "yum -y install ipa-server bind nds-ldap bind-dyndb-ldap\n",
    "\n",
    "ipa-server-install\n",
    "    > yes to configure BIND\n",
    "    > server2.example.com as host name\n",
    "    > DNS forwarder yes\n",
    "    > DNS forwarder: 8.8.8.8\n",
    "\n",
    "systemclt restart sshd\n",
    "knit admin\n",
    "ip user-find admin\n",
    "```\n",
    "\n",
    "- create two users: lisa and lori, with the password: password\n",
    "\n",
    "```\n",
    "ipa user-add lisa\n",
    "ipa passwd lisa\n",
    "ipa user-find lisa\n",
    "```\n",
    "\n",
    "- configure your server as a Kerberos client to itself\n",
    "\n",
    "```\n",
    "ssh server1\n",
    "cat > /etc/hosts <<EOF\n",
    "192.168.4.101 server1.example.com server1\n",
    "192.168.4.102 server2.example.com server2 \n",
    "EOF\n",
    "\n",
    "authconfig-tui\n",
    "    > Use LDAP\n",
    "    > Use Kerberos Authentication\n",
    "    > ldap://server2.example.com\n",
    "    > Kerberos settings: Realm: EXAMPLE.COM\n",
    "    > use KDC to locate realm \n",
    "\n",
    "```\n",
    "\n",
    "- test logging in as one of the use"
   ]
  },
  {
   "cell_type": "markdown",
   "metadata": {},
   "source": [
    "## iSCSI"
   ]
  },
  {
   "cell_type": "markdown",
   "metadata": {},
   "source": [
    "iSCSI Configuration (Internet SCSI, Internet Small Computer Systems Interface)\n",
    "\n",
    "- it provides block-level access to storage devices over a TCP/IP network\n",
    "- iSCSI can be used to transmit data over local area networks (LANs), wide area networks (WANs), or the Internet and can enable location-independent data storage and retrieval\n",
    "- much cheaper than fibre chanel, it uses ethernet cable\n",
    "- it is a storage area network (SAN) protocol"
   ]
  },
  {
   "cell_type": "markdown",
   "metadata": {},
   "source": [
    "#### Terminology\n",
    "\n",
    "- **IQN**: iSCSI Qualified Name, to identify targets and initiators, it can be used in security\n",
    "- Initiator: iSCSI client, identified by an IQN\n",
    "- Target: the service on an iSCSI server that gives access to the backend services (SAN)\n",
    "- ACL: Access Control List\n",
    "- discovery: process where initiator find the targets configured on portal\n",
    "- Portal: ip address and port use by target\n",
    "- **LUN**: logical unit, the block devices shared through the target\n",
    "- **TPG**: target portal group, collection of IP addresses and tcp ports to which iscsi target will listen"
   ]
  },
  {
   "cell_type": "code",
   "execution_count": 5,
   "metadata": {
    "collapsed": false
   },
   "outputs": [
    {
     "name": "stdout",
     "output_type": "stream",
     "text": [
      "major minor  #blocks  name\r\n",
      "\r\n",
      "   8        0  234431064 sda\r\n",
      "   8        1     204800 sda1\r\n",
      "   8        2     256000 sda2\r\n",
      "   8        3   61747200 sda3\r\n",
      "   8        4  172222023 sda4\r\n",
      "  11        0    1048575 sr0\r\n",
      " 253        0   61745152 dm-0\r\n",
      " 253        1   26214400 dm-1\r\n",
      " 253        2    4063232 dm-2\r\n",
      " 253        3   67108864 dm-3\r\n",
      " 253        4   73400320 dm-4\r\n",
      " 253        5   31457280 dm-5\r\n"
     ]
    }
   ],
   "source": [
    "! cat /proc/partitions"
   ]
  },
  {
   "cell_type": "code",
   "execution_count": 6,
   "metadata": {
    "collapsed": false
   },
   "outputs": [
    {
     "name": "stdout",
     "output_type": "stream",
     "text": [
      "[0:0:0:0]    disk    ATA      ADATA SP550      3B5a  /dev/sda \r\n",
      "[1:0:0:0]    cd/dvd  HL-DT-ST DVD+-RW GU90N    A1B0  /dev/sr0 \r\n"
     ]
    }
   ],
   "source": [
    "# yum -y install lsscsi\n",
    "!lsscsi"
   ]
  },
  {
   "cell_type": "markdown",
   "metadata": {},
   "source": [
    "#### configurations\n",
    "\n",
    "- to install iscsi tools: ```yum install -y targetcli```\n",
    "\n",
    "- commands to create new block, iscsi SAN (on server2)\n",
    "\n",
    "```\n",
    "targetcli\n",
    "    > ls\n",
    "    > cd backstores\n",
    "    > block/ create block1 /dev/vgsan/lvsan1 # it creates block storage object block1 using /dev/vgsan/lvsan1\n",
    "    > ls\n",
    "\n",
    "    > cd iscsi\n",
    "    > create iqn.2016-09.com.example.com:target1  # create target\n",
    "\n",
    "    # to create acls\n",
    "    > cd iqn.2016-09.com.example.com:target1\n",
    "    > cd tpg1\n",
    "    > acls create iqn.2016-09.com.example.com:server2\n",
    "\n",
    "    # to create luns\n",
    "    > luns/ create /backstores/block/block1\n",
    "\n",
    "    # to create portal\n",
    "    > portals/ create IPADDRESS\n",
    "\n",
    "# it saves configuration to file /etc/target/saveconfig.json\n",
    "\n",
    "# open firewall 3260 tcp\n",
    "\n",
    "firewall-cmd --add-port=3260/tcp --permanent\n",
    "fiewall-cmd --reload\n",
    "systemctl enable target\n",
    "systemctl start target\n",
    "```\n",
    "\n",
    "- commands to create iscsi Initiator (client, on server1)\n",
    "\n",
    "```\n",
    "yum install -y iscsi-initiator-utils\n",
    "\n",
    "# set initiator name\n",
    "vim /etc/iscsi/initiatorname.iscsi\n",
    "\n",
    "# to find examples\n",
    "man iscsiadm\n",
    "\n",
    "iscsiadm --mode discoverydb --type sendtargets --portal TARGET_IPADDR --discover\n",
    "\n",
    "iscsiadm --mode node --targetname TARGET_IQN --portal TARGET_IPADDR --login\n",
    "\n",
    "yum -y install lsscsi\n",
    "lsscsi  - will show new devices\n",
    "\n",
    "# should show portal information file\n",
    "ls /var/lib/iscsi/nodes\n",
    "\n",
    "# important to logout\n",
    "iscsiadm --mode node --targetname TARGET_IQN --portal TARGET_IPADDR --logout\n",
    "```\n",
    "\n",
    "- verifying the iscsi connection\n",
    "\n",
    "```\n",
    "# on client\n",
    "iscsiadm -m session -P 3\n",
    "iscsiadm -m node -P 3\n",
    "iscsiadm -m discovery -P 3\n",
    "\n",
    "# on target\n",
    "targetcli\n",
    "```\n",
    "\n",
    "- Examples in doc: ```man targetcli```\n",
    "\n",
    "- **IMPORTANT: to mount network device use ```_netdev``` option in fstab**"
   ]
  },
  {
   "cell_type": "code",
   "execution_count": null,
   "metadata": {
    "collapsed": true
   },
   "outputs": [],
   "source": []
  }
 ],
 "metadata": {
  "kernelspec": {
   "display_name": "Python 2",
   "language": "python",
   "name": "python2"
  },
  "language_info": {
   "codemirror_mode": {
    "name": "ipython",
    "version": 2
   },
   "file_extension": ".py",
   "mimetype": "text/x-python",
   "name": "python",
   "nbconvert_exporter": "python",
   "pygments_lexer": "ipython2",
   "version": "2.7.11"
  }
 },
 "nbformat": 4,
 "nbformat_minor": 0
}
