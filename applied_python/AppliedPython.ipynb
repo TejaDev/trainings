{
 "cells": [
  {
   "cell_type": "markdown",
   "metadata": {},
   "source": [
    "# Applied Python (Python in practice)"
   ]
  },
  {
   "cell_type": "markdown",
   "metadata": {},
   "source": [
    "#### The Python Standard Library\n",
    "\n",
    "https://docs.python.org/2/library/"
   ]
  },
  {
   "cell_type": "code",
   "execution_count": 2,
   "metadata": {
    "collapsed": false
   },
   "outputs": [
    {
     "name": "stdout",
     "output_type": "stream",
     "text": [
      "2016-10-06\n",
      "Today is Thursday\n",
      "Today is Thursday\n"
     ]
    }
   ],
   "source": [
    "import datetime\n",
    "#from datetime import date\n",
    "\n",
    "print(datetime.date.today())\n",
    "\n",
    "day_today = datetime.date.today().strftime(\"%A\")\n",
    "print(\"Today is {day}\".format(day=day_today))\n",
    "print(\"Today is {}\".format(day_today))"
   ]
  },
  {
   "cell_type": "code",
   "execution_count": 3,
   "metadata": {
    "collapsed": false
   },
   "outputs": [
    {
     "name": "stdout",
     "output_type": "stream",
     "text": [
      "False\n",
      "('here', True)\n",
      "Today is Thursday\n",
      "-------> ok\n",
      "True\n",
      "False\n",
      "ok\n"
     ]
    }
   ],
   "source": [
    "# IF/ELSE \n",
    "\n",
    "print(\"Monday\" == \"Friday\")\n",
    "\n",
    "bool_value = True\n",
    "print(\"here\", bool_value is not False)\n",
    "\n",
    "if day_today == \"Friday\":\n",
    "    print(\"Today is Friday!!\")\n",
    "else:\n",
    "    print(\"Today is {day}\".format(day=day_today))\n",
    "    \n",
    "l = [1,2,3] \n",
    "if len(l) > 0: # NOT PYTHONIC WAY\n",
    "    print(\"-------> ok\")\n",
    "\n",
    "print(bool(l))\n",
    "print(bool({}))\n",
    "if l:          # PYTHONIC WAY\n",
    "    print(\"ok\")"
   ]
  },
  {
   "cell_type": "code",
   "execution_count": 15,
   "metadata": {
    "collapsed": false
   },
   "outputs": [
    {
     "name": "stdout",
     "output_type": "stream",
     "text": [
      "June\n",
      "Today is Saturday! Hurray! The weekend has landed!\n"
     ]
    }
   ],
   "source": [
    "# IN operator\n",
    "\n",
    "month_today = datetime.date.today().strftime(\"%B\")\n",
    "print(month_today)\n",
    "\n",
    "month_today = \"May\"\n",
    "\n",
    "day_today = \"Saturday\"\n",
    "# not Pythonic\n",
    "if day_today == \"Saturday\" or day_today == \"Sunday\":\n",
    "    if month_today == \"June\":\n",
    "        print(\"Today is {day}! Hurray! The weekend has landed!\".format(day=day_today))\n",
    "else:\n",
    "    print(\"Nope. It isn't weeked. Today is {day}\".format(day=day_today))\n",
    "    \n",
    "# Pythonic\n",
    "if day_today in ['Saturday', 'Sunday']:\n",
    "    print(\"Today is {day}! Hurray! The weekend has landed!\".format(day=day_today))\n",
    "else:\n",
    "    print(\"Nope. It isn't weeked. Today is {day}\".format(day=day_today))\n"
   ]
  },
  {
   "cell_type": "code",
   "execution_count": 23,
   "metadata": {
    "collapsed": false
   },
   "outputs": [
    {
     "name": "stdout",
     "output_type": "stream",
     "text": [
      "2\n",
      "4\n",
      "6\n",
      "8\n",
      "10\n",
      "12\n",
      "14\n",
      "[(1, 2), (2, 4), (3, 6), (4, 8), (5, 10), (6, 12), (7, 14)]\n",
      "[4, 16, 36]\n",
      "[4, 16, 36]\n"
     ]
    }
   ],
   "source": [
    "# FOOR LOOP\n",
    "\n",
    "# multiply each number by 2\n",
    "\n",
    "numbers = [1, 2, 3, 4, 5, 6, 7]\n",
    "for number in numbers:\n",
    "    print(number * 2)\n",
    "    \n",
    "print([(number, number * 2) for number in numbers])\n",
    "\n",
    "L_TEMP = []\n",
    "for number in numbers:\n",
    "    if number % 2 == 0:\n",
    "        L_TEMP.append(number * number)\n",
    "print(L_TEMP)\n",
    "\n",
    "# LIST COMPREHENSION (with filter)\n",
    "L_TEMP = [number * number for number in numbers if number % 2 == 0] # VERY PYTHONIC\n",
    "print(L_TEMP)\n"
   ]
  },
  {
   "cell_type": "code",
   "execution_count": null,
   "metadata": {
    "collapsed": false
   },
   "outputs": [],
   "source": [
    "numbers = [1, 2, 3, 4, 5, 6, 7, 8, 9, 10] \n",
    "# numbers = range(1, 11)\n",
    "\n",
    "for number in numbers:\n",
    "    if number % 2 == 0:\n",
    "        print(\"Number {} is even\".format(number))\n",
    "    elif number % 2 == 1:\n",
    "        print(\"Number {} is odd\".format(number))\n",
    "    else:\n",
    "        print(\"is it number: {}?\".format(number))"
   ]
  },
  {
   "cell_type": "code",
   "execution_count": null,
   "metadata": {
    "collapsed": false
   },
   "outputs": [],
   "source": [
    "# List comprehension - Pythonic way of doing stmh\n",
    "\n",
    "# modulo (%) operation finds the remainder after division of one number by another\n",
    "\n",
    "# Even numbers always end with a digit of 0, 2, 4, 6 or 8\n",
    "even_numbers = [number for number in range(1,11) if number % 2 == 0]\n",
    "print(\"Even numbers: \", even_numbers)\n",
    "\n",
    "# Odd numbers always end with a digit of 1, 3, 5, 7, or 9\n",
    "odd_numbers = [number for number in range(1,11) if number % 2 == 1]\n",
    "print(\"Odd numbers:\", odd_numbers)"
   ]
  },
  {
   "cell_type": "code",
   "execution_count": 25,
   "metadata": {
    "collapsed": false
   },
   "outputs": [
    {
     "name": "stdout",
     "output_type": "stream",
     "text": [
      "s:  set([1, 2, 3, 4, 5])\n",
      "set([8, 2, 4, 10, 6])\n",
      "set([1, 2, 3, 4, 5, 6, 7, 8, 9, 10])\n",
      "Odd numbers:  [1, 3, 9, 5, 7]\n"
     ]
    }
   ],
   "source": [
    "# SETS\n",
    "\n",
    "s = set([1, 2, 3, 2 ,4, 5, 5])\n",
    "print(\"s: \", s)\n",
    "\n",
    "numbers = range(1, 11)\n",
    "even_numbers = [number for number in range(1,11) if number % 2 == 0]\n",
    "\n",
    "even_numbers = set(even_numbers)\n",
    "print(even_numbers)\n",
    "numbers = set(numbers)\n",
    "print(numbers)\n",
    "\n",
    "# difference (-) -> new set with elements in numbers but not in even_numbers\n",
    "# so we can get odd_numbers\n",
    "\n",
    "odd_numbers = list(numbers - even_numbers)\n",
    "print(\"Odd numbers: \", odd_numbers)"
   ]
  },
  {
   "cell_type": "code",
   "execution_count": null,
   "metadata": {
    "collapsed": false
   },
   "outputs": [],
   "source": [
    "# WHILE LOOP, BREAK\n",
    "\n",
    "while True:\n",
    "    number = input(\"Please provide number: \")\n",
    "    if number % 2 == 0:\n",
    "        print(\"Number {} is even\".format(number))\n",
    "    elif number % 2 == 1:\n",
    "        print(\"Number {} is odd\".format(number))\n",
    "    else:\n",
    "        print(\"is it number: {}?\".format(number))\n",
    "    break"
   ]
  },
  {
   "cell_type": "code",
   "execution_count": null,
   "metadata": {
    "collapsed": false
   },
   "outputs": [],
   "source": [
    "# DEF, RETURN\n",
    "\n",
    "def is_number_even(number):\n",
    "    if number % 2 == 0:\n",
    "        print(\"Number {} is even\".format(number))\n",
    "        return True\n",
    "    elif number % 2 == 1:\n",
    "        print(\"Number {} is odd\".format(number))\n",
    "    else:\n",
    "        print(\"is it number: {}?\".format(number))\n",
    "    return False\n",
    "\n",
    "\n",
    "while True:\n",
    "    number = input(\"Please provide number: \")\n",
    "    is_number_even(number)\n",
    "    break"
   ]
  },
  {
   "cell_type": "code",
   "execution_count": null,
   "metadata": {
    "collapsed": false
   },
   "outputs": [],
   "source": [
    "# TRY/EXCEPT\n",
    "\n",
    "def fn():\n",
    "    number = input(\"Please provide number: \")\n",
    "    try:\n",
    "        number = int(number)\n",
    "        print(number)\n",
    "    except ValueError as exc:\n",
    "        print(\"Do we have number or not?)\n",
    "    \n",
    "    try:\n",
    "        is_number_even(number)\n",
    "    except Exception as exc:\n",
    "        print(exc)\n",
    "    \n",
    "fn()"
   ]
  },
  {
   "cell_type": "code",
   "execution_count": null,
   "metadata": {
    "collapsed": false
   },
   "outputs": [],
   "source": [
    "# very, very, very ... simple calc\n",
    "\n",
    "def add_numbers(n1, n2):\n",
    "    return n1 + n2\n",
    "\n",
    "def multiply_numbers(n1, n2):\n",
    "    return n1 * n2\n",
    "\n",
    "def subtract_numbers(n1, n2):\n",
    "    return n1 - n2\n",
    "\n",
    "def divide_numbers(n1, n2):\n",
    "    return n1 / n2\n",
    "\n",
    "actions = {\n",
    "        'add': add_numbers,\n",
    "        'multiply': multiply_numbers,\n",
    "        'subtract': subtract_numbers,\n",
    "        'divide': divide_numbers,\n",
    "}\n",
    "\n",
    "action = raw_input(\"Choose one action [add|multiply|subtract|divide|]:\")\n",
    "number1 = raw_input(\"Provide first number: \")\n",
    "number2 = raw_input(\"Provide second number: \")\n",
    "\n",
    "# convert to int\n",
    "number1 = int(number1)\n",
    "number2 = int(number2)\n",
    "\n",
    "print(\"You will {action} two numbers {number1} and {number2}\".format(**locals()))\n",
    "\n",
    "result = actions[action](number1, number2)\n",
    "#result = actions.get(action)(number1, number2)\n",
    "\n",
    "print(\"Result is: \", result)"
   ]
  },
  {
   "cell_type": "code",
   "execution_count": null,
   "metadata": {
    "collapsed": false
   },
   "outputs": [],
   "source": [
    "class SimpleCalc(object):\n",
    "    def __init__(self, number1, number2):\n",
    "        self.n1 = number1\n",
    "        self.n2 = number2\n",
    "\n",
    "    def add(self):\n",
    "        return self.n1 + self.n2\n",
    "\n",
    "    def multiply(self):\n",
    "        return self.n1 * self.n2\n",
    "\n",
    "    def subtract(selt):\n",
    "        return self.n1 - self.n2\n",
    "\n",
    "    def divide(self):\n",
    "        return self.n1 / self.n2\n",
    "\n",
    "\n",
    "action = raw_input(\"Choose one action [add|multiply|subtract|divide|]:\")\n",
    "number1 = raw_input(\"Provide first number: \")\n",
    "number2 = raw_input(\"Provide second number: \")\n",
    "\n",
    "# convert to int\n",
    "number1 = int(number1)\n",
    "number2 = int(number2)\n",
    "\n",
    "simple_calc = SimpleCalc(number1, number2)\n",
    "\n",
    "action = getattr(simple_calc, action)\n",
    "result = action()\n",
    "print(result)"
   ]
  },
  {
   "cell_type": "markdown",
   "metadata": {},
   "source": [
    "## Let's practice"
   ]
  },
  {
   "cell_type": "code",
   "execution_count": 26,
   "metadata": {
    "collapsed": false
   },
   "outputs": [
    {
     "name": "stdout",
     "output_type": "stream",
     "text": [
      "['.ansible-lock.1000', '.vbox-vmaster-ipc', '.com.google.Chrome.9wfZOs', '+~JF126903306272844037.tmp', '+~JF8492682411442416621.tmp', '+~JF1501680968193690201.tmp', '+~JF8887334895429449550.tmp', '+~JF461217912176479077.tmp', 'hsperfdata_vmaster', 'tracker-extract-files.1000', '.esd-1000', 'systemd-private-7c18e45d6efa4069827551d3cb79af21-colord.service-IdxyTm', 'systemd-private-7c18e45d6efa4069827551d3cb79af21-rtkit-daemon.service-EoMVUw', '.Test-unix', '.font-unix', '.XIM-unix', '.ICE-unix', '.X11-unix']\n",
      "File:  .ansible-lock.1000\n",
      "Directory:  .vbox-vmaster-ipc\n",
      "Directory:  .com.google.Chrome.9wfZOs\n",
      "File:  +~JF126903306272844037.tmp\n",
      "File:  +~JF8492682411442416621.tmp\n",
      "File:  +~JF1501680968193690201.tmp\n",
      "File:  +~JF8887334895429449550.tmp\n",
      "File:  +~JF461217912176479077.tmp\n",
      "Directory:  hsperfdata_vmaster\n",
      "Directory:  tracker-extract-files.1000\n",
      "Directory:  .esd-1000\n",
      "Directory:  systemd-private-7c18e45d6efa4069827551d3cb79af21-colord.service-IdxyTm\n",
      "Directory:  systemd-private-7c18e45d6efa4069827551d3cb79af21-rtkit-daemon.service-EoMVUw\n",
      "Directory:  .Test-unix\n",
      "Directory:  .font-unix\n",
      "Directory:  .XIM-unix\n",
      "Directory:  .ICE-unix\n",
      "Directory:  .X11-unix\n"
     ]
    }
   ],
   "source": [
    "import os\n",
    "list_of_dirs = os.listdir('/tmp')\n",
    "\n",
    "print(list_of_dirs)\n",
    "\n",
    "for file_or_dir in list_of_dirs:\n",
    "    if os.path.isfile(\"/tmp/\" + file_or_dir):\n",
    "        print(\"File: \", file_or_dir)\n",
    "    elif os.path.isdir(\"/tmp/\" + file_or_dir):\n",
    "        print(\"Directory: \", file_or_dir)        "
   ]
  },
  {
   "cell_type": "markdown",
   "metadata": {},
   "source": [
    "https://docs.python.org/2/library/os.path.html"
   ]
  },
  {
   "cell_type": "code",
   "execution_count": 29,
   "metadata": {
    "collapsed": false
   },
   "outputs": [
    {
     "name": "stdout",
     "output_type": "stream",
     "text": [
      "True\n",
      "False\n",
      "True\n",
      "/etc\n",
      "/tmp/dir1/dir2/file\n",
      "/tmp/dir1/dir2/file\n",
      "/\n"
     ]
    }
   ],
   "source": [
    "import os\n",
    "\n",
    "file = '/etc/passwd'\n",
    "\n",
    "print(os.path.isfile(file))\n",
    "print(os.path.isdir(file))\n",
    "print(os.path.exists(file))\n",
    "print(os.path.dirname(file))\n",
    "\n",
    "print(\"/tmp\" + \"/dir1\" + \"/dir2\" + '/file')\n",
    "print(os.path.join('/tmp', 'dir1', 'dir2', 'file'))\n",
    "\n",
    "print(os.sep) "
   ]
  },
  {
   "cell_type": "code",
   "execution_count": 28,
   "metadata": {
    "collapsed": false
   },
   "outputs": [
    {
     "name": "stdout",
     "output_type": "stream",
     "text": [
      "/tmp/ ['.vbox-vmaster-ipc', '.com.google.Chrome.9wfZOs', 'hsperfdata_vmaster', 'tracker-extract-files.1000', '.esd-1000', 'systemd-private-7c18e45d6efa4069827551d3cb79af21-colord.service-IdxyTm', 'systemd-private-7c18e45d6efa4069827551d3cb79af21-rtkit-daemon.service-EoMVUw', '.Test-unix', '.font-unix', '.XIM-unix', '.ICE-unix', '.X11-unix'] ['.ansible-lock.1000', '+~JF126903306272844037.tmp', '+~JF8492682411442416621.tmp', '+~JF1501680968193690201.tmp', '+~JF8887334895429449550.tmp', '+~JF461217912176479077.tmp'] \n",
      "\n",
      "/tmp/.vbox-vmaster-ipc [] ['ipcd', 'lock'] \n",
      "\n",
      "/tmp/.com.google.Chrome.9wfZOs [] ['SingletonSocket', 'SingletonCookie'] \n",
      "\n",
      "/tmp/hsperfdata_vmaster [] ['2764'] \n",
      "\n",
      "/tmp/tracker-extract-files.1000 [] [] \n",
      "\n",
      "/tmp/.esd-1000 [] ['socket'] \n",
      "\n",
      "/tmp/.Test-unix [] [] \n",
      "\n",
      "/tmp/.font-unix [] [] \n",
      "\n",
      "/tmp/.XIM-unix [] [] \n",
      "\n",
      "/tmp/.ICE-unix [] ['1973'] \n",
      "\n",
      "/tmp/.X11-unix [] ['X0'] \n",
      "\n"
     ]
    }
   ],
   "source": [
    "for root, dirs, files in os.walk('/tmp/'):\n",
    "    print(root, dirs, files, \"\\n\")"
   ]
  },
  {
   "cell_type": "code",
   "execution_count": null,
   "metadata": {
    "collapsed": false
   },
   "outputs": [],
   "source": [
    "import os\n",
    "\n",
    "root, dirs, files, aaaa = ('root', ['d1', 'd2'], ['f1'], 1)\n",
    "\n",
    "a, b = 1, 2\n",
    "print(a, b)\n",
    "\n",
    "a, b = b, a\n",
    "print(a, b)\n",
    "\n",
    "\n",
    "for root, dirs, files in os.walk('/tmp/'):\n",
    "    print(root, dirs, files)"
   ]
  },
  {
   "cell_type": "code",
   "execution_count": null,
   "metadata": {
    "collapsed": false
   },
   "outputs": [],
   "source": [
    "import os\n",
    "for root, dirs, files in os.walk('/tmp'):\n",
    "    for file in files:\n",
    "        print(os.path.join(root, file))"
   ]
  },
  {
   "cell_type": "code",
   "execution_count": null,
   "metadata": {
    "collapsed": false
   },
   "outputs": [],
   "source": [
    "import os\n",
    "\n",
    "list_of_file_names = []\n",
    "for root, dirs, files in os.walk('/etc'):\n",
    "    for file in files:\n",
    "        list_of_file_names.append(os.path.join(root, file))\n",
    "\n",
    "print(list_of_file_names)"
   ]
  },
  {
   "cell_type": "code",
   "execution_count": 1,
   "metadata": {
    "collapsed": false
   },
   "outputs": [
    {
     "name": "stdout",
     "output_type": "stream",
     "text": [
      "[('key2', 2), ('key1', 1)]\n",
      "{'key2': 2, 'key1': 1}\n"
     ]
    }
   ],
   "source": [
    "d = {'key1': 1, 'key2':2}\n",
    "print(d.items())\n",
    "\n",
    "e = dict(d.items())\n",
    "print(e)"
   ]
  },
  {
   "cell_type": "markdown",
   "metadata": {},
   "source": [
    "### Exercise:\n",
    "\n",
    "Using previous example, please create python dictionary \n",
    "that will contain information about file name and its size.\n",
    "You can use /etc as source directory.\n",
    "\n",
    "- Hint 1: remember to check if file exists, `os.path.isfile(path_to_file)`\n",
    "- Hint 2: use file path as dictionary key, ` files_size[file_path] = file_size`\n",
    "- Hint 3: to create dictionary you can use list of tuples e.g: `dict( [ (key1, value), (key2, value), ...] )`\n",
    "- Hint 4: to create path to file, you can concatenate dir path and file name, `os.path.join( directory, file_name )`\n",
    "- Hint 5: to get file size: `os.path.getsize(path)`\n",
    "\n",
    "\n",
    "Your output should be similar to:\n",
    "```python\n",
    "{\n",
    "    '/etc/sane.d/stv680.conf': 178,\n",
    "    '/etc/redhat-release': 33,\n",
    "    '/etc/pam.d/cups': 146,\n",
    "    '/etc/X11/xinit/Xclients': 2317\n",
    "    ...\n",
    "}\n",
    "```"
   ]
  },
  {
   "cell_type": "code",
   "execution_count": 31,
   "metadata": {
    "collapsed": false
   },
   "outputs": [
    {
     "name": "stdout",
     "output_type": "stream",
     "text": [
      "{'/etc/sane.d/stv680.conf': 178, '/etc/dbus-1/system.d/org.freedesktop.network1.conf': 1604, '/etc/pki/rpm-gpg/RPM-GPG-KEY-fedora-20-secondary': 3819, '/etc/redhat-release': 33, '/etc/logrotate.d/numad': 106, '/etc/gconf/schemas/guake.schemas': 41153, '/etc/sysconfig/network-scripts/ifup-plip': 642, '/etc/pam.d/cups': 146, '/etc/brltty/Input/ts/nav80.ktb': 901, '/etc/sane.d/canon_dr.conf': 3885, '/etc/brltty/Input/pm/status0.kti': 862, '/etc/usb_modeswitch.d/0af0:7901': 135, '/etc/gconf/schemas/system_smb.schemas': 27460, '/etc/usb_modeswitch.d/12d1:157c': 77, '/etc/systemd/logind.conf': 966, '/etc/usb_modeswitch.d/12d1:157d': 88, '/etc/brltty/Text/kha.ttb': 880, '/etc/usb_modeswitch.d/20b9:1682': 51, '/etc/brltty/Contraction/zh-tw-polyphone.cti': 56542, '/etc/youtube-dl.conf': 63, '/etc/exports': 0, '/etc/default/grub': 317, '/etc/usb_modeswitch.d/1de1:1101': 154, '/etc/X11/xinit/Xclients': 2317, '/etc/usb_modeswitch.d/12d1:1573': 36, '/etc/sane.d/epson.conf': 793, '/etc/ppp/eaptls-client': 349, '/etc/usb_modeswitch.d/0408:ea17': 85, '/etc/gconf/gconf.xml.defaults/%gconf-tree-fa.xml': 12317, '/etc/pki/ca-trust/extracted/pem/tls-ca-bundle.pem': 260866, '/etc/sane.d/dell1600n_net.conf': 492, '/etc/sane.d/epson2.conf': 376, '/etc/usb_modeswitch.d/19d2:0169': 69, '/etc/usb_modeswitch.d/12d1:1f1b': 83, '/etc/brltty/Attributes/upper_lower.atb': 1016, '/etc/lvm/profile/thin-generic.profile': 76, '/etc/usb_modeswitch.d/12d1:1f1d': 92, '/etc/pki/rpm-gpg/RPM-GPG-KEY-fedora-11-i386': 1653, '/etc/Trolltech.conf': 45, '/etc/usb_modeswitch.d/10a9:606f': 160, '/etc/sane.d/ibm.conf': 38, '/etc/usb_modeswitch.d/0af0:7051': 135, '/etc/dbus-1/system.d/org.freedesktop.machine1.conf': 7735, '/etc/unbound/root.key': 556, '/etc/usb_modeswitch.d/1fac:0150': 146, '/etc/gconf/gconf.xml.defaults/%gconf-tree-he.xml': 27356, '/etc/xdg/autostart/gnome-initial-setup-copy-worker.desktop': 223, '/etc/pam.d/gdm-pin': 800, '/etc/systemd/system/sockets.target.wants/iscsid.socket': 175, '/etc/usb_modeswitch.d/0af0:7271': 135, '/etc/brltty/Input/ts/nav40.ktb': 829, '/etc/brltty/Input/pm/el_2d_80.ktb': 881, '/etc/sysconfig/network-scripts/ifup': 4568, '/etc/usb_modeswitch.d/12d1:1f16': 83, '/etc/usb_modeswitch.d/12d1:1f17': 74, '/etc/usb_modeswitch.d/12d1:1f15': 83, '/etc/usb_modeswitch.d/12d1:1f18': 74, '/etc/usb_modeswitch.d/12d1:1f19': 88, '/etc/brltty/Input/bm/vario80.ktb': 890, '/etc/selinux/targeted/contexts/removable_context': 33, '/etc/fonts/conf.d/80-delicious.conf': 422, '/etc/usb_modeswitch.d/12d1:15cd': 72, '/etc/systemd/resolved.conf': 589, '/etc/ghostscript/9.16/Fontmap.local': 0, '/etc/brltty/Input/eu/esys_large.ktb': 906, '/etc/brltty/Text/en_US.ttb': 11186, '/etc/usb_modeswitch.d/0af0:7301': 135, '/etc/setuptool.d/98system-config-authentication': 69, '/etc/selinux/targeted/contexts/files/file_contexts.local': 0, '/etc/gconf/gconf.xml.defaults/%gconf-tree-vi.xml': 31122, '/etc/xdg/powerline/themes/ipython/in2.json': 146, '/etc/brltty/Input/ce/novem.ktb': 976, '/etc/brltty/Input/bm/joystick.kti': 3752, '/etc/httpd/conf.modules.d/01-cgi.conf': 451, '/etc/brltty/Contraction/th.ctb': 4512, '/etc/gconf/schemas/desktop_gnome_applications_office.schemas': 53599, '/etc/alternatives/mkisofs-mkhybrid': 544352, '/etc/corosync/corosync.conf.example': 2881, '/etc/usb_modeswitch.d/19d2:1175': 100, '/etc/usb_modeswitch.d/19d2:1171': 100, '/etc/usb_modeswitch.d/8888:6500': 168, '/etc/geoclue/geoclue.conf': 1780, '/etc/systemd/system/multi-user.target.wants/atd.service': 205, '/etc/brltty/Text/kok.ttb': 885, '/etc/usb_modeswitch.d/19d2:1179': 100, '/etc/profile.d/vte.sh': 2092, '/etc/brltty/Text/fr_CA.ttb': 11504, '/etc/xdg/powerline/colorschemes/vim/solarizedlight.json': 6378, '/etc/brltty/Input/al/sat_large.ktb': 901, '/etc/cups/cups-browsed.conf': 4090, '/etc/brltty/Contraction/fr-abrege.ctb': 49286, '/etc/alternatives/xinputrc': 548, '/etc/brltty/Input/bm/status.kti': 1287, '/etc/fonts/conf.d/65-0-lohit-gujarati.conf': 643, '/etc/brltty/Input/vr/all.txt': 66, '/etc/brltty/Input/bm/display6.kti': 2915, '/etc/brltty/Text/vi.ttb': 14299, '/etc/xdg/qtchooser/5.conf': 34, '/etc/yum.repos.d/fedora-updates-testing.repo': 1328, '/etc/brltty/Text/bra.ttb': 882, '/etc/usb_modeswitch.d/2020:f00f': 89, '/etc/pam.d/fingerprint-auth-ac': 702, '/etc/usb_modeswitch.d/2020:f00e': 88, '/etc/printcap': 184, '/etc/brltty/Text/sv.ttb': 838, '/etc/sane.d/rts8891.conf': 183, '/etc/gconf/gconf.xml.defaults/%gconf-tree-hu.xml': 29608, '/etc/brltty/Input/ba/all.txt': 58, '/etc/fonts/conf.d/61-stix.conf': 1873, '/etc/usb_modeswitch.d/0421:061d': 71, '/etc/gdm/PostLogin/Default.sample': 441, '/etc/brltty/Input/hd/mbl.ktb': 2438, '/etc/profile.d/qt-graphicssystem.sh': 379, '/etc/pki/nssdb/secmod.db': 16384, '/etc/brltty/Input/bl/40_m20_m40.txt': 3557, '/etc/usb_modeswitch.d/1ee8:0040': 162, '/etc/java/javapackages-config.json': 489, '/etc/gconf/gconf.xml.defaults/%gconf-tree-mai.xml': 29190, '/etc/gconf/gconf.xml.defaults/%gconf-tree-cy.xml': 28772, '/etc/usb_modeswitch.d/0af0:8800': 135, '/etc/brltty/Input/pm/front9.kti': 1749, '/etc/dbus-1/system.d/org.freedesktop.resolve1.conf': 953, '/etc/usb_modeswitch.d/1ee8:0045': 150, '/etc/ssh/ssh_host_ecdsa_key.pub': 162, '/etc/usb_modeswitch.d/0421:0618': 71, '/etc/NetworkManager/dispatcher.d/pre-up.d/10-ifcfg-rh-routes.sh': 912, '/etc/brltty/Text/pl.ttb': 11564, '/etc/speech-dispatcher/speechd.conf': 9727, '/etc/brltty/Input/ht/wave.ktb': 1164, '/etc/brltty/Input/bm/vario.ktb': 1363, '/etc/yum.repos.d/rpmfusion-free-updates-testing.repo': 1230, '/etc/usb_modeswitch.d/19d2:1420': 69, '/etc/selinux/targeted/contexts/files/file_contexts.local.bin': 35, '/etc/brltty/Contraction/af.ctb': 1833, '/etc/usb_modeswitch.d/12d1:1414': 44, '/etc/pki/rpm-gpg/RPM-GPG-KEY-fedora-20-s390': 3819, '/etc/brltty/Contraction/sw.ctb': 1454, '/etc/gconf/gconf.xml.defaults/%gconf-tree-mg.xml': 20944, '/etc/brltty/Input/ht/rockers.kti': 2466, '/etc/xdg/autostart/tracker-miner-rss.desktop': 4299, '/etc/systemd/system/sockets.target.wants/iscsiuio.socket': 165, '/etc/dbus-1/system.d/org.freedesktop.problems.daemon.conf': 447, '/etc/brltty/Contraction/ko.ctb': 273315, '/etc/xdg/powerline/themes/powerline.json': 2504, '/etc/systemd/system/sysstat.service.wants/sysstat-summary.timer': 356, '/etc/sysconfig/iptables-config': 1740, '/etc/brltty/Input/pm/el80_ii.ktb': 858, '/etc/usb_modeswitch.d/0bdb:1910': 45, '/etc/brltty/Text/tr.ttb': 2860, '/etc/selinux/targeted/contexts/files/file_contexts.homedirs.bin': 47189, '/etc/usb_modeswitch.d/257a:c000': 109, '/etc/systemd/system/dbus-org.freedesktop.NetworkManager.service': 454, '/etc/cron.d/0hourly': 128, '/etc/sysconfig/firewalld': 73, '/etc/fonts/conf.d/65-0-lohit-bengali.conf': 920, '/etc/dnf/protected.d/dnf.conf': 4, '/etc/usb_modeswitch.d/05c6:1000:uMa=SSE': 78, '/etc/speech-dispatcher/modules/swift-generic.conf': 2913, '/etc/brltty/Text/mt.ttb': 2188, '/etc/redhat-lsb/lsb_killproc': 70, '/etc/pki/rpm-gpg/RPM-GPG-KEY-23-fedora': 1674, '/etc/gconf/gconf.xml.defaults/%gconf-tree-ru.xml': 38157, '/etc/setroubleshoot/setroubleshoot.conf': 8094, '/etc/speech-dispatcher/modules/ibmtts.conf': 7857, '/etc/fonts/conf.d/10-powerline-symbols.conf': 2713, '/etc/usb_modeswitch.d/12d1:1413': 45, '/etc/pki/rpm-gpg/RPM-GPG-KEY-fedora-19-ppc': 3819, '/etc/usb_modeswitch.d/1004:6190': 68, '/etc/gconf/gconf.xml.defaults/%gconf-tree-de.xml': 29689, '/etc/alternatives/mkisofs': 544352, '/etc/usb_modeswitch.d/19d2:0166': 140, '/etc/rc.d/rc5.d/K50netconsole': 2989, '/etc/man_db.conf': 5168, '/etc/alternatives/jjs.1.gz': 2394, '/etc/brltty/Input/ec/all.txt': 863, '/etc/xdg/powerline/themes/unicode_terminus_condensed.json': 2426, '/etc/alternatives/modules.sh': 168, '/etc/gconf/gconf.xml.defaults/%gconf-tree-es.xml': 30039, '/etc/gconf/gconf.xml.defaults/%gconf-tree-gl.xml': 29580, '/etc/usb_modeswitch.d/0af0:d058': 135, '/etc/rc.d/rc3.d/S99livesys-late': 1054, '/etc/usb_modeswitch.d/05c6:1000:sVe=Option': 174, '/etc/brltty/Text/punc-alternate.tti': 2348, '/etc/dbus-1/system.d/nm-pptp-service.conf': 734, '/etc/usb_modeswitch.d/0af0:d057': 135, '/etc/usb_modeswitch.d/0af0:d055': 135, '/etc/usb_modeswitch.d/230d:0103': 32, '/etc/usb_modeswitch.d/230d:0101': 38, '/etc/xdg/powerline/themes/wm/default.json': 500, '/etc/usb_modeswitch.d/12d1:156a': 96, '/etc/usb_modeswitch.d/1c9e:6061:uPr=Storage': 114, '/etc/gdm/PreSession/Default': 258, '/etc/libreport/plugins/bugzilla_formatdup_anaconda.conf': 2485, '/etc/ghostscript/9.16/CIDFnmap.local': 0, '/etc/brltty/Input/bm/display7.kti': 2215, '/etc/usb_modeswitch.d/12d1:1f1c': 92, '/etc/dconf/profile/ibus': 28, '/etc/sane.d/pie.conf': 75, '/etc/gconf/schemas/desktop_gnome_applications_at_mobility.schemas': 44617, '/etc/usb_modeswitch.d/0408:ea43': 111, '/etc/brltty/Input/hm/sync.ktb': 1679, '/etc/brltty/Input/hm/sense.ktb': 2247, '/etc/systemd/system/sockets.target.wants/dm-event.socket': 248, '/etc/httpd/conf.modules.d/00-base.conf': 3258, '/etc/cups/client.conf': 0, '/etc/rc.d/rc3.d/S00livesys': 6674, '/etc/ppp/options': 5, '/etc/xdg/autostart/caribou-autostart.desktop': 250, '/etc/pki/rpm-gpg/RPM-GPG-KEY-fedora-19-x86_64': 1658, '/etc/pinforc': 2872, '/etc/pki/rpm-gpg/RPM-GPG-KEY-fedora-20-armhfp': 1658, '/etc/brltty/Contraction/ko-g2.ctb': 1055, '/etc/usb_modeswitch.d/19d2:1227': 69, '/etc/rc.d/rc2.d/K99livesys': 6674, '/etc/usb_modeswitch.d/19d2:1224': 69, '/etc/yum.repos.d/fedora.repo': 1255, '/etc/xdg/powerline/themes/vim/default.json': 2475, '/etc/sane.d/artec.conf': 26, '/etc/lsb-release.d/core-4.1-amd64': 0, '/etc/brltty/Text/ta.ttb': 878, '/etc/favicon.png': 545, '/etc/libreport/plugins/bugzilla_formatdup_java.conf': 1917, '/etc/usb_modeswitch.d/1076:7f40': 76, '/etc/sysconfig/network-scripts/ifdown-isdn': 781, '/etc/logrotate.d/psacct': 408, '/etc/group': 1063, '/etc/gconf/gconf.xml.defaults/%gconf-tree.xml': 124309, '/etc/brltty/Input/ts/routing.kti': 1670, '/etc/lvm/lvm.conf': 82209, '/etc/gconf/gconf.xml.defaults/%gconf-tree-nds.xml': 6761, '/etc/brltty/Text/nl.ttb': 834, '/etc/usb_modeswitch.d/05c6:1000:uMa=StrongRising': 81, '/etc/lvm/profile/metadata_profile_template.profile': 828, '/etc/inputrc': 942, '/etc/usb_modeswitch.d/106c:3b11': 74, '/etc/sane.d/genesys.conf': 2009, '/etc/lvm/profile/cache-smq.profile': 338, '/etc/DIR_COLORS.lightbgcolor': 5132, '/etc/libreport/plugins/bugzilla_format_kernel.conf': 1569, '/etc/sane.d/canon.conf': 26, '/etc/brltty/Text/mwr.ttb': 885, '/etc/sane.d/microtek2.conf': 279, '/etc/brltty/Keyboard/desktop.ktb': 842, '/etc/fonts/conf.d/65-0-lohit-kannada.conf': 620, '/etc/hosts.deny': 460, '/etc/brltty/Keyboard/desktop.kti': 2123, '/etc/brltty/Input/pm/2d_l.ktb': 869, '/etc/sysconfig/network-scripts/ifup-TeamPort': 1876, '/etc/usb_modeswitch.d/106c:3b05': 160, '/etc/usb_modeswitch.d/106c:3b06': 163, '/etc/usb_modeswitch.d/106c:3b03': 162, '/etc/brltty/Text/hi.ttb': 883, '/etc/pki/rpm-gpg/RPM-GPG-KEY-fedora-9-x86_64': 2388, '/etc/brltty/Input/ir/brl.ktb': 3232, '/etc/ld.so.cache': 90849, '/etc/profile.d/gnome-ssh-askpass.csh': 58, '/etc/usb_modeswitch.d/12d1:1f11': 83, '/etc/gconf/gconf.xml.defaults/%gconf-tree-mn.xml': 35353, '/etc/brltty/Text/ne.ttb': 884, '/etc/ppp/ip-down': 386, '/etc/sane.d/net.conf': 573, '/etc/systemd/system/sockets.target.wants/rpcbind.socket': 132, '/etc/usb_modeswitch.d/1e89:f000': 139, '/etc/brltty/Contraction/zh-tw.ctb': 1367395, '/etc/sysconfig/virtlockd': 55, '/etc/bonobo-activation/bonobo-activation-config.xml': 351, '/etc/pki/ca-trust/extracted/java/README': 726, '/etc/pki/rpm-gpg/RPM-GPG-KEY-fedora-12-i386': 1653, '/etc/drirc': 3384, '/etc/sane.d/canon630u.conf': 193, '/etc/pki/rpm-gpg/RPM-GPG-KEY-fedora-19-s390': 3819, '/etc/gconf/2/path': 1448, '/etc/xdg/autostart/spice-vdagent.desktop': 177, '/etc/usb_modeswitch.d/0421:0622': 71, '/etc/usb_modeswitch.d/0421:0627': 80, '/etc/usb_modeswitch.d/201e:1023': 238, '/etc/mcelog/triggers/cache-error-trigger': 1035, '/etc/profile.d/which2.sh': 200, '/etc/libreport/plugins/ureport.conf': 1301, '/etc/brltty/Text/gu.ttb': 884, '/etc/selinux/targeted/contexts/systemd_contexts': 57, '/etc/udev/hwdb.bin': 6961203, '/etc/profile.d/which2.csh': 164, '/etc/brltty/Text/en-nabcc.ttb': 20733, '/etc/usb_modeswitch.d/2077:f000': 194, '/etc/brltty/Input/eu/sw56.kti': 878, '/etc/pki/ca-trust/extracted/pem/README': 897, '/etc/krb5.conf': 525, '/etc/xdg/autostart/nautilus-autostart.desktop': 162, '/etc/brltty/Text/kn.ttb': 882, '/etc/ansible/hosts': 965, '/etc/xdg/autostart/pulseaudio.desktop': 4459, '/etc/vmware-tools/GuestProxyData/server/key.pem': 1704, '/etc/pki/rpm-gpg/RPM-GPG-KEY-fedora-12-primary': 1653, '/etc/usb_modeswitch.d/19d2:0083:uPr=WCDMA': 79, '/etc/usb_modeswitch.d/19d2:ffe6': 163, '/etc/selinux/targeted/contexts/dbus_contexts': 195, '/etc/sysconfig/sshd': 506, '/etc/ethertypes': 1362, '/etc/hosts': 83, '/etc/ghostscript/9.16/cidfmap.local': 0, '/etc/X11/xinit/xinitrc.d/00-start-message-bus.sh': 558, '/etc/ppp/ip-up': 430, '/etc/brltty/Input/bm/routing7.kti': 1369, '/etc/usb_modeswitch.d/12d1:155a': 82, '/etc/brltty/Input/bm/inka.ktb': 1189, '/etc/usb_modeswitch.d/12d1:155b': 71, '/etc/httpd/conf/magic': 13077, '/etc/brltty/Input/ht/easy.ktb': 1218, '/etc/brltty/Text/kannada.tti': 5178, '/etc/gconf/gconf.xml.defaults/%gconf-tree-xh.xml': 17414, '/etc/systemd/system/bluetooth.target.wants/bluetooth.service': 388, '/etc/usb_modeswitch.d/19d2:0146': 88, '/etc/sysconfig/samba': 428, '/etc/wgetrc': 4925, '/etc/gconf/schemas/desktop_gnome_applications_at_visual.schemas': 44057, '/etc/gconf/gconf.xml.defaults/%gconf-tree-te.xml': 46669, '/etc/sysconfig/network-scripts/ifcfg-enp7s0': 289, '/etc/usb_modeswitch.d/0bdb:190d': 35, '/etc/brltty/Input/ts/nav20.ktb': 829, '/etc/X11/xinit/xinitrc.d/10-qt5-check-opengl2.sh': 254, '/etc/usb_modeswitch.d/1004:61aa': 67, '/etc/pki/rpm-gpg/RPM-GPG-KEY-fedora-23-ppc64': 3145, '/etc/usb_modeswitch.d/1782:0003': 35, '/etc/usb_modeswitch.d/12d1:1557': 71, '/etc/usb_modeswitch.d/12d1:1553': 72, '/etc/brltty/Text/num-dot6.tti': 2027, '/etc/fonts/conf.d/10-scale-bitmap-fonts.conf': 2010, '/etc/usb_modeswitch.d/0df7:0800': 86, '/etc/ssh/moduli': 300324, '/etc/networks': 58, '/etc/ssh/ssh_config': 2208, '/etc/gconf/gconf.xml.defaults/%gconf-tree-en_GB.xml': 27354, '/etc/cups/printers.conf': 1034, '/etc/dbus-1/system.d/org.freedesktop.timedate1.conf': 947, '/etc/sane.d/gphoto2.conf': 1149, '/etc/pki/rpm-gpg/RPM-GPG-KEY-fedora-8-ppc': 2388, '/etc/brltty/Input/pm/status20.kti': 2244, '/etc/alternatives/print-lprmman': 977, '/etc/brltty/Input/mm/smart.ktb': 2661, '/etc/usb_modeswitch.d/21f5:3010': 79, '/etc/sane.d/epjitsu.conf': 2569, '/etc/usb_modeswitch.d/230d:0007': 36, '/etc/usb_modeswitch.d/230d:0003': 53, '/etc/usb_modeswitch.d/0408:f000': 89, '/etc/usb_modeswitch.d/230d:0001': 53, '/etc/pki/rpm-gpg/RPM-GPG-KEY-fedora-7-x86_64': 1519, '/etc/libreport/events.d/print_event.conf': 111, '/etc/gconf/gconf.xml.defaults/%gconf-tree-pt_BR.xml': 29407, '/etc/brltty/Input/ir/pc.ktb': 1613, '/etc/fonts/conf.d/30-0-google-crosextra-carlito-fontconfig.conf': 470, '/etc/prelink.conf.d/fipscheck.conf': 57, '/etc/profile.d/gnome-ssh-askpass.sh': 70, '/etc/brltty/Text/gujarati.tti': 5279, '/etc/hostname': 8, '/etc/dleyna-server-service.conf': 1174, '/etc/sysconfig/network-scripts/network-functions-ipv6': 26134, '/etc/samba/smb.conf': 11630, '/etc/usb_modeswitch.d/230d:000d': 38, '/etc/lvm/profile/command_profile_template.profile': 2249, '/etc/usb_modeswitch.d/230d:000b': 26, '/etc/corosync/corosync.xml.example': 3278, '/etc/brltty/Input/bp/all.kti': 6940, '/etc/bash_completion.d/youtube-dl': 2985, '/etc/vmware-tools/poweroff-vm-default': 4364, '/etc/brltty/Input/bm/command.kti': 1308, '/etc/dbus-1/system.d/org.freedesktop.PackageKit.conf': 1331, '/etc/iproute2/rt_tables': 87, '/etc/usb_modeswitch.d/0af0:7251': 135, '/etc/systemd/system/multi-user.target.wants/vboxdrv.service': 467, '/etc/gconf/gconf.xml.defaults/%gconf-tree-be.xml': 25057, '/etc/NetworkManager/conf.d/20-connectivity-fedora.conf': 88, '/etc/fonts/conf.d/65-0-lohit-gurmukhi.conf': 624, '/etc/unbound/icannbundle.pem': 17699, '/etc/sysconfig/network-scripts/network-functions': 15510, '/etc/pam.d/ppp': 144, '/etc/brltty/Text/tamil.tti': 4356, '/etc/usb_modeswitch.d/19d2:1237': 80, '/etc/usb_modeswitch.d/19d2:1232': 78, '/etc/usb_modeswitch.d/19d2:1233': 69, '/etc/lsb-release.d/cxx-4.1-amd64': 0, '/etc/brltty/Input/hm/edge.ktb': 3307, '/etc/fonts/conf.d/65-0-paktype-naskh-basic.conf': 697, '/etc/brltty/Contraction/ipa.ctb': 16589, '/etc/brltty/Text/malayalam.tti': 5322, '/etc/brltty/Input/mt/status.kti': 812, '/etc/gconf/gconf.xml.defaults/%gconf-tree-ku.xml': 13618, '/etc/brltty/Contraction/en-ueb-g2.ctb': 7263, '/etc/mailcap': 272, '/etc/corosync/corosync.conf.example.udpu': 767, '/etc/brltty/Text/fr-vs.ttb': 12876, '/etc/sysconfig/network-scripts/ifup-aliases': 12943, '/etc/groff/site-tmac/man.local': 118, '/etc/xdg/autostart/gnome-settings-daemon.desktop': 3383, '/etc/brltty/Text/da.ttb': 11385, '/etc/gconf/gconf.xml.defaults/%gconf-tree-ml.xml': 54410, '/etc/gconf/schemas/desktop_gnome_url_handlers.schemas': 14623, '/etc/systemd/system/basic.target.wants/firewalld.service': 631, '/etc/gconf/schemas/desktop_gnome_interface.schemas': 461327, '/etc/brltty/Input/ht/bs40.ktb': 835, '/etc/usb_modeswitch.d/1c9e:98ff': 185, '/etc/pki/tls/certs/ca-bundle.crt': 260866, '/etc/usb_modeswitch.d/106c:3b14': 174, '/etc/aliases': 1518, '/etc/brltty/Input/hd/pfl.ktb': 2585, '/etc/usb_modeswitch.d/1bbb:00ca': 116, '/etc/rc.d/rc6.d/K99livesys': 6674, '/etc/brltty/Text/da-1252.ttb': 12660, '/etc/pki/rpm-gpg/RPM-GPG-KEY-fedora-22-ppc64le': 3819, '/etc/fonts/conf.d/20-unhint-small-dejavu-sans-mono.conf': 866, '/etc/pki/fwupd/GPG-KEY-Hughski-Limited': 1702, '/etc/vpnc/vpnc-script': 23761, '/etc/brltty/Input/eu/all.txt': 1253, '/etc/xdg/powerline/colorschemes/tmux/default.json': 827, '/etc/brltty/Input/mb/all.txt': 1605, '/etc/sane.d/dc25.conf': 704, '/etc/nfsmount.conf': 3605, '/etc/usb_modeswitch.d/0408:f001': 73, '/etc/gconf/gconf.xml.defaults/%gconf-tree-bn.xml': 48227, '/etc/yum.repos.d/google-chrome.repo': 173, '/etc/brltty/Text/telugu.tti': 5108, '/etc/qemu/bridge.conf': 13, '/etc/brltty/Input/pm/keyboard.kti': 1217, '/etc/sane.d/umax.conf': 3094, '/etc/usb_modeswitch.d/1da5:f000': 79, '/etc/usb_modeswitch.d/12d1:1f01': 116, '/etc/sane.d/lexmark.conf': 119, '/etc/xdg/powerline/themes/ipython/in.json': 441, '/etc/speech-dispatcher/modules/llia_phon-generic.conf': 2603, '/etc/usb_modeswitch.d/0421:0637': 75, '/etc/abrt/plugins/vmcore.conf': 158, '/etc/usb_modeswitch.d/0421:0632': 74, '/etc/pam.d/passwd': 188, '/etc/pki/rpm-gpg/RPM-GPG-KEY-fedora-21-secondary': 3819, '/etc/fonts/conf.d/62-google-crosextra-carlito-fontconfig.conf': 419, '/etc/sasl2/libvirt.conf': 1279, '/etc/brltty/Input/pm/el2d_80s.ktb': 860, '/etc/usb_modeswitch.d/0ace:20ff': 96, '/etc/xdg/powerline/themes/shell/select.json': 192, '/etc/sysconfig/network-scripts/ifup-sit': 3263, '/etc/selinux/targeted/contexts/sepgsql_contexts': 1170, '/etc/ld.so.conf.d/libiscsi-x86_64.conf': 17, '/etc/issue': 28, '/etc/pki/rpm-gpg/RPM-GPG-KEY-fedora-19-s390x': 3819, '/etc/brltty/Text/no-generic.ttb': 11396, '/etc/systemd/system.conf': 1471, '/etc/usb_modeswitch.d/1dbc:0669': 29, '/etc/gconf/gconf.xml.defaults/%gconf-tree-wa.xml': 5557, '/etc/xdg/autostart/gsettings-data-convert.desktop': 7741, '/etc/usb_modeswitch.d/0af0:9200': 135, '/etc/pki/rpm-gpg/RPM-GPG-KEY-fedora-16-i386': 1653, '/etc/pki/rpm-gpg/RPM-GPG-KEY-fedora-16-x86_64': 1653, '/etc/libreport/forbidden_words.conf': 294, '/etc/lsb-release.d/printing-4.1-amd64': 0, '/etc/systemd/system/dbus-org.freedesktop.timedate1.service': 238, '/etc/brltty/Input/pm/elb_tr_32.ktb': 865, '/etc/shells': 76, '/etc/usb_modeswitch.d/0af0:8006': 171, '/etc/subgid': 35, '/etc/brltty/Contraction/latex-access.ctb': 6243, '/etc/alternatives/jjs': 7384, '/etc/usb_modeswitch.d/0af0:7031': 135, '/etc/sysconfig/network-scripts/ifdown': 1616, '/etc/usb_modeswitch.d/05c6:1000:uMa=Co.,Ltd': 81, '/etc/NetworkManager/VPN/nm-pptp-service.name': 252, '/etc/alternatives/orbd.1.gz': 4326, '/etc/brltty/Input/al/sat_small.ktb': 862, '/etc/gconf/gconf.xml.defaults/%gconf-tree-nso.xml': 5676, '/etc/brltty/Input/mm/pocket.ktb': 2583, '/etc/usb_modeswitch.d/0fce:d0e1': 66, '/etc/pki/rpm-gpg/RPM-GPG-KEY-fedora-18-arm': 3828, '/etc/usb_modeswitch.d/19d2:ffde': 95, '/etc/xdg/powerline/colorschemes/vim/default.json': 4193, '/etc/brltty/Input/al/bc.ktb': 5266, '/etc/alternatives/keytool.1.gz': 22278, '/etc/xdg/qtchooser/4-64.conf': 34, '/etc/pki/rpm-gpg/RPM-GPG-KEY-fedora-9-ia64': 1694, '/etc/usb_modeswitch.d/19d2:0154': 104, '/etc/selinux/targeted/contexts/users/xguest_u': 307, '/etc/sysconfig/httpd': 1173, '/etc/alternatives/print': 15336, '/etc/xdg/user-dirs.conf': 414, '/etc/pki/rpm-gpg/RPM-GPG-KEY-fedora-13-secondary': 3810, '/etc/pki/rpm-gpg/RPM-GPG-KEY-fedora-17-armhfp': 3828, '/etc/usb_modeswitch.d/201e:2009': 50, '/etc/bash_completion.d/fcoemon': 911, '/etc/usb_modeswitch.d/19d2:1542': 70, '/etc/systemd/system/remote-fs.target.wants/nfs-client.target': 433, '/etc/dbus-1/system.d/org.freedesktop.fwupd.conf': 1043, '/etc/brltty/Input/ts/nav_small.kti': 1432, '/etc/brltty/Text/num-nemeth.tti': 2068, '/etc/usb_modeswitch.d/0af0:7401': 135, '/etc/libaudit.conf': 191, '/etc/sysctl.d/99-sysctl.conf': 449, '/etc/pki/ca-trust/extracted/README': 560, '/etc/cups/ppd/MG5500.ppd': 280171, '/etc/selinux/targeted/contexts/default_type': 148, '/etc/pki/rpm-gpg/RPM-GPG-KEY-fedora-22-secondary': 3819, '/etc/alternatives/libnssckbi.so.x86_64': 253416, '/etc/xdg/powerline/colorschemes/pdb/solarized.json': 110, '/etc/brltty/Input/pm/c.ktb': 866, '/etc/usb_modeswitch.d/0b3c:f017': 80, '/etc/fonts/conf.d/59-liberation-serif.conf': 485, '/etc/alternatives/print-cancel': 15344, '/etc/pki/rpm-gpg/RPM-GPG-KEY-fedora-19-primary': 1658, '/etc/xdg/powerline/themes/shell/continuation.json': 144, '/etc/gconf/gconf.xml.defaults/%gconf-tree-fr.xml': 31599, '/etc/brltty/Input/ts/nav_large.kti': 1456, '/etc/pki/rpm-gpg/RPM-GPG-KEY-fedora-18-ppc': 3828, '/etc/pki/rpm-gpg/RPM-GPG-KEY-fedora-7-i386': 1519, '/etc/libreport/events.d/bugzilla_anaconda_event.conf': 655, '/etc/usb_modeswitch.d/19d2:0304': 80, '/etc/xdg/menus/server-settings.menu': 1144, '/etc/ppp/ipv6-down': 1687, '/etc/abrt/plugins/java.conf': 1205, '/etc/gconf/schemas/desktop_gnome_peripherals_mouse.schemas': 188602, '/etc/pki/rpm-gpg/RPM-GPG-KEY-fedora-18-i386': 1658, '/etc/libnl/classid': 1130, '/etc/usb_modeswitch.d/19d2:1201': 91, '/etc/brltty/Input/vd/all.txt': 745, '/etc/brltty/Text/spaces.tti': 1527, '/etc/dbus-1/system.d/pulseaudio-system.conf': 1084, '/etc/usb_modeswitch.d/19d2:1207': 79, '/etc/pam.d/system-auth': 1015, '/etc/alternatives/java': 7336, '/etc/fonts/conf.d/30-lohit-odia.conf': 457, '/etc/usb_modeswitch.d/16d8:700b': 127, '/etc/X11/xorg.conf.d/00-keyboard.conf': 267, '/etc/gconf/gconf.xml.defaults/%gconf-tree-sl.xml': 28046, '/etc/papersize': 68, '/etc/usb_modeswitch.d/0af0:6751': 135, '/etc/gconf/schemas/desktop_gnome_peripherals_keyboard.schemas': 51654, '/etc/cups/cupsd.conf': 4514, '/etc/alternatives/cdrecord-readcd': 101976, '/etc/usb_modeswitch.d/12d1:380b': 55, '/etc/sysconfig/docker-storage': 597, '/etc/usb_modeswitch.d/19d2:0413': 142, '/etc/security/pam_env.conf': 2972, '/etc/xdg/powerline/colorschemes/shell/default.json': 526, '/etc/gconf/gconf.xml.defaults/%gconf-tree-as.xml': 46039, '/etc/usb_modeswitch.d/16d8:6803': 140, '/etc/usb_modeswitch.d/16d8:6804': 117, '/etc/brltty/Input/tt/all.txt': 706, '/etc/gconf/schemas/system_http_proxy.schemas': 313933, '/etc/profile.d/vim.sh': 269, '/etc/brltty/Text/bn.ttb': 882, '/etc/pki/rpm-gpg/RPM-GPG-KEY-fedora-24-ppc64': 3128, '/etc/brltty/Contraction/letters-latin.cti': 2939, '/etc/sane.d/xerox_mfp.conf': 3424, '/etc/gconf/schemas/desktop_gnome_typing_break.schemas': 67650, '/etc/alternatives/links-man': 4746, '/etc/selinux/targeted/seusers': 106, '/etc/pki/rpm-gpg/RPM-GPG-KEY-fedora-11-x86_64': 1653, '/etc/trusted-key.key': 375, '/etc/X11/Xmodmap': 547, '/etc/yum.repos.d/rpmfusion-free-updates.repo': 1170, '/etc/usb_modeswitch.d/148e:a000': 76, '/etc/pki/rpm-gpg/RPM-GPG-KEY-fedora-8-x86_64': 2388, '/etc/pki/rpm-gpg/RPM-GPG-KEY-fedora-10-ppc': 2380, '/etc/ld.so.conf.d/kernel-4.4.2-301.fc23.x86_64.conf': 63, '/etc/krb5.conf.d/crypto-policies': 191, '/etc/dbus-1/system.d/org.freedesktop.UDisks2.conf': 525, '/etc/libreport/workflows.d/report_logger.conf': 212, '/etc/fonts/conf.d/69-unifont.conf': 672, '/etc/locale.conf': 19, '/etc/fonts/conf.d/57-dejavu-sans.conf': 2011, '/etc/libreport/events.d/vimrc_event.conf': 1259, '/etc/fonts/conf.d/90-synthetic.conf': 1691, '/etc/httpd/conf.d/mod_dnssd.conf': 73, '/etc/modprobe.d/kvm.conf': 223, '/etc/pki/rpm-gpg/RPM-GPG-KEY-fedora-16-armhfp': 3819, '/etc/brltty/Input/sk/bdp.ktb': 2895, '/etc/pam_pkcs11/pam_pkcs11.conf': 9028, '/etc/brltty/Text/sv-1996.ttb': 9198, '/etc/usb_modeswitch.d/04e8:680c': 142, '/etc/brltty/Text/nwc.ttb': 910, '/etc/brltty/Text/kru.ttb': 884, '/etc/avahi/avahi-autoipd.action': 2509, '/etc/setuptool.d/99Xconfigurator': 40, '/etc/iscsi/initiatorname.iscsi': 50, '/etc/xdg/powerline/colors.json': 13825, '/etc/sysconfig/rpcbind': 73, '/etc/NetworkManager/VPN/nm-vpnc-service.name': 272, '/etc/pki/rpm-gpg/RPM-GPG-KEY-fedora-16-s390': 3819, '/etc/usb_modeswitch.d/1c9e:9200': 166, '/etc/pki/rpm-gpg/RPM-GPG-KEY-fedora-24-secondary': 3128, '/etc/hba.conf': 871, '/etc/gconf/gconf.xml.defaults/%gconf-tree-hi.xml': 44079, '/etc/gconf/gconf.xml.defaults/%gconf-tree-kn.xml': 47635, '/etc/brltty/Input/pm/el60c.ktb': 856, '/etc/environment': 0, '/etc/alternatives/orbd': 7448, '/etc/usb_modeswitch.d/12d1:14c1': 83, '/etc/xdg/powerline/colorschemes/vim/solarized.json': 6362, '/etc/chrony.keys': 111, '/etc/pam.d/system-auth-ac': 1015, '/etc/pki/rpm-gpg/RPM-GPG-KEY-fedora-15-secondary': 3810, '/etc/pki/rpm-gpg/RPM-GPG-KEY-fedora-9-original-primary': 1519, '/etc/usb_modeswitch.d/05c6:1000:uMa=Vertex': 86, '/etc/ssh/ssh_host_ecdsa_key': 227, '/etc/setuptool.d/98netconfig': 42, '/etc/usb_modeswitch.d/0cf3:20ff': 113, '/etc/pki/rpm-gpg/RPM-GPG-KEY-fedora-10-ppc64': 2380, '/etc/brltty/Text/num-french.tti': 1450, '/etc/sane.d/sp15c.conf': 10, '/etc/usb_modeswitch.d/1033:0035': 68, '/etc/sysconfig/man-db': 200, '/etc/brltty/Input/bm/vertical.kti': 1004, '/etc/cups/printers.conf.O': 1034, '/etc/samba/lmhosts': 20, '/etc/ld.so.conf.d/llvm-x86_64.conf': 16, '/etc/brltty/Input/bd/all.txt': 302, '/etc/gconf/schemas/desktop_default_applications.schemas': 73873, '/etc/ssh/ssh_host_rsa_key': 1679, '/etc/alternatives/cdda2wav-cdda2wavman': 11978, '/etc/rc.d/rc4.d/K90network': 6727, '/etc/pki/rpm-gpg/RPM-GPG-KEY-fedora-19-ppc64': 3819, '/etc/pki/rpm-gpg/RPM-GPG-KEY-fedora-13-i386': 1653, '/etc/fonts/conf.d/29-paps.conf': 456, '/etc/brltty/Contraction/si.ctb': 3692, '/etc/asound.conf': 55, '/etc/lsb-release.d/cxx-4.1-noarch': 0, '/etc/udev/rules.d/60-vboxdrv.rules': 755, '/etc/cups/cups-browsed.conf.rpmnew': 14371, '/etc/logrotate.d/iptraf-ng': 138, '/etc/gconf/gconf.xml.defaults/%gconf-tree-da.xml': 28306, '/etc/fonts/conf.d/20-unhint-small-dejavu-sans.conf': 856, '/etc/speech-dispatcher/modules/cicero.conf': 982, '/etc/usb_modeswitch.d/1a8d:2000': 82, '/etc/alternatives/cdrecord-cdrecordman': 24896, '/etc/alternatives/whois-man': 38, '/etc/gconf/gconf.xml.defaults/%gconf-tree-af.xml': 5060, '/etc/brltty/Input/bm/pro.ktb': 889, '/etc/usb_modeswitch.d/1004:61eb': 81, '/etc/sysconfig/docker-network': 56, '/etc/usb_modeswitch.d/0af0:8304': 135, '/etc/fonts/conf.d/57-dejavu-serif.conf': 1649, '/etc/brltty/Input/pm/el80c.ktb': 856, '/etc/sysconfig/raid-check': 2915, '/etc/gconf/schemas/desktop_gnome_lockdown.schemas': 182617, '/etc/brltty/Text/fi.ttb': 11248, '/etc/brltty/Keyboard/kp_say.kti': 1429, '/etc/gconf/gconf.xml.defaults/%gconf-tree-hr.xml': 21530, '/etc/csh.cshrc': 1602, '/etc/brltty/Input/mt/bd1_3.kti': 1574, '/etc/usb_modeswitch.d/1e0e:f000': 220, '/etc/systemd/system/graphical.target.wants/accounts-daemon.service': 641, '/etc/brltty/Input/mt/bd1_3.ktb': 832, '/etc/brltty/Text/fr-2007.ttb': 12520, '/etc/pki/tls/misc/c_name': 110, '/etc/usb_modeswitch.d/12d1:1597': 86, '/etc/yum.repos.d/rpmfusion-free.repo': 1172, '/etc/at-spi2/accessibility.conf': 1366, '/etc/brltty/Input/bm/horizontal.kti': 1443, '/etc/sysconfig/grub': 317, '/etc/brlapi.key': 33, '/etc/redhat-lsb/lsb_start_daemon': 650, '/etc/usb_modeswitch.d/1d09:1025': 82, '/etc/security/console.handlers': 604, '/etc/fonts/conf.d/51-local.conf': 189, '/etc/usb_modeswitch.d/12d1:1449': 71, '/etc/alternatives/rmid': 7384, '/etc/brltty/Text/sk.ttb': 5468, '/etc/xdg/menus/system-settings.menu': 1161, '/etc/alternatives/unpack200': 107032, '/etc/usb_modeswitch.d/12d1:1446': 176, '/etc/skel/.bashrc': 231, '/etc/iproute2/rt_realms': 112, '/etc/xdg/autostart/vmware-user.desktop': 208, '/etc/pki/rpm-gpg/RPM-GPG-KEY-fedora-17-ppc64': 3828, '/etc/modprobe.d/openfwwf.conf': 30, '/etc/alternatives/tnameserv.1.gz': 4594, '/etc/pam.d/vmtoolsd': 276, '/etc/usb_modeswitch.d/19d2:0318': 85, '/etc/cupshelpers/preferreddrivers.xml': 8944, '/etc/brltty/Text/hy.ttb': 6128, '/etc/brltty/Text/no-oup.ttb': 11350, '/etc/usb_modeswitch.d/0af0:d157': 135, '/etc/usb_modeswitch.d/0af0:d155': 135, '/etc/brltty/Input/ht/bkwm.ktb': 1752, '/etc/brltty/Input/pm/ib_80.ktb': 867, '/etc/pki/rpm-gpg/RPM-GPG-KEY-fedora-19-i386': 1658, '/etc/dbus-1/system.d/FirewallD.conf': 1084, '/etc/libreport/plugins/upload.conf': 337, '/etc/brltty/Input/mt/bd1_3s.ktb': 868, '/etc/brltty/Input/eu/joysticks.kti': 2019, '/etc/usb_modeswitch.d/0af0:7501': 135, '/etc/iproute2/rt_scopes': 92, '/etc/fonts/conf.d/50-user.conf': 673, '/etc/usb_modeswitch.d/0b3c:f00c': 144, '/etc/usb_modeswitch.d/0ace:2011': 96, '/etc/usb_modeswitch.d/19d2:1216': 79, '/etc/fonts/conf.d/65-sil-mingzat.conf': 334, '/etc/usb_modeswitch.d/19d2:1210': 69, '/etc/usb_modeswitch.d/05c6:2000': 192, '/etc/usb_modeswitch.d/05c6:2001': 122, '/etc/abrt/gpg_keys.conf': 31, '/etc/usb_modeswitch.d/05c6:1000:uMa=CELOT': 71, '/etc/usb_modeswitch.d/19d2:1219': 88, '/etc/gconf/schemas/desktop_gnome_accessibility_keyboard.schemas': 106461, '/etc/pki/tls/openssl.cnf': 10923, '/etc/alternatives/mta-sendmail': 2308, '/etc/brltty/Text/ro.ttb': 2198, '/etc/vmware-tools/vgauth/schemas/XMLSchema.xsd': 86435, '/etc/pki/rpm-gpg/RPM-GPG-KEY-fedora-18-x86_64': 1658, '/etc/fonts/fonts.conf': 2413, '/etc/sane.d/s9036.conf': 13, '/etc/alsa/state-daemon.conf': 54, '/etc/pki/tls/certs/make-dummy-cert': 610, '/etc/brltty/Text/boxes.tti': 11544, '/etc/brltty/Text/oriya.tti': 4826, '/etc/alternatives/mta-sendmailman': 2417, '/etc/systemd/system/sysinit.target.wants/lvm2-lvmpolld.socket': 213, '/etc/libreport/events/report_Uploader.conf': 422, '/etc/brltty/Text/he.ttb': 5127, '/etc/gconf/gconf.xml.defaults/%gconf-tree-lv.xml': 28751, '/etc/usb_modeswitch.d/19d2:0150': 85, '/etc/pki/rpm-gpg/RPM-GPG-KEY-fedora-18-s390x': 3828, '/etc/ld.so.conf': 28, '/etc/systemd/system/display-manager.service': 906, '/etc/kernel/postinst.d/51-dracut-rescue-postinst.sh': 1581, '/etc/bash_completion.d/lldptool': 2589, '/etc/crypttab': 90, '/etc/logrotate.d/libvirtd': 165, '/etc/pki/rpm-gpg/RPM-GPG-KEY-fedora-13-arm': 3810, '/etc/rc.d/rc6.d/K01livesys-late': 1054, '/etc/systemd/system/multi-user.target.wants/abrt-ccpp.service': 275, '/etc/pki/rpm-gpg/RPM-GPG-KEY-fedora-9-ppc': 2388, '/etc/brltty/Input/ht/bb.ktb': 872, '/etc/brltty/Contraction/ha.ctb': 1360, '/etc/lvm/lvmlocal.conf': 2244, '/etc/pki/rpm-gpg/RPM-GPG-KEY-fedora-17-s390x': 3828, '/etc/dbus-1/system.d/org.freedesktop.login1.conf': 12118, '/etc/xdg/powerline/themes/vim/plugin_nerdtree.json': 293, '/etc/pam.d/fingerprint-auth': 702, '/etc/usb_modeswitch.d/12d1:1c0b': 91, '/etc/nsswitch.conf': 1750, '/etc/xdg/autostart/tracker-miner-fs.desktop': 5269, '/etc/systemd/system/multi-user.target.wants/abrt-vmcore.service': 262, '/etc/xdg/menus/preferences.menu': 731, '/etc/lsb-release.d/desktop-4.1-amd64': 0, '/etc/usb_modeswitch.d/0421:0610': 71, '/etc/usb_modeswitch.d/19d2:2000': 281, '/etc/sane.d/st400.conf': 2224, '/etc/usb_modeswitch.d/19d2:2004': 68, '/etc/brltty/Text/en_GB.ttb': 11513, '/etc/profile.d/256term.csh': 771, '/etc/brltty/Text/de.ttb': 11222, '/etc/selinux/targeted/.policy.sha512': 129, '/etc/logrotate.d/samba': 115, '/etc/usb_modeswitch.d/1fac:0151': 40, '/etc/brltty/Text/mr.ttb': 885, '/etc/pulse/daemon.conf': 2290, '/etc/pki/rpm-gpg/RPM-GPG-KEY-fedora-20-ppc64': 3819, '/etc/usb_modeswitch.d/12d1:15cf': 77, '/etc/usb_modeswitch.d/12d1:15ce': 101, '/etc/sane.d/test.conf': 1807, '/etc/iproute2/rt_protos': 326, '/etc/usb_modeswitch.d/12d1:15ca': 72, '/etc/brltty/Input/eu/iris.ktb': 1966, '/etc/pki/rpm-gpg/RPM-GPG-KEY-fedora-17-x86_64': 1653, '/etc/setuptool.d/99system-config-network-tui': 58, '/etc/xdg/autostart/gnome-welcome-tour.desktop': 147, '/etc/brltty/Text/new.ttb': 904, '/etc/speech-dispatcher/modules/dtk-generic.conf': 3422, '/etc/security/console.apps/config-util': 24, '/etc/sos.conf': 256, '/etc/libblockdev/conf.d/00-default.cfg': 884, '/etc/systemd/system/sysinit.target.wants/iscsi.service': 645, '/etc/brltty/Text/te.ttb': 880, '/etc/pki/rpm-gpg/RPM-GPG-KEY-fedora-11-ppc64': 1653, '/etc/pam.d/vlock': 84, '/etc/sysconfig/network-scripts/ifup-tunnel': 2682, '/etc/pulse/default.pa': 5550, '/etc/gconf/gconf.xml.defaults/%gconf-tree-sr.xml': 36387, '/etc/usb_modeswitch.d/19d2:fff6': 143, '/etc/usb_modeswitch.d/19d2:fff5': 166, '/etc/xdg/powerline/themes/ascii.json': 2534, '/etc/profile.d/less.sh': 143, '/etc/usb_modeswitch.d/1726:f00e': 74, '/etc/brltty/Text/cy.ttb': 5579, '/etc/yum.repos.d/fedora-updates.repo': 1270, '/etc/NetworkManager/VPN/nm-openvpn-service.name': 288, '/etc/vmware-tools/poweron-vm-default': 4364, '/etc/cifs-utils/idmap-plugin': 10904, '/etc/brltty/Text/bg.ttb': 1352, '/etc/alternatives/qtchooser-default': 34, '/etc/gconf/gconf.xml.defaults/%gconf-tree-sr@latin.xml': 28098, '/etc/speech-dispatcher/clients/emacs.conf': 116, '/etc/cron.hourly/0anacron': 392, '/etc/dbus-1/system.d/nm-ifcfg-rh.conf': 668, '/etc/pki/rpm-gpg/RPM-GPG-KEY-fedora-14-primary': 1653, '/etc/usb_modeswitch.d/0af0:9000': 135, '/etc/alternatives/print-lpstat': 32176, '/etc/fonts/conf.d/69-gnu-free-mono.conf': 334, '/etc/setuptool.d/99ntsysv': 33, '/etc/libreport/plugins/bugzilla_formatdup.conf': 2464, '/etc/sane.d/snapscan.conf': 2239, '/etc/usb_modeswitch.d/12d1:1526': 83, '/etc/profile.d/colorxzgrep.sh': 183, '/etc/pki/rpm-gpg/RPM-GPG-KEY-fedora-16-ppc64': 3819, '/etc/alternatives/servertool.1.gz': 2872, '/etc/brltty/Text/ltr-latin.tti': 58307, '/etc/sane.d/p5.conf': 365, '/etc/udev/udev.conf': 49, '/etc/usb_modeswitch.d/198a:0003': 79, '/etc/usb_modeswitch.d/1004:6156': 73, '/etc/usb_modeswitch.d/0af0:8400': 135, '/etc/pki/rpm-gpg/RPM-GPG-KEY-fedora-21-armhfp': 1658, '/etc/pki/rpm-gpg/RPM-GPG-KEY-fedora-10-primary': 2380, '/etc/rc.d/rc4.d/K50netconsole': 2989, '/etc/system-release-cpe': 31, '/etc/sysconfig/network-scripts/ifup-plusb': 1043, '/etc/sysconfig/network-scripts/ifup-ppp': 4154, '/etc/logrotate.d/iscsiuiolog': 172, '/etc/libreport/ignored_words.conf': 812, '/etc/dbus-1/system.d/org.fedoraproject.Setroubleshootd.conf': 1576, '/etc/usb_modeswitch.d/12d1:1582': 89, '/etc/usb_modeswitch.d/12d1:1583': 90, '/etc/usb_modeswitch.d/0af0:8201': 135, '/etc/usb_modeswitch.d/0af0:8200': 135, '/etc/dbus-1/system.d/org.freedesktop.hostname1.conf': 947, '/etc/profile.d/modules.sh': 168, '/etc/yum/protected.d/systemd.conf': 8, '/etc/pki/rpm-gpg/RPM-GPG-KEY-fedora-13-x86_64': 1653, '/etc/bash_completion.d/fcoeadm': 2021, '/etc/usb_modeswitch.d/12d1:#android': 130, '/etc/brltty/Text/gon.ttb': 902, '/etc/usb_modeswitch.d/22de:6803': 77, '/etc/pki/rpm-gpg/RPM-GPG-KEY-fedora-12-ppc64': 1653, '/etc/GREP_COLORS': 94, '/etc/brltty/Input/al/el.ktb': 842, '/etc/profile.d/modules.csh': 1069, '/etc/gconf/gconf.xml.defaults/%gconf-tree-ms.xml': 7813, '/etc/usb_modeswitch.d/19d2:bccd': 157, '/etc/gconf/gconf.xml.defaults/%gconf-tree-oc.xml': 6075, '/etc/systemd/system/multi-user.target.wants/crond.service': 322, '/etc/gconf/gconf.xml.defaults/%gconf-tree-crh.xml': 24906, '/etc/usb_modeswitch.d/19d2:0325': 70, '/etc/brltty/Input/fs/focus_basic.kti': 1362, '/etc/usb_modeswitch.d/0af0:7011': 135, '/etc/logrotate.d/ppp': 136, '/etc/pki/tls/cert.pem': 260866, '/etc/brltty/Input/fs/focus_basic.ktb': 859, '/etc/pki/rpm-gpg/RPM-GPG-KEY-rpmfusion-free-fedora-25-primary': 1694, '/etc/gconf/gconf.xml.defaults/%gconf-tree-ca@valencia.xml': 30844, '/etc/dconf/db/ibus.d/00-upstream-settings': 1230, '/etc/brltty/Input/at/all.ktb': 2101, '/etc/selinux/targeted/contexts/users/guest_u': 253, '/etc/request-key.d/id_resolver.conf': 354, '/etc/usb_modeswitch.d/0af0:6911': 135, '/etc/ppp/ip-down.ipv6to4': 3214, '/etc/sane.d/kodak.conf': 367, '/etc/speech-dispatcher/modules/ivona.conf': 919, '/etc/xdg/powerline/themes/vim/cmdwin.json': 297, '/etc/dbus-1/system.d/nm-openconnect-service.conf': 684, '/etc/fonts/conf.d/66-sil-nuosu.conf': 318, '/etc/abrt/plugins/oops.conf': 400, '/etc/sane.d/cardscan.conf': 509, '/etc/cron.hourly/mcelog.cron': 191, '/etc/gconf/gconf.xml.defaults/%gconf-tree-pt.xml': 29707, '/etc/bash_completion.d/redefine_filedir': 1467, '/etc/usb_modeswitch.d/1004:1000': 127, '/etc/brltty/Input/bm/default.ktb': 893, '/etc/usb_modeswitch.d/0af0:6771': 135, '/etc/java/java.conf': 738, '/etc/alternatives/cifs-idmap-plugin': 10904, '/etc/usb_modeswitch.d/07d1:a800': 98, '/etc/usb_modeswitch.d/07d1:a804': 96, '/etc/iproute2/nl_protos': 264, '/etc/profile.d/lang.csh': 1706, '/etc/gconf/schemas/desktop_gnome_thumbnail_cache.schemas': 28601, '/etc/xdg/powerline/colorschemes/ipython/__main__.json': 108, '/etc/logrotate.d/dnf': 526, '/etc/sane.d/canon_pp.conf': 1160, '/etc/pam.d/gdm-smartcard': 553, '/etc/httpd/conf.modules.d/00-mpm.conf': 742, '/etc/pki/tls/misc/c_hash': 119, '/etc/brltty/Attributes/left_right.atb': 1015, '/etc/alternatives/rmid.1.gz': 4951, '/etc/selinux/targeted/setrans.conf': 607, '/etc/systemd/system/multi-user.target.wants/ModemManager.service': 268, '/etc/dnsmasq.conf': 26826, '/etc/NetworkManager/NetworkManager.conf': 465, '/etc/xdg/powerline/themes/pdb/default.json': 428, '/etc/systemd/system/graphical.target.wants/rtkit-daemon.service': 1053, '/etc/brltty/Text/bengali.tti': 4857, '/etc/gdm/PostSession/Default': 18, '/etc/usb_modeswitch.d/1307:1169': 102, '/etc/gconf/schemas/desktop_gnome_peripherals_monitor.schemas': 570, '/etc/usb_modeswitch.d/0af0:7361': 135, '/etc/bash_completion.d/da.bash': 1303, '/etc/pki/tls/certs/ca-bundle.trust.crt': 345353, '/etc/usb_modeswitch.d/19d2:1588': 174, '/etc/.pwd.lock': 0, '/etc/brltty/Contraction/de-basis.ctb': 6204, '/etc/systemd/system/multi-user.target.wants/chronyd.service': 357, '/etc/sane.d/dc240.conf': 984, '/etc/brltty/Input/pm/el66s.ktb': 856, '/etc/pki/rpm-gpg/RPM-GPG-KEY-fedora-15-primary': 1653, '/etc/fonts/conf.d/59-liberation-mono.conf': 482, '/etc/brltty/Text/gurmukhi.tti': 4920, '/etc/usb_modeswitch.d/257a:d000': 109, '/etc/brltty/Input/ht/bs80.ktb': 854, '/etc/pki/rpm-gpg/RPM-GPG-KEY-fedora-15-s390x': 3810, '/etc/systemd/system/spice-vdagentd.target.wants/spice-vdagentd.service': 431, '/etc/brltty/Input/pm/status13.kti': 1599, '/etc/gdm/custom.conf': 287, '/etc/dbus-1/system.d/org.freedesktop.NetworkManager.conf': 8457, '/etc/usb_modeswitch.d/1c9e:9e00': 112, '/etc/logrotate.d/chrony': 163, '/etc/brltty/Text/nl_NL.ttb': 9885, '/etc/fonts/conf.d/65-fonts-persian.conf': 10118, '/etc/fonts/conf.d/65-0-smc-meera.conf': 438, '/etc/brltty/Input/ts/pb65.ktb': 904, '/etc/gshadow-': 857, '/etc/sysconfig/network-scripts/keys-Kokoski': 24, '/etc/fonts/conf.d/66-google-noto-sans-meetei-mayek.conf': 648, '/etc/xdg/QtProject/qtlogging.ini': 22, '/etc/usb_modeswitch.d/1edf:6003': 34, '/etc/pki/tls/certs/Makefile': 2516, '/etc/brltty/Input/ht/me64.ktb': 840, '/etc/fonts/conf.d/69-gnu-free-serif.conf': 972, '/etc/xdg/powerline/themes/powerline_unicode7.json': 3190, '/etc/brltty/Input/eu/sw12.kti': 1342, '/etc/brltty/Input/mt/bd1_6s.ktb': 868, '/etc/pki/nssdb/key4.db': 11264, '/etc/brltty/Input/pg/all.ktb': 2393, '/etc/systemd/system/multi-user.target.wants/nfs-client.target': 433, '/etc/skel/.bash_logout': 18, '/etc/pki/rpm-gpg/RPM-GPG-KEY-fedora-24-i386': 1657, '/etc/libreport/events.d/gconf_event.conf': 472, '/etc/yum.repos.d/virtualbox.repo': 241, '/etc/dbus-1/system.d/com.redhat.PrinterDriversInstaller.conf': 1016, '/etc/libuser.conf': 2391, '/etc/usb_modeswitch.d/05c6:f000': 97, '/etc/os-release': 518, '/etc/usb_modeswitch.d/2001:a708': 77, '/etc/usb_modeswitch.d/2001:a707': 77, '/etc/logrotate.d/glusterfs': 513, '/etc/usb_modeswitch.d/1a8d:1000': 169, '/etc/brltty/Text/lt.ttb': 1725, '/etc/systemd/system/sysinit.target.wants/dmraid-activation.service': 357, '/etc/usb_modeswitch.d/23a2:1010': 134, '/etc/xdg/autostart/at-spi-dbus-bus.desktop': 296, '/etc/lsb-release.d/core-4.1-noarch': 0, '/etc/httpd/conf.d/README': 366, '/etc/pki/rpm-gpg/RPM-GPG-KEY-fedora-7-ppc': 1519, '/etc/xdg/menus/documentation.menu': 653, '/etc/xdg/autostart/gnome-keyring-secrets.desktop': 7672, '/etc/brltty/Text/sa.ttb': 886, '/etc/security/console.apps/liveinst': 421, '/etc/alternatives/servertool': 7392, '/etc/selinux/semanage.conf': 2321, '/etc/pki/rpm-gpg/RPM-GPG-KEY-fedora-22-aarch64': 3819, '/etc/PackageKit/Vendor.conf': 2006, '/etc/setuptool.d/99system-config-firewall-tui': 59, '/etc/gconf/gconf.xml.defaults/%gconf-tree-ug.xml': 31312, '/etc/cups/subscriptions.conf.O': 415, '/etc/usb_modeswitch.d/12d1:1003': 62, '/etc/usb_modeswitch.d/12d1:1001': 44, '/etc/usb_modeswitch.d/1d09:1000': 82, '/etc/gconf/gconf.xml.defaults/%gconf-tree-ta.xml': 45639, '/etc/usb_modeswitch.d/12d1:1009': 69, '/etc/selinux/targeted/contexts/default_contexts': 254, '/etc/gconf/gconf.xml.defaults/%gconf-tree-pa.xml': 41204, '/etc/dbus-1/system.d/org.freedesktop.locale1.conf': 937, '/etc/rwtab.d/sssd': 18, '/etc/brltty/Text/ltr-cyrillic.tti': 5337, '/etc/dconf/db/ibus': 2227, '/etc/sane.d/ricoh.conf': 29, '/etc/sysconfig/corosync': 358, '/etc/usb_modeswitch.d/2262:0001': 137, '/etc/usb_modeswitch.d/19d2:0053': 79, '/etc/usb_modeswitch.d/1004:6327': 137, '/etc/machine-id': 33, '/etc/motd': 0, '/etc/dbus-1/system.d/org.freedesktop.RealtimeKit1.conf': 1075, '/etc/selinux/targeted/contexts/files/file_contexts.homedirs': 13239, '/etc/xdg/powerline/colorschemes/shell/solarized.json': 287, '/etc/X11/xinit/xinputrc': 548, '/etc/resolv.conf': 93, '/etc/sysconfig/network-scripts/ifcfg-lo': 254, '/etc/usb_modeswitch.d/12d1:1c1b': 104, '/etc/sysconfig/readonly-root': 755, '/etc/sane.d/kodakaio.conf': 2599, '/etc/xdg/powerline/config.json': 1060, '/etc/PackageKit/PackageKit.conf': 706, '/etc/usb_modeswitch.d/1c9e:9e08': 86, '/etc/pki/rpm-gpg/RPM-GPG-KEY-fedora-21-primary': 1658, '/etc/xdg/menus/applications.menu': 3623, '/etc/gconf/gconf.xml.defaults/%gconf-tree-mk.xml': 37554, '/etc/profile.d/bash_completion.sh': 666, '/etc/pki/rpm-gpg/RPM-GPG-KEY-fedora-17-s390': 3828, '/etc/dbus-1/system.d/nm-dispatcher.conf': 465, '/etc/pki/rpm-gpg/RPM-GPG-KEY-fedora-24-ppc64le': 3128, '/etc/alternatives/print-lpq': 19504, '/etc/fonts/conf.d/66-google-noto-sans-tai-tham.conf': 337, '/etc/xdg/autostart/abrt-applet.desktop': 2444, '/etc/iproute2/rt_dsfield': 331, '/etc/ppp/ipv6-up': 3182, '/etc/pki/ca-trust/ca-legacy.conf': 980, '/etc/pki/rpm-gpg/RPM-GPG-KEY-rpmfusion-free-fedora-rawhide': 1694, '/etc/libreport/events.d/bugzilla_event.conf': 220, '/etc/libreport/events.d/emergencyanalysis_event.conf': 290, '/etc/alternatives/print-lpc': 15448, '/etc/selinux/targeted/contexts/files/file_contexts': 374083, '/etc/usb_modeswitch.d/148f:2578': 115, '/etc/usb_modeswitch.d/12d1:1c24': 109, '/etc/cron.d/raid-check': 108, '/etc/sane.d/v4l.conf': 204, '/etc/vimrc.rpmsave': 2379, '/etc/systemd/system/multi-user.target.wants/abrt-xorg.service': 231, '/etc/setuptool.d/99kbdconfig': 43, '/etc/dbus-1/system.d/bluetooth.conf': 1489, '/etc/libreport/workflows.d/report_uploader.conf': 212, '/etc/selinux/targeted/contexts/initrc_context': 30, '/etc/usb_modeswitch.d/12d1:1d50': 31, '/etc/mcelog/mcelog.conf': 1509, '/etc/mtab': 0, '/etc/vmware-tools/vgauth/schemas/XMLSchema.dtd': 16072, '/etc/brltty/Input/bm/front6.kti': 1075, '/etc/systemd/bootchart.conf': 720, '/etc/NetworkManager/dispatcher.d/00-netreport': 175, '/etc/dbus-1/system.d/org.opensuse.CupsPkHelper.Mechanism.conf': 535, '/etc/gconf/gconf.xml.defaults/%gconf-tree-en_CA.xml': 20785, '/etc/pki/rpm-gpg/RPM-GPG-KEY-fedora-10-x86_64': 2380, '/etc/usb_modeswitch.d/12d1:14fe': 121, '/etc/usb_modeswitch.d/0b3c:c700': 105, '/etc/gconf/gconf.xml.defaults/%gconf-tree-ro.xml': 28952, '/etc/vmware-tools/GuestProxyData/server/cert.pem': 1196, '/etc/pki/rpm-gpg/RPM-GPG-KEY-fedora-23-s390': 3145, '/etc/setuptool.d/99authconfig': 50, '/etc/subuid': 35, '/etc/usb_modeswitch.d/1410:5010': 98, '/etc/pki/rpm-gpg/RPM-GPG-KEY-fedora-22-primary': 1658, '/etc/libreport/workflows.d/anaconda_event.conf': 200, '/etc/brltty/Text/punc-tibetan.tti': 1076, '/etc/usb_modeswitch.d/1fac:0130': 146, '/etc/brltty/Input/xw/all.txt': 77, '/etc/brltty/Input/pm/el70s.ktb': 856, '/etc/usb_modeswitch.d/1614:0802': 127, '/etc/brltty/Text/fr.ttb': 837, '/etc/usb_modeswitch.d/1614:0800': 127, '/etc/gconf/gconf.xml.defaults/%gconf-tree-id.xml': 27776, '/etc/pam.d/liveinst': 97, '/etc/fonts/conf.d/65-0-jomolhari.conf': 1733, '/etc/gconf/schemas/desktop_gnome_accessibility_startup.schemas': 22402, '/etc/usb_modeswitch.d/0471:1237': 118, '/etc/usb_modeswitch.d/19d2:#linux': 223, '/etc/rc.d/rc0.d/K50netconsole': 2989, '/etc/brltty/Input/ir/all.kti': 1428, '/etc/brltty/Input/fs/pacmate.ktb': 1204, '/etc/dbus-1/system.d/avahi-dbus.conf': 1142, '/etc/libreport/events.d/mdadm_event.conf': 157, '/etc/dbus-1/system.d/org.freedesktop.ColorManager.conf': 1569, '/etc/gconf/gconf.xml.defaults/%gconf-tree-sk.xml': 29179, '/etc/usb_modeswitch.d/1c9e:9d00': 114, '/etc/sysconfig/init': 798, '/etc/usb_modeswitch.d/19d2:1580': 71, '/etc/brltty/Text/num-dot8.tti': 2050, '/etc/sysconfig/kdump': 1460, '/etc/pki/rpm-gpg/RPM-GPG-KEY-fedora-16-primary': 1653, '/etc/systemd/system/multi-user.target.wants/auditd.service': 709, '/etc/brltty/Contraction/de-kurzschrift.ctb': 54895, '/etc/X11/xinit/Xsession': 3548, '/etc/selinux/config': 549, '/etc/gssproxy/gssproxy.conf': 441, '/etc/brltty/Input/ht/dots.kti': 1651, '/etc/pam.d/runuser-l': 138, '/etc/pki/rpm-gpg/RPM-GPG-KEY-fedora-15-x86_64': 1653, '/etc/brltty/Contraction/es.ctb': 7619, '/etc/pki/rpm-gpg/RPM-GPG-KEY-rpmfusion-free-fedora-24': 1694, '/etc/pki/rpm-gpg/RPM-GPG-KEY-rpmfusion-free-fedora-23': 1694, '/etc/xdg/menus/start-here.menu': 920, '/etc/services': 681813, '/etc/usb_modeswitch.d/2001:a405': 77, '/etc/usb_modeswitch.d/2001:a403': 98, '/etc/usb_modeswitch.d/2001:a401': 320, '/etc/pam.d/systemd-user': 129, '/etc/pki/rpm-gpg/RPM-GPG-KEY-fedora-16-ppc': 3819, '/etc/gconf/schemas/desktop_gnome_applications_window_manager.schemas': 95670, '/etc/brltty/Input/pm/el_2d_40.ktb': 881, '/etc/xml/catalog': 1171, '/etc/alternatives/print-lpman': 2370, '/etc/fonts/conf.d/66-google-noto-sans-mandaic.conf': 335, '/etc/usb_modeswitch.d/12d1:101e': 113, '/etc/selinux/targeted/contexts/lxc_contexts': 333, '/etc/httpd/conf/httpd.conf': 11753, '/etc/crypto-policies/back-ends/java.config': 334, '/etc/usb_modeswitch.d/19d2:0198': 78, '/etc/brltty/Contraction/zh-tw-ucb.ctb': 400503, '/etc/rwtab.d/logrotate': 24, '/etc/brltty/Text/hr.ttb': 11671, '/etc/logrotate.d/wpa_supplicant': 100, '/etc/sane.d/matsushita.conf': 666, '/etc/selinux/targeted/contexts/openssh_contexts': 27, '/etc/alternatives/cdrecord': 349640, '/etc/pam.d/smartcard-auth-ac': 752, '/etc/brltty/Input/chords.kti': 2855, '/etc/rc.d/rc2.d/K90network': 6727, '/etc/usb_modeswitch.d/0471:1210:uMa=Philips': 47, '/etc/sysconfig/network-scripts/ifdown-routes': 837, '/etc/libreport/plugins/bugzilla_format_anaconda.conf': 2096, '/etc/usb_modeswitch.d/12d1:1010': 47, '/etc/pam.d/password-auth': 974, '/etc/brltty/Input/eu/clio.ktb': 1985, '/etc/cups/snmp.conf.default': 142, '/etc/brltty/Input/bn/all.ktb': 6353, '/etc/sane.d/plustek.conf': 4142, '/etc/xdg/powerline/themes/vim/tabline.json': 1697, '/etc/usb_modeswitch.d/04bb:bccd': 145, '/etc/usb_modeswitch.d/1004:613a': 68, '/etc/usb_modeswitch.d/1004:613f': 101, '/etc/brltty/Input/ec/spanish.txt': 938, '/etc/crontab': 451, '/etc/systemd/system/multi-user.target.wants/NetworkManager.service': 454, '/etc/systemd/system/sysinit.target.wants/lvm2-monitor.service': 662, '/etc/pki/rpm-gpg/RPM-GPG-KEY-fedora-12-ppc': 1653, '/etc/usb_modeswitch.d/2357:f000': 73, '/etc/usb_modeswitch.d/19d2:0040': 80, '/etc/profile.d/scl-init.sh': 663, '/etc/systemd/system/sysinit.target.wants/multipathd.service': 597, '/etc/sudoers': 3253, '/etc/sysconfig/sysstat': 786, '/etc/alternatives/links': 1614896, '/etc/pki/rpm-gpg/RPM-GPG-KEY-fedora-9-secondary': 1694, '/etc/pki/ca-trust/extracted/pem/email-ca-bundle.pem': 208874, '/etc/httpd/conf.modules.d/10-mod_dnssd.conf': 45, '/etc/dbus-1/system.d/org.freedesktop.GeoClue2.Agent.conf': 445, '/etc/sound/events/gnome-2.soundlist': 28682, '/etc/pki/nssdb/key3.db': 16384, '/etc/brltty/Text/es.ttb': 12680, '/etc/brltty/Input/ht/mdlr.ktb': 1310, '/etc/brltty/Text/eo.ttb': 2346, '/etc/brltty/Contraction/ny.ctb': 1269, '/etc/pam.d/login': 715, '/etc/mke2fs.conf': 967, '/etc/sysconfig/network-scripts/ifup-ippp': 12039, '/etc/systemd/system/multi-user.target.wants/avahi-daemon.service': 1044, '/etc/usb_modeswitch.d/1bbb:f052': 140, '/etc/sane.d/magicolor.conf': 1254, '/etc/cups/cups-files.conf': 2901, '/etc/sysconfig/network-scripts/ifup-post': 2774, '/etc/gconf/gconf.xml.defaults/%gconf-tree-gu.xml': 44005, '/etc/pam.d/password-auth-ac': 974, '/etc/lsb-release.d/desktop-4.1-noarch': 0, '/etc/brltty/Input/al/abt_extra.kti': 941, '/etc/pki/rpm-gpg/RPM-GPG-KEY-fedora-17-i386': 1653, '/etc/usb_modeswitch.d/0af0:6711': 135, '/etc/sane.d/avision.conf': 548, '/etc/brltty/Input/bm/wheels.kti': 1288, '/etc/sane.d/hp3900.conf': 396, '/etc/vimrc': 2334, '/etc/gss/mech.d/gssproxy.conf': 189, '/etc/speech-dispatcher/modules/espeak.conf': 1624, '/etc/gconf/schemas/desktop_gnome_thumbnailers.schemas': 28248, '/etc/xdg/powerline/colorschemes/tmux/solarized.json': 975, '/etc/memtest86+.conf': 424, '/etc/brltty/Contraction/pt.ctb': 10267, '/etc/rc.d/init.d/livesys': 6674, '/etc/ppp/firewall-masq': 2276, '/etc/usb_modeswitch.d/1410:5059': 106, '/etc/java/font.properties': 13475, '/etc/shadow-': 1337, '/etc/brltty/Input/eu/esys_small.ktb': 875, '/etc/redhat-lsb/lsb_log_message': 243, '/etc/bash_completion.d/scl-completion.bash': 2660, '/etc/NetworkManager/dispatcher.d/20-chrony': 442, '/etc/usb_modeswitch.d/0408:1000': 131, '/etc/brltty/Text/sv-1989.ttb': 11182, '/etc/libreport/events.d/smart_event.conf': 999, '/etc/pam.d/crond': 293, '/etc/crypto-policies/back-ends/bind.config': 37, '/etc/systemd/system/sssd.service.d/journal.conf': 272, '/etc/avahi/avahi-daemon.conf': 1747, '/etc/iproute2/ematch_map': 75, '/etc/pki/java/cacerts': 194084, '/etc/dbus-1/system.d/org.freedesktop.PolicyKit1.conf': 638, '/etc/pki/rpm-gpg/RPM-GPG-KEY-fedora-24-s390': 3128, '/etc/systemd/system/multi-user.target.wants/rngd.service': 150, '/etc/usb_modeswitch.d/16d8:700a': 117, '/etc/fonts/conf.d/65-lklug.conf': 422, '/etc/default/nss': 1756, '/etc/brltty/Input/mm/common.kti': 2589, '/etc/pki/fwupd-metadata/GPG-KEY-Linux-Vendor-Firmware-Service': 959, '/etc/usb_modeswitch.d/21f5:1000': 165, '/etc/usb_modeswitch.d/1410:5020': 83, '/etc/usb_modeswitch.d/1410:5023': 74, '/etc/usb_modeswitch.d/1c9e:9401': 137, '/etc/xdg/powerline/themes/shell/default.json': 711, '/etc/pki/rpm-gpg/RPM-GPG-KEY-fedora-23-secondary': 3145, '/etc/sane.d/tamarack.conf': 28, '/etc/default/google-chrome': 22, '/etc/alternatives/google-chrome': 3050, '/etc/cups/subscriptions.conf': 415, '/etc/brltty/Input/pm/c_486.ktb': 865, '/etc/usb_modeswitch.d/0e8d:0002:uPr=MT': 165, '/etc/alternatives/policytool.1.gz': 1618, '/etc/usb_modeswitch.d/1b7d:0700': 184, '/etc/usb_modeswitch.d/12d1:#linux': 97, '/etc/profile.d/colorls.csh': 1741, '/etc/fonts/conf.d/57-paratype-pt-sans.conf': 565, '/etc/sasl2/qemu.conf': 1364, '/etc/sysconfig/atd': 403, '/etc/brltty/Contraction/ja.ctb': 8450, '/etc/xdg/menus/gnome-applications.menu': 10278, '/etc/profile.d/colorgrep.sh': 201, '/etc/usb_modeswitch.d/20a6:f00e': 70, '/etc/crypto-policies/state/current': 8, '/etc/sysconfig/network-scripts/ifdown-TeamPort': 1556, '/etc/fonts/conf.d/66-google-noto-sans-tagalog.conf': 463, '/etc/profile.d/colorgrep.csh': 196, '/etc/brltty/Text/brf.ttb': 2848, '/etc/sysconfig/network-scripts/ifdown-post': 1778, '/etc/mcelog/mcelog.setup': 445, '/etc/httpd/conf.d/userdir.conf': 1252, '/etc/brltty/Text/dra.ttb': 882, '/etc/ansible/ansible.cfg': 8625, '/etc/xdg/powerline/themes/unicode.json': 2504, '/etc/ppp/firewall-standalone': 978, '/etc/usb_modeswitch.d/1266:1000': 194, '/etc/pki/ca-trust/extracted/openssl/ca-bundle.trust.crt': 345353, '/etc/usb_modeswitch.d/1c9e:6000': 138, '/etc/magic': 111, '/etc/usb_modeswitch.d/1ee8:0009': 151, '/etc/dbus-1/system.d/net.reactivated.Fprint.conf': 544, '/etc/usb_modeswitch.d/1ee8:0003': 150, '/etc/filesystems': 66, '/etc/reader.conf.d/libccidtwin': 478, '/etc/brltty/Text/is.ttb': 9390, '/etc/sysconfig/docker-storage-setup': 179, '/etc/usb_modeswitch.d/1004:614e': 68, '/etc/xdg/powerline/colorschemes/default.json': 3775, '/etc/sysconfig/wpa_supplicant': 644, '/etc/rc.d/rc1.d/K90network': 6727, '/etc/cron.daily/man-db.cron': 618, '/etc/dbus-1/system.d/corosync-signals.conf': 806, '/etc/alternatives/print-lp': 19488, '/etc/brltty/Input/ht/as40.ktb': 834, '/etc/vpnc/default.conf': 119, '/etc/abrt/plugins/xorg.conf': 283, '/etc/usb_modeswitch.d/04e8:f000:sMo=U209': 136, '/etc/usb_modeswitch.d/1ab7:5700': 98, '/etc/xdg/autostart/gnome-keyring-pkcs11.desktop': 8110, '/etc/pki/nssdb/cert8.db': 65536, '/etc/ppp/chap-secrets': 78, '/etc/brltty/Input/ht/keypad.kti': 2859, '/etc/radvd.conf': 433, '/etc/alternatives/tnameserv': 7448, '/etc/httpd/conf.modules.d/README': 418, '/etc/brltty/Input/eu/common.kti': 1108, '/etc/pki/rpm-gpg/RPM-GPG-KEY-fedora-20-x86_64': 1658, '/etc/systemd/system/vmtoolsd.service.requires/vgauthd.service': 263, '/etc/brltty/Input/ts/nav.kti': 4314, '/etc/statetab': 212, '/etc/pki/rpm-gpg/RPM-GPG-KEY-rpmfusion-free-fedora-24-primary': 1694, '/etc/gconf/gconf.xml.defaults/%gconf-tree-sv.xml': 28893, '/etc/anacrontab': 541, '/etc/brltty/Input/ht/me88.ktb': 859, '/etc/profile.d/256term.sh': 841, '/etc/usb_modeswitch.d/12d1:1da1': 84, '/etc/brltty/Keyboard/sun_type6.ktb': 1505, '/etc/usb_modeswitch.d/2001:a805': 74, '/etc/ppp/options.pptp': 2151, '/etc/mail.rc': 1968, '/etc/xdg/powerline/themes/ipython/rewrite.json': 390, '/etc/fonts/conf.d/README': 978, '/etc/brltty/Input/eu/esytime.ktb': 855, '/etc/alternatives/mta-mailq': 2308, '/etc/brltty/Input/np/all.ktb': 1187, '/etc/fonts/conf.d/65-0-naver-nanum-gothic.conf': 469, '/etc/brltty/Text/blocks.tti': 1169, '/etc/usb_modeswitch.d/22f4:0021': 48, '/etc/brltty/Input/pm/status2.kti': 969, '/etc/xdg/autostart/tracker-store.desktop': 4989, '/etc/inittab': 490, '/etc/sane.d/coolscan2.conf': 754, '/etc/sane.d/mustek.conf': 2125, '/etc/profile.d/colorxzgrep.csh': 162, '/etc/brltty/Text/pa.ttb': 883, '/etc/selinux/targeted/policy/policy.29': 3751749, '/etc/sane.d/u12.conf': 1495, '/etc/usb_modeswitch.d/12d1:1805': 118, '/etc/sane.d/hpsj5s.conf': 22, '/etc/pki/rpm-gpg/RPM-GPG-KEY-fedora-14-i386': 1653, '/etc/gconf/gconf.xml.defaults/%gconf-tree-ar.xml': 32855, '/etc/xdg/powerline/themes/vim/__main__.json': 106, '/etc/sysconfig/network-scripts/ifdown-ppp': 1068, '/etc/usb_modeswitch.d/0930:0d46': 72, '/etc/brltty/Text/gd.ttb': 3420, '/etc/protocols': 6545, '/etc/usb_modeswitch.d/05c6:9024': 90, '/etc/brltty/Input/ts/pb80.ktb': 904, '/etc/dnf/dnf.conf': 72, '/etc/gconf/gconf.xml.defaults/%gconf-tree-eu.xml': 29448, '/etc/pam.d/polkit-1': 155, '/etc/gconf/gconf.xml.defaults/%gconf-tree-th.xml': 42675, '/etc/brltty/Input/ht/bs.kti': 1464, '/etc/pki/rpm-gpg/RPM-GPG-KEY-fedora-24-aarch64': 3128, '/etc/cups/cupsd.conf.default': 4514, '/etc/usb_modeswitch.d/0e8d:0002:uPr=Product': 179, '/etc/usb_modeswitch.d/0d46:45a1': 78, '/etc/fonts/conf.d/66-tabish-eeyek.conf': 441, '/etc/fonts/conf.d/65-0-lohit-tamil.conf': 633, '/etc/usb_modeswitch.d/0d46:45a5': 78, '/etc/pam.d/gdm-password': 787, '/etc/usb_modeswitch.d/19d2:1238': 70, '/etc/pki/rpm-gpg/RPM-GPG-KEY-fedora-11-primary': 1653, '/etc/gconf/gconf.xml.defaults/%gconf-tree-ja.xml': 33599, '/etc/brltty/Input/mt/bd2.ktb': 806, '/etc/usb_modeswitch.d/0af0:7381': 135, '/etc/logrotate.d/sssd': 237, '/etc/rc.d/rc1.d/K50netconsole': 2989, '/etc/ld.so.conf.d/kernel-4.2.3-300.fc23.x86_64.conf': 63, '/etc/usb_modeswitch.d/0af0:6811': 135, '/etc/gconf/gconf.xml.defaults/%gconf-tree-az.xml': 16017, '/etc/brltty/Input/bl/18.txt': 2728, '/etc/usb_modeswitch.conf': 1018, '/etc/alternatives/mkisofs-mkhybridman': 29303, '/etc/brltty/Text/it.ttb': 11206, '/etc/usb_modeswitch.d/109b:f009': 83, '/etc/fwupd.conf': 323, '/etc/fonts/conf.d/25-unhint-nonlatin.conf': 3256, '/etc/login.defs': 2028, '/etc/pki/rpm-gpg/RPM-GPG-KEY-fedora-15-i386': 1653, '/etc/sysconfig/network-scripts/keys-FunBox-9B42': 19, '/etc/usb_modeswitch.d/04fc:2140': 156, '/etc/rpm/macros.imgcreate': 0, '/etc/usb_modeswitch.d/19d2:1001': 109, '/etc/usb_modeswitch.d/19d2:1007': 82, '/etc/ppp/eaptls-server': 405, '/etc/brltty/Text/mi.ttb': 1245, '/etc/rc.d/rc6.d/K50netconsole': 2989, '/etc/pam.d/su': 540, '/etc/usb_modeswitch.d/0af0:6791': 135, '/etc/systemd/system/sockets.target.wants/pcscd.socket': 145, '/etc/usb_modeswitch.d/16d8:f000': 205, '/etc/alternatives/pack200.1.gz': 4345, '/etc/security/chroot.conf': 82, '/etc/alternatives/modules.csh': 1069, '/etc/xdg/powerline/themes/shell/default_leftonly.json': 630, '/etc/usb_modeswitch.d/19d2:1009': 82, '/etc/fonts/conf.d/65-1-vlgothic-gothic.conf': 1521, '/etc/gconf/gconf.xml.defaults/%gconf-tree-bg.xml': 39874, '/etc/gconf/gconf.xml.defaults/%gconf-tree-zh_TW.xml': 26776, '/etc/usb_modeswitch.d/057c:62ff': 116, '/etc/libreport/workflows.d/report_fedora.conf': 1151, '/etc/fonts/conf.d/61-aajohan-comfortaa.conf': 327, '/etc/usb_modeswitch.d/1410:5030': 72, '/etc/systemd/system/dbus-org.freedesktop.Avahi.service': 1044, '/etc/fonts/conf.d/65-sil-padauk.conf': 332, '/etc/usb_modeswitch.d/2077:1000': 115, '/etc/usb_modeswitch.d/12d1:14ba': 80, '/etc/selinux/targeted/contexts/users/root': 389, '/etc/pki/rpm-gpg/RPM-GPG-KEY-fedora-22-x86_64': 1658, '/etc/gconf/gconf.xml.defaults/%gconf-tree-mr.xml': 43904, '/etc/sane.d/gt68xx.conf': 7792, '/etc/crypto-policies/back-ends/gnutls28.config': 307, '/etc/alternatives/whois': 73864, '/etc/usb_modeswitch.d/0af0:7311': 135, '/etc/gconf/gconf.xml.defaults/%gconf-tree-fur.xml': 7348, '/etc/chrony.conf': 1092, '/etc/pam.d/su-l': 137, '/etc/vmware-tools/vgauth/schemas/xenc-schema.xsd': 5146, '/etc/sysconfig/network-scripts/ifdown-tunnel': 1462, '/etc/pki/rpm-gpg/RPM-GPG-KEY-fedora-8-original-primary': 1519, '/etc/NetworkManager/conf.d/10-ibft-plugin.conf': 399, '/etc/sysconfig/docker': 881, '/etc/pki/rpm-gpg/RPM-GPG-KEY-fedora-24-x86_64': 1657, '/etc/gconf/gconf.xml.defaults/%gconf-tree-ko.xml': 29062, '/etc/dbus-1/system.d/dnsmasq.conf': 475, '/etc/adjtime': 16, '/etc/avahi/hosts': 1121, '/etc/brltty/Input/hm/dots.kti': 1355, '/etc/profile.d/vim.csh': 105, '/etc/iproute2/group': 31, '/etc/crypto-policies/back-ends/openssl.config': 81, '/etc/ppp/ip-up.ipv6to4': 6426, '/etc/usb_modeswitch.d/19d2:1536': 79, '/etc/httpd/conf.d/welcome.conf': 516, '/etc/vmware-tools/vgauth/schemas/datatypes.dtd': 6356, '/etc/brltty/Text/ascii-basic.tti': 1010, '/etc/usb_modeswitch.d/1ee8:0018': 151, '/etc/pki/rpm-gpg/RPM-GPG-KEY-fedora-23-x86_64': 1674, '/etc/usb_modeswitch.d/1ee8:0013': 175, '/etc/libnl/pktloc': 1532, '/etc/brltty/Input/ce/all.ktb': 3613, '/etc/fonts/conf.d/31-cantarell.conf': 440, '/etc/mcelog/triggers/dimm-error-trigger': 1213, '/etc/alternatives/cdda2wav': 209480, '/etc/gdm/Init/Default': 2619, '/etc/brltty/Contraction/fr-integral.ctb': 3843, '/etc/libreport/events.d/java_event.conf': 1330, '/etc/sane.d/dmc.conf': 12, '/etc/brltty/Contraction/countries.cti': 6526, '/etc/sysconfig/cbq/avpkt': 11, '/etc/sysconfig/network-scripts/ifdown-eth': 5994, '/etc/alternatives/cdrecord-dvdrecord': 349640, '/etc/systemd/system/sysstat.service.wants/sysstat-collect.timer': 325, '/etc/xdg/powerline/colorschemes/shell/__main__.json': 287, '/etc/ppp/peers/wvdial': 30, '/etc/usb_modeswitch.d/03f0:002a': 145, '/etc/gdbinit': 265, '/etc/fonts/conf.d/20-unhint-small-vera.conf': 1259, '/etc/pki/rpm-gpg/RPM-GPG-KEY-fedora-10-i386': 2380, '/etc/pki/rpm-gpg/RPM-GPG-KEY-fedora-13-armhfp': 1653, '/etc/brltty/Text/mg.ttb': 1248, '/etc/brltty/Input/vs/all.txt': 374, '/etc/brltty/Input/pm/elb_tr_20.ktb': 865, '/etc/dbus-1/system.d/org.gnome.GConf.Defaults.conf': 570, '/etc/usb_modeswitch.d/ed09:1021': 93, '/etc/X11/xinit/xinitrc': 1486, '/etc/gconf/gconf.xml.defaults/%gconf-tree-pl.xml': 30158, '/etc/brltty/Attributes/invleft_right.atb': 1023, '/etc/gdm/Xsession': 3548, '/etc/dbus-1/system.d/nm-openvpn-service.conf': 492, '/etc/usb_modeswitch.d/16d8:6281': 117, '/etc/profile.d/colorls.sh': 1609, '/etc/usb_modeswitch.d/04cc:226e': 39, '/etc/usb_modeswitch.d/04cc:226f': 49, '/etc/pam.d/sshd': 904, '/etc/usb_modeswitch.d/0421:060c': 71, '/etc/sane.d/abaton.conf': 25, '/etc/rc.d/rc1.d/K01livesys-late': 1054, '/etc/dbus-1/system.d/wpa_supplicant.conf': 1232, '/etc/X11/xinit/xinput.d/ibus.conf': 548, '/etc/rc.d/rc0.d/K90network': 6727, '/etc/libreport/plugins/bugzilla.conf': 759, '/etc/gconf/gconf.xml.defaults/%gconf-tree-nb.xml': 27488, '/etc/jwhois.conf': 74553, '/etc/mtools.conf': 2620, '/etc/pam.d/sudo-i': 178, '/etc/rc.d/init.d/README': 1160, '/etc/pki/rpm-gpg/RPM-GPG-KEY-fedora-23-i386': 1674, '/etc/usb_modeswitch.d/257a:a000': 109, '/etc/abrt/plugins/CCpp.conf': 2273, '/etc/dkms/framework.conf': 906, '/etc/alternatives/rmiregistry': 7400, '/etc/sysconfig/network-scripts/ifcfg-lux-guest': 323, '/etc/brltty/Contraction/zu.ctb': 1233, '/etc/localtime': 2705, '/etc/usb_modeswitch.d/12d1:1030': 191, '/etc/usb_modeswitch.d/12d1:1031': 213, '/etc/pki/rpm-gpg/RPM-GPG-KEY-fedora-8-i386': 2388, '/etc/pki/rpm-gpg/RPM-GPG-KEY-fedora-18-secondary': 3828, '/etc/vmware-tools/guestproxy-ssl.conf': 453, '/etc/usb_modeswitch.d/0af0:6951': 135, '/etc/pki/rpm-gpg/RPM-GPG-KEY-fedora-13-primary': 1653, '/etc/alternatives/pack200': 7384, '/etc/lvm/profile/thin-performance.profile': 80, '/etc/lsb-release.d/languages-4.1-amd64': 0, '/etc/rpc': 1634, '/etc/usb_modeswitch.d/0af0:d035': 135, '/etc/usb_modeswitch.d/0af0:d031': 135, '/etc/usb_modeswitch.d/0af0:d033': 135, '/etc/brltty/Input/pm/el40s.ktb': 856, '/etc/bash_completion.d/lldpad': 1098, '/etc/brltty/Input/fs/bumpers.kti': 1114, '/etc/rc.d/rc2.d/K01livesys-late': 1054, '/etc/brltty/Contraction/en-us-g2.ctb': 41491, '/etc/usb_modeswitch.d/1dd6:1000': 155, '/etc/usb_modeswitch.d/0af0:7801': 135, '/etc/alternatives/pax-man': 36211, '/etc/gconf/gconf.xml.defaults/%gconf-tree-uk.xml': 37807, '/etc/pki/rpm-gpg/RPM-GPG-KEY-fedora-20-s390x': 3819, '/etc/sane.d/hp4200.conf': 76, '/etc/gconf/gconf.xml.defaults/%gconf-tree-eo.xml': 22903, '/etc/brltty/Text/en-na-ascii.tti': 2724, '/etc/usb_modeswitch.d/10a9:6080': 75, '/etc/rwtab': 935, '/etc/usb_modeswitch.d/19d2:1013': 100, '/etc/sane.d/sm3840.conf': 115, '/etc/usb_modeswitch.d/19d2:1017': 83, '/etc/sane.d/nec.conf': 13, '/etc/fonts/conf.d/30-0-google-crosextra-caladea-fontconfig.conf': 470, '/etc/vmware-tools/vgauth.conf': 60, '/etc/gconf/gconf.xml.defaults/%gconf-tree-bs.xml': 15894, '/etc/brltty/Input/bm/keyboard.kti': 1260, '/etc/pki/rpm-gpg/RPM-GPG-KEY-fedora-17-arm': 3828, '/etc/unbound/dlv.isc.org.key': 435, '/etc/xdg/powerline/themes/tmux/default.json': 498, '/etc/usb_modeswitch.d/19d2:0388': 147, '/etc/usb_modeswitch.d/0af0:6731': 135, '/etc/xdg/autostart/gnome-keyring-ssh.desktop': 6248, '/etc/xattr.conf': 589, '/etc/libreport/events.d/vmcore_event.conf': 2394, '/etc/DIR_COLORS': 5111, '/etc/vmware-tools/suspend-vm-default': 4364, '/etc/pki/rpm-gpg/RPM-GPG-KEY-fedora-23-aarch64': 3145, '/etc/xdg/qtchooser/5-64.conf': 34, '/etc/brltty/Input/mt/bd1_6.kti': 1610, '/etc/.updated': 63, '/etc/sysconfig/network-scripts/ifup-eth': 11743, '/etc/libreport/libreport.conf': 290, '/etc/profile.d/PackageKit.sh': 1157, '/etc/brltty/Input/mt/bd1_6.ktb': 832, '/etc/usb_modeswitch.d/1c9e:f000': 210, '/etc/alternatives/mta': 2308, '/etc/systemd/system/getty.target.wants/getty@tty1.service': 1536, '/etc/sane.d/epsonds.conf': 221, '/etc/usb_modeswitch.d/1410:5041': 115, '/etc/alternatives/print-cancelman': 1140, '/etc/kernel/postinst.d/dkms': 1120, '/etc/pki/rpm-gpg/RPM-GPG-KEY-fedora-9-ppc64': 2388, '/etc/usb_modeswitch.d/1410:5031': 76, '/etc/rc.d/rc0.d/K99livesys': 6674, '/etc/gconf/gconf.xml.defaults/%gconf-tree-tr.xml': 29064, '/etc/sane.d/pixma.conf': 492, '/etc/xdg/autostart/gnome-software-service.desktop': 123, '/etc/sysconfig/network-scripts/ifdown-sit': 1444, '/etc/pki/rpm-gpg/RPM-GPG-KEY-fedora-16-arm': 3819, '/etc/brltty/Keyboard/keypad.ktb': 3282, '/etc/request-key.d/cifs.idmap.conf': 50, '/etc/passwdqc.conf': 99, '/etc/alternatives/print-lprm': 11232, '/etc/sysconfig/network-scripts/ifup-wireless': 1794, '/etc/wpa_supplicant/wpa_supplicant.conf': 67, '/etc/pki/rpm-gpg/RPM-GPG-KEY-fedora-9-i386': 2388, '/etc/pki/rpm-gpg/RPM-GPG-KEY-fedora-24-primary': 1657, '/etc/systemd/system/multi-user.target.wants/vmtoolsd.service': 311, '/etc/systemd/system/printer.target.wants/cups.service': 196, '/etc/gconf/gconf.xml.defaults/%gconf-tree-cs.xml': 28786, '/etc/usb_modeswitch.d/0fca:8020': 83, '/etc/sysconfig/radvd': 186, '/etc/security/group.conf': 3635, '/etc/usb_modeswitch.d/0af0:6971': 135, '/etc/pki/rpm-gpg/RPM-GPG-KEY-rpmfusion-free-fedora-latest': 1694, '/etc/usb_modeswitch.d/19d2:1528': 69, '/etc/usb_modeswitch.d/19d2:1520': 69, '/etc/usb_modeswitch.d/19d2:1523': 77, '/etc/security/namespace.conf': 1440, '/etc/passwd-': 2414, '/etc/pki/rpm-gpg/RPM-GPG-KEY-fedora-15-armhfp': 3810, '/etc/brltty/Text/en.ttb': 839, '/etc/pki/rpm-gpg/RPM-GPG-KEY-fedora-14-x86_64': 1653, '/etc/brltty/Input/al/sat_basic.kti': 3528, '/etc/gconf/schemas/desktop_gnome_background.schemas': 130864, '/etc/brltty/Text/pi.ttb': 882, '/etc/pki/rpm-gpg/RPM-GPG-KEY-fedora-22-s390': 3819, '/etc/usb_modeswitch.d/04cc:225c': 39, '/etc/csh.login': 841, '/etc/brltty/Input/pm/status22.kti': 2240, '/etc/profile.d/qt-graphicssystem.csh': 313, '/etc/sane.d/teco1.conf': 355, '/etc/brltty/Text/fr-cbifs.ttb': 11255, '/etc/brltty/Text/common.tti': 1144, '/etc/usb_modeswitch.d/1bbb:022c': 32, '/etc/security/namespace.init': 1016, '/etc/usb_modeswitch.d/1004:61e7': 68, '/etc/xdg/menus/settings.menu': 1370, '/etc/ssh/ssh_host_rsa_key.pub': 382, '/etc/pam.d/config-util': 232, '/etc/systemd/journald.conf': 969, '/etc/default/useradd': 119, '/etc/pki/rpm-gpg/RPM-GPG-KEY-fedora-18-s390': 3828, '/etc/systemd/system/multi-user.target.wants/vboxautostart-service.service': 495, '/etc/brltty/Input/pm/el40c.ktb': 856, '/etc/httpd/conf.d/autoindex.conf': 2893, '/etc/bash_completion.d/dkms': 2384, '/etc/brltty/Input/fs/common.kti': 1960, '/etc/usb_modeswitch.d/04cc:2251': 92, '/etc/usb_modeswitch.d/2001:98ff': 153, '/etc/brltty/Contraction/id.ctb': 1451, '/etc/brltty/Input/vo/bp.ktb': 831, '/etc/brltty/Contraction/nl.ctb': 1240, '/etc/speech-dispatcher/modules/pico-generic.conf': 3306, '/etc/usb_modeswitch.d/05c6:1000:sVe=GT': 165, '/etc/xdg/qtchooser/4.conf': 34, '/etc/rc.d/rc3.d/K90network': 6727, '/etc/modprobe.d/lockd.conf': 225, '/etc/brltty/Contraction/nabcc.cti': 2191, '/etc/usb_modeswitch.d/1c9e:f000:uMa=USB_Modem': 195, '/etc/usb_modeswitch.d/0685:2000': 162, '/etc/usb_modeswitch.d/0af0:d357': 135, '/etc/dbus-1/system.d/gdm.conf': 4058, '/etc/groff/site-tmac/mdoc.local': 112, '/etc/dbus-1/system.d/org.freedesktop.systemd1.conf': 9720, '/etc/fonts/conf.d/65-0-khmeros-base.conf': 1687, '/etc/systemd/system/sockets.target.wants/avahi-daemon.socket': 874, '/etc/sysconfig/network-scripts/ifup-routes': 1925, '/etc/pam.d/gdm-fingerprint': 561, '/etc/usb_modeswitch.d/0af0:8700': 142, '/etc/ppp/pppoe-server-options': 104, '/etc/pki/rpm-gpg/RPM-GPG-KEY-fedora-21-x86_64': 1658, '/etc/alternatives/keytool': 7392, '/etc/httpd/conf.modules.d/00-systemd.conf': 88, '/etc/kernel/prerm.d/dkms': 630, '/etc/fonts/conf.d/65-0-lohit-odia.conf': 631, '/etc/usb_modeswitch.d/0421:062c': 80, '/etc/usb_modeswitch.d/0482:024d': 42, '/etc/usb_modeswitch.d/05c6:6503': 76, '/etc/sane.d/qcam.conf': 391, '/etc/brltty/Input/pm/keys.kti': 2726, '/etc/openldap/ldap.conf': 364, '/etc/gconf/gconf.xml.defaults/%gconf-tree-zh_HK.xml': 26791, '/etc/UPower/UPower.conf': 2661, '/etc/usb_modeswitch.d/1004:607f': 182, '/etc/usb_modeswitch.d/0af0:7701': 135, '/etc/usb_modeswitch.d/0af0:7706': 135, '/etc/brltty/Text/no.ttb': 839, '/etc/kdump.conf': 7156, '/etc/fonts/conf.d/59-liberation-sans.conf': 483, '/etc/usb_modeswitch.d/1bbb:f000': 201, '/etc/pulse/client.conf': 1201, '/etc/systemd/system/default.target': 558, '/etc/sane.d/coolscan.conf': 34, '/etc/sane.d/leo.conf': 113, '/etc/usb_modeswitch.d/19d2:0120': 119, '/etc/brltty/Text/en_CA.ttb': 6653, '/etc/NetworkManager/dispatcher.d/04-iscsi': 100, '/etc/usb_modeswitch.d/0af0:d001': 197, '/etc/httpd/conf.modules.d/00-dav.conf': 139, '/etc/brltty/Text/ml.ttb': 886, '/etc/sane.d/pieusb.conf': 245, '/etc/brltty/Input/fs/rockers.kti': 981, '/etc/usb_modeswitch.d/22de:6801': 53, '/etc/systemd/system/basic.target.wants/dnf-makecache.timer': 187, '/etc/brltty/Text/ctl-latin.tti': 2207, '/etc/brltty/Text/as.ttb': 883, '/etc/pki/rpm-gpg/RPM-GPG-KEY-fedora-22-s390x': 3819, '/etc/security/opasswd': 0, '/etc/usb_modeswitch.d/19d2:0266': 155, '/etc/systemd/system/dbus-org.freedesktop.ModemManager1.service': 268, '/etc/gconf/schemas/desktop_gnome_applications_terminal.schemas': 38969, '/etc/gconf/gconf.xml.defaults/%gconf-tree-zu.xml': 5215, '/etc/pam_pkcs11/pkcs11_eventmgr.conf': 1153, '/etc/brltty/Keyboard/laptop.ktb': 3691, '/etc/pki/rpm-gpg/RPM-GPG-KEY-fedora-22-ppc64': 3819, '/etc/fcoe/cfg-ethx': 678, '/etc/usb_modeswitch.d/12d1:14ad': 83, '/etc/alternatives/java.1.gz': 25741, '/etc/crypto-policies/back-ends/krb5.config': 191, '/etc/bashrc': 3025, '/etc/sysconfig/network-scripts/ifup-isdn': 12039, '/etc/selinux/targeted/contexts/failsafe_context': 29, '/etc/sysconfig/corosync-notifyd': 206, '/etc/setuptool.d/98system-config-display': 47, '/etc/pki/tls/misc/c_issuer': 112, '/etc/gconf/gconf.xml.defaults/%gconf-tree-ga.xml': 4757, '/etc/rc.d/rc1.d/K99livesys': 6674, '/etc/usb_modeswitch.d/12d1:1520': 72, '/etc/usb_modeswitch.d/0af0:7601': 135, '/etc/pki/tls/misc/c_info': 152, '/etc/dbus-1/system.d/org.selinux.conf': 535, '/etc/brltty/Input/sk/ntk.ktb': 4440, '/etc/sysconfig/network-scripts/init.ipv6-global': 4623, '/etc/brltty/Input/al/abt_small.ktb': 873, '/etc/usb_modeswitch.d/12d1:15e7': 72, '/etc/usb_modeswitch.d/1bbb:011f': 77, '/etc/usb_modeswitch.d/2001:a80b': 163, '/etc/brltty/Text/ltr-tibetan.tti': 4851, '/etc/usb_modeswitch.d/1410:5055': 77, '/etc/abrt/plugins/python3.conf': 204, '/etc/usb_modeswitch.d/0af0:8302': 135, '/etc/gconf/gconf.xml.defaults/%gconf-tree-nl.xml': 29051, '/etc/usb_modeswitch.d/0af0:c031': 135, '/etc/usb_modeswitch.d/0af0:8300': 135, '/etc/pam.d/chsh': 192, '/etc/brltty/Input/pm/routing.kti': 958, '/etc/security/time.conf': 2179, '/etc/alternatives/pax': 348552, '/etc/fw_env.config': 882, '/etc/logrotate.d/cups': 71, '/etc/gshadow': 864, '/etc/elinks.conf': 508, '/etc/cups/lpoptions': 0, '/etc/brltty/Input/ht/input.kti': 1156, '/etc/security/console.perms': 939, '/etc/redhat-lsb/lsb_pidofproc': 59, '/etc/usb_modeswitch.d/1199:0fff': 417, '/etc/usb_modeswitch.d/0af0:c100': 135, '/etc/sane.d/saned.conf': 1052, '/etc/pam.d/smartcard-auth': 752, '/etc/xdg/powerline/themes/vim/plugin_commandt.json': 474, '/etc/usb_modeswitch.d/072f:100d': 215, '/etc/plymouth/plymouthd.conf': 94, '/etc/xdg/autostart/xdg-user-dirs.desktop': 182, '/etc/lsb-release.d/printing-4.1-noarch': 0, '/etc/pam.d/remote': 640, '/etc/pki/ca-trust/source/README': 932, '/etc/pki/ca-trust/source/ca-bundle.legacy.crt': 56189, '/etc/fonts/conf.d/65-0-adobe-source-han-sans-cn.conf': 2801, '/etc/libreport/events.d/uploader_event.conf': 38, '/etc/xdg/qtchooser/default.conf': 34, '/etc/updatedb.conf': 587, '/etc/sysconfig/network-scripts/ifcfg-FunBox-9B42': 362, '/etc/gconf/gconf.xml.defaults/%gconf-tree-sr@ije.xml': 19510, '/etc/usb_modeswitch.d/1004:61dd': 72, '/etc/brltty/Contraction/mun.ctb': 1276, '/etc/usb_modeswitch.d/19d2:1511': 69, '/etc/pki/rpm-gpg/RPM-GPG-KEY-fedora-11-ppc': 1653, '/etc/pam.d/setup': 145, '/etc/usb_modeswitch.d/19d2:1514': 143, '/etc/usb_modeswitch.d/19d2:1517': 79, '/etc/pam.d/sudo': 238, '/etc/pam.d/gdm-autologin': 546, '/etc/shadow': 1363, '/etc/sysconfig/network-scripts/ifdown-bnep': 627, '/etc/libreport/events.d/abrt_event.conf': 6925, '/etc/crypto-policies/back-ends/gnutls.config': 333, '/etc/pki/rpm-gpg/RPM-GPG-KEY-fedora-18-armhfp': 3828, '/etc/hosts.allow': 370, '/etc/fonts/conf.d/20-unhint-small-dejavu-serif.conf': 858, '/etc/usb_modeswitch.d/198f:bccd': 156, '/etc/brltty/Text/devanagari.tti': 5904, '/etc/sane.d/fujitsu.conf': 2319, '/etc/brltty/Text/pt.ttb': 11169, '/etc/usb_modeswitch.d/1c9e:9101': 137, '/etc/sane.d/agfafocus.conf': 14, '/etc/pki/rpm-gpg/RPM-GPG-KEY-fedora-16-s390x': 3819, '/etc/brltty/Input/bn/input.kti': 941, '/etc/systemd/user.conf': 1127, '/etc/sane.d/bh.conf': 29, '/etc/selinux/targeted/contexts/securetty_types': 74, '/etc/usb_modeswitch.d/05c6:1000:uMa=Option': 160, '/etc/brltty/Input/pm/el80s.ktb': 856, '/etc/pki/rpm-gpg/RPM-GPG-KEY-fedora-24-armhfp': 1657, '/etc/sane.d/microtek.conf': 268, '/etc/xdg/autostart/gnome-initial-setup-first-login.desktop': 2894, '/etc/brltty/Input/ht/me.kti': 1256, '/etc/brltty/Contraction/ko-g1.ctb': 1176, '/etc/gconf/gconf.xml.defaults/%gconf-tree-en@shaw.xml': 34064, '/etc/usb_modeswitch.d/0af0:7a05': 133, '/etc/usb_modeswitch.d/0af0:7a01': 135, '/etc/alternatives/unpack200.1.gz': 2175, '/etc/pki/rpm-gpg/RPM-GPG-KEY-fedora-12-x86_64': 1653, '/etc/pam.d/other': 154, '/etc/usb_modeswitch.d/0e8d:7109': 110, '/etc/usb_modeswitch.d/05c6:1000:uMa=AnyDATA': 89, '/etc/alternatives/policytool': 7400, '/etc/selinux/targeted/contexts/files/file_contexts.subs': 0, '/etc/sane.d/coolscan3.conf': 754, '/etc/sane.d/artec_eplus48u.conf': 4140, '/etc/pki/rpm-gpg/RPM-GPG-KEY-fedora-21-s390x': 3819, '/etc/issue.net': 27, '/etc/gconf/gconf.xml.defaults/%gconf-tree-bn_IN.xml': 47555, '/etc/brltty/Input/ts/pb.kti': 3031, '/etc/usb_modeswitch.d/12d1:1521': 72, '/etc/usb_modeswitch.d/12d1:1523': 71, '/etc/request-key.d/cifs.spnego.conf': 52, '/etc/nsswitch.conf.bak': 1739, '/etc/pam.d/postlogin-ac': 326, '/etc/fonts/conf.d/60-latin.conf': 1798, '/etc/pam.d/gdm-launch-environment': 303, '/etc/ld.so.conf.d/qt-x86_64.conf': 22, '/etc/libreport/plugins/bugzilla_format.conf': 2141, '/etc/profile': 1750, '/etc/request-key.conf': 1787, '/etc/sane.d/umax1220u.conf': 386, '/etc/usb_modeswitch.d/19d2:0003': 45, '/etc/pki/rpm-gpg/RPM-GPG-KEY-fedora-22-i386': 1658, '/etc/docker/key.json': 281, '/etc/brltty/Contraction/am.ctb': 12718, '/etc/DIR_COLORS.256color': 5697, '/etc/usb_modeswitch.d/0af0:8600': 135, '/etc/logrotate.d/httpd': 194, '/etc/systemd/system/multi-user.target.wants/abrt-oops.service': 233, '/etc/sane.d/apple.conf': 24, '/etc/brltty/Input/ts/pb40.ktb': 904, '/etc/brltty/Input/bm/routing6.kti': 1505, '/etc/brltty/Input/al/sat_extra.kti': 1064, '/etc/rc.d/rc5.d/S00livesys': 6674, '/etc/vconsole.conf': 28, '/etc/usb_modeswitch.d/1d09:1021': 68, '/etc/pki/rpm-gpg/RPM-GPG-KEY-fedora-19-armhfp': 3819, '/etc/profile.d/lang.sh': 2703, '/etc/security/pwquality.conf': 1718, '/etc/usb_modeswitch.d/0471:1210:uMa=Wisue': 93, '/etc/brltty/Text/et.ttb': 2004, '/etc/libreport/events/report_Logger.conf': 49, '/etc/profile.d/less.csh': 233, '/etc/pydfrc': 3236, '/etc/usb_modeswitch.d/12d1:14b5': 93, '/etc/usb_modeswitch.d/0af0:d013': 135, '/etc/usb_modeswitch.d/12d1:14b7': 83, '/etc/pki/ca-trust/extracted/pem/objsign-ca-bundle.pem': 207800, '/etc/security/sepermit.conf': 419, '/etc/abrt/abrt-action-save-package-data.conf': 655, '/etc/vmware-tools/resume-vm-default': 4364, '/etc/sysconfig/network-scripts/ifup-bnep': 859, '/etc/dbus-1/system.d/org.freedesktop.UPower.conf': 1555, '/etc/alternatives/cdrecord-dvdrecordman': 24896, '/etc/NetworkManager/VPN/nm-openconnect-service.name': 256, '/etc/gconf/gconf.xml.defaults/%gconf-tree-et.xml': 28511, '/etc/sysconfig/htcacheclean': 348, '/etc/libreport/events.d/collect_dnf.conf': 813, '/etc/pam.d/runuser': 143, '/etc/sysconfig/fcoe': 169, '/etc/usb_modeswitch.d/12d1:14c4': 81, '/etc/pki/ca-trust/extracted/java/cacerts': 194084, '/etc/pki/rpm-gpg/RPM-GPG-KEY-fedora-7-primary': 1519, '/etc/system-release': 33, '/etc/dbus-1/system.d/org.freedesktop.Accounts.conf': 917, '/etc/libreport/plugins/bugzilla_format_java.conf': 2018, '/etc/setuptool.d/99printconf-tui': 46, '/etc/usb_modeswitch.d/19d2:1030': 93, '/etc/gconf/gconf.xml.defaults/%gconf-tree-it.xml': 30071, '/etc/vmware-tools/vgauth/schemas/saml-schema-assertion-2.0.xsd': 13160, '/etc/usb_modeswitch.d/19d2:1038': 91, '/etc/brltty/Input/eu/esys_medium.ktb': 892, '/etc/usb_modeswitch.d/1c9e:1001': 155, '/etc/fonts/conf.d/69-gnu-free-sans.conf': 979, '/etc/sysconfig/saslauthd': 429, '/etc/xdg/powerline/themes/vim/plugin_gundo.json': 328, '/etc/rc.d/rc4.d/S99livesys-late': 1054, '/etc/systemd/system/multi-user.target.wants/vboxweb-service.service': 477, '/etc/systemd/system/multi-user.target.wants/mdmonitor.service': 310, '/etc/wvdial.conf': 0, '/etc/brltty/Input/ts/pb_large.kti': 1067, '/etc/sysconfig/authconfig': 430, '/etc/usb_modeswitch.d/0b3c:f000': 173, '/etc/brltty/Contraction/de-vollschrift.ctb': 3450, '/etc/gconf/gconf.xml.defaults/%gconf-tree-zh_CN.xml': 25926, '/etc/yum.repos.d/rpmfusion-free-rawhide.repo': 1241, '/etc/systemd/system/timers.target.wants/unbound-anchor.timer': 346, '/etc/usb_modeswitch.d/1bbb:f017': 161, '/etc/brltty/Input/pm/elba_32.ktb': 879, '/etc/cups/snmp.conf': 142, '/etc/sysconfig/run-parts': 0, '/etc/fstab': 845, '/etc/systemd/system/dbus-org.fedoraproject.FirewallD1.service': 631, '/etc/dracut.conf': 117, '/etc/xdg/powerline/themes/unicode_terminus.json': 2509, '/etc/dbus-1/system.d/dbus-abrt.conf': 957, '/etc/setuptool.d/99mouseconfig': 42, '/etc/fonts/conf.d/40-nonlatin.conf': 5182, '/etc/brltty/Text/de-chess.tti': 1656, '/etc/X11/xinit/xinitrc.d/localuser.sh': 543, '/etc/pki/rpm-gpg/RPM-GPG-KEY-fedora-15-ppc': 3810, '/etc/sestatus.conf': 216, '/etc/brltty/Input/pm/2d_s.ktb': 870, '/etc/pam.d/chfn': 192, '/etc/e2fsck.conf': 115, '/etc/selinux/targeted/contexts/customizable_types': 245, '/etc/rc.d/rc2.d/K50netconsole': 2989, '/etc/brltty/Text/bh.ttb': 884, '/etc/gconf/gconf.xml.defaults/%gconf-tree-ka.xml': 33297, '/etc/brltty/Text/el.ttb': 15106, '/etc/profile.d/qt.csh': 1001, '/etc/cups/classes.conf': 0, '/etc/libreport/events.d/ccpp_retrace_event.conf': 190, '/etc/usb_modeswitch.d/1ee8:004a': 135, '/etc/usb_modeswitch.d/1ee8:004f': 158, '/etc/brltty/Text/punc-basic.tti': 1432, '/etc/pki/rpm-gpg/RPM-GPG-KEY-fedora-22-armhfp': 1658, '/etc/sane.d/umax_pp.conf': 1684, '/etc/selinux/targeted/contexts/virtual_image_context': 71, '/etc/rc.d/rc0.d/K01livesys-late': 1054, '/etc/sysconfig/libvirt-guests': 2185, '/etc/sane.d/sharp.conf': 1464, '/etc/sane.d/dll.conf': 717, '/etc/sysconfig/nfs': 1207, '/etc/sysconfig/network-scripts/ifup-Team': 1755, '/etc/lsb-release.d/languages-4.1-noarch': 0, '/etc/brltty/Text/cs.ttb': 9577, '/etc/profile.d/qt.sh': 929, '/etc/libreport/plugins/bugzilla_format_analyzer_libreport.conf': 2035, '/etc/systemd/system/multi-user.target.wants/netcf-transaction.service': 350, '/etc/usb_modeswitch.d/12d1:1f1e': 92, '/etc/sane.d/mustek_usb.conf': 809, '/etc/fonts/conf.d/65-0-lohit-telugu.conf': 451, '/etc/setuptool.d/99timeconfig': 44, '/etc/xdg/powerline/colorschemes/pdb/default.json': 90, '/etc/brltty/Input/pm/trio.ktb': 876, '/etc/gconf/gconf.xml.defaults/%gconf-tree-sq.xml': 29934, '/etc/cups/cups-files.conf.default': 2901, '/etc/pki/rpm-gpg/RPM-GPG-KEY-fedora-17-secondary': 3828, '/etc/fonts/conf.d/65-0-adobe-source-han-sans-tw.conf': 2801, '/etc/PackageKit/CommandNotFound.conf': 1988, '/etc/brltty/Input/al/abt_basic.kti': 2515, '/etc/pki/rpm-gpg/RPM-GPG-KEY-rpmfusion-free-fedora-23-primary': 1694, '/etc/brltty/Input/vo/all.ktb': 2696, '/etc/gconf/gconf.xml.defaults/%gconf-tree-nn.xml': 25683, '/etc/pki/rpm-gpg/RPM-GPG-KEY-fedora-15-arm': 3810, '/etc/xdg/autostart/tracker-miner-apps.desktop': 4330, '/etc/xdg/autostart/tracker-extract.desktop': 4137, '/etc/vmware-tools/vgauth/schemas/xml.xsd': 8768, '/etc/dbus-1/system.d/nm-vpnc-service.conf': 480, '/etc/group-': 1056, '/etc/xdg/user-dirs.defaults': 418, '/etc/sysconfig/selinux': 549, '/etc/makedumpfile.conf.sample': 5122, '/etc/usb_modeswitch.d/0fce:d103': 67, '/etc/fonts/conf.d/66-google-noto-sans-lisu.conf': 455, '/etc/pki/rpm-gpg/RPM-GPG-KEY-fedora-20-i386': 1658, '/etc/rc.d/init.d/network': 6727, '/etc/sysconfig/kernel': 185, '/etc/skel/.bash_profile': 193, '/etc/selinux/targeted/contexts/users/user_u': 353, '/etc/systemd/system/multi-user.target.wants/libvirtd.service': 544, '/etc/usb_modeswitch.d/2357:0200': 73, '/etc/logrotate.conf': 665, '/etc/dkms/template-dkms-mkrpm.spec': 2785, '/etc/host.conf': 9, '/etc/libreport/events/report_Bugzilla.conf': 113, '/etc/pki/nssdb/cert9.db': 9216, '/etc/pki/rpm-gpg/RPM-GPG-KEY-fedora-7-ppc64': 1519, '/etc/xdg/autostart/tracker-miner-user-guides.desktop': 5000, '/etc/xdg/autostart/orca-autostart.desktop': 272, '/etc/pki/rpm-gpg/RPM-GPG-KEY-fedora-15-ppc64': 3810, '/etc/abrt/abrt.conf': 2398, '/etc/xdg/powerline/themes/shell/__main__.json': 147, '/etc/setuptool.d/99sndconfig': 45, '/etc/vmware-tools/statechange.subr': 1478, '/etc/cron.deny': 0, '/etc/brltty/Input/fs/focus_small.ktb': 867, '/etc/brltty/Text/awa.ttb': 884, '/etc/idmapd.conf': 3580, '/etc/brltty/Input/hw/all.ktb': 1935, '/etc/fonts/conf.d/66-google-noto-sans-tai-viet.conf': 337, '/etc/pki/rpm-gpg/RPM-GPG-KEY-fedora-24-s390x': 3128, '/etc/alternatives/ld': 913576, '/etc/selinux/targeted/contexts/users/sysadm_u': 496, '/etc/sysconfig/crond': 110, '/etc/pki/rpm-gpg/RPM-GPG-KEY-fedora-17-ppc': 3828, '/etc/usb_modeswitch.d/12d1:151a': 106, '/etc/brltty/Input/toggle.kti': 927, '/etc/sysconfig/network-scripts/ifup-ipv6': 10575, '/etc/sane.d/dc210.conf': 984, '/etc/systemd/system/sockets.target.wants/cups.socket': 116, '/etc/alternatives/print-lpqman': 934, '/etc/systemd/system/multi-user.target.wants/cups.path': 114, '/etc/vmware-tools/vgauth/schemas/xmldsig-core-schema.xsd': 10144, '/etc/pam.d/xserver': 163, '/etc/vmware-tools/vgauth/schemas/XMLSchema-instance.xsd': 1215, '/etc/fonts/conf.d/49-sansserif.conf': 545, '/etc/pki/rpm-gpg/RPM-GPG-KEY-fedora-21-i386': 1658, '/etc/fuse.conf': 38, '/etc/brltty/Text/en-chess.tti': 1657, '/etc/mcelog/triggers/socket-memory-error-trigger': 1057, '/etc/systemd/system/dbus-org.freedesktop.nm-dispatcher.service': 353, '/etc/libreport/events.d/xorg_event.conf': 968, '/etc/sysconfig/network': 22, '/etc/usb_modeswitch.d/19d2:0101': 82, '/etc/sane.d/teco2.conf': 636, '/etc/usb_modeswitch.d/19d2:0103': 69, '/etc/brltty/Text/bo.ttb': 959, '/etc/pki/rpm-gpg/RPM-GPG-KEY-fedora-21-ppc64': 3819, '/etc/httpd/conf.modules.d/00-lua.conf': 41, '/etc/brltty/Text/hu.ttb': 4468, '/etc/brltty/Input/fs/focus_large.ktb': 888, '/etc/sysconfig/ip6tables-config': 1753, '/etc/brltty/Input/ht/cb40.ktb': 838, '/etc/pki/rpm-gpg/RPM-GPG-KEY-fedora-13-mips': 3810, '/etc/usb_modeswitch.d/12d1:14c5': 83, '/etc/usb_modeswitch.d/12d1:14c3': 81, '/etc/rc.d/rc5.d/S99livesys-late': 1054, '/etc/gconf/gconf.xml.defaults/%gconf-tree-lt.xml': 28905, '/etc/brltty/Input/pm/bar.kti': 1843, '/etc/pki/rpm-gpg/RPM-GPG-KEY-fedora-21-aarch64': 3819, '/etc/rygel.conf': 5189, '/etc/rc.d/rc3.d/K50netconsole': 2989, '/etc/brltty/Input/tn/all.txt': 1485, '/etc/rc.d/rc4.d/S00livesys': 6674, '/etc/usb_modeswitch.d/05c6:1000:uMa=SAMSUNG': 141, '/etc/X11/Xresources': 493, '/etc/usb_modeswitch.d/0af0:7211': 135, '/etc/X11/xinit/xinitrc.d/zz-liveinst.sh': 842, '/etc/pki/tls/certs/renew-dummy-cert': 829, '/etc/alternatives/rmiregistry.1.gz': 1809, '/etc/alternatives/qtchooser-5': 34, '/etc/usb_modeswitch.d/0fce:d0df': 38, '/etc/alternatives/qtchooser-4': 34, '/etc/ssh/ssh_host_ed25519_key': 387, '/etc/X11/xinit/xinitrc-common': 1877, '/etc/brltty/Text/fr_FR.ttb': 11315, '/etc/brltty/Input/pm/el_2d_66.ktb': 881, '/etc/systemd/timesyncd.conf': 607, '/etc/usb_modeswitch.d/2001:a706': 77, '/etc/brltty/Contraction/mg.ctb': 1251, '/etc/gconf/gconf.xml.defaults/%gconf-tree-dz.xml': 39541, '/etc/pki/rpm-gpg/RPM-GPG-KEY-fedora-21-s390': 3819, '/etc/brltty/Keyboard/kp_speak.kti': 1634, '/etc/brltty/Text/mni.ttb': 883, '/etc/dbus-1/system.d/org.freedesktop.ModemManager1.conf': 422, '/etc/usb_modeswitch.d/19d2:0149': 159, '/etc/fonts/conf.d/57-dejavu-sans-mono.conf': 1509, '/etc/ssh/ssh_host_ed25519_key.pub': 82, '/etc/fonts/conf.d/45-latin.conf': 4621, '/etc/fonts/conf.d/62-google-crosextra-caladea-fontconfig.conf': 409, '/etc/alternatives/mta-mailqman': 2417, '/etc/xdg/powerline/colorschemes/pdb/__main__.json': 204, '/etc/setuptool.d/98system-config-keyboard': 62, '/etc/gconf/gconf.xml.defaults/%gconf-tree-el.xml': 40658, '/etc/dbus-1/system.d/net.hadess.SensorProxy.conf': 1569, '/etc/sane.d/ma1509.conf': 187, '/etc/gconf/schemas/desktop_gnome_file_views.schemas': 15101, '/etc/pki/rpm-gpg/RPM-GPG-KEY-fedora-9-primary': 2388, '/etc/at.deny': 1, '/etc/brltty/Text/ltr-dot8.tti': 3793, '/etc/pki/rpm-gpg/RPM-GPG-KEY-fedora-8-primary': 2388, '/etc/usb_modeswitch.d/2020:0002': 185, '/etc/fprintd.conf': 20, '/etc/brltty/Input/cb/all.ktb': 2441, '/etc/xdg/autostart/sealertauto.desktop': 213, '/etc/httpd/conf.modules.d/00-proxy.conf': 957, '/etc/brltty/Input/ts/pb_small.kti': 1374, '/etc/brltty/Input/pm/switches.kti': 4704, '/etc/security/access.conf': 4620, '/etc/pcmcia/config.opts': 1117, '/etc/ld.so.conf.d/bind99-x86_64.conf': 18, '/etc/pki/rpm-gpg/RPM-GPG-KEY-fedora-21-ppc64le': 3819, '/etc/cron.daily/logrotate': 219, '/etc/gconf/gconf.xml.defaults/%gconf-tree-or.xml': 45303, '/etc/systemd/coredump.conf': 615, '/etc/profile.d/colorzgrep.sh': 220, '/etc/passwd': 2477, '/etc/xdg/autostart/user-dirs-update-gtk.desktop': 11420, '/etc/ssh/sshd_config': 4345, '/etc/brltty/Input/eu/braille.kti': 2301, '/etc/usb_modeswitch.d/05c6:0010': 105, '/etc/usb_modeswitch.d/1ee8:0054': 150, '/etc/usb_modeswitch.d/04e8:689a': 159, '/etc/libreport/events.d/python3_event.conf': 1198, '/etc/brltty/Text/lv.ttb': 13636, '/etc/dbus-1/system.d/nm-avahi-autoipd.conf': 475, '/etc/fonts/conf.d/30-lohit-gurmukhi.conf': 469, '/etc/fonts/conf.d/65-nonlatin.conf': 7959, '/etc/gconf/gconf.xml.defaults/%gconf-tree-ca.xml': 30869, '/etc/sysconfig/cbq/cbq-0000.example': 79, '/etc/usb_modeswitch.d/1bbb:000f': 70, '/etc/pki/rpm-gpg/RPM-GPG-KEY-fedora-23-ppc64le': 3145, '/etc/sane.d/sceptre.conf': 48, '/etc/gconf/gconf.xml.defaults/%gconf-tree-ne.xml': 34159, '/etc/sysconfig/ebtables-config': 1390, '/etc/security/console.apps/setup': 56, '/etc/brltty/Text/ga.ttb': 2120, '/etc/brltty/Text/sat.ttb': 923, '/etc/gconf/gconf.xml.defaults/%gconf-tree-is.xml': 9126, '/etc/httpd/conf.modules.d/00-optional.conf': 839, '/etc/pki/rpm-gpg/RPM-GPG-KEY-fedora-17-primary': 1653, '/etc/brltty/Text/ar.ttb': 9307, '/etc/sysconfig/network-scripts/ifcfg-Kokoski': 354, '/etc/avahi/etc/localtime': 127, '/etc/gconf/schemas/system_dns_sd.schemas': 39775, '/etc/sane.d/dll.d/hpaio': 6, '/etc/usb_modeswitch.d/05c7:1000': 158, '/etc/gnome-vfs-2.0/modules/default-modules.conf': 399, '/etc/brltty/Input/eu/sw34.kti': 867, '/etc/sysconfig/network-scripts/ifdown-ipv6': 4201, '/etc/usb_modeswitch.d/0fd1:1000': 40, '/etc/pki/rpm-gpg/RPM-GPG-KEY-fedora-23-primary': 1674, '/etc/brltty/Text/ru.ttb': 2992, '/etc/pki/rpm-gpg/RPM-GPG-KEY-fedora-20-primary': 1658, '/etc/pulse/system.pa': 2046, '/etc/selinux/targeted/contexts/users/unconfined_u': 578, '/etc/brltty/Input/mn/all.txt': 2071, '/etc/dbus-1/system.conf': 833, '/etc/systemd/system/multi-user.target.wants/remote-fs.target': 482, '/etc/sysconfig/network-scripts/ifdown-ippp': 781, '/etc/usb_modeswitch.d/19d2:0026': 83, '/etc/fonts/conf.d/30-urw-aliases.conf': 701, '/etc/selinux/targeted/contexts/files/file_contexts.bin': 1449797, '/etc/highlight/filetypes.conf': 5250, '/etc/fonts/conf.d/65-1-lohit-devanagari.conf': 3191, '/etc/gconf/schemas/desktop_gnome_applications_browser.schemas': 48031, '/etc/netconfig': 767, '/etc/usb_modeswitch.d/12d1:15d2': 82, '/etc/selinux/targeted/contexts/userhelper_context': 35, '/etc/sysctl.conf': 449, '/etc/pam.d/postlogin': 326, '/etc/rc.d/init.d/livesys-late': 1054, '/etc/brltty/Input/ht/ab40.ktb': 837, '/etc/brltty/Text/sd.ttb': 884, '/etc/fedora-release': 33, '/etc/usb_modeswitch.d/257a:b000': 109, '/etc/usb_modeswitch.d/0af0:d255': 135, '/etc/usb_modeswitch.d/0af0:d257': 135, '/etc/sound/events/gtk-events-2.soundlist': 18819, '/etc/openal/alsoft.conf': 14050, '/etc/pki/ca-trust/README': 166, '/etc/usb_modeswitch.d/0fce:d0cf': 38, '/etc/usb_modeswitch.d/0af0:4007': 90, '/etc/rc.d/rc6.d/K90network': 6727, '/etc/sane.d/hp5400.conf': 238, '/etc/brltty/Text/mun.ttb': 880, '/etc/usb_modeswitch.d/0408:ea25': 71, '/etc/usb_modeswitch.d/12d1:1505': 112, '/etc/systemd/system/timers.target.wants/mlocate-updatedb.timer': 146, '/etc/rc.d/rc5.d/K90network': 6727, '/etc/NetworkManager/dispatcher.d/10-ifcfg-rh-routes.sh': 912, '/etc/xdg/powerline/themes/vim/plugin_gundo-preview.json': 328, '/etc/brltty/Input/lb/all.txt': 63, '/etc/usb_modeswitch.d/19d2:0110': 99, '/etc/sysconfig/netconsole': 634, '/etc/foomatic/defaultspooler': 5, '/etc/lvm/profile/cache-mq.profile': 531, '/etc/brltty/Input/pm/el_40_p.ktb': 879, '/etc/pki/rpm-gpg/RPM-GPG-KEY-fedora-23-s390x': 3145, '/etc/logrotate.d/corosync': 113, '/etc/xdg/powerline/colorschemes/solarized.json': 2923, '/etc/brltty/Text/sl.ttb': 9821, '/etc/brltty/Input/pm/front13.kti': 3836, '/etc/usb_modeswitch.d/1410:7001': 82, '/etc/alternatives/pandoc': 347264, '/etc/usb_modeswitch.d/12d1:14d1': 83, '/etc/usb_modeswitch.d/0af0:7111': 135, '/etc/xdg/powerline/themes/vim/help.json': 618, '/etc/pki/rpm-gpg/RPM-GPG-KEY-fedora-15-s390': 3810, '/etc/gconf/gconf.xml.defaults/%gconf-tree-fi.xml': 28406, '/etc/sane.d/plustek_pp.conf': 943, '/etc/brltty/Input/pm/el_80.ktb': 877, '/etc/usb_modeswitch.d/12d1:15d0': 82, '/etc/sysconfig/network-scripts/ifdown-Team': 1599, '/etc/pki/rpm-gpg/RPM-GPG-KEY-fedora-18-primary': 1658, '/etc/profile.d/colorzgrep.csh': 216, '/etc/alternatives/libwbclient.so.0.12-64': 56528, '/etc/usb_modeswitch.d/1f28:0021': 136, '/etc/brltty/Input/lt/all.txt': 865, '/etc/dbus-1/system.d/cups.conf': 460, '/etc/rc.d/init.d/functions': 14118, '/etc/dkms/template-dkms-redhat-kmod.spec': 1242, '/etc/pki/rpm-gpg/RPM-GPG-KEY-rpmfusion-free-fedora-25': 1694, '/etc/alternatives/print-lpstatman': 1565, '/etc/usb_modeswitch.d/12d1:1f07': 98, '/etc/brltty/Input/ht/brln.ktb': 829, '/etc/usb_modeswitch.d/12d1:1f03': 101, '/etc/usb_modeswitch.d/12d1:1f02': 90, '/etc/usb_modeswitch.d/12d1:1f09': 98, '/etc/brltty.conf': 22899, '/etc/selinux/targeted/booleans.subs_dist': 2333, '/etc/usb_modeswitch.d/1410:9020': 32, '/etc/usb_modeswitch.d/1410:9022': 32, '/etc/sane.d/hs2p.conf': 24, '/etc/sane.d/teco3.conf': 217, '/etc/vmware-tools/vgauth/schemas/XMLSchema-hasFacetAndProperty.xsd': 5783, '/etc/libreport/report_event.conf': 2408, '/etc/vdpau_wrapper.cfg': 51, '/etc/gconf/gconf.xml.defaults/%gconf-tree-ast.xml': 29493, '/etc/dbus-1/system.d/com.redhat.NewPrinterNotification.conf': 1007, '/etc/iscsi/iscsid.conf': 11853, '/etc/crypto-policies/config': 606, '/etc/libreport/events.d/koops_event.conf': 1692, '/etc/xdg/powerline/themes/vim/quickfix.json': 700, '/etc/ppp/pap-secrets': 77, '/etc/brltty/Input/pm/status4.kti': 1094, '/etc/usb_modeswitch.d/0af0:7071': 135, '/etc/dbus-1/system.d/org.freedesktop.GeoClue2.conf': 1100, '/etc/logrotate.d/libvirtd.qemu': 163, '/etc/cron.daily/google-chrome': 11612, '/etc/pki/tls/misc/CA': 5178, '/etc/usb_modeswitch.d/19d2:1225': 85, '/etc/dbus-1/system.d/org.fedoraproject.SetroubleshootFixit.conf': 771, '/etc/pki/rpm-gpg/RPM-GPG-KEY-rpmfusion-free-fedora': 1694, '/etc/pki/rpm-gpg/RPM-GPG-KEY-fedora-23-armhfp': 1674, '/etc/brltty/Text/da-lt.ttb': 11394, '/etc/dbus-1/system.d/org.freedesktop.import1.conf': 2713, '/etc/systemd/system/sysinit.target.wants/lvm2-lvmetad.socket': 215, '/etc/usb_modeswitch.d/0922:1001': 146, '/etc/usb_modeswitch.d/0922:1003': 110, '/etc/selinux/targeted/contexts/files/media': 139, '/etc/pam.d/atd': 272, '/etc/pki/rpm-gpg/RPM-GPG-KEY-fedora-18-ppc64': 3828, '/etc/pki/rpm-gpg/RPM-GPG-KEY-fedora-20-ppc': 3819, '/etc/mcelog/triggers/page-error-trigger': 1308, '/etc/virc': 1982, '/etc/libreport/events.d/ccpp_event.conf': 4759, '/etc/pki/nssdb/pkcs11.txt': 451, '/etc/usb_modeswitch.d/15eb:7153': 80, '/etc/brltty/Input/bm/front10.kti': 1742, '/etc/alternatives/print-lprman': 1553, '/etc/pki/fwupd/GPG-KEY-Linux-Vendor-Firmware-Service': 959, '/etc/brltty/Input/md/all.txt': 1479, '/etc/usb_modeswitch.d/0af0:8900': 135, '/etc/prelink.conf.d/grub2.conf': 220, '/etc/usb_modeswitch.d/1ee8:0068': 134, '/etc/usb_modeswitch.d/057c:84ff': 104, '/etc/usb_modeswitch.d/2001:00a6': 77, '/etc/usb_modeswitch.d/1ee8:0060': 150, '/etc/usb_modeswitch.d/1ee8:0063': 151, '/etc/alternatives/print-lpcman': 981, '/etc/dbus-1/system.d/teamd.conf': 409, '/etc/usb_modeswitch.d/05c6:1000:uMa=DGT': 72, '/etc/usb_modeswitch.d/1fac:0032': 51, '/etc/brltty/Input/al/abt_large.ktb': 912, '/etc/X11/xinit/xinitrc.d/50-systemd-user.sh': 66, '/etc/pki/rpm-gpg/RPM-GPG-KEY-fedora-19-secondary': 3819, '/etc/alsa/alsactl.conf': 203, '/etc/systemd/system/multi-user.target.wants/abrtd.service': 416, '/etc/brltty/Keyboard/braille.kti': 1741, '/etc/rc.d/init.d/netconsole': 2989, '/etc/systemd/system/dbus-org.bluez.service': 388, '/etc/sysconfig/libvirtd': 1136, '/etc/brltty/Text/nl_BE.ttb': 10415, '/etc/fonts/conf.d/65-0-lohit-assamese.conf': 642, '/etc/sane.d/mustek_pp.conf': 3824, '/etc/fonts/conf.d/25-no-bitmap-fedora.conf': 1160, '/etc/brltty/Input/ht/mc88.ktb': 857, '/etc/selinux/targeted/contexts/files/file_contexts.subs_dist': 474, '/etc/gnome-vfs-2.0/modules/ssl-modules.conf': 12, '/etc/sgml/docbook/xmlcatalog': 236, '/etc/vmware-tools/scripts/vmware/network': 14638, '/etc/selinux/targeted/contexts/users/staff_u': 514, '/etc/systemd/system/multi-user.target.wants/vboxballoonctrl-service.service': 501, '/etc/pki/rpm-gpg/RPM-GPG-KEY-fedora-16-secondary': 3819, '/etc/selinux/targeted/contexts/virtual_domain_context': 62, '/etc/usb_modeswitch.d/1c9e:9800': 116, '/etc/fonts/conf.d/66-sil-abyssinica.conf': 630, '/etc/fonts/conf.d/30-metric-aliases.conf': 12804, '/etc/systemd/system/multi-user.target.wants/sysstat.service': 475, '/etc/dbus-1/system.d/org.freedesktop.realmd.conf': 404, '/etc/xdg/powerline/colorschemes/vim/__main__.json': 1545, '/etc/brltty/Text/or.ttb': 878, '/etc/security/limits.conf': 2422, '/etc/xdg/powerline/themes/ipython/out.json': 412, '/etc/brltty/Input/pm/elba_20.ktb': 879, '/etc/sane.d/hp.conf': 497, '/etc/brltty/Input/bm/dm80p.ktb': 852, '/etc/mime.types': 57068, '/etc/hp/hplip.conf': 972, '/etc/brltty/Text/sw.ttb': 1247, '/etc/alternatives/mkisofs-mkisofsman': 29303, '/etc/alternatives/cdrecord-readcdman': 6096, '/etc/pki/ca-trust/extracted/openssl/README': 787, '/etc/gconf/schemas/desktop_gnome_sound.schemas': 89354, '/etc/selinux/targeted/contexts/x_contexts': 2920, '/etc/sysconfig/sysstat.ioconf': 6228, '/etc/NetworkManager/dispatcher.d/11-dhclient': 933, '/etc/brltty/Keyboard/braille.ktb': 1908, '/etc/speech-dispatcher/modules/epos-generic.conf': 3135, '/etc/usb_modeswitch.d/19d2:0115': 69, '/etc/tmpfiles.d/vpnc.conf': 33, '/etc/pki/rpm-gpg/RPM-GPG-KEY-fedora-8-ppc64': 2388, '/etc/systemd/system/multi-user.target.wants/mcelog.service': 576, '/etc/dbus-1/session.conf': 838}\n"
     ]
    }
   ],
   "source": [
    "# SOLUTION\n",
    "\n",
    "import os\n",
    "list_of_files = []\n",
    "for root, dirs, files in os.walk('/etc'):\n",
    "    for file in files:\n",
    "        path_to_file = os.path.join(root, file) # root + \"/\" + file\n",
    "        if os.path.isfile(path_to_file):\n",
    "            list_of_files.append((path_to_file, os.path.getsize(path_to_file)))\n",
    "\n",
    "files_size = dict(list_of_files)\n",
    "print(files_size)"
   ]
  },
  {
   "cell_type": "code",
   "execution_count": null,
   "metadata": {
    "collapsed": false
   },
   "outputs": [],
   "source": [
    "# SECOND SOLUTION\n",
    "\n",
    "import os\n",
    "files_size = {}\n",
    "for root, dirs, files in os.walk('/etc'):\n",
    "    for file in files:\n",
    "        path_to_file = os.path.join(root, file)\n",
    "        try:\n",
    "            files_size[path_to_file] = os.path.getsize(path_to_file)\n",
    "        except IOError as exc:\n",
    "            print(exc)\n",
    "        except OSError as exc:\n",
    "            print(exc)\n",
    "            \n",
    "print(files_size)"
   ]
  },
  {
   "cell_type": "markdown",
   "metadata": {},
   "source": [
    "#### How to sort data structures"
   ]
  },
  {
   "cell_type": "code",
   "execution_count": 36,
   "metadata": {
    "collapsed": false
   },
   "outputs": [
    {
     "name": "stdout",
     "output_type": "stream",
     "text": [
      "None\n",
      "[0, 1, 2, 3, 5]\n",
      "[1, 3, 2, 5, 0]\n",
      "[0, 1, 2, 3, 5]\n"
     ]
    }
   ],
   "source": [
    "item = None\n",
    "\n",
    "n = [1, 3, 2, 5, 0]\n",
    "print(n.sort(), n)\n",
    "\n",
    "n = [1, 3, 2, 5, 0]\n",
    "n_sorted = sorted(n)\n",
    "print(n_sorted, n)"
   ]
  },
  {
   "cell_type": "code",
   "execution_count": 34,
   "metadata": {
    "collapsed": false
   },
   "outputs": [
    {
     "name": "stdout",
     "output_type": "stream",
     "text": [
      "None\n",
      "[1, 2, 3]\n"
     ]
    },
    {
     "ename": "TypeError",
     "evalue": "'NoneType' object is not iterable",
     "output_type": "error",
     "traceback": [
      "\u001b[1;31m---------------------------------------------------------------------------\u001b[0m",
      "\u001b[1;31mTypeError\u001b[0m                                 Traceback (most recent call last)",
      "\u001b[1;32m<ipython-input-34-a51dabd1d418>\u001b[0m in \u001b[0;36m<module>\u001b[1;34m()\u001b[0m\n\u001b[0;32m      3\u001b[0m \u001b[1;32mprint\u001b[0m \u001b[0moutput\u001b[0m\u001b[1;33m\u001b[0m\u001b[0m\n\u001b[0;32m      4\u001b[0m \u001b[1;32mprint\u001b[0m \u001b[0mL\u001b[0m\u001b[1;33m\u001b[0m\u001b[0m\n\u001b[1;32m----> 5\u001b[1;33m \u001b[1;32mfor\u001b[0m \u001b[0mitem\u001b[0m \u001b[1;32min\u001b[0m \u001b[0moutput\u001b[0m\u001b[1;33m:\u001b[0m\u001b[1;33m\u001b[0m\u001b[0m\n\u001b[0m\u001b[0;32m      6\u001b[0m     \u001b[1;32mprint\u001b[0m \u001b[0mitem\u001b[0m\u001b[1;33m\u001b[0m\u001b[0m\n",
      "\u001b[1;31mTypeError\u001b[0m: 'NoneType' object is not iterable"
     ]
    }
   ],
   "source": [
    "L = [3, 1, 2]\n",
    "output = L.sort()\n",
    "print(output)\n",
    "print(L)\n",
    "for item in output:\n",
    "    print(item)"
   ]
  },
  {
   "cell_type": "code",
   "execution_count": 37,
   "metadata": {
    "collapsed": false
   },
   "outputs": [
    {
     "data": {
      "text/plain": [
       "{'file1': 100, 'password': 450, 'testfile': 3000}"
      ]
     },
     "execution_count": 37,
     "metadata": {},
     "output_type": "execute_result"
    }
   ],
   "source": [
    "list_of_tuples = [('file1', 100), ('testfile', 2), ('testfile', 3000), ('password', 450)]\n",
    "dict(list_of_tuples)"
   ]
  },
  {
   "cell_type": "code",
   "execution_count": 39,
   "metadata": {
    "collapsed": false
   },
   "outputs": [
    {
     "name": "stdout",
     "output_type": "stream",
     "text": [
      "[('a', 100), ('b', 2), ('c', 3000), ('d', 450)]\n",
      "[('c', 3000), ('d', 450), ('a', 100), ('b', 2)]\n",
      "B\n",
      "1\n",
      "(1, 3, 5)\n",
      "[('c', 3000), ('d', 450), ('a', 100), ('b', 2)]\n"
     ]
    }
   ],
   "source": [
    "# EXAMPLES\n",
    "\n",
    "list_of_tuples = [('a', 100), ('b', 2), ('c', 3000), ('d', 450)]\n",
    "\n",
    "list_of_tuples.sort(reverse=False)\n",
    "print(list_of_tuples)\n",
    "\n",
    "# first approach\n",
    "from operator import itemgetter\n",
    "\n",
    "list_of_tuples.sort(reverse=True, key=itemgetter(1))\n",
    "print(list_of_tuples)\n",
    "\n",
    "print(itemgetter(1)('ABCDEFG'))\n",
    "print(itemgetter(0)([1, 2, 3, 4, 5, 6, 7, 8, 9, 10]))\n",
    "print(itemgetter(0, 2, 4)([1, 2, 3, 4, 5, 6, 7, 8, 9, 10]))\n",
    "\n",
    "\n",
    "# second approach\n",
    "\n",
    "list_of_tuples.sort(reverse=True, key=lambda item: item[1])\n",
    "print(list_of_tuples)\n"
   ]
  },
  {
   "cell_type": "code",
   "execution_count": null,
   "metadata": {
    "collapsed": false
   },
   "outputs": [],
   "source": [
    "# To clarify conversion between dict and list of tuples\n",
    "\n",
    "d = {'key2': 2, 'key1': 1, 'key3': 3}  # Dictionary\n",
    "\n",
    "\n",
    "# How to convert dictionary to list of tuples\n",
    "\n",
    "list_of_tuples = d.items()  # List of tuples: [ (k1, v), (k2, v), (k3, v), ... (kn, v)]\n",
    "print(list_of_tuples)\n",
    "\n",
    "# How to convert list of tuples to dictionary\n",
    "\n",
    "d = dict(list_of_tuples)\n",
    "print(d)"
   ]
  },
  {
   "cell_type": "markdown",
   "metadata": {},
   "source": [
    "#### Lamda expression\n",
    "\n",
    "- Lambdas are a shorthand to create anonymous functions in Python (functions without names)\n",
    "- are used when for example you want to pass function as argument\n",
    "\n",
    "For example you can create function in the 'normal way' using `def` keyword:\n",
    "```python\n",
    "def square_root(x): \n",
    "    return math.sqrt(x)\n",
    "    \n",
    "square_root(2)    \n",
    "```\n",
    "or you can use lambda:\n",
    "\n",
    "```python\n",
    "square_root = lambda x: math.sqrt(x)\n",
    "square_root(2)\n",
    "```\n",
    "\n",
    "Another example:\n",
    "\n",
    "```python\n",
    "def name(arguments):\n",
    "    return expression\n",
    "```\n",
    "can be translated to\n",
    "```python\n",
    "name = lambda arguments: expression\n",
    "```\n",
    "\n",
    "Source:\n",
    "- https://docs.python.org/2/reference/expressions.html\n",
    "- https://pythonconquerstheuniverse.wordpress.com/2011/08/29/lambda_tutorial/"
   ]
  },
  {
   "cell_type": "code",
   "execution_count": 44,
   "metadata": {
    "collapsed": false
   },
   "outputs": [
    {
     "name": "stdout",
     "output_type": "stream",
     "text": [
      "{'key3': 3, 'key2': 2, 'key1': 1}\n",
      "['key1', 'key2', 'key3']\n",
      "3\n",
      "2\n",
      "1\n",
      "['key1', 'key2', 'key3']\n",
      "key3 3\n",
      "key2 2\n",
      "key1 1\n"
     ]
    }
   ],
   "source": [
    "d = {'key2': 2, 'key1': 1, 'key3': 3}\n",
    "print(d)\n",
    "\n",
    "print(sorted(d))\n",
    "for key in d:\n",
    "    print(d[key])\n",
    "\n",
    "print(sorted(d, key=d.get))\n",
    "\n",
    "for key in sorted(d, key=d.get, reverse=True):\n",
    "    print(key, d[key])"
   ]
  },
  {
   "cell_type": "markdown",
   "metadata": {},
   "source": [
    "### Exercise:\n",
    "\n",
    "Sort dictionary from previous exercise by file size. \n",
    "Largest files should go first.\n",
    "\n",
    "- Hint 1: Booth sort and sorted method accept a reverse parameter with a boolean value. \n",
    "This is using to flag descending sorts.\n",
    "\n",
    "`d.sort(reverse=True)`"
   ]
  },
  {
   "cell_type": "code",
   "execution_count": null,
   "metadata": {
    "collapsed": false
   },
   "outputs": [],
   "source": [
    "# SOLUTION\n",
    "\n",
    "for key in sorted(files_size, key=files_size.get, reverse=True):\n",
    "    print(key, files_size[key])\n",
    "    b\n",
    "# SOLUTION 2\n",
    "print(sorted(files_size, key=files_size.get, reverse=True))"
   ]
  },
  {
   "cell_type": "code",
   "execution_count": null,
   "metadata": {
    "collapsed": false
   },
   "outputs": [],
   "source": [
    "#import collections\n",
    "#collections.OrderedDict\n",
    "\n",
    "from collections import OrderedDict\n",
    "\n",
    "d = {'key2': 2, 'key1': 1, 'key3': 3}\n",
    "\n",
    "od = OrderedDict(d.items())\n",
    "\n",
    "# second way to create sorted dict by value not ket\n",
    "\n",
    "print(sorted(d.items(), key=d.get, reverse=True))\n",
    "\n",
    "print(OrderedDict(sorted(d.items(), key=d.get, reverse=True)))"
   ]
  },
  {
   "cell_type": "markdown",
   "metadata": {},
   "source": [
    "### Exercise:\n",
    "\n",
    "Create a function: get_files_size that will take two arguments: \n",
    "\n",
    "1. `directory` - string, directory name, e.g.: /etc, by default use '/tmp' directory\n",
    "2. `reverse`   - boolean, if True use descending sorts, by default should be set as False\n",
    "\n",
    "Function should return python dictionary that will contain information about file name and its size.\n",
    "\n",
    "Please use solutions from previous exercises.\n",
    "\n",
    "Example: how to invoke this function?\n",
    "\n",
    "```python\n",
    "get_files_size('/etc/', reverse=True) \n",
    "```\n",
    "\n",
    "Additionally: try to execute this function as follows:\n",
    "- ```print(get_files_size())```\n",
    "- ```print(get_files_size('/etc'))```\n",
    "- ```print(get_files_size('/etc', reverse=True))```\n",
    "\n",
    "\n",
    "Hit 1: use OrderedDict\n",
    "```python\n",
    "from collections import OrderedDict\n",
    "```\n",
    "\n",
    "Hint 2: use itemgetter or lambda notation to get second element from tuple"
   ]
  },
  {
   "cell_type": "code",
   "execution_count": null,
   "metadata": {
    "collapsed": false
   },
   "outputs": [],
   "source": [
    "# SOLUTION\n",
    "\n",
    "import os\n",
    "from collections import OrderedDict\n",
    "from operator import itemgetter\n",
    "\n",
    "def get_files_size(directory='/tmp', reverse=False):\n",
    "    dir(os)\n",
    "    list_of_files = []\n",
    "    for root, dirs, files in os.walk(directory):\n",
    "        for file in files:\n",
    "            path_to_file = os.path.join(root, file)\n",
    "            if os.path.isfile(path_to_file):\n",
    "                list_of_files.append((path_to_file, os.path.getsize(path_to_file)))\n",
    "    \n",
    "    return OrderedDict(sorted(list_of_files, key=itemgetter(1), reverse=reverse))\n",
    "          \n",
    "print(get_files_size('/etc'))"
   ]
  },
  {
   "cell_type": "code",
   "execution_count": null,
   "metadata": {
    "collapsed": false
   },
   "outputs": [],
   "source": [
    "# SECOND SOLUTION\n",
    "\n",
    "import os\n",
    "from collections import OrderedDict\n",
    "from operator import itemgetter\n",
    "\n",
    "def get_files_size(directory='/tmp', reverse=False):\n",
    "    files_size = {}\n",
    "    for root, dirs, files in os.walk('/etc'):\n",
    "        for file in files:\n",
    "            path_to_file = os.path.join(root, file)\n",
    "            if os.path.isfile(path_to_file):\n",
    "                files_size[path_to_file] = os.path.getsize(path_to_file)\n",
    "    \n",
    "    return OrderedDict(sorted(files_size.items(), key=itemgetter(1), reverse=reverse))\n",
    "            \n",
    "print(get_files_size('/etc'))"
   ]
  },
  {
   "cell_type": "markdown",
   "metadata": {},
   "source": [
    "#### User input\n",
    "\n",
    "You can choose one of the following methods:\n",
    "\n",
    "1. Function ```input``` or ```raw_input```\n",
    "2. Attribute (dictionary) ```argv``` from module ```sys```\n",
    "3. Dedicated user-friendly command line interface like ```argparse```\n",
    "    - https://docs.python.org/3/library/argparse.html\n",
    "\n"
   ]
  },
  {
   "cell_type": "code",
   "execution_count": 45,
   "metadata": {
    "collapsed": false
   },
   "outputs": [
    {
     "name": "stdout",
     "output_type": "stream",
     "text": [
      "Please provide file name: test.py\n",
      "test.py\n"
     ]
    }
   ],
   "source": [
    "your_input = raw_input('Please provide file name: ')\n",
    "print(your_input)"
   ]
  },
  {
   "cell_type": "code",
   "execution_count": null,
   "metadata": {
    "collapsed": true
   },
   "outputs": [],
   "source": [
    "# python your_script.py argument1 argument2\n",
    "\n",
    "import sys\n",
    "\n",
    "# $0 - script name, $1 .. $9 - args\n",
    "script_name = sys.argv[0] # script name, e.g.: your_script\n",
    "arg1 = sys.argv[1] # first argument, e.g.: argument1\n",
    "arg2 = sys.argv[2] # second argument, e.g.: argument2"
   ]
  },
  {
   "cell_type": "code",
   "execution_count": null,
   "metadata": {
    "collapsed": true
   },
   "outputs": [],
   "source": [
    "import argparse # since 2.7, or optparse, click (py3)\n",
    "\n",
    "# python script.py --directory /etc\n",
    "# python script.py -d /etc\n",
    "# python script.py -d /etc --verbose\n",
    "\n",
    "\n",
    "parser = argparse.ArgumentParser(description='Script to list out files from given directory')\n",
    "\n",
    "parser.add_argument('--directory', '-d', required=True, help='Source directory')\n",
    "parser.add_argument('--verbose', '-v', action='store_true', help='If set, print more details')\n",
    "\n",
    "args = parser.parse_args()\n",
    "\n",
    "print(\"directory: \", args.directory)\n",
    "print(\"verbose:   \", args.verbose)"
   ]
  },
  {
   "cell_type": "markdown",
   "metadata": {},
   "source": [
    "#### Python file as standalone program\n",
    "\n",
    "https://docs.python.org/3/library/__main__.html\n",
    "\n",
    "- `'__main__'` is the name of the scope in which top-level code executes\n",
    "- A module’s `__name__` is set equal to `'__main__'` when read from standard input, a script, or from an interactive prompt.\n",
    "\n",
    "\n",
    "```python\n",
    "def func1():\n",
    "    print(\"func1\")\n",
    "    \n",
    "def func2():\n",
    "    print(\"func2\")\n",
    "\n",
    "if __name__ == '__main__':\n",
    "    # execute only if run as a script\n",
    "    # good place to use argparse module to catch user input\n",
    "    func1()\n",
    "    func2()\n",
    "    \n",
    "```"
   ]
  },
  {
   "cell_type": "code",
   "execution_count": null,
   "metadata": {
    "collapsed": true
   },
   "outputs": [],
   "source": [
    "def do_something(directory, verbose):\n",
    "    print(\"directory: \", directory)\n",
    "    print(\"verbose:   \", verbose)\n",
    "    \n",
    "\n",
    "if __name__ == \"__main__\":\n",
    "\n",
    "    import argparse\n",
    "\n",
    "    parser = argparse.ArgumentParser(description='Script to list out files from given directory')\n",
    "\n",
    "    parser.add_argument('--directory', '-d', required=True, help='Source directory')\n",
    "    parser.add_argument('--verbose', '-v', action='store_true', help='If set, print more details')\n",
    "\n",
    "    args = parser.parse_args()\n",
    "\n",
    "    do_something(directory=args.directory, verbose=args.verbose)"
   ]
  },
  {
   "cell_type": "markdown",
   "metadata": {},
   "source": [
    "### Exercise:\n",
    "\n",
    "Using previous exercises create a script that will ask user to provide directory name and sorting order.\n",
    "List out each file from provided directory and its size.\n",
    "\n",
    "You can use function get_files_size.\n",
    "\n",
    "Input arguments:\n",
    "1. `directory` - string, directory name, e.g.: /etc, by default use '/tmp' directory\n",
    "2. `reverse`   - boolean, if True use descending sorts, by default should be set as False\n"
   ]
  },
  {
   "cell_type": "code",
   "execution_count": null,
   "metadata": {
    "collapsed": false
   },
   "outputs": [],
   "source": [
    "# SOLUTION\n",
    "\n",
    "# How to run this script:\n",
    "# python get_files_size.py  --directory /etc \n",
    "# python get_files_size.py  --directory /etc --reverse\n",
    "\n",
    "import os\n",
    "from collections import OrderedDict\n",
    "from operator import itemgetter\n",
    "\n",
    "def get_files_size(directory='/tmp', reverse=False):\n",
    "    files_size = {}\n",
    "    for root, dirs, files in os.walk('/etc'):\n",
    "        for file in files:\n",
    "            path_to_file = os.path.join(root, file)\n",
    "            if os.path.isfile(path_to_file):\n",
    "                files_size[path_to_file] = os.path.getsize(path_to_file)\n",
    "    \n",
    "    return OrderedDict(sorted(files_size.items(), key=itemgetter(1), reverse=reverse))\n",
    "            \n",
    "\n",
    "if __name__ == '__main__':\n",
    "    import argparse\n",
    "\n",
    "    parser = argparse.ArgumentParser(description='Script to list out files from given directory')\n",
    "\n",
    "    parser.add_argument('--directory', '-d', required=True, help='Source directory')\n",
    "    parser.add_argument('--reverse', '-r', action='store_true', help='If set, use descending order')\n",
    "\n",
    "    args = parser.parse_args()    \n",
    "    \n",
    "    print(get_files_size(directory=args.directory, reverse=args.reverse))"
   ]
  },
  {
   "cell_type": "markdown",
   "metadata": {
    "collapsed": true
   },
   "source": [
    "### Exercise\n",
    "\n",
    "Modify previously created script to write output (list of files and theirs sizes) to file.\n",
    "\n",
    "Allow user to provide path to file. Remember that you should have access to this file.\n",
    "\n",
    "By default (if no file path specified) write output to /tmp directory and name file as follows:\n",
    "`<TIMESTAMP>`_files.out\n",
    "\n",
    "where `<TIMESTAMP>` is the current unix timestamp (seconds since Jan 01 1970. (UTC))\n",
    "\n",
    "Hint 1:\n",
    "To get unix timestamp:\n",
    "```python\n",
    "import time\n",
    "timestamp = int(time.time())\n",
    "```\n",
    "\n",
    "Hint 2: You can write your own function to write output to file\n",
    "\n",
    "Input arguments:\n",
    "1. `directory` - string, directory name, e.g.: /etc, by default use '/tmp' directory\n",
    "2. `reverse`   - boolean, if True use descending sorts, by default should be set as False\n",
    "3. `file_path` - string, specifies the path of output file on disk"
   ]
  },
  {
   "cell_type": "code",
   "execution_count": null,
   "metadata": {
    "collapsed": true
   },
   "outputs": [],
   "source": [
    "# How to write to file\n",
    "\n",
    "f = open('/tmp/file', 'w')\n",
    "\n",
    "f.write('first line\\n')\n",
    "f.write('second line\\n')\n",
    "f.write('third line\\n')\n",
    "\n",
    "f.close()"
   ]
  },
  {
   "cell_type": "code",
   "execution_count": null,
   "metadata": {
    "collapsed": true
   },
   "outputs": [],
   "source": [
    "# How to write to file\n",
    "\n",
    "with open('/tmp/file', 'w') as f:\n",
    "\n",
    "    f.write('first line\\n')\n",
    "    f.write('second line\\n')\n",
    "    f.write('third line\\n')"
   ]
  },
  {
   "cell_type": "code",
   "execution_count": null,
   "metadata": {
    "collapsed": true
   },
   "outputs": [],
   "source": [
    "list_of_lines = ['line1', 'line2', 'line3']\n",
    "\n",
    "with open('/tmp/file', 'w') as f:\n",
    "    for line in lines:\n",
    "        f.write(\"{} \\n\".format(line))\n",
    "\n",
    "# or even better\n",
    "\n",
    "list_of_lines = [\"{} \\n\".format(line) for line in list_of_lines]\n",
    "with open('/tmp/file', 'w') as f:\n",
    "    f.writelines(list_of_lines)"
   ]
  },
  {
   "cell_type": "code",
   "execution_count": null,
   "metadata": {
    "collapsed": true
   },
   "outputs": [],
   "source": [
    "# SOLUTION\n",
    "\n",
    "# How to run this script:\n",
    "# python get_files_size.py  --directory /etc \n",
    "# python get_files_size.py  --directory /etc --reverse\n",
    "# python get_files_size.py  --directory /etc --file_path /tmp/output\n",
    "\n",
    "import sys\n",
    "import os\n",
    "import time\n",
    "from collections import OrderedDict\n",
    "from operator import itemgetter\n",
    "\n",
    "def get_files_size(directory='/tmp', reverse=False):\n",
    "    files_size = {}\n",
    "    for root, dirs, files in os.walk('/etc'):\n",
    "        for file in files:\n",
    "            path_to_file = os.path.join(root, file)\n",
    "            if os.path.isfile(path_to_file):\n",
    "                files_size[path_to_file] = os.path.getsize(path_to_file)\n",
    "    \n",
    "    return OrderedDict(sorted(files_size.items(), key=itemgetter(1), reverse=reverse))\n",
    "\n",
    "def get_timestamp():\n",
    "    return int(time.time())\n",
    "\n",
    "def write_to_file(file_path, dict_to_write):\n",
    "    if not file_path:\n",
    "        file_path = os.path.join(os.sep, 'tmp', \"{}_files.out\".format(get_timestamp()))\n",
    "\n",
    "    try:\n",
    "        with open(file_path, 'w') as f:\n",
    "            for key, value in dict_to_write.items():\n",
    "                f.write(\"{} {}\\n\".format(key, value))\n",
    "    except IOError as exc:\n",
    "        print \"Cannot write output to file, \", exc\n",
    "        sys.exit(1)\n",
    "        \n",
    "\n",
    "if __name__ == '__main__':\n",
    "    import argparse\n",
    "\n",
    "    parser = argparse.ArgumentParser(description='Script to list out files from given directory')\n",
    "\n",
    "    parser.add_argument('--directory', '-d', required=True, help='Source directory')\n",
    "    parser.add_argument('--reverse', '-v', action='store_true', help='If set, use descending order')\n",
    "    parser.add_argument('--file_path', '-o', help='Output file path')\n",
    "\n",
    "    args = parser.parse_args()\n",
    "\n",
    "    files_size_dict = get_files_size(directory=args.directory, reverse=args.reverse)\n",
    "\n",
    "    write_to_file(file_path=args.file_path, dict_to_write=files_size_dict)"
   ]
  },
  {
   "cell_type": "markdown",
   "metadata": {},
   "source": [
    "#### How to execute external commands in python\n",
    "\n",
    "To execute external commands (shell commands) you can choose one of the following methods:\n",
    "1. `os.system(\"command\")`\n",
    "2. `stream = os.popen(\"command\")`\n",
    "3. `subprocess.call(\"command\")` - recommended, it replaces above-mentioned commands\n",
    "\n",
    "Sources:\n",
    "- https://docs.python.org/2/library/subprocess.html#module-subprocess\n",
    "- https://docs.python.org/2/library/subprocess.html#subprocess-replacements\n",
    "- https://pymotw.com/2/subprocess/"
   ]
  },
  {
   "cell_type": "code",
   "execution_count": 48,
   "metadata": {
    "collapsed": false
   },
   "outputs": [
    {
     "name": "stdout",
     "output_type": "stream",
     "text": [
      "0\n"
     ]
    }
   ],
   "source": [
    "import subprocess\n",
    "print(subprocess.call(\"uname -a\", shell=True)) # returns only exit code"
   ]
  },
  {
   "cell_type": "code",
   "execution_count": null,
   "metadata": {
    "collapsed": false
   },
   "outputs": [],
   "source": [
    "import subprocess\n",
    "output = subprocess.check_output(\"cat /etc/passwd | grep /sbin/nologin | cut -f 1 -d:\", shell=True)\n",
    "for item in output.split(\" \"):\n",
    "    print(item)"
   ]
  },
  {
   "cell_type": "code",
   "execution_count": null,
   "metadata": {
    "collapsed": false
   },
   "outputs": [],
   "source": [
    "# list out all account names with /sbin/nologin shell (politely refuse a login) \n",
    "# from /etc/passwd file\n",
    "# equivalent to: \n",
    "# cat /etc/passwd | grep /sbin/nologin | cut -f 1 -d:\n",
    "\n",
    "import subprocess\n",
    "\n",
    "cat = subprocess.Popen(['cat', '/etc/passwd'], \n",
    "                        stdout=subprocess.PIPE)\n",
    "\n",
    "grep = subprocess.Popen(['grep', '/sbin/nologin'],\n",
    "                        stdin=cat.stdout,\n",
    "                        stdout=subprocess.PIPE)\n",
    "\n",
    "cut = subprocess.Popen(['cut', '-f', '1', '-d:'],\n",
    "                        stdin=grep.stdout,\n",
    "                        stdout=subprocess.PIPE)\n",
    "\n",
    "nologin_accounts = cut.stdout\n",
    "print(nologin_accounts)\n",
    "\n",
    "nologin_accounts = [account.strip() for account in nologin_accounts]\n",
    "print(nologin_accounts)"
   ]
  },
  {
   "cell_type": "markdown",
   "metadata": {},
   "source": [
    "### Exercise\n",
    "\n",
    "Create a script that will execute \"ps -aux\" command. Collect first 10 lines only."
   ]
  },
  {
   "cell_type": "code",
   "execution_count": 65,
   "metadata": {
    "collapsed": false
   },
   "outputs": [
    {
     "data": {
      "text/plain": [
       "['item', ' item2', ' item3']"
      ]
     },
     "execution_count": 65,
     "metadata": {},
     "output_type": "execute_result"
    }
   ],
   "source": [
    "s = \"item\\n item2\\n item3\"\n",
    "s.split(\"\\n\")"
   ]
  },
  {
   "cell_type": "code",
   "execution_count": 61,
   "metadata": {
    "collapsed": false,
    "scrolled": true
   },
   "outputs": [
    {
     "name": "stdout",
     "output_type": "stream",
     "text": [
      "0) USER       PID %CPU %MEM    VSZ   RSS TTY      STAT START   TIME COMMAND\n",
      "1) root         1  0.0  0.0 129056  3056 ?        Ss   08:41   0:02 /usr/lib/systemd/systemd --switched-root --system --deserialize 22\n",
      "2) root         2  0.0  0.0      0     0 ?        S    08:41   0:00 [kthreadd]\n",
      "3) root         3  0.0  0.0      0     0 ?        S    08:41   0:00 [ksoftirqd/0]\n",
      "4) root         5  0.0  0.0      0     0 ?        S<   08:41   0:00 [kworker/0:0H]\n",
      "5) root         7  0.0  0.0      0     0 ?        S    08:41   0:04 [rcu_sched]\n",
      "6) root         8  0.0  0.0      0     0 ?        S    08:41   0:00 [rcu_bh]\n",
      "7) root         9  0.0  0.0      0     0 ?        R    08:41   0:02 [rcuos/0]\n",
      "8) root        10  0.0  0.0      0     0 ?        S    08:41   0:00 [rcuob/0]\n",
      "9) root        11  0.0  0.0      0     0 ?        S    08:41   0:00 [migration/0]\n"
     ]
    }
   ],
   "source": [
    "# SOLUTION\n",
    "\n",
    "import subprocess\n",
    "\n",
    "output = subprocess.check_output(\"ps -aux\", shell=True)\n",
    "output_list = output.split('\\n')\n",
    "\n",
    "for index, line in enumerate(output_list[:10]):\n",
    "    print(\"{}) {}\".format(index, line))"
   ]
  },
  {
   "cell_type": "code",
   "execution_count": 60,
   "metadata": {
    "collapsed": false
   },
   "outputs": [
    {
     "name": "stdout",
     "output_type": "stream",
     "text": [
      "0) USER       PID %CPU %MEM    VSZ   RSS TTY      STAT START   TIME COMMAND\n",
      " \n",
      "\n",
      "1) root         1  0.0  0.0 129056  3056 ?        Ss   08:41   0:02 /usr/lib/systemd/systemd --switched-root --system --deserialize 22\n",
      " \n",
      "\n",
      "2) root         2  0.0  0.0      0     0 ?        S    08:41   0:00 [kthreadd]\n",
      " \n",
      "\n",
      "3) root         3  0.0  0.0      0     0 ?        S    08:41   0:00 [ksoftirqd/0]\n",
      " \n",
      "\n",
      "4) root         5  0.0  0.0      0     0 ?        S<   08:41   0:00 [kworker/0:0H]\n",
      " \n",
      "\n",
      "5) root         7  0.0  0.0      0     0 ?        S    08:41   0:04 [rcu_sched]\n",
      " \n",
      "\n",
      "6) root         8  0.0  0.0      0     0 ?        S    08:41   0:00 [rcu_bh]\n",
      " \n",
      "\n",
      "7) root         9  0.0  0.0      0     0 ?        S    08:41   0:02 [rcuos/0]\n",
      " \n",
      "\n",
      "8) root        10  0.0  0.0      0     0 ?        S    08:41   0:00 [rcuob/0]\n",
      " \n",
      "\n",
      "9) root        11  0.0  0.0      0     0 ?        S    08:41   0:00 [migration/0]\n",
      " \n",
      "\n"
     ]
    }
   ],
   "source": [
    "# ALTERNATIVE SOLUTION\n",
    "\n",
    "import subprocess\n",
    "\n",
    "ps_aux = subprocess.Popen(['ps', '-aux'], \n",
    "                        stdout=subprocess.PIPE)\n",
    "\n",
    "head = subprocess.Popen(['head', '-n10'],\n",
    "                        stdin=ps_aux.stdout,\n",
    "                        stdout=subprocess.PIPE)\n",
    "\n",
    "processes = head.stdout\n",
    "for index, line in enumerate(processes):\n",
    "    print(\"{}) {} \\n\".format(index, line))"
   ]
  },
  {
   "cell_type": "markdown",
   "metadata": {},
   "source": [
    "#### Data persistence"
   ]
  },
  {
   "cell_type": "code",
   "execution_count": 72,
   "metadata": {
    "collapsed": false
   },
   "outputs": [
    {
     "name": "stdout",
     "output_type": "stream",
     "text": [
      "<type 'dict'>\n",
      "{'int': 100, 'list': [1, 2, 3, 4], 'bool': True, 'string': 'string', 'dict': {'key2': 2, 'key1': 1}}\n",
      "<type 'str'>\n",
      "{\n",
      "    \"int\": 100, \n",
      "    \"list\": [\n",
      "        1, \n",
      "        2, \n",
      "        3, \n",
      "        4\n",
      "    ], \n",
      "    \"bool\": true, \n",
      "    \"string\": \"string\", \n",
      "    \"dict\": {\n",
      "        \"key2\": 2, \n",
      "        \"key1\": 1\n",
      "    }\n",
      "}\n",
      "{u'int': 100, u'bool': True, u'list': [1, 2, 3, 4], u'string': u'string', u'dict': {u'key2': 2, u'key1': 1}}\n",
      "{\"msg\": \"error\"}\n"
     ]
    }
   ],
   "source": [
    "import json\n",
    "# import simplejson\n",
    "\n",
    "data = {'int': 100, 'string': 'string', 'bool': True,  'list': [1, 2, 3, 4], 'dict': {'key1': 1, 'key2': 2}}\n",
    "print(type(data), data)\n",
    "\n",
    "data_json = json.dumps(data, indent=4)\n",
    "print(type(data_json), data_json)\n",
    "\n",
    "data2 = json.loads(data_json)\n",
    "print(data2)\n",
    "\n",
    "print(json.dumps({\"msg\": \"error\"}))"
   ]
  },
  {
   "cell_type": "markdown",
   "metadata": {},
   "source": [
    "#### HTTP for Humans\n",
    "\n",
    "http://docs.python-requests.org/en/master/"
   ]
  },
  {
   "cell_type": "code",
   "execution_count": 73,
   "metadata": {
    "collapsed": false
   },
   "outputs": [
    {
     "name": "stdout",
     "output_type": "stream",
     "text": [
      "{\n",
      "   \"time\": \"01:22:38 PM\",\n",
      "   \"milliseconds_since_epoch\": 1465564958167,\n",
      "   \"date\": \"06-10-2016\"\n",
      "}\n",
      "\n",
      "{u'date': u'06-10-2016', u'milliseconds_since_epoch': 1465564958167, u'time': u'01:22:38 PM'}\n"
     ]
    }
   ],
   "source": [
    "import requests\n",
    "\n",
    "r = requests.get('http://date.jsontest.com/')\n",
    "\n",
    "print(r.text)\n",
    "print(r.json())"
   ]
  },
  {
   "cell_type": "code",
   "execution_count": 74,
   "metadata": {
    "collapsed": false
   },
   "outputs": [
    {
     "name": "stdout",
     "output_type": "stream",
     "text": [
      "Date:  06-10-2016\n",
      "Timestamp:  1465565023032\n",
      "Time:  01:23:43 PM\n"
     ]
    }
   ],
   "source": [
    "import requests\n",
    "\n",
    "r = requests.get('http://date.jsontest.com/')\n",
    "\n",
    "data = r.json()\n",
    "print(\"Date: \", data['date'])\n",
    "print(\"Timestamp: \", data['milliseconds_since_epoch'])\n",
    "print(\"Time: \", data['time'])"
   ]
  },
  {
   "cell_type": "code",
   "execution_count": null,
   "metadata": {
    "collapsed": false
   },
   "outputs": [],
   "source": [
    "import os\n",
    "import requests\n",
    "from BeautifulSoup import BeautifulSoup\n",
    "\n",
    "url = \"https://www.python.org/ftp/python/\"\n",
    "r = requests.get(url)\n",
    "\n",
    "print(r.text)"
   ]
  },
  {
   "cell_type": "code",
   "execution_count": 75,
   "metadata": {
    "collapsed": false
   },
   "outputs": [
    {
     "name": "stdout",
     "output_type": "stream",
     "text": [
      "http://httpbin.org/get?key2=value2&key1=value1\n",
      "{u'origin': u'84.47.155.6', u'headers': {u'Host': u'httpbin.org', u'Accept-Encoding': u'gzip, deflate', u'Accept': u'*/*', u'User-Agent': u'python-requests/2.9.1'}, u'args': {u'key2': u'value2', u'key1': u'value1'}, u'url': u'http://httpbin.org/get?key2=value2&key1=value1'}\n"
     ]
    }
   ],
   "source": [
    "import requests\n",
    "\n",
    "payload = {'key1': 'value1', 'key2': 'value2'}\n",
    "r = requests.get('http://httpbin.org/get', params=payload)\n",
    "\n",
    "print(r.url)\n",
    "print(r.json())"
   ]
  },
  {
   "cell_type": "code",
   "execution_count": 80,
   "metadata": {
    "collapsed": false
   },
   "outputs": [
    {
     "name": "stdout",
     "output_type": "stream",
     "text": [
      "https://www.python.org/ftp/python/2.0/BeOpen-Python-2.0.exe\n",
      "https://www.python.org/ftp/python/2.0.1/Python-2.0.1.exe\n",
      "https://www.python.org/ftp/python/2.1/Python-2.1.exe\n",
      "https://www.python.org/ftp/python/2.1.1/Python-2.1.1.exe\n",
      "https://www.python.org/ftp/python/2.1.2/Python-2.1.2.exe\n",
      "https://www.python.org/ftp/python/2.1.3/Python-2.1.3.exe\n",
      "https://www.python.org/ftp/python/2.2/Python-2.2.exe\n",
      "https://www.python.org/ftp/python/2.2.1/Python-2.2.1.exe\n",
      "https://www.python.org/ftp/python/2.2.2/Python-2.2.2.exe\n",
      "https://www.python.org/ftp/python/2.2.3/Python-2.2.3.exe\n",
      "https://www.python.org/ftp/python/2.3/Python-2.3.exe\n",
      "https://www.python.org/ftp/python/2.3.1/Python-2.3.1.exe\n",
      "https://www.python.org/ftp/python/2.3.2/Python-2.3.2-1.exe\n",
      "https://www.python.org/ftp/python/2.3.3/Python-2.3.3.exe\n",
      "https://www.python.org/ftp/python/2.3.4/Python-2.3.4.exe\n",
      "https://www.python.org/ftp/python/2.3.5/Python-2.3.5.exe\n",
      "https://www.python.org/ftp/python/3.5.0/python-3.5.0-amd64-webinstall.exe\n",
      "https://www.python.org/ftp/python/3.5.0/python-3.5.0-amd64.exe\n",
      "https://www.python.org/ftp/python/3.5.0/python-3.5.0-webinstall.exe\n",
      "https://www.python.org/ftp/python/3.5.0/python-3.5.0.exe\n",
      "https://www.python.org/ftp/python/3.5.0/python-3.5.0a1-amd64-webinstall.exe\n",
      "https://www.python.org/ftp/python/3.5.0/python-3.5.0a1-amd64.exe\n",
      "https://www.python.org/ftp/python/3.5.0/python-3.5.0a1-webinstall.exe\n",
      "https://www.python.org/ftp/python/3.5.0/python-3.5.0a1.exe\n",
      "https://www.python.org/ftp/python/3.5.0/python-3.5.0a2-amd64-webinstall.exe\n",
      "https://www.python.org/ftp/python/3.5.0/python-3.5.0a2-amd64.exe\n",
      "https://www.python.org/ftp/python/3.5.0/python-3.5.0a2-webinstall.exe\n",
      "https://www.python.org/ftp/python/3.5.0/python-3.5.0a2.exe\n",
      "https://www.python.org/ftp/python/3.5.0/python-3.5.0a3-amd64-webinstall.exe\n",
      "https://www.python.org/ftp/python/3.5.0/python-3.5.0a3-amd64.exe\n",
      "https://www.python.org/ftp/python/3.5.0/python-3.5.0a3-webinstall.exe\n",
      "https://www.python.org/ftp/python/3.5.0/python-3.5.0a3.exe\n",
      "https://www.python.org/ftp/python/3.5.0/python-3.5.0a4-amd64-webinstall.exe\n",
      "https://www.python.org/ftp/python/3.5.0/python-3.5.0a4-amd64.exe\n",
      "https://www.python.org/ftp/python/3.5.0/python-3.5.0a4-embed-amd64.exe\n",
      "https://www.python.org/ftp/python/3.5.0/python-3.5.0a4-embed-win32.exe\n",
      "https://www.python.org/ftp/python/3.5.0/python-3.5.0a4-webinstall.exe\n",
      "https://www.python.org/ftp/python/3.5.0/python-3.5.0a4.exe\n",
      "https://www.python.org/ftp/python/3.5.0/python-3.5.0a5-amd64-webinstall.exe\n",
      "https://www.python.org/ftp/python/3.5.0/python-3.5.0a5-amd64.exe\n",
      "https://www.python.org/ftp/python/3.5.0/python-3.5.0a5-embed-amd64.exe\n",
      "https://www.python.org/ftp/python/3.5.0/python-3.5.0a5-embed-win32.exe\n",
      "https://www.python.org/ftp/python/3.5.0/python-3.5.0a5-webinstall.exe\n",
      "https://www.python.org/ftp/python/3.5.0/python-3.5.0a5.exe\n",
      "https://www.python.org/ftp/python/3.5.0/python-3.5.0b1-amd64-webinstall.exe\n",
      "https://www.python.org/ftp/python/3.5.0/python-3.5.0b1-amd64.exe\n",
      "https://www.python.org/ftp/python/3.5.0/python-3.5.0b1-webinstall.exe\n",
      "https://www.python.org/ftp/python/3.5.0/python-3.5.0b1.exe\n",
      "https://www.python.org/ftp/python/3.5.0/python-3.5.0b2-amd64-webinstall.exe\n",
      "https://www.python.org/ftp/python/3.5.0/python-3.5.0b2-amd64.exe\n",
      "https://www.python.org/ftp/python/3.5.0/python-3.5.0b2-webinstall.exe\n",
      "https://www.python.org/ftp/python/3.5.0/python-3.5.0b2.exe\n",
      "https://www.python.org/ftp/python/3.5.0/python-3.5.0b3-amd64-webinstall.exe\n",
      "https://www.python.org/ftp/python/3.5.0/python-3.5.0b3-amd64.exe\n",
      "https://www.python.org/ftp/python/3.5.0/python-3.5.0b3-webinstall.exe\n",
      "https://www.python.org/ftp/python/3.5.0/python-3.5.0b3.exe\n",
      "https://www.python.org/ftp/python/3.5.0/python-3.5.0b4-amd64-webinstall.exe\n",
      "https://www.python.org/ftp/python/3.5.0/python-3.5.0b4-amd64.exe\n",
      "https://www.python.org/ftp/python/3.5.0/python-3.5.0b4-webinstall.exe\n",
      "https://www.python.org/ftp/python/3.5.0/python-3.5.0b4.exe\n",
      "https://www.python.org/ftp/python/3.5.0/python-3.5.0rc1-amd64-webinstall.exe\n",
      "https://www.python.org/ftp/python/3.5.0/python-3.5.0rc1-amd64.exe\n",
      "https://www.python.org/ftp/python/3.5.0/python-3.5.0rc1-webinstall.exe\n",
      "https://www.python.org/ftp/python/3.5.0/python-3.5.0rc1.exe\n",
      "https://www.python.org/ftp/python/3.5.0/python-3.5.0rc2-amd64-webinstall.exe\n",
      "https://www.python.org/ftp/python/3.5.0/python-3.5.0rc2-amd64.exe\n",
      "https://www.python.org/ftp/python/3.5.0/python-3.5.0rc2-webinstall.exe\n",
      "https://www.python.org/ftp/python/3.5.0/python-3.5.0rc2.exe\n",
      "https://www.python.org/ftp/python/3.5.0/python-3.5.0rc3-amd64-webinstall.exe\n",
      "https://www.python.org/ftp/python/3.5.0/python-3.5.0rc3-amd64.exe\n",
      "https://www.python.org/ftp/python/3.5.0/python-3.5.0rc3-webinstall.exe\n",
      "https://www.python.org/ftp/python/3.5.0/python-3.5.0rc3.exe\n",
      "https://www.python.org/ftp/python/3.5.0/python-3.5.0rc4-amd64-webinstall.exe\n",
      "https://www.python.org/ftp/python/3.5.0/python-3.5.0rc4-amd64.exe\n",
      "https://www.python.org/ftp/python/3.5.0/python-3.5.0rc4-webinstall.exe\n",
      "https://www.python.org/ftp/python/3.5.0/python-3.5.0rc4.exe\n",
      "https://www.python.org/ftp/python/3.5.1/python-3.5.1-amd64-webinstall.exe\n",
      "https://www.python.org/ftp/python/3.5.1/python-3.5.1-amd64.exe\n",
      "https://www.python.org/ftp/python/3.5.1/python-3.5.1-webinstall.exe\n",
      "https://www.python.org/ftp/python/3.5.1/python-3.5.1.exe\n",
      "https://www.python.org/ftp/python/3.5.1/python-3.5.1rc1-amd64-webinstall.exe\n",
      "https://www.python.org/ftp/python/3.5.1/python-3.5.1rc1-amd64.exe\n",
      "https://www.python.org/ftp/python/3.5.1/python-3.5.1rc1-webinstall.exe\n",
      "https://www.python.org/ftp/python/3.5.1/python-3.5.1rc1.exe\n",
      "https://www.python.org/ftp/python/3.6.0/python-3.6.0a1-amd64-webinstall.exe\n",
      "https://www.python.org/ftp/python/3.6.0/python-3.6.0a1-amd64.exe\n",
      "https://www.python.org/ftp/python/3.6.0/python-3.6.0a1-webinstall.exe\n",
      "https://www.python.org/ftp/python/3.6.0/python-3.6.0a1.exe\n",
      "https://www.python.org/ftp/python/nt/py152.exe\n",
      "https://www.python.org/ftp/python/nt/py152c1.exe\n",
      "https://www.python.org/ftp/python/nt/py152b2.exe\n",
      "https://www.python.org/ftp/python/nt/py152b1.exe\n",
      "https://www.python.org/ftp/python/nt/pyth151.exe\n",
      "https://www.python.org/ftp/python/nt/python15.exe\n",
      "https://www.python.org/ftp/python/pythonwin/oadist.exe\n",
      "https://www.python.org/ftp/python/pythonwin/win32dbg.exe\n",
      "https://www.python.org/ftp/python/wpy/wpyset31.exe\n",
      "https://www.python.org/ftp/python/wpy/wpysetup.exe\n"
     ]
    }
   ],
   "source": [
    "import os\n",
    "import requests\n",
    "from BeautifulSoup import BeautifulSoup\n",
    "\n",
    "url = \"https://www.python.org/ftp/python/\"\n",
    "r = requests.get(url)\n",
    "\n",
    "soup = BeautifulSoup(r.text)\n",
    "links = soup.findAll('a', href=True)\n",
    "\n",
    "for link in links:\n",
    "    python_version = link['href']    \n",
    "    \n",
    "    r = requests.get(os.path.join(url, python_version))\n",
    "    \n",
    "    soup = BeautifulSoup(r.text)\n",
    "    links = soup.findAll('a', href=True)\n",
    "    \n",
    "    for link in links:\n",
    "        if link['href'].endswith('exe'):\n",
    "            print(os.path.join(url, python_version, link['href']))"
   ]
  },
  {
   "cell_type": "markdown",
   "metadata": {
    "collapsed": true
   },
   "source": [
    "### Exercise\n",
    "\n",
    "List out all url to '.exe' files from this site https://www.python.org/ftp/python/3.5.1/\n",
    "\n",
    "Hint:\n",
    "- pip install requests\n",
    "- pip install BeautifulSoup\n",
    "- https://www.crummy.com/software/BeautifulSoup/bs3/documentation.html"
   ]
  },
  {
   "cell_type": "code",
   "execution_count": null,
   "metadata": {
    "collapsed": false,
    "scrolled": true
   },
   "outputs": [],
   "source": [
    "import os\n",
    "import requests\n",
    "from BeautifulSoup import BeautifulSoup\n",
    "\n",
    "url = \"https://www.python.org/ftp/python/3.5.1/\"\n",
    "r = requests.get(url)\n",
    "\n",
    "soup = BeautifulSoup(r.text)\n",
    "links = soup.findAll('a', href=True)\n",
    "\n",
    "for link in links:\n",
    "    if link['href'].endswith('exe'):\n",
    "        print(os.path.join(url, link['href']))"
   ]
  },
  {
   "cell_type": "markdown",
   "metadata": {},
   "source": [
    "#### The ElementTree XML API\n",
    "\n",
    "https://docs.python.org/2/library/xml.etree.elementtree.html"
   ]
  },
  {
   "cell_type": "code",
   "execution_count": 82,
   "metadata": {
    "collapsed": false
   },
   "outputs": [],
   "source": [
    "country_data = \"\"\"\\\n",
    "<?xml version=\"1.0\"?>\n",
    "<data>\n",
    "    <country name=\"Liechtenstein\">\n",
    "        <rank>1</rank>\n",
    "        <year>2008</year>\n",
    "        <gdppc>141100</gdppc>\n",
    "        <neighbor name=\"Austria\" direction=\"E\"/>\n",
    "        <neighbor name=\"Switzerland\" direction=\"W\"/>\n",
    "    </country>\n",
    "    <country name=\"Singapore\">\n",
    "        <rank>4</rank>\n",
    "        <year>2011</year>\n",
    "        <gdppc>59900</gdppc>\n",
    "        <neighbor name=\"Malaysia\" direction=\"N\"/>\n",
    "    </country>\n",
    "    <country name=\"Panama\">\n",
    "        <rank>68</rank>\n",
    "        <year>2011</year>\n",
    "        <gdppc>13600</gdppc>\n",
    "        <neighbor name=\"Costa Rica\" direction=\"W\"/>\n",
    "        <neighbor name=\"Colombia\" direction=\"E\"/>\n",
    "    </country>\n",
    "</data>\n",
    "\"\"\""
   ]
  },
  {
   "cell_type": "code",
   "execution_count": 83,
   "metadata": {
    "collapsed": false
   },
   "outputs": [
    {
     "name": "stdout",
     "output_type": "stream",
     "text": [
      "Country:  Liechtenstein\n",
      "Neigbor:  Austria\n",
      "Neigbor:  Switzerland\n",
      "------------------------------\n",
      "Country:  Singapore\n",
      "Neigbor:  Malaysia\n",
      "------------------------------\n",
      "Country:  Panama\n",
      "Neigbor:  Costa Rica\n",
      "Neigbor:  Colombia\n",
      "------------------------------\n"
     ]
    }
   ],
   "source": [
    "import xml.etree.ElementTree as ET\n",
    "\n",
    "# if you want to read XML data from file\n",
    "#tree = ET.parse('country_data.xml')\n",
    "#root = tree.getroot()\n",
    "\n",
    "root = ET.fromstring(country_data)\n",
    "\n",
    "countries = root.findall('country')\n",
    "for country in countries:\n",
    "    print(\"Country: \", country.get('name'))\n",
    "    \n",
    "    country_neighbours = country.findall('neighbor')\n",
    "    for neighbor in country_neighbours:\n",
    "        print(\"Neigbor: \", neighbor.get('name'))\n",
    "        \n",
    "    print(\"-\" * 30)"
   ]
  },
  {
   "cell_type": "code",
   "execution_count": null,
   "metadata": {
    "collapsed": true
   },
   "outputs": [],
   "source": [
    "python -m SimpleHTTPServer"
   ]
  },
  {
   "cell_type": "markdown",
   "metadata": {},
   "source": [
    "### Databases\n",
    "\n",
    "- https://docs.python.org/2/library/sqlite3.html\n",
    "- http://docs.sqlalchemy.org/en/latest/dialects/sqlite.html\n"
   ]
  },
  {
   "cell_type": "markdown",
   "metadata": {},
   "source": [
    "#### SQLite"
   ]
  },
  {
   "cell_type": "code",
   "execution_count": 6,
   "metadata": {
    "collapsed": false
   },
   "outputs": [],
   "source": [
    "import sqlite3\n",
    "conn = sqlite3.connect('example.db')\n",
    "\n",
    "c = conn.cursor()\n",
    "\n",
    "# Create table\n",
    "c.execute('''CREATE TABLE stocks\n",
    "             (date text, trans text, symbol text, qty real, price real)''')\n",
    "\n",
    "# Insert a row of data\n",
    "c.execute(\"INSERT INTO stocks VALUES ('2006-01-05','BUY','RHAT',100,35.14)\")\n",
    "c.execute(\"INSERT INTO stocks VALUES ('2006-02-05','BUY','RHAT2',101,40.24)\")\n",
    "\n",
    "# Save (commit) the changes\n",
    "conn.commit()\n",
    "conn.close()\n"
   ]
  },
  {
   "cell_type": "code",
   "execution_count": 7,
   "metadata": {
    "collapsed": false
   },
   "outputs": [
    {
     "name": "stdout",
     "output_type": "stream",
     "text": [
      "(u'2006-01-05', u'BUY', u'RHAT', 100.0, 35.14)\n",
      "(u'2006-02-05', u'BUY', u'RHAT2', 101.0, 40.24)\n"
     ]
    }
   ],
   "source": [
    "import sqlite3\n",
    "conn = sqlite3.connect('example.db')\n",
    "\n",
    "c = conn.cursor()\n",
    "for row in c.execute('SELECT * FROM stocks ORDER BY price'):\n",
    "    print(row)"
   ]
  },
  {
   "cell_type": "markdown",
   "metadata": {},
   "source": [
    "#### SQLAlchemy"
   ]
  },
  {
   "cell_type": "code",
   "execution_count": 19,
   "metadata": {
    "collapsed": false
   },
   "outputs": [
    {
     "name": "stdout",
     "output_type": "stream",
     "text": [
      "2016-10-06 22:03:17,661 INFO sqlalchemy.engine.base.Engine SELECT CAST('test plain returns' AS VARCHAR(60)) AS anon_1\n",
      "2016-10-06 22:03:17,663 INFO sqlalchemy.engine.base.Engine ()\n",
      "2016-10-06 22:03:17,665 INFO sqlalchemy.engine.base.Engine SELECT CAST('test unicode returns' AS VARCHAR(60)) AS anon_1\n",
      "2016-10-06 22:03:17,666 INFO sqlalchemy.engine.base.Engine ()\n",
      "2016-10-06 22:03:17,667 INFO sqlalchemy.engine.base.Engine PRAGMA table_info(\"users\")\n",
      "2016-10-06 22:03:17,668 INFO sqlalchemy.engine.base.Engine ()\n",
      "2016-10-06 22:03:17,670 INFO sqlalchemy.engine.base.Engine \n",
      "CREATE TABLE users (\n",
      "\tid INTEGER NOT NULL, \n",
      "\tname VARCHAR, \n",
      "\tfullname VARCHAR, \n",
      "\tpassword VARCHAR, \n",
      "\tPRIMARY KEY (id)\n",
      ")\n",
      "\n",
      "\n",
      "2016-10-06 22:03:17,671 INFO sqlalchemy.engine.base.Engine ()\n",
      "2016-10-06 22:03:17,673 INFO sqlalchemy.engine.base.Engine COMMIT\n",
      "(<User('Vincent','Vega', 'aaaa1')>, <User('Butch','Coolidge', 'watch22')>)\n",
      "2016-10-06 22:03:17,676 INFO sqlalchemy.engine.base.Engine BEGIN (implicit)\n",
      "2016-10-06 22:03:17,678 INFO sqlalchemy.engine.base.Engine INSERT INTO users (name, fullname, password) VALUES (?, ?, ?)\n",
      "2016-10-06 22:03:17,680 INFO sqlalchemy.engine.base.Engine ('Vincent', 'Vega', 'aaaa1')\n",
      "2016-10-06 22:03:17,681 INFO sqlalchemy.engine.base.Engine INSERT INTO users (name, fullname, password) VALUES (?, ?, ?)\n",
      "2016-10-06 22:03:17,682 INFO sqlalchemy.engine.base.Engine ('Butch', 'Coolidge', 'watch22')\n",
      "2016-10-06 22:03:17,684 INFO sqlalchemy.engine.base.Engine COMMIT\n",
      "2016-10-06 22:03:17,686 INFO sqlalchemy.engine.base.Engine BEGIN (implicit)\n",
      "2016-10-06 22:03:17,687 INFO sqlalchemy.engine.base.Engine SELECT users.id AS users_id, users.name AS users_name, users.fullname AS users_fullname, users.password AS users_password \n",
      "FROM users \n",
      "WHERE users.name = ?\n",
      " LIMIT ? OFFSET ?\n",
      "2016-10-06 22:03:17,688 INFO sqlalchemy.engine.base.Engine ('Vincent', 1, 0)\n",
      "('-->', <User('Vincent','Vega', 'aaaa1')>)\n"
     ]
    }
   ],
   "source": [
    "from sqlalchemy.ext.declarative import declarative_base\n",
    "from sqlalchemy import Column, Integer, String, create_engine\n",
    "from sqlalchemy.orm import sessionmaker\n",
    "\n",
    "Base = declarative_base()\n",
    "\n",
    "class User(Base):\n",
    "  __tablename__ = 'users'\n",
    "  \n",
    "  id = Column(Integer, primary_key=True)\n",
    "  name = Column(String)\n",
    "  fullname = Column(String)\n",
    "  password = Column(String)\n",
    "  \n",
    "  def __init__(self, name, fullname, password):\n",
    "      self.name = name\n",
    "      self.fullname = fullname\n",
    "      self.password = password\n",
    "\n",
    "  def __repr__(self):\n",
    "     return \"<User('%s','%s', '%s')>\" % (self.name, self.fullname, self.password)\n",
    "    \n",
    "    \n",
    "engine = create_engine('sqlite:///:memory:', echo=True)\n",
    "Base.metadata.create_all(engine)\n",
    "\n",
    "user1 = User('Vincent', 'Vega', 'aaaa1')\n",
    "user2 = User('Butch', 'Coolidge', 'watch22')\n",
    "\n",
    "print(user1, user2)\n",
    "\n",
    "Session = sessionmaker(bind=engine)\n",
    "session = Session()\n",
    "\n",
    "session.add_all([user1, user2])\n",
    "session.commit()\n",
    "\n",
    "\n",
    "print(\"-->\", session.query(User).filter_by(name='Vincent').first())"
   ]
  },
  {
   "cell_type": "code",
   "execution_count": null,
   "metadata": {
    "collapsed": true
   },
   "outputs": [],
   "source": []
  }
 ],
 "metadata": {
  "kernelspec": {
   "display_name": "Python 2",
   "language": "python",
   "name": "python2"
  },
  "language_info": {
   "codemirror_mode": {
    "name": "ipython",
    "version": 2
   },
   "file_extension": ".py",
   "mimetype": "text/x-python",
   "name": "python",
   "nbconvert_exporter": "python",
   "pygments_lexer": "ipython2",
   "version": "2.7.12"
  }
 },
 "nbformat": 4,
 "nbformat_minor": 0
}
