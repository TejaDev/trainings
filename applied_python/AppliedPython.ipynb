{
 "cells": [
  {
   "cell_type": "code",
   "execution_count": null,
   "metadata": {
    "collapsed": false
   },
   "outputs": [],
   "source": [
    "import os\n",
    "os.listdir('/tmp')"
   ]
  },
  {
   "cell_type": "markdown",
   "metadata": {},
   "source": [
    "https://docs.python.org/2/library/os.path.html"
   ]
  },
  {
   "cell_type": "code",
   "execution_count": null,
   "metadata": {
    "collapsed": false
   },
   "outputs": [],
   "source": [
    "import os\n",
    "\n",
    "file = '/etc/passwd'\n",
    "\n",
    "print os.path.isfile(file)\n",
    "print os.path.isdir(file)\n",
    "print os.path.exists(file)\n",
    "print os.path.dirname(file)\n",
    "\n",
    "print \"/tmp\" + \"/dir1\" + \"/dir2\" + '/file'\n",
    "print os.path.join('/tmp', 'dir1', 'dir2', 'file')"
   ]
  },
  {
   "cell_type": "code",
   "execution_count": null,
   "metadata": {
    "collapsed": false
   },
   "outputs": [],
   "source": [
    "import os\n",
    "for root, dirs, files in os.walk('/tmp/test1'):\n",
    "    print root, dirs, files"
   ]
  },
  {
   "cell_type": "code",
   "execution_count": null,
   "metadata": {
    "collapsed": false
   },
   "outputs": [],
   "source": [
    "import os\n",
    "for root, dirs, files in os.walk('/etc'):\n",
    "    for file in files:\n",
    "        print os.path.join(root, file)"
   ]
  },
  {
   "cell_type": "code",
   "execution_count": null,
   "metadata": {
    "collapsed": false
   },
   "outputs": [],
   "source": [
    "import os\n",
    "list_of_file_names = []\n",
    "for root, dirs, files in os.walk('/etc'):\n",
    "    for file in files:\n",
    "        list_of_file_names.append(file)\n",
    "\n",
    "print list_of_file_names"
   ]
  },
  {
   "cell_type": "markdown",
   "metadata": {},
   "source": [
    "Exercise:\n",
    "\n",
    "Using previous example, please create python dictionary \n",
    "that will contain information about file name and its size.\n",
    "You can use /etc/ directory.\n",
    "\n",
    "Hint 1: remember to check if file exists\n",
    "Hint 2: use file name as dictionary key\n",
    "\n",
    "\n",
    "Your output should be similar to 'Output example':\n",
    "Output example:\n",
    "```python\n",
    "{\n",
    "    '/etc/sane.d/stv680.conf': 178,\n",
    "    '/etc/redhat-release': 33,\n",
    "    '/etc/pam.d/cups': 146,\n",
    "    '/etc/X11/xinit/Xclients': 2317\n",
    "    ...\n",
    "}\n",
    "```"
   ]
  },
  {
   "cell_type": "code",
   "execution_count": null,
   "metadata": {
    "collapsed": false
   },
   "outputs": [],
   "source": [
    "# SOLUTION\n",
    "\n",
    "import os\n",
    "list_of_files = []\n",
    "for root, dirs, files in os.walk('/etc'):\n",
    "    for file in files:\n",
    "        path_to_file = os.path.join(root, file)\n",
    "        if os.path.isfile(path_to_file):\n",
    "            list_of_files.append((path_to_file, os.path.getsize(path_to_file)))\n",
    "\n",
    "files_size = dict(list_of_files)\n",
    "print files_size"
   ]
  },
  {
   "cell_type": "markdown",
   "metadata": {},
   "source": [
    "#### How to sort dictionaries"
   ]
  },
  {
   "cell_type": "code",
   "execution_count": null,
   "metadata": {
    "collapsed": false
   },
   "outputs": [],
   "source": [
    "d = {'key1': 1, 'key2': 2, 'key3': 3}\n",
    "\n",
    "for key in sorted(d, key=d.get):\n",
    "    print key, d[key]"
   ]
  },
  {
   "cell_type": "markdown",
   "metadata": {},
   "source": [
    "Exercise:\n",
    "\n",
    "Sort dictionary from previous exercise by file size. \n",
    "Largest files should go first.\n",
    "\n",
    "Hint: Boot sort and sorted method accept a reverse parameter with a boolean value. \n",
    "This is using to flag descending sorts."
   ]
  },
  {
   "cell_type": "code",
   "execution_count": null,
   "metadata": {
    "collapsed": false
   },
   "outputs": [],
   "source": [
    "# SOLUTION\n",
    "\n",
    "for key in sorted(files_size, key=files_size.get, reverse=True):\n",
    "    print key, files_size[key]"
   ]
  },
  {
   "cell_type": "markdown",
   "metadata": {},
   "source": [
    "Exercise:\n",
    "\n",
    "Create a function: get_files_size that will take two arguments: \n",
    "\n",
    "1. `directory` - string, directory name, e.g.: /etc, by default use '/' directory\n",
    "2. `reverse`   - boolean, if True use descending sorts, by default should be set as False\n",
    "\n",
    "Function should return python dictionary that will contain information about file name and its size.\n",
    "\n",
    "Please use solutions from previous exercises.\n",
    "\n",
    "Example: how to invoke this function?\n",
    "\n",
    "```python\n",
    "get_files_size('/etc/', reverse=True) \n",
    "```\n",
    "\n",
    "Additionally: try to execute this function as follows:\n",
    "- ```print get_files_size()```\n",
    "- ```print get_files_size('/etc')```\n",
    "- ```print get_files_size('/etc', reverse=True)```\n",
    "\n",
    "\n",
    "Hit: use OrderedDict\n",
    "```python\n",
    "from collections import OrderedDict\n",
    "```\n",
    "\n",
    "Hint: use itemgetter or lambda notation to get second element from tuple"
   ]
  },
  {
   "cell_type": "code",
   "execution_count": 49,
   "metadata": {
    "collapsed": false
   },
   "outputs": [
    {
     "name": "stdout",
     "output_type": "stream",
     "text": [
      "[('testfile', 3000), ('testfile', 2), ('password', 450), ('file1', 100)]\n",
      "[('testfile', 3000), ('password', 450), ('file1', 100), ('testfile', 2)]\n",
      "[('testfile', 3000), ('password', 450), ('file1', 100), ('testfile', 2)]\n"
     ]
    }
   ],
   "source": [
    "list_of_tuples = [('file1', 100), ('testfile', 2), ('testfile', 3000), ('password', 450)]\n",
    "\n",
    "list_of_tuples.sort(reverse=True)\n",
    "print list_of_tuples\n",
    "\n",
    "# first approach\n",
    "from operator import itemgetter\n",
    "\n",
    "list_of_tuples.sort(reverse=True, key=itemgetter(1))\n",
    "print list_of_tuples\n",
    "\n",
    "\n",
    "# second approach\n",
    "list_of_tuples.sort(reverse=True, key=lambda item: item[1])\n",
    "print list_of_tuples"
   ]
  },
  {
   "cell_type": "markdown",
   "metadata": {},
   "source": [
    "#### Lamda expression\n",
    "\n",
    "- Lambdas are a shorthand to create anonymous functions in Python (functions without names)\n",
    "\n",
    "For example you can create function in the 'normal way' using `def` keyword:\n",
    "```python\n",
    "def square_root(x): \n",
    "    return math.sqrt(x)\n",
    "    \n",
    "square_root(2)    \n",
    "```\n",
    "or you can use lambda:\n",
    "\n",
    "```python\n",
    "square_root = lambda x: math.sqrt(x)\n",
    "square_root(2)\n",
    "```\n",
    "\n",
    "Another example:\n",
    "\n",
    "```python\n",
    "def name(arguments):\n",
    "    return expression\n",
    "```\n",
    "can be translated to\n",
    "```python\n",
    "name = lambda arguments: expression\n",
    "```\n",
    "\n",
    "Source:\n",
    "- https://docs.python.org/2/reference/expressions.html\n",
    "- https://pythonconquerstheuniverse.wordpress.com/2011/08/29/lambda_tutorial/"
   ]
  },
  {
   "cell_type": "code",
   "execution_count": null,
   "metadata": {
    "collapsed": false
   },
   "outputs": [],
   "source": [
    "# SOLUTION\n",
    "\n",
    "import os\n",
    "from collections import OrderedDict\n",
    "from operator import itemgetter\n",
    "\n",
    "def get_files_size(directory='/', reverse=False):\n",
    "    list_of_files = []\n",
    "    for root, dirs, files in os.walk(directory):\n",
    "        for file in files:\n",
    "            path_to_file = os.path.join(root, file)\n",
    "            if os.path.isfile(path_to_file):\n",
    "                list_of_files.append((path_to_file, os.path.getsize(path_to_file)))\n",
    "    \n",
    "    return OrderedDict(sorted(list_of_files, key=itemgetter(1), reverse=reverse))\n",
    "            \n",
    "\n",
    "print get_files_size('/etc')\n",
    "    "
   ]
  },
  {
   "cell_type": "markdown",
   "metadata": {},
   "source": [
    "Exercise:\n",
    "\n",
    "Using previous exercises create a script that will ask user to provide directory name\n",
    "and then list out each file from provided directory and its size.\n",
    "You can use function get_files_size."
   ]
  },
  {
   "cell_type": "code",
   "execution_count": null,
   "metadata": {
    "collapsed": false
   },
   "outputs": [],
   "source": [
    "\n",
    "\n"
   ]
  },
  {
   "cell_type": "code",
   "execution_count": null,
   "metadata": {
    "collapsed": true
   },
   "outputs": [],
   "source": []
  }
 ],
 "metadata": {
  "kernelspec": {
   "display_name": "Python 2",
   "language": "python",
   "name": "python2"
  },
  "language_info": {
   "codemirror_mode": {
    "name": "ipython",
    "version": 2
   },
   "file_extension": ".py",
   "mimetype": "text/x-python",
   "name": "python",
   "nbconvert_exporter": "python",
   "pygments_lexer": "ipython2",
   "version": "2.7.10"
  }
 },
 "nbformat": 4,
 "nbformat_minor": 0
}
