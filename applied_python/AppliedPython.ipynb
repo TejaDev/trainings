{
 "cells": [
  {
   "cell_type": "code",
   "execution_count": null,
   "metadata": {
    "collapsed": false
   },
   "outputs": [],
   "source": [
    "import datetime                                                                                       \n",
    "\n",
    "day_today = datetime.date.today().strftime(\"%A\")\n",
    "print \"Today is {day}\".format(day=day_today)"
   ]
  },
  {
   "cell_type": "code",
   "execution_count": null,
   "metadata": {
    "collapsed": false
   },
   "outputs": [],
   "source": [
    "if day_today is \"Friday\":\n",
    "    print \"Today is Friday!!\"\n",
    "else:\n",
    "    print \"Today is {day}\".format(day=day_today)"
   ]
  },
  {
   "cell_type": "code",
   "execution_count": null,
   "metadata": {
    "collapsed": true
   },
   "outputs": [],
   "source": [
    "# # multiply each number by 2\n",
    "\n",
    "numbers = [1, 2, 3, 4, 5, 6, 7]\n",
    "for number in numbers:\n",
    "    print number ** 2"
   ]
  },
  {
   "cell_type": "code",
   "execution_count": null,
   "metadata": {
    "collapsed": false
   },
   "outputs": [],
   "source": [
    "numbers = [1, 2, 3, 4, 5, 6, 7, 8, 9, 10] \n",
    "# numbers = range(1, 11)\n",
    "\n",
    "for number in numbers:\n",
    "    if number % 2 == 0:\n",
    "        print \"Number {} is even\".format(number)\n",
    "    elif number % 2 == 1:\n",
    "        print \"Number {} is odd\".format(number)\n",
    "    else:\n",
    "        print \"is it number: {}?\".format(number)"
   ]
  },
  {
   "cell_type": "code",
   "execution_count": null,
   "metadata": {
    "collapsed": false
   },
   "outputs": [],
   "source": [
    "# List comprehension\n",
    "\n",
    "even_numbers = [number for number in range(1,11) if number % 2 == 0]\n",
    "print \"Even numbers: \", even_numbers\n",
    "\n",
    "odd_numbers = [number for number in range(1,11) if number % 2 == 1]\n",
    "print \"Odd numbers:\", odd_numbers"
   ]
  },
  {
   "cell_type": "code",
   "execution_count": null,
   "metadata": {
    "collapsed": false
   },
   "outputs": [],
   "source": [
    "numbers = range(1, 30)\n",
    "even_numbers = [number for number in range(1,11) if number % 2 == 0]\n",
    "\n",
    "even_numbers = set(even_numbers)\n",
    "numbers = set(numbers)\n",
    "\n",
    "# difference (-) -> new set with elements in numbers but not in even_numbers\n",
    "# so we can get odd_numbers\n",
    "\n",
    "odd_numbers = list(numbers - even_numbers)\n",
    "print \"Odd numbers: \", odd_numbers"
   ]
  },
  {
   "cell_type": "code",
   "execution_count": null,
   "metadata": {
    "collapsed": false
   },
   "outputs": [],
   "source": [
    "while True:\n",
    "    number = input(\"Please provide number: \")\n",
    "    if number % 2 == 0:\n",
    "        print \"Number {} is even\".format(number)\n",
    "    elif number % 2 == 1:\n",
    "        print \"Number {} is odd\".format(number)\n",
    "    else:\n",
    "        print \"is it number: {}?\".format(number)\n",
    "    break"
   ]
  },
  {
   "cell_type": "code",
   "execution_count": null,
   "metadata": {
    "collapsed": false
   },
   "outputs": [],
   "source": [
    "def is_number_even(number):\n",
    "    if number % 2 == 0:\n",
    "        print \"Number {} is even\".format(number)\n",
    "        return True\n",
    "    elif number % 2 == 1:\n",
    "        print \"Number {} is odd\".format(number)\n",
    "    else:\n",
    "        print \"is it number: {}?\".format(number)\n",
    "    return False\n",
    "\n",
    "\n",
    "while True:\n",
    "    number = input(\"Please provide number: \")\n",
    "    is_number_even(number)\n",
    "    break"
   ]
  },
  {
   "cell_type": "code",
   "execution_count": null,
   "metadata": {
    "collapsed": false
   },
   "outputs": [],
   "source": [
    "while True:\n",
    "    number = input(\"Please provide number: \")\n",
    "    try:\n",
    "        number = int(number)\n",
    "    except ValueError as exc:\n",
    "        print \"Do we have number or not?\"\n",
    "        break\n",
    "    is_number_even(number)\n",
    "    break"
   ]
  },
  {
   "cell_type": "code",
   "execution_count": null,
   "metadata": {
    "collapsed": false
   },
   "outputs": [],
   "source": [
    "# very, very, very ... simple calc\n",
    "\n",
    "def add_numbers(n1, n2):\n",
    "    return n1 + n2\n",
    "\n",
    "def multiply_numbers(n1, n2):\n",
    "    return n1 * n2\n",
    "\n",
    "def subtract_numbers(n1, n2):\n",
    "    return n1 - n2\n",
    "\n",
    "def divide_numbers(n1, n2):\n",
    "    return n1 / n2\n",
    "\n",
    "actions = {\n",
    "        'add': add_numbers,\n",
    "        'multiply': multiply_numbers,\n",
    "        'subtract': subtract_numbers,\n",
    "        'divide': divide_numbers,\n",
    "}\n",
    "\n",
    "action = raw_input(\"Choose one action [add|multiply|subtract|divide|]:\")\n",
    "number1 = raw_input(\"Provide first number: \")\n",
    "number2 = raw_input(\"Provide second number: \")\n",
    "\n",
    "# convert to int\n",
    "number1 = int(number1)\n",
    "number2 = int(number2)\n",
    "\n",
    "print \"You will {action} two numbers {number1} and {number2}\".format(**locals())\n",
    "result = actions[action](number1, number2)\n",
    "print \"Result is: \", result"
   ]
  },
  {
   "cell_type": "code",
   "execution_count": null,
   "metadata": {
    "collapsed": false
   },
   "outputs": [],
   "source": [
    "class SimpleCalc(object):\n",
    "    def __init__(self, number1, number2):\n",
    "        self.n1 = number1\n",
    "        self.n2 = number2\n",
    "\n",
    "    def add(self):\n",
    "        return self.n1 + self.n2\n",
    "\n",
    "    def multiply(self):\n",
    "        return self.n1 * self.n2\n",
    "\n",
    "    def subtract(selt):\n",
    "        return self.n1 - self.n2\n",
    "\n",
    "    def divide(self):\n",
    "        return self.n1 / self.n2\n",
    "\n",
    "simple_calc = SimpleCalc(number1, number2)\n",
    "action = getattr(simple_calc, action)\n",
    "result = action()\n",
    "print result"
   ]
  },
  {
   "cell_type": "code",
   "execution_count": null,
   "metadata": {
    "collapsed": false
   },
   "outputs": [],
   "source": [
    "import os\n",
    "os.listdir('/tmp')"
   ]
  },
  {
   "cell_type": "markdown",
   "metadata": {},
   "source": [
    "https://docs.python.org/2/library/os.path.html"
   ]
  },
  {
   "cell_type": "code",
   "execution_count": null,
   "metadata": {
    "collapsed": false
   },
   "outputs": [],
   "source": [
    "import os\n",
    "\n",
    "file = '/etc/passwd'\n",
    "\n",
    "print os.path.isfile(file)\n",
    "print os.path.isdir(file)\n",
    "print os.path.exists(file)\n",
    "print os.path.dirname(file)\n",
    "\n",
    "print \"/tmp\" + \"/dir1\" + \"/dir2\" + '/file'\n",
    "print os.path.join('/tmp', 'dir1', 'dir2', 'file')"
   ]
  },
  {
   "cell_type": "code",
   "execution_count": null,
   "metadata": {
    "collapsed": false
   },
   "outputs": [],
   "source": [
    "import os\n",
    "for root, dirs, files in os.walk('/tmp/test1'):\n",
    "    print root, dirs, files"
   ]
  },
  {
   "cell_type": "code",
   "execution_count": null,
   "metadata": {
    "collapsed": false
   },
   "outputs": [],
   "source": [
    "import os\n",
    "for root, dirs, files in os.walk('/etc'):\n",
    "    for file in files:\n",
    "        print os.path.join(root, file)"
   ]
  },
  {
   "cell_type": "code",
   "execution_count": null,
   "metadata": {
    "collapsed": false
   },
   "outputs": [],
   "source": [
    "import os\n",
    "list_of_file_names = []\n",
    "for root, dirs, files in os.walk('/etc'):\n",
    "    for file in files:\n",
    "        list_of_file_names.append(file)\n",
    "\n",
    "print list_of_file_names"
   ]
  },
  {
   "cell_type": "markdown",
   "metadata": {},
   "source": [
    "### Exercise:\n",
    "\n",
    "Using previous example, please create python dictionary \n",
    "that will contain information about file name and its size.\n",
    "You can use /etc/ directory.\n",
    "\n",
    "Hint 1: remember to check if file exists\n",
    "Hint 2: use file name as dictionary key\n",
    "\n",
    "\n",
    "Your output should be similar to 'Output example':\n",
    "Output example:\n",
    "```python\n",
    "{\n",
    "    '/etc/sane.d/stv680.conf': 178,\n",
    "    '/etc/redhat-release': 33,\n",
    "    '/etc/pam.d/cups': 146,\n",
    "    '/etc/X11/xinit/Xclients': 2317\n",
    "    ...\n",
    "}\n",
    "```"
   ]
  },
  {
   "cell_type": "code",
   "execution_count": null,
   "metadata": {
    "collapsed": false
   },
   "outputs": [],
   "source": [
    "# SOLUTION\n",
    "\n",
    "import os\n",
    "list_of_files = []\n",
    "for root, dirs, files in os.walk('/etc'):\n",
    "    for file in files:\n",
    "        path_to_file = os.path.join(root, file)\n",
    "        if os.path.isfile(path_to_file):\n",
    "            list_of_files.append((path_to_file, os.path.getsize(path_to_file)))\n",
    "\n",
    "files_size = dict(list_of_files)\n",
    "print files_size"
   ]
  },
  {
   "cell_type": "markdown",
   "metadata": {},
   "source": [
    "#### How to sort dictionaries"
   ]
  },
  {
   "cell_type": "code",
   "execution_count": null,
   "metadata": {
    "collapsed": false
   },
   "outputs": [],
   "source": [
    "d = {'key1': 1, 'key2': 2, 'key3': 3}\n",
    "\n",
    "for key in sorted(d, key=d.get):\n",
    "    print key, d[key]"
   ]
  },
  {
   "cell_type": "markdown",
   "metadata": {},
   "source": [
    "### Exercise:\n",
    "\n",
    "Sort dictionary from previous exercise by file size. \n",
    "Largest files should go first.\n",
    "\n",
    "Hint: Boot sort and sorted method accept a reverse parameter with a boolean value. \n",
    "This is using to flag descending sorts."
   ]
  },
  {
   "cell_type": "code",
   "execution_count": null,
   "metadata": {
    "collapsed": false
   },
   "outputs": [],
   "source": [
    "# SOLUTION\n",
    "\n",
    "for key in sorted(files_size, key=files_size.get, reverse=True):\n",
    "    print key, files_size[key]"
   ]
  },
  {
   "cell_type": "markdown",
   "metadata": {},
   "source": [
    "### Exercise:\n",
    "\n",
    "Create a function: get_files_size that will take two arguments: \n",
    "\n",
    "1. `directory` - string, directory name, e.g.: /etc, by default use '/tmp' directory\n",
    "2. `reverse`   - boolean, if True use descending sorts, by default should be set as False\n",
    "\n",
    "Function should return python dictionary that will contain information about file name and its size.\n",
    "\n",
    "Please use solutions from previous exercises.\n",
    "\n",
    "Example: how to invoke this function?\n",
    "\n",
    "```python\n",
    "get_files_size('/etc/', reverse=True) \n",
    "```\n",
    "\n",
    "Additionally: try to execute this function as follows:\n",
    "- ```print get_files_size()```\n",
    "- ```print get_files_size('/etc')```\n",
    "- ```print get_files_size('/etc', reverse=True)```\n",
    "\n",
    "\n",
    "Hit: use OrderedDict\n",
    "```python\n",
    "from collections import OrderedDict\n",
    "```\n",
    "\n",
    "Hint: use itemgetter or lambda notation to get second element from tuple"
   ]
  },
  {
   "cell_type": "code",
   "execution_count": null,
   "metadata": {
    "collapsed": false
   },
   "outputs": [],
   "source": [
    "list_of_tuples = [('file1', 100), ('testfile', 2), ('testfile', 3000), ('password', 450)]\n",
    "\n",
    "list_of_tuples.sort(reverse=True)\n",
    "print list_of_tuples\n",
    "\n",
    "# first approach\n",
    "from operator import itemgetter\n",
    "\n",
    "list_of_tuples.sort(reverse=True, key=itemgetter(1))\n",
    "print list_of_tuples\n",
    "\n",
    "\n",
    "# second approach\n",
    "list_of_tuples.sort(reverse=True, key=lambda item: item[1])\n",
    "print list_of_tuples"
   ]
  },
  {
   "cell_type": "markdown",
   "metadata": {},
   "source": [
    "#### Lamda expression\n",
    "\n",
    "- Lambdas are a shorthand to create anonymous functions in Python (functions without names)\n",
    "\n",
    "For example you can create function in the 'normal way' using `def` keyword:\n",
    "```python\n",
    "def square_root(x): \n",
    "    return math.sqrt(x)\n",
    "    \n",
    "square_root(2)    \n",
    "```\n",
    "or you can use lambda:\n",
    "\n",
    "```python\n",
    "square_root = lambda x: math.sqrt(x)\n",
    "square_root(2)\n",
    "```\n",
    "\n",
    "Another example:\n",
    "\n",
    "```python\n",
    "def name(arguments):\n",
    "    return expression\n",
    "```\n",
    "can be translated to\n",
    "```python\n",
    "name = lambda arguments: expression\n",
    "```\n",
    "\n",
    "Source:\n",
    "- https://docs.python.org/2/reference/expressions.html\n",
    "- https://pythonconquerstheuniverse.wordpress.com/2011/08/29/lambda_tutorial/"
   ]
  },
  {
   "cell_type": "code",
   "execution_count": null,
   "metadata": {
    "collapsed": false
   },
   "outputs": [],
   "source": [
    "# SOLUTION\n",
    "\n",
    "import os\n",
    "from collections import OrderedDict\n",
    "from operator import itemgetter\n",
    "\n",
    "def get_files_size(directory='/tmp', reverse=False):\n",
    "    list_of_files = []\n",
    "    for root, dirs, files in os.walk(directory):\n",
    "        for file in files:\n",
    "            path_to_file = os.path.join(root, file)\n",
    "            if os.path.isfile(path_to_file):\n",
    "                list_of_files.append((path_to_file, os.path.getsize(path_to_file)))\n",
    "    \n",
    "    return OrderedDict(sorted(list_of_files, key=itemgetter(1), reverse=reverse))\n",
    "            \n",
    "\n",
    "print get_files_size('/etc')"
   ]
  },
  {
   "cell_type": "code",
   "execution_count": null,
   "metadata": {
    "collapsed": false,
    "scrolled": false
   },
   "outputs": [],
   "source": [
    "print get_files_size()"
   ]
  },
  {
   "cell_type": "markdown",
   "metadata": {},
   "source": [
    "#### User input\n",
    "\n",
    "You can choose one of the following methods:\n",
    "\n",
    "1. Function ```input``` or ```raw_input```\n",
    "2. Attribute (dictionary) ```argv``` from module ```sys```\n",
    "3. Dedicated user-friendly command line interface like ```argparse```\n",
    "    - https://docs.python.org/3/library/argparse.html\n",
    "\n"
   ]
  },
  {
   "cell_type": "code",
   "execution_count": null,
   "metadata": {
    "collapsed": true
   },
   "outputs": [],
   "source": [
    "your_input = raw_input('Please provide file name: ')\n",
    "print your_input"
   ]
  },
  {
   "cell_type": "code",
   "execution_count": null,
   "metadata": {
    "collapsed": true
   },
   "outputs": [],
   "source": [
    "# python your_script.py argument1 argument2\n",
    "\n",
    "import sys\n",
    "\n",
    "script_name = sys.argv[0] # script name, e.g.: your_script\n",
    "arg1 = sys.argv[1] # first argument, e.g.: argument1\n",
    "arg2 = sys.argv[2] # second argument, e.g.: argument2"
   ]
  },
  {
   "cell_type": "code",
   "execution_count": null,
   "metadata": {
    "collapsed": true
   },
   "outputs": [],
   "source": [
    "import argparse\n",
    "\n",
    "parser = argparse.ArgumentParser(description='Script to list out files from given directory')\n",
    "\n",
    "parser.add_argument('--directory', '-d', required=True, help='Source directory')\n",
    "parser.add_argument('--verbose', '-v', action='store_true', help='If set, print more details')\n",
    "\n",
    "args = parser.parse_args()\n",
    "\n",
    "print \"directory: \", args.directory\n",
    "print \"verbose:   \", args.verbose"
   ]
  },
  {
   "cell_type": "markdown",
   "metadata": {},
   "source": [
    "#### Python file as standalone program\n",
    "\n",
    "https://docs.python.org/3/library/__main__.html\n",
    "\n",
    "- `'__main__'` is the name of the scope in which top-level code executes\n",
    "- A module’s `__name__` is set equal to `'__main__'` when read from standard input, a script, or from an interactive prompt.\n",
    "\n",
    "\n",
    "```python\n",
    "def func1():\n",
    "    print \"func1\"\n",
    "    \n",
    "def func2():\n",
    "    print \"func2\"\n",
    "\n",
    "if __name__ == '__main__':\n",
    "    # execute only if run as a script\n",
    "    # good place to use argparse module to catch user input\n",
    "    func1()\n",
    "    func2()\n",
    "    \n",
    "```"
   ]
  },
  {
   "cell_type": "markdown",
   "metadata": {},
   "source": [
    "### Exercise:\n",
    "\n",
    "Using previous exercises create a script that will ask user to provide directory name and sorting order.\n",
    "and list out each file from provided directory and its size.\n",
    "\n",
    "You can use function get_files_size.\n",
    "\n",
    "Input arguments:\n",
    "1. `directory` - string, directory name, e.g.: /etc, by default use '/tmp' directory\n",
    "2. `reverse`   - boolean, if True use descending sorts, by default should be set as False\n"
   ]
  },
  {
   "cell_type": "code",
   "execution_count": null,
   "metadata": {
    "collapsed": false
   },
   "outputs": [],
   "source": [
    "# SOLUTION\n",
    "\n",
    "# How to run this script:\n",
    "# python get_files_size.py  --directory /etc \n",
    "# python get_files_size.py  --directory /etc --reverse\n",
    "\n",
    "import os\n",
    "from collections import OrderedDict\n",
    "from operator import itemgetter\n",
    "\n",
    "def get_files_size(directory='/tmp', reverse=False):\n",
    "    list_of_files = []\n",
    "    for root, dirs, files in os.walk(directory):\n",
    "        for file in files:\n",
    "            path_to_file = os.path.join(root, file)\n",
    "            if os.path.isfile(path_to_file):\n",
    "                list_of_files.append((path_to_file, os.path.getsize(path_to_file)))\n",
    "    \n",
    "    return OrderedDict(sorted(list_of_files, key=itemgetter(1), reverse=reverse))\n",
    "            \n",
    "\n",
    "if __name__ == '__main__':\n",
    "    import argparse\n",
    "\n",
    "    parser = argparse.ArgumentParser(description='Script to list out files from given directory')\n",
    "\n",
    "    parser.add_argument('--directory', '-d', required=True, help='Source directory')\n",
    "    parser.add_argument('--reverse', '-v', action='store_true', help='If set, use descending order')\n",
    "\n",
    "    args = parser.parse_args()    \n",
    "    \n",
    "    print get_files_size(directory=args.directory, reverse=args.reverse)"
   ]
  },
  {
   "cell_type": "markdown",
   "metadata": {
    "collapsed": true
   },
   "source": [
    "### Exercise\n",
    "\n",
    "Modify previously created script to write output (list of files and theirs sizes) to file.\n",
    "\n",
    "Allow user to provide path to file. Remember that you should have access to this file.\n",
    "\n",
    "By default (if no file path specified) write output to /tmp directory and name file as follows:\n",
    "`<TIMESTAMP>`_files.out\n",
    "\n",
    "where `<TIMESTAMP>` is the current unix timestamp (seconds since Jan 01 1970. (UTC))\n",
    "\n",
    "Hint:\n",
    "To get unix timestamp:\n",
    "```python\n",
    "import time\n",
    "timestamp = int(time.time())\n",
    "```\n",
    "\n",
    "\n",
    "Input arguments:\n",
    "1. `directory` - string, directory name, e.g.: /etc, by default use '/tmp' directory\n",
    "2. `reverse`   - boolean, if True use descending sorts, by default should be set as False\n",
    "3. `file_path` - string, specifies the path of output file on disk"
   ]
  },
  {
   "cell_type": "code",
   "execution_count": null,
   "metadata": {
    "collapsed": true
   },
   "outputs": [],
   "source": [
    "# SOLUTION\n",
    "\n",
    "# How to run this script:\n",
    "# python get_files_size.py  --directory /etc \n",
    "# python get_files_size.py  --directory /etc --reverse\n",
    "# python get_files_size.py  --directory /etc --file_path /tmp/output\n",
    "\n",
    "import sys\n",
    "import os\n",
    "import time\n",
    "from collections import OrderedDict\n",
    "from operator import itemgetter\n",
    "\n",
    "def get_files_size(directory='/tmp', reverse=False):\n",
    "    list_of_files = []\n",
    "    for root, dirs, files in os.walk(directory):\n",
    "        for file in files:\n",
    "            path_to_file = os.path.join(root, file)\n",
    "            if os.path.isfile(path_to_file):\n",
    "                list_of_files.append((path_to_file, os.path.getsize(path_to_file)))\n",
    "\n",
    "    return OrderedDict(sorted(list_of_files, key=itemgetter(1), reverse=reverse))\n",
    "\n",
    "def get_timestamp():\n",
    "    return int(time.time())\n",
    "\n",
    "def write_to_file(file_path, dict_to_write):\n",
    "    if not file_path:\n",
    "        file_path = os.path.join('/tmp', \"{}_files.out\".format(get_timestamp()))\n",
    "\n",
    "    try:\n",
    "        with open(file_path, 'w') as f:\n",
    "            for key, value in dict_to_write.items():\n",
    "                f.write(\"{} {}\\n\".format(key, value))\n",
    "    except IOError as exc:\n",
    "        print \"Cannot write output to file, \", exc\n",
    "        sys.exit(1)\n",
    "\n",
    "if __name__ == '__main__':\n",
    "    import argparse\n",
    "\n",
    "    parser = argparse.ArgumentParser(description='Script to list out files from given directory')\n",
    "\n",
    "    parser.add_argument('--directory', '-d', required=True, help='Source directory')\n",
    "    parser.add_argument('--reverse', '-v', action='store_true', help='If set, use descending order')\n",
    "    parser.add_argument('--file_path', '-o', help='Output file path')\n",
    "\n",
    "    args = parser.parse_args()\n",
    "\n",
    "    files_size_dict = get_files_size(directory=args.directory, reverse=args.reverse)\n",
    "\n",
    "    write_to_file(file_path=args.file_path, dict_to_write=files_size_dict)"
   ]
  },
  {
   "cell_type": "markdown",
   "metadata": {},
   "source": [
    "#### How to execute external commands in python\n",
    "\n",
    "To execute external command commands (shell commands) you can choose one of the following methods:\n",
    "1. `os.system(\"command\")`\n",
    "2. `stream = os.popen(\"command\")`\n",
    "3. `subprocess.call(\"command\")` - recommended, it replaces above-mentioned commands\n",
    "\n",
    "Sources:\n",
    "- https://docs.python.org/2/library/subprocess.html#module-subprocess\n",
    "- https://docs.python.org/2/library/subprocess.html#subprocess-replacements\n",
    "- https://pymotw.com/2/subprocess/"
   ]
  },
  {
   "cell_type": "code",
   "execution_count": null,
   "metadata": {
    "collapsed": false
   },
   "outputs": [],
   "source": [
    "import subprocess\n",
    "print subprocess.call(\"uname -a\", shell=True) # returns only exit code"
   ]
  },
  {
   "cell_type": "code",
   "execution_count": null,
   "metadata": {
    "collapsed": false
   },
   "outputs": [],
   "source": [
    "import subprocess\n",
    "print subprocess.check_output(\"uname -a\", shell=True)"
   ]
  },
  {
   "cell_type": "code",
   "execution_count": 35,
   "metadata": {
    "collapsed": false
   },
   "outputs": [
    {
     "name": "stdout",
     "output_type": "stream",
     "text": [
      "<open file '<fdopen>', mode 'rb' at 0x7f31591a99c0>\n",
      "['bin', 'daemon', 'adm', 'lp', 'mail', 'operator', 'games', 'ftp', 'nobody', 'avahi-autoipd', 'apache', 'systemd-timesync', 'systemd-network', 'systemd-resolve', 'systemd-bus-proxy', 'dbus', 'polkitd', 'geoclue', 'colord', 'abrt', 'saslauth', 'chrony', 'rtkit', 'avahi', 'openvpn', 'usbmuxd', 'qemu', 'unbound', 'radvd', 'rpc', 'pulse', 'setroubleshoot', 'gdm', 'nm-openvpn', 'rpcuser', 'nfsnobody', 'gnome-initial-setup', 'nm-openconnect', 'sshd', 'tcpdump', 'dockerroot']\n"
     ]
    }
   ],
   "source": [
    "# list out all account names with /sbin/nologin shell (politely refuse a login) from /etc/passwd file\n",
    "# equivalent to: \n",
    "# cat /etc/passwd | grep /bin/false | cut -f 1 -d:\n",
    "\n",
    "import subprocess\n",
    "\n",
    "cat = subprocess.Popen(['cat', '/etc/passwd'], \n",
    "                        stdout=subprocess.PIPE)\n",
    "\n",
    "grep = subprocess.Popen(['grep', '/sbin/nologin'],\n",
    "                        stdin=cat.stdout,\n",
    "                        stdout=subprocess.PIPE)\n",
    "\n",
    "cut = subprocess.Popen(['cut', '-f', '1', '-d:'],\n",
    "                        stdin=grep.stdout,\n",
    "                        stdout=subprocess.PIPE)\n",
    "\n",
    "nologin_accounts = cut.stdout\n",
    "print nologin_accounts\n",
    "\n",
    "nologin_accounts = [account.strip() for account in nologin_accounts]\n",
    "print nologin_accounts"
   ]
  },
  {
   "cell_type": "markdown",
   "metadata": {},
   "source": [
    "### Exercise\n",
    "\n",
    "Create a script that will execute \"ps -aux\" command. Collect first 10 lines only."
   ]
  },
  {
   "cell_type": "code",
   "execution_count": null,
   "metadata": {
    "collapsed": false
   },
   "outputs": [],
   "source": [
    "# SOLUTION\n",
    "\n",
    "import subprocess\n",
    "\n",
    "output = subprocess.check_output(\"ps -aux\", shell=True)\n",
    "output_list = output.split('\\n')\n",
    "\n",
    "for index, line in enumerate(output_list[:10]):\n",
    "    print \"{}) {} \\n\".format(index, line)"
   ]
  },
  {
   "cell_type": "code",
   "execution_count": 34,
   "metadata": {
    "collapsed": false
   },
   "outputs": [
    {
     "name": "stdout",
     "output_type": "stream",
     "text": [
      "0) USER       PID %CPU %MEM    VSZ   RSS TTY      STAT START   TIME COMMAND\n",
      " \n",
      "\n",
      "1) root         1  0.0  0.1 128892  7280 ?        Ss   19:33   0:02 /usr/lib/systemd/systemd --switched-root --system --deserialize 25\n",
      " \n",
      "\n",
      "2) root         2  0.0  0.0      0     0 ?        S    19:33   0:00 [kthreadd]\n",
      " \n",
      "\n",
      "3) root         3  0.0  0.0      0     0 ?        S    19:33   0:00 [ksoftirqd/0]\n",
      " \n",
      "\n",
      "4) root         5  0.0  0.0      0     0 ?        S<   19:33   0:00 [kworker/0:0H]\n",
      " \n",
      "\n",
      "5) root         7  0.0  0.0      0     0 ?        R    19:33   0:03 [rcu_sched]\n",
      " \n",
      "\n",
      "6) root         8  0.0  0.0      0     0 ?        S    19:33   0:00 [rcu_bh]\n",
      " \n",
      "\n",
      "7) root         9  0.0  0.0      0     0 ?        S    19:33   0:01 [rcuos/0]\n",
      " \n",
      "\n",
      "8) root        10  0.0  0.0      0     0 ?        S    19:33   0:00 [rcuob/0]\n",
      " \n",
      "\n",
      "9) root        11  0.0  0.0      0     0 ?        S    19:33   0:00 [migration/0]\n",
      " \n",
      "\n"
     ]
    }
   ],
   "source": [
    "# ALTERNATIVE SOLUTION\n",
    "\n",
    "import subprocess\n",
    "\n",
    "ps_aux = subprocess.Popen(['ps', '-aux'], \n",
    "                        stdout=subprocess.PIPE)\n",
    "\n",
    "head = subprocess.Popen(['head', '-n10'],\n",
    "                        stdin=ps_aux.stdout,\n",
    "                        stdout=subprocess.PIPE)\n",
    "\n",
    "processes = head.stdout\n",
    "for index, line in enumerate(processes):\n",
    "    print \"{}) {} \\n\".format(index, line)"
   ]
  },
  {
   "cell_type": "code",
   "execution_count": null,
   "metadata": {
    "collapsed": true
   },
   "outputs": [],
   "source": []
  }
 ],
 "metadata": {
  "kernelspec": {
   "display_name": "Python 2",
   "language": "python",
   "name": "python2"
  },
  "language_info": {
   "codemirror_mode": {
    "name": "ipython",
    "version": 2
   },
   "file_extension": ".py",
   "mimetype": "text/x-python",
   "name": "python",
   "nbconvert_exporter": "python",
   "pygments_lexer": "ipython2",
   "version": "2.7.10"
  }
 },
 "nbformat": 4,
 "nbformat_minor": 0
}
