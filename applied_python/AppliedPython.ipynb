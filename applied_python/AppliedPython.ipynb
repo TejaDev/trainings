{
 "cells": [
  {
   "cell_type": "markdown",
   "metadata": {},
   "source": [
    "# Applied Python (Python in practice)"
   ]
  },
  {
   "cell_type": "markdown",
   "metadata": {},
   "source": [
    "#### The Python Standard Library\n",
    "\n",
    "https://docs.python.org/2/library/"
   ]
  },
  {
   "cell_type": "code",
   "execution_count": null,
   "metadata": {
    "collapsed": false
   },
   "outputs": [],
   "source": [
    "import datetime\n",
    "\n",
    "print datetime.date.today()\n",
    "\n",
    "day_today = datetime.date.today().strftime(\"%A\")\n",
    "print \"Today is {day}\".format(day=day_today)\n",
    "print \"Today is {}\".format(day_today)"
   ]
  },
  {
   "cell_type": "code",
   "execution_count": null,
   "metadata": {
    "collapsed": false
   },
   "outputs": [],
   "source": [
    "# IF/ELSE \n",
    "\n",
    "print bool(\"Monday\" == \"Friday\")\n",
    "\n",
    "bool_value = True\n",
    "print \"here\", bool_value is not False\n",
    "\n",
    "if day_today == \"Friday\":\n",
    "    print \"Today is Friday!!\"\n",
    "else:\n",
    "    print \"Today is {day}\".format(day=day_today)"
   ]
  },
  {
   "cell_type": "code",
   "execution_count": null,
   "metadata": {
    "collapsed": false
   },
   "outputs": [],
   "source": [
    "# IN operator\n",
    "\n",
    "month_today = datetime.date.today().strftime(\"%B\")\n",
    "print month_today\n",
    "\n",
    "month_today = \"May\"\n",
    "\n",
    "day_today = \"Saturday\"\n",
    "# not Pythonic\n",
    "if day_today == \"Saturday\" or day_today == \"Sunday\":\n",
    "    if month_today == \"April\":\n",
    "        print \"Today is {day}! Hurray! The weekend has landed!\".format(day=day_today)\n",
    "else:\n",
    "    print \"Nope. It is't weeked. Today is {day}\".format(day=day_today)\n",
    "    \n",
    "# Pythonic\n",
    "if day_today in ['Saturday', 'Sunday']:\n",
    "    print \"Today is {day}! Hurray! The weekend has landed!\".format(day=day_today)\n",
    "else:\n",
    "    print \"Nope. It is't weeked. Today is {day}\".format(day=day_today)\n"
   ]
  },
  {
   "cell_type": "code",
   "execution_count": null,
   "metadata": {
    "collapsed": false
   },
   "outputs": [],
   "source": [
    "d = {'key1': 1, 'key2': 2}\n",
    "\n",
    "'key1' in d\n",
    "'key4444' in d\n",
    "\n",
    "s = {'key1', 'key2'}\n",
    "print \"here\", 'key1' in s"
   ]
  },
  {
   "cell_type": "code",
   "execution_count": null,
   "metadata": {
    "collapsed": true
   },
   "outputs": [],
   "source": [
    "# FOOR LOOP\n",
    "\n",
    "# multiply each number by 2\n",
    "\n",
    "numbers = [1, 2, 3, 4, 5, 6, 7]\n",
    "for number in numbers:\n",
    "    print number * 2"
   ]
  },
  {
   "cell_type": "code",
   "execution_count": null,
   "metadata": {
    "collapsed": false
   },
   "outputs": [],
   "source": [
    "numbers = [1, 2, 3, 4, 5, 6, 7, 8, 9, 10] \n",
    "# numbers = range(1, 11)\n",
    "\n",
    "for number in numbers:\n",
    "    if number % 2 == 0:\n",
    "        print \"Number {} is even\".format(number)\n",
    "    elif number % 2 == 1:\n",
    "        print \"Number {} is odd\".format(number)\n",
    "    else:\n",
    "        print \"is it number: {}?\".format(number)"
   ]
  },
  {
   "cell_type": "code",
   "execution_count": null,
   "metadata": {
    "collapsed": false
   },
   "outputs": [],
   "source": [
    "# List comprehension - Pythonic way of doing stmh\n",
    "\n",
    "# modulo (%) operation finds the remainder after division of one number by another\n",
    "\n",
    "# Even numbers always end with a digit of 0, 2, 4, 6 or 8\n",
    "even_numbers = [number for number in range(1,11) if number % 2 == 0]\n",
    "print \"Even numbers: \", even_numbers\n",
    "\n",
    "# Odd numbers always end with a digit of 1, 3, 5, 7, or 9\n",
    "odd_numbers = [number for number in range(1,11) if number % 2 == 1]\n",
    "print \"Odd numbers:\", odd_numbers"
   ]
  },
  {
   "cell_type": "code",
   "execution_count": null,
   "metadata": {
    "collapsed": false
   },
   "outputs": [],
   "source": [
    "# SETS\n",
    "\n",
    "s = set([1, 2, 3,2 ,4, 5])\n",
    "print \"s: \", s\n",
    "\n",
    "numbers = range(1, 11)\n",
    "even_numbers = [number for number in range(1,11) if number % 2 == 0]\n",
    "\n",
    "even_numbers = set(even_numbers)\n",
    "print even_numbers\n",
    "numbers = set(numbers)\n",
    "print numbers\n",
    "\n",
    "# difference (-) -> new set with elements in numbers but not in even_numbers\n",
    "# so we can get odd_numbers\n",
    "\n",
    "odd_numbers = list(numbers - even_numbers)\n",
    "print \"Odd numbers: \", odd_numbers"
   ]
  },
  {
   "cell_type": "code",
   "execution_count": null,
   "metadata": {
    "collapsed": false
   },
   "outputs": [],
   "source": [
    "# WHILE LOOP, BREAK\n",
    "\n",
    "while True:\n",
    "    number = input(\"Please provide number: \")\n",
    "    if number % 2 == 0:\n",
    "        print \"Number {} is even\".format(number)\n",
    "    elif number % 2 == 1:\n",
    "        print \"Number {} is odd\".format(number)\n",
    "    else:\n",
    "        print \"is it number: {}?\".format(number)\n",
    "    break"
   ]
  },
  {
   "cell_type": "code",
   "execution_count": null,
   "metadata": {
    "collapsed": false
   },
   "outputs": [],
   "source": [
    "# DEF, RETURN\n",
    "\n",
    "def is_number_even(number):\n",
    "    if number % 2 == 0:\n",
    "        print \"Number {} is even\".format(number)\n",
    "        return True\n",
    "    elif number % 2 == 1:\n",
    "        print \"Number {} is odd\".format(number)\n",
    "    else:\n",
    "        print \"is it number: {}?\".format(number)\n",
    "    return False\n",
    "\n",
    "\n",
    "while True:\n",
    "    number = input(\"Please provide number: \")\n",
    "    is_number_even(number)\n",
    "    break"
   ]
  },
  {
   "cell_type": "code",
   "execution_count": null,
   "metadata": {
    "collapsed": false
   },
   "outputs": [],
   "source": [
    "# TRY/EXCEPT\n",
    "\n",
    "def fn():\n",
    "    number = input(\"Please provide number: \")\n",
    "    try:\n",
    "        number = int(number)\n",
    "        print number\n",
    "    except ValueError as exc:\n",
    "        print \"Do we have number or not?\n",
    "    \n",
    "    try:\n",
    "        is_number_even(number)\n",
    "    except Exception as exc:\n",
    "        print exc\n",
    "    \n",
    "fn()"
   ]
  },
  {
   "cell_type": "code",
   "execution_count": null,
   "metadata": {
    "collapsed": false
   },
   "outputs": [],
   "source": [
    "# very, very, very ... simple calc\n",
    "\n",
    "def add_numbers(n1, n2):\n",
    "    return n1 + n2\n",
    "\n",
    "def multiply_numbers(n1, n2):\n",
    "    return n1 * n2\n",
    "\n",
    "def subtract_numbers(n1, n2):\n",
    "    return n1 - n2\n",
    "\n",
    "def divide_numbers(n1, n2):\n",
    "    return n1 / n2\n",
    "\n",
    "actions = {\n",
    "        'add': add_numbers,\n",
    "        'multiply': multiply_numbers,\n",
    "        'subtract': subtract_numbers,\n",
    "        'divide': divide_numbers,\n",
    "}\n",
    "\n",
    "action = raw_input(\"Choose one action [add|multiply|subtract|divide|]:\")\n",
    "number1 = raw_input(\"Provide first number: \")\n",
    "number2 = raw_input(\"Provide second number: \")\n",
    "\n",
    "# convert to int\n",
    "number1 = int(number1)\n",
    "number2 = int(number2)\n",
    "\n",
    "print \"You will {action} two numbers {number1} and {number2}\".format(**locals())\n",
    "\n",
    "result = actions[action](number1, number2)\n",
    "#result = actions.get(action)(number1, number2)\n",
    "\n",
    "print \"Result is: \", result"
   ]
  },
  {
   "cell_type": "code",
   "execution_count": null,
   "metadata": {
    "collapsed": false
   },
   "outputs": [],
   "source": [
    "class SimpleCalc(object):\n",
    "    def __init__(self, number1, number2):\n",
    "        self.n1 = number1\n",
    "        self.n2 = number2\n",
    "\n",
    "    def add(self):\n",
    "        return self.n1 + self.n2\n",
    "\n",
    "    def multiply(self):\n",
    "        return self.n1 * self.n2\n",
    "\n",
    "    def subtract(selt):\n",
    "        return self.n1 - self.n2\n",
    "\n",
    "    def divide(self):\n",
    "        return self.n1 / self.n2\n",
    "\n",
    "\n",
    "action = raw_input(\"Choose one action [add|multiply|subtract|divide|]:\")\n",
    "number1 = raw_input(\"Provide first number: \")\n",
    "number2 = raw_input(\"Provide second number: \")\n",
    "\n",
    "# convert to int\n",
    "number1 = int(number1)\n",
    "number2 = int(number2)\n",
    "\n",
    "simple_calc = SimpleCalc(number1, number2)\n",
    "\n",
    "action = getattr(simple_calc, action)\n",
    "result = action()\n",
    "print result"
   ]
  },
  {
   "cell_type": "markdown",
   "metadata": {},
   "source": [
    "## Let's practice"
   ]
  },
  {
   "cell_type": "code",
   "execution_count": null,
   "metadata": {
    "collapsed": false
   },
   "outputs": [],
   "source": [
    "import os\n",
    "list_of_dirs = os.listdir('/tmp')\n",
    "\n",
    "print list_of_dirs\n",
    "\n",
    "for file_or_dir in list_of_dirs:\n",
    "    if os.path.isfile(\"/tmp/\" + file_or_dir):\n",
    "        print \"File: \", file_or_dir\n",
    "    elif os.path.isdir(\"/tmp/\" + file_or_dir):\n",
    "        print \"Directory: \", file_or_dir\n",
    "        "
   ]
  },
  {
   "cell_type": "markdown",
   "metadata": {},
   "source": [
    "https://docs.python.org/2/library/os.path.html"
   ]
  },
  {
   "cell_type": "code",
   "execution_count": null,
   "metadata": {
    "collapsed": false
   },
   "outputs": [],
   "source": [
    "import os\n",
    "\n",
    "file = '/etc/passwd'\n",
    "\n",
    "print os.path.isfile(file)\n",
    "print os.path.isdir(file)\n",
    "print os.path.exists(file)\n",
    "print os.path.dirname(file)\n",
    "\n",
    "print \"/tmp\" + \"/dir1\" + \"/dir2\" + '/file'\n",
    "print os.path.join('/tmp', 'dir1', 'dir2', 'file')\n",
    "\n",
    "print os.sep"
   ]
  },
  {
   "cell_type": "code",
   "execution_count": null,
   "metadata": {
    "collapsed": false
   },
   "outputs": [],
   "source": [
    "import os\n",
    "\n",
    "root, dirs, files, aaaa = ('root', ['d1', 'd2'], ['f1'], 1)\n",
    "\n",
    "a, b = 1, 2\n",
    "print a\n",
    "print b\n",
    "\n",
    "a, b = b, a\n",
    "print a\n",
    "print b\n",
    "\n",
    "\n",
    "for root, dirs, files in os.walk('/tmp/'):\n",
    "    print root, dirs, files"
   ]
  },
  {
   "cell_type": "code",
   "execution_count": null,
   "metadata": {
    "collapsed": false
   },
   "outputs": [],
   "source": [
    "import os\n",
    "for root, dirs, files in os.walk('/tmp'):\n",
    "    for file in files:\n",
    "        print os.path.join(root, file)"
   ]
  },
  {
   "cell_type": "code",
   "execution_count": null,
   "metadata": {
    "collapsed": false
   },
   "outputs": [],
   "source": [
    "import os\n",
    "\n",
    "list_of_file_names = []\n",
    "for root, dirs, files in os.walk('/etc'):\n",
    "    for file in files:\n",
    "        list_of_file_names.append(os.path.join(root, file))\n",
    "\n",
    "print list_of_file_names"
   ]
  },
  {
   "cell_type": "code",
   "execution_count": null,
   "metadata": {
    "collapsed": false
   },
   "outputs": [],
   "source": [
    "d = {'key1': 1, 'key2':2}\n",
    "print d.items()\n",
    "\n",
    "e = dict(d.items())\n",
    "print e"
   ]
  },
  {
   "cell_type": "markdown",
   "metadata": {},
   "source": [
    "### Exercise:\n",
    "\n",
    "Using previous example, please create python dictionary \n",
    "that will contain information about file name and its size.\n",
    "You can use /etc as source directory.\n",
    "\n",
    "- Hint 1: remember to check if file exists, `os.path.isfile(path_to_file)`\n",
    "- Hint 2: use file path as dictionary key, ` files_size[file_path] = file_size`\n",
    "- Hint 3: to create dictionary you can use list of tuples e.g: `dict( [ (key1, value), (key2, value), ...] )`\n",
    "- Hint 4: to create path to file, you can concatenate dir path and file name, `os.path.join( directory, file_name )`\n",
    "- Hint 5: to get file size: `os.path.getsize(path)`\n",
    "\n",
    "\n",
    "Your output should be similar to:\n",
    "```python\n",
    "{\n",
    "    '/etc/sane.d/stv680.conf': 178,\n",
    "    '/etc/redhat-release': 33,\n",
    "    '/etc/pam.d/cups': 146,\n",
    "    '/etc/X11/xinit/Xclients': 2317\n",
    "    ...\n",
    "}\n",
    "```"
   ]
  },
  {
   "cell_type": "code",
   "execution_count": null,
   "metadata": {
    "collapsed": false
   },
   "outputs": [],
   "source": [
    "# SOLUTION\n",
    "\n",
    "import os\n",
    "list_of_files = []\n",
    "for root, dirs, files in os.walk('/etc'):\n",
    "    for file in files:\n",
    "        path_to_file = os.path.join(root, file)\n",
    "        if os.path.isfile(path_to_file):\n",
    "            list_of_files.append((path_to_file, os.path.getsize(path_to_file)))\n",
    "\n",
    "files_size = dict(list_of_files)\n",
    "print files_size"
   ]
  },
  {
   "cell_type": "code",
   "execution_count": null,
   "metadata": {
    "collapsed": false
   },
   "outputs": [],
   "source": [
    "# SECOND SOLUTION\n",
    "\n",
    "import os\n",
    "files_size = {}\n",
    "for root, dirs, files in os.walk('/etc'):\n",
    "    for file in files:\n",
    "        path_to_file = os.path.join(root, file)\n",
    "        try:\n",
    "            files_size[path_to_file] = os.path.getsize(path_to_file)\n",
    "        except IOError as exc:\n",
    "            print exc\n",
    "        except OSError as exc:\n",
    "            print exc\n",
    "            \n",
    "print files_size"
   ]
  },
  {
   "cell_type": "markdown",
   "metadata": {},
   "source": [
    "#### How to sort data structures"
   ]
  },
  {
   "cell_type": "code",
   "execution_count": null,
   "metadata": {
    "collapsed": false
   },
   "outputs": [],
   "source": [
    "n = [1, 3, 2, 5, 0]\n",
    "print n.sort()\n",
    "print n\n",
    "\n",
    "n = [1, 3, 2, 5, 0]\n",
    "n_sorted = sorted(n)\n",
    "print n_sorted"
   ]
  },
  {
   "cell_type": "code",
   "execution_count": null,
   "metadata": {
    "collapsed": false
   },
   "outputs": [],
   "source": [
    "# EXAMPLES\n",
    "\n",
    "list_of_tuples = [('file1', 100), ('testfile', 2), ('testfile', 3000), ('password', 450)]\n",
    "\n",
    "list_of_tuples.sort(reverse=True)\n",
    "print list_of_tuples\n",
    "\n",
    "# first approach\n",
    "from operator import itemgetter\n",
    "\n",
    "list_of_tuples.sort(reverse=True, key=itemgetter(1))\n",
    "print list_of_tuples\n",
    "\n",
    "\n",
    "# second approach\n",
    "\n",
    "list_of_tuples.sort(reverse=True, key=lambda item: item[1])\n",
    "print list_of_tuples\n"
   ]
  },
  {
   "cell_type": "code",
   "execution_count": null,
   "metadata": {
    "collapsed": false
   },
   "outputs": [],
   "source": [
    "# To clarify conversion between dict and list of tuples\n",
    "\n",
    "d = {'key2': 2, 'key1': 1, 'key3': 3}  # Dictionary\n",
    "\n",
    "\n",
    "# How to convert dictionary to list of tuples\n",
    "\n",
    "list_of_tuples = d.items()  # List of tuples: [ (k1, v), (k2, v), (k3, v), ... (kn, v)]\n",
    "print list_of_tuples\n",
    "\n",
    "# How to convert list of tuples to dictionary\n",
    "\n",
    "d = dict(list_of_tuples)\n",
    "print d"
   ]
  },
  {
   "cell_type": "markdown",
   "metadata": {},
   "source": [
    "#### Lamda expression\n",
    "\n",
    "- Lambdas are a shorthand to create anonymous functions in Python (functions without names)\n",
    "- are used when for example you want to pass function as argument\n",
    "\n",
    "For example you can create function in the 'normal way' using `def` keyword:\n",
    "```python\n",
    "def square_root(x): \n",
    "    return math.sqrt(x)\n",
    "    \n",
    "square_root(2)    \n",
    "```\n",
    "or you can use lambda:\n",
    "\n",
    "```python\n",
    "square_root = lambda x: math.sqrt(x)\n",
    "square_root(2)\n",
    "```\n",
    "\n",
    "Another example:\n",
    "\n",
    "```python\n",
    "def name(arguments):\n",
    "    return expression\n",
    "```\n",
    "can be translated to\n",
    "```python\n",
    "name = lambda arguments: expression\n",
    "```\n",
    "\n",
    "Source:\n",
    "- https://docs.python.org/2/reference/expressions.html\n",
    "- https://pythonconquerstheuniverse.wordpress.com/2011/08/29/lambda_tutorial/"
   ]
  },
  {
   "cell_type": "code",
   "execution_count": null,
   "metadata": {
    "collapsed": false
   },
   "outputs": [],
   "source": [
    "d = {'key2': 2, 'key1': 1, 'key3': 3}\n",
    "\n",
    "print sorted(d)\n",
    "\n",
    "print sorted(d, key=d.get)\n",
    "\n",
    "for key in sorted(d, key=d.get, reverse=True):\n",
    "    print key, d[key]"
   ]
  },
  {
   "cell_type": "markdown",
   "metadata": {},
   "source": [
    "### Exercise:\n",
    "\n",
    "Sort dictionary from previous exercise by file size. \n",
    "Largest files should go first.\n",
    "\n",
    "- Hint 1: Booth sort and sorted method accept a reverse parameter with a boolean value. \n",
    "This is using to flag descending sorts.\n",
    "\n",
    "`d.sort(reverse=True)`"
   ]
  },
  {
   "cell_type": "code",
   "execution_count": null,
   "metadata": {
    "collapsed": false
   },
   "outputs": [],
   "source": [
    "# SOLUTION\n",
    "\n",
    "for key in sorted(files_size, key=files_size.get, reverse=True):\n",
    "    print key, files_size[key]"
   ]
  },
  {
   "cell_type": "code",
   "execution_count": null,
   "metadata": {
    "collapsed": false
   },
   "outputs": [],
   "source": [
    "#import collections\n",
    "#collections.OrderedDict\n",
    "\n",
    "from collections import OrderedDict\n",
    "\n",
    "d = {'key2': 2, 'key1': 1, 'key3': 3}\n",
    "\n",
    "od = OrderedDict(d.items())\n",
    "\n",
    "# second way to create sorted dict by value not ket\n",
    "\n",
    "print sorted(d.items(), key=d.get, reverse=True)\n",
    "\n",
    "od = OrderedDict(sorted(d.items(), key=d.get, reverse=True))\n",
    "print od"
   ]
  },
  {
   "cell_type": "markdown",
   "metadata": {},
   "source": [
    "### Exercise:\n",
    "\n",
    "Create a function: get_files_size that will take two arguments: \n",
    "\n",
    "1. `directory` - string, directory name, e.g.: /etc, by default use '/tmp' directory\n",
    "2. `reverse`   - boolean, if True use descending sorts, by default should be set as False\n",
    "\n",
    "Function should return python dictionary that will contain information about file name and its size.\n",
    "\n",
    "Please use solutions from previous exercises.\n",
    "\n",
    "Example: how to invoke this function?\n",
    "\n",
    "```python\n",
    "get_files_size('/etc/', reverse=True) \n",
    "```\n",
    "\n",
    "Additionally: try to execute this function as follows:\n",
    "- ```print get_files_size()```\n",
    "- ```print get_files_size('/etc')```\n",
    "- ```print get_files_size('/etc', reverse=True)```\n",
    "\n",
    "\n",
    "Hit 1: use OrderedDict\n",
    "```python\n",
    "from collections import OrderedDict\n",
    "```\n",
    "\n",
    "Hint 2: use itemgetter or lambda notation to get second element from tuple"
   ]
  },
  {
   "cell_type": "code",
   "execution_count": null,
   "metadata": {
    "collapsed": false
   },
   "outputs": [],
   "source": [
    "# SOLUTION\n",
    "\n",
    "import os\n",
    "from collections import OrderedDict\n",
    "from operator import itemgetter\n",
    "\n",
    "def get_files_size(directory='/tmp', reverse=False):\n",
    "    dir(os)\n",
    "    list_of_files = []\n",
    "    for root, dirs, files in os.walk(directory):\n",
    "        for file in files:\n",
    "            path_to_file = os.path.join(root, file)\n",
    "            if os.path.isfile(path_to_file):\n",
    "                list_of_files.append((path_to_file, os.path.getsize(path_to_file)))\n",
    "    \n",
    "    return OrderedDict(sorted(list_of_files, key=itemgetter(1), reverse=reverse))\n",
    "          \n",
    "print get_files_size('/etc')"
   ]
  },
  {
   "cell_type": "code",
   "execution_count": null,
   "metadata": {
    "collapsed": false
   },
   "outputs": [],
   "source": [
    "# SECOND SOLUTION\n",
    "\n",
    "import os\n",
    "from collections import OrderedDict\n",
    "from operator import itemgetter\n",
    "\n",
    "def get_files_size(directory='/tmp', reverse=False):\n",
    "    files_size = {}\n",
    "    for root, dirs, files in os.walk('/etc'):\n",
    "        for file in files:\n",
    "            path_to_file = os.path.join(root, file)\n",
    "            if os.path.isfile(path_to_file):\n",
    "                files_size[path_to_file] = os.path.getsize(path_to_file)\n",
    "    \n",
    "    return OrderedDict(sorted(files_size.items(), key=itemgetter(1), reverse=reverse))\n",
    "            \n",
    "print get_files_size('/etc')"
   ]
  },
  {
   "cell_type": "code",
   "execution_count": null,
   "metadata": {
    "collapsed": false,
    "scrolled": false
   },
   "outputs": [],
   "source": [
    "print get_files_size()"
   ]
  },
  {
   "cell_type": "markdown",
   "metadata": {},
   "source": [
    "#### User input\n",
    "\n",
    "You can choose one of the following methods:\n",
    "\n",
    "1. Function ```input``` or ```raw_input```\n",
    "2. Attribute (dictionary) ```argv``` from module ```sys```\n",
    "3. Dedicated user-friendly command line interface like ```argparse```\n",
    "    - https://docs.python.org/3/library/argparse.html\n",
    "\n"
   ]
  },
  {
   "cell_type": "code",
   "execution_count": null,
   "metadata": {
    "collapsed": true
   },
   "outputs": [],
   "source": [
    "your_input = raw_input('Please provide file name: ')\n",
    "print your_input"
   ]
  },
  {
   "cell_type": "code",
   "execution_count": null,
   "metadata": {
    "collapsed": true
   },
   "outputs": [],
   "source": [
    "# python your_script.py argument1 argument2\n",
    "\n",
    "import sys\n",
    "\n",
    "script_name = sys.argv[0] # script name, e.g.: your_script\n",
    "arg1 = sys.argv[1] # first argument, e.g.: argument1\n",
    "arg2 = sys.argv[2] # second argument, e.g.: argument2"
   ]
  },
  {
   "cell_type": "code",
   "execution_count": null,
   "metadata": {
    "collapsed": true
   },
   "outputs": [],
   "source": [
    "import argparse # since 2.7\n",
    "\n",
    "# python script.py --directory /etc\n",
    "# python script.py -d /etc\n",
    "# python script.py -d /etc --verbose\n",
    "\n",
    "\n",
    "parser = argparse.ArgumentParser(description='Script to list out files from given directory')\n",
    "\n",
    "parser.add_argument('--directory', '-d', required=True, help='Source directory')\n",
    "parser.add_argument('--verbose', '-v', action='store_true', help='If set, print more details')\n",
    "\n",
    "args = parser.parse_args()\n",
    "\n",
    "print \"directory: \", args.directory\n",
    "print \"verbose:   \", args.verbose"
   ]
  },
  {
   "cell_type": "markdown",
   "metadata": {},
   "source": [
    "#### Python file as standalone program\n",
    "\n",
    "https://docs.python.org/3/library/__main__.html\n",
    "\n",
    "- `'__main__'` is the name of the scope in which top-level code executes\n",
    "- A module’s `__name__` is set equal to `'__main__'` when read from standard input, a script, or from an interactive prompt.\n",
    "\n",
    "\n",
    "```python\n",
    "def func1():\n",
    "    print \"func1\"\n",
    "    \n",
    "def func2():\n",
    "    print \"func2\"\n",
    "\n",
    "if __name__ == '__main__':\n",
    "    # execute only if run as a script\n",
    "    # good place to use argparse module to catch user input\n",
    "    func1()\n",
    "    func2()\n",
    "    \n",
    "```"
   ]
  },
  {
   "cell_type": "code",
   "execution_count": null,
   "metadata": {
    "collapsed": true
   },
   "outputs": [],
   "source": [
    "def do_something(directory, verbose):\n",
    "    print \"directory: \", directory\n",
    "    print \"verbose:   \", verbose\n",
    "    \n",
    "\n",
    "if __name__ == \"__main__\":\n",
    "\n",
    "    import argparse\n",
    "\n",
    "    parser = argparse.ArgumentParser(description='Script to list out files from given directory')\n",
    "\n",
    "    parser.add_argument('--directory', '-d', required=True, help='Source directory')\n",
    "    parser.add_argument('--verbose', '-v', action='store_true', help='If set, print more details')\n",
    "\n",
    "    args = parser.parse_args()\n",
    "\n",
    "    do_something(directory=args.directory, verbose=args.verbose)"
   ]
  },
  {
   "cell_type": "markdown",
   "metadata": {},
   "source": [
    "### Exercise:\n",
    "\n",
    "Using previous exercises create a script that will ask user to provide directory name and sorting order.\n",
    "List out each file from provided directory and its size.\n",
    "\n",
    "You can use function get_files_size.\n",
    "\n",
    "Input arguments:\n",
    "1. `directory` - string, directory name, e.g.: /etc, by default use '/tmp' directory\n",
    "2. `reverse`   - boolean, if True use descending sorts, by default should be set as False\n"
   ]
  },
  {
   "cell_type": "code",
   "execution_count": null,
   "metadata": {
    "collapsed": false
   },
   "outputs": [],
   "source": [
    "# SOLUTION\n",
    "\n",
    "# How to run this script:\n",
    "# python get_files_size.py  --directory /etc \n",
    "# python get_files_size.py  --directory /etc --reverse\n",
    "\n",
    "import os\n",
    "from collections import OrderedDict\n",
    "from operator import itemgetter\n",
    "\n",
    "def get_files_size(directory='/tmp', reverse=False):\n",
    "    files_size = {}\n",
    "    for root, dirs, files in os.walk('/etc'):\n",
    "        for file in files:\n",
    "            path_to_file = os.path.join(root, file)\n",
    "            if os.path.isfile(path_to_file):\n",
    "                files_size[path_to_file] = os.path.getsize(path_to_file)\n",
    "    \n",
    "    return OrderedDict(sorted(files_size.items(), key=itemgetter(1), reverse=reverse))\n",
    "            \n",
    "\n",
    "if __name__ == '__main__':\n",
    "    import argparse\n",
    "\n",
    "    parser = argparse.ArgumentParser(description='Script to list out files from given directory')\n",
    "\n",
    "    parser.add_argument('--directory', '-d', required=True, help='Source directory')\n",
    "    parser.add_argument('--reverse', '-r', action='store_true', help='If set, use descending order')\n",
    "\n",
    "    args = parser.parse_args()    \n",
    "    \n",
    "    print get_files_size(directory=args.directory, reverse=args.reverse)"
   ]
  },
  {
   "cell_type": "markdown",
   "metadata": {
    "collapsed": true
   },
   "source": [
    "### Exercise\n",
    "\n",
    "Modify previously created script to write output (list of files and theirs sizes) to file.\n",
    "\n",
    "Allow user to provide path to file. Remember that you should have access to this file.\n",
    "\n",
    "By default (if no file path specified) write output to /tmp directory and name file as follows:\n",
    "`<TIMESTAMP>`_files.out\n",
    "\n",
    "where `<TIMESTAMP>` is the current unix timestamp (seconds since Jan 01 1970. (UTC))\n",
    "\n",
    "Hint 1:\n",
    "To get unix timestamp:\n",
    "```python\n",
    "import time\n",
    "timestamp = int(time.time())\n",
    "```\n",
    "\n",
    "Hint 2: You can write your own function to write output to file\n",
    "\n",
    "Input arguments:\n",
    "1. `directory` - string, directory name, e.g.: /etc, by default use '/tmp' directory\n",
    "2. `reverse`   - boolean, if True use descending sorts, by default should be set as False\n",
    "3. `file_path` - string, specifies the path of output file on disk"
   ]
  },
  {
   "cell_type": "code",
   "execution_count": null,
   "metadata": {
    "collapsed": true
   },
   "outputs": [],
   "source": [
    "# How to write to file\n",
    "\n",
    "f = open('/tmp/file', 'w')\n",
    "\n",
    "f.write('first line\\n')\n",
    "f.write('second line\\n')\n",
    "f.write('third line\\n')\n",
    "\n",
    "f.close()"
   ]
  },
  {
   "cell_type": "code",
   "execution_count": null,
   "metadata": {
    "collapsed": true
   },
   "outputs": [],
   "source": [
    "# How to write to file\n",
    "\n",
    "with open('/tmp/file', 'w') as f:\n",
    "\n",
    "    f.write('first line\\n')\n",
    "    f.write('second line\\n')\n",
    "    f.write('third line\\n')"
   ]
  },
  {
   "cell_type": "code",
   "execution_count": null,
   "metadata": {
    "collapsed": true
   },
   "outputs": [],
   "source": [
    "list_of_lines = ['line1', 'line2', 'line3']\n",
    "\n",
    "with open('/tmp/file', 'w') as f:\n",
    "    for line in lines:\n",
    "        f.write(\"{} \\n\".format(line))\n",
    "\n",
    "# or even better\n",
    "\n",
    "list_of_lines = [\"{} \\n\".format(line) for line in list_of_lines]\n",
    "with open('/tmp/file', 'w') as f:\n",
    "    f.writelines(list_of_lines)"
   ]
  },
  {
   "cell_type": "code",
   "execution_count": null,
   "metadata": {
    "collapsed": true
   },
   "outputs": [],
   "source": [
    "# SOLUTION\n",
    "\n",
    "# How to run this script:\n",
    "# python get_files_size.py  --directory /etc \n",
    "# python get_files_size.py  --directory /etc --reverse\n",
    "# python get_files_size.py  --directory /etc --file_path /tmp/output\n",
    "\n",
    "import sys\n",
    "import os\n",
    "import time\n",
    "from collections import OrderedDict\n",
    "from operator import itemgetter\n",
    "\n",
    "def get_files_size(directory='/tmp', reverse=False):\n",
    "    files_size = {}\n",
    "    for root, dirs, files in os.walk('/etc'):\n",
    "        for file in files:\n",
    "            path_to_file = os.path.join(root, file)\n",
    "            if os.path.isfile(path_to_file):\n",
    "                files_size[path_to_file] = os.path.getsize(path_to_file)\n",
    "    \n",
    "    return OrderedDict(sorted(files_size.items(), key=itemgetter(1), reverse=reverse))\n",
    "\n",
    "def get_timestamp():\n",
    "    return int(time.time())\n",
    "\n",
    "def write_to_file(file_path, dict_to_write):\n",
    "    if not file_path:\n",
    "        file_path = os.path.join('/tmp', \"{}_files.out\".format(get_timestamp()))\n",
    "\n",
    "    try:\n",
    "        with open(file_path, 'w') as f:\n",
    "            for key, value in dict_to_write.items():\n",
    "                f.write(\"{} {}\\n\".format(key, value))\n",
    "    except IOError as exc:\n",
    "        print \"Cannot write output to file, \", exc\n",
    "        sys.exit(1)\n",
    "        \n",
    "\n",
    "if __name__ == '__main__':\n",
    "    import argparse\n",
    "\n",
    "    parser = argparse.ArgumentParser(description='Script to list out files from given directory')\n",
    "\n",
    "    parser.add_argument('--directory', '-d', required=True, help='Source directory')\n",
    "    parser.add_argument('--reverse', '-v', action='store_true', help='If set, use descending order')\n",
    "    parser.add_argument('--file_path', '-o', help='Output file path')\n",
    "\n",
    "    args = parser.parse_args()\n",
    "\n",
    "    files_size_dict = get_files_size(directory=args.directory, reverse=args.reverse)\n",
    "\n",
    "    write_to_file(file_path=args.file_path, dict_to_write=files_size_dict)"
   ]
  },
  {
   "cell_type": "markdown",
   "metadata": {},
   "source": [
    "#### How to execute external commands in python\n",
    "\n",
    "To execute external commands (shell commands) you can choose one of the following methods:\n",
    "1. `os.system(\"command\")`\n",
    "2. `stream = os.popen(\"command\")`\n",
    "3. `subprocess.call(\"command\")` - recommended, it replaces above-mentioned commands\n",
    "\n",
    "Sources:\n",
    "- https://docs.python.org/2/library/subprocess.html#module-subprocess\n",
    "- https://docs.python.org/2/library/subprocess.html#subprocess-replacements\n",
    "- https://pymotw.com/2/subprocess/"
   ]
  },
  {
   "cell_type": "code",
   "execution_count": null,
   "metadata": {
    "collapsed": false
   },
   "outputs": [],
   "source": [
    "import subprocess\n",
    "print subprocess.call(\"uname -a\", shell=True) # returns only exit code"
   ]
  },
  {
   "cell_type": "code",
   "execution_count": null,
   "metadata": {
    "collapsed": false
   },
   "outputs": [],
   "source": [
    "import subprocess\n",
    "print subprocess.check_output(\"uname -a\", shell=True)"
   ]
  },
  {
   "cell_type": "code",
   "execution_count": null,
   "metadata": {
    "collapsed": false
   },
   "outputs": [],
   "source": [
    "# list out all account names with /sbin/nologin shell (politely refuse a login) \n",
    "# from /etc/passwd file\n",
    "# equivalent to: \n",
    "# cat /etc/passwd | grep /sbin/nologin | cut -f 1 -d:\n",
    "\n",
    "import subprocess\n",
    "\n",
    "cat = subprocess.Popen(['cat', '/etc/passwd'], \n",
    "                        stdout=subprocess.PIPE)\n",
    "\n",
    "grep = subprocess.Popen(['grep', '/sbin/nologin'],\n",
    "                        stdin=cat.stdout,\n",
    "                        stdout=subprocess.PIPE)\n",
    "\n",
    "cut = subprocess.Popen(['cut', '-f', '1', '-d:'],\n",
    "                        stdin=grep.stdout,\n",
    "                        stdout=subprocess.PIPE)\n",
    "\n",
    "nologin_accounts = cut.stdout\n",
    "print nologin_accounts\n",
    "\n",
    "nologin_accounts = [account.strip() for account in nologin_accounts]\n",
    "print nologin_accounts"
   ]
  },
  {
   "cell_type": "markdown",
   "metadata": {},
   "source": [
    "### Exercise\n",
    "\n",
    "Create a script that will execute \"ps -aux\" command. Collect first 10 lines only."
   ]
  },
  {
   "cell_type": "code",
   "execution_count": null,
   "metadata": {
    "collapsed": false
   },
   "outputs": [],
   "source": [
    "# SOLUTION\n",
    "\n",
    "import subprocess\n",
    "\n",
    "output = subprocess.check_output(\"ps -aux\", shell=True)\n",
    "output_list = output.split('\\n')\n",
    "\n",
    "for index, line in enumerate(output_list[:10]):\n",
    "    print \"{}) {} \\n\".format(index, line)"
   ]
  },
  {
   "cell_type": "code",
   "execution_count": null,
   "metadata": {
    "collapsed": false
   },
   "outputs": [],
   "source": [
    "# ALTERNATIVE SOLUTION\n",
    "\n",
    "import subprocess\n",
    "\n",
    "ps_aux = subprocess.Popen(['ps', '-aux'], \n",
    "                        stdout=subprocess.PIPE)\n",
    "\n",
    "head = subprocess.Popen(['head', '-n10'],\n",
    "                        stdin=ps_aux.stdout,\n",
    "                        stdout=subprocess.PIPE)\n",
    "\n",
    "processes = head.stdout\n",
    "for index, line in enumerate(processes):\n",
    "    print \"{}) {} \\n\".format(index, line)"
   ]
  },
  {
   "cell_type": "markdown",
   "metadata": {},
   "source": [
    "#### Data persistence"
   ]
  },
  {
   "cell_type": "code",
   "execution_count": null,
   "metadata": {
    "collapsed": false
   },
   "outputs": [],
   "source": [
    "import json\n",
    "\n",
    "help(json)\n",
    "\n",
    "data = {'int': 100, 'string': 'string', 'bool': True,  'list': [1, 2, 3, 4], 'dict': {'key1': 1, 'key2': 2}}\n",
    "\n",
    "print json.dumps(data, indent=4)"
   ]
  },
  {
   "cell_type": "markdown",
   "metadata": {},
   "source": [
    "#### HTTP for Humans\n",
    "\n",
    "http://docs.python-requests.org/en/master/"
   ]
  },
  {
   "cell_type": "code",
   "execution_count": null,
   "metadata": {
    "collapsed": false
   },
   "outputs": [],
   "source": [
    "import requests\n",
    "\n",
    "r = requests.get('http://date.jsontest.com/')\n",
    "\n",
    "print r.text\n",
    "\n",
    "print r.json()"
   ]
  },
  {
   "cell_type": "code",
   "execution_count": null,
   "metadata": {
    "collapsed": false
   },
   "outputs": [],
   "source": [
    "import requests\n",
    "\n",
    "r = requests.get('http://date.jsontest.com/')\n",
    "\n",
    "data = r.json()\n",
    "print \"Date: \", data['date']\n",
    "print \"Timestamp: \", data['milliseconds_since_epoch']\n",
    "print \"Time: \", data['time']"
   ]
  },
  {
   "cell_type": "code",
   "execution_count": null,
   "metadata": {
    "collapsed": false
   },
   "outputs": [],
   "source": [
    "import os\n",
    "import requests\n",
    "from BeautifulSoup import BeautifulSoup\n",
    "\n",
    "url = \"https://www.python.org/ftp/python/\"\n",
    "r = requests.get(url)\n",
    "\n",
    "print r.text"
   ]
  },
  {
   "cell_type": "code",
   "execution_count": null,
   "metadata": {
    "collapsed": false
   },
   "outputs": [],
   "source": [
    "import requests\n",
    "\n",
    "payload = {'key1': 'value1', 'key2': 'value2'}\n",
    "r = requests.get('http://httpbin.org/get', params=payload)\n",
    "\n",
    "print r.url\n",
    "print r.json()"
   ]
  },
  {
   "cell_type": "code",
   "execution_count": 59,
   "metadata": {
    "collapsed": false
   },
   "outputs": [
    {
     "name": "stdout",
     "output_type": "stream",
     "text": [
      "https://www.python.org/ftp/python/BeOpen-Python-2.0.exe\n",
      "https://www.python.org/ftp/python/Python-2.0.1.exe\n",
      "https://www.python.org/ftp/python/Python-2.1.exe\n",
      "https://www.python.org/ftp/python/Python-2.1.1.exe\n",
      "https://www.python.org/ftp/python/Python-2.1.2.exe\n",
      "https://www.python.org/ftp/python/Python-2.1.3.exe\n",
      "https://www.python.org/ftp/python/Python-2.2.exe\n",
      "https://www.python.org/ftp/python/Python-2.2.1.exe\n",
      "https://www.python.org/ftp/python/Python-2.2.2.exe\n",
      "https://www.python.org/ftp/python/Python-2.2.3.exe\n",
      "https://www.python.org/ftp/python/Python-2.3.exe\n",
      "https://www.python.org/ftp/python/Python-2.3.1.exe\n",
      "https://www.python.org/ftp/python/Python-2.3.2-1.exe\n",
      "https://www.python.org/ftp/python/Python-2.3.3.exe\n",
      "https://www.python.org/ftp/python/Python-2.3.4.exe\n",
      "https://www.python.org/ftp/python/Python-2.3.5.exe\n",
      "https://www.python.org/ftp/python/python-3.5.0-amd64-webinstall.exe\n",
      "https://www.python.org/ftp/python/python-3.5.0-amd64.exe\n",
      "https://www.python.org/ftp/python/python-3.5.0-webinstall.exe\n",
      "https://www.python.org/ftp/python/python-3.5.0.exe\n",
      "https://www.python.org/ftp/python/python-3.5.0a1-amd64-webinstall.exe\n",
      "https://www.python.org/ftp/python/python-3.5.0a1-amd64.exe\n",
      "https://www.python.org/ftp/python/python-3.5.0a1-webinstall.exe\n",
      "https://www.python.org/ftp/python/python-3.5.0a1.exe\n",
      "https://www.python.org/ftp/python/python-3.5.0a2-amd64-webinstall.exe\n",
      "https://www.python.org/ftp/python/python-3.5.0a2-amd64.exe\n",
      "https://www.python.org/ftp/python/python-3.5.0a2-webinstall.exe\n",
      "https://www.python.org/ftp/python/python-3.5.0a2.exe\n",
      "https://www.python.org/ftp/python/python-3.5.0a3-amd64-webinstall.exe\n",
      "https://www.python.org/ftp/python/python-3.5.0a3-amd64.exe\n",
      "https://www.python.org/ftp/python/python-3.5.0a3-webinstall.exe\n",
      "https://www.python.org/ftp/python/python-3.5.0a3.exe\n",
      "https://www.python.org/ftp/python/python-3.5.0a4-amd64-webinstall.exe\n",
      "https://www.python.org/ftp/python/python-3.5.0a4-amd64.exe\n",
      "https://www.python.org/ftp/python/python-3.5.0a4-embed-amd64.exe\n",
      "https://www.python.org/ftp/python/python-3.5.0a4-embed-win32.exe\n",
      "https://www.python.org/ftp/python/python-3.5.0a4-webinstall.exe\n",
      "https://www.python.org/ftp/python/python-3.5.0a4.exe\n",
      "https://www.python.org/ftp/python/python-3.5.0a5-amd64-webinstall.exe\n",
      "https://www.python.org/ftp/python/python-3.5.0a5-amd64.exe\n",
      "https://www.python.org/ftp/python/python-3.5.0a5-embed-amd64.exe\n",
      "https://www.python.org/ftp/python/python-3.5.0a5-embed-win32.exe\n",
      "https://www.python.org/ftp/python/python-3.5.0a5-webinstall.exe\n",
      "https://www.python.org/ftp/python/python-3.5.0a5.exe\n",
      "https://www.python.org/ftp/python/python-3.5.0b1-amd64-webinstall.exe\n",
      "https://www.python.org/ftp/python/python-3.5.0b1-amd64.exe\n",
      "https://www.python.org/ftp/python/python-3.5.0b1-webinstall.exe\n",
      "https://www.python.org/ftp/python/python-3.5.0b1.exe\n",
      "https://www.python.org/ftp/python/python-3.5.0b2-amd64-webinstall.exe\n",
      "https://www.python.org/ftp/python/python-3.5.0b2-amd64.exe\n",
      "https://www.python.org/ftp/python/python-3.5.0b2-webinstall.exe\n",
      "https://www.python.org/ftp/python/python-3.5.0b2.exe\n",
      "https://www.python.org/ftp/python/python-3.5.0b3-amd64-webinstall.exe\n",
      "https://www.python.org/ftp/python/python-3.5.0b3-amd64.exe\n",
      "https://www.python.org/ftp/python/python-3.5.0b3-webinstall.exe\n",
      "https://www.python.org/ftp/python/python-3.5.0b3.exe\n",
      "https://www.python.org/ftp/python/python-3.5.0b4-amd64-webinstall.exe\n",
      "https://www.python.org/ftp/python/python-3.5.0b4-amd64.exe\n",
      "https://www.python.org/ftp/python/python-3.5.0b4-webinstall.exe\n",
      "https://www.python.org/ftp/python/python-3.5.0b4.exe\n",
      "https://www.python.org/ftp/python/python-3.5.0rc1-amd64-webinstall.exe\n",
      "https://www.python.org/ftp/python/python-3.5.0rc1-amd64.exe\n",
      "https://www.python.org/ftp/python/python-3.5.0rc1-webinstall.exe\n",
      "https://www.python.org/ftp/python/python-3.5.0rc1.exe\n",
      "https://www.python.org/ftp/python/python-3.5.0rc2-amd64-webinstall.exe\n",
      "https://www.python.org/ftp/python/python-3.5.0rc2-amd64.exe\n",
      "https://www.python.org/ftp/python/python-3.5.0rc2-webinstall.exe\n",
      "https://www.python.org/ftp/python/python-3.5.0rc2.exe\n",
      "https://www.python.org/ftp/python/python-3.5.0rc3-amd64-webinstall.exe\n",
      "https://www.python.org/ftp/python/python-3.5.0rc3-amd64.exe\n",
      "https://www.python.org/ftp/python/python-3.5.0rc3-webinstall.exe\n",
      "https://www.python.org/ftp/python/python-3.5.0rc3.exe\n",
      "https://www.python.org/ftp/python/python-3.5.0rc4-amd64-webinstall.exe\n",
      "https://www.python.org/ftp/python/python-3.5.0rc4-amd64.exe\n",
      "https://www.python.org/ftp/python/python-3.5.0rc4-webinstall.exe\n",
      "https://www.python.org/ftp/python/python-3.5.0rc4.exe\n",
      "https://www.python.org/ftp/python/python-3.5.1-amd64-webinstall.exe\n",
      "https://www.python.org/ftp/python/python-3.5.1-amd64.exe\n",
      "https://www.python.org/ftp/python/python-3.5.1-webinstall.exe\n",
      "https://www.python.org/ftp/python/python-3.5.1.exe\n",
      "https://www.python.org/ftp/python/python-3.5.1rc1-amd64-webinstall.exe\n",
      "https://www.python.org/ftp/python/python-3.5.1rc1-amd64.exe\n",
      "https://www.python.org/ftp/python/python-3.5.1rc1-webinstall.exe\n",
      "https://www.python.org/ftp/python/python-3.5.1rc1.exe\n",
      "https://www.python.org/ftp/python/py152.exe\n",
      "https://www.python.org/ftp/python/py152c1.exe\n",
      "https://www.python.org/ftp/python/py152b2.exe\n",
      "https://www.python.org/ftp/python/py152b1.exe\n",
      "https://www.python.org/ftp/python/pyth151.exe\n",
      "https://www.python.org/ftp/python/python15.exe\n",
      "https://www.python.org/ftp/python/oadist.exe\n",
      "https://www.python.org/ftp/python/win32dbg.exe\n",
      "https://www.python.org/ftp/python/wpyset31.exe\n",
      "https://www.python.org/ftp/python/wpysetup.exe\n"
     ]
    }
   ],
   "source": [
    "import os\n",
    "import requests\n",
    "from BeautifulSoup import BeautifulSoup\n",
    "\n",
    "url = \"https://www.python.org/ftp/python/\"\n",
    "r = requests.get(url)\n",
    "\n",
    "soup = BeautifulSoup(r.text)\n",
    "links = soup.findAll('a', href=True)\n",
    "\n",
    "for link in links:\n",
    "    python_version = link['href']\n",
    "    \n",
    "    r = requests.get(os.path.join(url, python_version))\n",
    "    \n",
    "    soup = BeautifulSoup(r.text)\n",
    "    links = soup.findAll('a', href=True)\n",
    "    \n",
    "    for link in links:\n",
    "        if link['href'].endswith('exe'):\n",
    "            print os.path.join(url, link['href'])"
   ]
  },
  {
   "cell_type": "markdown",
   "metadata": {
    "collapsed": true
   },
   "source": [
    "### Exercise\n",
    "\n",
    "List out all url to '.exe' files from this site https://www.python.org/ftp/python/3.5.1/\n",
    "\n",
    "Hint:\n",
    "- pip install requests\n",
    "- pip install BeautifulSoup\n",
    "- https://www.crummy.com/software/BeautifulSoup/bs3/documentation.html"
   ]
  },
  {
   "cell_type": "code",
   "execution_count": null,
   "metadata": {
    "collapsed": false,
    "scrolled": true
   },
   "outputs": [],
   "source": [
    "import os\n",
    "import requests\n",
    "from BeautifulSoup import BeautifulSoup\n",
    "\n",
    "url = \"https://www.python.org/ftp/python/3.5.1/\"\n",
    "r = requests.get(url)\n",
    "\n",
    "soup = BeautifulSoup(r.text)\n",
    "links = soup.findAll('a', href=True)\n",
    "\n",
    "for link in links:\n",
    "    if link['href'].endswith('exe'):\n",
    "        print os.path.join(url, link['href'])"
   ]
  },
  {
   "cell_type": "markdown",
   "metadata": {},
   "source": [
    "#### The ElementTree XML API\n",
    "\n",
    "https://docs.python.org/2/library/xml.etree.elementtree.html"
   ]
  },
  {
   "cell_type": "code",
   "execution_count": 61,
   "metadata": {
    "collapsed": false
   },
   "outputs": [],
   "source": [
    "country_data = \"\"\"\\\n",
    "<?xml version=\"1.0\"?>\n",
    "<data>\n",
    "    <country name=\"Liechtenstein\">\n",
    "        <rank>1</rank>\n",
    "        <year>2008</year>\n",
    "        <gdppc>141100</gdppc>\n",
    "        <neighbor name=\"Austria\" direction=\"E\"/>\n",
    "        <neighbor name=\"Switzerland\" direction=\"W\"/>\n",
    "    </country>\n",
    "    <country name=\"Singapore\">\n",
    "        <rank>4</rank>\n",
    "        <year>2011</year>\n",
    "        <gdppc>59900</gdppc>\n",
    "        <neighbor name=\"Malaysia\" direction=\"N\"/>\n",
    "    </country>\n",
    "    <country name=\"Panama\">\n",
    "        <rank>68</rank>\n",
    "        <year>2011</year>\n",
    "        <gdppc>13600</gdppc>\n",
    "        <neighbor name=\"Costa Rica\" direction=\"W\"/>\n",
    "        <neighbor name=\"Colombia\" direction=\"E\"/>\n",
    "    </country>\n",
    "</data>\n",
    "\"\"\""
   ]
  },
  {
   "cell_type": "code",
   "execution_count": 62,
   "metadata": {
    "collapsed": false
   },
   "outputs": [
    {
     "name": "stdout",
     "output_type": "stream",
     "text": [
      "Country:  Liechtenstein\n",
      "Neigbor:  Austria\n",
      "Neigbor:  Switzerland\n",
      "------------------------------\n",
      "Country:  Singapore\n",
      "Neigbor:  Malaysia\n",
      "------------------------------\n",
      "Country:  Panama\n",
      "Neigbor:  Costa Rica\n",
      "Neigbor:  Colombia\n",
      "------------------------------\n"
     ]
    }
   ],
   "source": [
    "import xml.etree.ElementTree as ET\n",
    "\n",
    "# if you want to read XML data from file\n",
    "#tree = ET.parse('country_data.xml')\n",
    "#root = tree.getroot()\n",
    "\n",
    "root = ET.fromstring(country_data)\n",
    "\n",
    "countries = root.findall('country')\n",
    "for country in countries:\n",
    "    print \"Country: \", country.get('name')\n",
    "    \n",
    "    country_neighbours = country.findall('neighbor')\n",
    "    for neighbor in country_neighbours:\n",
    "        print \"Neigbor: \", neighbor.get('name')\n",
    "        \n",
    "    print \"-\" * 30"
   ]
  },
  {
   "cell_type": "code",
   "execution_count": null,
   "metadata": {
    "collapsed": true
   },
   "outputs": [],
   "source": [
    "python -m SimpleHTTPServer"
   ]
  }
 ],
 "metadata": {
  "kernelspec": {
   "display_name": "Python 2",
   "language": "python",
   "name": "python2"
  },
  "language_info": {
   "codemirror_mode": {
    "name": "ipython",
    "version": 2
   },
   "file_extension": ".py",
   "mimetype": "text/x-python",
   "name": "python",
   "nbconvert_exporter": "python",
   "pygments_lexer": "ipython2",
   "version": "2.7.10"
  }
 },
 "nbformat": 4,
 "nbformat_minor": 0
}
