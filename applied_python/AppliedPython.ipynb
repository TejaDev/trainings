{
 "cells": [
  {
   "cell_type": "code",
   "execution_count": 1,
   "metadata": {
    "collapsed": false
   },
   "outputs": [
    {
     "name": "stdout",
     "output_type": "stream",
     "text": [
      "Today is Saturday\n"
     ]
    }
   ],
   "source": [
    "import datetime                                                                                       \n",
    "\n",
    "day_today = datetime.date.today().strftime(\"%A\")\n",
    "print \"Today is {day}\".format(day=day_today)"
   ]
  },
  {
   "cell_type": "code",
   "execution_count": 2,
   "metadata": {
    "collapsed": false
   },
   "outputs": [
    {
     "name": "stdout",
     "output_type": "stream",
     "text": [
      "Today is Saturday\n"
     ]
    }
   ],
   "source": [
    "if day_today is \"Friday\":\n",
    "    print \"Today is Friday!!\"\n",
    "else:\n",
    "    print \"Today is {day}\".format(day=day_today)"
   ]
  },
  {
   "cell_type": "code",
   "execution_count": null,
   "metadata": {
    "collapsed": true
   },
   "outputs": [],
   "source": [
    "# # multiply each number by 2\n",
    "\n",
    "numbers = [1, 2, 3, 4, 5, 6, 7]\n",
    "for number in numbers:\n",
    "    print number ** 2"
   ]
  },
  {
   "cell_type": "code",
   "execution_count": 3,
   "metadata": {
    "collapsed": false
   },
   "outputs": [
    {
     "name": "stdout",
     "output_type": "stream",
     "text": [
      "Number 1 is odd\n",
      "Number 2 is even\n",
      "Number 3 is odd\n",
      "Number 4 is even\n",
      "Number 5 is odd\n",
      "Number 6 is even\n",
      "Number 7 is odd\n",
      "Number 8 is even\n",
      "Number 9 is odd\n",
      "Number 10 is even\n"
     ]
    }
   ],
   "source": [
    "numbers = [1, 2, 3, 4, 5, 6, 7, 8, 9, 10] \n",
    "# numbers = range(1, 11)\n",
    "\n",
    "for number in numbers:\n",
    "    if number % 2 == 0:\n",
    "        print \"Number {} is even\".format(number)\n",
    "    elif number % 2 == 1:\n",
    "        print \"Number {} is odd\".format(number)\n",
    "    else:\n",
    "        print \"is it number: {}?\".format(number)"
   ]
  },
  {
   "cell_type": "code",
   "execution_count": 5,
   "metadata": {
    "collapsed": false
   },
   "outputs": [
    {
     "name": "stdout",
     "output_type": "stream",
     "text": [
      "Even numbers:  [2, 4, 6, 8, 10]\n",
      "Odd numbers: [1, 3, 5, 7, 9]\n"
     ]
    }
   ],
   "source": [
    "# List comprehension\n",
    "\n",
    "even_numbers = [number for number in range(1,11) if number % 2 == 0]\n",
    "print \"Even numbers: \", even_numbers\n",
    "\n",
    "odd_numbers = [number for number in range(1,11) if number % 2 == 1]\n",
    "print \"Odd numbers:\", odd_numbers"
   ]
  },
  {
   "cell_type": "code",
   "execution_count": 6,
   "metadata": {
    "collapsed": false
   },
   "outputs": [
    {
     "name": "stdout",
     "output_type": "stream",
     "text": [
      "Odd numbers:  [1, 3, 5, 7, 9, 11, 12, 13, 14, 15, 16, 17, 18, 19, 20, 21, 22, 23, 24, 25, 26, 27, 28, 29]\n"
     ]
    }
   ],
   "source": [
    "numbers = range(1, 30)\n",
    "even_numbers = [number for number in range(1,11) if number % 2 == 0]\n",
    "\n",
    "even_numbers = set(even_numbers)\n",
    "numbers = set(numbers)\n",
    "\n",
    "# difference (-) -> new set with elements in numbers but not in even_numbers\n",
    "# so we can get odd_numbers\n",
    "\n",
    "odd_numbers = list(numbers - even_numbers)\n",
    "print \"Odd numbers: \", odd_numbers"
   ]
  },
  {
   "cell_type": "code",
   "execution_count": 7,
   "metadata": {
    "collapsed": false
   },
   "outputs": [
    {
     "name": "stdout",
     "output_type": "stream",
     "text": [
      "Please provide number: 2\n",
      "Number 2 is even\n"
     ]
    }
   ],
   "source": [
    "while True:\n",
    "    number = input(\"Please provide number: \")\n",
    "    if number % 2 == 0:\n",
    "        print \"Number {} is even\".format(number)\n",
    "    elif number % 2 == 1:\n",
    "        print \"Number {} is odd\".format(number)\n",
    "    else:\n",
    "        print \"is it number: {}?\".format(number)\n",
    "    break"
   ]
  },
  {
   "cell_type": "code",
   "execution_count": 8,
   "metadata": {
    "collapsed": false
   },
   "outputs": [
    {
     "name": "stdout",
     "output_type": "stream",
     "text": [
      "Please provide number: 33\n",
      "Number 33 is odd\n"
     ]
    }
   ],
   "source": [
    "def is_number_even(number):\n",
    "    if number % 2 == 0:\n",
    "        print \"Number {} is even\".format(number)\n",
    "        return True\n",
    "    elif number % 2 == 1:\n",
    "        print \"Number {} is odd\".format(number)\n",
    "    else:\n",
    "        print \"is it number: {}?\".format(number)\n",
    "    return False\n",
    "\n",
    "\n",
    "while True:\n",
    "    number = input(\"Please provide number: \")\n",
    "    is_number_even(number)\n",
    "    break"
   ]
  },
  {
   "cell_type": "code",
   "execution_count": 9,
   "metadata": {
    "collapsed": false
   },
   "outputs": [
    {
     "name": "stdout",
     "output_type": "stream",
     "text": [
      "Please provide number: 56\n",
      "Number 56 is even\n"
     ]
    }
   ],
   "source": [
    "while True:\n",
    "    number = input(\"Please provide number: \")\n",
    "    try:\n",
    "        number = int(number)\n",
    "    except ValueError as exc:\n",
    "        print \"Do we have number or not?\"\n",
    "        break\n",
    "    is_number_even(number)\n",
    "    break"
   ]
  },
  {
   "cell_type": "code",
   "execution_count": 10,
   "metadata": {
    "collapsed": false
   },
   "outputs": [
    {
     "name": "stdout",
     "output_type": "stream",
     "text": [
      "Choose one action [add|multiply|subtract|divide|]:add\n",
      "Provide first number: 33\n",
      "Provide second number: 0\n",
      "You will add two numbers 33 and 0\n",
      "Result is:  33\n"
     ]
    }
   ],
   "source": [
    "# very, very, very ... simple calc\n",
    "\n",
    "def add_numbers(n1, n2):\n",
    "    return n1 + n2\n",
    "\n",
    "def multiply_numbers(n1, n2):\n",
    "    return n1 * n2\n",
    "\n",
    "def subtract_numbers(n1, n2):\n",
    "    return n1 - n2\n",
    "\n",
    "def divide_numbers(n1, n2):\n",
    "    return n1 / n2\n",
    "\n",
    "actions = {\n",
    "        'add': add_numbers,\n",
    "        'multiply': multiply_numbers,\n",
    "        'subtract': subtract_numbers,\n",
    "        'divide': divide_numbers,\n",
    "}\n",
    "\n",
    "action = raw_input(\"Choose one action [add|multiply|subtract|divide|]:\")\n",
    "number1 = raw_input(\"Provide first number: \")\n",
    "number2 = raw_input(\"Provide second number: \")\n",
    "\n",
    "# convert to int\n",
    "number1 = int(number1)\n",
    "number2 = int(number2)\n",
    "\n",
    "print \"You will {action} two numbers {number1} and {number2}\".format(**locals())\n",
    "result = actions[action](number1, number2)\n",
    "print \"Result is: \", result"
   ]
  },
  {
   "cell_type": "code",
   "execution_count": 11,
   "metadata": {
    "collapsed": false
   },
   "outputs": [
    {
     "name": "stdout",
     "output_type": "stream",
     "text": [
      "33\n"
     ]
    }
   ],
   "source": [
    "class SimpleCalc(object):\n",
    "    def __init__(self, number1, number2):\n",
    "        self.n1 = number1\n",
    "        self.n2 = number2\n",
    "\n",
    "    def add(self):\n",
    "        return self.n1 + self.n2\n",
    "\n",
    "    def multiply(self):\n",
    "        return self.n1 * self.n2\n",
    "\n",
    "    def subtract(selt):\n",
    "        return self.n1 - self.n2\n",
    "\n",
    "    def divide(self):\n",
    "        return self.n1 / self.n2\n",
    "\n",
    "simple_calc = SimpleCalc(number1, number2)\n",
    "action = getattr(simple_calc, action)\n",
    "result = action()\n",
    "print result"
   ]
  },
  {
   "cell_type": "code",
   "execution_count": null,
   "metadata": {
    "collapsed": false
   },
   "outputs": [],
   "source": [
    "import os\n",
    "os.listdir('/tmp')"
   ]
  },
  {
   "cell_type": "markdown",
   "metadata": {},
   "source": [
    "https://docs.python.org/2/library/os.path.html"
   ]
  },
  {
   "cell_type": "code",
   "execution_count": null,
   "metadata": {
    "collapsed": false
   },
   "outputs": [],
   "source": [
    "import os\n",
    "\n",
    "file = '/etc/passwd'\n",
    "\n",
    "print os.path.isfile(file)\n",
    "print os.path.isdir(file)\n",
    "print os.path.exists(file)\n",
    "print os.path.dirname(file)\n",
    "\n",
    "print \"/tmp\" + \"/dir1\" + \"/dir2\" + '/file'\n",
    "print os.path.join('/tmp', 'dir1', 'dir2', 'file')"
   ]
  },
  {
   "cell_type": "code",
   "execution_count": null,
   "metadata": {
    "collapsed": false
   },
   "outputs": [],
   "source": [
    "import os\n",
    "for root, dirs, files in os.walk('/tmp/test1'):\n",
    "    print root, dirs, files"
   ]
  },
  {
   "cell_type": "code",
   "execution_count": null,
   "metadata": {
    "collapsed": false
   },
   "outputs": [],
   "source": [
    "import os\n",
    "for root, dirs, files in os.walk('/etc'):\n",
    "    for file in files:\n",
    "        print os.path.join(root, file)"
   ]
  },
  {
   "cell_type": "code",
   "execution_count": null,
   "metadata": {
    "collapsed": false
   },
   "outputs": [],
   "source": [
    "import os\n",
    "list_of_file_names = []\n",
    "for root, dirs, files in os.walk('/etc'):\n",
    "    for file in files:\n",
    "        list_of_file_names.append(file)\n",
    "\n",
    "print list_of_file_names"
   ]
  },
  {
   "cell_type": "markdown",
   "metadata": {},
   "source": [
    "Exercise:\n",
    "\n",
    "Using previous example, please create python dictionary \n",
    "that will contain information about file name and its size.\n",
    "You can use /etc/ directory.\n",
    "\n",
    "Hint 1: remember to check if file exists\n",
    "Hint 2: use file name as dictionary key\n",
    "\n",
    "\n",
    "Your output should be similar to 'Output example':\n",
    "Output example:\n",
    "```python\n",
    "{\n",
    "    '/etc/sane.d/stv680.conf': 178,\n",
    "    '/etc/redhat-release': 33,\n",
    "    '/etc/pam.d/cups': 146,\n",
    "    '/etc/X11/xinit/Xclients': 2317\n",
    "    ...\n",
    "}\n",
    "```"
   ]
  },
  {
   "cell_type": "code",
   "execution_count": null,
   "metadata": {
    "collapsed": false
   },
   "outputs": [],
   "source": [
    "# SOLUTION\n",
    "\n",
    "import os\n",
    "list_of_files = []\n",
    "for root, dirs, files in os.walk('/etc'):\n",
    "    for file in files:\n",
    "        path_to_file = os.path.join(root, file)\n",
    "        if os.path.isfile(path_to_file):\n",
    "            list_of_files.append((path_to_file, os.path.getsize(path_to_file)))\n",
    "\n",
    "files_size = dict(list_of_files)\n",
    "print files_size"
   ]
  },
  {
   "cell_type": "markdown",
   "metadata": {},
   "source": [
    "#### How to sort dictionaries"
   ]
  },
  {
   "cell_type": "code",
   "execution_count": null,
   "metadata": {
    "collapsed": false
   },
   "outputs": [],
   "source": [
    "d = {'key1': 1, 'key2': 2, 'key3': 3}\n",
    "\n",
    "for key in sorted(d, key=d.get):\n",
    "    print key, d[key]"
   ]
  },
  {
   "cell_type": "markdown",
   "metadata": {},
   "source": [
    "Exercise:\n",
    "\n",
    "Sort dictionary from previous exercise by file size. \n",
    "Largest files should go first.\n",
    "\n",
    "Hint: Boot sort and sorted method accept a reverse parameter with a boolean value. \n",
    "This is using to flag descending sorts."
   ]
  },
  {
   "cell_type": "code",
   "execution_count": null,
   "metadata": {
    "collapsed": false
   },
   "outputs": [],
   "source": [
    "# SOLUTION\n",
    "\n",
    "for key in sorted(files_size, key=files_size.get, reverse=True):\n",
    "    print key, files_size[key]"
   ]
  },
  {
   "cell_type": "markdown",
   "metadata": {},
   "source": [
    "Exercise:\n",
    "\n",
    "Create a function: get_files_size that will take two arguments: \n",
    "\n",
    "1. `directory` - string, directory name, e.g.: /etc, by default use '/' directory\n",
    "2. `reverse`   - boolean, if True use descending sorts, by default should be set as False\n",
    "\n",
    "Function should return python dictionary that will contain information about file name and its size.\n",
    "\n",
    "Please use solutions from previous exercises.\n",
    "\n",
    "Example: how to invoke this function?\n",
    "\n",
    "```python\n",
    "get_files_size('/etc/', reverse=True) \n",
    "```\n",
    "\n",
    "Additionally: try to execute this function as follows:\n",
    "- ```print get_files_size()```\n",
    "- ```print get_files_size('/etc')```\n",
    "- ```print get_files_size('/etc', reverse=True)```\n",
    "\n",
    "\n",
    "Hit: use OrderedDict\n",
    "```python\n",
    "from collections import OrderedDict\n",
    "```\n",
    "\n",
    "Hint: use itemgetter or lambda notation to get second element from tuple"
   ]
  },
  {
   "cell_type": "code",
   "execution_count": 49,
   "metadata": {
    "collapsed": false
   },
   "outputs": [
    {
     "name": "stdout",
     "output_type": "stream",
     "text": [
      "[('testfile', 3000), ('testfile', 2), ('password', 450), ('file1', 100)]\n",
      "[('testfile', 3000), ('password', 450), ('file1', 100), ('testfile', 2)]\n",
      "[('testfile', 3000), ('password', 450), ('file1', 100), ('testfile', 2)]\n"
     ]
    }
   ],
   "source": [
    "list_of_tuples = [('file1', 100), ('testfile', 2), ('testfile', 3000), ('password', 450)]\n",
    "\n",
    "list_of_tuples.sort(reverse=True)\n",
    "print list_of_tuples\n",
    "\n",
    "# first approach\n",
    "from operator import itemgetter\n",
    "\n",
    "list_of_tuples.sort(reverse=True, key=itemgetter(1))\n",
    "print list_of_tuples\n",
    "\n",
    "\n",
    "# second approach\n",
    "list_of_tuples.sort(reverse=True, key=lambda item: item[1])\n",
    "print list_of_tuples"
   ]
  },
  {
   "cell_type": "markdown",
   "metadata": {},
   "source": [
    "#### Lamda expression\n",
    "\n",
    "- Lambdas are a shorthand to create anonymous functions in Python (functions without names)\n",
    "\n",
    "For example you can create function in the 'normal way' using `def` keyword:\n",
    "```python\n",
    "def square_root(x): \n",
    "    return math.sqrt(x)\n",
    "    \n",
    "square_root(2)    \n",
    "```\n",
    "or you can use lambda:\n",
    "\n",
    "```python\n",
    "square_root = lambda x: math.sqrt(x)\n",
    "square_root(2)\n",
    "```\n",
    "\n",
    "Another example:\n",
    "\n",
    "```python\n",
    "def name(arguments):\n",
    "    return expression\n",
    "```\n",
    "can be translated to\n",
    "```python\n",
    "name = lambda arguments: expression\n",
    "```\n",
    "\n",
    "Source:\n",
    "- https://docs.python.org/2/reference/expressions.html\n",
    "- https://pythonconquerstheuniverse.wordpress.com/2011/08/29/lambda_tutorial/"
   ]
  },
  {
   "cell_type": "code",
   "execution_count": null,
   "metadata": {
    "collapsed": false
   },
   "outputs": [],
   "source": [
    "# SOLUTION\n",
    "\n",
    "import os\n",
    "from collections import OrderedDict\n",
    "from operator import itemgetter\n",
    "\n",
    "def get_files_size(directory='/', reverse=False):\n",
    "    list_of_files = []\n",
    "    for root, dirs, files in os.walk(directory):\n",
    "        for file in files:\n",
    "            path_to_file = os.path.join(root, file)\n",
    "            if os.path.isfile(path_to_file):\n",
    "                list_of_files.append((path_to_file, os.path.getsize(path_to_file)))\n",
    "    \n",
    "    return OrderedDict(sorted(list_of_files, key=itemgetter(1), reverse=reverse))\n",
    "            \n",
    "\n",
    "print get_files_size('/etc')"
   ]
  },
  {
   "cell_type": "markdown",
   "metadata": {},
   "source": [
    "Exercise:\n",
    "\n",
    "Using previous exercises create a script that will ask user to provide directory name\n",
    "and then list out each file from provided directory and its size.\n",
    "You can use function get_files_size."
   ]
  },
  {
   "cell_type": "code",
   "execution_count": null,
   "metadata": {
    "collapsed": false
   },
   "outputs": [],
   "source": [
    "\n",
    "\n"
   ]
  },
  {
   "cell_type": "code",
   "execution_count": null,
   "metadata": {
    "collapsed": true
   },
   "outputs": [],
   "source": []
  }
 ],
 "metadata": {
  "kernelspec": {
   "display_name": "Python 2",
   "language": "python",
   "name": "python2"
  },
  "language_info": {
   "codemirror_mode": {
    "name": "ipython",
    "version": 2
   },
   "file_extension": ".py",
   "mimetype": "text/x-python",
   "name": "python",
   "nbconvert_exporter": "python",
   "pygments_lexer": "ipython2",
   "version": "2.7.10"
  }
 },
 "nbformat": 4,
 "nbformat_minor": 0
}
