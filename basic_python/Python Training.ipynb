{
 "cells": [
  {
   "cell_type": "markdown",
   "metadata": {},
   "source": [
    "# Python Training - Basic Level"
   ]
  },
  {
   "cell_type": "code",
   "execution_count": 2,
   "metadata": {
    "collapsed": false
   },
   "outputs": [
    {
     "data": {
      "text/plain": [
       "4"
      ]
     },
     "execution_count": 2,
     "metadata": {},
     "output_type": "execute_result"
    }
   ],
   "source": [
    "2 + 2"
   ]
  },
  {
   "cell_type": "markdown",
   "metadata": {},
   "source": [
    "### Overview\n",
    "\n",
    "##### What is Python:\n",
    "\n",
    "- an interpreted (byte code compilation) object-oriented programming language\n",
    "- dynamic typing (run time type checking), very high level dynamic data types and classes\n",
    "- strong typing (variables are bound to a particular data type)\n",
    "- very clear syntax - Python Style Guide: https://www.python.org/dev/peps/pep-0008/ \n",
    "- portable: it runs on many Unix variants, on the Mac, and on PCs under MS-DOS, Windows, Windows NT, and OS/2\n",
    "- easily extensible with C/C++/Java code, and easily embeddable in applications\n",
    "- free to use, even for commercial products, because of open source license\n",
    "\n",
    "> \n",
    "The joy of coding Python should be in seeing short, concise, readable classes that express a lot of action in a small amount of clear code -- not in reams of trivial code that bores the reader to death - Guido van Rossum\n",
    "\n",
    "\n",
    "\n",
    "Sources:\n",
    "- https://docs.python.org/2/faq/general.html\n",
    "- https://www.python.org/download/releases/2.7/license/\n",
    "- http://www.tiobe.com/index.php/content/paperinfo/tpci/index.html - programming lanugages trends\n",
    "- https://github.com/blog/2047-language-trends-on-github - gitub trends\n",
    "- https://www.python.org/doc/essays/comparisons/ - comparing python to other languages"
   ]
  },
  {
   "cell_type": "markdown",
   "metadata": {},
   "source": [
    "### What is Python good for\n",
    "\n",
    "- text processing & web scraping (reqgular expressions, LXML, Beautiful Soup, ...)\n",
    "- integration with operating systems (system calls, filesystems, TCP/IP sockets)\n",
    "- supprort for all known internet protocols (HTTP, FTP, SMTP, XML-RPC, POP, SOAP, ...)\n",
    "- data science (NumPy, SciPy, and matplotlib)\n",
    "- writing Web Applications (Django, Flask, Pyramid, ...)\n",
    "- glue together large software components\n",
    "- GUI programming (Tk, Qt, GNOME, KDE, Kivy ...)\n",
    "\n",
    "Sources:\n",
    "- https://wiki.python.org/moin/WebFrameworks\n",
    "- https://www.python.org/doc/essays/omg-darpa-mcc-position/ - Glue It All Together With Python\n",
    "- http://scikit-learn.org/stable/\n",
    "- https://wiki.python.org/moin/GuiProgramming"
   ]
  },
  {
   "cell_type": "markdown",
   "metadata": {},
   "source": [
    "### Python strenghts - comparing to other languages\n",
    "\n",
    "- Easy to learn\n",
    "- Application prototyping \n",
    "    - Program development using Python is 5-10 times faster than using C/C++ and 3-5 times faster than using Java\n",
    "    - In many cases, a prototype of an application can be written in Python without writing any C/C++/Java code\n",
    "- Supports multiple programming paradigms\n",
    "    - procedural (statement based)\n",
    "    - object-oriented (polymorphism, operator overloading and multiple inheritance)\n",
    "    - functional (generators, comprehensions, closures, maps, decorators, lambdas, first-class function objects)\n",
    "- Portability\n",
    "- Automatic memory management\n",
    "    - objects are automatically allocated and reclaimed (“garbage collects”) \n",
    "- Third-party utilities\n",
    "    - more than 70k packages\n",
    "    - https://pypi.python.org/pypi\n",
    "    \n",
    "    \n",
    "Sources:\n",
    "- https://www.python.org/doc/essays/omg-darpa-mcc-position/"
   ]
  },
  {
   "cell_type": "markdown",
   "metadata": {},
   "source": [
    "#### Software that makes use of Python\n",
    "\n",
    "- Applications: Dropbox, Youtube, Instagram, Reddit, Spotify, Blender 3D, ...\n",
    "- Games: Civilization IV, Eve Online\n",
    "- Tools: Ansible, Mercurial \n",
    "\n",
    "Sources:\n",
    "- https://www.python.org/about/success/\n",
    "- https://wiki.python.org/moin/OrganizationsUsingPython\n",
    "- https://wiki.python.org/moin/Applications"
   ]
  },
  {
   "cell_type": "markdown",
   "metadata": {},
   "source": [
    "### History of Python\n",
    "\n",
    "\n",
    "- Python was created in the early 1990s by Guido van Rossum at the National Research Institute for Mathematics and Computer Science in the Netherlands\n",
    "\n",
    "- Python is derived from many other languages, including ABC, Modula-3, C, C++, Algol-68, SmallTalk, and Unix shell and other scripting languages.\n",
    "\n",
    "- The language was named after the BBC show “Monty Python’s Flying Circus”\n",
    "\n",
    "- Python 2.7.y from 2010 - most common used Python version but legacy\n",
    "- Python 3.x.y from 2008 - recommended version\n",
    "\n",
    "\n",
    "Sources:\n",
    "- http://python-history.blogspot.com/\n",
    "- https://docs.python.org/2.7/faq/design.html \n",
    "- https://www.python.org/download/releases/2.7/license/\n",
    "- https://www.python.org/downloads/ - here you can find all Python version and release dates\n",
    "- https://www.python.org/~guido/interviews.html - interviews with python creator"
   ]
  },
  {
   "cell_type": "markdown",
   "metadata": {},
   "source": [
    "### Python 2.x or Python 3.x\n",
    "\n",
    "- Official statement: **Python 2.x is legacy, Python 3.x is the present and future of the language**\n",
    "- But in practice:\n",
    "    -  Python 2.7.x has been standard for a long time\n",
    "    -  Python 2.7.x will receive necessary security updates until 2020\n",
    "\n",
    "Major differences:\n",
    "- print is a function not statement\n",
    "- Better Unicode support\n",
    "- Memory-efficient iterable returns by default\n",
    "- Integers can handle any size, no longer limited to the machine's word size\n",
    "\n",
    "\n",
    "Sources:\n",
    "- https://wiki.python.org/moin/Python2orPython3\n",
    "- http://docs.python-guide.org/en/latest/starting/which-python/#the-state-of-python-2-vs-3\n",
    "- https://docs.python.org/3/whatsnew/3.0.html - What is new in Python 3.x\n",
    "- http://python-notes.curiousefficiency.org/en/latest/python3/questions_and_answers.html - Python 3 Q&A\n",
    "- http://getpython3.com/ - How to port from 2.x to 3.x\n",
    "- https://python3wos.appspot.com/ - List of packages supported in Python 3.x, Most useful and not yet supported (January 2016): Fabric, Ansible, suds, protobuf, M2Crypto"
   ]
  },
  {
   "cell_type": "markdown",
   "metadata": {},
   "source": [
    "### Python implementations\n",
    "\n",
    "- Python is actually a specification for a language that can be implemented in many different ways\n",
    "- You can find Python Grammar specification here: https://docs.python.org/2/reference/grammar.html\n",
    "\n",
    "Python implementations:\n",
    "\n",
    "- CPython\n",
    "    - reference implementation of Python, written in C\n",
    "    - it compiles Python code to intermediate bytecode which is then interpreted by a virtual machine\n",
    "    \n",
    "- PyPy\n",
    "    - interpreter implemented in a restricted statically-typed subset of the Python language\n",
    "    - Python performance was improved - it is 5 times faster than CPython\n",
    "    \n",
    "- Jython\n",
    "    - implementation that compiles Python code to Java bytecode which is then executed by the JVM\n",
    "    - it is possible to import and use any Java class like a Python module\n",
    "    - examples: https://wiki.python.org/jython/LearningJython\n",
    "    - http://www.jython.org/jythonbook/en/1.0/SimpleWebApps.html\n",
    "    \n",
    "- IronPython\n",
    "    - implementation of Python for the .NET framework\n",
    "    - it is possible to import and use any .NET framework libraries"
   ]
  },
  {
   "cell_type": "markdown",
   "metadata": {},
   "source": [
    "### Interpreter\n",
    "\n",
    "- A kind of program that executes other programs\n",
    "- Reads your program and carries out the instructions it contains\n",
    "\n",
    "\n",
    "http://aosabook.org/en/500L/a-python-interpreter-written-in-python.html"
   ]
  },
  {
   "cell_type": "markdown",
   "metadata": {},
   "source": [
    "### Code compilation and interpreting\n",
    "\n",
    "#### Byte code\n",
    "\n",
    "- When you execute a script, Python compiles your source code into a format known as byte code\n",
    "    - it creates binary file with .pyc extension\n",
    "        - in python 3.x, .pyc files are stored in ```__pycache__``` directory\n",
    "        - byte code can be also generated in memory in case have no write permission in filesystem\n",
    "    - compilation is simply a translation step\n",
    "- Byte code is a lower-level, platform-independent representation of your source code\n",
    "- Byte code translation is performed to speed execution\n",
    "\n",
    "> Byte code is an implementation detail of the CPython interpreter\n",
    "\n",
    "- Byte code example:\n",
    "\n",
    "```python\n",
    "0 LOAD_GLOBAL              0 (len)\n",
    "3 LOAD_FAST                0 (alist)\n",
    "6 CALL_FUNCTION            1\n",
    "9 RETURN_VALUE\n",
    "```\n",
    "\n",
    "#### Byte code interpretation\n",
    "\n",
    "- Byte code instructions are interpreted by python interpreter\n",
    "    - interpreter reads the binary file (.pyc) and executes the instructions one at a time\n",
    "\n",
    "\n",
    "#### Compilation and interpretation steps\n",
    "\n",
    "For example:\n",
    "\n",
    "```python\n",
    "python your_program.py\n",
    "```\n",
    "\n",
    "1. Lexical analysis (break text to find tokens - keywords, operators, literals)\n",
    "2. Parsing - based on the rules from grammar, produces Abstract Syntax Tree (AST)\n",
    "3. Code generation produces PyCodeObject (bytecode)\n",
    "4. Code execution by bytecode interpreter (stack-based virtual machine)\n",
    "\n",
    "Sources:\n",
    "- http://security.coverity.com/blog/2014/Nov/understanding-python-bytecode.html\n",
    "- http://tomlee.co/wp-content/uploads/2012/11/108_python-language-internals.pdf"
   ]
  },
  {
   "cell_type": "markdown",
   "metadata": {},
   "source": [
    "### How to install Python\n",
    "\n",
    "For Windows, Mac OS X, Sources:\n",
    "\n",
    "    - download Python interpreter from https://www.python.org/downloads/\n",
    "    - detailed instruction for Windows: http://www.howtogeek.com/197947/how-to-install-python-on-windows/\n",
    "    \n",
    "For Linux:\n",
    "    - just use your package manager like apt, yum\n",
    "        - for RedHat like systems: yum install python\n",
    "        - for Debian like systems: apt-get install python"
   ]
  },
  {
   "cell_type": "markdown",
   "metadata": {},
   "source": [
    "### Interactive mode\n",
    "\n",
    "What is interactive mode and why it should be used:\n",
    "- command line shell for Python\n",
    "- immediate feedback for each statement you type\n",
    "- it is faster to check Python documentation than using Web Browser, just type\n",
    "```python\n",
    "help(antyhing)\n",
    "```\n",
    "\n",
    "How to run interactive mode:\n",
    "\n",
    "- Just invoke the interpreter without passing a script file as a parameter \n",
    "\n",
    "- To enter the interactive mode type **python** command in your Shell (windows/linux)\n",
    "- You should be able to see prompt **>>>**\n",
    "\n",
    "For example:\n",
    "\n",
    "```python\n",
    "Python 3.5.0 (v3.5.0:374f501f4567, Sep 13 2015, 02:16:59) [MSC v.1900 32 bit (Intel)] on win32\n",
    "Type \"help\", \"copyright\", \"credits\" or \"license\" for more information.\n",
    ">>>\n",
    "```\n",
    "\n",
    "Sources:\n",
    "- http://stackoverflow.com/questions/2664785/why-use-python-interactive-mode"
   ]
  },
  {
   "cell_type": "markdown",
   "metadata": {},
   "source": [
    "### Script mode\n",
    "\n",
    "- Python program/script is just a text file containing Python statements\n",
    "\n",
    "- Invoking the interpreter with a script parameter begins execution of the script and continues until the script is finished\n",
    "- Python files have extension .py, for example: hello_world.py\n",
    "- How to run? (you should have python interpreter set in PATH environment variable)\n",
    "\n",
    "```bash\n",
    "python your_script.py\n",
    "```\n",
    "\n",
    "- You can also run your python script as follows:\n",
    "\n",
    "```bash\n",
    "./your_script.py\n",
    "```\n",
    "\n",
    "- but you need to add path to your python interpreter directly inside your script\n",
    "\n",
    "```python\n",
    "#!/usr/bin/python\n",
    "print \"Hello world\"\n",
    "```"
   ]
  },
  {
   "cell_type": "markdown",
   "metadata": {},
   "source": [
    "### Syntax\n",
    "\n",
    "#### Code structure\n",
    "\n",
    "- Remember: A Python program is read by a parser\n",
    "- A Python program is divided into a number of logical lines\n",
    "- The end of a logical line is represented by the token NEWLINE\n",
    "- A logical line is constructed from one or more physical lines\n",
    "- A physical line is a sequence of characters terminated by an end-of-line sequence\n",
    "- Two or more physical lines may be joined into logical lines using backslash characters (\\)\n",
    "\n",
    "#### Indentation\n",
    "\n",
    "- Indentation = white spaces (tabs or spaces - never mixed!)\n",
    "- Indentation level of your statements is significant\n",
    "- Everywhere else, whitespace is not significant and can be used as you like, just like in any other language\n",
    "- The exact amount of indentation doesn't matter at all, but only the relative indentation of nested blocks (relative to each other)\n",
    "\n",
    "- Python uses indentation to indicate blocks of code\n",
    "- https://www.python.org/dev/peps/pep-0008/\n",
    "\n",
    "```python\n",
    "def function(args):\n",
    "    do_something()               # Indentation\n",
    "    do_something_else()          # Indentation\n",
    "    return                       # Indentation\n",
    "\n",
    "def function2(condition):\n",
    "    if condition == 0:           # Indentation\n",
    "        do_something()           # Indentation\n",
    "        if condition == 1:       # Indentation\n",
    "            do_something_else()  # Indentation\n",
    "        else:                    # Indentation\n",
    "            print('do nothing')  # Indentation\n",
    "    else:                        # Indentation\n",
    "        do_something()           # Indentation\n",
    "        \n",
    "                                 # two empty lines - does not matter \n",
    "     return                      # Indentation\n",
    "    \n",
    "function()\n",
    "function2()\n",
    "\n",
    "```\n",
    "\n",
    "\n",
    "#### Keywords (reserved words)\n",
    "\n",
    "- Important: all the Python keywords contain lowercase letters only\n",
    "- These names below cannot be used as ordinary identifiers:\n",
    "\n",
    "```\n",
    "and       del       from      not       while\n",
    "as        elif      global    or        with\n",
    "assert    else      if        pass      yield\n",
    "break     except    import    print\n",
    "class     exec      in        raise\n",
    "continue  finally   is        return\n",
    "def       for       lambda    try\n",
    "```\n",
    "\n",
    "\n",
    "#### Operators\n",
    "\n",
    "- The following tokens are operators:\n",
    "\n",
    "```\n",
    "+       -       *       **      /       //      %      @\n",
    "<<      >>      &       |       ^       ~\n",
    "<       >       <=      >=      ==      !=\n",
    "```\n",
    "\n",
    "#### Comments\n",
    "\n",
    "- Represented by a hash sign(#) that is not inside a string literal\n",
    "- Represented by quotation - you can use single ('), double (\") and triple (''' or \"\"\") quotes\n",
    "\n",
    "\n",
    "Sources:\n",
    "- https://docs.python.org/2/reference/lexical_analysis.html\n",
    "- https://docs.python.org/3/reference/lexical_analysis.html"
   ]
  },
  {
   "cell_type": "code",
   "execution_count": 30,
   "metadata": {
    "collapsed": false
   },
   "outputs": [
    {
     "data": {
      "text/plain": [
       "'\\ncomment\\ncomment\\ncomment\\n'"
      ]
     },
     "execution_count": 30,
     "metadata": {},
     "output_type": "execute_result"
    }
   ],
   "source": [
    "# comment\n",
    "# comment\n",
    "\n",
    "\n",
    "number = 3 #comment\n",
    "\n",
    "\"\"\"\n",
    "comments here\n",
    "\"\"\"\n",
    "\n",
    "\n",
    "'''\n",
    "comment\n",
    "comment\n",
    "comment\n",
    "'''"
   ]
  },
  {
   "cell_type": "markdown",
   "metadata": {},
   "source": [
    "### Variables are labels, not boxes\n",
    "\n",
    "- So it’s better to think of them as labels (names) attached to objects\n",
    "\n",
    "- Always read the right-hand side first: that’s where the object is created or retrieved\n",
    "- After that, the variable on the left is bound to the object, like a label stuck to it\n",
    "\n",
    "- A variable is simply a value bound to a name\n",
    "- The value has a type -- like \"integer\" or \"string\" or \"list\" -- but the label (variable) itself doesn't\n",
    "\n",
    "\n",
    "- Created when they are first assigned values (dynamic typing)\n",
    "- Replaced with their values when used in expressions\n",
    "- Must be assigned before they can be used in expressions\n",
    "- Refer to objects and are never declared ahead of time\n",
    "\n",
    "#### Labeling object - example\n",
    "\n",
    "```python\n",
    ">>> A = 1                # Assign a name to an object\n",
    "```\n",
    "\n",
    "1. Create an object to represent the VALUE 1\n",
    "2. Create the LABEL A, **if it does not yet exist**\n",
    "3. Link the LABEL A to the new object 1\n"
   ]
  },
  {
   "cell_type": "markdown",
   "metadata": {},
   "source": [
    "### Dynamic & strong typing\n",
    "\n",
    "> Once you create an object, you bind its operation set for all time\n",
    "— you can perform only string operations on a string and list operations on a list\n",
    "\n",
    "- Type checks are performed mostly at run time\n",
    "- Interpreter tracks of the kinds of objects your program uses when it runs\n",
    "- Dynamic typing means there is less code for you to write\n",
    "\n",
    "- Sort of type-dependent behavior is known as polymorphism \n",
    "- Every operation is a polymorphic operation in Python: \n",
    "\n",
    "> Polymorphic behavior has in recent years come to also be known as duck typing—the essential idea being that your code is not supposed to care if an object is a duck, only that it quacks. Anything that quacks will do, duck or not, and the implementation of quacks is up to the object,"
   ]
  },
  {
   "cell_type": "code",
   "execution_count": 4,
   "metadata": {
    "collapsed": false
   },
   "outputs": [
    {
     "name": "stdout",
     "output_type": "stream",
     "text": [
      "100000\n"
     ]
    }
   ],
   "source": [
    "# Dynamic programming traps via Python\n",
    "\n",
    "important_variable = 100000\n",
    "for i in range(1000):\n",
    "    important_varaible = important_variable + 10   # TYPO in important_VarAible\n",
    "    \n",
    "print(important_variable)"
   ]
  },
  {
   "cell_type": "code",
   "execution_count": 2,
   "metadata": {
    "collapsed": false
   },
   "outputs": [
    {
     "ename": "TypeError",
     "evalue": "unsupported operand type(s) for +: 'int' and 'str'",
     "output_type": "error",
     "traceback": [
      "\u001b[1;31m---------------------------------------------------------------------------\u001b[0m",
      "\u001b[1;31mTypeError\u001b[0m                                 Traceback (most recent call last)",
      "\u001b[1;32m<ipython-input-2-d512f950bfb9>\u001b[0m in \u001b[0;36m<module>\u001b[1;34m()\u001b[0m\n\u001b[1;32m----> 1\u001b[1;33m \u001b[1;36m2\u001b[0m \u001b[1;33m+\u001b[0m \u001b[1;34m\"a\"\u001b[0m\u001b[1;33m\u001b[0m\u001b[0m\n\u001b[0m",
      "\u001b[1;31mTypeError\u001b[0m: unsupported operand type(s) for +: 'int' and 'str'"
     ]
    }
   ],
   "source": [
    "2 + \"a\""
   ]
  },
  {
   "cell_type": "markdown",
   "metadata": {},
   "source": [
    "### Built-in types\n",
    "\n",
    "- All build-in types listed in documentation: https://docs.python.org/3/library/stdtypes.html\n",
    "- Of course you may create your own types (class)\n",
    "\n",
    "\n",
    "#### Boolean \n",
    "- True: 1, all numbers without 0, non empty strings, non empty collections\n",
    "- False: [], {}, 0, None, ''\n",
    "- you can use bool() function to check if object has True or False value\n",
    "\n",
    "#### Numeric\n",
    "- int(signed integers), float (floating point real values), complex (complex numbers)\n",
    "- Number data types store numeric values\n",
    "- Of course it is possible to convert between types: int(), float()\n",
    "\n",
    "#### Strings\n",
    "- Python’s strings also come with full Unicode support required for processing text in internationalized character sets\n",
    "- You can find common string operations in 'string' module: https://docs.python.org/2/library/string.html\n",
    "\n",
    "> The string module contains a number of useful constants, methods and classes\n",
    "\n",
    "Useful contastants in string module:\n",
    "- string.ascii_letters -> 'abcdefghijklmnopqrstuvwxyzABCDEFGHIJKLMNOPQRSTUVWXYZ'\n",
    "- string.digits        -> '0123456789'\n",
    "- string.punctuation   -> ```'!\"#$%&\\'()*+,-./:;<=>?@[\\\\]^_`{|}~'``\n",
    "\n",
    "\n",
    "Useful string methods:\n",
    "- str.capitalize() -> only first character capitalized and the rest lowercased in string\n",
    "- str.encode(encoding=\"utf-8\") -> return an encoded version of the string as a bytes object\n",
    "- str.decode()\n",
    "- str.format() -> perform a string formatting operation\n",
    "- str.split(sep) -> return a list of the words in the string, using sep as the delimiter string\n",
    "- str.join()\n",
    "\n",
    "#### Data structures \n",
    "- list, tuples, dictionaries\n",
    "- You can find high-performance container datatypes in collections module: https://docs.python.org/2/library/collections.html\n"
   ]
  },
  {
   "cell_type": "code",
   "execution_count": 31,
   "metadata": {
    "collapsed": false
   },
   "outputs": [
    {
     "name": "stdout",
     "output_type": "stream",
     "text": [
      "0  ->  False\n",
      "1  ->  True\n",
      "  ->  False\n",
      "not empty  ->  True\n",
      "[]  ->  False\n",
      "[1, 2, 3]  ->  True\n"
     ]
    }
   ],
   "source": [
    "print(0, ' -> ', bool(0)) # False\n",
    "print(1, ' -> ', bool(1)) # True\n",
    "\n",
    "print('', ' -> ', bool('')) # False\n",
    "print('not empty', ' -> ', bool('not empty')) # True\n",
    "\n",
    "print([], ' -> ', bool([])) # False\n",
    "print([1, 2, 3], ' -> ', bool([1, 2, 3])) # True"
   ]
  },
  {
   "cell_type": "markdown",
   "metadata": {},
   "source": [
    "#### String formatting operation\n",
    "\n",
    "str.format()\n",
    "- Perform a string formatting operation\n",
    "- The string on which this method is called can contain literal text or replacement fields delimited by braces {}\n",
    "- Each replacement field contains either the numeric index of a positional argument, or the name of a keyword argument\n",
    "- Returns a copy of the string where each replacement field is replaced with the string value of the corresponding argument\n",
    "\n",
    "\n",
    "Sources:\n",
    "- http://www.diveintopython.net/native_data_types/formatting_strings.html\n",
    "- https://pyformat.info/\n",
    "- https://mkaz.github.io/2012/10/10/python-string-format/"
   ]
  },
  {
   "cell_type": "code",
   "execution_count": 32,
   "metadata": {
    "collapsed": false
   },
   "outputs": [
    {
     "data": {
      "text/plain": [
       "'one two'"
      ]
     },
     "execution_count": 32,
     "metadata": {},
     "output_type": "execute_result"
    }
   ],
   "source": [
    "'{} {}'.format('one', 'two')"
   ]
  },
  {
   "cell_type": "code",
   "execution_count": 33,
   "metadata": {
    "collapsed": false
   },
   "outputs": [
    {
     "data": {
      "text/plain": [
       "'two one'"
      ]
     },
     "execution_count": 33,
     "metadata": {},
     "output_type": "execute_result"
    }
   ],
   "source": [
    "'{1} {0}'.format('one', 'two')"
   ]
  },
  {
   "cell_type": "code",
   "execution_count": 34,
   "metadata": {
    "collapsed": false
   },
   "outputs": [
    {
     "name": "stdout",
     "output_type": "stream",
     "text": [
      "                   align right\n",
      "align left                    \n",
      "            center            \n"
     ]
    }
   ],
   "source": [
    "print('{:>30}'.format('align right')) \n",
    "print('{:30}'.format('align left'))\n",
    "print('{:^30}'.format('center'))"
   ]
  },
  {
   "cell_type": "code",
   "execution_count": 35,
   "metadata": {
    "collapsed": false
   },
   "outputs": [
    {
     "name": "stdout",
     "output_type": "stream",
     "text": [
      "3.142\n"
     ]
    }
   ],
   "source": [
    "print('{:.3f}'.format(3.141592653589793))  # 3 decimal places"
   ]
  },
  {
   "cell_type": "code",
   "execution_count": 36,
   "metadata": {
    "collapsed": false
   },
   "outputs": [
    {
     "name": "stdout",
     "output_type": "stream",
     "text": [
      "Guido van Rossum\n",
      "4 15\n"
     ]
    }
   ],
   "source": [
    "person = {'name': 'Guido', 'surname': 'van Rossum'}\n",
    "print('{p[name]} {p[surname]}'.format(p=person))\n",
    "\n",
    "data = [4, 8, 15, 16, 23, 42]\n",
    "print('{d[0]} {d[2]}'.format(d=data))"
   ]
  },
  {
   "cell_type": "code",
   "execution_count": 37,
   "metadata": {
    "collapsed": false
   },
   "outputs": [
    {
     "name": "stdout",
     "output_type": "stream",
     "text": [
      "The sum of 1 + 2 is 3\n",
      "The sum of 1 + 2 is 3\n"
     ]
    }
   ],
   "source": [
    "print(\"The sum of {} + {} is {}\".format(1, 2, 3))\n",
    "\n",
    "a = 1\n",
    "b = 2\n",
    "c = a + b\n",
    "\n",
    "print(\"The sum of {a} + {b} is {c}\".format(a=a, b=b, c=c))"
   ]
  },
  {
   "cell_type": "markdown",
   "metadata": {},
   "source": [
    "#### Unicodes\n",
    "Python 3:\n",
    "- In Python 3.X, the normal str string handles Unicode text (including ASCII, which is just a simple kind of Unicode)\n",
    "- a distinct bytes string type represents raw byte values (including media and encoded text)\n",
    "- 2.X Unicode literals are supported in 3.3 and later for 2.X compatibility (they are treated the same as normal 3.X str strings)\n",
    "\n",
    "```python\n",
    ">>> 'sp\\xc4m'                     # 3.X: normal str strings are Unicode text\n",
    "'spÄm'\n",
    ">>> b'a\\x01c'                     # bytes strings are byte-based data\n",
    "b'a\\x01c'\n",
    "```\n",
    "\n",
    "Python 2:\n",
    "- In Python 2.X, the normal str string handles both 8-bit character strings (including ASCII text) and raw byte values\n",
    "- a distinct unicode string type represents Unicode text; and 3.X bytes literals are supported in 2.6 and later for 3.X compatibility (they are treated the same as normal 2.X str strings)\n",
    "\n",
    "```python\n",
    ">>> print u'sp\\xc4m'              # 2.X: Unicode strings are a distinct type\n",
    "spÄm\n",
    ">>> 'a\\x01c'                      # Normal str strings contain byte-based text/data\n",
    "'a\\x01c'\n",
    ">>> b'a\\x01c'                     # The 3.X bytes literal works in 2.6+: just str\n",
    "'a\\x01c'\n",
    "\n",
    ">>> string = 'SPAM'\n",
    ">>> a, b, c, d = string           # Same number on both sides\n",
    ">>> a, d\n",
    "('S', 'M')\n",
    "```\n",
    "\n",
    "\n",
    "Sources:\n",
    "- https://docs.python.org/3/library/stdtypes.html"
   ]
  },
  {
   "cell_type": "markdown",
   "metadata": {},
   "source": [
    "### Boolean operations (AND, OR, NOT)\n",
    "\n",
    "OR\n",
    "- ```x or y``` if x is false, then y, else y\n",
    "- For or tests, Python evaluates the operand objects from left to right and returns the first one that is true\n",
    "- Moreover, Python stops at the first true operand it finds. This is usually called short-circuit evaluation, as determining a result short-circuits (terminates) the rest of the expression as soon as the result is known\n",
    "\n",
    "```python\n",
    ">>> 2 or 3, 3 or 2      # Return left operand if true\n",
    "(2, 3)                  # Else, return right operand (true or false)\n",
    ">>> [] or 3\n",
    "3\n",
    ">>>[] or {}\n",
    "{}\n",
    "```\n",
    "\n",
    "AND\n",
    "- ```x and y``` if x is false, then x, else y\t\n",
    "- Python and operations also stop as soon as the result is known; however, in this case Python evaluates the operands from left to right and stops if the left operand is a false object because it determines the result—falseand anything is always false\n",
    "\n",
    "Example 1:\n",
    "```python\n",
    ">>> 2 and 3, 3 and 2    # Return left operand if false\n",
    "(3, 2)                  # Else, return right operand (true or false)\n",
    ">>> [] and {}\n",
    "[]\n",
    ">>> 3 and []\n",
    "[]\n",
    "```\n",
    "\n",
    "Example2:\n",
    "```python\n",
    "X = A or B or C or None  # assigns X to the first nonempty (that is, true) object\n",
    "```\n",
    "\n",
    "NOT \n",
    "- ```not x ``` if x is false, then True, else False\n",
    "\n",
    "Example:\n",
    "```\n",
    "not True # False\n",
    "```\n",
    "\n",
    "#### Operator precedences\n",
    "\n",
    "- or operator has lower precedense that and operator\n",
    "- True and False or True # True\n",
    "\n",
    "https://docs.python.org/2/reference/expressions.html#operator-precedence"
   ]
  },
  {
   "cell_type": "code",
   "execution_count": 38,
   "metadata": {
    "collapsed": false
   },
   "outputs": [
    {
     "name": "stdout",
     "output_type": "stream",
     "text": [
      "<class 'int'> 3\n",
      "<class 'float'> 2.7\n",
      "<class 'str'> A\n",
      "<class 'list'> [1, 2.1, [1, 2], 'python']\n",
      "<class 'str'> python\n",
      "<class 'tuple'> (1, 2)\n",
      "<class 'dict'> {'key2': 'two', 'key1': 1}\n",
      "<class 'bool'> True\n",
      "<class 'NoneType'> None\n",
      "<class '__main__.YourNewType'> <__main__.YourNewType object at 0x01084790>\n",
      "<class 'function'> <function do_something at 0x0102F6F0>\n",
      "<class 'int'> 2\n"
     ]
    }
   ],
   "source": [
    "a = 3\n",
    "b = 2.7\n",
    "c = 'A'\n",
    "d = [1, 2.1, [1,2], 'python']\n",
    "e = 'python'\n",
    "f = (1,2,)\n",
    "g = {'key1': 1, 'key2': 'two'}\n",
    "true_or_false = True\n",
    "no_value_here = None\n",
    "\n",
    "# define new type\n",
    "class YourNewType(object):\n",
    "    def __init__(self, a, b):\n",
    "        self.a = a\n",
    "        self.b = b     \n",
    "your_type_instance = YourNewType(1, 'string')\n",
    "\n",
    "# define new function\n",
    "def do_something(param1, param2):\n",
    "    return param1 * param2\n",
    "    \n",
    "function_obj = do_something\n",
    "value_returned_from_function = do_something(1, 2)\n",
    "value_returned_from_function = function_obj(1, 2)\n",
    "\n",
    "\n",
    "# print types and value\n",
    "print(type(a), a)\n",
    "print(type(b), b)\n",
    "print(type(c), c)\n",
    "print(type(d), d)\n",
    "print(type(e), e)\n",
    "print(type(f), f)\n",
    "print(type(g), g)\n",
    "print(type(true_or_false), true_or_false)\n",
    "print(type(no_value_here), no_value_here)\n",
    "print(type(your_type_instance), your_type_instance)\n",
    "print(type(function_obj), function_obj)\n",
    "print(type(value_returned_from_function), value_returned_from_function)"
   ]
  },
  {
   "cell_type": "markdown",
   "metadata": {},
   "source": [
    "Use http://www.pythontutor.com/ to visualize how Python works. It executes step-by-step all instructions.\n",
    "\n",
    "Our example with \"Dynamic Types\": http://goo.gl/5RTtnU "
   ]
  },
  {
   "cell_type": "markdown",
   "metadata": {},
   "source": [
    "![example1](example1.png)"
   ]
  },
  {
   "cell_type": "markdown",
   "metadata": {},
   "source": [
    "### Strong Typing\n",
    "\n",
    "- the interpreter keeps track of all variables types\n",
    "- you can't perform operations inappropriate to the type of the object \n",
    "    - attempting to add numbers to strings will fail\n"
   ]
  },
  {
   "cell_type": "code",
   "execution_count": 39,
   "metadata": {
    "collapsed": false
   },
   "outputs": [
    {
     "data": {
      "text/plain": [
       "[1, 2, 3, 1, 2, 3, 1, 2, 3]"
      ]
     },
     "execution_count": 39,
     "metadata": {},
     "output_type": "execute_result"
    }
   ],
   "source": [
    "# Example: 1\n",
    "a = 3\n",
    "b = 5\n",
    "c = a + b\n",
    "\n",
    "# Example: 2\n",
    "a = 'A'\n",
    "b = 'B'\n",
    "c = a + b\n",
    "\n",
    "# Example: 3 \n",
    "[1, 2, 3] + [4, 5]\n",
    "[1,2, 3] * 3"
   ]
  },
  {
   "cell_type": "code",
   "execution_count": 40,
   "metadata": {
    "collapsed": false
   },
   "outputs": [
    {
     "ename": "TypeError",
     "evalue": "unsupported operand type(s) for +: 'int' and 'str'",
     "output_type": "error",
     "traceback": [
      "\u001b[1;31m---------------------------------------------------------------------------\u001b[0m",
      "\u001b[1;31mTypeError\u001b[0m                                 Traceback (most recent call last)",
      "\u001b[1;32m<ipython-input-40-014f90cccacc>\u001b[0m in \u001b[0;36m<module>\u001b[1;34m()\u001b[0m\n\u001b[0;32m      3\u001b[0m \u001b[0ma\u001b[0m \u001b[1;33m=\u001b[0m \u001b[1;36m3\u001b[0m\u001b[1;33m\u001b[0m\u001b[0m\n\u001b[0;32m      4\u001b[0m \u001b[0mb\u001b[0m \u001b[1;33m=\u001b[0m \u001b[1;34m'A'\u001b[0m\u001b[1;33m\u001b[0m\u001b[0m\n\u001b[1;32m----> 5\u001b[1;33m \u001b[0mc\u001b[0m \u001b[1;33m=\u001b[0m \u001b[0ma\u001b[0m \u001b[1;33m+\u001b[0m \u001b[0mb\u001b[0m\u001b[1;33m\u001b[0m\u001b[0m\n\u001b[0m",
      "\u001b[1;31mTypeError\u001b[0m: unsupported operand type(s) for +: 'int' and 'str'"
     ]
    }
   ],
   "source": [
    "# trying to change type\n",
    "\n",
    "a = 3\n",
    "b = 'A'\n",
    "c = a + b"
   ]
  },
  {
   "cell_type": "markdown",
   "metadata": {},
   "source": [
    "#### How to \"fix\" this example?\n",
    "\n",
    "Just use one of the available conversion method"
   ]
  },
  {
   "cell_type": "code",
   "execution_count": 41,
   "metadata": {
    "collapsed": false
   },
   "outputs": [
    {
     "data": {
      "text/plain": [
       "2.0"
      ]
     },
     "execution_count": 41,
     "metadata": {},
     "output_type": "execute_result"
    }
   ],
   "source": [
    "float(2)     # from integer to float "
   ]
  },
  {
   "cell_type": "code",
   "execution_count": 42,
   "metadata": {
    "collapsed": false
   },
   "outputs": [
    {
     "data": {
      "text/plain": [
       "3"
      ]
     },
     "execution_count": 42,
     "metadata": {},
     "output_type": "execute_result"
    }
   ],
   "source": [
    "int(3.4)     # from float to integer"
   ]
  },
  {
   "cell_type": "code",
   "execution_count": 43,
   "metadata": {
    "collapsed": false
   },
   "outputs": [
    {
     "data": {
      "text/plain": [
       "'3'"
      ]
     },
     "execution_count": 43,
     "metadata": {},
     "output_type": "execute_result"
    }
   ],
   "source": [
    "str(3)       # from integer to string"
   ]
  },
  {
   "cell_type": "code",
   "execution_count": 44,
   "metadata": {
    "collapsed": false
   },
   "outputs": [
    {
     "data": {
      "text/plain": [
       "'4.2'"
      ]
     },
     "execution_count": 44,
     "metadata": {},
     "output_type": "execute_result"
    }
   ],
   "source": [
    "str(4.2)     # from float to integer"
   ]
  },
  {
   "cell_type": "code",
   "execution_count": 45,
   "metadata": {
    "collapsed": false
   },
   "outputs": [
    {
     "data": {
      "text/plain": [
       "[1, 2]"
      ]
     },
     "execution_count": 45,
     "metadata": {},
     "output_type": "execute_result"
    }
   ],
   "source": [
    "list((1,2,)) # from tuple to list"
   ]
  },
  {
   "cell_type": "code",
   "execution_count": 46,
   "metadata": {
    "collapsed": false
   },
   "outputs": [
    {
     "name": "stdout",
     "output_type": "stream",
     "text": [
      "10 funny cats\n"
     ]
    }
   ],
   "source": [
    "# just use one of the conversion method, to convert between types\n",
    "a = 10\n",
    "b = \"cats\"\n",
    "str(a) + b\n",
    "\n",
    "# if you want to only print, just print without any conversion\n",
    "print(a, 'funny', b)"
   ]
  },
  {
   "cell_type": "markdown",
   "metadata": {},
   "source": [
    "**Remember**:\n",
    "> Don’t check whether it is-a duck: check whether it quacks-like-a duck, walks-like-a duck, etc, etc,\n",
    "depending on exactly what subset of duck-like behavior you need to play your language-games with. - (comp.lang.python, Jul. 26, 2000) — Alex Martelli"
   ]
  },
  {
   "cell_type": "code",
   "execution_count": 47,
   "metadata": {
    "collapsed": false
   },
   "outputs": [
    {
     "name": "stdout",
     "output_type": "stream",
     "text": [
      "Help on built-in function dir in module builtins:\n",
      "\n",
      "dir(...)\n",
      "    dir([object]) -> list of strings\n",
      "    \n",
      "    If called without an argument, return the names in the current scope.\n",
      "    Else, return an alphabetized list of names comprising (some of) the attributes\n",
      "    of the given object, and of attributes reachable from it.\n",
      "    If the object supplies a method named __dir__, it will be used; otherwise\n",
      "    the default dir() logic is used and returns:\n",
      "      for a module object: the module's attributes.\n",
      "      for a class object:  its attributes, and recursively the attributes\n",
      "        of its bases.\n",
      "      for any other object: its attributes, its class's attributes, and\n",
      "        recursively the attributes of its class's base classes.\n",
      "\n"
     ]
    }
   ],
   "source": [
    "help(dir)"
   ]
  },
  {
   "cell_type": "code",
   "execution_count": 48,
   "metadata": {
    "collapsed": false
   },
   "outputs": [
    {
     "data": {
      "text/plain": [
       "['__abs__',\n",
       " '__add__',\n",
       " '__and__',\n",
       " '__bool__',\n",
       " '__ceil__',\n",
       " '__class__',\n",
       " '__delattr__',\n",
       " '__dir__',\n",
       " '__divmod__',\n",
       " '__doc__',\n",
       " '__eq__',\n",
       " '__float__',\n",
       " '__floor__',\n",
       " '__floordiv__',\n",
       " '__format__',\n",
       " '__ge__',\n",
       " '__getattribute__',\n",
       " '__getnewargs__',\n",
       " '__gt__',\n",
       " '__hash__',\n",
       " '__index__',\n",
       " '__init__',\n",
       " '__int__',\n",
       " '__invert__',\n",
       " '__le__',\n",
       " '__lshift__',\n",
       " '__lt__',\n",
       " '__mod__',\n",
       " '__mul__',\n",
       " '__ne__',\n",
       " '__neg__',\n",
       " '__new__',\n",
       " '__or__',\n",
       " '__pos__',\n",
       " '__pow__',\n",
       " '__radd__',\n",
       " '__rand__',\n",
       " '__rdivmod__',\n",
       " '__reduce__',\n",
       " '__reduce_ex__',\n",
       " '__repr__',\n",
       " '__rfloordiv__',\n",
       " '__rlshift__',\n",
       " '__rmod__',\n",
       " '__rmul__',\n",
       " '__ror__',\n",
       " '__round__',\n",
       " '__rpow__',\n",
       " '__rrshift__',\n",
       " '__rshift__',\n",
       " '__rsub__',\n",
       " '__rtruediv__',\n",
       " '__rxor__',\n",
       " '__setattr__',\n",
       " '__sizeof__',\n",
       " '__str__',\n",
       " '__sub__',\n",
       " '__subclasshook__',\n",
       " '__truediv__',\n",
       " '__trunc__',\n",
       " '__xor__',\n",
       " 'bit_length',\n",
       " 'conjugate',\n",
       " 'denominator',\n",
       " 'from_bytes',\n",
       " 'imag',\n",
       " 'numerator',\n",
       " 'real',\n",
       " 'to_bytes']"
      ]
     },
     "execution_count": 48,
     "metadata": {},
     "output_type": "execute_result"
    }
   ],
   "source": [
    "dir(1)"
   ]
  },
  {
   "cell_type": "markdown",
   "metadata": {},
   "source": [
    "### Built-in functions\n",
    "\n",
    "- The Python interpreter has a number of functions and types built into it that are always available\n",
    "- List of all built-int functions: https://docs.python.org/3/library/functions.html"
   ]
  },
  {
   "cell_type": "code",
   "execution_count": 2,
   "metadata": {
    "collapsed": false
   },
   "outputs": [
    {
     "data": {
      "text/plain": [
       "['ArithmeticError',\n",
       " 'AssertionError',\n",
       " 'AttributeError',\n",
       " 'BaseException',\n",
       " 'BufferError',\n",
       " 'BytesWarning',\n",
       " 'DeprecationWarning',\n",
       " 'EOFError',\n",
       " 'Ellipsis',\n",
       " 'EnvironmentError',\n",
       " 'Exception',\n",
       " 'False',\n",
       " 'FloatingPointError',\n",
       " 'FutureWarning',\n",
       " 'GeneratorExit',\n",
       " 'IOError',\n",
       " 'ImportError',\n",
       " 'ImportWarning',\n",
       " 'IndentationError',\n",
       " 'IndexError',\n",
       " 'KeyError',\n",
       " 'KeyboardInterrupt',\n",
       " 'LookupError',\n",
       " 'MemoryError',\n",
       " 'NameError',\n",
       " 'None',\n",
       " 'NotImplemented',\n",
       " 'NotImplementedError',\n",
       " 'OSError',\n",
       " 'OverflowError',\n",
       " 'PendingDeprecationWarning',\n",
       " 'ReferenceError',\n",
       " 'RuntimeError',\n",
       " 'RuntimeWarning',\n",
       " 'StandardError',\n",
       " 'StopIteration',\n",
       " 'SyntaxError',\n",
       " 'SyntaxWarning',\n",
       " 'SystemError',\n",
       " 'SystemExit',\n",
       " 'TabError',\n",
       " 'True',\n",
       " 'TypeError',\n",
       " 'UnboundLocalError',\n",
       " 'UnicodeDecodeError',\n",
       " 'UnicodeEncodeError',\n",
       " 'UnicodeError',\n",
       " 'UnicodeTranslateError',\n",
       " 'UnicodeWarning',\n",
       " 'UserWarning',\n",
       " 'ValueError',\n",
       " 'Warning',\n",
       " 'ZeroDivisionError',\n",
       " '__IPYTHON__',\n",
       " '__IPYTHON__active',\n",
       " '__debug__',\n",
       " '__doc__',\n",
       " '__import__',\n",
       " '__name__',\n",
       " '__package__',\n",
       " 'abs',\n",
       " 'all',\n",
       " 'any',\n",
       " 'apply',\n",
       " 'basestring',\n",
       " 'bin',\n",
       " 'bool',\n",
       " 'buffer',\n",
       " 'bytearray',\n",
       " 'bytes',\n",
       " 'callable',\n",
       " 'chr',\n",
       " 'classmethod',\n",
       " 'cmp',\n",
       " 'coerce',\n",
       " 'compile',\n",
       " 'complex',\n",
       " 'copyright',\n",
       " 'credits',\n",
       " 'delattr',\n",
       " 'dict',\n",
       " 'dir',\n",
       " 'divmod',\n",
       " 'dreload',\n",
       " 'enumerate',\n",
       " 'eval',\n",
       " 'execfile',\n",
       " 'file',\n",
       " 'filter',\n",
       " 'float',\n",
       " 'format',\n",
       " 'frozenset',\n",
       " 'get_ipython',\n",
       " 'getattr',\n",
       " 'globals',\n",
       " 'hasattr',\n",
       " 'hash',\n",
       " 'help',\n",
       " 'hex',\n",
       " 'id',\n",
       " 'input',\n",
       " 'int',\n",
       " 'intern',\n",
       " 'isinstance',\n",
       " 'issubclass',\n",
       " 'iter',\n",
       " 'len',\n",
       " 'license',\n",
       " 'list',\n",
       " 'locals',\n",
       " 'long',\n",
       " 'map',\n",
       " 'max',\n",
       " 'memoryview',\n",
       " 'min',\n",
       " 'next',\n",
       " 'object',\n",
       " 'oct',\n",
       " 'open',\n",
       " 'ord',\n",
       " 'pow',\n",
       " 'print',\n",
       " 'property',\n",
       " 'range',\n",
       " 'raw_input',\n",
       " 'reduce',\n",
       " 'reload',\n",
       " 'repr',\n",
       " 'reversed',\n",
       " 'round',\n",
       " 'set',\n",
       " 'setattr',\n",
       " 'slice',\n",
       " 'sorted',\n",
       " 'staticmethod',\n",
       " 'str',\n",
       " 'sum',\n",
       " 'super',\n",
       " 'tuple',\n",
       " 'type',\n",
       " 'unichr',\n",
       " 'unicode',\n",
       " 'vars',\n",
       " 'xrange',\n",
       " 'zip']"
      ]
     },
     "execution_count": 2,
     "metadata": {},
     "output_type": "execute_result"
    }
   ],
   "source": [
    "import __builtin__   # import builtins - Python 3\n",
    "dir(__builtin__)"
   ]
  },
  {
   "cell_type": "code",
   "execution_count": 50,
   "metadata": {
    "collapsed": false
   },
   "outputs": [
    {
     "data": {
      "text/plain": [
       "b'\\x00\\x01'"
      ]
     },
     "execution_count": 50,
     "metadata": {},
     "output_type": "execute_result"
    }
   ],
   "source": [
    "(1).to_bytes(2, 'big')"
   ]
  },
  {
   "cell_type": "markdown",
   "metadata": {},
   "source": [
    "### The Python Conceptual Hierarchy\n",
    "\n",
    "1. Programs are composed of modules.\n",
    "2. Modules contain statements.\n",
    "3. Statements contain expressions.\n",
    "4. Expressions create and process objects.\n"
   ]
  },
  {
   "cell_type": "markdown",
   "metadata": {},
   "source": [
    "### Everything in python is an object\n",
    "\n",
    "- What is object in general?\n",
    "> objects are essentially just pieces of memory, with values and sets of associated operations\n",
    "\n",
    "- every object has an identity, a type and a value\n",
    "\n",
    "- an object’s identity never changes once it has been created\n",
    "- you may think of it as the object’s address in virtual memory\n",
    "\n",
    "- the 'is' operator compares the identity of two objects\n",
    "\n",
    "- the id() function returns an integer representing its identity\n",
    "- in CPython, id() returns the memory address of the object\n",
    "\n",
    "https://docs.python.org/3/reference/datamodel.html#objects-values-and-types "
   ]
  },
  {
   "cell_type": "code",
   "execution_count": 3,
   "metadata": {
    "collapsed": false
   },
   "outputs": [
    {
     "name": "stdout",
     "output_type": "stream",
     "text": [
      "139757233089424\n",
      "139757233088344\n",
      "('id(obj_1) == id(obj_2): ', False)\n",
      "('obj_1 == obj_2: ', True)\n",
      "('obj_1 is obj_2:', False)\n"
     ]
    }
   ],
   "source": [
    "obj_1 = [1, 2]\n",
    "obj_2 = [1, 2]\n",
    "\n",
    "print(id(obj_1))\n",
    "print(id(obj_2))\n",
    "\n",
    "print(\"id(obj_1) == id(obj_2): \", id(obj_1) == id(obj_2))\n",
    "\n",
    "print(\"obj_1 == obj_2: \", obj_1 == obj_2)\n",
    "\n",
    "print(\"obj_1 is obj_2:\", obj_1 is obj_2)"
   ]
  },
  {
   "cell_type": "code",
   "execution_count": 4,
   "metadata": {
    "collapsed": false
   },
   "outputs": [
    {
     "name": "stdout",
     "output_type": "stream",
     "text": [
      "139757233090504\n",
      "139757233090504\n",
      "('id(obj_1) == id(obj_2): ', True)\n",
      "('obj_1 == obj_2: ', True)\n",
      "('obj_1 is obj_2:', True)\n"
     ]
    }
   ],
   "source": [
    "obj_1 = [1, 2]\n",
    "obj_2 = obj_1\n",
    "\n",
    "print(id(obj_1))\n",
    "print(id(obj_2))\n",
    "\n",
    "print(\"id(obj_1) == id(obj_2): \", id(obj_1) == id(obj_2))\n",
    "\n",
    "print(\"obj_1 == obj_2: \", obj_1 == obj_2)\n",
    "\n",
    "print(\"obj_1 is obj_2:\", obj_1 is obj_2)"
   ]
  },
  {
   "cell_type": "markdown",
   "metadata": {},
   "source": [
    "**Remember**:\n",
    "> The == operator compares the values of objects (the data they hold), while 'is' compares their identities"
   ]
  },
  {
   "cell_type": "markdown",
   "metadata": {},
   "source": [
    "### Python objects - mutables vs immutable\n",
    "\n",
    "#### mutable:\n",
    "    - mutable objects can change their value but keep their id().\n",
    "\n",
    "#### immutable:\n",
    "    - an object with a fixed value\n",
    "    - immutable objects include numbers, strings and tuples\n",
    "    - such an object cannot be altered\n",
    "    - a new object has to be created if a different value has to be stored\n",
    "    - they play an important role in places where a constant hash value is needed, for example as a key in a dictionary\n",
    "    - important advantage - performance\n",
    "\n",
    ">knowing that a object is immutable means we can allocate space for it at creation time, \n",
    "and the storage requirements are fixed and unchanging.\n",
    "\n",
    "Example: http://goo.gl/N6Rw4P"
   ]
  },
  {
   "cell_type": "code",
   "execution_count": 6,
   "metadata": {
    "collapsed": false
   },
   "outputs": [
    {
     "name": "stdout",
     "output_type": "stream",
     "text": [
      "139757233090288\n",
      "139757233090288\n",
      "139757233090288\n",
      "[1, 2, 3, 4]\n",
      "[1, 2, 3, 4]\n",
      "True\n"
     ]
    }
   ],
   "source": [
    "# mutable example\n",
    "\n",
    "l1 = [1, 2, 3]\n",
    "print(id(l1))\n",
    "\n",
    "l2 = l1\n",
    "print(id(l2))\n",
    "\n",
    "l2.append(4)\n",
    "print(id(l2))\n",
    "\n",
    "print(l1)\n",
    "print(l2)\n",
    "print(l1 is l2)"
   ]
  },
  {
   "cell_type": "markdown",
   "metadata": {},
   "source": [
    "![mutable-immutable](mutable-immutable.png)"
   ]
  },
  {
   "cell_type": "code",
   "execution_count": 7,
   "metadata": {
    "collapsed": false
   },
   "outputs": [
    {
     "name": "stdout",
     "output_type": "stream",
     "text": [
      "94352483029272\n",
      "94352483029272\n",
      "94352483029248\n",
      "6\n",
      "5\n",
      "False\n"
     ]
    }
   ],
   "source": [
    "# immutable example\n",
    "\n",
    "x = 5\n",
    "print(id(x))\n",
    "\n",
    "y = x\n",
    "print(id(y))\n",
    "\n",
    "x = x + 1\n",
    "print(id(x))\n",
    "\n",
    "print(x)\n",
    "print(y)\n",
    "print(x is y)"
   ]
  },
  {
   "cell_type": "markdown",
   "metadata": {},
   "source": [
    "### Data Structures\n",
    "\n",
    "Basic data structures (most common used):\n",
    "\n",
    "#### lists \n",
    "\n",
    "> [1, 2, 'python', obj1, obj2]\n",
    " \n",
    "- sequence type - you can iterate\n",
    "- lists are mutable - can be modified in place by assignment to offsets as well as a variety of list method calls\n",
    "- can change their value but keep their ID (address in memory) - holds references to objects\n",
    "- the list type is a container\n",
    "- holds a number of other objects, in a given order\n",
    "- no fixed size - they can grow and shrink on demand, in response to list-specific operations like append. remove, ...\n",
    "- you can put into list all kind of  objects - list object is the most general sequence\n",
    "\n",
    "#### tuples \n",
    "\n",
    "> (1, 2, 'python', obj1, obj2)\n",
    " \n",
    "- like a list that cannot be changed \n",
    "- are immutable\n",
    "- are used for grouping data\n",
    "- cant add/remove elements\n",
    "- are faster than list\n",
    "- can be used as keys in dictionary\n",
    "- functionally, they’re used to represent fixed collections of items\n",
    "\n",
    "    \n",
    "#### dictionaries\n",
    "\n",
    "> {'key1': value1, 'key2': value2}\n",
    "   \n",
    "- are mutable\n",
    "- unordered collection of key-values pairs\n",
    "- no duplicate keys\n",
    "- implemented using hash table (hash value calculated from the key value)\n",
    "- keys shoud be immutable\n",
    "    \n",
    "#### sets \n",
    "\n",
    "> {1, 2, 'python', obj1, obj2}\n",
    "\n",
    "- are mutable\n",
    "- unordered collection\n",
    "- no duplicate elements\n",
    "- implemented using hash table (hash value calculated from the set's item)\n",
    "- support mathematical operations: union, intersection, difference, and symmetric difference\n",
    "- fast membership testing\n",
    "- slower than lists when it comes to iterating over their contents\n",
    "\n",
    "- time complexity: https://wiki.python.org/moin/TimeComplexity"
   ]
  },
  {
   "cell_type": "code",
   "execution_count": 55,
   "metadata": {
    "collapsed": false
   },
   "outputs": [
    {
     "name": "stdout",
     "output_type": "stream",
     "text": [
      "[2, 3, 4, 5, 6]\n",
      "[4, 5]\n",
      "[1, 2, 3, 4, 5]\n",
      "6\n",
      "True\n",
      "False\n",
      "[1, 2, 3, 4, 6, 7]\n"
     ]
    }
   ],
   "source": [
    "# lists playground\n",
    "\n",
    "# Example 1: slicing\n",
    "\n",
    "L = [1, 2, 3, 4, 5, 6]\n",
    "print(L[1:])\n",
    "print(L[3:5])\n",
    "print(L[:-1])\n",
    "print(L[-1])\n",
    "\n",
    "# Example 2: memebership checking\n",
    "\n",
    "print(4 in L)\n",
    "print(43 in L)\n",
    "\n",
    "# Example 3: add and remove elements\n",
    "L.append(7)\n",
    "L.remove(5)\n",
    "print(L)\n",
    "\n",
    "# Example 4: sorting\n",
    "L.sort()        # sort a list in place, without making a copy, returns None\n",
    "L2 = sorted(L)  # creates new sorted list and returns it, L list is not sorted"
   ]
  },
  {
   "cell_type": "code",
   "execution_count": 56,
   "metadata": {
    "collapsed": true
   },
   "outputs": [],
   "source": [
    "# Dictionaries plaground\n",
    "d = {'name': 'James', 'surname': 'Bond', 'code': 7}\n",
    "name = d['name']\n",
    "surname = d.get('surname', 'no_name')"
   ]
  },
  {
   "cell_type": "code",
   "execution_count": 6,
   "metadata": {
    "collapsed": false
   },
   "outputs": [
    {
     "name": "stdout",
     "output_type": "stream",
     "text": [
      "set([1, 2, 3, 4, 5])\n",
      "set(['a', 'c', 'b', 'e', 'd'])\n",
      "('union: ', set([1, 2, 3, 4, 5]))\n",
      "('intersection: ', set([3]))\n",
      "('difference: ', set([4, 5]))\n",
      "('symetric difference: ', set([1, 2, 4, 5]))\n"
     ]
    }
   ],
   "source": [
    "# Sets playground\n",
    "\n",
    "# Example 1\n",
    "s1 = {4,3,3,2,1,4,5,1}\n",
    "print(s1)\n",
    "\n",
    "# Example 2\n",
    "s2 = set(\"abbbbbaaaaacccccddddeeee\")\n",
    "print(s2)\n",
    "\n",
    "# Example 3\n",
    "set_1 = {1, 2, 3}\n",
    "set_2 = {3, 4, 5}\n",
    "print(\"union: \", set_1 | set_2)\n",
    "print(\"intersection: \", set_1 & set_2)\n",
    "print(\"difference: \", set_2 - set_1)\n",
    "print(\"symetric difference: \", set_1 ^ set_2)"
   ]
  },
  {
   "cell_type": "markdown",
   "metadata": {},
   "source": [
    "### Flow control\n",
    "\n",
    "#### if, elif, else\n",
    "\n",
    "```python\n",
    "\n",
    "if CONDITION:\n",
    "    do something\n",
    "elif CONDITION:\n",
    "    do something different\n",
    "elif CONDITION:\n",
    "    do something different\n",
    "else:\n",
    "     do yet something else\n",
    "```\n",
    "\n",
    "#### Loops\n",
    "\n",
    "#### for loops\n",
    "\n",
    "```python\n",
    "for value in iterable:\n",
    "    # do things\n",
    "```\n",
    "\n",
    "Example:\n",
    "```python\n",
    "items_list = [1, 'A', 'B', 3, [], [1,2,3]]\n",
    "for item in items_list:\n",
    "    print(item)\n",
    "```\n",
    "\n",
    "#### while loops\n",
    "\n",
    "```python\n",
    "x = 3\n",
    "while x > 0:\n",
    "    print(x)  #all the print statement must be in parenthesis for version 3.4.0\n",
    "    x = x - 1  #the algebra need not be done within the parenthesis\n",
    "```\n"
   ]
  },
  {
   "cell_type": "code",
   "execution_count": 58,
   "metadata": {
    "collapsed": false
   },
   "outputs": [
    {
     "name": "stdout",
     "output_type": "stream",
     "text": [
      "NO USER INPUT\n"
     ]
    }
   ],
   "source": [
    "user_input = None\n",
    "if user_input:\n",
    "    print(user_input)\n",
    "elif user_input == 'END':\n",
    "    print(\"END\")\n",
    "else:\n",
    "    print(\"NO USER INPUT\")"
   ]
  },
  {
   "cell_type": "code",
   "execution_count": 8,
   "metadata": {
    "collapsed": false
   },
   "outputs": [
    {
     "name": "stdout",
     "output_type": "stream",
     "text": [
      "False\n",
      "Cannot find number 8 in [1, 2, 3, 4, 5]\n"
     ]
    }
   ],
   "source": [
    "numbers = [1, 2, 3, 4, 5]\n",
    "\n",
    "number_to_find = 8\n",
    "print(number_to_find in numbers)\n",
    "\n",
    "if number_to_find in numbers:\n",
    "    print(\"Number {} found in {}\".format(number_to_find, numbers))\n",
    "else:\n",
    "    print(\"Cannot find number {} in {}\".format(number_to_find, numbers))"
   ]
  },
  {
   "cell_type": "markdown",
   "metadata": {},
   "source": [
    "### Functions\n",
    "\n",
    "In simple terms, a function is a device that groups a set of statements so they can be run more than once in a program—a packaged procedure invoked by name. Functions also can compute a result value and let us specify parameters that serve as function inputs and may differ each time the code is run.\n",
    "\n",
    "```python\n",
    "\n",
    "def function(arguments):\n",
    "    # do something\n",
    "    return \n",
    "```"
   ]
  },
  {
   "cell_type": "code",
   "execution_count": 10,
   "metadata": {
    "collapsed": false
   },
   "outputs": [
    {
     "name": "stdout",
     "output_type": "stream",
     "text": [
      "3\n"
     ]
    }
   ],
   "source": [
    "def add_numbers(num1, num2):\n",
    "    return num1 + num2\n",
    "\n",
    "number = add_numbers(1, 2)\n",
    "print number"
   ]
  },
  {
   "cell_type": "code",
   "execution_count": 11,
   "metadata": {
    "collapsed": false
   },
   "outputs": [
    {
     "name": "stdout",
     "output_type": "stream",
     "text": [
      "('1 + 2 = ', 3)\n",
      "('1 + 2 + 3 = ', 6)\n",
      "('1 + 2 + 3 + 4 = ', 10)\n"
     ]
    }
   ],
   "source": [
    "def add_numbers(*numbers):\n",
    "    return sum(numbers)\n",
    "\n",
    "print(\"1 + 2 = \", add_numbers(1, 2))\n",
    "print(\"1 + 2 + 3 = \", add_numbers(1, 2, 3))\n",
    "print(\"1 + 2 + 3 + 4 = \", add_numbers(1, 2, 3, 4))"
   ]
  },
  {
   "cell_type": "code",
   "execution_count": 11,
   "metadata": {
    "collapsed": false
   },
   "outputs": [
    {
     "name": "stdout",
     "output_type": "stream",
     "text": [
      "1\n",
      "2\n",
      "(3, 4, 5)\n",
      "{'param4': 4, 'param3': 3}\n"
     ]
    }
   ],
   "source": [
    "def multiple_params_test(param1=None, param2=0, *args, **kwargs):\n",
    "    if kwargs.get('param', None):\n",
    "        pass\n",
    "    print(param1)\n",
    "    print(param2)\n",
    "    print(args)\n",
    "    print(kwargs)\n",
    "    #print(param1, param2, args, kwargs)\n",
    "    \n",
    "multiple_params_test(1, 2, 3, 4, 5, param3=3, param4=4)"
   ]
  },
  {
   "cell_type": "code",
   "execution_count": 63,
   "metadata": {
    "collapsed": false
   },
   "outputs": [
    {
     "name": "stdout",
     "output_type": "stream",
     "text": [
      "0\n",
      "4\n"
     ]
    }
   ],
   "source": [
    "def add_numbers(a=0, b=0, c=None):  # default values for attributes\n",
    "    \"\"\"\n",
    "    Function add numbers\n",
    "    \"\"\"\n",
    "    if c:\n",
    "        pass\n",
    "    return a + b\n",
    "\n",
    "print(add_numbers())\n",
    "print(add_numbers(2, 2))"
   ]
  },
  {
   "cell_type": "markdown",
   "metadata": {},
   "source": [
    "### Functions in Python are first-class objects\n",
    "\n",
    "- created at runtime\n",
    "- assigned to a variable or element in a data structure\n",
    "- passed as an argument to a function\n",
    "- returned as the result of a function\n",
    "\n",
    "- integers, strings, and dictionaries are other examples of first-class objects in Python"
   ]
  },
  {
   "cell_type": "code",
   "execution_count": 64,
   "metadata": {
    "collapsed": false
   },
   "outputs": [
    {
     "name": "stdout",
     "output_type": "stream",
     "text": [
      "function name:  do_something\n",
      "1\n",
      "python\n",
      "<function do_something at 0x0102F198>\n",
      "<function do_something at 0x0102F198>\n"
     ]
    }
   ],
   "source": [
    "def do_something(param1):\n",
    "    return param1\n",
    "\n",
    "# remember: functions are object\n",
    "print(\"function name: \", do_something.__name__)\n",
    "\n",
    "value_returned_by_function = do_something(param1=1) # call function\n",
    "\n",
    "function_object = do_something # Notice: there is no braces '()', just function name\n",
    "dir(function_object)\n",
    "\n",
    "objects_storage = [1, 'python', do_something, function_object]\n",
    "\n",
    "for obj in objects_storage:\n",
    "    print(obj)"
   ]
  },
  {
   "cell_type": "code",
   "execution_count": 65,
   "metadata": {
    "collapsed": false,
    "scrolled": true
   },
   "outputs": [
    {
     "data": {
      "text/plain": [
       "['__annotations__',\n",
       " '__call__',\n",
       " '__class__',\n",
       " '__closure__',\n",
       " '__code__',\n",
       " '__defaults__',\n",
       " '__delattr__',\n",
       " '__dict__',\n",
       " '__dir__',\n",
       " '__doc__',\n",
       " '__eq__',\n",
       " '__format__',\n",
       " '__ge__',\n",
       " '__get__',\n",
       " '__getattribute__',\n",
       " '__globals__',\n",
       " '__gt__',\n",
       " '__hash__',\n",
       " '__init__',\n",
       " '__kwdefaults__',\n",
       " '__le__',\n",
       " '__lt__',\n",
       " '__module__',\n",
       " '__name__',\n",
       " '__ne__',\n",
       " '__new__',\n",
       " '__qualname__',\n",
       " '__reduce__',\n",
       " '__reduce_ex__',\n",
       " '__repr__',\n",
       " '__setattr__',\n",
       " '__sizeof__',\n",
       " '__str__',\n",
       " '__subclasshook__']"
      ]
     },
     "execution_count": 65,
     "metadata": {},
     "output_type": "execute_result"
    }
   ],
   "source": [
    "dir(do_something)"
   ]
  },
  {
   "cell_type": "code",
   "execution_count": 66,
   "metadata": {
    "collapsed": false
   },
   "outputs": [
    {
     "name": "stdout",
     "output_type": "stream",
     "text": [
      "a\n",
      "b\n",
      "c\n"
     ]
    }
   ],
   "source": [
    "def print_a(): print('a')\n",
    "def print_b(): print('b')\n",
    "def print_c(): print('c')\n",
    "    \n",
    "function_storage = [print_a, print_b, print_c]\n",
    "\n",
    "for fn in function_storage:\n",
    "    fn()  # run each function from 'function_storage' list"
   ]
  },
  {
   "cell_type": "code",
   "execution_count": 67,
   "metadata": {
    "collapsed": false
   },
   "outputs": [
    {
     "name": "stdout",
     "output_type": "stream",
     "text": [
      "do something\n"
     ]
    }
   ],
   "source": [
    "def run_function(function):\n",
    "    return function()\n",
    "    \n",
    "def function_to_run(): print(\"do something\")\n",
    "    \n",
    "run_function(function_to_run)"
   ]
  },
  {
   "cell_type": "code",
   "execution_count": 68,
   "metadata": {
    "collapsed": false
   },
   "outputs": [
    {
     "name": "stdout",
     "output_type": "stream",
     "text": [
      "a\n"
     ]
    }
   ],
   "source": [
    "# swtich\n",
    "\n",
    "user_actions = {\n",
    "    'click_button_a': print_a,\n",
    "    'click_button_b': print_b,\n",
    "    'click_button_c': print_c}\n",
    "\n",
    "user_choose = 'click_button_a'\n",
    "\n",
    "user_actions[user_choose]()"
   ]
  },
  {
   "cell_type": "markdown",
   "metadata": {},
   "source": [
    "### Function parameters: call by value or by reference?\n",
    "\n",
    "- it is called “object reference” or \"by sharing\"\n",
    "\n",
    "- call by sharing means that each formal parameter of the function gets a copy of each reference in the arguments\n",
    "- the parameters inside the function become aliases of the actual arguments\n",
    "\n",
    "- the result of this scheme is that a function may change any mutable object passed as a parameter\n",
    "- but it cannot change the identity of those objects (i.e., it cannot altogether replace an object with another).\n",
    "\n",
    "- best example: http://goo.gl/uWjZuT\n",
    "\n",
    "- good explanation:\n",
    "- http://robertheaton.com/2014/02/09/pythons-pass-by-object-reference-as-explained-by-philip-k-dick/ \n",
    "- http://effbot.org/zone/call-by-object.htm\n",
    "- https://jeffknupp.com/blog/2012/11/13/is-python-callbyvalue-or-callbyreference-neither/"
   ]
  },
  {
   "cell_type": "code",
   "execution_count": 69,
   "metadata": {
    "collapsed": false
   },
   "outputs": [
    {
     "name": "stdout",
     "output_type": "stream",
     "text": [
      "result:  [1, 2, 3, 4]\n",
      "[1, 2, 3, 4]\n",
      "[3, 4]\n"
     ]
    }
   ],
   "source": [
    "def f(a, b):\n",
    "    a = a + b\n",
    "    return a    \n",
    "\n",
    "x = [1,2]\n",
    "y = [3,4]\n",
    "result = f(x, y)\n",
    "print(\"result: \", result)\n",
    "\n",
    "# what happend with x value?\n",
    "print(x)\n",
    "print(y)"
   ]
  },
  {
   "cell_type": "markdown",
   "metadata": {},
   "source": [
    "![example3](example2.png)"
   ]
  },
  {
   "cell_type": "markdown",
   "metadata": {},
   "source": [
    "How to \"fix\" this? What you should do to keep this x list without modification?"
   ]
  },
  {
   "cell_type": "code",
   "execution_count": 70,
   "metadata": {
    "collapsed": false
   },
   "outputs": [
    {
     "name": "stdout",
     "output_type": "stream",
     "text": [
      "result:  [1, 2, 3, 4]\n",
      "[1, 2]\n",
      "[3, 4]\n"
     ]
    }
   ],
   "source": [
    "def f(a, b):\n",
    "    new_obj_a = a\n",
    "    new_obj_b = b\n",
    "    \n",
    "    new_obj_a = new_obj_a + new_obj_b\n",
    "    return new_obj_a\n",
    "\n",
    "x = [1,2]\n",
    "y = [3,4]\n",
    "result = f(x, y)\n",
    "print(\"result: \", result)\n",
    "\n",
    "# what happend with x value?\n",
    "print(x)\n",
    "print(y)"
   ]
  },
  {
   "cell_type": "markdown",
   "metadata": {},
   "source": [
    "![example3](example3.png)"
   ]
  },
  {
   "cell_type": "code",
   "execution_count": 71,
   "metadata": {
    "collapsed": true
   },
   "outputs": [],
   "source": [
    "def f(a, b):\n",
    "    new_obj_a = a[:]\n",
    "    new_obj_b = b[:]\n",
    "    a.append(2)\n",
    "    new_obj_a = new_obj_a + new_obj_b\n",
    "    return new_obj_a\n",
    "\n",
    "x = [1,2]\n",
    "y = [3,4]\n",
    "result = f(x, y)\n",
    "\n",
    "# http://goo.gl/VO153U "
   ]
  },
  {
   "cell_type": "markdown",
   "metadata": {},
   "source": [
    "![example4](example4.png)"
   ]
  },
  {
   "cell_type": "markdown",
   "metadata": {},
   "source": [
    "### Copying objects in Python\n",
    "\n",
    "- copies are shallow by default!\n",
    "\n",
    "- using the constructor or [:] produces a shallow copy \n",
    "- the copy is filled with references to the same items held by the original container\n",
    "- this saves memory and causes no problems if all the items are immutable\n",
    "- if there are mutable items, this may lead to unpleasant surprises\n",
    "\n",
    "\n",
    "* Example 1: http://goo.gl/P3wj4O\n",
    "* Example 2: http://goo.gl/nIOz1U"
   ]
  },
  {
   "cell_type": "code",
   "execution_count": 17,
   "metadata": {
    "collapsed": false
   },
   "outputs": [
    {
     "name": "stdout",
     "output_type": "stream",
     "text": [
      "AFTER COPY:\n",
      "('l1:', [3, [66, 55, 44], (7, 8, 9)])\n",
      "('l2:', [3, [66, 55, 44], (7, 8, 9)])\n",
      "\n",
      "AFTER L1 updates:\n",
      "('l1:', [3, [66, 44], (7, 8, 9), 100])\n",
      "('l2:', [3, [66, 44], (7, 8, 9)])\n",
      "\n",
      "AFTER L2 updates:\n",
      "('l1:', [3, [66, 44, 33, 22], (7, 8, 9), 100])\n",
      "('l2:', [3, [66, 44, 33, 22], (7, 8, 9, 10, 11)])\n"
     ]
    }
   ],
   "source": [
    "l1 = [3, [66, 55, 44], (7, 8, 9)]\n",
    "l2 = list(l1)\n",
    "\n",
    "print(\"AFTER COPY:\")\n",
    "print('l1:', l1)\n",
    "print('l2:', l2)\n",
    "\n",
    "\n",
    "print(\"\\nAFTER L1 updates:\")\n",
    "l1.append(100) \n",
    "l1[1].remove(55)\n",
    "\n",
    "print('l1:', l1)\n",
    "print('l2:', l2)\n",
    "\n",
    "\n",
    "print(\"\\nAFTER L2 updates:\")\n",
    "\n",
    "l2[1] += [33, 22]\n",
    "l2[2] += (10, 11)\n",
    "\n",
    "\n",
    "print('l1:', l1)\n",
    "print('l2:', l2)"
   ]
  },
  {
   "cell_type": "markdown",
   "metadata": {},
   "source": [
    "![example5](example5.png)"
   ]
  },
  {
   "cell_type": "code",
   "execution_count": 19,
   "metadata": {
    "collapsed": false
   },
   "outputs": [
    {
     "name": "stdout",
     "output_type": "stream",
     "text": [
      "AFTER COPY:\n",
      "('l1:', [3, [66, 55, 44], (7, 8, 9)])\n",
      "('l2:', [3, [66, 55, 44], (7, 8, 9)])\n",
      "\n",
      "AFTER L1 updates:\n",
      "('l1:', [3, [66, 44], (7, 8, 9), 100])\n",
      "('l2:', [3, [66, 55, 44], (7, 8, 9)])\n",
      "\n",
      "AFTER L2 updates:\n",
      "('l1:', [3, [66, 44], (7, 8, 9), 100])\n",
      "('l2:', [3, [66, 55, 44, 33, 22], (7, 8, 9, 10, 11)])\n"
     ]
    }
   ],
   "source": [
    "# Solution is to use deepcopy\n",
    "\n",
    "from copy import deepcopy\n",
    "\n",
    "l1 = [3, [66, 55, 44], (7, 8, 9)]\n",
    "l2 = deepcopy(l1)\n",
    "\n",
    "print(\"AFTER COPY:\")\n",
    "print('l1:', l1)\n",
    "print('l2:', l2)\n",
    "\n",
    "\n",
    "print(\"\\nAFTER L1 updates:\")\n",
    "l1.append(100) \n",
    "l1[1].remove(55)\n",
    "\n",
    "print('l1:', l1)\n",
    "print('l2:', l2)\n",
    "\n",
    "\n",
    "print(\"\\nAFTER L2 updates:\")\n",
    "\n",
    "l2[1] += [33, 22]\n",
    "l2[2] += (10, 11)\n",
    "\n",
    "\n",
    "print('l1:', l1)\n",
    "print('l2:', l2)"
   ]
  },
  {
   "cell_type": "markdown",
   "metadata": {},
   "source": [
    "### Reading and writing files\n",
    "\n",
    "We have four basic operations:\n",
    "\n",
    "- Open\n",
    "    - returns a file object\n",
    "    - open modes: r (read), w (write), r+ (read and write), a (append)\n",
    "    \n",
    "```python\n",
    "f = open('filename', 'r+')\n",
    "```\n",
    "\n",
    "- Read\n",
    "    - read strings from file\n",
    "    - open returns file object (interator) so we can use file object like sequence\n",
    "\n",
    "Example 1:\n",
    "```python\n",
    "f = open('filename', 'r')\n",
    "f.read()\n",
    "f.close()\n",
    "```\n",
    "\n",
    "Example 2:\n",
    "```python\n",
    "f = open('filename', 'r')\n",
    "for line in f:\n",
    "    print line\n",
    "```\n",
    "\n",
    "- Write\n",
    "\n",
    "```python\n",
    "f = open('filename', 'w')\n",
    "f.write('first line\\n')\n",
    "f.close()\n",
    "```\n",
    "\n",
    "- Close\n",
    "    - close and free up any system resources taken up by the open file\n",
    "    - file object cannot be used after closing operation"
   ]
  },
  {
   "cell_type": "code",
   "execution_count": 73,
   "metadata": {
    "collapsed": false
   },
   "outputs": [
    {
     "name": "stdout",
     "output_type": "stream",
     "text": [
      "f.mode   -> w\n",
      "f.closed -> False\n",
      "f.name   -> file_to_write\n",
      "-> closing file\n",
      "f.close  -> True\n"
     ]
    }
   ],
   "source": [
    "f = open('file_to_write', 'w')\n",
    "\n",
    "print('f.mode   ->', f.mode)      # access mode\n",
    "print('f.closed ->', f.closed)    # is file closed\n",
    "print('f.name   ->', f.name)      # file name\n",
    "\n",
    "f.close()\n",
    "print('-> closing file')\n",
    "print('f.close  ->', f.closed)    # is file closed"
   ]
  },
  {
   "cell_type": "code",
   "execution_count": 74,
   "metadata": {
    "collapsed": false
   },
   "outputs": [],
   "source": [
    "# Example: writing to file\n",
    "\n",
    "# need to open file -> open(file_name, mode)\n",
    "f = open('test_file', 'w')\n",
    "\n",
    "f.write('write first line to file\\n')\n",
    "f.write('write second line to file\\n')\n",
    "\n",
    "# writelines expects a list of strings, while write expects a single string\n",
    "\n",
    "save_to_file = [\n",
    "    'third line\\n',\n",
    "    'fourth line \\n'\n",
    "]\n",
    "\n",
    "f.writelines(save_to_file)\n",
    "\n",
    "# remember to close file\n",
    "f.close()"
   ]
  },
  {
   "cell_type": "code",
   "execution_count": 75,
   "metadata": {
    "collapsed": false
   },
   "outputs": [
    {
     "name": "stdout",
     "output_type": "stream",
     "text": [
      "write first line to file\n",
      "write second line to file\n",
      "third line\n",
      "fourth line \n",
      "\n"
     ]
    }
   ],
   "source": [
    "# Example: reading from file\n",
    "\n",
    "f = open('test_file', 'r')\n",
    "\n",
    "print(f.read())\n",
    "\n",
    "f.close()"
   ]
  },
  {
   "cell_type": "code",
   "execution_count": 76,
   "metadata": {
    "collapsed": false
   },
   "outputs": [
    {
     "name": "stdout",
     "output_type": "stream",
     "text": [
      "write first line to file\n",
      "\n",
      "write second line to file\n",
      "\n",
      "third line\n",
      "\n",
      "fourth line \n",
      "\n"
     ]
    }
   ],
   "source": [
    "# Example: reading from file using for loop\n",
    "\n",
    "f = open('test_file', 'r')\n",
    "for line in f:\n",
    "    print(line)"
   ]
  },
  {
   "cell_type": "code",
   "execution_count": 77,
   "metadata": {
    "collapsed": false
   },
   "outputs": [
    {
     "name": "stdout",
     "output_type": "stream",
     "text": [
      "one\n",
      "two\n",
      "\n"
     ]
    }
   ],
   "source": [
    "# Ezample: context managers for handling file I/O operations\n",
    "\n",
    "with open('test_file', 'w') as f:\n",
    "    f.write('one\\n')\n",
    "    f.write('two\\n')\n",
    "    \n",
    "with open('test_file', 'r') as f:\n",
    "    print(f.read())"
   ]
  },
  {
   "cell_type": "markdown",
   "metadata": {},
   "source": [
    "### Exceptions\n",
    "\n",
    "> Easier to ask for forgiveness than permission\n",
    "\n",
    "#### What is exception?\n",
    "- events that can modify the flow of control through a program\n",
    "- are triggered automatically on errors\n",
    "- what is error?\n",
    "    - syntax error -> parsing error, syntactically incorrect\n",
    "    - exception - statement or expression syntactically correct, errors detecting during execution\n",
    "\n",
    "\n",
    "#### How to handle with exceptions?\n",
    "\n",
    "- Use try/except block to catch and recover from exceptions \n",
    "```python\n",
    "try:\n",
    "    # code that will break (will throw exception)\n",
    "    x = 1/0\n",
    "except EXCEPTION as E:\n",
    "    #do something with exception\n",
    "    print E\n",
    "```\n",
    "\n",
    "- Use try/finally block to perform cleanup actions, whether exception occurs or not\n",
    "```python\n",
    "try:\n",
    "    f = open('file', 'r')\n",
    "    # do something with file\n",
    "finally:\n",
    "    f.close()  # always invoke close\n",
    "```\n",
    "\n",
    "- Use raise statement to raise exception manually\n",
    "```python\n",
    "raise RuntimeError()\n",
    "```\n",
    "\n",
    "#### Built-in Exceptions (most common)\n",
    "\n",
    "- ImportError -> raised when an import statement fails to find the module definition\n",
    "- IndexError  -> raised when a sequence subscript is out of range, e.g: index[1000]\n",
    "- StopIteration -> signal that there are no further items produced by the iterator e.g: for loop\n",
    "- SyntaxError -> raised when the parser encounters a syntax error\n",
    "- IOError -> raised when input or output fails, for example if a disk fills up or an input file does not exist\n",
    "- KeyError -> raised when a value is not found as a key of a dictionary\n",
    "\n",
    "#### Assertions\n",
    "\n",
    "- used to verify program conditions during development\n",
    "- assert statements may be removed from a compiled program’s byte code - need to execute python program with -O flag\n",
    "\n",
    "```python\n",
    "def f(x):\n",
    "    assert x < 0, 'x must be negative' # if not it will raise AssertionError\n",
    "    return x ** 2\n",
    "```\n",
    "\n",
    "\n",
    "Source:\n",
    "- https://docs.python.org/3/tutorial/errors.html\n",
    "- https://docs.python.org/3/library/exceptions.html\n",
    "- https://pymotw.com/2/exceptions/"
   ]
  },
  {
   "cell_type": "code",
   "execution_count": 18,
   "metadata": {
    "collapsed": false
   },
   "outputs": [
    {
     "name": "stdout",
     "output_type": "stream",
     "text": [
      "Cannot find such module\n"
     ]
    }
   ],
   "source": [
    "try:\n",
    "    import module_does_not_exist\n",
    "except ImportError as exc:\n",
    "    print(\"Cannot find such module\")\n",
    "    import math"
   ]
  },
  {
   "cell_type": "code",
   "execution_count": 20,
   "metadata": {
    "collapsed": false
   },
   "outputs": [
    {
     "name": "stdout",
     "output_type": "stream",
     "text": [
      "error\n"
     ]
    }
   ],
   "source": [
    "numbers = [0, 1, 2, 3, 4, 5, 6, 7, 8, 9] # We have 10 elements in this list\n",
    "try:\n",
    " print(numbers[11]) # ask for 11th element\n",
    "except IndexError:\n",
    "    print(\"error\")"
   ]
  },
  {
   "cell_type": "code",
   "execution_count": 80,
   "metadata": {
    "collapsed": false
   },
   "outputs": [
    {
     "ename": "KeyError",
     "evalue": "'key_not_exist'",
     "output_type": "error",
     "traceback": [
      "\u001b[1;31m---------------------------------------------------------------------------\u001b[0m",
      "\u001b[1;31mKeyError\u001b[0m                                  Traceback (most recent call last)",
      "\u001b[1;32m<ipython-input-80-eeb7c35bb8db>\u001b[0m in \u001b[0;36m<module>\u001b[1;34m()\u001b[0m\n\u001b[0;32m      6\u001b[0m \u001b[0mmy_dictionary\u001b[0m\u001b[1;33m[\u001b[0m\u001b[1;34m'key_one'\u001b[0m\u001b[1;33m]\u001b[0m \u001b[1;31m# prints 1\u001b[0m\u001b[1;33m\u001b[0m\u001b[0m\n\u001b[0;32m      7\u001b[0m \u001b[0mmy_dictionary\u001b[0m\u001b[1;33m[\u001b[0m\u001b[1;34m'key_two'\u001b[0m\u001b[1;33m]\u001b[0m \u001b[1;31m# prints 2\u001b[0m\u001b[1;33m\u001b[0m\u001b[0m\n\u001b[1;32m----> 8\u001b[1;33m \u001b[0mmy_dictionary\u001b[0m\u001b[1;33m[\u001b[0m\u001b[1;34m'key_not_exist'\u001b[0m\u001b[1;33m]\u001b[0m \u001b[1;31m# error\u001b[0m\u001b[1;33m\u001b[0m\u001b[0m\n\u001b[0m",
      "\u001b[1;31mKeyError\u001b[0m: 'key_not_exist'"
     ]
    }
   ],
   "source": [
    "my_dictionary = {\n",
    "    'key_one': 1,\n",
    "    'key_two': 2,\n",
    "}\n",
    "\n",
    "my_dictionary['key_one'] # prints 1\n",
    "my_dictionary['key_two'] # prints 2\n",
    "my_dictionary['key_not_exist'] # error"
   ]
  },
  {
   "cell_type": "code",
   "execution_count": 81,
   "metadata": {
    "collapsed": false
   },
   "outputs": [
    {
     "name": "stdout",
     "output_type": "stream",
     "text": [
      "division by zero\n"
     ]
    }
   ],
   "source": [
    "try:\n",
    "    x = 1/0\n",
    "except ZeroDivisionError as err:\n",
    "    print(err)"
   ]
  },
  {
   "cell_type": "code",
   "execution_count": 82,
   "metadata": {
    "collapsed": false
   },
   "outputs": [
    {
     "ename": "ZeroDivisionError",
     "evalue": "division by zero, oh no!",
     "output_type": "error",
     "traceback": [
      "\u001b[1;31m---------------------------------------------------------------------------\u001b[0m",
      "\u001b[1;31mZeroDivisionError\u001b[0m                         Traceback (most recent call last)",
      "\u001b[1;32m<ipython-input-82-e2a553eb50ad>\u001b[0m in \u001b[0;36m<module>\u001b[1;34m()\u001b[0m\n\u001b[1;32m----> 1\u001b[1;33m \u001b[1;32mraise\u001b[0m \u001b[0mZeroDivisionError\u001b[0m\u001b[1;33m(\u001b[0m\u001b[1;34m'division by zero, oh no!'\u001b[0m\u001b[1;33m)\u001b[0m\u001b[1;33m\u001b[0m\u001b[0m\n\u001b[0m",
      "\u001b[1;31mZeroDivisionError\u001b[0m: division by zero, oh no!"
     ]
    }
   ],
   "source": [
    "raise ZeroDivisionError('division by zero, oh no!')"
   ]
  },
  {
   "cell_type": "code",
   "execution_count": 83,
   "metadata": {
    "collapsed": false
   },
   "outputs": [
    {
     "name": "stdout",
     "output_type": "stream",
     "text": [
      "division by zero, oh no!\n"
     ]
    }
   ],
   "source": [
    "try:\n",
    "    raise ZeroDivisionError('division by zero, oh no!')\n",
    "except ZeroDivisionError as err:\n",
    "    print(err)"
   ]
  },
  {
   "cell_type": "code",
   "execution_count": 84,
   "metadata": {
    "collapsed": false
   },
   "outputs": [
    {
     "ename": "FileNotFoundError",
     "evalue": "[Errno 2] No such file or directory: 'not_exist'",
     "output_type": "error",
     "traceback": [
      "\u001b[1;31m---------------------------------------------------------------------------\u001b[0m",
      "\u001b[1;31mFileNotFoundError\u001b[0m                         Traceback (most recent call last)",
      "\u001b[1;32m<ipython-input-84-0f991b6cf804>\u001b[0m in \u001b[0;36m<module>\u001b[1;34m()\u001b[0m\n\u001b[1;32m----> 1\u001b[1;33m \u001b[0mf\u001b[0m \u001b[1;33m=\u001b[0m \u001b[0mopen\u001b[0m\u001b[1;33m(\u001b[0m\u001b[1;34m\"not_exist\"\u001b[0m\u001b[1;33m,\u001b[0m \u001b[1;34m'r'\u001b[0m\u001b[1;33m)\u001b[0m\u001b[1;33m\u001b[0m\u001b[0m\n\u001b[0m",
      "\u001b[1;31mFileNotFoundError\u001b[0m: [Errno 2] No such file or directory: 'not_exist'"
     ]
    }
   ],
   "source": [
    "f = open(\"not_exist\", 'r')"
   ]
  },
  {
   "cell_type": "code",
   "execution_count": 85,
   "metadata": {
    "collapsed": false
   },
   "outputs": [
    {
     "name": "stdout",
     "output_type": "stream",
     "text": [
      "File not found: [Errno 2] No such file or directory: 'not_exist'\n",
      "Finally executed\n"
     ]
    }
   ],
   "source": [
    "try:\n",
    "    f = open(\"not_exist\", 'r')\n",
    "except FileNotFoundError as err:\n",
    "    print(\"File not found:\", err)\n",
    "except IOError as err:\n",
    "    print(\"IOError:\", err)\n",
    "finally:\n",
    "    print(\"Finally executed\")\n",
    "    f.close()"
   ]
  },
  {
   "cell_type": "code",
   "execution_count": 86,
   "metadata": {
    "collapsed": false
   },
   "outputs": [
    {
     "name": "stdout",
     "output_type": "stream",
     "text": [
      "finally\n"
     ]
    }
   ],
   "source": [
    "def fn():\n",
    "    try:\n",
    "        return\n",
    "        print(1)\n",
    "    except:\n",
    "        pass\n",
    "    finally:\n",
    "        print(\"finally\")\n",
    "        \n",
    "fn()"
   ]
  },
  {
   "cell_type": "markdown",
   "metadata": {},
   "source": [
    "### Modules\n",
    "\n",
    "- Every file of Python source code whose name ends in a .py extension is a module\n",
    "- Other files can access the items a module defines by importing that module\n",
    "- Import operation essentially loads another file (module)\n",
    "    - imports must find files, compile them to byte code, and run the code\n",
    "\n",
    "- More specifically, modules have at least three roles:\n",
    "1. Code reuse\n",
    "2. System namespace partitioning\n",
    "3. Implementing shared services or data (e.g: global object)\n",
    "\n",
    "> modules provide an easy way to organize components into a system by serving as self-contained packages of variables known as namespaces\n",
    "\n",
    "\n",
    "#### Import operation\n",
    "\n",
    "- Import operations essentially load another file and grant access to that file’s contents\n",
    "- Python searches for imported modules in every directory listed in sys.path\n",
    "\n",
    "> imports are not just textual insertions of one file into another. They are really runtime operations that perform three distinct steps the first time a program imports a given file:\n",
    "Python does this by storing loaded modules in a table named sys.modules and checking there at the start of an import operation. If the module is not present, a three-step process begins:\n",
    "1. Find the module’s file.\n",
    "2. Compile it to byte code (if needed).\n",
    "3. Run the module’s code to build the objects it defines.\n",
    "\n",
    "\n",
    "##### Import search path\n",
    "\n",
    "The Module Search Path:\n",
    "1. The home directory of the program (automatic)\n",
    "2. PYTHONPATH directories (if set)\n",
    "3. Standard library directories\n",
    "4. The contents of any .pth files (if present)\n",
    "5. The site-packages home of third-party extensions\n",
    "\n",
    "    \n",
    "##### Python modules - examples:\n",
    "\n",
    "- my_lib.py\n",
    "\n",
    "```python\n",
    "\n",
    "ATTRIBUTE_ONE = \"attribute_one\"\n",
    "LIST_OF_NUMBERS = [1, 2, 3, 4]\n",
    "\n",
    "def do_something(*args):\n",
    "    return *args\n",
    "    \n",
    "def do_something_complicated(*args):\n",
    "    return 2 + 2\n",
    "    \n",
    "if __name__ == \"__main__\":\n",
    "    do_something(1, 2, 3)\n",
    "\n",
    "```\n",
    "\n",
    "- my_script.py\n",
    "\n",
    "```python\n",
    "\n",
    "from my_lib import do_something\n",
    "\n",
    "do_something(5, 6, 7)\n",
    "\n",
    "print my_lib.ATTRIBUTE_ONE\n",
    "```"
   ]
  },
  {
   "cell_type": "code",
   "execution_count": 87,
   "metadata": {
    "collapsed": true
   },
   "outputs": [],
   "source": [
    "import collections\n",
    "\n",
    "from collections import OrderedDict\n",
    "\n",
    "from collections import OrderedDict as ordered_dict"
   ]
  },
  {
   "cell_type": "code",
   "execution_count": 88,
   "metadata": {
    "collapsed": false
   },
   "outputs": [
    {
     "data": {
      "text/plain": [
       "<module 'math' (built-in)>"
      ]
     },
     "execution_count": 88,
     "metadata": {},
     "output_type": "execute_result"
    }
   ],
   "source": [
    "import math\n",
    "\n",
    "from imp import reload\n",
    "reload(math)"
   ]
  },
  {
   "cell_type": "code",
   "execution_count": 89,
   "metadata": {
    "collapsed": false
   },
   "outputs": [
    {
     "ename": "ImportError",
     "evalue": "No module named 'A'",
     "output_type": "error",
     "traceback": [
      "\u001b[1;31m---------------------------------------------------------------------------\u001b[0m",
      "\u001b[1;31mImportError\u001b[0m                               Traceback (most recent call last)",
      "\u001b[1;32m<ipython-input-89-88da6c685000>\u001b[0m in \u001b[0;36m<module>\u001b[1;34m()\u001b[0m\n\u001b[1;32m----> 1\u001b[1;33m \u001b[1;32mfrom\u001b[0m \u001b[0mA\u001b[0m \u001b[1;32mimport\u001b[0m \u001b[0mfunc\u001b[0m\u001b[1;33m\u001b[0m\u001b[0m\n\u001b[0m\u001b[0;32m      2\u001b[0m \u001b[1;32mfrom\u001b[0m \u001b[0mB\u001b[0m \u001b[1;32mimport\u001b[0m \u001b[0mfunc\u001b[0m             \u001b[1;31m# This overwrites function we fetched from A\u001b[0m\u001b[1;33m\u001b[0m\u001b[0m\n\u001b[0;32m      3\u001b[0m \u001b[0mfunc\u001b[0m\u001b[1;33m(\u001b[0m\u001b[1;33m)\u001b[0m                         \u001b[1;31m# It calls A.func() only\u001b[0m\u001b[1;33m\u001b[0m\u001b[0m\n\u001b[0;32m      4\u001b[0m \u001b[1;33m\u001b[0m\u001b[0m\n\u001b[0;32m      5\u001b[0m \u001b[1;31m# How to fix this?\u001b[0m\u001b[1;33m\u001b[0m\u001b[1;33m\u001b[0m\u001b[0m\n",
      "\u001b[1;31mImportError\u001b[0m: No module named 'A'"
     ]
    }
   ],
   "source": [
    "from A import func\n",
    "from B import func             # This overwrites function we fetched from A\n",
    "func()                         # It calls A.func() only\n",
    "\n",
    "# How to fix this?\n",
    "\n",
    "from A import func as afunc    # Rename uniquely with \"as\"\n",
    "from B import func as bfunc\n",
    "afunc()\n",
    "bfunc()               "
   ]
  },
  {
   "cell_type": "markdown",
   "metadata": {},
   "source": [
    "### Garbage collector\n",
    "\n",
    "Python has a feature known as garbage collection that cleans up unused memory as your program runs and frees you from having to manage such details in your code.\n",
    "\n",
    "\n",
    "- When we lose the last reference to the object by assigning its variable to something else, all of the memory space occupied by that object’s structure is automatically cleaned up for us\n",
    "\n",
    "- Technically speaking, Python’s garbage collection is based mainly upon reference counters\n",
    "\n",
    "\n",
    "##### How to check pointers to object (number of references)?\n",
    "\n",
    "```python\n",
    ">>> import sys\n",
    ">>> sys.getrefcount(1)    # 647 pointers to this shared piece of memory\n",
    "```\n"
   ]
  },
  {
   "cell_type": "markdown",
   "metadata": {},
   "source": [
    "### Better to know ...\n",
    "\n",
    "- Python cannot run programms in parallel - there is a global mutex (Global Interperer Lock)\n",
    "- GIL ensures that only one thread runs in the interperter at once\n",
    "- sources:\n",
    "    - https://wiki.python.org/moin/GlobalInterpreterLock\n",
    "    - http://www.dabeaz.com/python/UnderstandingGIL.pdf\n",
    "- we have GIL only in CPython implementaion\n",
    "    - you can use others python implemention: Jython, IronPython, PyPy\n",
    "    "
   ]
  },
  {
   "cell_type": "markdown",
   "metadata": {},
   "source": [
    "### How to learn Python?\n",
    "\n",
    "\n",
    "- first, master the fundamentals\n",
    "\n",
    "- python official documentation: https://docs.python.org/3/\n",
    "- well writen python tutorial: https://docs.python.org/3/tutorial/index.html \n",
    "- coding standard, style guide - pep8: https://www.python.org/dev/peps/pep-0008/ \n",
    "- visualize execution of code: http://www.pythontutor.com/"
   ]
  },
  {
   "cell_type": "code",
   "execution_count": 90,
   "metadata": {
    "collapsed": false
   },
   "outputs": [
    {
     "name": "stdout",
     "output_type": "stream",
     "text": [
      "The Zen of Python, by Tim Peters\n",
      "\n",
      "Beautiful is better than ugly.\n",
      "Explicit is better than implicit.\n",
      "Simple is better than complex.\n",
      "Complex is better than complicated.\n",
      "Flat is better than nested.\n",
      "Sparse is better than dense.\n",
      "Readability counts.\n",
      "Special cases aren't special enough to break the rules.\n",
      "Although practicality beats purity.\n",
      "Errors should never pass silently.\n",
      "Unless explicitly silenced.\n",
      "In the face of ambiguity, refuse the temptation to guess.\n",
      "There should be one-- and preferably only one --obvious way to do it.\n",
      "Although that way may not be obvious at first unless you're Dutch.\n",
      "Now is better than never.\n",
      "Although never is often better than *right* now.\n",
      "If the implementation is hard to explain, it's a bad idea.\n",
      "If the implementation is easy to explain, it may be a good idea.\n",
      "Namespaces are one honking great idea -- let's do more of those!\n"
     ]
    }
   ],
   "source": [
    "import this"
   ]
  },
  {
   "cell_type": "markdown",
   "metadata": {},
   "source": [
    "### Fetching data from web\n",
    "\n",
    "> The Requests package is recommended for a higher-level http client interface\n",
    "\n",
    "> Requests allow you to send HTTP/1.1 requests. You can add headers, form data, multipart files, and parameters with simple Python dictionaries, and access the response data in the same way. It’s powered by httplib and urllib3\n",
    "\n",
    "- Remember to install requests package, because it is 3rd party library\n",
    "\n",
    "```bash\n",
    "pip install requests\n",
    "```\n",
    "\n",
    "Sources:\n",
    "- https://docs.python.org/2/library/urllib.html\n",
    "- http://docs.python-requests.org/en/master/"
   ]
  },
  {
   "cell_type": "code",
   "execution_count": 91,
   "metadata": {
    "collapsed": false
   },
   "outputs": [
    {
     "data": {
      "text/plain": [
       "b'[{\"id\":\"3642746913\",\"type\":\"DeleteEvent\",\"actor\":{\"id\":158862,\"login\":\"arlac77\",\"gravatar_id\":\"\",\"url\":\"https://api.github.com/users/arlac77\",\"avatar_url\":\"https://avatars.githubusercontent.com/u/158862?\"},\"repo\":{\"id\":46561125,\"name\":\"Kronos-Integration/kronos-service-admin\",\"url\":\"https://api.github.com/repos/Kronos-Integration/kronos-service-admin\"},\"payload\":{\"ref\":\"greenkeeper-kronos-service-koa-2.7.0\",\"ref_type\":\"branch\",\"pusher_type\":\"user\"},\"public\":true,\"created_at\":\"2016-02-14T15:42:07Z\",\"org\":{\"id\":14301944,\"login\":\"Kronos-Integration\",\"gravatar_id\":\"\",\"url\":\"https://api.github.com/orgs/Kronos-Integration\",\"avatar_url\":\"https://avatars.githubusercontent.com/u/14301944?\"}},{\"id\":\"3642746912\",\"type\":\"PushEvent\",\"actor\":{\"id\":15070096,\"login\":\"TXG8R\",\"gravatar_id\":\"\",\"url\":\"https://api.github.com/users/TXG8R\",\"avatar_url\":\"https://avatars.githubusercontent.com/u/15070096?\"},\"repo\":{\"id\":51098618,\"name\":\"TXG8R/Getting-and-Cleaning-Data\",\"url\":\"https://api.github.com/repos/TXG8R/Getting-and-Cleaning-Data\"},\"payload\":{\"push_id\":976813594,\"size\":1,\"distinct_size\":1,\"ref\":\"refs/heads/master\",\"head\":\"60b8ff272d74c9e255644cf6c4f1329a6014ddef\",\"before\":\"639b7d9235a2ded56efa47c17638fe2bfe4ce5ac\",\"commits\":[{\"sha\":\"60b8ff272d74c9e255644cf6c4f1329a6014ddef\",\"author\":{\"email\":\"joelvweber@gmail.com\",\"name\":\"TXG8R\"},\"message\":\"Delete run_analysis.R\",\"distinct\":true,\"url\":\"https://api.github.com/repos/TXG8R/Getting-and-Cleaning-Data/commits/60b8ff272d74c9e255644cf6c4f1329a6014ddef\"}]},\"public\":true,\"created_at\":\"2016-02-14T15:42:07Z\"},{\"id\":\"3642746905\",\"type\":\"PushEvent\",\"actor\":{\"id\":6364146,\"login\":\"mkotb\",\"gravatar_id\":\"\",\"url\":\"https://api.github.com/users/mkotb\",\"avatar_url\":\"https://avatars.githubusercontent.com/u/6364146?\"},\"repo\":{\"id\":27909062,\"name\":\"mkotb/SkypeBot\",\"url\":\"https://api.github.com/repos/mkotb/SkypeBot\"},\"payload\":{\"push_id\":976813592,\"size\":1,\"distinct_size\":1,\"ref\":\"refs/heads/master\",\"head\":\"723ae6dbdf3c41f57deb8c2bdd83c7f0830bdc07\",\"before\":\"5dd5eb2602031443b698ca68dc62993eec2810a1\",\"commits\":[{\"sha\":\"723ae6dbdf3c41f57deb8c2bdd83c7f0830bdc07\",\"author\":{\"email\":\"email@mazenmc.io\",\"name\":\"Mazen Kotb\"},\"message\":\"come on, bot\",\"distinct\":true,\"url\":\"https://api.github.com/repos/mkotb/SkypeBot/commits/723ae6dbdf3c41f57deb8c2bdd83c7f0830bdc07\"}]},\"public\":true,\"created_at\":\"2016-02-14T15:42:07Z\"},{\"id\":\"3642746903\",\"type\":\"ForkEvent\",\"actor\":{\"id\":11489171,\"login\":\"AsaSmith\",\"gravatar_id\":\"\",\"url\":\"https://api.github.com/users/AsaSmith\",\"avatar_url\":\"https://avatars.githubusercontent.com/u/11489171?\"},\"repo\":{\"id\":51696090,\"name\":\"betamore/fewd-pull-request-exercise\",\"url\":\"https://api.github.com/repos/betamore/fewd-pull-request-exercise\"},\"payload\":{\"forkee\":{\"id\":51700535,\"name\":\"fewd-pull-request-exercise\",\"full_name\":\"AsaSmith/fewd-pull-request-exercise\",\"owner\":{\"login\":\"AsaSmith\",\"id\":11489171,\"avatar_url\":\"https://avatars.githubusercontent.com/u/11489171?v=3\",\"gravatar_id\":\"\",\"url\":\"https://api.github.com/users/AsaSmith\",\"html_url\":\"https://github.com/AsaSmith\",\"followers_url\":\"https://api.github.com/users/AsaSmith/followers\",\"following_url\":\"https://api.github.com/users/AsaSmith/following{/other_user}\",\"gists_url\":\"https://api.github.com/users/AsaSmith/gists{/gist_id}\",\"starred_url\":\"https://api.github.com/users/AsaSmith/starred{/owner}{/repo}\",\"subscriptions_url\":\"https://api.github.com/users/AsaSmith/subscriptions\",\"organizations_url\":\"https://api.github.com/users/AsaSmith/orgs\",\"repos_url\":\"https://api.github.com/users/AsaSmith/repos\",\"events_url\":\"https://api.github.com/users/AsaSmith/events{/privacy}\",\"received_events_url\":\"https://api.github.com/users/AsaSmith/received_events\",\"type\":\"User\",\"site_admin\":false},\"private\":false,\"html_url\":\"https://github.com/AsaSmith/fewd-pull-request-exercise\",\"description\":\"Exercise for collaborating on projects using pull requests.\",\"fork\":true,\"url\":\"https://api.github.com/repos/AsaSmith/fewd-pull-request-exercise\",\"forks_url\":\"https://api.github.com/repos/AsaSmith/fewd-pull-request-exercise/forks\",\"keys_url\":\"https://api.github.com/repos/AsaSmith/fewd-pull-request-exercise/keys{/key_id}\",\"collaborators_url\":\"https://api.github.com/repos/AsaSmith/fewd-pull-request-exercise/collaborators{/collaborator}\",\"teams_url\":\"https://api.github.com/repos/AsaSmith/fewd-pull-request-exercise/teams\",\"hooks_url\":\"https://api.github.com/repos/AsaSmith/fewd-pull-request-exercise/hooks\",\"issue_events_url\":\"https://api.github.com/repos/AsaSmith/fewd-pull-request-exercise/issues/events{/number}\",\"events_url\":\"https://api.github.com/repos/AsaSmith/fewd-pull-request-exercise/events\",\"assignees_url\":\"https://api.github.com/repos/AsaSmith/fewd-pull-request-exercise/assignees{/user}\",\"branches_url\":\"https://api.github.com/repos/AsaSmith/fewd-pull-request-exercise/branches{/branch}\",\"tags_url\":\"https://api.github.com/repos/AsaSmith/fewd-pull-request-exercise/tags\",\"blobs_url\":\"https://api.github.com/repos/AsaSmith/fewd-pull-request-exercise/git/blobs{/sha}\",\"git_tags_url\":\"https://api.github.com/repos/AsaSmith/fewd-pull-request-exercise/git/tags{/sha}\",\"git_refs_url\":\"https://api.github.com/repos/AsaSmith/fewd-pull-request-exercise/git/refs{/sha}\",\"trees_url\":\"https://api.github.com/repos/AsaSmith/fewd-pull-request-exercise/git/trees{/sha}\",\"statuses_url\":\"https://api.github.com/repos/AsaSmith/fewd-pull-request-exercise/statuses/{sha}\",\"languages_url\":\"https://api.github.com/repos/AsaSmith/fewd-pull-request-exercise/languages\",\"stargazers_url\":\"https://api.github.com/repos/AsaSmith/fewd-pull-request-exercise/stargazers\",\"contributors_url\":\"https://api.github.com/repos/AsaSmith/fewd-pull-request-exercise/contributors\",\"subscribers_url\":\"https://api.github.com/repos/AsaSmith/fewd-pull-request-exercise/subscribers\",\"subscription_url\":\"https://api.github.com/repos/AsaSmith/fewd-pull-request-exercise/subscription\",\"commits_url\":\"https://api.github.com/repos/AsaSmith/fewd-pull-request-exercise/commits{/sha}\",\"git_commits_url\":\"https://api.github.com/repos/AsaSmith/fewd-pull-request-exercise/git/commits{/sha}\",\"comments_url\":\"https://api.github.com/repos/AsaSmith/fewd-pull-request-exercise/comments{/number}\",\"issue_comment_url\":\"https://api.github.com/repos/AsaSmith/fewd-pull-request-exercise/issues/comments{/number}\",\"contents_url\":\"https://api.github.com/repos/AsaSmith/fewd-pull-request-exercise/contents/{+path}\",\"compare_url\":\"https://api.github.com/repos/AsaSmith/fewd-pull-request-exercise/compare/{base}...{head}\",\"merges_url\":\"https://api.github.com/repos/AsaSmith/fewd-pull-request-exercise/merges\",\"archive_url\":\"https://api.github.com/repos/AsaSmith/fewd-pull-request-exercise/{archive_format}{/ref}\",\"downloads_url\":\"https://api.github.com/repos/AsaSmith/fewd-pull-request-exercise/downloads\",\"issues_url\":\"https://api.github.com/repos/AsaSmith/fewd-pull-request-exercise/issues{/number}\",\"pulls_url\":\"https://api.github.com/repos/AsaSmith/fewd-pull-request-exercise/pulls{/number}\",\"milestones_url\":\"https://api.github.com/repos/AsaSmith/fewd-pull-request-exercise/milestones{/number}\",\"notifications_url\":\"https://api.github.com/repos/AsaSmith/fewd-pull-request-exercise/notifications{?since,all,participating}\",\"labels_url\":\"https://api.github.com/repos/AsaSmith/fewd-pull-request-exercise/labels{/name}\",\"releases_url\":\"https://api.github.com/repos/AsaSmith/fewd-pull-request-exercise/releases{/id}\",\"deployments_url\":\"https://api.github.com/repos/AsaSmith/fewd-pull-request-exercise/deployments\",\"created_at\":\"2016-02-14T15:42:07Z\",\"updated_at\":\"2016-02-14T13:39:08Z\",\"pushed_at\":\"2016-02-14T14:45:38Z\",\"git_url\":\"git://github.com/AsaSmith/fewd-pull-request-exercise.git\",\"ssh_url\":\"git@github.com:AsaSmith/fewd-pull-request-exercise.git\",\"clone_url\":\"https://github.com/AsaSmith/fewd-pull-request-exercise.git\",\"svn_url\":\"https://github.com/AsaSmith/fewd-pull-request-exercise\",\"homepage\":null,\"size\":1,\"stargazers_count\":0,\"watchers_count\":0,\"language\":null,\"has_issues\":false,\"has_downloads\":true,\"has_wiki\":true,\"has_pages\":false,\"forks_count\":0,\"mirror_url\":null,\"open_issues_count\":0,\"forks\":0,\"open_issues\":0,\"watchers\":0,\"default_branch\":\"master\",\"public\":true}},\"public\":true,\"created_at\":\"2016-02-14T15:42:07Z\",\"org\":{\"id\":14792139,\"login\":\"betamore\",\"gravatar_id\":\"\",\"url\":\"https://api.github.com/orgs/betamore\",\"avatar_url\":\"https://avatars.githubusercontent.com/u/14792139?\"}},{\"id\":\"3642746901\",\"type\":\"PushEvent\",\"actor\":{\"id\":14848398,\"login\":\"kotete\",\"gravatar_id\":\"\",\"url\":\"https://api.github.com/users/kotete\",\"avatar_url\":\"https://avatars.githubusercontent.com/u/14848398?\"},\"repo\":{\"id\":51636017,\"name\":\"kotete/kotete.github.io\",\"url\":\"https://api.github.com/repos/kotete/kotete.github.io\"},\"payload\":{\"push_id\":976813591,\"size\":1,\"distinct_size\":1,\"ref\":\"refs/heads/master\",\"head\":\"1cba3a10787c42b2df8eee8c7946f9841c23298a\",\"before\":\"8d510d254a62f2fb891b3436b0c9685b983d4dc7\",\"commits\":[{\"sha\":\"1cba3a10787c42b2df8eee8c7946f9841c23298a\",\"author\":{\"email\":\"wzd5211@gmail.com\",\"name\":\"kotete\"},\"message\":\"Site updated: 2016-02-14 23:41:59\",\"distinct\":true,\"url\":\"https://api.github.com/repos/kotete/kotete.github.io/commits/1cba3a10787c42b2df8eee8c7946f9841c23298a\"}]},\"public\":true,\"created_at\":\"2016-02-14T15:42:07Z\"},{\"id\":\"3642746900\",\"type\":\"PushEvent\",\"actor\":{\"id\":8517910,\"login\":\"LombiqBot\",\"gravatar_id\":\"\",\"url\":\"https://api.github.com/users/LombiqBot\",\"avatar_url\":\"https://avatars.githubusercontent.com/u/8517910?\"},\"repo\":{\"id\":46628828,\"name\":\"Lombiq/Orchard-Scripting-Extensions\",\"url\":\"https://api.github.com/repos/Lombiq/Orchard-Scripting-Extensions\"},\"payload\":{\"push_id\":976813590,\"size\":0,\"distinct_size\":0,\"ref\":\"refs/heads/dev\",\"head\":\"0909a5a41e402c41a4ea6000af26195219d532cd\",\"before\":\"0909a5a41e402c41a4ea6000af26195219d532cd\",\"commits\":[]},\"public\":true,\"created_at\":\"2016-02-14T15:42:07Z\",\"org\":{\"id\":8158177,\"login\":\"Lombiq\",\"gravatar_id\":\"\",\"url\":\"https://api.github.com/orgs/Lombiq\",\"avatar_url\":\"https://avatars.githubusercontent.com/u/8158177?\"}},{\"id\":\"3642746898\",\"type\":\"IssueCommentEvent\",\"actor\":{\"id\":733286,\"login\":\"Paris\",\"gravatar_id\":\"\",\"url\":\"https://api.github.com/users/Paris\",\"avatar_url\":\"https://avatars.githubusercontent.com/u/733286?\"},\"repo\":{\"id\":8566548,\"name\":\"powerbot/powerbot\",\"url\":\"https://api.github.com/repos/powerbot/powerbot\"},\"payload\":{\"action\":\"created\",\"issue\":{\"url\":\"https://api.github.com/repos/powerbot/powerbot/issues/1299\",\"repository_url\":\"https://api.github.com/repos/powerbot/powerbot\",\"labels_url\":\"https://api.github.com/repos/powerbot/powerbot/issues/1299/labels{/name}\",\"comments_url\":\"https://api.github.com/repos/powerbot/powerbot/issues/1299/comments\",\"events_url\":\"https://api.github.com/repos/powerbot/powerbot/issues/1299/events\",\"html_url\":\"https://github.com/powerbot/powerbot/issues/1299\",\"id\":133090249,\"number\":1299,\"title\":\"Prompt people to add an account for auto login \",\"user\":{\"login\":\"ChrisBPB\",\"id\":7156240,\"avatar_url\":\"https://avatars.githubusercontent.com/u/7156240?v=3\",\"gravatar_id\":\"\",\"url\":\"https://api.github.com/users/ChrisBPB\",\"html_url\":\"https://github.com/ChrisBPB\",\"followers_url\":\"https://api.github.com/users/ChrisBPB/followers\",\"following_url\":\"https://api.github.com/users/ChrisBPB/following{/other_user}\",\"gists_url\":\"https://api.github.com/users/ChrisBPB/gists{/gist_id}\",\"starred_url\":\"https://api.github.com/users/ChrisBPB/starred{/owner}{/repo}\",\"subscriptions_url\":\"https://api.github.com/users/ChrisBPB/subscriptions\",\"organizations_url\":\"https://api.github.com/users/ChrisBPB/orgs\",\"repos_url\":\"https://api.github.com/users/ChrisBPB/repos\",\"events_url\":\"https://api.github.com/users/ChrisBPB/events{/privacy}\",\"received_events_url\":\"https://api.github.com/users/ChrisBPB/received_events\",\"type\":\"User\",\"site_admin\":false},\"labels\":[{\"url\":\"https://api.github.com/repos/powerbot/powerbot/labels/gui\",\"name\":\"gui\",\"color\":\"207de5\"},{\"url\":\"https://api.github.com/repos/powerbot/powerbot/labels/request\",\"name\":\"request\",\"color\":\"bfe5bf\"},{\"url\":\"https://api.github.com/repos/powerbot/powerbot/labels/rt4\",\"name\":\"rt4\",\"color\":\"fbca04\"}],\"state\":\"open\",\"locked\":false,\"assignee\":null,\"milestone\":{\"url\":\"https://api.github.com/repos/powerbot/powerbot/milestones/32\",\"html_url\":\"https://github.com/powerbot/powerbot/milestones/next\",\"labels_url\":\"https://api.github.com/repos/powerbot/powerbot/milestones/32/labels\",\"id\":1292690,\"number\":32,\"title\":\"next\",\"description\":\"\",\"creator\":{\"login\":\"Timer\",\"id\":616428,\"avatar_url\":\"https://avatars.githubusercontent.com/u/616428?v=3\",\"gravatar_id\":\"\",\"url\":\"https://api.github.com/users/Timer\",\"html_url\":\"https://github.com/Timer\",\"followers_url\":\"https://api.github.com/users/Timer/followers\",\"following_url\":\"https://api.github.com/users/Timer/following{/other_user}\",\"gists_url\":\"https://api.github.com/users/Timer/gists{/gist_id}\",\"starred_url\":\"https://api.github.com/users/Timer/starred{/owner}{/repo}\",\"subscriptions_url\":\"https://api.github.com/users/Timer/subscriptions\",\"organizations_url\":\"https://api.github.com/users/Timer/orgs\",\"repos_url\":\"https://api.github.com/users/Timer/repos\",\"events_url\":\"https://api.github.com/users/Timer/events{/privacy}\",\"received_events_url\":\"https://api.github.com/users/Timer/received_events\",\"type\":\"User\",\"site_admin\":false},\"open_issues\":30,\"closed_issues\":25,\"state\":\"open\",\"created_at\":\"2015-09-06T19:22:52Z\",\"updated_at\":\"2016-02-14T14:56:51Z\",\"due_on\":null,\"closed_at\":null},\"comments\":3,\"created_at\":\"2016-02-11T21:19:48Z\",\"updated_at\":\"2016-02-14T15:42:06Z\",\"closed_at\":null,\"body\":\"I notice on OSRS it will randomly get \\'command received: zap\\' and log you out, sometimes it is 5 minutes in, sometimes 6 hours. I always forget to add an account, and I think it\\'s because you select the script then press play so it\\'d be better if there was like a pop-up alerting you if you haven\\'t selected an account (maybe give them the option to add one, select one, or continue[run script])\\\\r\\\\n\\\\r\\\\n\\\\r\\\\nalternatively maybe just lay it out different so that the add/select account part is above or before the select script part so you automatically focus on it instead of skipping it naturally.\\\\r\\\\n\\\\r\\\\n\\\\r\\\\nobviously not very important, but it helps with the overall user experience\"},\"comment\":{\"url\":\"https://api.github.com/repos/powerbot/powerbot/issues/comments/183906592\",\"html_url\":\"https://github.com/powerbot/powerbot/issues/1299#issuecomment-183906592\",\"issue_url\":\"https://api.github.com/repos/powerbot/powerbot/issues/1299\",\"id\":183906592,\"user\":{\"login\":\"Paris\",\"id\":733286,\"avatar_url\":\"https://avatars.githubusercontent.com/u/733286?v=3\",\"gravatar_id\":\"\",\"url\":\"https://api.github.com/users/Paris\",\"html_url\":\"https://github.com/Paris\",\"followers_url\":\"https://api.github.com/users/Paris/followers\",\"following_url\":\"https://api.github.com/users/Paris/following{/other_user}\",\"gists_url\":\"https://api.github.com/users/Paris/gists{/gist_id}\",\"starred_url\":\"https://api.github.com/users/Paris/starred{/owner}{/repo}\",\"subscriptions_url\":\"https://api.github.com/users/Paris/subscriptions\",\"organizations_url\":\"https://api.github.com/users/Paris/orgs\",\"repos_url\":\"https://api.github.com/users/Paris/repos\",\"events_url\":\"https://api.github.com/users/Paris/events{/privacy}\",\"received_events_url\":\"https://api.github.com/users/Paris/received_events\",\"type\":\"User\",\"site_admin\":false},\"created_at\":\"2016-02-14T15:42:06Z\",\"updated_at\":\"2016-02-14T15:42:06Z\",\"body\":\"@Timer do the login capture for automatic re-login on OSRS too?\"}},\"public\":true,\"created_at\":\"2016-02-14T15:42:06Z\",\"org\":{\"id\":743262,\"login\":\"powerbot\",\"gravatar_id\":\"\",\"url\":\"https://api.github.com/orgs/powerbot\",\"avatar_url\":\"https://avatars.githubusercontent.com/u/743262?\"}},{\"id\":\"3642746897\",\"type\":\"CreateEvent\",\"actor\":{\"id\":5838414,\"login\":\"vitortalaia\",\"gravatar_id\":\"\",\"url\":\"https://api.github.com/users/vitortalaia\",\"avatar_url\":\"https://avatars.githubusercontent.com/u/5838414?\"},\"repo\":{\"id\":51645465,\"name\":\"vitortalaia/learnyoureact\",\"url\":\"https://api.github.com/repos/vitortalaia/learnyoureact\"},\"payload\":{\"ref\":\"exercise-08\",\"ref_type\":\"branch\",\"master_branch\":\"master\",\"description\":\"React.js tutorial from https://github.com/kohei-takata/learnyoureact\",\"pusher_type\":\"user\"},\"public\":true,\"created_at\":\"2016-02-14T15:42:06Z\"},{\"id\":\"3642746894\",\"type\":\"CreateEvent\",\"actor\":{\"id\":8311342,\"login\":\"rsmith54\",\"gravatar_id\":\"\",\"url\":\"https://api.github.com/users/rsmith54\",\"avatar_url\":\"https://avatars.githubusercontent.com/u/8311342?\"},\"repo\":{\"id\":51700378,\"name\":\"rsmith54/datasciencecoursera\",\"url\":\"https://api.github.com/repos/rsmith54/datasciencecoursera\"},\"payload\":{\"ref\":\"master\",\"ref_type\":\"branch\",\"master_branch\":\"master\",\"description\":\"\",\"pusher_type\":\"user\"},\"public\":true,\"created_at\":\"2016-02-14T15:42:06Z\"},{\"id\":\"3642746893\",\"type\":\"IssueCommentEvent\",\"actor\":{\"id\":4031291,\"login\":\"AmplabJenkins\",\"gravatar_id\":\"\",\"url\":\"https://api.github.com/users/AmplabJenkins\",\"avatar_url\":\"https://avatars.githubusercontent.com/u/4031291?\"},\"repo\":{\"id\":17165658,\"name\":\"apache/spark\",\"url\":\"https://api.github.com/repos/apache/spark\"},\"payload\":{\"action\":\"created\",\"issue\":{\"url\":\"https://api.github.com/repos/apache/spark/issues/11090\",\"repository_url\":\"https://api.github.com/repos/apache/spark\",\"labels_url\":\"https://api.github.com/repos/apache/spark/issues/11090/labels{/name}\",\"comments_url\":\"https://api.github.com/repos/apache/spark/issues/11090/comments\",\"events_url\":\"https://api.github.com/repos/apache/spark/issues/11090/events\",\"html_url\":\"https://github.com/apache/spark/pull/11090\",\"id\":131573223,\"number\":11090,\"title\":\"[SPARK-13185][SQL] Reuse Calendar object in DateTimeUtils.StringToDate method to improve performance\",\"user\":{\"login\":\"carsonwang\",\"id\":9278199,\"avatar_url\":\"https://avatars.githubusercontent.com/u/9278199?v=3\",\"gravatar_id\":\"\",\"url\":\"https://api.github.com/users/carsonwang\",\"html_url\":\"https://github.com/carsonwang\",\"followers_url\":\"https://api.github.com/users/carsonwang/followers\",\"following_url\":\"https://api.github.com/users/carsonwang/following{/other_user}\",\"gists_url\":\"https://api.github.com/users/carsonwang/gists{/gist_id}\",\"starred_url\":\"https://api.github.com/users/carsonwang/starred{/owner}{/repo}\",\"subscriptions_url\":\"https://api.github.com/users/carsonwang/subscriptions\",\"organizations_url\":\"https://api.github.com/users/carsonwang/orgs\",\"repos_url\":\"https://api.github.com/users/carsonwang/repos\",\"events_url\":\"https://api.github.com/users/carsonwang/events{/privacy}\",\"received_events_url\":\"https://api.github.com/users/carsonwang/received_events\",\"type\":\"User\",\"site_admin\":false},\"labels\":[],\"state\":\"open\",\"locked\":false,\"assignee\":null,\"milestone\":null,\"comments\":11,\"created_at\":\"2016-02-05T07:07:19Z\",\"updated_at\":\"2016-02-14T15:42:05Z\",\"closed_at\":null,\"pull_request\":{\"url\":\"https://api.github.com/repos/apache/spark/pulls/11090\",\"html_url\":\"https://github.com/apache/spark/pull/11090\",\"diff_url\":\"https://github.com/apache/spark/pull/11090.diff\",\"patch_url\":\"https://github.com/apache/spark/pull/11090.patch\"},\"body\":\"The java `Calendar` object is expensive to create. I have a sub query like this `SELECT a, b, c FROM table UV WHERE (datediff(UV.visitDate, \\'1997-01-01\\')>=0 AND datediff(UV.visitDate, \\'2015-01-01\\')<=0))`\\\\r\\\\n\\\\r\\\\nThe table stores `visitDate` as String type and has 3 billion records. A `Calendar` object is created every time `DateTimeUtils.stringToDate` is called. By reusing the `Calendar` object, I saw about 20 seconds performance improvement for this stage.\"},\"comment\":{\"url\":\"https://api.github.com/repos/apache/spark/issues/comments/183906591\",\"html_url\":\"https://github.com/apache/spark/pull/11090#issuecomment-183906591\",\"issue_url\":\"https://api.github.com/repos/apache/spark/issues/11090\",\"id\":183906591,\"user\":{\"login\":\"AmplabJenkins\",\"id\":4031291,\"avatar_url\":\"https://avatars.githubusercontent.com/u/4031291?v=3\",\"gravatar_id\":\"\",\"url\":\"https://api.github.com/users/AmplabJenkins\",\"html_url\":\"https://github.com/AmplabJenkins\",\"followers_url\":\"https://api.github.com/users/AmplabJenkins/followers\",\"following_url\":\"https://api.github.com/users/AmplabJenkins/following{/other_user}\",\"gists_url\":\"https://api.github.com/users/AmplabJenkins/gists{/gist_id}\",\"starred_url\":\"https://api.github.com/users/AmplabJenkins/starred{/owner}{/repo}\",\"subscriptions_url\":\"https://api.github.com/users/AmplabJenkins/subscriptions\",\"organizations_url\":\"https://api.github.com/users/AmplabJenkins/orgs\",\"repos_url\":\"https://api.github.com/users/AmplabJenkins/repos\",\"events_url\":\"https://api.github.com/users/AmplabJenkins/events{/privacy}\",\"received_events_url\":\"https://api.github.com/users/AmplabJenkins/received_events\",\"type\":\"User\",\"site_admin\":false},\"created_at\":\"2016-02-14T15:42:05Z\",\"updated_at\":\"2016-02-14T15:42:05Z\",\"body\":\"Test PASSed.\\\\nRefer to this link for build results (access rights to CI server needed): \\\\nhttps://amplab.cs.berkeley.edu/jenkins//job/SparkPullRequestBuilder/51269/\\\\nTest PASSed.\"}},\"public\":true,\"created_at\":\"2016-02-14T15:42:06Z\",\"org\":{\"id\":47359,\"login\":\"apache\",\"gravatar_id\":\"\",\"url\":\"https://api.github.com/orgs/apache\",\"avatar_url\":\"https://avatars.githubusercontent.com/u/47359?\"}},{\"id\":\"3642746892\",\"type\":\"PushEvent\",\"actor\":{\"id\":158862,\"login\":\"arlac77\",\"gravatar_id\":\"\",\"url\":\"https://api.github.com/users/arlac77\",\"avatar_url\":\"https://avatars.githubusercontent.com/u/158862?\"},\"repo\":{\"id\":46561125,\"name\":\"Kronos-Integration/kronos-service-admin\",\"url\":\"https://api.github.com/repos/Kronos-Integration/kronos-service-admin\"},\"payload\":{\"push_id\":976813585,\"size\":2,\"distinct_size\":1,\"ref\":\"refs/heads/master\",\"head\":\"95009183a3bb4df798cb2121f403507a51d3d359\",\"before\":\"439b2fe802cd05e786ccf09e24dc936ec8de4c3a\",\"commits\":[{\"sha\":\"8fafac7af979b993d9a8d63ceb018661007e4e88\",\"author\":{\"email\":\"support@greenkeeper.io\",\"name\":\"greenkeeperio-bot\"},\"message\":\"chore(package): update kronos-service-koa to version 2.7.0\\\\n\\\\nhttp://greenkeeper.io/\",\"distinct\":false,\"url\":\"https://api.github.com/repos/Kronos-Integration/kronos-service-admin/commits/8fafac7af979b993d9a8d63ceb018661007e4e88\"},{\"sha\":\"95009183a3bb4df798cb2121f403507a51d3d359\",\"author\":{\"email\":\"Markus.Felten@gmx.de\",\"name\":\"Markus Felten\"},\"message\":\"Merge pull request #149 from Kronos-Integration/greenkeeper-kronos-service-koa-2.7.0\\\\n\\\\nkronos-service-koa@2.7.0 breaks build \\xe2\\x9a\\xa0\\xef\\xb8\\x8f\",\"distinct\":true,\"url\":\"https://api.github.com/repos/Kronos-Integration/kronos-service-admin/commits/95009183a3bb4df798cb2121f403507a51d3d359\"}]},\"public\":true,\"created_at\":\"2016-02-14T15:42:06Z\",\"org\":{\"id\":14301944,\"login\":\"Kronos-Integration\",\"gravatar_id\":\"\",\"url\":\"https://api.github.com/orgs/Kronos-Integration\",\"avatar_url\":\"https://avatars.githubusercontent.com/u/14301944?\"}},{\"id\":\"3642746891\",\"type\":\"PushEvent\",\"actor\":{\"id\":3905611,\"login\":\"tsergeytovarov\",\"gravatar_id\":\"\",\"url\":\"https://api.github.com/users/tsergeytovarov\",\"avatar_url\":\"https://avatars.githubusercontent.com/u/3905611?\"},\"repo\":{\"id\":51695012,\"name\":\"tsergeytovarov/componentum\",\"url\":\"https://api.github.com/repos/tsergeytovarov/componentum\"},\"payload\":{\"push_id\":976813584,\"size\":3,\"distinct_size\":3,\"ref\":\"refs/heads/feature/componentum-v1.0\",\"head\":\"29699318bfabd1c9d36f7d0f04b160c427ad465e\",\"before\":\"039bcb6fba972b133562207af6b29dc40e0d45e3\",\"commits\":[{\"sha\":\"4286c930003100dee8ddfa0a87922092c864411b\",\"author\":{\"email\":\"tovarov.piter@gmail.com\",\"name\":\"\\xd0\\xa1\\xd0\\xb5\\xd1\\x80\\xd0\\xb3\\xd0\\xb5\\xd0\\xb8\\xcc\\x86 \\xd0\\x9f\\xd0\\xbe\\xd0\\xbf\\xd0\\xbe\\xd0\\xb2\"},\"message\":\"\\xd0\\xa1\\xd1\\x82\\xd0\\xb8\\xd0\\xbb\\xd0\\xb8 \\xd0\\xb4\\xd0\\xbb\\xd1\\x8f \\xd0\\xbc\\xd0\\xbe\\xd0\\xb4\\xd0\\xb0\\xd0\\xbb\\xd1\\x8c\\xd0\\xbd\\xd1\\x8b\\xd1\\x85 \\xd0\\xbe\\xd0\\xba\\xd0\\xbe\\xd0\\xbd\",\"distinct\":true,\"url\":\"https://api.github.com/repos/tsergeytovarov/componentum/commits/4286c930003100dee8ddfa0a87922092c864411b\"},{\"sha\":\"3ceac0093175b5547d5f5017eca2946088dd98fa\",\"author\":{\"email\":\"tovarov.piter@gmail.com\",\"name\":\"\\xd0\\xa1\\xd0\\xb5\\xd1\\x80\\xd0\\xb3\\xd0\\xb5\\xd0\\xb8\\xcc\\x86 \\xd0\\x9f\\xd0\\xbe\\xd0\\xbf\\xd0\\xbe\\xd0\\xb2\"},\"message\":\"\\xd0\\x9e\\xd0\\xb1\\xd0\\xbd\\xd0\\xbe\\xd0\\xb2\\xd0\\xb8\\xd0\\xbb \\xd0\\xba\\xd0\\xbe\\xd0\\xbd\\xd1\\x84\\xd0\\xb8\\xd0\\xb3\",\"distinct\":true,\"url\":\"https://api.github.com/repos/tsergeytovarov/componentum/commits/3ceac0093175b5547d5f5017eca2946088dd98fa\"},{\"sha\":\"29699318bfabd1c9d36f7d0f04b160c427ad465e\",\"author\":{\"email\":\"tovarov.piter@gmail.com\",\"name\":\"\\xd0\\xa1\\xd0\\xb5\\xd1\\x80\\xd0\\xb3\\xd0\\xb5\\xd0\\xb8\\xcc\\x86 \\xd0\\x9f\\xd0\\xbe\\xd0\\xbf\\xd0\\xbe\\xd0\\xb2\"},\"message\":\"\\xd0\\xa1\\xd0\\xb6\\xd0\\xb0\\xd1\\x82\\xd0\\xb0\\xd1\\x8f \\xd0\\xb2\\xd0\\xb5\\xd1\\x80\\xd1\\x81\\xd0\\xb8\\xd1\\x8f \\xd0\\xbc\\xd0\\xbe\\xd0\\xb4\\xd0\\xb0\\xd0\\xbb\\xd1\\x8c\\xd0\\xbd\\xd1\\x8b\\xd1\\x85 \\xd0\\xbe\\xd0\\xba\\xd0\\xbe\\xd0\\xbd\",\"distinct\":true,\"url\":\"https://api.github.com/repos/tsergeytovarov/componentum/commits/29699318bfabd1c9d36f7d0f04b160c427ad465e\"}]},\"public\":true,\"created_at\":\"2016-02-14T15:42:06Z\"},{\"id\":\"3642746888\",\"type\":\"PushEvent\",\"actor\":{\"id\":8517910,\"login\":\"LombiqBot\",\"gravatar_id\":\"\",\"url\":\"https://api.github.com/users/LombiqBot\",\"avatar_url\":\"https://avatars.githubusercontent.com/u/8517910?\"},\"repo\":{\"id\":46628828,\"name\":\"Lombiq/Orchard-Scripting-Extensions\",\"url\":\"https://api.github.com/repos/Lombiq/Orchard-Scripting-Extensions\"},\"payload\":{\"push_id\":976813582,\"size\":0,\"distinct_size\":0,\"ref\":\"refs/heads/Orchard-1.9\",\"head\":\"472b6eda0fae663497968ee32e308521dd8f5711\",\"before\":\"472b6eda0fae663497968ee32e308521dd8f5711\",\"commits\":[]},\"public\":true,\"created_at\":\"2016-02-14T15:42:06Z\",\"org\":{\"id\":8158177,\"login\":\"Lombiq\",\"gravatar_id\":\"\",\"url\":\"https://api.github.com/orgs/Lombiq\",\"avatar_url\":\"https://avatars.githubusercontent.com/u/8158177?\"}},{\"id\":\"3642746886\",\"type\":\"PushEvent\",\"actor\":{\"id\":1468837,\"login\":\"lamerman\",\"gravatar_id\":\"\",\"url\":\"https://api.github.com/users/lamerman\",\"avatar_url\":\"https://avatars.githubusercontent.com/u/1468837?\"},\"repo\":{\"id\":49777913,\"name\":\"lamerman/shellpy\",\"url\":\"https://api.github.com/repos/lamerman/shellpy\"},\"payload\":{\"push_id\":976813581,\"size\":1,\"distinct_size\":1,\"ref\":\"refs/heads/master\",\"head\":\"f27e2b5d102bed801e646c4f32252eb2f006fdd0\",\"before\":\"9de65616588518f3c64a858686cf4166de2a3cd4\",\"commits\":[{\"sha\":\"f27e2b5d102bed801e646c4f32252eb2f006fdd0\",\"author\":{\"email\":\"alexander.ponomarev.0@gmail.com\",\"name\":\"lamerman\"},\"message\":\"Update README.md\",\"distinct\":true,\"url\":\"https://api.github.com/repos/lamerman/shellpy/commits/f27e2b5d102bed801e646c4f32252eb2f006fdd0\"}]},\"public\":true,\"created_at\":\"2016-02-14T15:42:06Z\"},{\"id\":\"3642746885\",\"type\":\"PushEvent\",\"actor\":{\"id\":8517910,\"login\":\"LombiqBot\",\"gravatar_id\":\"\",\"url\":\"https://api.github.com/users/LombiqBot\",\"avatar_url\":\"https://avatars.githubusercontent.com/u/8517910?\"},\"repo\":{\"id\":46594444,\"name\":\"Lombiq/Associativy-Tag-Nodes\",\"url\":\"https://api.github.com/repos/Lombiq/Associativy-Tag-Nodes\"},\"payload\":{\"push_id\":976813580,\"size\":0,\"distinct_size\":0,\"ref\":\"refs/heads/master\",\"head\":\"bc12eecc2dc67249bef462c9fba09e3ceea6f612\",\"before\":\"bc12eecc2dc67249bef462c9fba09e3ceea6f612\",\"commits\":[]},\"public\":true,\"created_at\":\"2016-02-14T15:42:06Z\",\"org\":{\"id\":8158177,\"login\":\"Lombiq\",\"gravatar_id\":\"\",\"url\":\"https://api.github.com/orgs/Lombiq\",\"avatar_url\":\"https://avatars.githubusercontent.com/u/8158177?\"}},{\"id\":\"3642746883\",\"type\":\"IssueCommentEvent\",\"actor\":{\"id\":4031291,\"login\":\"AmplabJenkins\",\"gravatar_id\":\"\",\"url\":\"https://api.github.com/users/AmplabJenkins\",\"avatar_url\":\"https://avatars.githubusercontent.com/u/4031291?\"},\"repo\":{\"id\":17165658,\"name\":\"apache/spark\",\"url\":\"https://api.github.com/repos/apache/spark\"},\"payload\":{\"action\":\"created\",\"issue\":{\"url\":\"https://api.github.com/repos/apache/spark/issues/11090\",\"repository_url\":\"https://api.github.com/repos/apache/spark\",\"labels_url\":\"https://api.github.com/repos/apache/spark/issues/11090/labels{/name}\",\"comments_url\":\"https://api.github.com/repos/apache/spark/issues/11090/comments\",\"events_url\":\"https://api.github.com/repos/apache/spark/issues/11090/events\",\"html_url\":\"https://github.com/apache/spark/pull/11090\",\"id\":131573223,\"number\":11090,\"title\":\"[SPARK-13185][SQL] Reuse Calendar object in DateTimeUtils.StringToDate method to improve performance\",\"user\":{\"login\":\"carsonwang\",\"id\":9278199,\"avatar_url\":\"https://avatars.githubusercontent.com/u/9278199?v=3\",\"gravatar_id\":\"\",\"url\":\"https://api.github.com/users/carsonwang\",\"html_url\":\"https://github.com/carsonwang\",\"followers_url\":\"https://api.github.com/users/carsonwang/followers\",\"following_url\":\"https://api.github.com/users/carsonwang/following{/other_user}\",\"gists_url\":\"https://api.github.com/users/carsonwang/gists{/gist_id}\",\"starred_url\":\"https://api.github.com/users/carsonwang/starred{/owner}{/repo}\",\"subscriptions_url\":\"https://api.github.com/users/carsonwang/subscriptions\",\"organizations_url\":\"https://api.github.com/users/carsonwang/orgs\",\"repos_url\":\"https://api.github.com/users/carsonwang/repos\",\"events_url\":\"https://api.github.com/users/carsonwang/events{/privacy}\",\"received_events_url\":\"https://api.github.com/users/carsonwang/received_events\",\"type\":\"User\",\"site_admin\":false},\"labels\":[],\"state\":\"open\",\"locked\":false,\"assignee\":null,\"milestone\":null,\"comments\":11,\"created_at\":\"2016-02-05T07:07:19Z\",\"updated_at\":\"2016-02-14T15:42:05Z\",\"closed_at\":null,\"pull_request\":{\"url\":\"https://api.github.com/repos/apache/spark/pulls/11090\",\"html_url\":\"https://github.com/apache/spark/pull/11090\",\"diff_url\":\"https://github.com/apache/spark/pull/11090.diff\",\"patch_url\":\"https://github.com/apache/spark/pull/11090.patch\"},\"body\":\"The java `Calendar` object is expensive to create. I have a sub query like this `SELECT a, b, c FROM table UV WHERE (datediff(UV.visitDate, \\'1997-01-01\\')>=0 AND datediff(UV.visitDate, \\'2015-01-01\\')<=0))`\\\\r\\\\n\\\\r\\\\nThe table stores `visitDate` as String type and has 3 billion records. A `Calendar` object is created every time `DateTimeUtils.stringToDate` is called. By reusing the `Calendar` object, I saw about 20 seconds performance improvement for this stage.\"},\"comment\":{\"url\":\"https://api.github.com/repos/apache/spark/issues/comments/183906590\",\"html_url\":\"https://github.com/apache/spark/pull/11090#issuecomment-183906590\",\"issue_url\":\"https://api.github.com/repos/apache/spark/issues/11090\",\"id\":183906590,\"user\":{\"login\":\"AmplabJenkins\",\"id\":4031291,\"avatar_url\":\"https://avatars.githubusercontent.com/u/4031291?v=3\",\"gravatar_id\":\"\",\"url\":\"https://api.github.com/users/AmplabJenkins\",\"html_url\":\"https://github.com/AmplabJenkins\",\"followers_url\":\"https://api.github.com/users/AmplabJenkins/followers\",\"following_url\":\"https://api.github.com/users/AmplabJenkins/following{/other_user}\",\"gists_url\":\"https://api.github.com/users/AmplabJenkins/gists{/gist_id}\",\"starred_url\":\"https://api.github.com/users/AmplabJenkins/starred{/owner}{/repo}\",\"subscriptions_url\":\"https://api.github.com/users/AmplabJenkins/subscriptions\",\"organizations_url\":\"https://api.github.com/users/AmplabJenkins/orgs\",\"repos_url\":\"https://api.github.com/users/AmplabJenkins/repos\",\"events_url\":\"https://api.github.com/users/AmplabJenkins/events{/privacy}\",\"received_events_url\":\"https://api.github.com/users/AmplabJenkins/received_events\",\"type\":\"User\",\"site_admin\":false},\"created_at\":\"2016-02-14T15:42:05Z\",\"updated_at\":\"2016-02-14T15:42:05Z\",\"body\":\"Merged build finished. Test PASSed.\"}},\"public\":true,\"created_at\":\"2016-02-14T15:42:06Z\",\"org\":{\"id\":47359,\"login\":\"apache\",\"gravatar_id\":\"\",\"url\":\"https://api.github.com/orgs/apache\",\"avatar_url\":\"https://avatars.githubusercontent.com/u/47359?\"}},{\"id\":\"3642746884\",\"type\":\"PushEvent\",\"actor\":{\"id\":12831055,\"login\":\"obarat\",\"gravatar_id\":\"\",\"url\":\"https://api.github.com/users/obarat\",\"avatar_url\":\"https://avatars.githubusercontent.com/u/12831055?\"},\"repo\":{\"id\":51565364,\"name\":\"obarat/valentineFinal\",\"url\":\"https://api.github.com/repos/obarat/valentineFinal\"},\"payload\":{\"push_id\":976813579,\"size\":1,\"distinct_size\":1,\"ref\":\"refs/heads/master\",\"head\":\"b0cd4852fce4804d4881d53e537596008a3c976b\",\"before\":\"5deeca04df739261bc841004de374727611c6a7a\",\"commits\":[{\"sha\":\"b0cd4852fce4804d4881d53e537596008a3c976b\",\"author\":{\"email\":\"omid.barat@accenturefederal.com\",\"name\":\"Omid Barat\"},\"message\":\"added private\",\"distinct\":true,\"url\":\"https://api.github.com/repos/obarat/valentineFinal/commits/b0cd4852fce4804d4881d53e537596008a3c976b\"}]},\"public\":true,\"created_at\":\"2016-02-14T15:42:06Z\"},{\"id\":\"3642746882\",\"type\":\"PullRequestEvent\",\"actor\":{\"id\":158862,\"login\":\"arlac77\",\"gravatar_id\":\"\",\"url\":\"https://api.github.com/users/arlac77\",\"avatar_url\":\"https://avatars.githubusercontent.com/u/158862?\"},\"repo\":{\"id\":46561125,\"name\":\"Kronos-Integration/kronos-service-admin\",\"url\":\"https://api.github.com/repos/Kronos-Integration/kronos-service-admin\"},\"payload\":{\"action\":\"closed\",\"number\":149,\"pull_request\":{\"url\":\"https://api.github.com/repos/Kronos-Integration/kronos-service-admin/pulls/149\",\"id\":59297799,\"html_url\":\"https://github.com/Kronos-Integration/kronos-service-admin/pull/149\",\"diff_url\":\"https://github.com/Kronos-Integration/kronos-service-admin/pull/149.diff\",\"patch_url\":\"https://github.com/Kronos-Integration/kronos-service-admin/pull/149.patch\",\"issue_url\":\"https://api.github.com/repos/Kronos-Integration/kronos-service-admin/issues/149\",\"number\":149,\"state\":\"closed\",\"locked\":false,\"title\":\"kronos-service-koa@2.7.0 breaks build \\xe2\\x9a\\xa0\\xef\\xb8\\x8f\",\"user\":{\"login\":\"greenkeeperio-bot\",\"id\":14790466,\"avatar_url\":\"https://avatars.githubusercontent.com/u/14790466?v=3\",\"gravatar_id\":\"\",\"url\":\"https://api.github.com/users/greenkeeperio-bot\",\"html_url\":\"https://github.com/greenkeeperio-bot\",\"followers_url\":\"https://api.github.com/users/greenkeeperio-bot/followers\",\"following_url\":\"https://api.github.com/users/greenkeeperio-bot/following{/other_user}\",\"gists_url\":\"https://api.github.com/users/greenkeeperio-bot/gists{/gist_id}\",\"starred_url\":\"https://api.github.com/users/greenkeeperio-bot/starred{/owner}{/repo}\",\"subscriptions_url\":\"https://api.github.com/users/greenkeeperio-bot/subscriptions\",\"organizations_url\":\"https://api.github.com/users/greenkeeperio-bot/orgs\",\"repos_url\":\"https://api.github.com/users/greenkeeperio-bot/repos\",\"events_url\":\"https://api.github.com/users/greenkeeperio-bot/events{/privacy}\",\"received_events_url\":\"https://api.github.com/users/greenkeeperio-bot/received_events\",\"type\":\"User\",\"site_admin\":false},\"body\":\"Hello :wave:\\\\n\\\\n:warning::warning::warning:\\\\n\\\\n[kronos-service-koa](https://www.npmjs.com/package/kronos-service-koa) just published its new version 2.7.0, which **is covered by your current version range**. After updating it in your project **the build kept failing**.\\\\n\\\\nThis means **it\\xe2\\x80\\x99s possible that your software is malfunctioning**, because of this update. Use this branch to work on adaptions and fixes.\\\\n\\\\n\\\\nHappy fixing and merging :palm_tree:\\\\n\\\\n---\\\\n[GitHub Release](https://github.com/Kronos-Integration/kronos-service-koa/releases/tag/v2.7.0)\\\\n\\\\n<p><a name></a></p>\\\\n\\\\n<h2>2.7.0 (2016-02-14)</h2>\\\\n\\\\n<h4>Features</h4>\\\\n\\\\n<ul>\\\\n<li>socket io support 1st. steps (<a href=\\\\\"http://urls.greenkeeper.io/Kronos-Integration/kronos-service-koa/commit/cc8bc2f5\\\\\">cc8bc2f5</a>)</li>\\\\n</ul>\\\\n\\\\n---\\\\nThe new version differs by 3 commits .\\\\n\\\\n- [`cc8bc2f`](https://github.com/Kronos-Integration/kronos-service-koa/commit/cc8bc2f509927fc6d9a11da8855708eb9bcda03e) `feat: socket io support 1st. steps`\\\\n- [`42e1e43`](https://github.com/Kronos-Integration/kronos-service-koa/commit/42e1e43bb9fe5c4bb592f473127eefc6755f2973) `Merge pull request #30 from Kronos-Integration/greenkeeper-kronos-service-2.8.6`\\\\n- [`0744ef1`](https://github.com/Kronos-Integration/kronos-service-koa/commit/0744ef105ec92f38a3924378229c20df95d06d95) `chore(package): update kronos-service to version 2.8.6`\\\\n\\\\nSee the [full diff](https://github.com/Kronos-Integration/kronos-service-koa/compare/1456811ace2afb31eeaab4a249380e66845cb458...cc8bc2f509927fc6d9a11da8855708eb9bcda03e).\\\\n\\\\n---\\\\nThis pull request was created by [greenkeeper.io](http://greenkeeper.io/).\\\\nIt keeps your software, up to date, all the time.\\\\n\\\\n<sub>\\\\nTired of seeing this sponsor message? Upgrade to the supporter plan!\\\\nYou\\'ll also get your pull requests faster :zap:\\\\n</sub>\",\"created_at\":\"2016-02-14T15:29:12Z\",\"updated_at\":\"2016-02-14T15:42:06Z\",\"closed_at\":\"2016-02-14T15:42:05Z\",\"merged_at\":\"2016-02-14T15:42:05Z\",\"merge_commit_sha\":\"cb36cb3af78f6e4dca561297155d1b050e0df20e\",\"assignee\":null,\"milestone\":null,\"commits_url\":\"https://api.github.com/repos/Kronos-Integration/kronos-service-admin/pulls/149/commits\",\"review_comments_url\":\"https://api.github.com/repos/Kronos-Integration/kronos-service-admin/pulls/149/comments\",\"review_comment_url\":\"https://api.github.com/repos/Kronos-Integration/kronos-service-admin/pulls/comments{/number}\",\"comments_url\":\"https://api.github.com/repos/Kronos-Integration/kronos-service-admin/issues/149/comments\",\"statuses_url\":\"https://api.github.com/repos/Kronos-Integration/kronos-service-admin/statuses/8fafac7af979b993d9a8d63ceb018661007e4e88\",\"head\":{\"label\":\"Kronos-Integration:greenkeeper-kronos-service-koa-2.7.0\",\"ref\":\"greenkeeper-kronos-service-koa-2.7.0\",\"sha\":\"8fafac7af979b993d9a8d63ceb018661007e4e88\",\"user\":{\"login\":\"Kronos-Integration\",\"id\":14301944,\"avatar_url\":\"https://avatars.githubusercontent.com/u/14301944?v=3\",\"gravatar_id\":\"\",\"url\":\"https://api.github.com/users/Kronos-Integration\",\"html_url\":\"https://github.com/Kronos-Integration\",\"followers_url\":\"https://api.github.com/users/Kronos-Integration/followers\",\"following_url\":\"https://api.github.com/users/Kronos-Integration/following{/other_user}\",\"gists_url\":\"https://api.github.com/users/Kronos-Integration/gists{/gist_id}\",\"starred_url\":\"https://api.github.com/users/Kronos-Integration/starred{/owner}{/repo}\",\"subscriptions_url\":\"https://api.github.com/users/Kronos-Integration/subscriptions\",\"organizations_url\":\"https://api.github.com/users/Kronos-Integration/orgs\",\"repos_url\":\"https://api.github.com/users/Kronos-Integration/repos\",\"events_url\":\"https://api.github.com/users/Kronos-Integration/events{/privacy}\",\"received_events_url\":\"https://api.github.com/users/Kronos-Integration/received_events\",\"type\":\"Organization\",\"site_admin\":false},\"repo\":{\"id\":46561125,\"name\":\"kronos-service-admin\",\"full_name\":\"Kronos-Integration/kronos-service-admin\",\"owner\":{\"login\":\"Kronos-Integration\",\"id\":14301944,\"avatar_url\":\"https://avatars.githubusercontent.com/u/14301944?v=3\",\"gravatar_id\":\"\",\"url\":\"https://api.github.com/users/Kronos-Integration\",\"html_url\":\"https://github.com/Kronos-Integration\",\"followers_url\":\"https://api.github.com/users/Kronos-Integration/followers\",\"following_url\":\"https://api.github.com/users/Kronos-Integration/following{/other_user}\",\"gists_url\":\"https://api.github.com/users/Kronos-Integration/gists{/gist_id}\",\"starred_url\":\"https://api.github.com/users/Kronos-Integration/starred{/owner}{/repo}\",\"subscriptions_url\":\"https://api.github.com/users/Kronos-Integration/subscriptions\",\"organizations_url\":\"https://api.github.com/users/Kronos-Integration/orgs\",\"repos_url\":\"https://api.github.com/users/Kronos-Integration/repos\",\"events_url\":\"https://api.github.com/users/Kronos-Integration/events{/privacy}\",\"received_events_url\":\"https://api.github.com/users/Kronos-Integration/received_events\",\"type\":\"Organization\",\"site_admin\":false},\"private\":false,\"html_url\":\"https://github.com/Kronos-Integration/kronos-service-admin\",\"description\":\"\",\"fork\":false,\"url\":\"https://api.github.com/repos/Kronos-Integration/kronos-service-admin\",\"forks_url\":\"https://api.github.com/repos/Kronos-Integration/kronos-service-admin/forks\",\"keys_url\":\"https://api.github.com/repos/Kronos-Integration/kronos-service-admin/keys{/key_id}\",\"collaborators_url\":\"https://api.github.com/repos/Kronos-Integration/kronos-service-admin/collaborators{/collaborator}\",\"teams_url\":\"https://api.github.com/repos/Kronos-Integration/kronos-service-admin/teams\",\"hooks_url\":\"https://api.github.com/repos/Kronos-Integration/kronos-service-admin/hooks\",\"issue_events_url\":\"https://api.github.com/repos/Kronos-Integration/kronos-service-admin/issues/events{/number}\",\"events_url\":\"https://api.github.com/repos/Kronos-Integration/kronos-service-admin/events\",\"assignees_url\":\"https://api.github.com/repos/Kronos-Integration/kronos-service-admin/assignees{/user}\",\"branches_url\":\"https://api.github.com/repos/Kronos-Integration/kronos-service-admin/branches{/branch}\",\"tags_url\":\"https://api.github.com/repos/Kronos-Integration/kronos-service-admin/tags\",\"blobs_url\":\"https://api.github.com/repos/Kronos-Integration/kronos-service-admin/git/blobs{/sha}\",\"git_tags_url\":\"https://api.github.com/repos/Kronos-Integration/kronos-service-admin/git/tags{/sha}\",\"git_refs_url\":\"https://api.github.com/repos/Kronos-Integration/kronos-service-admin/git/refs{/sha}\",\"trees_url\":\"https://api.github.com/repos/Kronos-Integration/kronos-service-admin/git/trees{/sha}\",\"statuses_url\":\"https://api.github.com/repos/Kronos-Integration/kronos-service-admin/statuses/{sha}\",\"languages_url\":\"https://api.github.com/repos/Kronos-Integration/kronos-service-admin/languages\",\"stargazers_url\":\"https://api.github.com/repos/Kronos-Integration/kronos-service-admin/stargazers\",\"contributors_url\":\"https://api.github.com/repos/Kronos-Integration/kronos-service-admin/contributors\",\"subscribers_url\":\"https://api.github.com/repos/Kronos-Integration/kronos-service-admin/subscribers\",\"subscription_url\":\"https://api.github.com/repos/Kronos-Integration/kronos-service-admin/subscription\",\"commits_url\":\"https://api.github.com/repos/Kronos-Integration/kronos-service-admin/commits{/sha}\",\"git_commits_url\":\"https://api.github.com/repos/Kronos-Integration/kronos-service-admin/git/commits{/sha}\",\"comments_url\":\"https://api.github.com/repos/Kronos-Integration/kronos-service-admin/comments{/number}\",\"issue_comment_url\":\"https://api.github.com/repos/Kronos-Integration/kronos-service-admin/issues/comments{/number}\",\"contents_url\":\"https://api.github.com/repos/Kronos-Integration/kronos-service-admin/contents/{+path}\",\"compare_url\":\"https://api.github.com/repos/Kronos-Integration/kronos-service-admin/compare/{base}...{head}\",\"merges_url\":\"https://api.github.com/repos/Kronos-Integration/kronos-service-admin/merges\",\"archive_url\":\"https://api.github.com/repos/Kronos-Integration/kronos-service-admin/{archive_format}{/ref}\",\"downloads_url\":\"https://api.github.com/repos/Kronos-Integration/kronos-service-admin/downloads\",\"issues_url\":\"https://api.github.com/repos/Kronos-Integration/kronos-service-admin/issues{/number}\",\"pulls_url\":\"https://api.github.com/repos/Kronos-Integration/kronos-service-admin/pulls{/number}\",\"milestones_url\":\"https://api.github.com/repos/Kronos-Integration/kronos-service-admin/milestones{/number}\",\"notifications_url\":\"https://api.github.com/repos/Kronos-Integration/kronos-service-admin/notifications{?since,all,participating}\",\"labels_url\":\"https://api.github.com/repos/Kronos-Integration/kronos-service-admin/labels{/name}\",\"releases_url\":\"https://api.github.com/repos/Kronos-Integration/kronos-service-admin/releases{/id}\",\"deployments_url\":\"https://api.github.com/repos/Kronos-Integration/kronos-service-admin/deployments\",\"created_at\":\"2015-11-20T12:38:53Z\",\"updated_at\":\"2016-01-15T16:14:44Z\",\"pushed_at\":\"2016-02-14T15:42:05Z\",\"git_url\":\"git://github.com/Kronos-Integration/kronos-service-admin.git\",\"ssh_url\":\"git@github.com:Kronos-Integration/kronos-service-admin.git\",\"clone_url\":\"https://github.com/Kronos-Integration/kronos-service-admin.git\",\"svn_url\":\"https://github.com/Kronos-Integration/kronos-service-admin\",\"homepage\":null,\"size\":226,\"stargazers_count\":0,\"watchers_count\":0,\"language\":\"JavaScript\",\"has_issues\":true,\"has_downloads\":true,\"has_wiki\":true,\"has_pages\":false,\"forks_count\":0,\"mirror_url\":null,\"open_issues_count\":0,\"forks\":0,\"open_issues\":0,\"watchers\":0,\"default_branch\":\"master\"}},\"base\":{\"label\":\"Kronos-Integration:master\",\"ref\":\"master\",\"sha\":\"439b2fe802cd05e786ccf09e24dc936ec8de4c3a\",\"user\":{\"login\":\"Kronos-Integration\",\"id\":14301944,\"avatar_url\":\"https://avatars.githubusercontent.com/u/14301944?v=3\",\"gravatar_id\":\"\",\"url\":\"https://api.github.com/users/Kronos-Integration\",\"html_url\":\"https://github.com/Kronos-Integration\",\"followers_url\":\"https://api.github.com/users/Kronos-Integration/followers\",\"following_url\":\"https://api.github.com/users/Kronos-Integration/following{/other_user}\",\"gists_url\":\"https://api.github.com/users/Kronos-Integration/gists{/gist_id}\",\"starred_url\":\"https://api.github.com/users/Kronos-Integration/starred{/owner}{/repo}\",\"subscriptions_url\":\"https://api.github.com/users/Kronos-Integration/subscriptions\",\"organizations_url\":\"https://api.github.com/users/Kronos-Integration/orgs\",\"repos_url\":\"https://api.github.com/users/Kronos-Integration/repos\",\"events_url\":\"https://api.github.com/users/Kronos-Integration/events{/privacy}\",\"received_events_url\":\"https://api.github.com/users/Kronos-Integration/received_events\",\"type\":\"Organization\",\"site_admin\":false},\"repo\":{\"id\":46561125,\"name\":\"kronos-service-admin\",\"full_name\":\"Kronos-Integration/kronos-service-admin\",\"owner\":{\"login\":\"Kronos-Integration\",\"id\":14301944,\"avatar_url\":\"https://avatars.githubusercontent.com/u/14301944?v=3\",\"gravatar_id\":\"\",\"url\":\"https://api.github.com/users/Kronos-Integration\",\"html_url\":\"https://github.com/Kronos-Integration\",\"followers_url\":\"https://api.github.com/users/Kronos-Integration/followers\",\"following_url\":\"https://api.github.com/users/Kronos-Integration/following{/other_user}\",\"gists_url\":\"https://api.github.com/users/Kronos-Integration/gists{/gist_id}\",\"starred_url\":\"https://api.github.com/users/Kronos-Integration/starred{/owner}{/repo}\",\"subscriptions_url\":\"https://api.github.com/users/Kronos-Integration/subscriptions\",\"organizations_url\":\"https://api.github.com/users/Kronos-Integration/orgs\",\"repos_url\":\"https://api.github.com/users/Kronos-Integration/repos\",\"events_url\":\"https://api.github.com/users/Kronos-Integration/events{/privacy}\",\"received_events_url\":\"https://api.github.com/users/Kronos-Integration/received_events\",\"type\":\"Organization\",\"site_admin\":false},\"private\":false,\"html_url\":\"https://github.com/Kronos-Integration/kronos-service-admin\",\"description\":\"\",\"fork\":false,\"url\":\"https://api.github.com/repos/Kronos-Integration/kronos-service-admin\",\"forks_url\":\"https://api.github.com/repos/Kronos-Integration/kronos-service-admin/forks\",\"keys_url\":\"https://api.github.com/repos/Kronos-Integration/kronos-service-admin/keys{/key_id}\",\"collaborators_url\":\"https://api.github.com/repos/Kronos-Integration/kronos-service-admin/collaborators{/collaborator}\",\"teams_url\":\"https://api.github.com/repos/Kronos-Integration/kronos-service-admin/teams\",\"hooks_url\":\"https://api.github.com/repos/Kronos-Integration/kronos-service-admin/hooks\",\"issue_events_url\":\"https://api.github.com/repos/Kronos-Integration/kronos-service-admin/issues/events{/number}\",\"events_url\":\"https://api.github.com/repos/Kronos-Integration/kronos-service-admin/events\",\"assignees_url\":\"https://api.github.com/repos/Kronos-Integration/kronos-service-admin/assignees{/user}\",\"branches_url\":\"https://api.github.com/repos/Kronos-Integration/kronos-service-admin/branches{/branch}\",\"tags_url\":\"https://api.github.com/repos/Kronos-Integration/kronos-service-admin/tags\",\"blobs_url\":\"https://api.github.com/repos/Kronos-Integration/kronos-service-admin/git/blobs{/sha}\",\"git_tags_url\":\"https://api.github.com/repos/Kronos-Integration/kronos-service-admin/git/tags{/sha}\",\"git_refs_url\":\"https://api.github.com/repos/Kronos-Integration/kronos-service-admin/git/refs{/sha}\",\"trees_url\":\"https://api.github.com/repos/Kronos-Integration/kronos-service-admin/git/trees{/sha}\",\"statuses_url\":\"https://api.github.com/repos/Kronos-Integration/kronos-service-admin/statuses/{sha}\",\"languages_url\":\"https://api.github.com/repos/Kronos-Integration/kronos-service-admin/languages\",\"stargazers_url\":\"https://api.github.com/repos/Kronos-Integration/kronos-service-admin/stargazers\",\"contributors_url\":\"https://api.github.com/repos/Kronos-Integration/kronos-service-admin/contributors\",\"subscribers_url\":\"https://api.github.com/repos/Kronos-Integration/kronos-service-admin/subscribers\",\"subscription_url\":\"https://api.github.com/repos/Kronos-Integration/kronos-service-admin/subscription\",\"commits_url\":\"https://api.github.com/repos/Kronos-Integration/kronos-service-admin/commits{/sha}\",\"git_commits_url\":\"https://api.github.com/repos/Kronos-Integration/kronos-service-admin/git/commits{/sha}\",\"comments_url\":\"https://api.github.com/repos/Kronos-Integration/kronos-service-admin/comments{/number}\",\"issue_comment_url\":\"https://api.github.com/repos/Kronos-Integration/kronos-service-admin/issues/comments{/number}\",\"contents_url\":\"https://api.github.com/repos/Kronos-Integration/kronos-service-admin/contents/{+path}\",\"compare_url\":\"https://api.github.com/repos/Kronos-Integration/kronos-service-admin/compare/{base}...{head}\",\"merges_url\":\"https://api.github.com/repos/Kronos-Integration/kronos-service-admin/merges\",\"archive_url\":\"https://api.github.com/repos/Kronos-Integration/kronos-service-admin/{archive_format}{/ref}\",\"downloads_url\":\"https://api.github.com/repos/Kronos-Integration/kronos-service-admin/downloads\",\"issues_url\":\"https://api.github.com/repos/Kronos-Integration/kronos-service-admin/issues{/number}\",\"pulls_url\":\"https://api.github.com/repos/Kronos-Integration/kronos-service-admin/pulls{/number}\",\"milestones_url\":\"https://api.github.com/repos/Kronos-Integration/kronos-service-admin/milestones{/number}\",\"notifications_url\":\"https://api.github.com/repos/Kronos-Integration/kronos-service-admin/notifications{?since,all,participating}\",\"labels_url\":\"https://api.github.com/repos/Kronos-Integration/kronos-service-admin/labels{/name}\",\"releases_url\":\"https://api.github.com/repos/Kronos-Integration/kronos-service-admin/releases{/id}\",\"deployments_url\":\"https://api.github.com/repos/Kronos-Integration/kronos-service-admin/deployments\",\"created_at\":\"2015-11-20T12:38:53Z\",\"updated_at\":\"2016-01-15T16:14:44Z\",\"pushed_at\":\"2016-02-14T15:42:05Z\",\"git_url\":\"git://github.com/Kronos-Integration/kronos-service-admin.git\",\"ssh_url\":\"git@github.com:Kronos-Integration/kronos-service-admin.git\",\"clone_url\":\"https://github.com/Kronos-Integration/kronos-service-admin.git\",\"svn_url\":\"https://github.com/Kronos-Integration/kronos-service-admin\",\"homepage\":null,\"size\":226,\"stargazers_count\":0,\"watchers_count\":0,\"language\":\"JavaScript\",\"has_issues\":true,\"has_downloads\":true,\"has_wiki\":true,\"has_pages\":false,\"forks_count\":0,\"mirror_url\":null,\"open_issues_count\":0,\"forks\":0,\"open_issues\":0,\"watchers\":0,\"default_branch\":\"master\"}},\"_links\":{\"self\":{\"href\":\"https://api.github.com/repos/Kronos-Integration/kronos-service-admin/pulls/149\"},\"html\":{\"href\":\"https://github.com/Kronos-Integration/kronos-service-admin/pull/149\"},\"issue\":{\"href\":\"https://api.github.com/repos/Kronos-Integration/kronos-service-admin/issues/149\"},\"comments\":{\"href\":\"https://api.github.com/repos/Kronos-Integration/kronos-service-admin/issues/149/comments\"},\"review_comments\":{\"href\":\"https://api.github.com/repos/Kronos-Integration/kronos-service-admin/pulls/149/comments\"},\"review_comment\":{\"href\":\"https://api.github.com/repos/Kronos-Integration/kronos-service-admin/pulls/comments{/number}\"},\"commits\":{\"href\":\"https://api.github.com/repos/Kronos-Integration/kronos-service-admin/pulls/149/commits\"},\"statuses\":{\"href\":\"https://api.github.com/repos/Kronos-Integration/kronos-service-admin/statuses/8fafac7af979b993d9a8d63ceb018661007e4e88\"}},\"merged\":true,\"mergeable\":null,\"mergeable_state\":\"unknown\",\"merged_by\":{\"login\":\"arlac77\",\"id\":158862,\"avatar_url\":\"https://avatars.githubusercontent.com/u/158862?v=3\",\"gravatar_id\":\"\",\"url\":\"https://api.github.com/users/arlac77\",\"html_url\":\"https://github.com/arlac77\",\"followers_url\":\"https://api.github.com/users/arlac77/followers\",\"following_url\":\"https://api.github.com/users/arlac77/following{/other_user}\",\"gists_url\":\"https://api.github.com/users/arlac77/gists{/gist_id}\",\"starred_url\":\"https://api.github.com/users/arlac77/starred{/owner}{/repo}\",\"subscriptions_url\":\"https://api.github.com/users/arlac77/subscriptions\",\"organizations_url\":\"https://api.github.com/users/arlac77/orgs\",\"repos_url\":\"https://api.github.com/users/arlac77/repos\",\"events_url\":\"https://api.github.com/users/arlac77/events{/privacy}\",\"received_events_url\":\"https://api.github.com/users/arlac77/received_events\",\"type\":\"User\",\"site_admin\":false},\"comments\":1,\"review_comments\":0,\"commits\":1,\"additions\":1,\"deletions\":1,\"changed_files\":1}},\"public\":true,\"created_at\":\"2016-02-14T15:42:06Z\",\"org\":{\"id\":14301944,\"login\":\"Kronos-Integration\",\"gravatar_id\":\"\",\"url\":\"https://api.github.com/orgs/Kronos-Integration\",\"avatar_url\":\"https://avatars.githubusercontent.com/u/14301944?\"}},{\"id\":\"3642746881\",\"type\":\"PushEvent\",\"actor\":{\"id\":506932,\"login\":\"emersion\",\"gravatar_id\":\"\",\"url\":\"https://api.github.com/users/emersion\",\"avatar_url\":\"https://avatars.githubusercontent.com/u/506932?\"},\"repo\":{\"id\":33442213,\"name\":\"flying-mole/hud\",\"url\":\"https://api.github.com/repos/flying-mole/hud\"},\"payload\":{\"push_id\":976813578,\"size\":1,\"distinct_size\":1,\"ref\":\"refs/heads/mercury\",\"head\":\"eab3d15da429a41add380b276a4d158e8a9ac2de\",\"before\":\"398148ac034f4eceff41b42ce5a16215c3cea897\",\"commits\":[{\"sha\":\"eab3d15da429a41add380b276a4d158e8a9ac2de\",\"author\":{\"email\":\"contact@emersion.fr\",\"name\":\"emersion\"},\"message\":\"Cleanup\",\"distinct\":true,\"url\":\"https://api.github.com/repos/flying-mole/hud/commits/eab3d15da429a41add380b276a4d158e8a9ac2de\"}]},\"public\":true,\"created_at\":\"2016-02-14T15:42:06Z\",\"org\":{\"id\":11330516,\"login\":\"flying-mole\",\"gravatar_id\":\"\",\"url\":\"https://api.github.com/orgs/flying-mole\",\"avatar_url\":\"https://avatars.githubusercontent.com/u/11330516?\"}},{\"id\":\"3642746878\",\"type\":\"CreateEvent\",\"actor\":{\"id\":1690144,\"login\":\"eripal\",\"gravatar_id\":\"\",\"url\":\"https://api.github.com/users/eripal\",\"avatar_url\":\"https://avatars.githubusercontent.com/u/1690144?\"},\"repo\":{\"id\":51700528,\"name\":\"eripal/RaspberryMirror\",\"url\":\"https://api.github.com/repos/eripal/RaspberryMirror\"},\"payload\":{\"ref\":\"master\",\"ref_type\":\"branch\",\"master_branch\":\"master\",\"description\":\"first\",\"pusher_type\":\"user\"},\"public\":true,\"created_at\":\"2016-02-14T15:42:05Z\"},{\"id\":\"3642746877\",\"type\":\"PushEvent\",\"actor\":{\"id\":8517910,\"login\":\"LombiqBot\",\"gravatar_id\":\"\",\"url\":\"https://api.github.com/users/LombiqBot\",\"avatar_url\":\"https://avatars.githubusercontent.com/u/8517910?\"},\"repo\":{\"id\":46594444,\"name\":\"Lombiq/Associativy-Tag-Nodes\",\"url\":\"https://api.github.com/repos/Lombiq/Associativy-Tag-Nodes\"},\"payload\":{\"push_id\":976813576,\"size\":0,\"distinct_size\":0,\"ref\":\"refs/heads/dev\",\"head\":\"15aad4e6818991a2e5cd7d3e6d6928efb52834b9\",\"before\":\"15aad4e6818991a2e5cd7d3e6d6928efb52834b9\",\"commits\":[]},\"public\":true,\"created_at\":\"2016-02-14T15:42:05Z\",\"org\":{\"id\":8158177,\"login\":\"Lombiq\",\"gravatar_id\":\"\",\"url\":\"https://api.github.com/orgs/Lombiq\",\"avatar_url\":\"https://avatars.githubusercontent.com/u/8158177?\"}},{\"id\":\"3642746876\",\"type\":\"PushEvent\",\"actor\":{\"id\":14339045,\"login\":\"chippechipster\",\"gravatar_id\":\"\",\"url\":\"https://api.github.com/users/chippechipster\",\"avatar_url\":\"https://avatars.githubusercontent.com/u/14339045?\"},\"repo\":{\"id\":42747967,\"name\":\"chippechipster/jekyllPush\",\"url\":\"https://api.github.com/repos/chippechipster/jekyllPush\"},\"payload\":{\"push_id\":976813575,\"size\":1,\"distinct_size\":1,\"ref\":\"refs/heads/master\",\"head\":\"c8a0e63e3686919788cbd748d24262c7d44b1e78\",\"before\":\"6ad841ae91f50617d9768f4b2db053967ccb45cb\",\"commits\":[{\"sha\":\"c8a0e63e3686919788cbd748d24262c7d44b1e78\",\"author\":{\"email\":\"chippie@example.com\",\"name\":\"Chippie AutoTest\"},\"message\":\"Updated 1455464585169\",\"distinct\":true,\"url\":\"https://api.github.com/repos/chippechipster/jekyllPush/commits/c8a0e63e3686919788cbd748d24262c7d44b1e78\"}]},\"public\":true,\"created_at\":\"2016-02-14T15:42:05Z\"},{\"id\":\"3642746874\",\"type\":\"IssueCommentEvent\",\"actor\":{\"id\":14044709,\"login\":\"CodeMaxx\",\"gravatar_id\":\"\",\"url\":\"https://api.github.com/users/CodeMaxx\",\"avatar_url\":\"https://avatars.githubusercontent.com/u/14044709?\"},\"repo\":{\"id\":42376,\"name\":\"symengine/symengine\",\"url\":\"https://api.github.com/repos/symengine/symengine\"},\"payload\":{\"action\":\"created\",\"issue\":{\"url\":\"https://api.github.com/repos/symengine/symengine/issues/807\",\"repository_url\":\"https://api.github.com/repos/symengine/symengine\",\"labels_url\":\"https://api.github.com/repos/symengine/symengine/issues/807/labels{/name}\",\"comments_url\":\"https://api.github.com/repos/symengine/symengine/issues/807/comments\",\"events_url\":\"https://api.github.com/repos/symengine/symengine/issues/807/events\",\"html_url\":\"https://github.com/symengine/symengine/pull/807\",\"id\":133332939,\"number\":807,\"title\":\"Corrected Polygamma function and tests.\",\"user\":{\"login\":\"CodeMaxx\",\"id\":14044709,\"avatar_url\":\"https://avatars.githubusercontent.com/u/14044709?v=3\",\"gravatar_id\":\"\",\"url\":\"https://api.github.com/users/CodeMaxx\",\"html_url\":\"https://github.com/CodeMaxx\",\"followers_url\":\"https://api.github.com/users/CodeMaxx/followers\",\"following_url\":\"https://api.github.com/users/CodeMaxx/following{/other_user}\",\"gists_url\":\"https://api.github.com/users/CodeMaxx/gists{/gist_id}\",\"starred_url\":\"https://api.github.com/users/CodeMaxx/starred{/owner}{/repo}\",\"subscriptions_url\":\"https://api.github.com/users/CodeMaxx/subscriptions\",\"organizations_url\":\"https://api.github.com/users/CodeMaxx/orgs\",\"repos_url\":\"https://api.github.com/users/CodeMaxx/repos\",\"events_url\":\"https://api.github.com/users/CodeMaxx/events{/privacy}\",\"received_events_url\":\"https://api.github.com/users/CodeMaxx/received_events\",\"type\":\"User\",\"site_admin\":false},\"labels\":[],\"state\":\"open\",\"locked\":false,\"assignee\":null,\"milestone\":null,\"comments\":10,\"created_at\":\"2016-02-12T20:13:46Z\",\"updated_at\":\"2016-02-14T15:42:05Z\",\"closed_at\":null,\"pull_request\":{\"url\":\"https://api.github.com/repos/symengine/symengine/pulls/807\",\"html_url\":\"https://github.com/symengine/symengine/pull/807\",\"diff_url\":\"https://github.com/symengine/symengine/pull/807.diff\",\"patch_url\":\"https://github.com/symengine/symengine/pull/807.patch\"},\"body\":\"Fixes #806\\\\r\\\\n@isuruf @Sumith1896  \"},\"comment\":{\"url\":\"https://api.github.com/repos/symengine/symengine/issues/comments/183906589\",\"html_url\":\"https://github.com/symengine/symengine/pull/807#issuecomment-183906589\",\"issue_url\":\"https://api.github.com/repos/symengine/symengine/issues/807\",\"id\":183906589,\"user\":{\"login\":\"CodeMaxx\",\"id\":14044709,\"avatar_url\":\"https://avatars.githubusercontent.com/u/14044709?v=3\",\"gravatar_id\":\"\",\"url\":\"https://api.github.com/users/CodeMaxx\",\"html_url\":\"https://github.com/CodeMaxx\",\"followers_url\":\"https://api.github.com/users/CodeMaxx/followers\",\"following_url\":\"https://api.github.com/users/CodeMaxx/following{/other_user}\",\"gists_url\":\"https://api.github.com/users/CodeMaxx/gists{/gist_id}\",\"starred_url\":\"https://api.github.com/users/CodeMaxx/starred{/owner}{/repo}\",\"subscriptions_url\":\"https://api.github.com/users/CodeMaxx/subscriptions\",\"organizations_url\":\"https://api.github.com/users/CodeMaxx/orgs\",\"repos_url\":\"https://api.github.com/users/CodeMaxx/repos\",\"events_url\":\"https://api.github.com/users/CodeMaxx/events{/privacy}\",\"received_events_url\":\"https://api.github.com/users/CodeMaxx/received_events\",\"type\":\"User\",\"site_admin\":false},\"created_at\":\"2016-02-14T15:42:05Z\",\"updated_at\":\"2016-02-14T15:42:05Z\",\"body\":\"@certik Are you referring to the space after if ?\"}},\"public\":true,\"created_at\":\"2016-02-14T15:42:05Z\",\"org\":{\"id\":11509221,\"login\":\"symengine\",\"gravatar_id\":\"\",\"url\":\"https://api.github.com/orgs/symengine\",\"avatar_url\":\"https://avatars.githubusercontent.com/u/11509221?\"}},{\"id\":\"3642746872\",\"type\":\"PushEvent\",\"actor\":{\"id\":5393051,\"login\":\"mixie\",\"gravatar_id\":\"\",\"url\":\"https://api.github.com/users/mixie\",\"avatar_url\":\"https://avatars.githubusercontent.com/u/5393051?\"},\"repo\":{\"id\":51654925,\"name\":\"mixie/edmonds\",\"url\":\"https://api.github.com/repos/mixie/edmonds\"},\"payload\":{\"push_id\":976813574,\"size\":1,\"distinct_size\":1,\"ref\":\"refs/heads/master\",\"head\":\"f3fc48b2c254936af73af96fb131ab69e4a0eeef\",\"before\":\"cfca49ffd3d13134dfd67b69228ac7680c8b7ac3\",\"commits\":[{\"sha\":\"f3fc48b2c254936af73af96fb131ab69e4a0eeef\",\"author\":{\"email\":\"majavajdova@gmail.com\",\"name\":\"Maria Vajdova\"},\"message\":\"com\",\"distinct\":true,\"url\":\"https://api.github.com/repos/mixie/edmonds/commits/f3fc48b2c254936af73af96fb131ab69e4a0eeef\"}]},\"public\":true,\"created_at\":\"2016-02-14T15:42:05Z\"},{\"id\":\"3642746870\",\"type\":\"PushEvent\",\"actor\":{\"id\":583379,\"login\":\"adrn\",\"gravatar_id\":\"\",\"url\":\"https://api.github.com/users/adrn\",\"avatar_url\":\"https://avatars.githubusercontent.com/u/583379?\"},\"repo\":{\"id\":51337984,\"name\":\"adrn/glue\",\"url\":\"https://api.github.com/repos/adrn/glue\"},\"payload\":{\"push_id\":976813573,\"size\":1,\"distinct_size\":1,\"ref\":\"refs/heads/npy-read\",\"head\":\"bf1f38e93762333755edf001341644dc3b9c6398\",\"before\":\"b069f09797f957d133bc92cd90deb6187e739a36\",\"commits\":[{\"sha\":\"bf1f38e93762333755edf001341644dc3b9c6398\",\"author\":{\"email\":\"adrian.prw@gmail.com\",\"name\":\"Adrian Price-Whelan\"},\"message\":\"added a separate npz reader\",\"distinct\":true,\"url\":\"https://api.github.com/repos/adrn/glue/commits/bf1f38e93762333755edf001341644dc3b9c6398\"}]},\"public\":true,\"created_at\":\"2016-02-14T15:42:04Z\"},{\"id\":\"3642746867\",\"type\":\"WatchEvent\",\"actor\":{\"id\":8063392,\"login\":\"MicroDreamIT\",\"gravatar_id\":\"\",\"url\":\"https://api.github.com/users/MicroDreamIT\",\"avatar_url\":\"https://avatars.githubusercontent.com/u/8063392?\"},\"repo\":{\"id\":17119190,\"name\":\"Propaganistas/Laravel-Phone\",\"url\":\"https://api.github.com/repos/Propaganistas/Laravel-Phone\"},\"payload\":{\"action\":\"started\"},\"public\":true,\"created_at\":\"2016-02-14T15:42:04Z\"},{\"id\":\"3642746865\",\"type\":\"GollumEvent\",\"actor\":{\"id\":13545702,\"login\":\"vedprakash-singh\",\"gravatar_id\":\"\",\"url\":\"https://api.github.com/users/vedprakash-singh\",\"avatar_url\":\"https://avatars.githubusercontent.com/u/13545702?\"},\"repo\":{\"id\":46613911,\"name\":\"rklick-solutions/spark-tutorial\",\"url\":\"https://api.github.com/repos/rklick-solutions/spark-tutorial\"},\"payload\":{\"pages\":[{\"page_name\":\"Spark-Core\",\"title\":\"Spark Core\",\"summary\":null,\"action\":\"edited\",\"sha\":\"c60de1579956ea0c22d76c2c2abf606abcad44ac\",\"html_url\":\"/rklick-solutions/spark-tutorial/wiki/Spark-Core\"}]},\"public\":true,\"created_at\":\"2016-02-14T15:42:04Z\",\"org\":{\"id\":14367152,\"login\":\"rklick-solutions\",\"gravatar_id\":\"\",\"url\":\"https://api.github.com/orgs/rklick-solutions\",\"avatar_url\":\"https://avatars.githubusercontent.com/u/14367152?\"}},{\"id\":\"3642746864\",\"type\":\"PushEvent\",\"actor\":{\"id\":8517910,\"login\":\"LombiqBot\",\"gravatar_id\":\"\",\"url\":\"https://api.github.com/users/LombiqBot\",\"avatar_url\":\"https://avatars.githubusercontent.com/u/8517910?\"},\"repo\":{\"id\":46594444,\"name\":\"Lombiq/Associativy-Tag-Nodes\",\"url\":\"https://api.github.com/repos/Lombiq/Associativy-Tag-Nodes\"},\"payload\":{\"push_id\":976813571,\"size\":0,\"distinct_size\":0,\"ref\":\"refs/heads/Orchard-1.9\",\"head\":\"380ed028837810afeb8fce7e995140fee72f0206\",\"before\":\"380ed028837810afeb8fce7e995140fee72f0206\",\"commits\":[]},\"public\":true,\"created_at\":\"2016-02-14T15:42:04Z\",\"org\":{\"id\":8158177,\"login\":\"Lombiq\",\"gravatar_id\":\"\",\"url\":\"https://api.github.com/orgs/Lombiq\",\"avatar_url\":\"https://avatars.githubusercontent.com/u/8158177?\"}},{\"id\":\"3642746862\",\"type\":\"IssuesEvent\",\"actor\":{\"id\":8168799,\"login\":\"gram7gram\",\"gravatar_id\":\"\",\"url\":\"https://api.github.com/users/gram7gram\",\"avatar_url\":\"https://avatars.githubusercontent.com/u/8168799?\"},\"repo\":{\"id\":29053952,\"name\":\"gram7gram/DivineDefense\",\"url\":\"https://api.github.com/repos/gram7gram/DivineDefense\"},\"payload\":{\"action\":\"closed\",\"issue\":{\"url\":\"https://api.github.com/repos/gram7gram/DivineDefense/issues/26\",\"repository_url\":\"https://api.github.com/repos/gram7gram/DivineDefense\",\"labels_url\":\"https://api.github.com/repos/gram7gram/DivineDefense/issues/26/labels{/name}\",\"comments_url\":\"https://api.github.com/repos/gram7gram/DivineDefense/issues/26/comments\",\"events_url\":\"https://api.github.com/repos/gram7gram/DivineDefense/issues/26/events\",\"html_url\":\"https://github.com/gram7gram/DivineDefense/issues/26\",\"id\":127755825,\"number\":26,\"title\":\"DD-26 Save player data\",\"user\":{\"login\":\"gram7gram\",\"id\":8168799,\"avatar_url\":\"https://avatars.githubusercontent.com/u/8168799?v=3\",\"gravatar_id\":\"\",\"url\":\"https://api.github.com/users/gram7gram\",\"html_url\":\"https://github.com/gram7gram\",\"followers_url\":\"https://api.github.com/users/gram7gram/followers\",\"following_url\":\"https://api.github.com/users/gram7gram/following{/other_user}\",\"gists_url\":\"https://api.github.com/users/gram7gram/gists{/gist_id}\",\"starred_url\":\"https://api.github.com/users/gram7gram/starred{/owner}{/repo}\",\"subscriptions_url\":\"https://api.github.com/users/gram7gram/subscriptions\",\"organizations_url\":\"https://api.github.com/users/gram7gram/orgs\",\"repos_url\":\"https://api.github.com/users/gram7gram/repos\",\"events_url\":\"https://api.github.com/users/gram7gram/events{/privacy}\",\"received_events_url\":\"https://api.github.com/users/gram7gram/received_events\",\"type\":\"User\",\"site_admin\":false},\"labels\":[{\"url\":\"https://api.github.com/repos/gram7gram/DivineDefense/labels/task\",\"name\":\"task\",\"color\":\"fbca04\"}],\"state\":\"closed\",\"locked\":false,\"assignee\":null,\"milestone\":{\"url\":\"https://api.github.com/repos/gram7gram/DivineDefense/milestones/7\",\"html_url\":\"https://github.com/gram7gram/DivineDefense/milestones/Version%201\",\"labels_url\":\"https://api.github.com/repos/gram7gram/DivineDefense/milestones/7/labels\",\"id\":1556229,\"number\":7,\"title\":\"Version 1\",\"description\":null,\"creator\":{\"login\":\"gram7gram\",\"id\":8168799,\"avatar_url\":\"https://avatars.githubusercontent.com/u/8168799?v=3\",\"gravatar_id\":\"\",\"url\":\"https://api.github.com/users/gram7gram\",\"html_url\":\"https://github.com/gram7gram\",\"followers_url\":\"https://api.github.com/users/gram7gram/followers\",\"following_url\":\"https://api.github.com/users/gram7gram/following{/other_user}\",\"gists_url\":\"https://api.github.com/users/gram7gram/gists{/gist_id}\",\"starred_url\":\"https://api.github.com/users/gram7gram/starred{/owner}{/repo}\",\"subscriptions_url\":\"https://api.github.com/users/gram7gram/subscriptions\",\"organizations_url\":\"https://api.github.com/users/gram7gram/orgs\",\"repos_url\":\"https://api.github.com/users/gram7gram/repos\",\"events_url\":\"https://api.github.com/users/gram7gram/events{/privacy}\",\"received_events_url\":\"https://api.github.com/users/gram7gram/received_events\",\"type\":\"User\",\"site_admin\":false},\"open_issues\":4,\"closed_issues\":1,\"state\":\"open\",\"created_at\":\"2016-02-01T17:12:00Z\",\"updated_at\":\"2016-02-14T15:42:04Z\",\"due_on\":null,\"closed_at\":null},\"comments\":0,\"created_at\":\"2016-01-20T18:43:17Z\",\"updated_at\":\"2016-02-14T15:42:04Z\",\"closed_at\":\"2016-02-14T15:42:04Z\",\"body\":\"\"}},\"public\":true,\"created_at\":\"2016-02-14T15:42:04Z\"},{\"id\":\"3642746860\",\"type\":\"PullRequestEvent\",\"actor\":{\"id\":78121,\"login\":\"garbagetown\",\"gravatar_id\":\"\",\"url\":\"https://api.github.com/users/garbagetown\",\"avatar_url\":\"https://avatars.githubusercontent.com/u/78121?\"},\"repo\":{\"id\":1046288,\"name\":\"playframework-ja/translation-project\",\"url\":\"https://api.github.com/repos/playframework-ja/translation-project\"},\"payload\":{\"action\":\"opened\",\"number\":1321,\"pull_request\":{\"url\":\"https://api.github.com/repos/playframework-ja/translation-project/pulls/1321\",\"id\":59298093,\"html_url\":\"https://github.com/playframework-ja/translation-project/pull/1321\",\"diff_url\":\"https://github.com/playframework-ja/translation-project/pull/1321.diff\",\"patch_url\":\"https://github.com/playframework-ja/translation-project/pull/1321.patch\",\"issue_url\":\"https://api.github.com/repos/playframework-ja/translation-project/issues/1321\",\"number\":1321,\"state\":\"open\",\"locked\":false,\"title\":\"Issues 1195\",\"user\":{\"login\":\"garbagetown\",\"id\":78121,\"avatar_url\":\"https://avatars.githubusercontent.com/u/78121?v=3\",\"gravatar_id\":\"\",\"url\":\"https://api.github.com/users/garbagetown\",\"html_url\":\"https://github.com/garbagetown\",\"followers_url\":\"https://api.github.com/users/garbagetown/followers\",\"following_url\":\"https://api.github.com/users/garbagetown/following{/other_user}\",\"gists_url\":\"https://api.github.com/users/garbagetown/gists{/gist_id}\",\"starred_url\":\"https://api.github.com/users/garbagetown/starred{/owner}{/repo}\",\"subscriptions_url\":\"https://api.github.com/users/garbagetown/subscriptions\",\"organizations_url\":\"https://api.github.com/users/garbagetown/orgs\",\"repos_url\":\"https://api.github.com/users/garbagetown/repos\",\"events_url\":\"https://api.github.com/users/garbagetown/events{/privacy}\",\"received_events_url\":\"https://api.github.com/users/garbagetown/received_events\",\"type\":\"User\",\"site_admin\":false},\"body\":\"\",\"created_at\":\"2016-02-14T15:42:04Z\",\"updated_at\":\"2016-02-14T15:42:04Z\",\"closed_at\":null,\"merged_at\":null,\"merge_commit_sha\":null,\"assignee\":null,\"milestone\":null,\"commits_url\":\"https://api.github.com/repos/playframework-ja/translation-project/pulls/1321/commits\",\"review_comments_url\":\"https://api.github.com/repos/playframework-ja/translation-project/pulls/1321/comments\",\"review_comment_url\":\"https://api.github.com/repos/playframework-ja/translation-project/pulls/comments{/number}\",\"comments_url\":\"https://api.github.com/repos/playframework-ja/translation-project/issues/1321/comments\",\"statuses_url\":\"https://api.github.com/repos/playframework-ja/translation-project/statuses/169de48c61f202a88a581925958940d51a09336d\",\"head\":{\"label\":\"garbagetown:issues_1195\",\"ref\":\"issues_1195\",\"sha\":\"169de48c61f202a88a581925958940d51a09336d\",\"user\":{\"login\":\"garbagetown\",\"id\":78121,\"avatar_url\":\"https://avatars.githubusercontent.com/u/78121?v=3\",\"gravatar_id\":\"\",\"url\":\"https://api.github.com/users/garbagetown\",\"html_url\":\"https://github.com/garbagetown\",\"followers_url\":\"https://api.github.com/users/garbagetown/followers\",\"following_url\":\"https://api.github.com/users/garbagetown/following{/other_user}\",\"gists_url\":\"https://api.github.com/users/garbagetown/gists{/gist_id}\",\"starred_url\":\"https://api.github.com/users/garbagetown/starred{/owner}{/repo}\",\"subscriptions_url\":\"https://api.github.com/users/garbagetown/subscriptions\",\"organizations_url\":\"https://api.github.com/users/garbagetown/orgs\",\"repos_url\":\"https://api.github.com/users/garbagetown/repos\",\"events_url\":\"https://api.github.com/users/garbagetown/events{/privacy}\",\"received_events_url\":\"https://api.github.com/users/garbagetown/received_events\",\"type\":\"User\",\"site_admin\":false},\"repo\":{\"id\":23583678,\"name\":\"translation-project\",\"full_name\":\"garbagetown/translation-project\",\"owner\":{\"login\":\"garbagetown\",\"id\":78121,\"avatar_url\":\"https://avatars.githubusercontent.com/u/78121?v=3\",\"gravatar_id\":\"\",\"url\":\"https://api.github.com/users/garbagetown\",\"html_url\":\"https://github.com/garbagetown\",\"followers_url\":\"https://api.github.com/users/garbagetown/followers\",\"following_url\":\"https://api.github.com/users/garbagetown/following{/other_user}\",\"gists_url\":\"https://api.github.com/users/garbagetown/gists{/gist_id}\",\"starred_url\":\"https://api.github.com/users/garbagetown/starred{/owner}{/repo}\",\"subscriptions_url\":\"https://api.github.com/users/garbagetown/subscriptions\",\"organizations_url\":\"https://api.github.com/users/garbagetown/orgs\",\"repos_url\":\"https://api.github.com/users/garbagetown/repos\",\"events_url\":\"https://api.github.com/users/garbagetown/events{/privacy}\",\"received_events_url\":\"https://api.github.com/users/garbagetown/received_events\",\"type\":\"User\",\"site_admin\":false},\"private\":false,\"html_url\":\"https://github.com/garbagetown/translation-project\",\"description\":\"Play Framework Documentation Japanese Translation\",\"fork\":true,\"url\":\"https://api.github.com/repos/garbagetown/translation-project\",\"forks_url\":\"https://api.github.com/repos/garbagetown/translation-project/forks\",\"keys_url\":\"https://api.github.com/repos/garbagetown/translation-project/keys{/key_id}\",\"collaborators_url\":\"https://api.github.com/repos/garbagetown/translation-project/collaborators{/collaborator}\",\"teams_url\":\"https://api.github.com/repos/garbagetown/translation-project/teams\",\"hooks_url\":\"https://api.github.com/repos/garbagetown/translation-project/hooks\",\"issue_events_url\":\"https://api.github.com/repos/garbagetown/translation-project/issues/events{/number}\",\"events_url\":\"https://api.github.com/repos/garbagetown/translation-project/events\",\"assignees_url\":\"https://api.github.com/repos/garbagetown/translation-project/assignees{/user}\",\"branches_url\":\"https://api.github.com/repos/garbagetown/translation-project/branches{/branch}\",\"tags_url\":\"https://api.github.com/repos/garbagetown/translation-project/tags\",\"blobs_url\":\"https://api.github.com/repos/garbagetown/translation-project/git/blobs{/sha}\",\"git_tags_url\":\"https://api.github.com/repos/garbagetown/translation-project/git/tags{/sha}\",\"git_refs_url\":\"https://api.github.com/repos/garbagetown/translation-project/git/refs{/sha}\",\"trees_url\":\"https://api.github.com/repos/garbagetown/translation-project/git/trees{/sha}\",\"statuses_url\":\"https://api.github.com/repos/garbagetown/translation-project/statuses/{sha}\",\"languages_url\":\"https://api.github.com/repos/garbagetown/translation-project/languages\",\"stargazers_url\":\"https://api.github.com/repos/garbagetown/translation-project/stargazers\",\"contributors_url\":\"https://api.github.com/repos/garbagetown/translation-project/contributors\",\"subscribers_url\":\"https://api.github.com/repos/garbagetown/translation-project/subscribers\",\"subscription_url\":\"https://api.github.com/repos/garbagetown/translation-project/subscription\",\"commits_url\":\"https://api.github.com/repos/garbagetown/translation-project/commits{/sha}\",\"git_commits_url\":\"https://api.github.com/repos/garbagetown/translation-project/git/commits{/sha}\",\"comments_url\":\"https://api.github.com/repos/garbagetown/translation-project/comments{/number}\",\"issue_comment_url\":\"https://api.github.com/repos/garbagetown/translation-project/issues/comments{/number}\",\"contents_url\":\"https://api.github.com/repos/garbagetown/translation-project/contents/{+path}\",\"compare_url\":\"https://api.github.com/repos/garbagetown/translation-project/compare/{base}...{head}\",\"merges_url\":\"https://api.github.com/repos/garbagetown/translation-project/merges\",\"archive_url\":\"https://api.github.com/repos/garbagetown/translation-project/{archive_format}{/ref}\",\"downloads_url\":\"https://api.github.com/repos/garbagetown/translation-project/downloads\",\"issues_url\":\"https://api.github.com/repos/garbagetown/translation-project/issues{/number}\",\"pulls_url\":\"https://api.github.com/repos/garbagetown/translation-project/pulls{/number}\",\"milestones_url\":\"https://api.github.com/repos/garbagetown/translation-project/milestones{/number}\",\"notifications_url\":\"https://api.github.com/repos/garbagetown/translation-project/notifications{?since,all,participating}\",\"labels_url\":\"https://api.github.com/repos/garbagetown/translation-project/labels{/name}\",\"releases_url\":\"https://api.github.com/repos/garbagetown/translation-project/releases{/id}\",\"deployments_url\":\"https://api.github.com/repos/garbagetown/translation-project/deployments\",\"created_at\":\"2014-09-02T15:17:01Z\",\"updated_at\":\"2016-02-11T14:19:52Z\",\"pushed_at\":\"2016-02-14T15:41:46Z\",\"git_url\":\"git://github.com/garbagetown/translation-project.git\",\"ssh_url\":\"git@github.com:garbagetown/translation-project.git\",\"clone_url\":\"https://github.com/garbagetown/translation-project.git\",\"svn_url\":\"https://github.com/garbagetown/translation-project\",\"homepage\":\"\",\"size\":22834,\"stargazers_count\":0,\"watchers_count\":0,\"language\":\"Scala\",\"has_issues\":false,\"has_downloads\":true,\"has_wiki\":true,\"has_pages\":false,\"forks_count\":0,\"mirror_url\":null,\"open_issues_count\":0,\"forks\":0,\"open_issues\":0,\"watchers\":0,\"default_branch\":\"2.4.x\"}},\"base\":{\"label\":\"playframework-ja:2.4.x\",\"ref\":\"2.4.x\",\"sha\":\"71ab4cdcb234058be249c63f8fa8ae4abb623e0b\",\"user\":{\"login\":\"playframework-ja\",\"id\":1250208,\"avatar_url\":\"https://avatars.githubusercontent.com/u/1250208?v=3\",\"gravatar_id\":\"\",\"url\":\"https://api.github.com/users/playframework-ja\",\"html_url\":\"https://github.com/playframework-ja\",\"followers_url\":\"https://api.github.com/users/playframework-ja/followers\",\"following_url\":\"https://api.github.com/users/playframework-ja/following{/other_user}\",\"gists_url\":\"https://api.github.com/users/playframework-ja/gists{/gist_id}\",\"starred_url\":\"https://api.github.com/users/playframework-ja/starred{/owner}{/repo}\",\"subscriptions_url\":\"https://api.github.com/users/playframework-ja/subscriptions\",\"organizations_url\":\"https://api.github.com/users/playframework-ja/orgs\",\"repos_url\":\"https://api.github.com/users/playframework-ja/repos\",\"events_url\":\"https://api.github.com/users/playframework-ja/events{/privacy}\",\"received_events_url\":\"https://api.github.com/users/playframework-ja/received_events\",\"type\":\"Organization\",\"site_admin\":false},\"repo\":{\"id\":1046288,\"name\":\"translation-project\",\"full_name\":\"playframework-ja/translation-project\",\"owner\":{\"login\":\"playframework-ja\",\"id\":1250208,\"avatar_url\":\"https://avatars.githubusercontent.com/u/1250208?v=3\",\"gravatar_id\":\"\",\"url\":\"https://api.github.com/users/playframework-ja\",\"html_url\":\"https://github.com/playframework-ja\",\"followers_url\":\"https://api.github.com/users/playframework-ja/followers\",\"following_url\":\"https://api.github.com/users/playframework-ja/following{/other_user}\",\"gists_url\":\"https://api.github.com/users/playframework-ja/gists{/gist_id}\",\"starred_url\":\"https://api.github.com/users/playframework-ja/starred{/owner}{/repo}\",\"subscriptions_url\":\"https://api.github.com/users/playframework-ja/subscriptions\",\"organizations_url\":\"https://api.github.com/users/playframework-ja/orgs\",\"repos_url\":\"https://api.github.com/users/playframework-ja/repos\",\"events_url\":\"https://api.github.com/users/playframework-ja/events{/privacy}\",\"received_events_url\":\"https://api.github.com/users/playframework-ja/received_events\",\"type\":\"Organization\",\"site_admin\":false},\"private\":false,\"html_url\":\"https://github.com/playframework-ja/translation-project\",\"description\":\"Play Framework Documentation Japanese Translation\",\"fork\":false,\"url\":\"https://api.github.com/repos/playframework-ja/translation-project\",\"forks_url\":\"https://api.github.com/repos/playframework-ja/translation-project/forks\",\"keys_url\":\"https://api.github.com/repos/playframework-ja/translation-project/keys{/key_id}\",\"collaborators_url\":\"https://api.github.com/repos/playframework-ja/translation-project/collaborators{/collaborator}\",\"teams_url\":\"https://api.github.com/repos/playframework-ja/translation-project/teams\",\"hooks_url\":\"https://api.github.com/repos/playframework-ja/translation-project/hooks\",\"issue_events_url\":\"https://api.github.com/repos/playframework-ja/translation-project/issues/events{/number}\",\"events_url\":\"https://api.github.com/repos/playframework-ja/translation-project/events\",\"assignees_url\":\"https://api.github.com/repos/playframework-ja/translation-project/assignees{/user}\",\"branches_url\":\"https://api.github.com/repos/playframework-ja/translation-project/branches{/branch}\",\"tags_url\":\"https://api.github.com/repos/playframework-ja/translation-project/tags\",\"blobs_url\":\"https://api.github.com/repos/playframework-ja/translation-project/git/blobs{/sha}\",\"git_tags_url\":\"https://api.github.com/repos/playframework-ja/translation-project/git/tags{/sha}\",\"git_refs_url\":\"https://api.github.com/repos/playframework-ja/translation-project/git/refs{/sha}\",\"trees_url\":\"https://api.github.com/repos/playframework-ja/translation-project/git/trees{/sha}\",\"statuses_url\":\"https://api.github.com/repos/playframework-ja/translation-project/statuses/{sha}\",\"languages_url\":\"https://api.github.com/repos/playframework-ja/translation-project/languages\",\"stargazers_url\":\"https://api.github.com/repos/playframework-ja/translation-project/stargazers\",\"contributors_url\":\"https://api.github.com/repos/playframework-ja/translation-project/contributors\",\"subscribers_url\":\"https://api.github.com/repos/playframework-ja/translation-project/subscribers\",\"subscription_url\":\"https://api.github.com/repos/playframework-ja/translation-project/subscription\",\"commits_url\":\"https://api.github.com/repos/playframework-ja/translation-project/commits{/sha}\",\"git_commits_url\":\"https://api.github.com/repos/playframework-ja/translation-project/git/commits{/sha}\",\"comments_url\":\"https://api.github.com/repos/playframework-ja/translation-project/comments{/number}\",\"issue_comment_url\":\"https://api.github.com/repos/playframework-ja/translation-project/issues/comments{/number}\",\"contents_url\":\"https://api.github.com/repos/playframework-ja/translation-project/contents/{+path}\",\"compare_url\":\"https://api.github.com/repos/playframework-ja/translation-project/compare/{base}...{head}\",\"merges_url\":\"https://api.github.com/repos/playframework-ja/translation-project/merges\",\"archive_url\":\"https://api.github.com/repos/playframework-ja/translation-project/{archive_format}{/ref}\",\"downloads_url\":\"https://api.github.com/repos/playframework-ja/translation-project/downloads\",\"issues_url\":\"https://api.github.com/repos/playframework-ja/translation-project/issues{/number}\",\"pulls_url\":\"https://api.github.com/repos/playframework-ja/translation-project/pulls{/number}\",\"milestones_url\":\"https://api.github.com/repos/playframework-ja/translation-project/milestones{/number}\",\"notifications_url\":\"https://api.github.com/repos/playframework-ja/translation-project/notifications{?since,all,participating}\",\"labels_url\":\"https://api.github.com/repos/playframework-ja/translation-project/labels{/name}\",\"releases_url\":\"https://api.github.com/repos/playframework-ja/translation-project/releases{/id}\",\"deployments_url\":\"https://api.github.com/repos/playframework-ja/translation-project/deployments\",\"created_at\":\"2010-11-02T22:42:25Z\",\"updated_at\":\"2016-02-04T09:18:30Z\",\"pushed_at\":\"2016-02-14T06:16:59Z\",\"git_url\":\"git://github.com/playframework-ja/translation-project.git\",\"ssh_url\":\"git@github.com:playframework-ja/translation-project.git\",\"clone_url\":\"https://github.com/playframework-ja/translation-project.git\",\"svn_url\":\"https://github.com/playframework-ja/translation-project\",\"homepage\":\"\",\"size\":38762,\"stargazers_count\":42,\"watchers_count\":42,\"language\":\"Scala\",\"has_issues\":true,\"has_downloads\":true,\"has_wiki\":true,\"has_pages\":false,\"forks_count\":118,\"mirror_url\":null,\"open_issues_count\":326,\"forks\":118,\"open_issues\":326,\"watchers\":42,\"default_branch\":\"2.4.x\"}},\"_links\":{\"self\":{\"href\":\"https://api.github.com/repos/playframework-ja/translation-project/pulls/1321\"},\"html\":{\"href\":\"https://github.com/playframework-ja/translation-project/pull/1321\"},\"issue\":{\"href\":\"https://api.github.com/repos/playframework-ja/translation-project/issues/1321\"},\"comments\":{\"href\":\"https://api.github.com/repos/playframework-ja/translation-project/issues/1321/comments\"},\"review_comments\":{\"href\":\"https://api.github.com/repos/playframework-ja/translation-project/pulls/1321/comments\"},\"review_comment\":{\"href\":\"https://api.github.com/repos/playframework-ja/translation-project/pulls/comments{/number}\"},\"commits\":{\"href\":\"https://api.github.com/repos/playframework-ja/translation-project/pulls/1321/commits\"},\"statuses\":{\"href\":\"https://api.github.com/repos/playframework-ja/translation-project/statuses/169de48c61f202a88a581925958940d51a09336d\"}},\"merged\":false,\"mergeable\":null,\"mergeable_state\":\"unknown\",\"merged_by\":null,\"comments\":0,\"review_comments\":0,\"commits\":2,\"additions\":181,\"deletions\":0,\"changed_files\":1}},\"public\":true,\"created_at\":\"2016-02-14T15:42:04Z\",\"org\":{\"id\":1250208,\"login\":\"playframework-ja\",\"gravatar_id\":\"\",\"url\":\"https://api.github.com/orgs/playframework-ja\",\"avatar_url\":\"https://avatars.githubusercontent.com/u/1250208?\"}}]'"
      ]
     },
     "execution_count": 91,
     "metadata": {},
     "output_type": "execute_result"
    }
   ],
   "source": [
    "import requests\n",
    "r = requests.get('https://api.github.com/events')\n",
    "r.content"
   ]
  },
  {
   "cell_type": "markdown",
   "metadata": {},
   "source": [
    "#### For advanced users\n",
    "\n",
    "- python enhancement proposals: https://www.python.org/dev/peps/ \n",
    "- let's look into Full Python Grammar specification: https://docs.python.org/3.1/reference/grammar.html\n",
    "- python official repository: https://hg.python.org/\n"
   ]
  },
  {
   "cell_type": "markdown",
   "metadata": {},
   "source": [
    "### How to install 3rd party libraries\n",
    "\n",
    "- PyPI - the Python Package Index (repository of python non-standard libraries), currently ~ 75 k libraries\n",
    "- to install additional libraries you need to use additional program:\n",
    "    - easy_install - very basic lib installer\n",
    "    - pip - is the preferred installer program\n",
    "    \n",
    "Examples:\n",
    "```bash\n",
    "$ pip install SomePackage\n",
    "```\n",
    "\n",
    "```bash\n",
    "python -m pip install SomePackage\n",
    "```\n",
    "\n",
    "```bash\n",
    "pip install SomePackage==1.0.4    # specific version\n",
    "```\n",
    "\n",
    "```bash\n",
    "$ pip show --files SomePackage\n",
    "  Name: SomePackage\n",
    "  Version: 1.0\n",
    "  Location: /my/env/lib/pythonx.x/site-packages\n",
    "  Files:\n",
    "   ../somepackage/__init__.py\n",
    "   [...]\n",
    "```\n",
    "\n",
    "Sources:\n",
    "- https://pypi.python.org/pypi/pip\n",
    "- https://docs.python.org/dev/installing/\n",
    "- https://pypi.python.org/pypi\n",
    "- https://pip.pypa.io/en/stable/installing/\n",
    "- http://python-packaging-user-guide.readthedocs.org/en/latest/pip_easy_install/"
   ]
  },
  {
   "cell_type": "markdown",
   "metadata": {},
   "source": [
    "### Virtual environments\n",
    "\n",
    "> a virtual environment is a semi-isolated Python environment that allows packages to be installed for use by a particular application, rather than being installed system wide\n",
    "\n",
    "\n",
    "Steps to create virtual environment:\n",
    "- Install virtual environment\n",
    "```\n",
    "$ pip install virtualenv\n",
    "```\n",
    "\n",
    "- Create a virtual environment for a project\n",
    "\n",
    "```\n",
    "$ mkdir lab_env\n",
    "$ cd lab_env\n",
    "$ virtualenv lab_env \n",
    "```\n",
    "\n",
    "- You can use your virtual python interpreter\n",
    "\n",
    "```\n",
    "$ source venv/bin/activate\n",
    "(lab_env) $ pip install requests\n",
    "```\n",
    "\n",
    "\n",
    "Sources:\n",
    "- http://docs.python-guide.org/en/latest/dev/virtualenvs/"
   ]
  },
  {
   "cell_type": "markdown",
   "metadata": {},
   "source": [
    "### Scopes - local vs global\n",
    "\n",
    "```python\n",
    "X = 1 # Global scope\n",
    "\n",
    "def fn1():  # Local scope inside function fn1\n",
    "    X = 2\n",
    "    fn1 = 1\n",
    "    \n",
    "def fn2():  # Local scope inside function fn2\n",
    "    X = 3\n",
    "    fn2 = 3\n",
    "\n",
    "# Global scope\n",
    "\n",
    "Y = 3 \n",
    "fn1 = fn1()\n",
    "fn2 = fn2()\n",
    "\n",
    "```\n",
    "\n",
    "#### Scope\n",
    "- The places where variables are defined and looked up\n",
    "- Help prevent name clashes across your program’s code\n",
    "\n",
    "- Names assigned inside a def can only be seen by the code within that def\n",
    "- Names assigned inside a def do not clash with variables outside the def, even if the same names are used elsewhere\n",
    "\n",
    "- If a variable is assigned inside a def, it is local to that function.\n",
    "- If a variable is assigned outside all defs, it is global to the entire file\n",
    "\n",
    "#### Scopes in Python\n",
    "\n",
    "local namespace \n",
    "    - specific to the current function or class method. If the function defines a local variable x, or has an argument x, Python will use this and stop searching.\n",
    "\n",
    "global namespace \n",
    "    - specific to the current module. If the module has defined a variable, function, or class called x, Python will use that and stop searching.\n",
    "\n",
    "built-in namespace \n",
    "    - global to all modules. As a last resort, Python will assume that x is the name of built-in function or variable.\n",
    "\n",
    "#### Global\n",
    "\n",
    "- By default, all names assigned in a function are local to that function\n",
    "- Global declares module-level variables that are to be assigned\n",
    "- Global names are variables assigned at the top level of the enclosing module file\n",
    "\n",
    "- \"global\" statement tells that a function plans to change one or more global names"
   ]
  },
  {
   "cell_type": "code",
   "execution_count": 92,
   "metadata": {
    "collapsed": false
   },
   "outputs": [],
   "source": [
    "X = 1 # Global scope\n",
    "\n",
    "def fn1():  # Local scope inside function fn1\n",
    "    X = 2\n",
    "    fn1 = 1\n",
    "    \n",
    "def fn2():  # Local scope inside function fn2\n",
    "    X = 3\n",
    "    fn2 = 3\n",
    "\n",
    "# Global scope\n",
    "\n",
    "Y = 3 \n",
    "fn1 = fn1()"
   ]
  },
  {
   "cell_type": "code",
   "execution_count": 93,
   "metadata": {
    "collapsed": false
   },
   "outputs": [
    {
     "name": "stdout",
     "output_type": "stream",
     "text": [
      "{'a': 1, 'b': 2}\n"
     ]
    }
   ],
   "source": [
    "# locals() functions returns all names from local scope\n",
    "\n",
    "def print_locals():\n",
    "    a = 1\n",
    "    b = 2\n",
    "    print(locals())\n",
    "    \n",
    "print_locals()"
   ]
  },
  {
   "cell_type": "code",
   "execution_count": 94,
   "metadata": {
    "collapsed": false
   },
   "outputs": [
    {
     "data": {
      "text/plain": [
       "['ArithmeticError',\n",
       " 'AssertionError',\n",
       " 'AttributeError',\n",
       " 'BaseException',\n",
       " 'BlockingIOError',\n",
       " 'BrokenPipeError',\n",
       " 'BufferError',\n",
       " 'BytesWarning',\n",
       " 'ChildProcessError',\n",
       " 'ConnectionAbortedError',\n",
       " 'ConnectionError',\n",
       " 'ConnectionRefusedError',\n",
       " 'ConnectionResetError',\n",
       " 'DeprecationWarning',\n",
       " 'EOFError',\n",
       " 'Ellipsis',\n",
       " 'EnvironmentError',\n",
       " 'Exception',\n",
       " 'False',\n",
       " 'FileExistsError',\n",
       " 'FileNotFoundError',\n",
       " 'FloatingPointError',\n",
       " 'FutureWarning',\n",
       " 'GeneratorExit',\n",
       " 'IOError',\n",
       " 'ImportError',\n",
       " 'ImportWarning',\n",
       " 'IndentationError',\n",
       " 'IndexError',\n",
       " 'InterruptedError',\n",
       " 'IsADirectoryError',\n",
       " 'KeyError',\n",
       " 'KeyboardInterrupt',\n",
       " 'LookupError',\n",
       " 'MemoryError',\n",
       " 'NameError',\n",
       " 'None',\n",
       " 'NotADirectoryError',\n",
       " 'NotImplemented',\n",
       " 'NotImplementedError',\n",
       " 'OSError',\n",
       " 'OverflowError',\n",
       " 'PendingDeprecationWarning',\n",
       " 'PermissionError',\n",
       " 'ProcessLookupError',\n",
       " 'RecursionError',\n",
       " 'ReferenceError',\n",
       " 'ResourceWarning',\n",
       " 'RuntimeError',\n",
       " 'RuntimeWarning',\n",
       " 'StopAsyncIteration',\n",
       " 'StopIteration',\n",
       " 'SyntaxError',\n",
       " 'SyntaxWarning',\n",
       " 'SystemError',\n",
       " 'SystemExit',\n",
       " 'TabError',\n",
       " 'TimeoutError',\n",
       " 'True',\n",
       " 'TypeError',\n",
       " 'UnboundLocalError',\n",
       " 'UnicodeDecodeError',\n",
       " 'UnicodeEncodeError',\n",
       " 'UnicodeError',\n",
       " 'UnicodeTranslateError',\n",
       " 'UnicodeWarning',\n",
       " 'UserWarning',\n",
       " 'ValueError',\n",
       " 'Warning',\n",
       " 'WindowsError',\n",
       " 'ZeroDivisionError',\n",
       " '__IPYTHON__',\n",
       " '__IPYTHON__active',\n",
       " '__build_class__',\n",
       " '__debug__',\n",
       " '__doc__',\n",
       " '__import__',\n",
       " '__loader__',\n",
       " '__name__',\n",
       " '__package__',\n",
       " '__spec__',\n",
       " 'abs',\n",
       " 'all',\n",
       " 'any',\n",
       " 'ascii',\n",
       " 'bin',\n",
       " 'bool',\n",
       " 'bytearray',\n",
       " 'bytes',\n",
       " 'callable',\n",
       " 'chr',\n",
       " 'classmethod',\n",
       " 'compile',\n",
       " 'complex',\n",
       " 'copyright',\n",
       " 'credits',\n",
       " 'delattr',\n",
       " 'dict',\n",
       " 'dir',\n",
       " 'divmod',\n",
       " 'dreload',\n",
       " 'enumerate',\n",
       " 'eval',\n",
       " 'exec',\n",
       " 'filter',\n",
       " 'float',\n",
       " 'format',\n",
       " 'frozenset',\n",
       " 'get_ipython',\n",
       " 'getattr',\n",
       " 'globals',\n",
       " 'hasattr',\n",
       " 'hash',\n",
       " 'help',\n",
       " 'hex',\n",
       " 'id',\n",
       " 'input',\n",
       " 'int',\n",
       " 'isinstance',\n",
       " 'issubclass',\n",
       " 'iter',\n",
       " 'len',\n",
       " 'license',\n",
       " 'list',\n",
       " 'locals',\n",
       " 'map',\n",
       " 'max',\n",
       " 'memoryview',\n",
       " 'min',\n",
       " 'next',\n",
       " 'object',\n",
       " 'oct',\n",
       " 'open',\n",
       " 'ord',\n",
       " 'pow',\n",
       " 'print',\n",
       " 'property',\n",
       " 'range',\n",
       " 'repr',\n",
       " 'reversed',\n",
       " 'round',\n",
       " 'set',\n",
       " 'setattr',\n",
       " 'slice',\n",
       " 'sorted',\n",
       " 'staticmethod',\n",
       " 'str',\n",
       " 'sum',\n",
       " 'super',\n",
       " 'tuple',\n",
       " 'type',\n",
       " 'vars',\n",
       " 'zip']"
      ]
     },
     "execution_count": 94,
     "metadata": {},
     "output_type": "execute_result"
    }
   ],
   "source": [
    "# __builtins__ in Python 2.x\n",
    "\n",
    "import builtins # in Python 3.x\n",
    "dir(builtins)"
   ]
  },
  {
   "cell_type": "code",
   "execution_count": 1,
   "metadata": {
    "collapsed": false
   },
   "outputs": [
    {
     "ename": "SyntaxError",
     "evalue": "invalid syntax (<ipython-input-1-9519ea482a6d>, line 4)",
     "output_type": "error",
     "traceback": [
      "\u001b[1;36m  File \u001b[1;32m\"<ipython-input-1-9519ea482a6d>\"\u001b[1;36m, line \u001b[1;32m4\u001b[0m\n\u001b[1;33m    print = \"Print something\"   # Redefine built-in name \"print\"\u001b[0m\n\u001b[1;37m          ^\u001b[0m\n\u001b[1;31mSyntaxError\u001b[0m\u001b[1;31m:\u001b[0m invalid syntax\n"
     ]
    }
   ],
   "source": [
    "# Trap !\n",
    "\n",
    "def trap():\n",
    "    print = \"Print something\"   # Redefine built-in name \"print\"\n",
    "    print(\"function local scope\")\n",
    "\n",
    "print(\"module global scope\")\n",
    "trap()\n",
    "\n",
    "\n"
   ]
  },
  {
   "cell_type": "code",
   "execution_count": 5,
   "metadata": {
    "collapsed": false
   },
   "outputs": [
    {
     "name": "stdout",
     "output_type": "stream",
     "text": [
      "True\n"
     ]
    }
   ],
   "source": [
    "# in Python 2.X you could say __builtin__.True = False, to reset True to False for the entire Python process\n",
    "\n",
    "print bool(1)\n",
    "\n",
    "True = False\n",
    "\n",
    "if True:\n",
    "    print \"a\"\n",
    "\n"
   ]
  },
  {
   "cell_type": "code",
   "execution_count": null,
   "metadata": {
    "collapsed": false
   },
   "outputs": [],
   "source": [
    "X = 1       # Global scope\n",
    "\n",
    "def increment():\n",
    "    X = 3  # Local scope - inside function\n",
    "    X = X + 1\n",
    "    print('X inside function: ', X)\n",
    "\n",
    "increment()\n",
    "print('X outside function:', X)"
   ]
  },
  {
   "cell_type": "code",
   "execution_count": null,
   "metadata": {
    "collapsed": false
   },
   "outputs": [],
   "source": [
    "X = 1       # Global scope\n",
    "def increment():\n",
    "    X = X + 1      # UnboundLocalError: local variable 'X' referenced before assignment\n",
    "    print('X inside function: ', X)\n",
    "\n",
    "increment()\n",
    "print('X outside function:', X)"
   ]
  },
  {
   "cell_type": "code",
   "execution_count": null,
   "metadata": {
    "collapsed": false
   },
   "outputs": [],
   "source": [
    "X = 1\n",
    "def increment():\n",
    "    global X      #  we are using X from global scope\n",
    "    X = X + 1\n",
    "    print('X inside function: ', X)\n",
    "\n",
    "increment()\n",
    "print('X outside function:', X)"
   ]
  },
  {
   "cell_type": "code",
   "execution_count": null,
   "metadata": {
    "collapsed": false
   },
   "outputs": [],
   "source": [
    "# Global scope\n",
    "X = 99                # X and func assigned in module: global\n",
    "\n",
    "def func(Y):          # Y and Z assigned in function: locals\n",
    "    # Local scope\n",
    "    Z = X + Y         # X is a global\n",
    "    return Z\n",
    "\n",
    "func(1)               # func in module: result=100"
   ]
  },
  {
   "cell_type": "code",
   "execution_count": null,
   "metadata": {
    "collapsed": false
   },
   "outputs": [],
   "source": [
    "X = 99                   # Global scope name: not used\n",
    "\n",
    "def f1():\n",
    "    X = 88               # Enclosing def local\n",
    "    def f2():\n",
    "        print(X)         # Reference made in nested def\n",
    "    f2()\n",
    "\n",
    "f1()               "
   ]
  },
  {
   "cell_type": "markdown",
   "metadata": {},
   "source": [
    "### Creating own types - classes\n",
    "\n",
    "#### Class\n",
    "\n",
    "- A user-defined prototype for an object that defines a set of attributes that characterize any object of the class\n",
    "- The attributes are data members (class variables and instance variables) and methods, accessed via dot notation\n",
    "- Simply speaking: A coding structure used to implement new kinds of objects in Python\n",
    "- Classes are a kind of factory for generating instances\n",
    "- Classes are created with a new statement: the ```class```\n",
    "\n",
    "```python\n",
    "class MyClass:\n",
    "    #class body\n",
    "```\n",
    "\n",
    "\n",
    "#### Class variable\n",
    "\n",
    "- A variable that is shared by all instances of a class\n",
    "- Class variables are defined within a class but outside any of the class's methods\n",
    "- Class variables aren't used as frequently as instance variables are\n",
    "\n",
    "```python\n",
    "class MyClass:\n",
    "    shared_value = 100\n",
    "    \n",
    "MyClass.shared_value\n",
    "```\n",
    "\n",
    "\n",
    "#### Data member\n",
    "\n",
    "\n",
    "\n",
    "\n",
    "\n",
    "\n",
    "\n",
    "\n",
    "\n",
    "\n",
    "\n",
    "\n",
    "- A class variable or instance variable that holds data associated with a class and its objects\n",
    "\n",
    "```python\n",
    "class MyClass:\n",
    "    shared_value = 100\n",
    "    def __init__(self, a, b):\n",
    "        self.a = a\n",
    "        self.b = b\n",
    "        \n",
    "    def get_a(self):\n",
    "        return self.a\n",
    "```\n",
    "\n",
    "\n",
    "#### Function overloading\n",
    "\n",
    "- The assignment of more than one behavior to a particular function\n",
    "- The operation performed varies by the types of objects (arguments) involved\n",
    "\n",
    "```python\n",
    "class MyClass:\n",
    "\n",
    "    def __init__(self, a, b):\n",
    "        self.a = a\n",
    "        self.b = b\n",
    "        \n",
    "    def __init__(self, a, b, c): # python will invoke only this method\n",
    "        self.a = a\n",
    "        self.b = b\n",
    "        self.c = c\n",
    "\n",
    "```\n",
    "\n",
    "#### Instance variable (attribute)\n",
    "\n",
    "- A variable that is defined inside a method and belongs only to the current instance of a class\n",
    "- Assignments inside class statements make class attributes\n",
    "\n",
    "```python\n",
    "\n",
    "class MyClass:\n",
    "\n",
    "    def __init__(self, a, b):\n",
    "        self.a = a\n",
    "        self.b = b\n",
    "\n",
    "obj = MyClass(1, 2)\n",
    "obj.a\n",
    "obj.__dict__['a'] \n",
    "```\n",
    "\n",
    "\n",
    "\n",
    "#### Inheritance\n",
    "\n",
    "- The transfer of the characteristics of a class to other classes that are derived from it\n",
    "- Inheritance is based on attribute lookup in Python (in X.name expressions)\n",
    "- Multiple inheritance allowed (class may have more than one superclass above it in the class tree)\n",
    "\n",
    "Key ideas:\n",
    "- Superclasses are listed in parentheses in a class header e.g MyClass(A, B, C)\n",
    "- Classes inherit attributes from their superclasses\n",
    "- Instances inherit attributes from all accessible classes\n",
    "\n",
    "```python\n",
    "class A(object):\n",
    "    pass\n",
    "    \n",
    "class B(A):\n",
    "    pass\n",
    "\n",
    "```\n",
    "\n",
    "#### Instance\n",
    "\n",
    "- An individual object of a certain class\n",
    "- Instance objects are concrete items\n",
    "- Calling a class object like a function makes a new instance object\n",
    "- Each instance object inherits class attributes and gets its own namespace\n",
    "- Assignments to attributes of self in methods make per-instance attributes\n",
    "\n",
    "```python\n",
    "my_class_obj = MyClass(1, 2)\n",
    "\n",
    "my_class_obj.new_attribute = 3  # create (assign) new attribute to this particular instance only\n",
    "\n",
    "```\n",
    "\n",
    "\n",
    "#### Instantiation\n",
    "\n",
    "- The creation of an instance of a class\n",
    "\n",
    "\n",
    "#### Method\n",
    "\n",
    "- A special kind of function that is defined in a class definition\n",
    "\n",
    "```python\n",
    "class MyClass:\n",
    "\n",
    "    def method_1(self, a, b):\n",
    "        print(a, b)\n",
    "        \n",
    "    def method_2(self, a, b, c):\n",
    "        print(a, b, c)\n",
    "```\n",
    "\n",
    "\n",
    "#### Object\n",
    "\n",
    "- A unique instance of a data structure that's defined by its class\n",
    "- An object comprises both data members (class variables and instance variables) and methods\n",
    "\n",
    "\n",
    "#### Operator overloading\n",
    "\n",
    "- The assignment of more than one function to a particular operator\n",
    "\n",
    "\n",
    "Sources:\n",
    "- https://docs.python.org/2/tutorial/classes.html"
   ]
  },
  {
   "cell_type": "code",
   "execution_count": 42,
   "metadata": {
    "collapsed": false
   },
   "outputs": [
    {
     "name": "stdout",
     "output_type": "stream",
     "text": [
      "Guido\n",
      "Van Rossum\n",
      "Person\n",
      "Person\n",
      "iside method Guido Van Rossum\n",
      "Guido Van Rossum\n"
     ]
    }
   ],
   "source": [
    "class Person(object):\n",
    "    label = 'Person'\n",
    "    def __init__(self, name, surname):\n",
    "        self.name = name\n",
    "        self.surname = surname\n",
    "        \n",
    "    def name_surname(self):\n",
    "        print \"iside method\", self.name + \" \" + self.surname\n",
    "      \n",
    "    \n",
    "    def __str__(self):\n",
    "        return self.name + \" \" + self.surname\n",
    "    \n",
    "    def __eq__(self, other):\n",
    "        return self.name > other.name\n",
    "    \n",
    "    def __hash__(self):\n",
    "        return hash(self.name)\n",
    "    \n",
    "        \n",
    "\n",
    "p = Person(name=\"Guido\", surname=\"Van Rossum\")\n",
    "print(p.name)\n",
    "print(p.surname)\n",
    "print(p.label)\n",
    "print(Person.label)\n",
    "\n",
    "p.name_surname()\n",
    "\n",
    "print p\n",
    "\n",
    "\n",
    "#print(p.__dict__['name'])"
   ]
  },
  {
   "cell_type": "code",
   "execution_count": 43,
   "metadata": {
    "collapsed": false
   },
   "outputs": [
    {
     "name": "stdout",
     "output_type": "stream",
     "text": [
      "set([<__main__.Person object at 0x7fef68c76e50>, <__main__.Person object at 0x7fef68c766d0>])\n"
     ]
    }
   ],
   "source": [
    "p1 = Person(name=\"Guido\", surname=\"Van Rossum\")\n",
    "p2 = Person(name=\"Maciej\", surname=\"Python\")\n",
    "\n",
    "p1 > p2\n",
    "\n",
    "s = set([p1, p2])\n",
    "print s"
   ]
  },
  {
   "cell_type": "markdown",
   "metadata": {},
   "source": [
    "### Privacy\n",
    "\n",
    "- In Python, there is no way to create private variables like there is with the private modifier in Java\n",
    "- What we have in Python is a simple mechanism to prevent accidental overwriting of a “private” attribute"
   ]
  },
  {
   "cell_type": "code",
   "execution_count": 26,
   "metadata": {
    "collapsed": false
   },
   "outputs": [
    {
     "name": "stdout",
     "output_type": "stream",
     "text": [
      "16500\n",
      "('job grade :', 10)\n"
     ]
    }
   ],
   "source": [
    "class Employer(object):\n",
    "    def __init__(self, bonus):\n",
    "        self.job_grade = 10\n",
    "        self.__salary = 1500 + (bonus * self.job_grade)\n",
    "\n",
    "employer_1 = Employer(bonus=1500)\n",
    "print employer_1.salary\n",
    "#employer_1.job_grade = 100\n",
    "print(\"job grade :\", employer_1.job_grade)\n",
    "\n",
    "#print employer_1.__salary \n",
    "\n",
    "#print(\"salary    :\", employer_1.__salary)"
   ]
  },
  {
   "cell_type": "code",
   "execution_count": 19,
   "metadata": {
    "collapsed": false
   },
   "outputs": [
    {
     "name": "stdout",
     "output_type": "stream",
     "text": [
      "['_Employer__salary', '__class__', '__delattr__', '__dict__', '__doc__', '__format__', '__getattribute__', '__hash__', '__init__', '__module__', '__new__', '__reduce__', '__reduce_ex__', '__repr__', '__setattr__', '__sizeof__', '__str__', '__subclasshook__', '__weakref__', 'job_grade']\n",
      "16500\n"
     ]
    }
   ],
   "source": [
    "print dir(employer_1)\n",
    "salary = employer_1._Employer__salary\n",
    "print(salary)"
   ]
  },
  {
   "cell_type": "markdown",
   "metadata": {},
   "source": [
    "### Special methods\n",
    "\n",
    "- Methods named with double underscores (__X__) are special hooks\n",
    "- Such methods are called automatically when instances appear in built-in operations\n",
    "    - Special methods are meant to be called by the Python interpreter, and not by you\n",
    "    - Don't write obj.\\__len\\__(), but len(obj) - Python will call \\__len\\__() method behind the scenes\n",
    "- Classes may override most built-in type operations\n",
    "\n",
    "Some examples:\n",
    "\n",
    "* \\__init\\__()\n",
    "* \\__new\\__()\n",
    "* \\__repr\\__()\n",
    "* \\__len\\__()\n",
    "* \\__str\\__()\n",
    "* \\__eq\\__()\n",
    "* \\__hash\\__()\n",
    "* \\__getitem\\__()\n",
    "* \\__add\\__()\n",
    "\n",
    "and many many more. Visit http://www.rafekettler.com/magicmethods.html to get more information."
   ]
  },
  {
   "cell_type": "code",
   "execution_count": null,
   "metadata": {
    "collapsed": false
   },
   "outputs": [],
   "source": [
    "class NewStyle(object): pass\n",
    "class OldStyle: pass"
   ]
  },
  {
   "cell_type": "code",
   "execution_count": null,
   "metadata": {
    "collapsed": false
   },
   "outputs": [],
   "source": [
    "class Employee(object):\n",
    "    static_counter = 0\n",
    "    \n",
    "    def __init__(self, name, surname):\n",
    "        self.name = name\n",
    "        self.surname = surname\n",
    "        self.salary = 1500\n",
    "        self.__job_grade = 1\n",
    "        Employee.static_counter += 1\n",
    "    \n",
    "    def get_name(self):\n",
    "        return self.name\n",
    "    \n",
    "    def get_salary(self):\n",
    "        return self.salary\n",
    "    \n",
    "    def __str__(self):\n",
    "        return \"{name}{surname} get {salary} PLN\".format(\n",
    "            name=self.name, surname=self.surname, salary=self.salary)\n",
    "    \n",
    "    @classmethod\n",
    "    def get_counter(cls):\n",
    "        return cls.static_counter\n",
    "    \n",
    "  \n",
    "employee = Employee('Lucky', 'Boy')\n",
    "\n",
    "employee.name = \"a\"\n",
    "employee.surname = \"b\"\n",
    "employee.new_attribute = \"new attribute\"\n",
    "\n",
    "print(employee.new_attribute)\n",
    "\n",
    "print(employee.get_name())\n",
    "\n",
    "print(employee.get_salary())\n",
    "\n",
    "print(employee)\n",
    "\n",
    "print(employee.get_counter())\n",
    "\n",
    "print(Employee.get_counter())"
   ]
  },
  {
   "cell_type": "code",
   "execution_count": null,
   "metadata": {
    "collapsed": false
   },
   "outputs": [],
   "source": [
    "class B(object): pass\n",
    "\n",
    "class A(object):\n",
    "    def __init__(self): # first init\n",
    "        print(\"A\")\n",
    "    def __init__(self): # second init\n",
    "        print(\"B\")\n",
    "\n",
    "a = A()  # second init was used"
   ]
  },
  {
   "cell_type": "code",
   "execution_count": null,
   "metadata": {
    "collapsed": false
   },
   "outputs": [],
   "source": [
    "class Figure(object):\n",
    "    __slots__ = ['width', 'height']\n",
    "\n",
    "f = Figure()\n",
    "f.width = 10\n",
    "print(f.width)\n",
    "\n",
    "f.size = 10  # AttributeError: 'Figure' object has no attribute 'size'"
   ]
  },
  {
   "cell_type": "code",
   "execution_count": null,
   "metadata": {
    "collapsed": false
   },
   "outputs": [],
   "source": [
    "# Class inheritance\n",
    "\n",
    "class Pet(object):\n",
    "    def __init__(self, name, species):\n",
    "        self.name = name\n",
    "        self.species = species \n",
    "    def get_name(self):\n",
    "        return self.name\n",
    "    def get_species(self):\n",
    "        return self.species\n",
    "    \n",
    "class Dog(Pet):\n",
    "    def __init__(self, name, hates_cat=True):\n",
    "        Pet.__init__(self, name, 'Dog')\n",
    "        #super(Dog, self).__init__(name, 'Dog')\n",
    "        self.hates_cat = hates_cat\n",
    "    def hates_cat(self):\n",
    "        return self.hates_cat\n",
    "    def get_species(self):\n",
    "        return 'Doggggg'\n",
    "    \n",
    "pet = Pet('Mister', 'Cat')\n",
    "print(pet.get_species())\n",
    "\n",
    "dog = Dog('Mister', hates_cat=True)\n",
    "print(dog.get_species())"
   ]
  },
  {
   "cell_type": "code",
   "execution_count": null,
   "metadata": {
    "collapsed": true
   },
   "outputs": [],
   "source": []
  },
  {
   "cell_type": "code",
   "execution_count": null,
   "metadata": {
    "collapsed": false
   },
   "outputs": [],
   "source": [
    "text = \"\"\"\n",
    "Beautiful is better than ugly.\n",
    "Explicit is better than implicit.\n",
    "Simple is better than complex.\n",
    "Complex is better than complicated.\n",
    "Flat is better than nested.\n",
    "Sparse is better than dense.\n",
    "Readability counts.\n",
    "Special cases aren't special enough to break the rules.\n",
    "\"\"\"\n",
    "\n",
    "import re # find more information here: https://docs.python.org/2/library/re.html \n",
    "\n",
    "regex = re.compile('^\\w+', re.MULTILINE) # regular expression\n",
    "\n",
    "class TextFilter(object):\n",
    "    def __init__(self, text): \n",
    "        self.words = regex.findall(text)\n",
    "    def __getitem__(self, index):\n",
    "        return self.words[index]\n",
    "    def __repr__(self):\n",
    "        return str(self.words)\n",
    "    def __len__(self):\n",
    "        return len(self.words)\n",
    "\n",
    "filtered_text = TextFilter(text)\n",
    "\n",
    "print(filtered_text)\n",
    "print(\"number of list elements: \", len(filtered_text))\n",
    "print(\"word in list: \", 'Simple' in filtered_text)\n",
    "print(\"slicing: \", filtered_text[2:4])\n",
    "\n",
    "for word in filtered_text:\n",
    "    print(word)"
   ]
  },
  {
   "cell_type": "code",
   "execution_count": null,
   "metadata": {
    "collapsed": false
   },
   "outputs": [],
   "source": [
    "# We can do it even much simpler ...\n",
    "\n",
    "filtered_text = regex.findall(text)\n",
    "print(filtered_text)"
   ]
  },
  {
   "cell_type": "code",
   "execution_count": null,
   "metadata": {
    "collapsed": true
   },
   "outputs": [],
   "source": []
  }
 ],
 "metadata": {
  "kernelspec": {
   "display_name": "Python 2",
   "language": "python",
   "name": "python2"
  },
  "language_info": {
   "codemirror_mode": {
    "name": "ipython",
    "version": 2
   },
   "file_extension": ".py",
   "mimetype": "text/x-python",
   "name": "python",
   "nbconvert_exporter": "python",
   "pygments_lexer": "ipython2",
   "version": "2.7.10"
  }
 },
 "nbformat": 4,
 "nbformat_minor": 0
}
